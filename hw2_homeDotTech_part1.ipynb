{
  "nbformat": 4,
  "nbformat_minor": 0,
  "metadata": {
    "colab": {
      "name": "hw2_homeDotTech_part1.ipynb",
      "version": "0.3.2",
      "provenance": [],
      "collapsed_sections": [],
      "include_colab_link": true
    },
    "kernelspec": {
      "name": "python3",
      "display_name": "Python 3"
    }
  },
  "cells": [
    {
      "cell_type": "markdown",
      "metadata": {
        "id": "view-in-github",
        "colab_type": "text"
      },
      "source": [
        "<a href=\"https://colab.research.google.com/github/Pataweepr/applyML_vistec_2019/blob/master/hw2_homeDotTech_part1.ipynb\" target=\"_parent\"><img src=\"https://colab.research.google.com/assets/colab-badge.svg\" alt=\"Open In Colab\"/></a>"
      ]
    },
    {
      "metadata": {
        "id": "OcrnkyvogePf",
        "colab_type": "text"
      },
      "cell_type": "markdown",
      "source": [
        "#Home dot tech \n",
        "\n",
        "ข้อมูลนี้เป็นข้อมูลเกี่ยวกับ ที่อยู่ในประเทศไทย \n",
        "\n",
        "พวกเราจะใช้ file จาก google drive ซึ่งต้องใช้ pyDrive\n",
        "\n",
        "\n",
        "สามารถ อ่านการใช้งาน pydrive เบื้องต้นได้ตามนี้ \n",
        "\n",
        "[example pyDrive](https://colab.research.google.com/drive/1pIl9zCObPc_8BLivb7FRsjYBhKGWK9eL)\n",
        "\n",
        "[link download file](https://drive.google.com/file/d/1X-cacRIF30acXyKotSmDZu5qc8Gs84Wm/view?usp=sharing)"
      ]
    },
    {
      "metadata": {
        "id": "LyXd3PeVaqIQ",
        "colab_type": "code",
        "cellView": "both",
        "colab": {
          "base_uri": "https://localhost:8080/",
          "height": 51
        },
        "outputId": "210139df-468d-4319-8184-872fb25577ee"
      },
      "cell_type": "code",
      "source": [
        "!pip install -U -q PyDrive\n",
        "\n",
        "from pydrive.auth import GoogleAuth\n",
        "from pydrive.drive import GoogleDrive\n",
        "from google.colab import auth\n",
        "from oauth2client.client import GoogleCredentials\n",
        "\n",
        "# 1. Authenticate and create the PyDrive client.\n",
        "auth.authenticate_user()\n",
        "gauth = GoogleAuth()\n",
        "gauth.credentials = GoogleCredentials.get_application_default()\n",
        "drive = GoogleDrive(gauth)\n",
        "\n"
      ],
      "execution_count": 1,
      "outputs": [
        {
          "output_type": "stream",
          "text": [
            "\u001b[?25l\r\u001b[K    1% |▎                               | 10kB 19.7MB/s eta 0:00:01\r\u001b[K    2% |▋                               | 20kB 3.3MB/s eta 0:00:01\r\u001b[K    3% |█                               | 30kB 4.7MB/s eta 0:00:01\r\u001b[K    4% |█▎                              | 40kB 3.1MB/s eta 0:00:01\r\u001b[K    5% |█▋                              | 51kB 3.8MB/s eta 0:00:01\r\u001b[K    6% |██                              | 61kB 4.5MB/s eta 0:00:01\r\u001b[K    7% |██▎                             | 71kB 5.2MB/s eta 0:00:01\r\u001b[K    8% |██▋                             | 81kB 5.8MB/s eta 0:00:01\r\u001b[K    9% |███                             | 92kB 6.5MB/s eta 0:00:01\r\u001b[K    10% |███▎                            | 102kB 5.1MB/s eta 0:00:01\r\u001b[K    11% |███▋                            | 112kB 5.1MB/s eta 0:00:01\r\u001b[K    12% |████                            | 122kB 7.0MB/s eta 0:00:01\r\u001b[K    13% |████▎                           | 133kB 7.0MB/s eta 0:00:01\r\u001b[K    14% |████▋                           | 143kB 12.7MB/s eta 0:00:01\r\u001b[K    15% |█████                           | 153kB 12.9MB/s eta 0:00:01\r\u001b[K    16% |█████▎                          | 163kB 12.9MB/s eta 0:00:01\r\u001b[K    17% |█████▋                          | 174kB 12.7MB/s eta 0:00:01\r\u001b[K    18% |██████                          | 184kB 12.8MB/s eta 0:00:01\r\u001b[K    19% |██████▎                         | 194kB 12.8MB/s eta 0:00:01\r\u001b[K    20% |██████▋                         | 204kB 43.1MB/s eta 0:00:01\r\u001b[K    21% |███████                         | 215kB 15.2MB/s eta 0:00:01\r\u001b[K    22% |███████▎                        | 225kB 15.1MB/s eta 0:00:01\r\u001b[K    23% |███████▋                        | 235kB 15.3MB/s eta 0:00:01\r\u001b[K    24% |████████                        | 245kB 15.2MB/s eta 0:00:01\r\u001b[K    25% |████████▎                       | 256kB 15.0MB/s eta 0:00:01\r\u001b[K    26% |████████▋                       | 266kB 14.3MB/s eta 0:00:01\r\u001b[K    27% |█████████                       | 276kB 14.8MB/s eta 0:00:01\r\u001b[K    29% |█████████▎                      | 286kB 14.8MB/s eta 0:00:01\r\u001b[K    30% |█████████▋                      | 296kB 14.8MB/s eta 0:00:01\r\u001b[K    31% |██████████                      | 307kB 15.2MB/s eta 0:00:01\r\u001b[K    32% |██████████▎                     | 317kB 46.7MB/s eta 0:00:01\r\u001b[K    33% |██████████▋                     | 327kB 48.2MB/s eta 0:00:01\r\u001b[K    34% |███████████                     | 337kB 48.5MB/s eta 0:00:01\r\u001b[K    35% |███████████▎                    | 348kB 44.2MB/s eta 0:00:01\r\u001b[K    36% |███████████▋                    | 358kB 45.4MB/s eta 0:00:01\r\u001b[K    37% |████████████                    | 368kB 53.6MB/s eta 0:00:01\r\u001b[K    38% |████████████▎                   | 378kB 53.2MB/s eta 0:00:01\r\u001b[K    39% |████████████▋                   | 389kB 53.5MB/s eta 0:00:01\r\u001b[K    40% |█████████████                   | 399kB 17.6MB/s eta 0:00:01\r\u001b[K    41% |█████████████▎                  | 409kB 17.1MB/s eta 0:00:01\r\u001b[K    42% |█████████████▋                  | 419kB 17.0MB/s eta 0:00:01\r\u001b[K    43% |██████████████                  | 430kB 17.0MB/s eta 0:00:01\r\u001b[K    44% |██████████████▎                 | 440kB 17.0MB/s eta 0:00:01\r\u001b[K    45% |██████████████▋                 | 450kB 17.2MB/s eta 0:00:01\r\u001b[K    46% |███████████████                 | 460kB 17.2MB/s eta 0:00:01\r\u001b[K    47% |███████████████▎                | 471kB 17.2MB/s eta 0:00:01\r\u001b[K    48% |███████████████▋                | 481kB 17.3MB/s eta 0:00:01\r\u001b[K    49% |████████████████                | 491kB 17.2MB/s eta 0:00:01\r\u001b[K    50% |████████████████▎               | 501kB 48.8MB/s eta 0:00:01\r\u001b[K    51% |████████████████▋               | 512kB 46.3MB/s eta 0:00:01\r\u001b[K    52% |█████████████████               | 522kB 46.4MB/s eta 0:00:01\r\u001b[K    53% |█████████████████▎              | 532kB 46.7MB/s eta 0:00:01\r\u001b[K    54% |█████████████████▋              | 542kB 45.0MB/s eta 0:00:01\r\u001b[K    55% |██████████████████              | 552kB 47.9MB/s eta 0:00:01\r\u001b[K    57% |██████████████████▎             | 563kB 46.0MB/s eta 0:00:01\r\u001b[K    58% |██████████████████▋             | 573kB 45.0MB/s eta 0:00:01\r\u001b[K    59% |███████████████████             | 583kB 44.0MB/s eta 0:00:01\r\u001b[K    60% |███████████████████▎            | 593kB 42.8MB/s eta 0:00:01\r\u001b[K    61% |███████████████████▋            | 604kB 42.3MB/s eta 0:00:01\r\u001b[K    62% |████████████████████            | 614kB 45.1MB/s eta 0:00:01\r\u001b[K    63% |████████████████████▎           | 624kB 44.6MB/s eta 0:00:01\r\u001b[K    64% |████████████████████▋           | 634kB 44.2MB/s eta 0:00:01\r\u001b[K    65% |█████████████████████           | 645kB 27.6MB/s eta 0:00:01\r\u001b[K    66% |█████████████████████▎          | 655kB 26.9MB/s eta 0:00:01\r\u001b[K    67% |█████████████████████▋          | 665kB 23.8MB/s eta 0:00:01\r\u001b[K    68% |██████████████████████          | 675kB 23.9MB/s eta 0:00:01\r\u001b[K    69% |██████████████████████▎         | 686kB 24.1MB/s eta 0:00:01\r\u001b[K    70% |██████████████████████▋         | 696kB 24.6MB/s eta 0:00:01\r\u001b[K    71% |███████████████████████         | 706kB 24.9MB/s eta 0:00:01\r\u001b[K    72% |███████████████████████▎        | 716kB 25.5MB/s eta 0:00:01\r\u001b[K    73% |███████████████████████▋        | 727kB 25.9MB/s eta 0:00:01\r\u001b[K    74% |████████████████████████        | 737kB 26.1MB/s eta 0:00:01\r\u001b[K    75% |████████████████████████▎       | 747kB 41.6MB/s eta 0:00:01\r\u001b[K    76% |████████████████████████▋       | 757kB 43.0MB/s eta 0:00:01\r\u001b[K    77% |████████████████████████▉       | 768kB 57.1MB/s eta 0:00:01\r\u001b[K    78% |█████████████████████████▏      | 778kB 58.2MB/s eta 0:00:01\r\u001b[K    79% |█████████████████████████▌      | 788kB 57.4MB/s eta 0:00:01\r\u001b[K    80% |█████████████████████████▉      | 798kB 57.1MB/s eta 0:00:01\r\u001b[K    81% |██████████████████████████▏     | 808kB 56.8MB/s eta 0:00:01\r\u001b[K    82% |██████████████████████████▌     | 819kB 55.1MB/s eta 0:00:01\r\u001b[K    83% |██████████████████████████▉     | 829kB 55.5MB/s eta 0:00:01\r\u001b[K    85% |███████████████████████████▏    | 839kB 56.2MB/s eta 0:00:01\r\u001b[K    86% |███████████████████████████▌    | 849kB 56.2MB/s eta 0:00:01\r\u001b[K    87% |███████████████████████████▉    | 860kB 49.1MB/s eta 0:00:01\r\u001b[K    88% |████████████████████████████▏   | 870kB 49.1MB/s eta 0:00:01\r\u001b[K    89% |████████████████████████████▌   | 880kB 50.2MB/s eta 0:00:01\r\u001b[K    90% |████████████████████████████▉   | 890kB 51.1MB/s eta 0:00:01\r\u001b[K    91% |█████████████████████████████▏  | 901kB 51.4MB/s eta 0:00:01\r\u001b[K    92% |█████████████████████████████▌  | 911kB 52.3MB/s eta 0:00:01\r\u001b[K    93% |█████████████████████████████▉  | 921kB 52.8MB/s eta 0:00:01\r\u001b[K    94% |██████████████████████████████▏ | 931kB 53.1MB/s eta 0:00:01\r\u001b[K    95% |██████████████████████████████▌ | 942kB 53.2MB/s eta 0:00:01\r\u001b[K    96% |██████████████████████████████▉ | 952kB 52.9MB/s eta 0:00:01\r\u001b[K    97% |███████████████████████████████▏| 962kB 63.5MB/s eta 0:00:01\r\u001b[K    98% |███████████████████████████████▌| 972kB 62.8MB/s eta 0:00:01\r\u001b[K    99% |███████████████████████████████▉| 983kB 60.2MB/s eta 0:00:01\r\u001b[K    100% |████████████████████████████████| 993kB 20.3MB/s \n",
            "\u001b[?25h  Building wheel for PyDrive (setup.py) ... \u001b[?25ldone\n",
            "\u001b[?25h"
          ],
          "name": "stdout"
        }
      ]
    },
    {
      "metadata": {
        "id": "ByDiTugkD3PF",
        "colab_type": "code",
        "colab": {}
      },
      "cell_type": "code",
      "source": [
        "import numpy as np\n",
        "import pandas as pd\n",
        "import matplotlib.pyplot as plt\n",
        "from sklearn.cluster import KMeans\n",
        "from sklearn.neighbors import NearestNeighbors\n",
        "from scipy.stats import mode"
      ],
      "execution_count": 0,
      "outputs": []
    },
    {
      "metadata": {
        "id": "Go7lnAxN9XZP",
        "colab_type": "text"
      },
      "cell_type": "markdown",
      "source": [
        "คุณควร run code ตัวของ example เพื่อทราบถึง file id เพราะว่า file id ของแต่ละคนนั้นไม่เหมือนกันน่ะครับ  [example pyDrive](https://colab.research.google.com/drive/1pIl9zCObPc_8BLivb7FRsjYBhKGWK9eL)\n",
        "\n",
        "\n",
        "###FILE_ID!!!\n",
        "\n",
        "<pre>   \n",
        "title: userLog_201801_201802_for_participants.csv, id: 19sNUEOYeqU33EWBMRKq65YydpgLQoppZ\n",
        "title: project_main.csv, id: 1iRz0edC_tjIk0Ge33fKLZYN1ciXxup-0\n",
        "title: project_facility.csv, id: 13jUinwDsk9sYvoMOBaTMfTM11912CvdO\n",
        "</pre>\n"
      ]
    },
    {
      "metadata": {
        "id": "rUSLT2jjvVQG",
        "colab_type": "text"
      },
      "cell_type": "markdown",
      "source": [
        "เนื่องจากข้อมูลใน file เป็น รูปแบบการแยกข้อมูล ใน column แยกด้วย ';' แต่ว่ามันยากที่จัดการ เลยเขียน function เพื่ออ่าน file ดังนี้"
      ]
    },
    {
      "metadata": {
        "id": "QFufCvqODOfy",
        "colab_type": "code",
        "colab": {}
      },
      "cell_type": "code",
      "source": [
        "def readDataFromDrive_HDT_single_col(file_id):\n",
        "  # file_id is str\n",
        "  data_downloaded = drive.CreateFile({'id': file_id })\n",
        "  data_downloaded.GetContentFile('readCsvFile.csv')\n",
        "  # raw_data = pd.read_csv('readCsvFile.csv')\n",
        "  raw_data = pd.read_csv('readCsvFile.csv',delimiter= ';')\n",
        "\n",
        "  print('#########################################################################################################################')\n",
        "  return raw_data;\n",
        "  \n",
        "def readDataFromDrive_HDT(file_id):\n",
        "  # file_id is str\n",
        "  data_downloaded = drive.CreateFile({'id': file_id })\n",
        "  data_downloaded.GetContentFile('readCsvFile.csv')\n",
        "  raw_data = pd.read_csv('readCsvFile.csv')\n",
        "  print(raw_data.dtypes)\n",
        "  print('-------------- NA DATA ------------------')\n",
        "  for name_col in raw_data.columns:\n",
        "    print(name_col,'null :',raw_data[name_col].isnull().values.any())\n",
        "  print('#########################################################################################################################')\n",
        "  return raw_data;"
      ],
      "execution_count": 0,
      "outputs": []
    },
    {
      "metadata": {
        "id": "y0PAA0zGwcij",
        "colab_type": "text"
      },
      "cell_type": "markdown",
      "source": [
        "file ที่เราจะเลือกใช้\n",
        "\n",
        "* userLog\n",
        "* project_main\n",
        "* project_facility\n",
        "\n",
        "\n",
        "userLog  มันการเป็นเก็บ log ของ user ทั้งหมดที่เข้ามาในระบบ ว่า user เข้าผ่านอุปกรณื อะไรบ้างแล้วเข้าไปดูโปรเจคไหน\n",
        "\n",
        "project_main เป็นการบอกรายละเอียดแต่ละ project ว่ามีข้อมูลอะไรบ้าง เกี่ยวกับตำแหน่ง หรือ ตัวของ ราคา\n",
        "\n",
        "project_facility บอก facility ของแต่ละโปรคเจคว่าเป็นอย่างไร\n",
        "\n",
        "\n",
        "\n"
      ]
    },
    {
      "metadata": {
        "id": "roD4K39il3aP",
        "colab_type": "text"
      },
      "cell_type": "markdown",
      "source": [
        "# TODO#1: เปลี่ยนข้อมูลเป็นตัวเลข\n",
        "\n",
        "ข้อมูบบที่เราจะพิจารณาต่อไปนี้เป็นข้อมูล"
      ]
    },
    {
      "metadata": {
        "id": "8Wc1TrjKxahD",
        "colab_type": "code",
        "outputId": "b262614a-6fd6-4d64-c4a3-8f2ae91403e1",
        "colab": {
          "base_uri": "https://localhost:8080/",
          "height": 428
        }
      },
      "cell_type": "code",
      "source": [
        "print('project_main')\n",
        "project_main = readDataFromDrive_HDT_single_col('1iRz0edC_tjIk0Ge33fKLZYN1ciXxup-0')  \n",
        "project_main = project_main.loc[project_main['province_id'] == 10]\n",
        "print(project_main.shape)\n",
        "project_main = project_main.drop(columns=['project_land_size_ngan', 'project_land_size_wa'])\n",
        "project_main.loc[project_main[\"project_status\"] == \"A\", \"project_status\"] = 1\n",
        "project_main.loc[project_main[\"project_status\"] == \"U\", \"project_status\"] = 0\n",
        "project_main = project_main.convert_objects(convert_numeric=True)\n",
        "project_main.head()"
      ],
      "execution_count": 4,
      "outputs": [
        {
          "output_type": "stream",
          "text": [
            "project_main\n",
            "#########################################################################################################################\n",
            "(1775, 18)\n"
          ],
          "name": "stdout"
        },
        {
          "output_type": "stream",
          "text": [
            "/usr/local/lib/python3.6/dist-packages/ipykernel_launcher.py:8: FutureWarning: convert_objects is deprecated.  To re-infer data dtypes for object columns, use DataFrame.infer_objects()\n",
            "For all other conversions use the data-type specific converters pd.to_datetime, pd.to_timedelta and pd.to_numeric.\n",
            "  \n"
          ],
          "name": "stderr"
        },
        {
          "output_type": "execute_result",
          "data": {
            "text/html": [
              "<div>\n",
              "<style scoped>\n",
              "    .dataframe tbody tr th:only-of-type {\n",
              "        vertical-align: middle;\n",
              "    }\n",
              "\n",
              "    .dataframe tbody tr th {\n",
              "        vertical-align: top;\n",
              "    }\n",
              "\n",
              "    .dataframe thead th {\n",
              "        text-align: right;\n",
              "    }\n",
              "</style>\n",
              "<table border=\"1\" class=\"dataframe\">\n",
              "  <thead>\n",
              "    <tr style=\"text-align: right;\">\n",
              "      <th></th>\n",
              "      <th>project_id</th>\n",
              "      <th>developer_id</th>\n",
              "      <th>brand_id</th>\n",
              "      <th>project_name_th</th>\n",
              "      <th>project_name_en</th>\n",
              "      <th>district_id</th>\n",
              "      <th>province_id</th>\n",
              "      <th>lat</th>\n",
              "      <th>lon</th>\n",
              "      <th>project_land_size_rai</th>\n",
              "      <th>total_unit</th>\n",
              "      <th>percent_car_parking</th>\n",
              "      <th>starting_price</th>\n",
              "      <th>highest_price</th>\n",
              "      <th>project_status</th>\n",
              "      <th>created_at</th>\n",
              "    </tr>\n",
              "  </thead>\n",
              "  <tbody>\n",
              "    <tr>\n",
              "      <th>0</th>\n",
              "      <td>44</td>\n",
              "      <td>140786</td>\n",
              "      <td>0.0</td>\n",
              "      <td>พาร์ควิลล์ 3</td>\n",
              "      <td>Parkville 3</td>\n",
              "      <td>1046.0</td>\n",
              "      <td>10</td>\n",
              "      <td>13.891719</td>\n",
              "      <td>100.722099</td>\n",
              "      <td>54</td>\n",
              "      <td>NaN</td>\n",
              "      <td>NaN</td>\n",
              "      <td>3500000.0</td>\n",
              "      <td>3862000.0</td>\n",
              "      <td>1.0</td>\n",
              "      <td>2011-01-14T18:40:12.117+0700</td>\n",
              "    </tr>\n",
              "    <tr>\n",
              "      <th>1</th>\n",
              "      <td>24</td>\n",
              "      <td>1032</td>\n",
              "      <td>0.0</td>\n",
              "      <td>สัมมากร นิมิตใหม่</td>\n",
              "      <td>Sammakorn Nimitmai</td>\n",
              "      <td>1046.0</td>\n",
              "      <td>10</td>\n",
              "      <td>13.876590</td>\n",
              "      <td>100.731927</td>\n",
              "      <td>154</td>\n",
              "      <td>NaN</td>\n",
              "      <td>NaN</td>\n",
              "      <td>4590000.0</td>\n",
              "      <td>NaN</td>\n",
              "      <td>0.0</td>\n",
              "      <td>2011-02-24T21:43:59.297+0700</td>\n",
              "    </tr>\n",
              "    <tr>\n",
              "      <th>7</th>\n",
              "      <td>208</td>\n",
              "      <td>13323</td>\n",
              "      <td>NaN</td>\n",
              "      <td>ลิฟวิ่งนารา รามคำแหง-สุวรรณภูมิ</td>\n",
              "      <td>LIVING NARA RAMKHAMHAENG-SUVARNABHUMI</td>\n",
              "      <td>1011.0</td>\n",
              "      <td>10</td>\n",
              "      <td>13.769810</td>\n",
              "      <td>100.722040</td>\n",
              "      <td>44</td>\n",
              "      <td>201.0</td>\n",
              "      <td>NaN</td>\n",
              "      <td>3500000.0</td>\n",
              "      <td>7600000.0</td>\n",
              "      <td>0.0</td>\n",
              "      <td>2010-07-02T07:00:00.000+0700</td>\n",
              "    </tr>\n",
              "    <tr>\n",
              "      <th>8</th>\n",
              "      <td>228</td>\n",
              "      <td>6772</td>\n",
              "      <td>0.0</td>\n",
              "      <td>เค.ซี.รามอินทรา 5 (พระยาสุเรนทร์)</td>\n",
              "      <td>K.C. RAMINTRA 5</td>\n",
              "      <td>1046.0</td>\n",
              "      <td>10</td>\n",
              "      <td>13.862623</td>\n",
              "      <td>100.695135</td>\n",
              "      <td>34</td>\n",
              "      <td>NaN</td>\n",
              "      <td>NaN</td>\n",
              "      <td>1810000.0</td>\n",
              "      <td>NaN</td>\n",
              "      <td>0.0</td>\n",
              "      <td>2010-12-16T18:51:42.173+0700</td>\n",
              "    </tr>\n",
              "    <tr>\n",
              "      <th>11</th>\n",
              "      <td>982</td>\n",
              "      <td>12136</td>\n",
              "      <td>979.0</td>\n",
              "      <td>อนาวิลล์ สุวรรณภูมิ</td>\n",
              "      <td>Anaville Suvarnabhumi</td>\n",
              "      <td>1011.0</td>\n",
              "      <td>10</td>\n",
              "      <td>13.763348</td>\n",
              "      <td>100.803434</td>\n",
              "      <td>131</td>\n",
              "      <td>NaN</td>\n",
              "      <td>NaN</td>\n",
              "      <td>4300000.0</td>\n",
              "      <td>NaN</td>\n",
              "      <td>1.0</td>\n",
              "      <td>2011-01-17T22:55:47.317+0700</td>\n",
              "    </tr>\n",
              "  </tbody>\n",
              "</table>\n",
              "</div>"
            ],
            "text/plain": [
              "    project_id  developer_id  brand_id                    project_name_th  \\\n",
              "0           44        140786       0.0                       พาร์ควิลล์ 3   \n",
              "1           24          1032       0.0                  สัมมากร นิมิตใหม่   \n",
              "7          208         13323       NaN    ลิฟวิ่งนารา รามคำแหง-สุวรรณภูมิ   \n",
              "8          228          6772       0.0  เค.ซี.รามอินทรา 5 (พระยาสุเรนทร์)   \n",
              "11         982         12136     979.0                อนาวิลล์ สุวรรณภูมิ   \n",
              "\n",
              "                          project_name_en  district_id  province_id  \\\n",
              "0                             Parkville 3       1046.0           10   \n",
              "1                      Sammakorn Nimitmai       1046.0           10   \n",
              "7   LIVING NARA RAMKHAMHAENG-SUVARNABHUMI       1011.0           10   \n",
              "8                         K.C. RAMINTRA 5       1046.0           10   \n",
              "11                  Anaville Suvarnabhumi       1011.0           10   \n",
              "\n",
              "          lat         lon  project_land_size_rai  total_unit  \\\n",
              "0   13.891719  100.722099                     54         NaN   \n",
              "1   13.876590  100.731927                    154         NaN   \n",
              "7   13.769810  100.722040                     44       201.0   \n",
              "8   13.862623  100.695135                     34         NaN   \n",
              "11  13.763348  100.803434                    131         NaN   \n",
              "\n",
              "    percent_car_parking  starting_price  highest_price  project_status  \\\n",
              "0                   NaN       3500000.0      3862000.0             1.0   \n",
              "1                   NaN       4590000.0            NaN             0.0   \n",
              "7                   NaN       3500000.0      7600000.0             0.0   \n",
              "8                   NaN       1810000.0            NaN             0.0   \n",
              "11                  NaN       4300000.0            NaN             1.0   \n",
              "\n",
              "                      created_at  \n",
              "0   2011-01-14T18:40:12.117+0700  \n",
              "1   2011-02-24T21:43:59.297+0700  \n",
              "7   2010-07-02T07:00:00.000+0700  \n",
              "8   2010-12-16T18:51:42.173+0700  \n",
              "11  2011-01-17T22:55:47.317+0700  "
            ]
          },
          "metadata": {
            "tags": []
          },
          "execution_count": 4
        }
      ]
    },
    {
      "metadata": {
        "id": "Eev1SbQYl_Ae",
        "colab_type": "text"
      },
      "cell_type": "markdown",
      "source": [
        "# TODO#2: แก้ไขข้อมูล data frame ของ projet_main ให้ไม่มี NAN"
      ]
    },
    {
      "metadata": {
        "id": "2N83pVt7xl2x",
        "colab_type": "code",
        "colab": {}
      },
      "cell_type": "code",
      "source": [
        "\n",
        "project_main = project_main.dropna(subset=['lat'])\n",
        "\n",
        "project_main[\"starting_price\"] = project_main[\"starting_price\"].fillna(project_main[\"starting_price\"].mode().iloc[0])\n"
      ],
      "execution_count": 0,
      "outputs": []
    },
    {
      "metadata": {
        "id": "AF89hUwyzNDV",
        "colab_type": "text"
      },
      "cell_type": "markdown",
      "source": [
        "## TODO#3: load ข้อมูล facility\n",
        "ลอง print ข้อมูลดูเราจะเห็นว่าข้อมูล และอธิบายว่าเหมาะสมกับการใช้หรือไม่\n"
      ]
    },
    {
      "metadata": {
        "id": "Kjw1O2CVxcmi",
        "colab_type": "code",
        "outputId": "d7d87966-797a-4bd5-edd2-6c8bedda9995",
        "colab": {
          "base_uri": "https://localhost:8080/",
          "height": 221
        }
      },
      "cell_type": "code",
      "source": [
        "# project_facility  \n",
        "project_facility = readDataFromDrive_HDT_single_col('13jUinwDsk9sYvoMOBaTMfTM11912CvdO')\n",
        "project_facility.head()"
      ],
      "execution_count": 6,
      "outputs": [
        {
          "output_type": "stream",
          "text": [
            "#########################################################################################################################\n"
          ],
          "name": "stdout"
        },
        {
          "output_type": "execute_result",
          "data": {
            "text/html": [
              "<div>\n",
              "<style scoped>\n",
              "    .dataframe tbody tr th:only-of-type {\n",
              "        vertical-align: middle;\n",
              "    }\n",
              "\n",
              "    .dataframe tbody tr th {\n",
              "        vertical-align: top;\n",
              "    }\n",
              "\n",
              "    .dataframe thead th {\n",
              "        text-align: right;\n",
              "    }\n",
              "</style>\n",
              "<table border=\"1\" class=\"dataframe\">\n",
              "  <thead>\n",
              "    <tr style=\"text-align: right;\">\n",
              "      <th></th>\n",
              "      <th>project_id</th>\n",
              "      <th>facility_id</th>\n",
              "    </tr>\n",
              "  </thead>\n",
              "  <tbody>\n",
              "    <tr>\n",
              "      <th>0</th>\n",
              "      <td>4</td>\n",
              "      <td>1</td>\n",
              "    </tr>\n",
              "    <tr>\n",
              "      <th>1</th>\n",
              "      <td>4</td>\n",
              "      <td>3</td>\n",
              "    </tr>\n",
              "    <tr>\n",
              "      <th>2</th>\n",
              "      <td>4</td>\n",
              "      <td>4</td>\n",
              "    </tr>\n",
              "    <tr>\n",
              "      <th>3</th>\n",
              "      <td>4</td>\n",
              "      <td>5</td>\n",
              "    </tr>\n",
              "    <tr>\n",
              "      <th>4</th>\n",
              "      <td>45</td>\n",
              "      <td>2</td>\n",
              "    </tr>\n",
              "  </tbody>\n",
              "</table>\n",
              "</div>"
            ],
            "text/plain": [
              "   project_id  facility_id\n",
              "0           4            1\n",
              "1           4            3\n",
              "2           4            4\n",
              "3           4            5\n",
              "4          45            2"
            ]
          },
          "metadata": {
            "tags": []
          },
          "execution_count": 6
        }
      ]
    },
    {
      "metadata": {
        "id": "hNhYR25VQm-8",
        "colab_type": "text"
      },
      "cell_type": "markdown",
      "source": [
        "\n",
        "## TODO#4: แปลงข้อมูล fac ให้เหมาะแก้การใช้งาน \n",
        "เนื่องจากข้อมูลไม่ได้เป็นรูปแบบของตารางที่ใช้ได้ง่าย [pd.crosstab](https://pandas.pydata.org/pandas-docs/version/0.23.4/generated/pandas.crosstab.html) เพราะ เราต้องการตารางที่บอกถึง facility ว่ามีหรือไม่ในทุกแบบของ facility"
      ]
    },
    {
      "metadata": {
        "id": "5p4wfZdGxmco",
        "colab_type": "code",
        "outputId": "8114ae93-9763-4a8c-b7e1-fb924985ce23",
        "colab": {
          "base_uri": "https://localhost:8080/",
          "height": 303
        }
      },
      "cell_type": "code",
      "source": [
        "project_facility_table = pd.crosstab(project_facility['project_id'], project_facility['facility_id'], rownames=['project_id'], colnames=['facility_id'])\n",
        "print(project_facility_table.index)\n",
        "project_facility_table.head()"
      ],
      "execution_count": 7,
      "outputs": [
        {
          "output_type": "stream",
          "text": [
            "Int64Index([   4,   24,   29,   41,   44,   45,   73,   95,  115,  133,\n",
            "            ...\n",
            "            9522, 9524, 9525, 9526, 9527, 9531, 9532, 9534, 9536, 9541],\n",
            "           dtype='int64', name='project_id', length=5039)\n"
          ],
          "name": "stdout"
        },
        {
          "output_type": "execute_result",
          "data": {
            "text/html": [
              "<div>\n",
              "<style scoped>\n",
              "    .dataframe tbody tr th:only-of-type {\n",
              "        vertical-align: middle;\n",
              "    }\n",
              "\n",
              "    .dataframe tbody tr th {\n",
              "        vertical-align: top;\n",
              "    }\n",
              "\n",
              "    .dataframe thead th {\n",
              "        text-align: right;\n",
              "    }\n",
              "</style>\n",
              "<table border=\"1\" class=\"dataframe\">\n",
              "  <thead>\n",
              "    <tr style=\"text-align: right;\">\n",
              "      <th>facility_id</th>\n",
              "      <th>1</th>\n",
              "      <th>2</th>\n",
              "      <th>3</th>\n",
              "      <th>4</th>\n",
              "      <th>5</th>\n",
              "      <th>6</th>\n",
              "    </tr>\n",
              "    <tr>\n",
              "      <th>project_id</th>\n",
              "      <th></th>\n",
              "      <th></th>\n",
              "      <th></th>\n",
              "      <th></th>\n",
              "      <th></th>\n",
              "      <th></th>\n",
              "    </tr>\n",
              "  </thead>\n",
              "  <tbody>\n",
              "    <tr>\n",
              "      <th>4</th>\n",
              "      <td>1</td>\n",
              "      <td>0</td>\n",
              "      <td>1</td>\n",
              "      <td>1</td>\n",
              "      <td>1</td>\n",
              "      <td>0</td>\n",
              "    </tr>\n",
              "    <tr>\n",
              "      <th>24</th>\n",
              "      <td>0</td>\n",
              "      <td>0</td>\n",
              "      <td>1</td>\n",
              "      <td>1</td>\n",
              "      <td>0</td>\n",
              "      <td>1</td>\n",
              "    </tr>\n",
              "    <tr>\n",
              "      <th>29</th>\n",
              "      <td>0</td>\n",
              "      <td>0</td>\n",
              "      <td>0</td>\n",
              "      <td>0</td>\n",
              "      <td>1</td>\n",
              "      <td>0</td>\n",
              "    </tr>\n",
              "    <tr>\n",
              "      <th>41</th>\n",
              "      <td>1</td>\n",
              "      <td>1</td>\n",
              "      <td>0</td>\n",
              "      <td>1</td>\n",
              "      <td>0</td>\n",
              "      <td>1</td>\n",
              "    </tr>\n",
              "    <tr>\n",
              "      <th>44</th>\n",
              "      <td>1</td>\n",
              "      <td>0</td>\n",
              "      <td>1</td>\n",
              "      <td>0</td>\n",
              "      <td>0</td>\n",
              "      <td>0</td>\n",
              "    </tr>\n",
              "  </tbody>\n",
              "</table>\n",
              "</div>"
            ],
            "text/plain": [
              "facility_id  1  2  3  4  5  6\n",
              "project_id                   \n",
              "4            1  0  1  1  1  0\n",
              "24           0  0  1  1  0  1\n",
              "29           0  0  0  0  1  0\n",
              "41           1  1  0  1  0  1\n",
              "44           1  0  1  0  0  0"
            ]
          },
          "metadata": {
            "tags": []
          },
          "execution_count": 7
        }
      ]
    },
    {
      "metadata": {
        "id": "SuOjAgoWQC93",
        "colab_type": "text"
      },
      "cell_type": "markdown",
      "source": [
        "## TODO#5: กำจัดข้อมูลที่ใช้ไม่ได้ ออกไป เลือกใช้แต่ข้อมูลที่ครบ\n",
        "\n",
        "เราจำเป็นต้องแยกข้อมูลให้เหลือ project ที่มีข้อมูลครบ เท่านั้น  เราสามารถใช้ [pandas.DataFrame.isin](https://pandas.pydata.org/pandas-docs/stable/reference/api/pandas.DataFrame.isin.html) เพื่อช่วยในการหา วา่มีข้อมูลร่วมกันได้ในการแยกข้แมูลออกมา"
      ]
    },
    {
      "metadata": {
        "id": "DH_JZKdcc4ll",
        "colab_type": "code",
        "outputId": "6f80b6c0-ecd4-4ab6-955f-0768e8058c29",
        "colab": {
          "base_uri": "https://localhost:8080/",
          "height": 269
        }
      },
      "cell_type": "code",
      "source": [
        "project_facility_table = project_facility_table.loc[project_facility_table.index.isin(project_main['project_id'])]\n",
        "project_main = project_main.loc[project_main['project_id'].isin(project_facility_table.index.astype(int))]\n",
        "project_main = project_main.sort_values('project_id')\n",
        "print(project_facility_table.shape)\n",
        "print(project_main.shape)\n",
        "project_facility_table.head()"
      ],
      "execution_count": 8,
      "outputs": [
        {
          "output_type": "stream",
          "text": [
            "(1697, 6)\n",
            "(1697, 16)\n"
          ],
          "name": "stdout"
        },
        {
          "output_type": "execute_result",
          "data": {
            "text/html": [
              "<div>\n",
              "<style scoped>\n",
              "    .dataframe tbody tr th:only-of-type {\n",
              "        vertical-align: middle;\n",
              "    }\n",
              "\n",
              "    .dataframe tbody tr th {\n",
              "        vertical-align: top;\n",
              "    }\n",
              "\n",
              "    .dataframe thead th {\n",
              "        text-align: right;\n",
              "    }\n",
              "</style>\n",
              "<table border=\"1\" class=\"dataframe\">\n",
              "  <thead>\n",
              "    <tr style=\"text-align: right;\">\n",
              "      <th>facility_id</th>\n",
              "      <th>1</th>\n",
              "      <th>2</th>\n",
              "      <th>3</th>\n",
              "      <th>4</th>\n",
              "      <th>5</th>\n",
              "      <th>6</th>\n",
              "    </tr>\n",
              "    <tr>\n",
              "      <th>project_id</th>\n",
              "      <th></th>\n",
              "      <th></th>\n",
              "      <th></th>\n",
              "      <th></th>\n",
              "      <th></th>\n",
              "      <th></th>\n",
              "    </tr>\n",
              "  </thead>\n",
              "  <tbody>\n",
              "    <tr>\n",
              "      <th>24</th>\n",
              "      <td>0</td>\n",
              "      <td>0</td>\n",
              "      <td>1</td>\n",
              "      <td>1</td>\n",
              "      <td>0</td>\n",
              "      <td>1</td>\n",
              "    </tr>\n",
              "    <tr>\n",
              "      <th>44</th>\n",
              "      <td>1</td>\n",
              "      <td>0</td>\n",
              "      <td>1</td>\n",
              "      <td>0</td>\n",
              "      <td>0</td>\n",
              "      <td>0</td>\n",
              "    </tr>\n",
              "    <tr>\n",
              "      <th>45</th>\n",
              "      <td>0</td>\n",
              "      <td>1</td>\n",
              "      <td>1</td>\n",
              "      <td>1</td>\n",
              "      <td>1</td>\n",
              "      <td>0</td>\n",
              "    </tr>\n",
              "    <tr>\n",
              "      <th>95</th>\n",
              "      <td>1</td>\n",
              "      <td>0</td>\n",
              "      <td>0</td>\n",
              "      <td>0</td>\n",
              "      <td>0</td>\n",
              "      <td>0</td>\n",
              "    </tr>\n",
              "    <tr>\n",
              "      <th>133</th>\n",
              "      <td>1</td>\n",
              "      <td>0</td>\n",
              "      <td>1</td>\n",
              "      <td>0</td>\n",
              "      <td>1</td>\n",
              "      <td>0</td>\n",
              "    </tr>\n",
              "  </tbody>\n",
              "</table>\n",
              "</div>"
            ],
            "text/plain": [
              "facility_id  1  2  3  4  5  6\n",
              "project_id                   \n",
              "24           0  0  1  1  0  1\n",
              "44           1  0  1  0  0  0\n",
              "45           0  1  1  1  1  0\n",
              "95           1  0  0  0  0  0\n",
              "133          1  0  1  0  1  0"
            ]
          },
          "metadata": {
            "tags": []
          },
          "execution_count": 8
        }
      ]
    },
    {
      "metadata": {
        "id": "kXbSDY3lxdZC",
        "colab_type": "code",
        "outputId": "22fc763a-e37a-408b-b71b-a0d1ccea6985",
        "colab": {
          "base_uri": "https://localhost:8080/",
          "height": 309
        }
      },
      "cell_type": "code",
      "source": [
        "project_main.head()"
      ],
      "execution_count": 9,
      "outputs": [
        {
          "output_type": "execute_result",
          "data": {
            "text/html": [
              "<div>\n",
              "<style scoped>\n",
              "    .dataframe tbody tr th:only-of-type {\n",
              "        vertical-align: middle;\n",
              "    }\n",
              "\n",
              "    .dataframe tbody tr th {\n",
              "        vertical-align: top;\n",
              "    }\n",
              "\n",
              "    .dataframe thead th {\n",
              "        text-align: right;\n",
              "    }\n",
              "</style>\n",
              "<table border=\"1\" class=\"dataframe\">\n",
              "  <thead>\n",
              "    <tr style=\"text-align: right;\">\n",
              "      <th></th>\n",
              "      <th>project_id</th>\n",
              "      <th>developer_id</th>\n",
              "      <th>brand_id</th>\n",
              "      <th>project_name_th</th>\n",
              "      <th>project_name_en</th>\n",
              "      <th>district_id</th>\n",
              "      <th>province_id</th>\n",
              "      <th>lat</th>\n",
              "      <th>lon</th>\n",
              "      <th>project_land_size_rai</th>\n",
              "      <th>total_unit</th>\n",
              "      <th>percent_car_parking</th>\n",
              "      <th>starting_price</th>\n",
              "      <th>highest_price</th>\n",
              "      <th>project_status</th>\n",
              "      <th>created_at</th>\n",
              "    </tr>\n",
              "  </thead>\n",
              "  <tbody>\n",
              "    <tr>\n",
              "      <th>1</th>\n",
              "      <td>24</td>\n",
              "      <td>1032</td>\n",
              "      <td>0.0</td>\n",
              "      <td>สัมมากร นิมิตใหม่</td>\n",
              "      <td>Sammakorn Nimitmai</td>\n",
              "      <td>1046.0</td>\n",
              "      <td>10</td>\n",
              "      <td>13.876590</td>\n",
              "      <td>100.731927</td>\n",
              "      <td>154</td>\n",
              "      <td>NaN</td>\n",
              "      <td>NaN</td>\n",
              "      <td>4590000.0</td>\n",
              "      <td>NaN</td>\n",
              "      <td>0.0</td>\n",
              "      <td>2011-02-24T21:43:59.297+0700</td>\n",
              "    </tr>\n",
              "    <tr>\n",
              "      <th>0</th>\n",
              "      <td>44</td>\n",
              "      <td>140786</td>\n",
              "      <td>0.0</td>\n",
              "      <td>พาร์ควิลล์ 3</td>\n",
              "      <td>Parkville 3</td>\n",
              "      <td>1046.0</td>\n",
              "      <td>10</td>\n",
              "      <td>13.891719</td>\n",
              "      <td>100.722099</td>\n",
              "      <td>54</td>\n",
              "      <td>NaN</td>\n",
              "      <td>NaN</td>\n",
              "      <td>3500000.0</td>\n",
              "      <td>3862000.0</td>\n",
              "      <td>1.0</td>\n",
              "      <td>2011-01-14T18:40:12.117+0700</td>\n",
              "    </tr>\n",
              "    <tr>\n",
              "      <th>164</th>\n",
              "      <td>45</td>\n",
              "      <td>2840</td>\n",
              "      <td>0.0</td>\n",
              "      <td>พาร์คเวย์ ชาเล่ต์</td>\n",
              "      <td>parkway chalet</td>\n",
              "      <td>1010.0</td>\n",
              "      <td>10</td>\n",
              "      <td>13.803465</td>\n",
              "      <td>100.727406</td>\n",
              "      <td>87</td>\n",
              "      <td>NaN</td>\n",
              "      <td>NaN</td>\n",
              "      <td>5500000.0</td>\n",
              "      <td>NaN</td>\n",
              "      <td>0.0</td>\n",
              "      <td>2011-03-28T23:27:08.833+0700</td>\n",
              "    </tr>\n",
              "    <tr>\n",
              "      <th>172</th>\n",
              "      <td>95</td>\n",
              "      <td>2730</td>\n",
              "      <td>NaN</td>\n",
              "      <td>อารีน่า พาร์ค ชวนชื่น ซิตี้</td>\n",
              "      <td>NaN</td>\n",
              "      <td>1005.0</td>\n",
              "      <td>10</td>\n",
              "      <td>13.859276</td>\n",
              "      <td>100.665287</td>\n",
              "      <td>79</td>\n",
              "      <td>NaN</td>\n",
              "      <td>NaN</td>\n",
              "      <td>2000000.0</td>\n",
              "      <td>5000000.0</td>\n",
              "      <td>0.0</td>\n",
              "      <td>2007-04-18T23:02:22.000+0700</td>\n",
              "    </tr>\n",
              "    <tr>\n",
              "      <th>185</th>\n",
              "      <td>133</td>\n",
              "      <td>6772</td>\n",
              "      <td>538.0</td>\n",
              "      <td>เค.ซี.เลควิว</td>\n",
              "      <td>K.C. LAKEVIEW</td>\n",
              "      <td>1044.0</td>\n",
              "      <td>10</td>\n",
              "      <td>13.759440</td>\n",
              "      <td>100.679230</td>\n",
              "      <td>60</td>\n",
              "      <td>NaN</td>\n",
              "      <td>NaN</td>\n",
              "      <td>11000000.0</td>\n",
              "      <td>NaN</td>\n",
              "      <td>1.0</td>\n",
              "      <td>2011-01-14T18:42:51.630+0700</td>\n",
              "    </tr>\n",
              "  </tbody>\n",
              "</table>\n",
              "</div>"
            ],
            "text/plain": [
              "     project_id  developer_id  brand_id              project_name_th  \\\n",
              "1            24          1032       0.0            สัมมากร นิมิตใหม่   \n",
              "0            44        140786       0.0                 พาร์ควิลล์ 3   \n",
              "164          45          2840       0.0            พาร์คเวย์ ชาเล่ต์   \n",
              "172          95          2730       NaN  อารีน่า พาร์ค ชวนชื่น ซิตี้   \n",
              "185         133          6772     538.0                 เค.ซี.เลควิว   \n",
              "\n",
              "        project_name_en  district_id  province_id        lat         lon  \\\n",
              "1    Sammakorn Nimitmai       1046.0           10  13.876590  100.731927   \n",
              "0           Parkville 3       1046.0           10  13.891719  100.722099   \n",
              "164      parkway chalet       1010.0           10  13.803465  100.727406   \n",
              "172                 NaN       1005.0           10  13.859276  100.665287   \n",
              "185       K.C. LAKEVIEW       1044.0           10  13.759440  100.679230   \n",
              "\n",
              "     project_land_size_rai  total_unit  percent_car_parking  starting_price  \\\n",
              "1                      154         NaN                  NaN       4590000.0   \n",
              "0                       54         NaN                  NaN       3500000.0   \n",
              "164                     87         NaN                  NaN       5500000.0   \n",
              "172                     79         NaN                  NaN       2000000.0   \n",
              "185                     60         NaN                  NaN      11000000.0   \n",
              "\n",
              "     highest_price  project_status                    created_at  \n",
              "1              NaN             0.0  2011-02-24T21:43:59.297+0700  \n",
              "0        3862000.0             1.0  2011-01-14T18:40:12.117+0700  \n",
              "164            NaN             0.0  2011-03-28T23:27:08.833+0700  \n",
              "172      5000000.0             0.0  2007-04-18T23:02:22.000+0700  \n",
              "185            NaN             1.0  2011-01-14T18:42:51.630+0700  "
            ]
          },
          "metadata": {
            "tags": []
          },
          "execution_count": 9
        }
      ]
    },
    {
      "metadata": {
        "id": "SLgCn82OzrQc",
        "colab_type": "text"
      },
      "cell_type": "markdown",
      "source": [
        "## TODO#6: ลองดูข้อมูล จาก user log \n",
        "\n",
        "\n",
        "\n",
        "ลอง check ข้อมูลของ log data "
      ]
    },
    {
      "metadata": {
        "id": "ksRpe8e2ajVa",
        "colab_type": "code",
        "outputId": "2a279c9b-62ad-4655-a446-a14a1a9b19b0",
        "colab": {
          "base_uri": "https://localhost:8080/",
          "height": 238
        }
      },
      "cell_type": "code",
      "source": [
        "# care values province_id\n",
        "# we use only bangkok  province_id = 10 \n",
        "### load data ###############################################################################\n",
        "print('userLog')\n",
        "userLog = readDataFromDrive_HDT_single_col('19sNUEOYeqU33EWBMRKq65YydpgLQoppZ') \n",
        "userLog.head()\n"
      ],
      "execution_count": 10,
      "outputs": [
        {
          "output_type": "stream",
          "text": [
            "userLog\n",
            "#########################################################################################################################\n"
          ],
          "name": "stdout"
        },
        {
          "output_type": "execute_result",
          "data": {
            "text/html": [
              "<div>\n",
              "<style scoped>\n",
              "    .dataframe tbody tr th:only-of-type {\n",
              "        vertical-align: middle;\n",
              "    }\n",
              "\n",
              "    .dataframe tbody tr th {\n",
              "        vertical-align: top;\n",
              "    }\n",
              "\n",
              "    .dataframe thead th {\n",
              "        text-align: right;\n",
              "    }\n",
              "</style>\n",
              "<table border=\"1\" class=\"dataframe\">\n",
              "  <thead>\n",
              "    <tr style=\"text-align: right;\">\n",
              "      <th></th>\n",
              "      <th>userCode</th>\n",
              "      <th>project_id</th>\n",
              "      <th>requestedDevice</th>\n",
              "      <th>userAgent</th>\n",
              "      <th>pageReferrer</th>\n",
              "      <th>year</th>\n",
              "      <th>month</th>\n",
              "      <th>day</th>\n",
              "      <th>hour</th>\n",
              "    </tr>\n",
              "  </thead>\n",
              "  <tbody>\n",
              "    <tr>\n",
              "      <th>0</th>\n",
              "      <td>7717bdc2-ea3e-e8ad-5d6b-178bd71c38b2</td>\n",
              "      <td>7956</td>\n",
              "      <td>Mobile</td>\n",
              "      <td>Android</td>\n",
              "      <td>HomeWebsite</td>\n",
              "      <td>2018</td>\n",
              "      <td>1</td>\n",
              "      <td>1</td>\n",
              "      <td>0</td>\n",
              "    </tr>\n",
              "    <tr>\n",
              "      <th>1</th>\n",
              "      <td>7717bdc2-ea3e-e8ad-5d6b-178bd71c38b2</td>\n",
              "      <td>7956</td>\n",
              "      <td>Mobile</td>\n",
              "      <td>Android</td>\n",
              "      <td>HomeWebsite</td>\n",
              "      <td>2018</td>\n",
              "      <td>1</td>\n",
              "      <td>1</td>\n",
              "      <td>0</td>\n",
              "    </tr>\n",
              "    <tr>\n",
              "      <th>2</th>\n",
              "      <td>cb5b4b68-cc01-6db6-f54b-4a0f881301c5</td>\n",
              "      <td>5067</td>\n",
              "      <td>Mobile</td>\n",
              "      <td>iPhone</td>\n",
              "      <td>HomeWebsite</td>\n",
              "      <td>2018</td>\n",
              "      <td>1</td>\n",
              "      <td>1</td>\n",
              "      <td>0</td>\n",
              "    </tr>\n",
              "    <tr>\n",
              "      <th>3</th>\n",
              "      <td>5f74cef2-0d1e-b619-3564-0955a14e0985</td>\n",
              "      <td>6654</td>\n",
              "      <td>Mobile</td>\n",
              "      <td>iPhone</td>\n",
              "      <td>Google</td>\n",
              "      <td>2018</td>\n",
              "      <td>1</td>\n",
              "      <td>1</td>\n",
              "      <td>0</td>\n",
              "    </tr>\n",
              "    <tr>\n",
              "      <th>4</th>\n",
              "      <td>dba8f279-844e-eef6-73ac-22bd7d1353cc</td>\n",
              "      <td>6474</td>\n",
              "      <td>Mobile</td>\n",
              "      <td>iPad</td>\n",
              "      <td>Google</td>\n",
              "      <td>2018</td>\n",
              "      <td>1</td>\n",
              "      <td>1</td>\n",
              "      <td>0</td>\n",
              "    </tr>\n",
              "  </tbody>\n",
              "</table>\n",
              "</div>"
            ],
            "text/plain": [
              "                               userCode  project_id requestedDevice userAgent  \\\n",
              "0  7717bdc2-ea3e-e8ad-5d6b-178bd71c38b2        7956          Mobile   Android   \n",
              "1  7717bdc2-ea3e-e8ad-5d6b-178bd71c38b2        7956          Mobile   Android   \n",
              "2  cb5b4b68-cc01-6db6-f54b-4a0f881301c5        5067          Mobile    iPhone   \n",
              "3  5f74cef2-0d1e-b619-3564-0955a14e0985        6654          Mobile    iPhone   \n",
              "4  dba8f279-844e-eef6-73ac-22bd7d1353cc        6474          Mobile      iPad   \n",
              "\n",
              "  pageReferrer  year  month  day  hour  \n",
              "0  HomeWebsite  2018      1    1     0  \n",
              "1  HomeWebsite  2018      1    1     0  \n",
              "2  HomeWebsite  2018      1    1     0  \n",
              "3       Google  2018      1    1     0  \n",
              "4       Google  2018      1    1     0  "
            ]
          },
          "metadata": {
            "tags": []
          },
          "execution_count": 10
        }
      ]
    },
    {
      "metadata": {
        "id": "w8H0tzGfxnnq",
        "colab_type": "code",
        "outputId": "1a1132e5-8345-474a-9dd3-3b8a5f3c1306",
        "colab": {
          "base_uri": "https://localhost:8080/",
          "height": 34
        }
      },
      "cell_type": "code",
      "source": [
        "print(userLog.shape)\n"
      ],
      "execution_count": 11,
      "outputs": [
        {
          "output_type": "stream",
          "text": [
            "(1234579, 9)\n"
          ],
          "name": "stdout"
        }
      ]
    },
    {
      "metadata": {
        "id": "jFlYQc7mnuoM",
        "colab_type": "code",
        "outputId": "5aa93add-6fb6-4e8a-f11e-62925336e27a",
        "colab": {
          "base_uri": "https://localhost:8080/",
          "height": 34
        }
      },
      "cell_type": "code",
      "source": [
        "print(userLog.loc[userLog['project_id'].isin(project_facility_table.index.astype(int))].shape)\n",
        "userLog = userLog.loc[userLog['project_id'].isin(project_facility_table.index.astype(int))]"
      ],
      "execution_count": 12,
      "outputs": [
        {
          "output_type": "stream",
          "text": [
            "(405448, 9)\n"
          ],
          "name": "stdout"
        }
      ]
    },
    {
      "metadata": {
        "id": "U4h3JYoIXFsc",
        "colab_type": "text"
      },
      "cell_type": "markdown",
      "source": [
        "## TODO#7: ข้อมูล histrogram ของตัว user และ project ที่ user ดู\n",
        "\n",
        "จง check ดูความบ่อยของการใช้ user และ plot histogram ออกมา"
      ]
    },
    {
      "metadata": {
        "id": "p8CWwKunxf47",
        "colab_type": "code",
        "outputId": "b8d4a41f-4346-40b4-fcb7-b940d90fa6fb",
        "colab": {
          "base_uri": "https://localhost:8080/",
          "height": 136
        }
      },
      "cell_type": "code",
      "source": [
        "userLog_freq_user = userLog['userCode'].value_counts()\n",
        "userLog_freq_user_np  = np.array(userLog_freq_user.values)\n",
        "userLog_freq_proj = userLog['project_id'].value_counts()\n",
        "userLog_freq_proj_np = np.array(userLog_freq_proj.values)\n",
        "print(userLog_freq_user_np.shape)\n",
        "userLog_freq_user.head()"
      ],
      "execution_count": 13,
      "outputs": [
        {
          "output_type": "stream",
          "text": [
            "(175127,)\n"
          ],
          "name": "stdout"
        },
        {
          "output_type": "execute_result",
          "data": {
            "text/plain": [
              "de89bac5-57c6-ecfb-184d-cc4e973c31ac    7408\n",
              "31bb9bf0-8ad5-3e50-f334-e6c7de89bac5    3465\n",
              "eec0a125-d5ab-f692-c501-4713c35c756d     703\n",
              "e400406a-b73d-3e78-d37d-53fcddebccaf     518\n",
              "1aecd8e5-f02b-ba5c-e865-49da43ad8f22     472\n",
              "Name: userCode, dtype: int64"
            ]
          },
          "metadata": {
            "tags": []
          },
          "execution_count": 13
        }
      ]
    },
    {
      "metadata": {
        "id": "5ClYwT6z0jQb",
        "colab_type": "text"
      },
      "cell_type": "markdown",
      "source": [
        "จงแสดง histogram ของความถี่ของ user และ ใช้ pd.head() เพื่อดูค่าช่วงต้นๆ ของ histogram"
      ]
    },
    {
      "metadata": {
        "id": "Bo48mxtHg_Y3",
        "colab_type": "code",
        "outputId": "1788cc14-f7e8-470f-9185-37083e01c735",
        "colab": {
          "base_uri": "https://localhost:8080/",
          "height": 34
        }
      },
      "cell_type": "code",
      "source": [
        "print(userLog_freq_proj.shape)"
      ],
      "execution_count": 14,
      "outputs": [
        {
          "output_type": "stream",
          "text": [
            "(1685,)\n"
          ],
          "name": "stdout"
        }
      ]
    },
    {
      "metadata": {
        "id": "SpLLzClQDXEC",
        "colab_type": "code",
        "outputId": "f344fbf0-0516-4f24-ba19-18a3de6a3b72",
        "colab": {
          "base_uri": "https://localhost:8080/",
          "height": 347
        }
      },
      "cell_type": "code",
      "source": [
        "n, bins, patches = plt.hist(userLog_freq_user_np, 50, density=True, facecolor='g', alpha=0.75)\n",
        "plt.show()"
      ],
      "execution_count": 15,
      "outputs": [
        {
          "output_type": "display_data",
          "data": {
            "image/png": "[encoded data removed]",
            "text/plain": [
              "<Figure size 576x396 with 1 Axes>"
            ]
          },
          "metadata": {
            "tags": []
          }
        }
      ]
    },
    {
      "metadata": {
        "id": "owLV1wxP00yX",
        "colab_type": "text"
      },
      "cell_type": "markdown",
      "source": [
        "## TODO#8: จงหาค่า medium และ mode ของ ความถี่ในการเข้าใช้ ของ user\n",
        "จากค่าที่พิจารณา  จงหา mode "
      ]
    },
    {
      "metadata": {
        "id": "zikNtaP2hzpF",
        "colab_type": "code",
        "outputId": "78a9210b-cdf9-42c9-f561-08e4d3041946",
        "colab": {
          "base_uri": "https://localhost:8080/",
          "height": 51
        }
      },
      "cell_type": "code",
      "source": [
        "print(mode(userLog_freq_user_np))\n",
        "print(np.percentile(userLog_freq_user_np, 99.99))\n",
        "#print('++++++++++++++++++++++++++++++++++++++++++')"
      ],
      "execution_count": 16,
      "outputs": [
        {
          "output_type": "stream",
          "text": [
            "ModeResult(mode=array([1]), count=array([110653]))\n",
            "190.4873999999836\n"
          ],
          "name": "stdout"
        }
      ]
    },
    {
      "metadata": {
        "id": "6Gs-cYCCNW9u",
        "colab_type": "text"
      },
      "cell_type": "markdown",
      "source": [
        "## TODO#9: \n",
        "\n",
        "จากกราฟ histogram ที่ได้ละ ค่า mode medium และ ค่าสูงสุดที่ user ใช้ จงบอกปัญหาของข้อมูล ของ userlog ว่าเกิดอะไรขึ้น\n",
        "\n",
        "เขียนคำตอบ :"
      ]
    },
    {
      "metadata": {
        "id": "sID5iCeEEbvg",
        "colab_type": "text"
      },
      "cell_type": "markdown",
      "source": [
        ""
      ]
    },
    {
      "metadata": {
        "id": "n9qIvS-GOV4L",
        "colab_type": "text"
      },
      "cell_type": "markdown",
      "source": [
        "## TODO#10: \n",
        "\n",
        "จะสังเกตว่าค่า ของ histogram user นั้นมี user ประหลาดอยู่ดังนั้น เราจะกำลังข้อมูลที่ไม่ดีออกไป โดยการตัด เปอร์เซ็นไทน์ 90 ของการใช้ของ user\n",
        "\n",
        "สามารถใช้  [numpy.percentile](https://docs.scipy.org/doc/numpy-1.15.0/reference/generated/numpy.percentile.html) ช่วยได้\n",
        "\n",
        "ดึงค่า pd.index ออกมา\n",
        "\n"
      ]
    },
    {
      "metadata": {
        "id": "FhAX6jKbz7cB",
        "colab_type": "code",
        "outputId": "8b68702c-3d16-49de-ef2f-4cf0a5f1567e",
        "colab": {
          "base_uri": "https://localhost:8080/",
          "height": 51
        }
      },
      "cell_type": "code",
      "source": [
        "#print(np.percentile(userLog_freq_user_np, 95))\n",
        "normal_user = userLog_freq_user.loc[userLog_freq_user <= 190 ].index\n",
        "print(normal_user.shape)\n",
        "userLog = userLog.loc[userLog['userCode'].isin(normal_user)]\n",
        "userLog.shape"
      ],
      "execution_count": 17,
      "outputs": [
        {
          "output_type": "stream",
          "text": [
            "(175109,)\n"
          ],
          "name": "stdout"
        },
        {
          "output_type": "execute_result",
          "data": {
            "text/plain": [
              "(388515, 9)"
            ]
          },
          "metadata": {
            "tags": []
          },
          "execution_count": 17
        }
      ]
    },
    {
      "metadata": {
        "id": "AoYlXdjgB5cX",
        "colab_type": "text"
      },
      "cell_type": "markdown",
      "source": [
        "clear to top project"
      ]
    },
    {
      "metadata": {
        "id": "VCGqFk3V09GG",
        "colab_type": "code",
        "outputId": "7a7d3ff8-1a65-49e8-d0b8-a54eb313f737",
        "colab": {
          "base_uri": "https://localhost:8080/",
          "height": 272
        }
      },
      "cell_type": "code",
      "source": [
        "# we use only 1000 project to compute fast\n",
        "top_percentile = 100 - (1000*100/userLog_freq_proj.shape[0])\n",
        "print(top_percentile)\n",
        "print(np.percentile(userLog_freq_proj_np, top_percentile))\n",
        "proj_top = userLog_freq_proj.loc[ userLog_freq_proj >= np.percentile(userLog_freq_proj_np, top_percentile) ].index\n",
        "print(proj_top.shape)\n",
        "\n",
        "# print(proj_top)\n",
        "userLog = userLog.loc[userLog['project_id'].isin(proj_top)]\n",
        "print(userLog.shape)\n",
        "userLog.head()\n"
      ],
      "execution_count": 18,
      "outputs": [
        {
          "output_type": "stream",
          "text": [
            "40.652818991097924\n",
            "86.593471810089\n",
            "(1000,)\n",
            "(366500, 9)\n"
          ],
          "name": "stdout"
        },
        {
          "output_type": "execute_result",
          "data": {
            "text/html": [
              "<div>\n",
              "<style scoped>\n",
              "    .dataframe tbody tr th:only-of-type {\n",
              "        vertical-align: middle;\n",
              "    }\n",
              "\n",
              "    .dataframe tbody tr th {\n",
              "        vertical-align: top;\n",
              "    }\n",
              "\n",
              "    .dataframe thead th {\n",
              "        text-align: right;\n",
              "    }\n",
              "</style>\n",
              "<table border=\"1\" class=\"dataframe\">\n",
              "  <thead>\n",
              "    <tr style=\"text-align: right;\">\n",
              "      <th></th>\n",
              "      <th>userCode</th>\n",
              "      <th>project_id</th>\n",
              "      <th>requestedDevice</th>\n",
              "      <th>userAgent</th>\n",
              "      <th>pageReferrer</th>\n",
              "      <th>year</th>\n",
              "      <th>month</th>\n",
              "      <th>day</th>\n",
              "      <th>hour</th>\n",
              "    </tr>\n",
              "  </thead>\n",
              "  <tbody>\n",
              "    <tr>\n",
              "      <th>8</th>\n",
              "      <td>9794fe34-fb0f-4242-8a35-7610cb1e0ee8</td>\n",
              "      <td>9323</td>\n",
              "      <td>Mobile</td>\n",
              "      <td>iPad</td>\n",
              "      <td>Facebook</td>\n",
              "      <td>2018</td>\n",
              "      <td>1</td>\n",
              "      <td>1</td>\n",
              "      <td>0</td>\n",
              "    </tr>\n",
              "    <tr>\n",
              "      <th>10</th>\n",
              "      <td>9794fe34-fb0f-4242-8a35-7610cb1e0ee8</td>\n",
              "      <td>9323</td>\n",
              "      <td>Mobile</td>\n",
              "      <td>iPad</td>\n",
              "      <td>HomeWebsite</td>\n",
              "      <td>2018</td>\n",
              "      <td>1</td>\n",
              "      <td>1</td>\n",
              "      <td>0</td>\n",
              "    </tr>\n",
              "    <tr>\n",
              "      <th>12</th>\n",
              "      <td>5badf2de-4bc2-c66b-64fd-13184832dfa0</td>\n",
              "      <td>2560</td>\n",
              "      <td>Desktop</td>\n",
              "      <td>Windows</td>\n",
              "      <td>Google</td>\n",
              "      <td>2018</td>\n",
              "      <td>1</td>\n",
              "      <td>1</td>\n",
              "      <td>0</td>\n",
              "    </tr>\n",
              "    <tr>\n",
              "      <th>14</th>\n",
              "      <td>67134749-f09c-747e-777c-59d7cba5e179</td>\n",
              "      <td>4201</td>\n",
              "      <td>Mobile</td>\n",
              "      <td>iPhone</td>\n",
              "      <td>Other_PageReferer</td>\n",
              "      <td>2018</td>\n",
              "      <td>1</td>\n",
              "      <td>1</td>\n",
              "      <td>0</td>\n",
              "    </tr>\n",
              "    <tr>\n",
              "      <th>15</th>\n",
              "      <td>a9edf492-d59f-874b-88ab-a729bacef361</td>\n",
              "      <td>3860</td>\n",
              "      <td>Mobile</td>\n",
              "      <td>iPhone</td>\n",
              "      <td>Google</td>\n",
              "      <td>2018</td>\n",
              "      <td>1</td>\n",
              "      <td>1</td>\n",
              "      <td>0</td>\n",
              "    </tr>\n",
              "  </tbody>\n",
              "</table>\n",
              "</div>"
            ],
            "text/plain": [
              "                                userCode  project_id requestedDevice  \\\n",
              "8   9794fe34-fb0f-4242-8a35-7610cb1e0ee8        9323          Mobile   \n",
              "10  9794fe34-fb0f-4242-8a35-7610cb1e0ee8        9323          Mobile   \n",
              "12  5badf2de-4bc2-c66b-64fd-13184832dfa0        2560         Desktop   \n",
              "14  67134749-f09c-747e-777c-59d7cba5e179        4201          Mobile   \n",
              "15  a9edf492-d59f-874b-88ab-a729bacef361        3860          Mobile   \n",
              "\n",
              "   userAgent       pageReferrer  year  month  day  hour  \n",
              "8       iPad           Facebook  2018      1    1     0  \n",
              "10      iPad        HomeWebsite  2018      1    1     0  \n",
              "12   Windows             Google  2018      1    1     0  \n",
              "14    iPhone  Other_PageReferer  2018      1    1     0  \n",
              "15    iPhone             Google  2018      1    1     0  "
            ]
          },
          "metadata": {
            "tags": []
          },
          "execution_count": 18
        }
      ]
    },
    {
      "metadata": {
        "id": "JLNjbno6kSch",
        "colab_type": "code",
        "outputId": "3dc8b794-d4ea-4a27-bfd1-bdd8d005621f",
        "colab": {
          "base_uri": "https://localhost:8080/",
          "height": 51
        }
      },
      "cell_type": "code",
      "source": [
        "## clear data \n",
        "\n",
        "project_facility_table = project_facility_table.loc[project_facility_table.index.isin(proj_top)]\n",
        "project_main = project_main.loc[project_main['project_id'].isin(proj_top)]\n",
        "\n",
        "print(project_facility_table.shape)\n",
        "print(project_main.shape)"
      ],
      "execution_count": 19,
      "outputs": [
        {
          "output_type": "stream",
          "text": [
            "(1000, 6)\n",
            "(1000, 16)\n"
          ],
          "name": "stdout"
        }
      ]
    },
    {
      "metadata": {
        "id": "VAtuG-VkPhad",
        "colab_type": "text"
      },
      "cell_type": "markdown",
      "source": [
        "เนื่องจาก ข้อมูล มีจำนวนมาก เราจะเลือกแค่ project ที่คนเข้ามาดูมากที่สุด top 1000 project มาคิดเท่านั้น"
      ]
    },
    {
      "metadata": {
        "id": "Q-6x2k2BEeo2",
        "colab_type": "text"
      },
      "cell_type": "markdown",
      "source": [
        "#optional \n",
        "\n",
        "พวกเราสามารถ filter ข้อมูลด้วยตำนวนครั้งที่เปิดขึ้นมาดูได้หรือไม่"
      ]
    },
    {
      "metadata": {
        "id": "mddaS5baEwQa",
        "colab_type": "code",
        "colab": {}
      },
      "cell_type": "code",
      "source": [
        ""
      ],
      "execution_count": 0,
      "outputs": []
    },
    {
      "metadata": {
        "id": "Rkxdaoaj-4wU",
        "colab_type": "text"
      },
      "cell_type": "markdown",
      "source": [
        "------"
      ]
    },
    {
      "metadata": {
        "id": "QTymaWEqAHhI",
        "colab_type": "text"
      },
      "cell_type": "markdown",
      "source": [
        "## TODO#11:\n",
        "\n",
        "เราจะสร้าง recommendation system ที่มี"
      ]
    },
    {
      "metadata": {
        "id": "aH99XORL_BH4",
        "colab_type": "code",
        "outputId": "7fe53a37-fe4f-4c57-f8cf-c7e0f8a0c6e7",
        "colab": {
          "base_uri": "https://localhost:8080/",
          "height": 238
        }
      },
      "cell_type": "code",
      "source": [
        "#userLog.head()\n",
        "userLog_freq_day = pd.crosstab(userLog['userCode'], [userLog['year'], userLog['month'], userLog['day']], rownames =['userCode'], colnames=['year','month','day'])\n",
        "userLog_last_week  = userLog.loc[userLog['month'] == 2]\n",
        "userLog_last_week = userLog_last_week.loc[ userLog_last_week['day'] >=16]\n",
        "print(userLog_last_week.shape)\n",
        "print(userLog.shape)\n",
        "\n",
        "userLog_last_week.head()\n"
      ],
      "execution_count": 20,
      "outputs": [
        {
          "output_type": "stream",
          "text": [
            "(54223, 9)\n",
            "(366500, 9)\n"
          ],
          "name": "stdout"
        },
        {
          "output_type": "execute_result",
          "data": {
            "text/html": [
              "<div>\n",
              "<style scoped>\n",
              "    .dataframe tbody tr th:only-of-type {\n",
              "        vertical-align: middle;\n",
              "    }\n",
              "\n",
              "    .dataframe tbody tr th {\n",
              "        vertical-align: top;\n",
              "    }\n",
              "\n",
              "    .dataframe thead th {\n",
              "        text-align: right;\n",
              "    }\n",
              "</style>\n",
              "<table border=\"1\" class=\"dataframe\">\n",
              "  <thead>\n",
              "    <tr style=\"text-align: right;\">\n",
              "      <th></th>\n",
              "      <th>userCode</th>\n",
              "      <th>project_id</th>\n",
              "      <th>requestedDevice</th>\n",
              "      <th>userAgent</th>\n",
              "      <th>pageReferrer</th>\n",
              "      <th>year</th>\n",
              "      <th>month</th>\n",
              "      <th>day</th>\n",
              "      <th>hour</th>\n",
              "    </tr>\n",
              "  </thead>\n",
              "  <tbody>\n",
              "    <tr>\n",
              "      <th>1054441</th>\n",
              "      <td>6c5318e0-9acb-68e9-ffe5-2be46d42bdf6</td>\n",
              "      <td>5500</td>\n",
              "      <td>Mobile</td>\n",
              "      <td>Android</td>\n",
              "      <td>HomeWebsite</td>\n",
              "      <td>2018</td>\n",
              "      <td>2</td>\n",
              "      <td>16</td>\n",
              "      <td>0</td>\n",
              "    </tr>\n",
              "    <tr>\n",
              "      <th>1054444</th>\n",
              "      <td>e65e2e86-e2f3-cf8e-ee0d-95a868914ecf</td>\n",
              "      <td>2526</td>\n",
              "      <td>Mobile</td>\n",
              "      <td>Android</td>\n",
              "      <td>HomeWebsite</td>\n",
              "      <td>2018</td>\n",
              "      <td>2</td>\n",
              "      <td>16</td>\n",
              "      <td>0</td>\n",
              "    </tr>\n",
              "    <tr>\n",
              "      <th>1054445</th>\n",
              "      <td>69dffbf7-06c6-20e8-4332-204ceb19101f</td>\n",
              "      <td>5323</td>\n",
              "      <td>Mobile</td>\n",
              "      <td>iPhone</td>\n",
              "      <td>Facebook</td>\n",
              "      <td>2018</td>\n",
              "      <td>2</td>\n",
              "      <td>16</td>\n",
              "      <td>0</td>\n",
              "    </tr>\n",
              "    <tr>\n",
              "      <th>1054447</th>\n",
              "      <td>75692f29-a8ac-ca5b-ffc8-27e67bd1a5b0</td>\n",
              "      <td>1905</td>\n",
              "      <td>Mobile</td>\n",
              "      <td>Android</td>\n",
              "      <td>Google</td>\n",
              "      <td>2018</td>\n",
              "      <td>2</td>\n",
              "      <td>16</td>\n",
              "      <td>0</td>\n",
              "    </tr>\n",
              "    <tr>\n",
              "      <th>1054448</th>\n",
              "      <td>028f5656-3e7d-7fc0-f2c8-03e14edaaff1</td>\n",
              "      <td>8056</td>\n",
              "      <td>Mobile</td>\n",
              "      <td>iPhone</td>\n",
              "      <td>Google</td>\n",
              "      <td>2018</td>\n",
              "      <td>2</td>\n",
              "      <td>16</td>\n",
              "      <td>0</td>\n",
              "    </tr>\n",
              "  </tbody>\n",
              "</table>\n",
              "</div>"
            ],
            "text/plain": [
              "                                     userCode  project_id requestedDevice  \\\n",
              "1054441  6c5318e0-9acb-68e9-ffe5-2be46d42bdf6        5500          Mobile   \n",
              "1054444  e65e2e86-e2f3-cf8e-ee0d-95a868914ecf        2526          Mobile   \n",
              "1054445  69dffbf7-06c6-20e8-4332-204ceb19101f        5323          Mobile   \n",
              "1054447  75692f29-a8ac-ca5b-ffc8-27e67bd1a5b0        1905          Mobile   \n",
              "1054448  028f5656-3e7d-7fc0-f2c8-03e14edaaff1        8056          Mobile   \n",
              "\n",
              "        userAgent pageReferrer  year  month  day  hour  \n",
              "1054441   Android  HomeWebsite  2018      2   16     0  \n",
              "1054444   Android  HomeWebsite  2018      2   16     0  \n",
              "1054445    iPhone     Facebook  2018      2   16     0  \n",
              "1054447   Android       Google  2018      2   16     0  \n",
              "1054448    iPhone       Google  2018      2   16     0  "
            ]
          },
          "metadata": {
            "tags": []
          },
          "execution_count": 20
        }
      ]
    },
    {
      "metadata": {
        "id": "i5OpfwXf5aOi",
        "colab_type": "code",
        "outputId": "da008924-6f73-4844-f7f8-e196314de9d4",
        "colab": {
          "base_uri": "https://localhost:8080/",
          "height": 326
        }
      },
      "cell_type": "code",
      "source": [
        "userLog_freq_day.head()"
      ],
      "execution_count": 21,
      "outputs": [
        {
          "output_type": "execute_result",
          "data": {
            "text/html": [
              "<div>\n",
              "<style scoped>\n",
              "    .dataframe tbody tr th:only-of-type {\n",
              "        vertical-align: middle;\n",
              "    }\n",
              "\n",
              "    .dataframe tbody tr th {\n",
              "        vertical-align: top;\n",
              "    }\n",
              "\n",
              "    .dataframe thead tr th {\n",
              "        text-align: left;\n",
              "    }\n",
              "\n",
              "    .dataframe thead tr:last-of-type th {\n",
              "        text-align: right;\n",
              "    }\n",
              "</style>\n",
              "<table border=\"1\" class=\"dataframe\">\n",
              "  <thead>\n",
              "    <tr>\n",
              "      <th>year</th>\n",
              "      <th colspan=\"21\" halign=\"left\">2018</th>\n",
              "    </tr>\n",
              "    <tr>\n",
              "      <th>month</th>\n",
              "      <th colspan=\"10\" halign=\"left\">1</th>\n",
              "      <th>...</th>\n",
              "      <th colspan=\"10\" halign=\"left\">2</th>\n",
              "    </tr>\n",
              "    <tr>\n",
              "      <th>day</th>\n",
              "      <th>1</th>\n",
              "      <th>2</th>\n",
              "      <th>3</th>\n",
              "      <th>4</th>\n",
              "      <th>5</th>\n",
              "      <th>6</th>\n",
              "      <th>7</th>\n",
              "      <th>8</th>\n",
              "      <th>9</th>\n",
              "      <th>10</th>\n",
              "      <th>...</th>\n",
              "      <th>13</th>\n",
              "      <th>14</th>\n",
              "      <th>15</th>\n",
              "      <th>16</th>\n",
              "      <th>17</th>\n",
              "      <th>18</th>\n",
              "      <th>19</th>\n",
              "      <th>20</th>\n",
              "      <th>21</th>\n",
              "      <th>22</th>\n",
              "    </tr>\n",
              "    <tr>\n",
              "      <th>userCode</th>\n",
              "      <th></th>\n",
              "      <th></th>\n",
              "      <th></th>\n",
              "      <th></th>\n",
              "      <th></th>\n",
              "      <th></th>\n",
              "      <th></th>\n",
              "      <th></th>\n",
              "      <th></th>\n",
              "      <th></th>\n",
              "      <th></th>\n",
              "      <th></th>\n",
              "      <th></th>\n",
              "      <th></th>\n",
              "      <th></th>\n",
              "      <th></th>\n",
              "      <th></th>\n",
              "      <th></th>\n",
              "      <th></th>\n",
              "      <th></th>\n",
              "      <th></th>\n",
              "    </tr>\n",
              "  </thead>\n",
              "  <tbody>\n",
              "    <tr>\n",
              "      <th>0000c576-e929-19eb-615a-349ec3b4709b</th>\n",
              "      <td>0</td>\n",
              "      <td>0</td>\n",
              "      <td>0</td>\n",
              "      <td>0</td>\n",
              "      <td>0</td>\n",
              "      <td>0</td>\n",
              "      <td>0</td>\n",
              "      <td>0</td>\n",
              "      <td>0</td>\n",
              "      <td>0</td>\n",
              "      <td>...</td>\n",
              "      <td>0</td>\n",
              "      <td>0</td>\n",
              "      <td>0</td>\n",
              "      <td>0</td>\n",
              "      <td>0</td>\n",
              "      <td>0</td>\n",
              "      <td>0</td>\n",
              "      <td>0</td>\n",
              "      <td>0</td>\n",
              "      <td>0</td>\n",
              "    </tr>\n",
              "    <tr>\n",
              "      <th>0001f7ea-92b8-f7e6-6f03-f99ff799637b</th>\n",
              "      <td>0</td>\n",
              "      <td>0</td>\n",
              "      <td>0</td>\n",
              "      <td>0</td>\n",
              "      <td>0</td>\n",
              "      <td>0</td>\n",
              "      <td>0</td>\n",
              "      <td>0</td>\n",
              "      <td>0</td>\n",
              "      <td>0</td>\n",
              "      <td>...</td>\n",
              "      <td>0</td>\n",
              "      <td>0</td>\n",
              "      <td>0</td>\n",
              "      <td>0</td>\n",
              "      <td>0</td>\n",
              "      <td>0</td>\n",
              "      <td>0</td>\n",
              "      <td>0</td>\n",
              "      <td>0</td>\n",
              "      <td>0</td>\n",
              "    </tr>\n",
              "    <tr>\n",
              "      <th>0002d107-28fe-ffb0-2ebf-a7fb1fdb8a3f</th>\n",
              "      <td>0</td>\n",
              "      <td>0</td>\n",
              "      <td>0</td>\n",
              "      <td>0</td>\n",
              "      <td>0</td>\n",
              "      <td>0</td>\n",
              "      <td>0</td>\n",
              "      <td>0</td>\n",
              "      <td>0</td>\n",
              "      <td>0</td>\n",
              "      <td>...</td>\n",
              "      <td>0</td>\n",
              "      <td>0</td>\n",
              "      <td>0</td>\n",
              "      <td>0</td>\n",
              "      <td>0</td>\n",
              "      <td>0</td>\n",
              "      <td>0</td>\n",
              "      <td>0</td>\n",
              "      <td>0</td>\n",
              "      <td>0</td>\n",
              "    </tr>\n",
              "    <tr>\n",
              "      <th>00031c31-5c7b-563b-4298-f1b320bfea6f</th>\n",
              "      <td>0</td>\n",
              "      <td>0</td>\n",
              "      <td>0</td>\n",
              "      <td>2</td>\n",
              "      <td>0</td>\n",
              "      <td>0</td>\n",
              "      <td>0</td>\n",
              "      <td>0</td>\n",
              "      <td>0</td>\n",
              "      <td>0</td>\n",
              "      <td>...</td>\n",
              "      <td>0</td>\n",
              "      <td>0</td>\n",
              "      <td>0</td>\n",
              "      <td>0</td>\n",
              "      <td>0</td>\n",
              "      <td>0</td>\n",
              "      <td>0</td>\n",
              "      <td>0</td>\n",
              "      <td>0</td>\n",
              "      <td>0</td>\n",
              "    </tr>\n",
              "    <tr>\n",
              "      <th>00040647-ef7a-936b-86e5-66dc2d0b7c2f</th>\n",
              "      <td>0</td>\n",
              "      <td>0</td>\n",
              "      <td>0</td>\n",
              "      <td>0</td>\n",
              "      <td>0</td>\n",
              "      <td>0</td>\n",
              "      <td>0</td>\n",
              "      <td>0</td>\n",
              "      <td>0</td>\n",
              "      <td>0</td>\n",
              "      <td>...</td>\n",
              "      <td>0</td>\n",
              "      <td>0</td>\n",
              "      <td>0</td>\n",
              "      <td>0</td>\n",
              "      <td>0</td>\n",
              "      <td>0</td>\n",
              "      <td>0</td>\n",
              "      <td>0</td>\n",
              "      <td>0</td>\n",
              "      <td>0</td>\n",
              "    </tr>\n",
              "  </tbody>\n",
              "</table>\n",
              "<p>5 rows × 53 columns</p>\n",
              "</div>"
            ],
            "text/plain": [
              "year                                 2018                            ...     \\\n",
              "month                                   1                            ...  2   \n",
              "day                                    1  2  3  4  5  6  7  8  9  10 ... 13   \n",
              "userCode                                                             ...      \n",
              "0000c576-e929-19eb-615a-349ec3b4709b    0  0  0  0  0  0  0  0  0  0 ...  0   \n",
              "0001f7ea-92b8-f7e6-6f03-f99ff799637b    0  0  0  0  0  0  0  0  0  0 ...  0   \n",
              "0002d107-28fe-ffb0-2ebf-a7fb1fdb8a3f    0  0  0  0  0  0  0  0  0  0 ...  0   \n",
              "00031c31-5c7b-563b-4298-f1b320bfea6f    0  0  0  2  0  0  0  0  0  0 ...  0   \n",
              "00040647-ef7a-936b-86e5-66dc2d0b7c2f    0  0  0  0  0  0  0  0  0  0 ...  0   \n",
              "\n",
              "year                                                             \n",
              "month                                                            \n",
              "day                                  14 15 16 17 18 19 20 21 22  \n",
              "userCode                                                         \n",
              "0000c576-e929-19eb-615a-349ec3b4709b  0  0  0  0  0  0  0  0  0  \n",
              "0001f7ea-92b8-f7e6-6f03-f99ff799637b  0  0  0  0  0  0  0  0  0  \n",
              "0002d107-28fe-ffb0-2ebf-a7fb1fdb8a3f  0  0  0  0  0  0  0  0  0  \n",
              "00031c31-5c7b-563b-4298-f1b320bfea6f  0  0  0  0  0  0  0  0  0  \n",
              "00040647-ef7a-936b-86e5-66dc2d0b7c2f  0  0  0  0  0  0  0  0  0  \n",
              "\n",
              "[5 rows x 53 columns]"
            ]
          },
          "metadata": {
            "tags": []
          },
          "execution_count": 21
        }
      ]
    },
    {
      "metadata": {
        "id": "sdFV-XU-NpKx",
        "colab_type": "code",
        "outputId": "49cc7e71-53d7-42e7-9a89-39de50ec80d9",
        "colab": {
          "base_uri": "https://localhost:8080/",
          "height": 365
        }
      },
      "cell_type": "code",
      "source": [
        "user_freq_last_week = userLog_last_week['userCode'].value_counts()\n",
        "user_freq_last_week_np = np.array(user_freq_last_week.values)\n",
        "\n",
        "n, bins, patches = plt.hist(user_freq_last_week_np, 100, density=True, facecolor='g', alpha=0.75)\n",
        "plt.show()\n",
        "\n",
        "print(user_freq_last_week.shape)\n",
        "#print(user_freq_last_week.index)"
      ],
      "execution_count": 22,
      "outputs": [
        {
          "output_type": "display_data",
          "data": {
            "image/png": "[encoded data removed]",
            "text/plain": [
              "<Figure size 576x396 with 1 Axes>"
            ]
          },
          "metadata": {
            "tags": []
          }
        },
        {
          "output_type": "stream",
          "text": [
            "(24002,)\n"
          ],
          "name": "stdout"
        }
      ]
    },
    {
      "metadata": {
        "id": "ed80utZ-OBhC",
        "colab_type": "code",
        "outputId": "736c8bde-453a-46c5-e96f-25b1717e8056",
        "colab": {
          "base_uri": "https://localhost:8080/",
          "height": 34
        }
      },
      "cell_type": "code",
      "source": [
        "print(user_freq_last_week.index.shape)\n"
      ],
      "execution_count": 23,
      "outputs": [
        {
          "output_type": "stream",
          "text": [
            "(24002,)\n"
          ],
          "name": "stdout"
        }
      ]
    },
    {
      "metadata": {
        "id": "5kJmcnVaP1Ol",
        "colab_type": "text"
      },
      "cell_type": "markdown",
      "source": [
        "# clear data user log"
      ]
    },
    {
      "metadata": {
        "id": "z0hlPBZ9P0mk",
        "colab_type": "code",
        "outputId": "3ba1181e-f4c2-4ac4-f664-8ba4b6c3b657",
        "colab": {
          "base_uri": "https://localhost:8080/",
          "height": 34
        }
      },
      "cell_type": "code",
      "source": [
        "#userLog = userLog.loc[userLog['userCode'].isin(userLog_last_week['userCode'])]\n",
        "#userLog = userLog.loc[userLog['project_id'].isin(userLog_last_week['project_id'])]\n",
        "#print(userLog.shape)\n",
        "print(userLog['userCode'].value_counts().shape)\n",
        "#freq_user_seen_proj = pd.crosstab(userLog['project_id'], userLog['userCode'], rownames=['project_id'], colnames=['userCode'])\n",
        "#freq_user_seen_proj_np = np.array(freq_user_seen_proj.values)\n",
        "\n",
        "#print(freq_user_seen_proj_np.shape)\n",
        "#print(freq_user_seen_proj.shape)\n",
        "#print(np.sum(freq_user_seen_proj_np >= 2 ))\n",
        "#freq_user_seen_proj.head()"
      ],
      "execution_count": 24,
      "outputs": [
        {
          "output_type": "stream",
          "text": [
            "(166020,)\n"
          ],
          "name": "stdout"
        }
      ]
    },
    {
      "metadata": {
        "id": "U3jbXRDT3Vp0",
        "colab_type": "code",
        "colab": {}
      },
      "cell_type": "code",
      "source": [
        ""
      ],
      "execution_count": 0,
      "outputs": []
    },
    {
      "metadata": {
        "id": "706HQn4E-5Em",
        "colab_type": "text"
      },
      "cell_type": "markdown",
      "source": [
        "------"
      ]
    },
    {
      "metadata": {
        "id": "eUvg9_n-Luxj",
        "colab_type": "text"
      },
      "cell_type": "markdown",
      "source": [
        "# split train and test set\n",
        "\n",
        "พวก เราจะใช้ user ที่มาใช้ในสัปดาห์สุดท้ายเป็น test set\n",
        "\n",
        "ที่เหลือ เป็น train set"
      ]
    },
    {
      "metadata": {
        "id": "kR5x2AvELtpK",
        "colab_type": "code",
        "outputId": "a96c6744-3e86-46ad-dc88-7e14f7ed41da",
        "colab": {
          "base_uri": "https://localhost:8080/",
          "height": 170
        }
      },
      "cell_type": "code",
      "source": [
        "userLog_train = userLog.loc[~userLog.index.isin(userLog_last_week.index)]\n",
        "userLog_test = userLog.loc[userLog.index.isin(userLog_last_week.index)]\n",
        "\n",
        "print(userLog_last_week.index)\n",
        "print(userLog_train.shape)\n",
        "print(userLog_test.shape)\n",
        "print(userLog.shape)"
      ],
      "execution_count": 25,
      "outputs": [
        {
          "output_type": "stream",
          "text": [
            "Int64Index([1054441, 1054444, 1054445, 1054447, 1054448, 1054450, 1054452,\n",
            "            1054453, 1054454, 1054455,\n",
            "            ...\n",
            "            1234530, 1234545, 1234548, 1234551, 1234554, 1234555, 1234556,\n",
            "            1234559, 1234562, 1234577],\n",
            "           dtype='int64', length=54223)\n",
            "(312277, 9)\n",
            "(54223, 9)\n",
            "(366500, 9)\n"
          ],
          "name": "stdout"
        }
      ]
    },
    {
      "metadata": {
        "id": "eMluvgfIB6xM",
        "colab_type": "code",
        "outputId": "b7dad6a4-ebd2-46c3-b0ed-c660efe43b2b",
        "colab": {
          "base_uri": "https://localhost:8080/",
          "height": 51
        }
      },
      "cell_type": "code",
      "source": [
        "\n",
        "print(userLog_train.shape)\n",
        "print(userLog_test.shape)\n"
      ],
      "execution_count": 26,
      "outputs": [
        {
          "output_type": "stream",
          "text": [
            "(312277, 9)\n",
            "(54223, 9)\n"
          ],
          "name": "stdout"
        }
      ]
    },
    {
      "metadata": {
        "id": "YDTlvyzl2nka",
        "colab_type": "code",
        "outputId": "06a67ece-33d4-4e19-915e-c305ff17b1f7",
        "colab": {
          "base_uri": "https://localhost:8080/",
          "height": 451
        }
      },
      "cell_type": "code",
      "source": [
        "freq_user_seen_proj_train = pd.crosstab(userLog_train['userCode'], userLog_train['project_id'], rownames=['userCode'], colnames=['project_id'])\n",
        "freq_user_seen_proj_train_np = np.array(freq_user_seen_proj_train.values)\n",
        "#print(freq_user_seen_proj_train_np)\n",
        "print(freq_user_seen_proj_train_np.shape)\n",
        "\n",
        "freq_user_seen_proj_train.head()"
      ],
      "execution_count": 27,
      "outputs": [
        {
          "output_type": "stream",
          "text": [
            "(145537, 998)\n"
          ],
          "name": "stdout"
        },
        {
          "output_type": "execute_result",
          "data": {
            "text/html": [
              "<div>\n",
              "<style scoped>\n",
              "    .dataframe tbody tr th:only-of-type {\n",
              "        vertical-align: middle;\n",
              "    }\n",
              "\n",
              "    .dataframe tbody tr th {\n",
              "        vertical-align: top;\n",
              "    }\n",
              "\n",
              "    .dataframe thead th {\n",
              "        text-align: right;\n",
              "    }\n",
              "</style>\n",
              "<table border=\"1\" class=\"dataframe\">\n",
              "  <thead>\n",
              "    <tr style=\"text-align: right;\">\n",
              "      <th>project_id</th>\n",
              "      <th>44</th>\n",
              "      <th>133</th>\n",
              "      <th>189</th>\n",
              "      <th>228</th>\n",
              "      <th>234</th>\n",
              "      <th>235</th>\n",
              "      <th>253</th>\n",
              "      <th>287</th>\n",
              "      <th>291</th>\n",
              "      <th>314</th>\n",
              "      <th>...</th>\n",
              "      <th>9371</th>\n",
              "      <th>9381</th>\n",
              "      <th>9383</th>\n",
              "      <th>9385</th>\n",
              "      <th>9386</th>\n",
              "      <th>9388</th>\n",
              "      <th>9389</th>\n",
              "      <th>9403</th>\n",
              "      <th>9422</th>\n",
              "      <th>9446</th>\n",
              "    </tr>\n",
              "    <tr>\n",
              "      <th>userCode</th>\n",
              "      <th></th>\n",
              "      <th></th>\n",
              "      <th></th>\n",
              "      <th></th>\n",
              "      <th></th>\n",
              "      <th></th>\n",
              "      <th></th>\n",
              "      <th></th>\n",
              "      <th></th>\n",
              "      <th></th>\n",
              "      <th></th>\n",
              "      <th></th>\n",
              "      <th></th>\n",
              "      <th></th>\n",
              "      <th></th>\n",
              "      <th></th>\n",
              "      <th></th>\n",
              "      <th></th>\n",
              "      <th></th>\n",
              "      <th></th>\n",
              "      <th></th>\n",
              "    </tr>\n",
              "  </thead>\n",
              "  <tbody>\n",
              "    <tr>\n",
              "      <th>0000c576-e929-19eb-615a-349ec3b4709b</th>\n",
              "      <td>0</td>\n",
              "      <td>0</td>\n",
              "      <td>0</td>\n",
              "      <td>0</td>\n",
              "      <td>0</td>\n",
              "      <td>0</td>\n",
              "      <td>0</td>\n",
              "      <td>0</td>\n",
              "      <td>0</td>\n",
              "      <td>0</td>\n",
              "      <td>...</td>\n",
              "      <td>0</td>\n",
              "      <td>0</td>\n",
              "      <td>0</td>\n",
              "      <td>0</td>\n",
              "      <td>0</td>\n",
              "      <td>0</td>\n",
              "      <td>0</td>\n",
              "      <td>0</td>\n",
              "      <td>0</td>\n",
              "      <td>0</td>\n",
              "    </tr>\n",
              "    <tr>\n",
              "      <th>0001f7ea-92b8-f7e6-6f03-f99ff799637b</th>\n",
              "      <td>0</td>\n",
              "      <td>0</td>\n",
              "      <td>0</td>\n",
              "      <td>0</td>\n",
              "      <td>0</td>\n",
              "      <td>0</td>\n",
              "      <td>0</td>\n",
              "      <td>0</td>\n",
              "      <td>0</td>\n",
              "      <td>0</td>\n",
              "      <td>...</td>\n",
              "      <td>0</td>\n",
              "      <td>0</td>\n",
              "      <td>0</td>\n",
              "      <td>0</td>\n",
              "      <td>0</td>\n",
              "      <td>0</td>\n",
              "      <td>0</td>\n",
              "      <td>0</td>\n",
              "      <td>0</td>\n",
              "      <td>0</td>\n",
              "    </tr>\n",
              "    <tr>\n",
              "      <th>0002d107-28fe-ffb0-2ebf-a7fb1fdb8a3f</th>\n",
              "      <td>0</td>\n",
              "      <td>0</td>\n",
              "      <td>0</td>\n",
              "      <td>0</td>\n",
              "      <td>0</td>\n",
              "      <td>0</td>\n",
              "      <td>0</td>\n",
              "      <td>0</td>\n",
              "      <td>0</td>\n",
              "      <td>0</td>\n",
              "      <td>...</td>\n",
              "      <td>0</td>\n",
              "      <td>0</td>\n",
              "      <td>0</td>\n",
              "      <td>0</td>\n",
              "      <td>0</td>\n",
              "      <td>0</td>\n",
              "      <td>0</td>\n",
              "      <td>0</td>\n",
              "      <td>0</td>\n",
              "      <td>0</td>\n",
              "    </tr>\n",
              "    <tr>\n",
              "      <th>00031c31-5c7b-563b-4298-f1b320bfea6f</th>\n",
              "      <td>0</td>\n",
              "      <td>0</td>\n",
              "      <td>0</td>\n",
              "      <td>0</td>\n",
              "      <td>0</td>\n",
              "      <td>0</td>\n",
              "      <td>0</td>\n",
              "      <td>0</td>\n",
              "      <td>0</td>\n",
              "      <td>0</td>\n",
              "      <td>...</td>\n",
              "      <td>0</td>\n",
              "      <td>0</td>\n",
              "      <td>0</td>\n",
              "      <td>0</td>\n",
              "      <td>0</td>\n",
              "      <td>0</td>\n",
              "      <td>0</td>\n",
              "      <td>0</td>\n",
              "      <td>0</td>\n",
              "      <td>0</td>\n",
              "    </tr>\n",
              "    <tr>\n",
              "      <th>00040647-ef7a-936b-86e5-66dc2d0b7c2f</th>\n",
              "      <td>0</td>\n",
              "      <td>0</td>\n",
              "      <td>0</td>\n",
              "      <td>0</td>\n",
              "      <td>0</td>\n",
              "      <td>0</td>\n",
              "      <td>0</td>\n",
              "      <td>0</td>\n",
              "      <td>0</td>\n",
              "      <td>0</td>\n",
              "      <td>...</td>\n",
              "      <td>0</td>\n",
              "      <td>0</td>\n",
              "      <td>0</td>\n",
              "      <td>0</td>\n",
              "      <td>0</td>\n",
              "      <td>0</td>\n",
              "      <td>0</td>\n",
              "      <td>0</td>\n",
              "      <td>0</td>\n",
              "      <td>0</td>\n",
              "    </tr>\n",
              "  </tbody>\n",
              "</table>\n",
              "<p>5 rows × 998 columns</p>\n",
              "</div>"
            ],
            "text/plain": [
              "project_id                            44    133   189   228   234   235   \\\n",
              "userCode                                                                   \n",
              "0000c576-e929-19eb-615a-349ec3b4709b     0     0     0     0     0     0   \n",
              "0001f7ea-92b8-f7e6-6f03-f99ff799637b     0     0     0     0     0     0   \n",
              "0002d107-28fe-ffb0-2ebf-a7fb1fdb8a3f     0     0     0     0     0     0   \n",
              "00031c31-5c7b-563b-4298-f1b320bfea6f     0     0     0     0     0     0   \n",
              "00040647-ef7a-936b-86e5-66dc2d0b7c2f     0     0     0     0     0     0   \n",
              "\n",
              "project_id                            253   287   291   314   ...   9371  \\\n",
              "userCode                                                      ...          \n",
              "0000c576-e929-19eb-615a-349ec3b4709b     0     0     0     0  ...      0   \n",
              "0001f7ea-92b8-f7e6-6f03-f99ff799637b     0     0     0     0  ...      0   \n",
              "0002d107-28fe-ffb0-2ebf-a7fb1fdb8a3f     0     0     0     0  ...      0   \n",
              "00031c31-5c7b-563b-4298-f1b320bfea6f     0     0     0     0  ...      0   \n",
              "00040647-ef7a-936b-86e5-66dc2d0b7c2f     0     0     0     0  ...      0   \n",
              "\n",
              "project_id                            9381  9383  9385  9386  9388  9389  \\\n",
              "userCode                                                                   \n",
              "0000c576-e929-19eb-615a-349ec3b4709b     0     0     0     0     0     0   \n",
              "0001f7ea-92b8-f7e6-6f03-f99ff799637b     0     0     0     0     0     0   \n",
              "0002d107-28fe-ffb0-2ebf-a7fb1fdb8a3f     0     0     0     0     0     0   \n",
              "00031c31-5c7b-563b-4298-f1b320bfea6f     0     0     0     0     0     0   \n",
              "00040647-ef7a-936b-86e5-66dc2d0b7c2f     0     0     0     0     0     0   \n",
              "\n",
              "project_id                            9403  9422  9446  \n",
              "userCode                                                \n",
              "0000c576-e929-19eb-615a-349ec3b4709b     0     0     0  \n",
              "0001f7ea-92b8-f7e6-6f03-f99ff799637b     0     0     0  \n",
              "0002d107-28fe-ffb0-2ebf-a7fb1fdb8a3f     0     0     0  \n",
              "00031c31-5c7b-563b-4298-f1b320bfea6f     0     0     0  \n",
              "00040647-ef7a-936b-86e5-66dc2d0b7c2f     0     0     0  \n",
              "\n",
              "[5 rows x 998 columns]"
            ]
          },
          "metadata": {
            "tags": []
          },
          "execution_count": 27
        }
      ]
    },
    {
      "metadata": {
        "id": "-vNDMW_v3irk",
        "colab_type": "code",
        "outputId": "c37ec58f-1e46-4d52-b38c-e6b75271715b",
        "colab": {
          "base_uri": "https://localhost:8080/",
          "height": 383
        }
      },
      "cell_type": "code",
      "source": [
        "freq_user_seen_proj_test = pd.crosstab(userLog_test['userCode'], userLog_test['project_id'], rownames=['userCode'], colnames=['project_id'])\n",
        "freq_user_seen_proj_test_np = np.array(freq_user_seen_proj_test.values)\n",
        "#print(freq_user_seen_proj_test_np)\n",
        "print(freq_user_seen_proj_test_np.shape)\n",
        "\n",
        "freq_user_seen_proj_test.head()"
      ],
      "execution_count": 28,
      "outputs": [
        {
          "output_type": "stream",
          "text": [
            "(24002, 998)\n"
          ],
          "name": "stdout"
        },
        {
          "output_type": "execute_result",
          "data": {
            "text/html": [
              "<div>\n",
              "<style scoped>\n",
              "    .dataframe tbody tr th:only-of-type {\n",
              "        vertical-align: middle;\n",
              "    }\n",
              "\n",
              "    .dataframe tbody tr th {\n",
              "        vertical-align: top;\n",
              "    }\n",
              "\n",
              "    .dataframe thead th {\n",
              "        text-align: right;\n",
              "    }\n",
              "</style>\n",
              "<table border=\"1\" class=\"dataframe\">\n",
              "  <thead>\n",
              "    <tr style=\"text-align: right;\">\n",
              "      <th>project_id</th>\n",
              "      <th>44</th>\n",
              "      <th>189</th>\n",
              "      <th>228</th>\n",
              "      <th>234</th>\n",
              "      <th>235</th>\n",
              "      <th>253</th>\n",
              "      <th>287</th>\n",
              "      <th>291</th>\n",
              "      <th>314</th>\n",
              "      <th>618</th>\n",
              "      <th>...</th>\n",
              "      <th>9383</th>\n",
              "      <th>9385</th>\n",
              "      <th>9386</th>\n",
              "      <th>9388</th>\n",
              "      <th>9389</th>\n",
              "      <th>9403</th>\n",
              "      <th>9422</th>\n",
              "      <th>9446</th>\n",
              "      <th>9471</th>\n",
              "      <th>9483</th>\n",
              "    </tr>\n",
              "    <tr>\n",
              "      <th>userCode</th>\n",
              "      <th></th>\n",
              "      <th></th>\n",
              "      <th></th>\n",
              "      <th></th>\n",
              "      <th></th>\n",
              "      <th></th>\n",
              "      <th></th>\n",
              "      <th></th>\n",
              "      <th></th>\n",
              "      <th></th>\n",
              "      <th></th>\n",
              "      <th></th>\n",
              "      <th></th>\n",
              "      <th></th>\n",
              "      <th></th>\n",
              "      <th></th>\n",
              "      <th></th>\n",
              "      <th></th>\n",
              "      <th></th>\n",
              "      <th></th>\n",
              "      <th></th>\n",
              "    </tr>\n",
              "  </thead>\n",
              "  <tbody>\n",
              "    <tr>\n",
              "      <th>0009ecb5-23d3-d9d5-16fd-6d9b39465d87</th>\n",
              "      <td>0</td>\n",
              "      <td>0</td>\n",
              "      <td>0</td>\n",
              "      <td>0</td>\n",
              "      <td>0</td>\n",
              "      <td>0</td>\n",
              "      <td>0</td>\n",
              "      <td>0</td>\n",
              "      <td>0</td>\n",
              "      <td>0</td>\n",
              "      <td>...</td>\n",
              "      <td>0</td>\n",
              "      <td>0</td>\n",
              "      <td>0</td>\n",
              "      <td>0</td>\n",
              "      <td>0</td>\n",
              "      <td>0</td>\n",
              "      <td>0</td>\n",
              "      <td>0</td>\n",
              "      <td>0</td>\n",
              "      <td>0</td>\n",
              "    </tr>\n",
              "    <tr>\n",
              "      <th>000a0872-72e2-b1b9-bfe3-3b9e173c516b</th>\n",
              "      <td>0</td>\n",
              "      <td>0</td>\n",
              "      <td>0</td>\n",
              "      <td>0</td>\n",
              "      <td>0</td>\n",
              "      <td>0</td>\n",
              "      <td>0</td>\n",
              "      <td>0</td>\n",
              "      <td>0</td>\n",
              "      <td>0</td>\n",
              "      <td>...</td>\n",
              "      <td>0</td>\n",
              "      <td>0</td>\n",
              "      <td>0</td>\n",
              "      <td>0</td>\n",
              "      <td>0</td>\n",
              "      <td>0</td>\n",
              "      <td>0</td>\n",
              "      <td>0</td>\n",
              "      <td>0</td>\n",
              "      <td>0</td>\n",
              "    </tr>\n",
              "    <tr>\n",
              "      <th>000b00a0-8fc3-1677-c405-a8389b484979</th>\n",
              "      <td>0</td>\n",
              "      <td>0</td>\n",
              "      <td>0</td>\n",
              "      <td>0</td>\n",
              "      <td>0</td>\n",
              "      <td>0</td>\n",
              "      <td>0</td>\n",
              "      <td>0</td>\n",
              "      <td>0</td>\n",
              "      <td>0</td>\n",
              "      <td>...</td>\n",
              "      <td>0</td>\n",
              "      <td>0</td>\n",
              "      <td>0</td>\n",
              "      <td>0</td>\n",
              "      <td>0</td>\n",
              "      <td>0</td>\n",
              "      <td>0</td>\n",
              "      <td>0</td>\n",
              "      <td>0</td>\n",
              "      <td>0</td>\n",
              "    </tr>\n",
              "    <tr>\n",
              "      <th>0016878a-2b0e-647a-efa1-772fc5873c7d</th>\n",
              "      <td>0</td>\n",
              "      <td>0</td>\n",
              "      <td>0</td>\n",
              "      <td>0</td>\n",
              "      <td>0</td>\n",
              "      <td>0</td>\n",
              "      <td>0</td>\n",
              "      <td>0</td>\n",
              "      <td>0</td>\n",
              "      <td>0</td>\n",
              "      <td>...</td>\n",
              "      <td>0</td>\n",
              "      <td>0</td>\n",
              "      <td>0</td>\n",
              "      <td>0</td>\n",
              "      <td>0</td>\n",
              "      <td>0</td>\n",
              "      <td>0</td>\n",
              "      <td>0</td>\n",
              "      <td>0</td>\n",
              "      <td>0</td>\n",
              "    </tr>\n",
              "    <tr>\n",
              "      <th>00173c21-1f39-3a33-8ceb-2cb27f83c7b7</th>\n",
              "      <td>0</td>\n",
              "      <td>0</td>\n",
              "      <td>0</td>\n",
              "      <td>0</td>\n",
              "      <td>0</td>\n",
              "      <td>0</td>\n",
              "      <td>0</td>\n",
              "      <td>0</td>\n",
              "      <td>0</td>\n",
              "      <td>0</td>\n",
              "      <td>...</td>\n",
              "      <td>0</td>\n",
              "      <td>0</td>\n",
              "      <td>0</td>\n",
              "      <td>0</td>\n",
              "      <td>0</td>\n",
              "      <td>0</td>\n",
              "      <td>0</td>\n",
              "      <td>0</td>\n",
              "      <td>0</td>\n",
              "      <td>0</td>\n",
              "    </tr>\n",
              "  </tbody>\n",
              "</table>\n",
              "<p>5 rows × 998 columns</p>\n",
              "</div>"
            ],
            "text/plain": [
              "project_id                            44    189   228   234   235   253   \\\n",
              "userCode                                                                   \n",
              "0009ecb5-23d3-d9d5-16fd-6d9b39465d87     0     0     0     0     0     0   \n",
              "000a0872-72e2-b1b9-bfe3-3b9e173c516b     0     0     0     0     0     0   \n",
              "000b00a0-8fc3-1677-c405-a8389b484979     0     0     0     0     0     0   \n",
              "0016878a-2b0e-647a-efa1-772fc5873c7d     0     0     0     0     0     0   \n",
              "00173c21-1f39-3a33-8ceb-2cb27f83c7b7     0     0     0     0     0     0   \n",
              "\n",
              "project_id                            287   291   314   618   ...   9383  \\\n",
              "userCode                                                      ...          \n",
              "0009ecb5-23d3-d9d5-16fd-6d9b39465d87     0     0     0     0  ...      0   \n",
              "000a0872-72e2-b1b9-bfe3-3b9e173c516b     0     0     0     0  ...      0   \n",
              "000b00a0-8fc3-1677-c405-a8389b484979     0     0     0     0  ...      0   \n",
              "0016878a-2b0e-647a-efa1-772fc5873c7d     0     0     0     0  ...      0   \n",
              "00173c21-1f39-3a33-8ceb-2cb27f83c7b7     0     0     0     0  ...      0   \n",
              "\n",
              "project_id                            9385  9386  9388  9389  9403  9422  \\\n",
              "userCode                                                                   \n",
              "0009ecb5-23d3-d9d5-16fd-6d9b39465d87     0     0     0     0     0     0   \n",
              "000a0872-72e2-b1b9-bfe3-3b9e173c516b     0     0     0     0     0     0   \n",
              "000b00a0-8fc3-1677-c405-a8389b484979     0     0     0     0     0     0   \n",
              "0016878a-2b0e-647a-efa1-772fc5873c7d     0     0     0     0     0     0   \n",
              "00173c21-1f39-3a33-8ceb-2cb27f83c7b7     0     0     0     0     0     0   \n",
              "\n",
              "project_id                            9446  9471  9483  \n",
              "userCode                                                \n",
              "0009ecb5-23d3-d9d5-16fd-6d9b39465d87     0     0     0  \n",
              "000a0872-72e2-b1b9-bfe3-3b9e173c516b     0     0     0  \n",
              "000b00a0-8fc3-1677-c405-a8389b484979     0     0     0  \n",
              "0016878a-2b0e-647a-efa1-772fc5873c7d     0     0     0  \n",
              "00173c21-1f39-3a33-8ceb-2cb27f83c7b7     0     0     0  \n",
              "\n",
              "[5 rows x 998 columns]"
            ]
          },
          "metadata": {
            "tags": []
          },
          "execution_count": 28
        }
      ]
    },
    {
      "metadata": {
        "id": "4fmJBpKkLrGk",
        "colab_type": "text"
      },
      "cell_type": "markdown",
      "source": [
        "----"
      ]
    },
    {
      "metadata": {
        "id": "mnFbvtoizeWT",
        "colab_type": "text"
      },
      "cell_type": "markdown",
      "source": [
        "\n",
        "# TODO#11:  function to normalize data\n"
      ]
    },
    {
      "metadata": {
        "id": "gqsJzM8UpYnH",
        "colab_type": "code",
        "colab": {}
      },
      "cell_type": "code",
      "source": [
        "def normalize(x):\n",
        "  x_min = np.min(x,axis = 0)\n",
        "  x_max = np.max(x,axis = 0)\n",
        "  x_nor = (x - x_min)/ (x_max - x_min)\n",
        "  return x_nor;"
      ],
      "execution_count": 0,
      "outputs": []
    },
    {
      "metadata": {
        "id": "2gtI7xfM1joC",
        "colab_type": "text"
      },
      "cell_type": "markdown",
      "source": [
        "# recommendation system\n",
        "พวกเราจะสร้าง recomentation sys โดยเราจะใช้ NNในการสร้างขึ้นมา\n",
        "\n",
        "[Nearest Neighbors example](https://scikit-learn.org/stable/modules/neighbors.html)\n",
        "\n",
        "\n",
        "[distance function](https://scikit-learn.org/stable/modules/generated/sklearn.neighbors.DistanceMetric.html#sklearn.neighbors.DistanceMetric)"
      ]
    },
    {
      "metadata": {
        "id": "Hm2cLZ9gxoR3",
        "colab_type": "code",
        "colab": {}
      },
      "cell_type": "code",
      "source": [
        "# recommentdation system\n",
        "def feature_sel(userLog_data_frame,user_code):\n",
        "  \n",
        "  userLog_selected = userLog_data_frame.loc[userLog_data_frame['userCode'].isin(user_code)]\n",
        "  user_seen_proj = userLog_data_frame['project_id'].values\n",
        "  \n",
        "  np_data =np.zeros((len(user_seen_proj), 3 + len(project_facility_table.columns)))\n",
        "  for i  in np.arange(len(user_seen_proj)) :\n",
        "    proj_id = user_seen_proj[i]\n",
        "    user_proj_far = project_facility_table.loc[project_facility_table.index.isin(proj_id)]\n",
        "    user_proj_main = project_main.loc[project_main['project_id'].isin(proj_id)]\n",
        "    np_data[i,:] = np.hstack(( np.array(user_proj_main[[\"lat\",\"lon\",\"starting_price\"]].values) ,  np.array(user_proj_far.values) ))\n",
        "\n",
        "  return np_data;"
      ],
      "execution_count": 0,
      "outputs": []
    },
    {
      "metadata": {
        "id": "j6kIcvT6q960",
        "colab_type": "text"
      },
      "cell_type": "markdown",
      "source": [
        "\n",
        "# TODO#11: \n",
        "\n",
        "run example จาก feature ที่เรากำหนด ขึ้นจากหัวข้อด้านบน\n",
        "\n"
      ]
    },
    {
      "metadata": {
        "id": "6xJZ6wOTw56N",
        "colab_type": "code",
        "colab": {}
      },
      "cell_type": "code",
      "source": [
        "project_main_np_data_nor = np.zeros((freq_user_seen_proj_test.shape[0],3 + len(project_facility_table.columns)))\n",
        "for i in np.arange(freq_user_seen_proj_test.shape[0]):\n",
        "  project_main_np_data_nor[i,:] = feature_sel(userLog_train,freq_user_seen_proj_train.index[i],np_proj_fea_min,np_proj_fea_max)\n",
        "project_main_np_data_nor = normalize(project_main_np_data_nor)"
      ],
      "execution_count": 0,
      "outputs": []
    },
    {
      "metadata": {
        "id": "fefnFvw5xhYI",
        "colab_type": "code",
        "colab": {}
      },
      "cell_type": "code",
      "source": [
        "nbrs_proj = NearestNeighbors(n_neighbors=5, algorithm='ball_tree').fit(project_main_np_data_nor) # metric=’minkowski’ , “jaccard”  ## jaccard use boolean\n",
        "# print(project_main_np_data_nor)\n",
        "\n",
        "distances, indices = nbrs_proj.kneighbors([project_main_np_data_nor])"
      ],
      "execution_count": 0,
      "outputs": []
    },
    {
      "metadata": {
        "id": "EwpG4eYw6W8c",
        "colab_type": "text"
      },
      "cell_type": "markdown",
      "source": [
        "ลองสรา้ง  recommendation system จาก การดูของ user ว่า ใกล้เคียง กับ user คนไหนบ้าง และ recommend ตาม porj ที่ไม่ได้ดู\n",
        "\n",
        "แต่การสร้าง user ขึ้นมา ข้อมูลที่มีนั้นใหญ่เกินไปที่เราจะประมวลผลได้ ดังนั้น เราต้องเลือก user มา top 1000 มาเป็น exaple ที่เลือก recommend"
      ]
    },
    {
      "metadata": {
        "id": "Bfv4ulti29zQ",
        "colab_type": "code",
        "colab": {}
      },
      "cell_type": "code",
      "source": [
        "freq_user_seen_proj_train_nor = normalize(freq_user_seen_proj_train_np) "
      ],
      "execution_count": 0,
      "outputs": []
    },
    {
      "metadata": {
        "id": "ScCTd-Th2-VP",
        "colab_type": "code",
        "colab": {}
      },
      "cell_type": "code",
      "source": [
        "nbrs_user_numberical = NearestNeighbors(n_neighbors=5, algorithm='ball_tree').fit(freq_user_seen_proj_train_nor) # metric=’minkowski’ , “jaccard”  ## jaccard use boolean\n",
        "\n",
        "distances, indices = nbrs_user_numberical.kneighbors(freq_user_seen_proj_train_nor)"
      ],
      "execution_count": 0,
      "outputs": []
    },
    {
      "metadata": {
        "id": "iynWysLLOpMc",
        "colab_type": "text"
      },
      "cell_type": "markdown",
      "source": [
        ""
      ]
    },
    {
      "metadata": {
        "id": "JSW_j7sIzD_c",
        "colab_type": "text"
      },
      "cell_type": "markdown",
      "source": [
        "ลองสุ่มตัวอย่างเพื่อทดสอบผลลัพธ์"
      ]
    },
    {
      "metadata": {
        "id": "TTg0OMUMtNoH",
        "colab_type": "code",
        "outputId": "79488ef5-423d-4fa4-83a5-01797af22a3f",
        "colab": {
          "base_uri": "https://localhost:8080/",
          "height": 34
        }
      },
      "cell_type": "code",
      "source": [
        "nbrs_user = NearestNeighbors(n_neighbors= 10 , algorithm='auto',metric='jaccard' ).fit(freq_user_seen_proj_train_np >= 1)\n",
        "print(freq_user_seen_proj_train_np.shape)"
      ],
      "execution_count": 34,
      "outputs": [
        {
          "output_type": "stream",
          "text": [
            "(145537, 998)\n"
          ],
          "name": "stdout"
        }
      ]
    },
    {
      "metadata": {
        "id": "pZangTSgQKmx",
        "colab_type": "code",
        "colab": {}
      },
      "cell_type": "code",
      "source": [
        "distances, indices = nbrs_user.kneighbors(freq_user_seen_proj_train_np >= 1)\n",
        "print('index')\n",
        "#print(indices[0:20])\n",
        "print(indices.shape)\n",
        "#print(distances[0:20])\n",
        "#print('----------------------------------------------------')"
      ],
      "execution_count": 0,
      "outputs": []
    },
    {
      "metadata": {
        "id": "C_WaA-8d7RRs",
        "colab_type": "text"
      },
      "cell_type": "markdown",
      "source": [
        "แสดงผลการ recommendation โดยดูจากผลลัพธ์ว่าใกล้เคียงอย่างไรบ้าง"
      ]
    },
    {
      "metadata": {
        "id": "tUQi1borxp0i",
        "colab_type": "code",
        "colab": {}
      },
      "cell_type": "code",
      "source": [
        "freq_user_seen_proj_all = pd.crosstab(userLog['userCode'], userLog['project_id'], rownames=['userCode'], colnames=['project_id'])\n",
        "print(freq_user_seen_proj_all.shape)\n",
        "num_rand =np.random.randint(22185,  size=1)\n",
        "#print(num_rand)\n",
        "user_0_seen = freq_user_seen_proj_all.iloc[10000].values\n",
        "\n",
        "# print(user_0_seen > 0)\n",
        "print('difgkdpfgodfkgdfjgoidjfgoidfgjo')\n",
        "print(freq_user_seen_proj_all.columns[user_0_seen > 0].values)\n",
        "\n",
        "# print(freq_user_seen_proj_all[1905].head(1))\n",
        "\n",
        "print('------------------------------------------------------')\n",
        "#print(freq_user_seen_proj_all.loc['0009ecb5-23d3-d9d5-16fd-6d9b39465d87'])"
      ],
      "execution_count": 0,
      "outputs": []
    },
    {
      "metadata": {
        "id": "6X70NsRLRW8p",
        "colab_type": "code",
        "colab": {}
      },
      "cell_type": "code",
      "source": [
        ""
      ],
      "execution_count": 0,
      "outputs": []
    },
    {
      "metadata": {
        "id": "BK-BfQMh7khs",
        "colab_type": "text"
      },
      "cell_type": "markdown",
      "source": [
        "ในการ recommendation จริงๆนั้นมีการ วัดผลการ recommend โดยใช้รูปแบบนี้เป็นหลักลองแสดงการวัดผลโดยใช้ matrix นี่ดู [Mean Average Precision](http://sdsawtelle.github.io/blog/output/mean-average-precision-MAP-for-recommender-systems.html?fbclid=IwAR2UOfz0a_2Ig60aQ2HszgZq63nch96Hbzod2q54kDZRZT_mPzdsxJXyPj0)"
      ]
    },
    {
      "metadata": {
        "id": "Cq6USarFgu85",
        "colab_type": "text"
      },
      "cell_type": "markdown",
      "source": [
        "# function เพื่อ run map @ k"
      ]
    },
    {
      "metadata": {
        "id": "6b5gVXpEajV7",
        "colab_type": "code",
        "colab": {}
      },
      "cell_type": "code",
      "source": [
        "def proj_recommend(nn_dict,dict_seen_train):\n",
        "  nn_proj = {}\n",
        "  for user_code_nn in nn_dict:\n",
        "    list_proj = []\n",
        "    for user_in_list in nn_dict[user_code_nn]:\n",
        "      list_proj = list_proj + list(dict_seen_train[user_in_list])\n",
        "    nn_proj[user_code_nn] = list_proj\n",
        "  return nn_proj\n",
        "\n",
        "####################################################################\n",
        "\n",
        "def index_to_usercode(nn_index,user_code_list):\n",
        "  nn_dict = {}\n",
        "  for i in np.arange(nn_index.shape[0]):\n",
        "    nn_list = []\n",
        "    nn_name = user_code_list[i]\n",
        "    for j in np.arange(nn_index.shape[1]):\n",
        "      nn_list.append(user_code_list[j])\n",
        "    nn_dict[nn_name] = nn_list\n",
        "  return nn_dict\n",
        "\n",
        "####################################################################\n",
        "\n",
        "def proj_repeat(dict_train,dict_test):\n",
        "  dict_out = {} \n",
        "  for user_code in dict_train:\n",
        "    list_proj_train = np.array(dict_train[user_code])\n",
        "    list_proj_test = np.array(dict_test[user_code])\n",
        "    bool_list = np.isin(list_proj_test ,list_proj_train)\n",
        "    dict_out[user_code] = list(list_proj_test[bool_list])\n",
        "  return dict_out\n",
        "\n",
        "####################################################################\n",
        "\n",
        "def proj_seen(data_freq_seen):\n",
        "  all_colums = data_freq_seen.columns\n",
        "  all_index = data_freq_seen.index\n",
        "  output_list = {}\n",
        "  for index in np.arange(len(all_index)):\n",
        "    np_array = np.array(data_freq_seen.iloc[index])\n",
        "    output_list[all_index[index]] = all_colums[np_array > 0].values\n",
        "  return output_list\n",
        "\n",
        "####################################################################\n",
        "\n",
        "def mean_average_precision(dict_recomment,dict_test,k):\n",
        "  list_map_at_k = []\n",
        "  for user_code in dict_test:\n",
        "    list_map_at_k_user_i = []\n",
        "    list_proj_rec = np.array(dict_recomment[user_code])\n",
        "    list_proj_test = np.array(dict_test[user_code])\n",
        "    \n",
        "    ##########\n",
        "    \n",
        "    for i in np.arange(k):\n",
        "      if(i == len(list_proj_rec) or len(list_proj_test) == 0 or len(list_proj_rec) == 0):\n",
        "        break\n",
        "      bool_list = np.isin(list_proj_rec[0:i+1],list_proj_test)\n",
        "      list_map_at_k_user_i.append(np.sum(bool_list)/(i+1))\n",
        "    \n",
        "    ##########\n",
        "\n",
        "    number = np.mean(np.array(list_map_at_k_user_i))\n",
        "    \n",
        "    if(~np.isnan(number)):\n",
        "      list_map_at_k.append(number)\n",
        "\n",
        "  return np.mean(np.array(list_map_at_k))"
      ],
      "execution_count": 0,
      "outputs": []
    },
    {
      "metadata": {
        "id": "Bt7u_8ULgfnt",
        "colab_type": "text"
      },
      "cell_type": "markdown",
      "source": [
        "# ตรวจดูคำตอบ NN"
      ]
    },
    {
      "metadata": {
        "id": "F946y6f-dYw1",
        "colab_type": "code",
        "colab": {}
      },
      "cell_type": "code",
      "source": [
        "dist_user_test = proj_seen(freq_user_seen_proj_test)\n",
        "dist_user_train = proj_seen(freq_user_seen_proj_train)\n",
        "dist_user_test = proj_repeat(dist_user_train,dist_user_test)\n",
        "nn_dict_rec = index_to_usercode(indices,freq_user_seen_proj_train.index)\n",
        "dist_user_rec = proj_recommend(nn_dict_rec,dist_user_train)\n",
        "dist_user_rec = proj_repeat(dist_user_train,dist_user_rec)"
      ],
      "execution_count": 0,
      "outputs": []
    },
    {
      "metadata": {
        "id": "wyVzfeYPfNN1",
        "colab_type": "code",
        "colab": {}
      },
      "cell_type": "code",
      "source": [
        "k = 3\n",
        "map_k = mean_average_precision(dist_user_rec,dist_user_test,k)\n",
        "print('Your result : ', map_k)"
      ],
      "execution_count": 0,
      "outputs": []
    },
    {
      "metadata": {
        "id": "UZeUDOowFdB1",
        "colab_type": "text"
      },
      "cell_type": "markdown",
      "source": [
        "------\n",
        "------\n",
        "-----------\n",
        "-----------"
      ]
    },
    {
      "metadata": {
        "id": "joHot2kPutVv",
        "colab_type": "text"
      },
      "cell_type": "markdown",
      "source": [
        "<pre>\n",
        "title: testing_df_allprj_kaggle.csv, id: 13ZtVjUZJ_qs4fpLqDPSZhKwCc7pSKin_\n",
        "title: knn_submit_file.csv, id: 1QcrlPjw3qiN8U8nmUcAOY_PnKmIThNqs\n",
        "</pre>"
      ]
    },
    {
      "metadata": {
        "id": "xueP3moJurb0",
        "colab_type": "code",
        "colab": {}
      },
      "cell_type": "code",
      "source": [
        "'''\n",
        "  # file_id is str\n",
        "  data_downloaded = drive.CreateFile({'id': file_id })\n",
        "  data_downloaded.GetContentFile('readCsvFile.csv')\n",
        "  # raw_data = pd.read_csv('readCsvFile.csv')\n",
        "  raw_data = pd.read_csv('readCsvFile.csv',delimiter= ';')\n",
        "'''\n",
        "data_downloaded = drive.CreateFile({'id': '13ZtVjUZJ_qs4fpLqDPSZhKwCc7pSKin_' })\n",
        "data_downloaded.GetContentFile('readCsvFile.csv')\n",
        "testing_df_allprj_kaggle = pd.read_csv('readCsvFile.csv')\n",
        "testing_df_allprj_kaggle.head()\n",
        "\n"
      ],
      "execution_count": 0,
      "outputs": []
    },
    {
      "metadata": {
        "id": "MqHKZZJsvprw",
        "colab_type": "code",
        "colab": {}
      },
      "cell_type": "code",
      "source": [
        "data_downloaded = drive.CreateFile({'id': '1QcrlPjw3qiN8U8nmUcAOY_PnKmIThNqs' })\n",
        "data_downloaded.GetContentFile('readCsvFile2.csv')\n",
        "knn_submit_file = pd.read_csv('readCsvFile2.csv')\n",
        "\n",
        "print(knn_submit_file['project_id'].iloc[0].split(' '))\n",
        "print(knn_submit_file['userCode'].iloc[0])\n",
        "print(knn_submit_file.shape)\n",
        "knn_submit_file.head()"
      ],
      "execution_count": 0,
      "outputs": []
    },
    {
      "metadata": {
        "id": "XBnX5Yy5w0SO",
        "colab_type": "code",
        "colab": {}
      },
      "cell_type": "code",
      "source": [
        "def read_dict_ref(data_frame):\n",
        "  dict_data = {}\n",
        "  for i in np.arange(data_frame.shape[0]):\n",
        "    dict_data[data_frame['userCode'].iloc[i]] = data_frame['project_id'].iloc[i].split(' ')\n",
        "  return dict_data"
      ],
      "execution_count": 0,
      "outputs": []
    },
    {
      "metadata": {
        "id": "GLU2IlMsya5u",
        "colab_type": "code",
        "colab": {}
      },
      "cell_type": "code",
      "source": [
        "dict_rec = read_dict_ref(knn_submit_file)\n",
        "dict_test = read_dict_ref(testing_df_allprj_kaggle)\n",
        "\n",
        "k = 3\n",
        "map_k = mean_average_precision(dict_rec,dict_test,k)\n",
        "\n",
        "print(map_k)"
      ],
      "execution_count": 0,
      "outputs": []
    },
    {
      "metadata": {
        "id": "db8fEuk4fhTe",
        "colab_type": "text"
      },
      "cell_type": "markdown",
      "source": [
        "# K-mean\n",
        "\n"
      ]
    },
    {
      "metadata": {
        "id": "KT8J0BYr1Vc8",
        "colab_type": "text"
      },
      "cell_type": "markdown",
      "source": [
        "การ ที่เราทำ k-mean นั้น จะขึ้นกับระยะห่างที่เราตั้งขึ้นมา ดังนั้น feature ที่มาค่า conv ที่สูงนั้นจะส่งผลต่อการคำนวนมากเพราะ ค่าของ feature มากกว่า feature อื่นๆมากเกินไป ดังนั้น ก่อนที่เราจะ ใช้ k mean เราจพเป็นต้อง normalize  feature ของเราทั้งหมดก่อน"
      ]
    },
    {
      "metadata": {
        "id": "jakfsr5K3Hdq",
        "colab_type": "text"
      },
      "cell_type": "markdown",
      "source": [
        "ทดลองทำ k-mean โดยใช้ข้อมูล ของ ทำแหน่งที่ตั้ง ราคา และ facility ต่างเป็น feature"
      ]
    },
    {
      "metadata": {
        "id": "dB8O8mef-IOm",
        "colab_type": "code",
        "colab": {}
      },
      "cell_type": "code",
      "source": [
        "project_main_np_data  = np.hstack((np.array(project_main[[\"lat\",\"lon\",\"starting_price\"]].values) , np.array(project_facility_table.values)))    \n",
        "project_main_np_data_nor,project_main_np_data_min,project_main_np_data_max  = normalize(project_main_np_data)\n",
        "print(np.count_nonzero(np.isnan(project_main_np_data_nor)))\n"
      ],
      "execution_count": 0,
      "outputs": []
    },
    {
      "metadata": {
        "id": "PowXN3WC3wm4",
        "colab_type": "text"
      },
      "cell_type": "markdown",
      "source": [
        "แสดงผลลัพธ์การ รัน k mean ออกมา\n",
        "\n",
        "[K-mean example](https://scikit-learn.org/stable/auto_examples/cluster/plot_cluster_iris.html)"
      ]
    },
    {
      "metadata": {
        "id": "RukG4mI7do-I",
        "colab_type": "code",
        "colab": {}
      },
      "cell_type": "code",
      "source": [
        "plt.plot(project_main_np_data[:,0], project_main_np_data[:,1], 'r^')\n",
        "plt.show()\n",
        "##\n",
        "from sklearn.cluster import KMeans\n",
        "kmean_result =  KMeans(n_clusters=8).fit(project_main_np_data_nor)\n",
        "kmean_result.fit(project_main_np_data)\n",
        "# print(kmean_result.labels_)\n",
        "### k-mean \n",
        "colors = ['bo', 'go', 'ro', 'co', 'mo', 'yo', 'ko', 'wo']\n",
        "for i in np.arange(project_main_np_data.shape[0]):\n",
        "  plt.plot(project_main_np_data[i,0], project_main_np_data[i,1], colors[kmean_result.labels_[i]])\n",
        "plt.show()\n",
        "\n",
        "##\n"
      ],
      "execution_count": 0,
      "outputs": []
    },
    {
      "metadata": {
        "id": "LCiCLdDd1S30",
        "colab_type": "text"
      },
      "cell_type": "markdown",
      "source": [
        "แสดงความคิดเห็นกับข้อมูลที่ visual ออกมา\n"
      ]
    },
    {
      "metadata": {
        "id": "dfAFzgXx3ihs",
        "colab_type": "code",
        "colab": {}
      },
      "cell_type": "code",
      "source": [
        "freq_user_seen_proj = pd.crosstab(userLog['project_id'], userLog['userCode'], rownames=['project_id'], colnames=['userCode'])\n",
        "freq_user_seen_proj_np = np.array(freq_user_seen_proj.values)\n",
        "\n",
        "#print(freq_user_seen_proj_np.shape)\n",
        "print(freq_user_seen_proj.shape)\n",
        "freq_user_seen_proj.head()\n"
      ],
      "execution_count": 0,
      "outputs": []
    },
    {
      "metadata": {
        "id": "FzoPsAwN6ddE",
        "colab_type": "code",
        "colab": {}
      },
      "cell_type": "code",
      "source": [
        ""
      ],
      "execution_count": 0,
      "outputs": []
    },
    {
      "metadata": {
        "id": "LoDSQAgG3ugE",
        "colab_type": "code",
        "colab": {}
      },
      "cell_type": "code",
      "source": [
        "kmean_result =  KMeans(n_clusters=8).fit(freq_user_seen_proj_np)\n",
        "# kmean_result.fit(project_main_np_data)\n",
        "# print(kmean_result.labels_)\n",
        "### k-mean \n",
        "colors = ['bo', 'go', 'ro', 'co', 'mo', 'yo', 'ko', 'wo']\n",
        "for i in np.arange(project_main_np_data.shape[0]):\n",
        "  plt.plot(project_main_np_data[i,0], project_main_np_data[i,1], colors[kmean_result.labels_[i]])\n",
        "plt.show()"
      ],
      "execution_count": 0,
      "outputs": []
    }
  ]
}