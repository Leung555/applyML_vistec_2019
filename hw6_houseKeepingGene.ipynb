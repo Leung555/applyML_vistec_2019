{
  "nbformat": 4,
  "nbformat_minor": 0,
  "metadata": {
    "colab": {
      "name": "hw6_houseKeepingGene.ipynb",
      "version": "0.3.2",
      "provenance": [],
      "collapsed_sections": [],
      "include_colab_link": true
    },
    "kernelspec": {
      "name": "python3",
      "display_name": "Python 3"
    }
  },
  "cells": [
    {
      "cell_type": "markdown",
      "metadata": {
        "id": "view-in-github",
        "colab_type": "text"
      },
      "source": [
        "<a href=\"https://colab.research.google.com/github/Pataweepr/applyML_vistec_2019/blob/master/hw6_houseKeepingGene.ipynb\" target=\"_parent\"><img src=\"https://colab.research.google.com/assets/colab-badge.svg\" alt=\"Open In Colab\"/></a>"
      ]
    },
    {
      "metadata": {
        "id": "yFgto56fcGzL",
        "colab_type": "text"
      },
      "cell_type": "markdown",
      "source": [
        "## naive_bayes [link text](https://scikit-learn.org/stable/modules/naive_bayes.html)"
      ]
    },
    {
      "metadata": {
        "id": "uGPCHub7b6oG",
        "colab_type": "code",
        "colab": {
          "base_uri": "https://localhost:8080/",
          "height": 51
        },
        "outputId": "9ac8719e-7e47-4695-ed74-aca4e095854b"
      },
      "cell_type": "code",
      "source": [
        "#@title\n",
        "!pip install -U -q PyDrive\n",
        "\n",
        "from pydrive.auth import GoogleAuth\n",
        "from pydrive.drive import GoogleDrive\n",
        "from google.colab import auth\n",
        "from oauth2client.client import GoogleCredentials\n",
        "\n",
        "# 1. Authenticate and create the PyDrive client.\n",
        "auth.authenticate_user()\n",
        "gauth = GoogleAuth()\n",
        "gauth.credentials = GoogleCredentials.get_application_default()\n",
        "drive = GoogleDrive(gauth)\n",
        "\n",
        "import pandas as pd"
      ],
      "execution_count": 1,
      "outputs": [
        {
          "output_type": "stream",
          "text": [
            "\u001b[K    100% |████████████████████████████████| 993kB 3.2MB/s \n",
            "\u001b[?25h  Building wheel for PyDrive (setup.py) ... \u001b[?25ldone\n",
            "\u001b[?25h"
          ],
          "name": "stdout"
        }
      ]
    },
    {
      "metadata": {
        "id": "97-GGPh8Cp0e",
        "colab_type": "code",
        "outputId": "49f95ab9-3b79-49e2-9bc6-fe033baa08b4",
        "colab": {
          "base_uri": "https://localhost:8080/",
          "height": 119
        }
      },
      "cell_type": "code",
      "source": [
        "file_list = drive.ListFile({'q': \"'1xKLYVIXVq0lXb9Ys_l3c5_v9S_kcv-xQ' in parents and trashed=false\"}).GetList()\n",
        "for file1 in file_list:\n",
        "  print('title: %s, id: %s' % (file1['title'], file1['id']))"
      ],
      "execution_count": 3,
      "outputs": [
        {
          "output_type": "stream",
          "text": [
            "title: code_and_pred.6872.1506176059.2623.zip, id: 1kA35oyisCxldVeeWxkAU7zjwy4rmQ1kU\n",
            "title: hw2_2.6872.1506176611.9498.pdf, id: 1KJwdU3Lgxe5Z2GfcI95DNp48F8Gl19Ch\n",
            "title: HW2_Housekeeping_Genes.final.pdf, id: 1GicvF61oLpx547LT_tM4FHX-C6DDQoMI\n",
            "title: 12864_2006_660_MOESM1_ESM.csv, id: 1v7vyl4lTiMJA1eDjrC9w7tEZxzYBoK59\n",
            "title: gene.ipynb, id: 13KZylyFQKi-grQtLWZSP7T8TK9_pWW53\n",
            "title: out.csv, id: 1rSZQ24R9gWqlH1UrLm1zHbKMtQwdxPAP\n"
          ],
          "name": "stdout"
        }
      ]
    },
    {
      "metadata": {
        "id": "mR4-dvHAEKKW",
        "colab_type": "code",
        "outputId": "95c8e093-3407-4323-f0a2-ee9151cd5357",
        "colab": {
          "base_uri": "https://localhost:8080/",
          "height": 379
        }
      },
      "cell_type": "code",
      "source": [
        "data_downloaded = drive.CreateFile({'id': '1v7vyl4lTiMJA1eDjrC9w7tEZxzYBoK59' })\n",
        "data_downloaded.GetContentFile('readCsvFile.csv')\n",
        "raw_data = pd.read_csv('readCsvFile.csv')\n",
        "raw_data.head(10)"
      ],
      "execution_count": 6,
      "outputs": [
        {
          "output_type": "execute_result",
          "data": {
            "text/html": [
              "<div>\n",
              "<style scoped>\n",
              "    .dataframe tbody tr th:only-of-type {\n",
              "        vertical-align: middle;\n",
              "    }\n",
              "\n",
              "    .dataframe tbody tr th {\n",
              "        vertical-align: top;\n",
              "    }\n",
              "\n",
              "    .dataframe thead th {\n",
              "        text-align: right;\n",
              "    }\n",
              "</style>\n",
              "<table border=\"1\" class=\"dataframe\">\n",
              "  <thead>\n",
              "    <tr style=\"text-align: right;\">\n",
              "      <th></th>\n",
              "      <th>EMBL_transcript_id</th>\n",
              "      <th>cDNA_length</th>\n",
              "      <th>cds_length</th>\n",
              "      <th>exons_nr</th>\n",
              "      <th>5_MAR_presence</th>\n",
              "      <th>3_MAR_presence</th>\n",
              "      <th>5_polyA_18_presence</th>\n",
              "      <th>5_CCGNN_2_5_presence</th>\n",
              "      <th>perc_go_hk_match</th>\n",
              "      <th>perc_go_ts_match</th>\n",
              "      <th>is_hk</th>\n",
              "    </tr>\n",
              "  </thead>\n",
              "  <tbody>\n",
              "    <tr>\n",
              "      <th>0</th>\n",
              "      <td>ENST00000274311</td>\n",
              "      <td>2918.0</td>\n",
              "      <td>1158.0</td>\n",
              "      <td>3.0</td>\n",
              "      <td>no</td>\n",
              "      <td>no</td>\n",
              "      <td>no</td>\n",
              "      <td>yes</td>\n",
              "      <td>0.1</td>\n",
              "      <td>0.200000</td>\n",
              "      <td>NaN</td>\n",
              "    </tr>\n",
              "    <tr>\n",
              "      <th>1</th>\n",
              "      <td>ENST00000282588</td>\n",
              "      <td>4795.0</td>\n",
              "      <td>3540.0</td>\n",
              "      <td>29.0</td>\n",
              "      <td>no</td>\n",
              "      <td>no</td>\n",
              "      <td>no</td>\n",
              "      <td>yes</td>\n",
              "      <td>0.1</td>\n",
              "      <td>0.200000</td>\n",
              "      <td>NaN</td>\n",
              "    </tr>\n",
              "    <tr>\n",
              "      <th>2</th>\n",
              "      <td>ENST00000274311</td>\n",
              "      <td>2918.0</td>\n",
              "      <td>1158.0</td>\n",
              "      <td>3.0</td>\n",
              "      <td>no</td>\n",
              "      <td>no</td>\n",
              "      <td>no</td>\n",
              "      <td>yes</td>\n",
              "      <td>0.1</td>\n",
              "      <td>0.200000</td>\n",
              "      <td>NaN</td>\n",
              "    </tr>\n",
              "    <tr>\n",
              "      <th>3</th>\n",
              "      <td>ENST00000282588</td>\n",
              "      <td>4795.0</td>\n",
              "      <td>3540.0</td>\n",
              "      <td>29.0</td>\n",
              "      <td>no</td>\n",
              "      <td>no</td>\n",
              "      <td>no</td>\n",
              "      <td>yes</td>\n",
              "      <td>0.1</td>\n",
              "      <td>0.200000</td>\n",
              "      <td>NaN</td>\n",
              "    </tr>\n",
              "    <tr>\n",
              "      <th>4</th>\n",
              "      <td>ENST00000337416</td>\n",
              "      <td>4551.0</td>\n",
              "      <td>1656.0</td>\n",
              "      <td>18.0</td>\n",
              "      <td>no</td>\n",
              "      <td>yes</td>\n",
              "      <td>no</td>\n",
              "      <td>no</td>\n",
              "      <td>0.0</td>\n",
              "      <td>0.111111</td>\n",
              "      <td>NaN</td>\n",
              "    </tr>\n",
              "    <tr>\n",
              "      <th>5</th>\n",
              "      <td>ENST00000282606</td>\n",
              "      <td>1245.0</td>\n",
              "      <td>597.0</td>\n",
              "      <td>NaN</td>\n",
              "      <td>no</td>\n",
              "      <td>no</td>\n",
              "      <td>no</td>\n",
              "      <td>no</td>\n",
              "      <td>0.0</td>\n",
              "      <td>0.000000</td>\n",
              "      <td>NaN</td>\n",
              "    </tr>\n",
              "    <tr>\n",
              "      <th>6</th>\n",
              "      <td>ENST00000282611</td>\n",
              "      <td>1338.0</td>\n",
              "      <td>1197.0</td>\n",
              "      <td>NaN</td>\n",
              "      <td>no</td>\n",
              "      <td>no</td>\n",
              "      <td>no</td>\n",
              "      <td>no</td>\n",
              "      <td>0.0</td>\n",
              "      <td>0.666667</td>\n",
              "      <td>NaN</td>\n",
              "    </tr>\n",
              "    <tr>\n",
              "      <th>7</th>\n",
              "      <td>ENST00000282633</td>\n",
              "      <td>2709.0</td>\n",
              "      <td>2709.0</td>\n",
              "      <td>NaN</td>\n",
              "      <td>no</td>\n",
              "      <td>no</td>\n",
              "      <td>no</td>\n",
              "      <td>no</td>\n",
              "      <td>NaN</td>\n",
              "      <td>NaN</td>\n",
              "      <td>NaN</td>\n",
              "    </tr>\n",
              "    <tr>\n",
              "      <th>8</th>\n",
              "      <td>ENST00000351071</td>\n",
              "      <td>3972.0</td>\n",
              "      <td>3411.0</td>\n",
              "      <td>NaN</td>\n",
              "      <td>no</td>\n",
              "      <td>no</td>\n",
              "      <td>no</td>\n",
              "      <td>no</td>\n",
              "      <td>NaN</td>\n",
              "      <td>NaN</td>\n",
              "      <td>NaN</td>\n",
              "    </tr>\n",
              "    <tr>\n",
              "      <th>9</th>\n",
              "      <td>ENST00000355876</td>\n",
              "      <td>4226.0</td>\n",
              "      <td>3669.0</td>\n",
              "      <td>NaN</td>\n",
              "      <td>no</td>\n",
              "      <td>no</td>\n",
              "      <td>no</td>\n",
              "      <td>no</td>\n",
              "      <td>NaN</td>\n",
              "      <td>NaN</td>\n",
              "      <td>NaN</td>\n",
              "    </tr>\n",
              "  </tbody>\n",
              "</table>\n",
              "</div>"
            ],
            "text/plain": [
              "  EMBL_transcript_id  cDNA_length  cds_length  exons_nr 5_MAR_presence  \\\n",
              "0    ENST00000274311       2918.0      1158.0       3.0             no   \n",
              "1    ENST00000282588       4795.0      3540.0      29.0             no   \n",
              "2    ENST00000274311       2918.0      1158.0       3.0             no   \n",
              "3    ENST00000282588       4795.0      3540.0      29.0             no   \n",
              "4    ENST00000337416       4551.0      1656.0      18.0             no   \n",
              "5    ENST00000282606       1245.0       597.0       NaN             no   \n",
              "6    ENST00000282611       1338.0      1197.0       NaN             no   \n",
              "7    ENST00000282633       2709.0      2709.0       NaN             no   \n",
              "8    ENST00000351071       3972.0      3411.0       NaN             no   \n",
              "9    ENST00000355876       4226.0      3669.0       NaN             no   \n",
              "\n",
              "  3_MAR_presence 5_polyA_18_presence 5_CCGNN_2_5_presence  perc_go_hk_match  \\\n",
              "0             no                  no                  yes               0.1   \n",
              "1             no                  no                  yes               0.1   \n",
              "2             no                  no                  yes               0.1   \n",
              "3             no                  no                  yes               0.1   \n",
              "4            yes                  no                   no               0.0   \n",
              "5             no                  no                   no               0.0   \n",
              "6             no                  no                   no               0.0   \n",
              "7             no                  no                   no               NaN   \n",
              "8             no                  no                   no               NaN   \n",
              "9             no                  no                   no               NaN   \n",
              "\n",
              "   perc_go_ts_match is_hk  \n",
              "0          0.200000   NaN  \n",
              "1          0.200000   NaN  \n",
              "2          0.200000   NaN  \n",
              "3          0.200000   NaN  \n",
              "4          0.111111   NaN  \n",
              "5          0.000000   NaN  \n",
              "6          0.666667   NaN  \n",
              "7               NaN   NaN  \n",
              "8               NaN   NaN  \n",
              "9               NaN   NaN  "
            ]
          },
          "metadata": {
            "tags": []
          },
          "execution_count": 6
        }
      ]
    }
  ]
}