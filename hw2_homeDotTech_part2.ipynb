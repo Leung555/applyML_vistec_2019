{
  "nbformat": 4,
  "nbformat_minor": 0,
  "metadata": {
    "colab": {
      "name": "hw2_homeDotTech_part2.ipynb",
      "version": "0.3.2",
      "provenance": [],
      "collapsed_sections": [],
      "include_colab_link": true
    },
    "kernelspec": {
      "name": "python3",
      "display_name": "Python 3"
    }
  },
  "cells": [
    {
      "cell_type": "markdown",
      "metadata": {
        "id": "view-in-github",
        "colab_type": "text"
      },
      "source": [
        "<a href=\"https://colab.research.google.com/github/Pataweepr/applyML_vistec_2019/blob/master/hw2_homeDotTech_part2.ipynb\" target=\"_parent\"><img src=\"https://colab.research.google.com/assets/colab-badge.svg\" alt=\"Open In Colab\"/></a>"
      ]
    },
    {
      "metadata": {
        "id": "LyXd3PeVaqIQ",
        "colab_type": "code",
        "cellView": "both",
        "colab": {
          "base_uri": "https://localhost:8080/",
          "height": 159
        },
        "outputId": "d8978a6b-77f3-481c-8191-c2c6969278e9"
      },
      "cell_type": "code",
      "source": [
        "!pip install -U -q PyDrive\n",
        "\n",
        "from pydrive.auth import GoogleAuth\n",
        "from pydrive.drive import GoogleDrive\n",
        "from google.colab import auth\n",
        "from oauth2client.client import GoogleCredentials\n",
        "\n",
        "# 1. Authenticate and create the PyDrive client.\n",
        "auth.authenticate_user()\n",
        "gauth = GoogleAuth()\n",
        "gauth.credentials = GoogleCredentials.get_application_default()\n",
        "drive = GoogleDrive(gauth)\n",
        "\n",
        "from sklearn.cluster import KMeans"
      ],
      "execution_count": 0,
      "outputs": [
        {
          "output_type": "stream",
          "text": [
            "\u001b[?25l\r\u001b[K    1% |▎                               | 10kB 21.5MB/s eta 0:00:01\r\u001b[K    2% |▋                               | 20kB 3.3MB/s eta 0:00:01\r\u001b[K    3% |█                               | 30kB 4.7MB/s eta 0:00:01\r\u001b[K    4% |█▎                              | 40kB 3.0MB/s eta 0:00:01\r\u001b[K    5% |█▋                              | 51kB 3.7MB/s eta 0:00:01\r\u001b[K    6% |██                              | 61kB 4.4MB/s eta 0:00:01\r\u001b[K    7% |██▎                             | 71kB 5.0MB/s eta 0:00:01\r\u001b[K    8% |██▋                             | 81kB 5.7MB/s eta 0:00:01\r\u001b[K    9% |███                             | 92kB 6.3MB/s eta 0:00:01\r\u001b[K    10% |███▎                            | 102kB 4.9MB/s eta 0:00:01\r\u001b[K    11% |███▋                            | 112kB 4.8MB/s eta 0:00:01\r\u001b[K    12% |████                            | 122kB 6.4MB/s eta 0:00:01\r\u001b[K    13% |████▎                           | 133kB 6.4MB/s eta 0:00:01\r\u001b[K    14% |████▋                           | 143kB 11.3MB/s eta 0:00:01\r\u001b[K    15% |█████                           | 153kB 11.4MB/s eta 0:00:01\r\u001b[K    16% |█████▎                          | 163kB 11.4MB/s eta 0:00:01\r\u001b[K    17% |█████▋                          | 174kB 11.2MB/s eta 0:00:01\r\u001b[K    18% |██████                          | 184kB 11.2MB/s eta 0:00:01\r\u001b[K    19% |██████▎                         | 194kB 11.3MB/s eta 0:00:01\r\u001b[K    20% |██████▋                         | 204kB 32.5MB/s eta 0:00:01\r\u001b[K    21% |███████                         | 215kB 16.2MB/s eta 0:00:01\r\u001b[K    22% |███████▎                        | 225kB 16.3MB/s eta 0:00:01\r\u001b[K    23% |███████▋                        | 235kB 16.4MB/s eta 0:00:01\r\u001b[K    24% |████████                        | 245kB 16.4MB/s eta 0:00:01\r\u001b[K    25% |████████▎                       | 256kB 16.4MB/s eta 0:00:01\r\u001b[K    26% |████████▋                       | 266kB 15.6MB/s eta 0:00:01\r\u001b[K    27% |█████████                       | 276kB 16.1MB/s eta 0:00:01\r\u001b[K    29% |█████████▎                      | 286kB 16.1MB/s eta 0:00:01\r\u001b[K    30% |█████████▋                      | 296kB 16.0MB/s eta 0:00:01\r\u001b[K    31% |██████████                      | 307kB 16.4MB/s eta 0:00:01\r\u001b[K    32% |██████████▎                     | 317kB 46.5MB/s eta 0:00:01\r\u001b[K    33% |██████████▋                     | 327kB 46.3MB/s eta 0:00:01\r\u001b[K    34% |███████████                     | 337kB 48.3MB/s eta 0:00:01\r\u001b[K    35% |███████████▎                    | 348kB 43.9MB/s eta 0:00:01\r\u001b[K    36% |███████████▋                    | 358kB 44.4MB/s eta 0:00:01\r\u001b[K    37% |████████████                    | 368kB 51.7MB/s eta 0:00:01\r\u001b[K    38% |████████████▎                   | 378kB 51.5MB/s eta 0:00:01\r\u001b[K    39% |████████████▋                   | 389kB 52.5MB/s eta 0:00:01\r\u001b[K    40% |█████████████                   | 399kB 19.7MB/s eta 0:00:01\r\u001b[K    41% |█████████████▎                  | 409kB 19.1MB/s eta 0:00:01\r\u001b[K    42% |█████████████▋                  | 419kB 19.1MB/s eta 0:00:01\r\u001b[K    43% |██████████████                  | 430kB 19.3MB/s eta 0:00:01\r\u001b[K    44% |██████████████▎                 | 440kB 19.2MB/s eta 0:00:01\r\u001b[K    45% |██████████████▋                 | 450kB 19.6MB/s eta 0:00:01\r\u001b[K    46% |███████████████                 | 460kB 19.4MB/s eta 0:00:01\r\u001b[K    47% |███████████████▎                | 471kB 19.5MB/s eta 0:00:01\r\u001b[K    48% |███████████████▋                | 481kB 18.6MB/s eta 0:00:01\r\u001b[K    49% |████████████████                | 491kB 18.2MB/s eta 0:00:01\r\u001b[K    50% |████████████████▎               | 501kB 42.4MB/s eta 0:00:01\r\u001b[K    51% |████████████████▋               | 512kB 41.6MB/s eta 0:00:01\r\u001b[K    52% |█████████████████               | 522kB 41.7MB/s eta 0:00:01\r\u001b[K    53% |█████████████████▎              | 532kB 42.1MB/s eta 0:00:01\r\u001b[K    54% |█████████████████▋              | 542kB 41.8MB/s eta 0:00:01\r\u001b[K    55% |██████████████████              | 552kB 45.0MB/s eta 0:00:01\r\u001b[K    57% |██████████████████▎             | 563kB 45.5MB/s eta 0:00:01\r\u001b[K    58% |██████████████████▋             | 573kB 43.5MB/s eta 0:00:01\r\u001b[K    59% |███████████████████             | 583kB 49.4MB/s eta 0:00:01\r\u001b[K    60% |███████████████████▎            | 593kB 52.0MB/s eta 0:00:01\r\u001b[K    61% |███████████████████▋            | 604kB 53.7MB/s eta 0:00:01\r\u001b[K    62% |████████████████████            | 614kB 60.4MB/s eta 0:00:01\r\u001b[K    63% |████████████████████▎           | 624kB 59.6MB/s eta 0:00:01\r\u001b[K    64% |████████████████████▋           | 634kB 58.5MB/s eta 0:00:01\r\u001b[K    65% |█████████████████████           | 645kB 25.1MB/s eta 0:00:01\r\u001b[K    66% |█████████████████████▎          | 655kB 24.2MB/s eta 0:00:01\r\u001b[K    67% |█████████████████████▋          | 665kB 21.4MB/s eta 0:00:01\r\u001b[K    68% |██████████████████████          | 675kB 21.6MB/s eta 0:00:01\r\u001b[K    69% |██████████████████████▎         | 686kB 21.4MB/s eta 0:00:01\r\u001b[K    70% |██████████████████████▋         | 696kB 21.3MB/s eta 0:00:01\r\u001b[K    71% |███████████████████████         | 706kB 21.3MB/s eta 0:00:01\r\u001b[K    72% |███████████████████████▎        | 716kB 21.1MB/s eta 0:00:01\r\u001b[K    73% |███████████████████████▋        | 727kB 21.0MB/s eta 0:00:01\r\u001b[K    74% |████████████████████████        | 737kB 20.9MB/s eta 0:00:01\r\u001b[K    75% |████████████████████████▎       | 747kB 40.0MB/s eta 0:00:01\r\u001b[K    76% |████████████████████████▋       | 757kB 41.8MB/s eta 0:00:01\r\u001b[K    77% |████████████████████████▉       | 768kB 53.5MB/s eta 0:00:01\r\u001b[K    78% |█████████████████████████▏      | 778kB 54.3MB/s eta 0:00:01\r\u001b[K    79% |█████████████████████████▌      | 788kB 54.6MB/s eta 0:00:01\r\u001b[K    80% |█████████████████████████▉      | 798kB 54.1MB/s eta 0:00:01\r\u001b[K    81% |██████████████████████████▏     | 808kB 54.4MB/s eta 0:00:01\r\u001b[K    82% |██████████████████████████▌     | 819kB 54.4MB/s eta 0:00:01\r\u001b[K    83% |██████████████████████████▉     | 829kB 55.6MB/s eta 0:00:01\r\u001b[K    85% |███████████████████████████▏    | 839kB 56.2MB/s eta 0:00:01\r\u001b[K    86% |███████████████████████████▌    | 849kB 55.7MB/s eta 0:00:01\r\u001b[K    87% |███████████████████████████▉    | 860kB 48.3MB/s eta 0:00:01\r\u001b[K    88% |████████████████████████████▏   | 870kB 48.6MB/s eta 0:00:01\r\u001b[K    89% |████████████████████████████▌   | 880kB 49.3MB/s eta 0:00:01\r\u001b[K    90% |████████████████████████████▉   | 890kB 50.7MB/s eta 0:00:01\r\u001b[K    91% |█████████████████████████████▏  | 901kB 50.9MB/s eta 0:00:01\r\u001b[K    92% |█████████████████████████████▌  | 911kB 51.4MB/s eta 0:00:01\r\u001b[K    93% |█████████████████████████████▉  | 921kB 51.9MB/s eta 0:00:01\r\u001b[K    94% |██████████████████████████████▏ | 931kB 51.5MB/s eta 0:00:01\r\u001b[K    95% |██████████████████████████████▌ | 942kB 51.6MB/s eta 0:00:01\r\u001b[K    96% |██████████████████████████████▉ | 952kB 51.6MB/s eta 0:00:01\r\u001b[K    97% |███████████████████████████████▏| 962kB 61.0MB/s eta 0:00:01\r\u001b[K    98% |███████████████████████████████▌| 972kB 61.2MB/s eta 0:00:01\r\u001b[K    99% |███████████████████████████████▉| 983kB 59.7MB/s eta 0:00:01\r\u001b[K    100% |████████████████████████████████| 993kB 20.4MB/s \n",
            "\u001b[?25h  Building wheel for PyDrive (setup.py) ... \u001b[?25ldone\n",
            "\u001b[?25h"
          ],
          "name": "stdout"
        }
      ]
    },
    {
      "metadata": {
        "id": "ByDiTugkD3PF",
        "colab_type": "code",
        "colab": {}
      },
      "cell_type": "code",
      "source": [
        "import numpy as np\n",
        "import pandas as pd\n",
        "import matplotlib.pyplot as plt\n",
        "from sklearn.cluster import KMeans\n",
        "from sklearn.neighbors import NearestNeighbors\n",
        "from scipy.stats import mode\n",
        "from sklearn import preprocessing"
      ],
      "execution_count": 0,
      "outputs": []
    },
    {
      "metadata": {
        "id": "Go7lnAxN9XZP",
        "colab_type": "text"
      },
      "cell_type": "markdown",
      "source": [
        "คุณควร run code ตัวของ example เพื่อทราบถึง file id เพราะว่า file id ของแต่ละคนนั้นไม่เหมือนกันน่ะครับ  [example pyDrive](https://colab.research.google.com/drive/1pIl9zCObPc_8BLivb7FRsjYBhKGWK9eL)\n",
        "\n",
        "\n",
        "###FILE_ID!!!\n",
        "\n",
        "<pre>   \n",
        "title: userLog_201801_201802_for_participants.csv, id: 19sNUEOYeqU33EWBMRKq65YydpgLQoppZ\n",
        "title: project_main.csv, id: 1iRz0edC_tjIk0Ge33fKLZYN1ciXxup-0\n",
        "title: project_facility.csv, id: 13jUinwDsk9sYvoMOBaTMfTM11912CvdO\n",
        "</pre>\n"
      ]
    },
    {
      "metadata": {
        "id": "rUSLT2jjvVQG",
        "colab_type": "text"
      },
      "cell_type": "markdown",
      "source": [
        "เนื่องจากข้อมูลใน file เป็น รูปแบบการแยกข้อมูล ใน column แยกด้วย ';' แต่ว่ามันยากที่จัดการ เลยเขียน function เพื่ออ่าน file ดังนี้"
      ]
    },
    {
      "metadata": {
        "id": "QFufCvqODOfy",
        "colab_type": "code",
        "colab": {}
      },
      "cell_type": "code",
      "source": [
        "def readDataFromDrive_HDT_single_col(file_id):\n",
        "  # file_id is str\n",
        "    data_downloaded = drive.CreateFile({'id': file_id })\n",
        "    data_downloaded.GetContentFile('readCsvFile.csv')\n",
        "    raw_data = pd.read_csv('readCsvFile.csv',delimiter= ';')\n",
        "    return raw_data;"
      ],
      "execution_count": 0,
      "outputs": []
    },
    {
      "metadata": {
        "id": "y0PAA0zGwcij",
        "colab_type": "text"
      },
      "cell_type": "markdown",
      "source": [
        "file ที่เราจะเลือกใช้\n",
        "\n",
        "* userLog\n",
        "* project_main\n",
        "* project_facility\n",
        "\n",
        "\n",
        "userLog  มันการเป็นเก็บ log ของ user ทั้งหมดที่เข้ามาในระบบ ว่า user เข้าผ่านอุปกรณื อะไรบ้างแล้วเข้าไปดูโปรเจคไหน\n",
        "\n",
        "project_main เป็นการบอกรายละเอียดแต่ละ project ว่ามีข้อมูลอะไรบ้าง เกี่ยวกับตำแหน่ง หรือ ตัวของ ราคา\n",
        "\n",
        "project_facility บอก facility ของแต่ละโปรคเจคว่าเป็นอย่างไร\n",
        "\n",
        "\n",
        "\n"
      ]
    },
    {
      "metadata": {
        "id": "roD4K39il3aP",
        "colab_type": "text"
      },
      "cell_type": "markdown",
      "source": [
        "# TODO#1: เปลี่ยนข้อมูลเป็นตัวเลข\n",
        "\n",
        "ข้อมูบบที่เราจะพิจารณาต่อไปนี้เป็นข้อมูล"
      ]
    },
    {
      "metadata": {
        "id": "8Wc1TrjKxahD",
        "colab_type": "code",
        "colab": {}
      },
      "cell_type": "code",
      "source": [
        "print('project_main')\n",
        "project_main = readDataFromDrive_HDT_single_col('1iRz0edC_tjIk0Ge33fKLZYN1ciXxup-0')  \n",
        "project_main = project_main.loc[project_main['province_id'] == 10]\n",
        "print(project_main.shape)\n",
        "project_main = project_main.drop(columns=['project_land_size_ngan', 'project_land_size_wa'])\n",
        "project_main.loc[project_main[\"project_status\"] == \"A\", \"project_status\"] = 1\n",
        "project_main.loc[project_main[\"project_status\"] == \"U\", \"project_status\"] = 0\n",
        "project_main = project_main.convert_objects(convert_numeric=True)\n",
        "project_main.head()"
      ],
      "execution_count": 0,
      "outputs": []
    },
    {
      "metadata": {
        "id": "Eev1SbQYl_Ae",
        "colab_type": "text"
      },
      "cell_type": "markdown",
      "source": [
        "# TODO#2: แก้ไขข้อมูล data frame ของ projet_main ให้ไม่มี NAN"
      ]
    },
    {
      "metadata": {
        "id": "2N83pVt7xl2x",
        "colab_type": "code",
        "colab": {}
      },
      "cell_type": "code",
      "source": [
        "\n",
        "project_main = project_main.dropna(subset=['lat'])\n",
        "\n",
        "project_main[\"starting_price\"] = project_main[\"starting_price\"].fillna(project_main[\"starting_price\"].mode().iloc[0])\n"
      ],
      "execution_count": 0,
      "outputs": []
    },
    {
      "metadata": {
        "id": "AF89hUwyzNDV",
        "colab_type": "text"
      },
      "cell_type": "markdown",
      "source": [
        "## TODO#3: load ข้อมูล facility\n",
        "ลอง print ข้อมูลดูเราจะเห็นว่าข้อมูล และอธิบายว่าเหมาะสมกับการใช้หรือไม่\n"
      ]
    },
    {
      "metadata": {
        "id": "Kjw1O2CVxcmi",
        "colab_type": "code",
        "colab": {}
      },
      "cell_type": "code",
      "source": [
        "# project_facility  \n",
        "project_facility = readDataFromDrive_HDT_single_col('13jUinwDsk9sYvoMOBaTMfTM11912CvdO')\n",
        "project_facility.head()"
      ],
      "execution_count": 0,
      "outputs": []
    },
    {
      "metadata": {
        "id": "hNhYR25VQm-8",
        "colab_type": "text"
      },
      "cell_type": "markdown",
      "source": [
        "\n",
        "## TODO#4: แปลงข้อมูล fac ให้เหมาะแก้การใช้งาน \n",
        "เนื่องจากข้อมูลไม่ได้เป็นรูปแบบของตารางที่ใช้ได้ง่าย [pd.crosstab](https://pandas.pydata.org/pandas-docs/version/0.23.4/generated/pandas.crosstab.html) เพราะ เราต้องการตารางที่บอกถึง facility ว่ามีหรือไม่ในทุกแบบของ facility"
      ]
    },
    {
      "metadata": {
        "id": "5p4wfZdGxmco",
        "colab_type": "code",
        "colab": {}
      },
      "cell_type": "code",
      "source": [
        "project_facility_table = pd.crosstab(project_facility['project_id'], project_facility['facility_id'], rownames=['project_id'], colnames=['facility_id'])\n",
        "print(project_facility_table.index)\n",
        "project_facility_table.head()"
      ],
      "execution_count": 0,
      "outputs": []
    },
    {
      "metadata": {
        "id": "SuOjAgoWQC93",
        "colab_type": "text"
      },
      "cell_type": "markdown",
      "source": [
        "## TODO#5: กำจัดข้อมูลที่ใช้ไม่ได้ ออกไป เลือกใช้แต่ข้อมูลที่ครบ\n",
        "\n",
        "เราจำเป็นต้องแยกข้อมูลให้เหลือ project ที่มีข้อมูลครบ เท่านั้น  เราสามารถใช้ [pandas.DataFrame.isin](https://pandas.pydata.org/pandas-docs/stable/reference/api/pandas.DataFrame.isin.html) เพื่อช่วยในการหา วา่มีข้อมูลร่วมกันได้ในการแยกข้แมูลออกมา"
      ]
    },
    {
      "metadata": {
        "id": "DH_JZKdcc4ll",
        "colab_type": "code",
        "colab": {}
      },
      "cell_type": "code",
      "source": [
        "project_facility_table = project_facility_table.loc[project_facility_table.index.isin(project_main['project_id'])]\n",
        "project_main = project_main.loc[project_main['project_id'].isin(project_facility_table.index.astype(int))]\n",
        "project_main = project_main.sort_values('project_id')\n",
        "print(project_facility_table.shape)\n",
        "print(project_main.shape)\n",
        "project_facility_table.head()"
      ],
      "execution_count": 0,
      "outputs": []
    },
    {
      "metadata": {
        "id": "kXbSDY3lxdZC",
        "colab_type": "code",
        "colab": {}
      },
      "cell_type": "code",
      "source": [
        "project_main.head()"
      ],
      "execution_count": 0,
      "outputs": []
    },
    {
      "metadata": {
        "id": "SLgCn82OzrQc",
        "colab_type": "text"
      },
      "cell_type": "markdown",
      "source": [
        "## TODO#6: ลองดูข้อมูล จาก user log \n",
        "\n",
        "\n",
        "\n",
        "ลอง check ข้อมูลของ log data "
      ]
    },
    {
      "metadata": {
        "id": "ksRpe8e2ajVa",
        "colab_type": "code",
        "colab": {}
      },
      "cell_type": "code",
      "source": [
        "# care values province_id\n",
        "# we use only bangkok  province_id = 10 \n",
        "### load data ###############################################################################\n",
        "print('userLog')\n",
        "userLog = readDataFromDrive_HDT_single_col('19sNUEOYeqU33EWBMRKq65YydpgLQoppZ') \n",
        "userLog.head()\n"
      ],
      "execution_count": 0,
      "outputs": []
    },
    {
      "metadata": {
        "id": "w8H0tzGfxnnq",
        "colab_type": "code",
        "colab": {}
      },
      "cell_type": "code",
      "source": [
        "print(userLog.shape)\n"
      ],
      "execution_count": 0,
      "outputs": []
    },
    {
      "metadata": {
        "id": "jFlYQc7mnuoM",
        "colab_type": "code",
        "colab": {}
      },
      "cell_type": "code",
      "source": [
        "print(userLog.loc[userLog['project_id'].isin(project_facility_table.index.astype(int))].shape)\n",
        "userLog = userLog.loc[userLog['project_id'].isin(project_facility_table.index.astype(int))]"
      ],
      "execution_count": 0,
      "outputs": []
    },
    {
      "metadata": {
        "id": "U4h3JYoIXFsc",
        "colab_type": "text"
      },
      "cell_type": "markdown",
      "source": [
        "## TODO#7: ข้อมูล histrogram ของตัว user และ project ที่ user ดู\n",
        "\n",
        "จง check ดูความบ่อยของการใช้ user และ plot histogram ออกมา"
      ]
    },
    {
      "metadata": {
        "id": "p8CWwKunxf47",
        "colab_type": "code",
        "colab": {}
      },
      "cell_type": "code",
      "source": [
        "userLog_freq_user = userLog['userCode'].value_counts()\n",
        "userLog_freq_user_np  = np.array(userLog_freq_user.values)\n",
        "\n",
        "n, bins, patches = plt.hist(userLog_freq_user_np, 50, density=True, facecolor='g', alpha=0.75)\n",
        "plt.show()"
      ],
      "execution_count": 0,
      "outputs": []
    },
    {
      "metadata": {
        "id": "5ClYwT6z0jQb",
        "colab_type": "text"
      },
      "cell_type": "markdown",
      "source": [
        "จงแสดง histogram ของความถี่ของ user และ ใช้ pd.head() เพื่อดูค่าช่วงต้นๆ ของ histogram"
      ]
    },
    {
      "metadata": {
        "id": "SpLLzClQDXEC",
        "colab_type": "code",
        "colab": {}
      },
      "cell_type": "code",
      "source": [
        "userLog_freq_user = userLog_freq_user.loc[userLog_freq_user <= 3000]\n",
        "\n",
        "normal_user = userLog_freq_user.loc[userLog_freq_user >= 5]\n",
        "normal_user = normal_user.loc[normal_user <= 40]\n",
        "normal_user_np = np.array(normal_user.values)\n",
        "\n",
        "n, bins, patches = plt.hist(normal_user_np, 40, density=True, facecolor='g', alpha=0.75)\n",
        "plt.show()"
      ],
      "execution_count": 0,
      "outputs": []
    },
    {
      "metadata": {
        "id": "s-Jf3vh2sRQI",
        "colab_type": "code",
        "colab": {}
      },
      "cell_type": "code",
      "source": [
        "userLog = userLog.loc[userLog['userCode'].isin(normal_user.index)]\n",
        "userLog = userLog.loc[userLog['project_id'].isin(project_main['project_id'])] \n",
        "\n",
        "print(userLog.shape)\n",
        "\n",
        "project_main = project_main.loc[project_main['project_id'].isin(userLog['project_id'])]\n",
        "project_facility_table = project_facility_table.loc[project_facility_table.index.isin(userLog['project_id'])]\n",
        "\n",
        "print(project_main.shape)\n",
        "print(project_facility_table.shape)"
      ],
      "execution_count": 0,
      "outputs": []
    },
    {
      "metadata": {
        "id": "db8fEuk4fhTe",
        "colab_type": "text"
      },
      "cell_type": "markdown",
      "source": [
        "# K-mean\n",
        "\n"
      ]
    },
    {
      "metadata": {
        "id": "KT8J0BYr1Vc8",
        "colab_type": "text"
      },
      "cell_type": "markdown",
      "source": [
        "การ ที่เราทำ k-mean นั้น จะขึ้นกับระยะห่างที่เราตั้งขึ้นมา ดังนั้น feature ที่มาค่า conv ที่สูงนั้นจะส่งผลต่อการคำนวนมากเพราะ ค่าของ feature มากกว่า feature อื่นๆมากเกินไป ดังนั้น ก่อนที่เราจะ ใช้ k mean เราจพเป็นต้อง normalize  feature ของเราทั้งหมดก่อน"
      ]
    },
    {
      "metadata": {
        "id": "jakfsr5K3Hdq",
        "colab_type": "text"
      },
      "cell_type": "markdown",
      "source": [
        "ทดลองทำ k-mean โดยใช้ข้อมูล ของ ทำแหน่งที่ตั้ง ราคา และ facility ต่างเป็น feature"
      ]
    },
    {
      "metadata": {
        "id": "PVFv5xWTp4JB",
        "colab_type": "code",
        "colab": {}
      },
      "cell_type": "code",
      "source": [
        "def normalize(x):\n",
        "    min_max_scaler = preprocessing.MinMaxScaler()\n",
        "    x_nor = min_max_scaler.fit_transform(x)\n",
        "    return x_nor;"
      ],
      "execution_count": 0,
      "outputs": []
    },
    {
      "metadata": {
        "id": "hXdFysd7lOUI",
        "colab_type": "text"
      },
      "cell_type": "markdown",
      "source": [
        "#split train val test"
      ]
    },
    {
      "metadata": {
        "id": "O7I0B27ylsjh",
        "colab_type": "code",
        "colab": {}
      },
      "cell_type": "code",
      "source": [
        "\n",
        "\n",
        "\n",
        "\n",
        "index_data = np.arange(project_main_np_data_nor.shape[0])\n",
        "np.random.shuffle(index_data)\n",
        "\n",
        "'''\n",
        "we use train:val:test = 80:10:10\n",
        "'''\n",
        "train_f1, test_f1 = train_test_split(x_f1, test_size=0.2,random_state=42)\n",
        "train_label, test_label = train_test_split(label, test_size=0.2,random_state=42)\n",
        "\n",
        "index_data_train = index_data[:int(project_main_np_data_nor.shape[0]*0.8)]\n",
        "index_data_val = index_data[int(project_main_np_data_nor.shape[0]*0.8):int(project_main_np_data_nor.shape[0]*0.9)]\n",
        "index_data_test = index_data[int(project_main_np_data_nor.shape[0]*0.9):]\n",
        "\n",
        "project_main_np_train = project_main_np_data[index_data_train,:]\n",
        "project_main_np_val = project_main_np_data[index_data_val,:]\n",
        "project_main_np_test = project_main_np_data[index_data_test,:]"
      ],
      "execution_count": 0,
      "outputs": []
    },
    {
      "metadata": {
        "id": "Y2sKhLrR4TqH",
        "colab_type": "text"
      },
      "cell_type": "markdown",
      "source": [
        "## แผนที่ กทม.\n",
        "\n",
        "![Bangkok](https://www.img.in.th/images/02f4f215d503eca7777857e07f6a2b54.md.png)\n",
        "\n",
        "\n",
        "[link text](https://www.img.in.th/image/DYfJKa)"
      ]
    },
    {
      "metadata": {
        "id": "PowXN3WC3wm4",
        "colab_type": "text"
      },
      "cell_type": "markdown",
      "source": [
        "แสดงผลลัพธ์การ รัน k mean ออกมา\n",
        "\n",
        "> Indented block\n",
        "\n",
        "\n",
        "\n",
        "[K-means example](https://scikit-learn.org/stable/auto_examples/cluster/plot_cluster_iris.html)\n",
        "\n",
        "[function in Kmeans](https://scikit-learn.org/stable/modules/generated/sklearn.cluster.KMeans.html)"
      ]
    },
    {
      "metadata": {
        "id": "RukG4mI7do-I",
        "colab_type": "code",
        "colab": {}
      },
      "cell_type": "code",
      "source": [
        "from sklearn.model_selection import train_test_split\n",
        "\n",
        "project_main_np_data  = np.hstack((np.array(project_main[[\"lat\",\"lon\",\"starting_price\"]].values) , np.array(project_facility_table.values)))\n",
        "\n",
        "project_main_np_data_nor  = normalize(project_main_np_data)\n",
        "\n",
        "project_main_np_nor_train, project_main_np_nor_test = train_test_split(project_main_np_data_nor, test_size=0.2,random_state=42)\n",
        "project_main_np_nor_train, project_main_np_nor_val = train_test_split(project_main_np_nor_train, test_size=0.2,random_state=42)\n",
        "\n",
        "plt.plot(project_main_np_train[:,0], project_main_np_train[:,1], 'r^')\n",
        "plt.show()\n",
        "##\n",
        "\n",
        "# print(kmean_result.labels_)\n",
        "### k-mean \n",
        "colors = ['bo', 'go', 'ro', 'co', 'mo', 'yo', 'ko', 'wo']\n",
        "for k in np.arange(2,len(colors) + 1):\n",
        "    print('============================================================================')\n",
        "    kmean_result =  KMeans(n_clusters = k).fit(project_main_np_nor_train)\n",
        "    print('================================ k = ', k ,'============================================')\n",
        "    print('==================================  training set ==========================================')\n",
        "    for i in np.arange(project_main_np_train.shape[0]):\n",
        "        plt.plot(project_main_np_train[i,0], project_main_np_train[i,1], colors[kmean_result.labels_[i]])\n",
        "    plt.show()\n",
        "    print('==================================  validation set ==========================================')\n",
        "    y_pred = kmean_result.predict(project_main_np_nor_val)\n",
        "    for i in np.arange(project_main_np_val.shape[0]):\n",
        "        plt.plot(project_main_np_val[i,0], project_main_np_val[i,1], colors[y_pred[i]])\n",
        "    plt.show()\n",
        "    print('==================================== end ========================================')\n",
        "##\n"
      ],
      "execution_count": 0,
      "outputs": []
    },
    {
      "metadata": {
        "id": "uCnR9MVKoGIG",
        "colab_type": "text"
      },
      "cell_type": "markdown",
      "source": [
        "## สำหรับการ visualization ด้วย T-sne"
      ]
    },
    {
      "metadata": {
        "id": "7Cmh3YX8hMDL",
        "colab_type": "code",
        "colab": {}
      },
      "cell_type": "code",
      "source": [
        "'''\n",
        "\n",
        "def plot_with_labels(low_dim_embs, labels, filename=\"tsne_plot.png\"):\n",
        "    assert low_dim_embs.shape[0] >= len(labels), 'More labels than embeddings'\n",
        "    fp = mpl.font_manager.FontProperties(family='TH KoHo',size=17)\n",
        "    plt.figure(figsize=(15, 15))  # in inches\n",
        "    plt.axis('off')\n",
        "    for i, label in enumerate(labels):\n",
        "        x, y = low_dim_embs[i, :]\n",
        "        plt.scatter(x, y)\n",
        "        plt.annotate(label,\n",
        "                     xy=(x, y),\n",
        "                     xytext=(5, 2),\n",
        "                     textcoords='offset points',\n",
        "                     ha='right',\n",
        "                     va='bottom',\n",
        "                     fontproperties=fp)\n",
        "\n",
        "\n",
        "    plt.show()\n",
        "    plt.savefig(filename)\n",
        "    \n",
        "\n",
        "from sklearn.manifold import TSNE\n",
        "tsne = TSNE(perplexity=30, n_components=2, init='pca', n_iter=2500)\n",
        "plot_only = 500 #only top 500 words\n",
        "low_dim_embs = tsne.fit_transform(final_embeddings[:plot_only, :])\n",
        "labels = [reverse_dictionary[i] for i in range(plot_only)]\n",
        "plot_with_labels(low_dim_embs, labels)\n",
        "\n",
        "'''"
      ],
      "execution_count": 0,
      "outputs": []
    },
    {
      "metadata": {
        "id": "CxQZGRNbgGRJ",
        "colab_type": "text"
      },
      "cell_type": "markdown",
      "source": [
        "## run test set by using best ' k '   "
      ]
    },
    {
      "metadata": {
        "id": "ultybURVklyO",
        "colab_type": "code",
        "colab": {}
      },
      "cell_type": "code",
      "source": [
        "best_k = 5\n",
        "\n",
        "kmean_result =  KMeans(n_clusters = best_k).fit(project_main_np_nor_train)\n",
        "y_pred = kmean_result.predict(project_main_np_nor_test)\n",
        "\n",
        "for i in np.arange(project_main_np_nor_test.shape[0]):\n",
        "    plt.plot(project_main_np_test[i,0], project_main_np_test[i,1], colors[y_pred[i]])\n",
        "plt.show()\n"
      ],
      "execution_count": 0,
      "outputs": []
    },
    {
      "metadata": {
        "id": "LCiCLdDd1S30",
        "colab_type": "text"
      },
      "cell_type": "markdown",
      "source": [
        "แสดงความคิดเห็นกับข้อมูลที่ visual ออกมา\n"
      ]
    },
    {
      "metadata": {
        "id": "DO1O1ZqopLlR",
        "colab_type": "text"
      },
      "cell_type": "markdown",
      "source": [
        "## นับการเข้าชม (เข้ากี่ครั้ง) เป็น feature ในการหาค่า k-mean"
      ]
    },
    {
      "metadata": {
        "id": "LoDSQAgG3ugE",
        "colab_type": "code",
        "colab": {}
      },
      "cell_type": "code",
      "source": [
        "'''\n",
        "index_data_train = index_data[:int(project_main_np_data_nor.shape[0]*0.8)]\n",
        "index_data_val = index_data[int(project_main_np_data_nor.shape[0]*0.8):int(project_main_np_data_nor.shape[0]*0.9)]\n",
        "index_data_test = index_data[int(project_main_np_data_nor.shape[0]*0.9):]\n",
        "'''\n",
        "\n",
        "freq_user_seen_proj = pd.crosstab(userLog['project_id'], userLog['userCode'], rownames=['project_id'], colnames=['userCode'])\n",
        "freq_user_seen_proj_np = np.array(freq_user_seen_proj.values)\n",
        "freq_user_seen_proj_np = normalize(freq_user_seen_proj_np)\n",
        "\n",
        "'''\n",
        "freq_user_seen_proj_np_train, freq_user_seen_proj_np_test = train_test_split(freq_user_seen_proj_np, test_size=0.2,random_state=42)\n",
        "freq_user_seen_proj_np_train, freq_user_seen_proj_np_val = train_test_split(freq_user_seen_proj_np_train, test_size=0.2,random_state=42)\n",
        "'''\n",
        "\n",
        "\n",
        "for k in np.arange(2,len(colors) + 1):\n",
        "    print('============================================================================')\n",
        "    kmean_result =  KMeans(n_clusters = k).fit(freq_user_seen_proj_np_train)\n",
        "    print('================================ k = ', k ,'============================================')\n",
        "    print('==================================  training set ==========================================')\n",
        "    for i in np.arange(project_main_np_train.shape[0]):\n",
        "        plt.plot(project_main_np_train[i,0], project_main_np_train[i,1], colors[kmean_result.labels_[i]])\n",
        "    plt.show()\n",
        "    print('==================================  validation set ==========================================')\n",
        "    y_pred = kmean_result.predict(freq_user_seen_proj_np_val)\n",
        "    for i in np.arange(project_main_np_val.shape[0]):\n",
        "        plt.plot(project_main_np_val[i,0], project_main_np_val[i,1], colors[y_pred[i]])\n",
        "    plt.show()\n",
        "    print('==================================== end ========================================')"
      ],
      "execution_count": 0,
      "outputs": []
    },
    {
      "metadata": {
        "id": "z0p5s4s3peO6",
        "colab_type": "text"
      },
      "cell_type": "markdown",
      "source": [
        "## test your model"
      ]
    },
    {
      "metadata": {
        "id": "2WOKbYBKnyDS",
        "colab_type": "code",
        "colab": {}
      },
      "cell_type": "code",
      "source": [
        "best_k = 5\n",
        "\n",
        "kmean_result =  KMeans(n_clusters = best_k).fit(freq_user_seen_proj_np_train)\n",
        "y_pred = kmean_result.predict(freq_user_seen_proj_np_test)\n",
        "\n",
        "for i in np.arange(freq_user_seen_proj_np_test.shape[0]):\n",
        "    plt.plot(project_main_np_test[i,0], project_main_np_test[i,1], colors[y_pred[i]])\n",
        "plt.show()"
      ],
      "execution_count": 0,
      "outputs": []
    },
    {
      "metadata": {
        "id": "3u8iNYmro5KA",
        "colab_type": "text"
      },
      "cell_type": "markdown",
      "source": [
        "## นับการเข้าชม (เข้า / ไม่เข้า) เป็น feature ในการหาค่า k-mean"
      ]
    },
    {
      "metadata": {
        "id": "0rjpQ_LLxFK9",
        "colab_type": "code",
        "colab": {}
      },
      "cell_type": "code",
      "source": [
        "freq_user_seen_proj = pd.crosstab(userLog['project_id'], userLog['userCode'], rownames=['project_id'], colnames=['userCode'])\n",
        "freq_user_seen_proj_np = np.array(freq_user_seen_proj.values)\n",
        "\n",
        "freq_user_seen_proj_np = normalize(freq_user_seen_proj_np)\n",
        "\n",
        "\n",
        "'''\n",
        "freq_user_seen_proj_np_train, freq_user_seen_proj_np_test = train_test_split(freq_user_seen_proj_np, test_size=0.2,random_state=42)\n",
        "freq_user_seen_proj_np_train, freq_user_seen_proj_np_val = train_test_split(freq_user_seen_proj_np_train, test_size=0.2,random_state=42)\n",
        "'''\n",
        "\n",
        "freq_user_seen_proj.head()\n",
        "\n",
        "\n",
        "for k in np.arange(2,len(colors) + 1):\n",
        "    print('============================================================================')\n",
        "    kmean_result =  KMeans(n_clusters = k).fit(freq_user_seen_proj_np_train >= 1)\n",
        "    print('================================ k = ', k ,'============================================')\n",
        "    print('==================================  training set ==========================================')\n",
        "    for i in np.arange(project_main_np_train.shape[0]):\n",
        "        plt.plot(project_main_np_train[i,0], project_main_np_train[i,1], colors[kmean_result.labels_[i]])\n",
        "    plt.show()\n",
        "    print('==================================  validation set ==========================================')\n",
        "    y_pred = kmean_result.predict(freq_user_seen_proj_np_val >=1)\n",
        "    for i in np.arange(project_main_np_val.shape[0]):\n",
        "        plt.plot(project_main_np_val[i,0], project_main_np_val[i,1], colors[y_pred[i]])\n",
        "    plt.show()\n",
        "    print('==================================== end ========================================')"
      ],
      "execution_count": 0,
      "outputs": []
    },
    {
      "metadata": {
        "id": "E89lpNKYptcU",
        "colab_type": "text"
      },
      "cell_type": "markdown",
      "source": [
        "## test model "
      ]
    },
    {
      "metadata": {
        "id": "SlaZqM19psaJ",
        "colab_type": "code",
        "colab": {}
      },
      "cell_type": "code",
      "source": [
        "best_k = 5\n",
        "\n",
        "kmean_result =  KMeans(n_clusters = best_k).fit(freq_user_seen_proj_np_train >= 1)\n",
        "y_pred = kmean_result.predict(freq_user_seen_proj_np_test >= 1)\n",
        "\n",
        "for i in np.arange(freq_user_seen_proj_np_test.shape[0]):\n",
        "    plt.plot(project_main_np_test[i,0], project_main_np_test[i,1], colors[y_pred[i]])\n",
        "plt.show()"
      ],
      "execution_count": 0,
      "outputs": []
    },
    {
      "metadata": {
        "id": "iwpngaopwS4W",
        "colab_type": "text"
      },
      "cell_type": "markdown",
      "source": [
        "## mixed feature"
      ]
    },
    {
      "metadata": {
        "id": "0Ahn2G3yzdhd",
        "colab_type": "code",
        "colab": {}
      },
      "cell_type": "code",
      "source": [
        "new_feature_train = np.hstack((project_main_np_nor_train  ,freq_user_seen_proj_np_train ))  \n",
        "new_feature_val = np.hstack((project_main_np_nor_val  ,freq_user_seen_proj_np_val ))  \n",
        "new_feature_test = np.hstack((project_main_np_nor_test  ,freq_user_seen_proj_np_test ))  \n",
        "\n",
        "\n",
        "for k in np.arange(2,len(colors) + 1):\n",
        "    print('============================================================================')\n",
        "    kmean_result =  KMeans(n_clusters = k).fit(new_feature_train)\n",
        "    print('================================ k = ', k ,'============================================')\n",
        "    print('==================================  training set ==========================================')\n",
        "    for i in np.arange(project_main_np_train.shape[0]):\n",
        "        plt.plot(project_main_np_train[i,0], project_main_np_train[i,1], colors[kmean_result.labels_[i]])\n",
        "    plt.show()\n",
        "    print('==================================  validation set ==========================================')\n",
        "    y_pred = kmean_result.predict(new_feature_val)\n",
        "    for i in np.arange(project_main_np_val.shape[0]):\n",
        "        plt.plot(project_main_np_val[i,0], project_main_np_val[i,1], colors[y_pred[i]])\n",
        "    plt.show()\n",
        "    print('==================================== end ========================================')"
      ],
      "execution_count": 0,
      "outputs": []
    },
    {
      "metadata": {
        "id": "-SKhsUbhp4xh",
        "colab_type": "text"
      },
      "cell_type": "markdown",
      "source": [
        "# test model"
      ]
    },
    {
      "metadata": {
        "id": "6e4E9xKyp3SH",
        "colab_type": "code",
        "colab": {}
      },
      "cell_type": "code",
      "source": [
        "best_k = 5\n",
        "\n",
        "kmean_result =  KMeans(n_clusters = best_k).fit(new_feature_train)\n",
        "y_pred = kmean_result.predict(new_feature_test)\n",
        "\n",
        "for i in np.arange(new_feature_test.shape[0]):\n",
        "    plt.plot(project_main_np_test[i,0], project_main_np_test[i,1], colors[y_pred[i]])\n",
        "plt.show()"
      ],
      "execution_count": 0,
      "outputs": []
    },
    {
      "metadata": {
        "id": "jt7N3rd6wh2x",
        "colab_type": "code",
        "colab": {}
      },
      "cell_type": "code",
      "source": [
        "\n"
      ],
      "execution_count": 0,
      "outputs": []
    },
    {
      "metadata": {
        "id": "TEE9FnPO4TCa",
        "colab_type": "code",
        "colab": {}
      },
      "cell_type": "code",
      "source": [
        ""
      ],
      "execution_count": 0,
      "outputs": []
    }
  ]
}