{
  "nbformat": 4,
  "nbformat_minor": 0,
  "metadata": {
    "colab": {
      "name": "hw1_explore_data.ipynb",
      "version": "0.3.2",
      "provenance": [],
      "collapsed_sections": [],
      "include_colab_link": true
    },
    "kernelspec": {
      "name": "python3",
      "display_name": "Python 3"
    }
  },
  "cells": [
    {
      "cell_type": "markdown",
      "metadata": {
        "id": "view-in-github",
        "colab_type": "text"
      },
      "source": [
        "<a href=\"https://colab.research.google.com/github/Pataweepr/applyML_vistec_2019/blob/master/hw1_explore_data.ipynb\" target=\"_parent\"><img src=\"https://colab.research.google.com/assets/colab-badge.svg\" alt=\"Open In Colab\"/></a>"
      ]
    },
    {
      "metadata": {
        "id": "CgPi_E1Jxilq",
        "colab_type": "code",
        "colab": {}
      },
      "cell_type": "code",
      "source": [
        "# import library \n",
        "import numpy as np\n",
        "import pandas as pd\n",
        "import matplotlib.pyplot as plt\n",
        "from scipy.stats import norm,mode"
      ],
      "execution_count": 0,
      "outputs": []
    },
    {
      "metadata": {
        "id": "iL1op_xN4IyV",
        "colab_type": "text"
      },
      "cell_type": "markdown",
      "source": [
        "#Example numpy"
      ]
    },
    {
      "metadata": {
        "id": "TxZgekIEvFDv",
        "colab_type": "code",
        "colab": {}
      },
      "cell_type": "code",
      "source": [
        "# example numpy code\n",
        "x = np.array([[1,2],[3,4]], dtype=np.float64)\n",
        "y = np.array([[5,6],[7,8]], dtype=np.float64)\n",
        "\n",
        "print(x * y)\n",
        "print(np.multiply(x, y))\n",
        "\n",
        "\n",
        "x = np.array([[1,2], [3,4]])\n",
        "print(x)\n",
        "print(x.T)\n",
        "\n",
        "v = np.array([9,10])\n",
        "w = np.array([11, 12])\n",
        "print(v.dot(w))\n",
        "print(np.dot(v, w))\n",
        "print(x.dot(v))\n",
        "\n",
        "# X*v\n",
        "print(np.dot(x, v))"
      ],
      "execution_count": 0,
      "outputs": []
    },
    {
      "metadata": {
        "id": "FRyIdqcYaYqO",
        "colab_type": "text"
      },
      "cell_type": "markdown",
      "source": [
        "#example : loop \n",
        "\n",
        "https://www.tutorialspoint.com/python/python_for_loop.htm\n",
        "\n",
        "https://www.tutorialspoint.com/python/python_while_loop.htm"
      ]
    },
    {
      "metadata": {
        "id": "wMDgVcDmvhkV",
        "colab_type": "code",
        "colab": {}
      },
      "cell_type": "code",
      "source": [
        "def power_mat(x,n):\n",
        "################################################################################\n",
        "# TODO#1:                                                                      #\n",
        "# write function to compute matrix A^n\n",
        "# \n",
        "################################## #############################################\n",
        "#                            WRITE YOUR CODE BELOW                             #\n",
        "################################################################################\n",
        "  pass\n",
        "  return ;"
      ],
      "execution_count": 0,
      "outputs": []
    },
    {
      "metadata": {
        "colab_type": "code",
        "id": "qZB3vUbkvm8u",
        "colab": {}
      },
      "cell_type": "code",
      "source": [
        "# check your program with A^5\n",
        "A = np.array([[1,2], [3,4]])\n",
        "A_5 = power_mat(A,5)\n",
        "print(A)\n",
        "print(A_5)\n"
      ],
      "execution_count": 0,
      "outputs": []
    },
    {
      "metadata": {
        "id": "u9E1C-J4wT2m",
        "colab_type": "text"
      },
      "cell_type": "markdown",
      "source": [
        "if $A=\\begin{bmatrix} 1 & 2 \\\\ 3 & 4\\end{bmatrix} $ then $A^{5} = \\begin{bmatrix} 1069 & 1558 \\\\ 2337 & 3406\\end{bmatrix}$ "
      ]
    },
    {
      "metadata": {
        "id": "31Scbuvgae7z",
        "colab_type": "code",
        "colab": {}
      },
      "cell_type": "code",
      "source": [
        "################################################################################\n",
        "# TODO#2:                                                                      #\n",
        "# plot guassian mean = 5, var = 2 by using scipy.norm                          #\n",
        "# if x = np.arange(-20,20,0.01)                                                #\n",
        "################################## #############################################\n",
        "#                            WRITE YOUR CODE BELOW                             #\n",
        "################################################################################\n"
      ],
      "execution_count": 0,
      "outputs": []
    },
    {
      "metadata": {
        "id": "K-94Cjlcy4DS",
        "colab_type": "text"
      },
      "cell_type": "markdown",
      "source": [
        "<details>\n",
        "    <summary>SOLUTION HERE!</summary>\n",
        "      <pre>\n",
        "        <code>\n",
        "          x = np.arange(-20,20,0.01)\n",
        "          p_x = norm(5,np.sqrt(2))\n",
        "          plt.plot(x, p_x.pdf(x))\n",
        "          plt.xlabel('x')\n",
        "          plt.ylabel('P(x)')\n",
        "          plt.show()\n",
        "        </code>\n",
        "      </pre>\n",
        "</details>"
      ]
    },
    {
      "metadata": {
        "id": "o1D9SYwWx_d5",
        "colab_type": "code",
        "colab": {}
      },
      "cell_type": "code",
      "source": [
        "# plot output and output+ noise\n",
        "# output + noise \n",
        "mu, sigma = 100, 15\n",
        "noise = mu + sigma*np.random.randn(10000)\n",
        "################################################################################\n",
        "# TODO#3:                                                                      #\n",
        "# see histogram of noise with a number of bins is 1000                         #\n",
        "################################## #############################################\n",
        "#                            WRITE YOUR CODE BELOW                             #\n",
        "################################################################################\n",
        "\n"
      ],
      "execution_count": 0,
      "outputs": []
    },
    {
      "metadata": {
        "id": "659vCUoo_z6J",
        "colab_type": "text"
      },
      "cell_type": "markdown",
      "source": [
        "\n",
        "<details>\n",
        "    <summary>SOLUTION HERE!</summary>\n",
        "      <pre>\n",
        "        <code>\n",
        "          hist, bin_edge = np.histogram(noise, 100)\n",
        "          # make sure to import matplotlib.pyplot as plt\n",
        "          # plot the histogram\n",
        "          plt.fill_between(bin_edge.repeat(2)[1:-1],hist.repeat(2),facecolor='steelblue')\n",
        "          plt.show()\n",
        "        </code>\n",
        "        OR\n",
        "        <code>\n",
        "          n, bins, patches = plt.hist(noise, 100, density=True, facecolor='g', alpha=0.75)\n",
        "          plt.show()\n",
        "        </code>\n",
        "      </pre>\n",
        "</details>"
      ]
    },
    {
      "metadata": {
        "id": "ScjpJjD4xuss",
        "colab_type": "code",
        "colab": {}
      },
      "cell_type": "code",
      "source": [
        "a = 2\n",
        "b = 5\n",
        "c = 3\n",
        "mu = 0 \n",
        "var = 3\n",
        "x = np. arange(-10,10,0.1) \n",
        "################################################################################\n",
        "# TODO#4:                                                                      #\n",
        "# plot y=2x^2+5x+3 + noise and y=2x^2+5x+3                                     #\n",
        "# if noise is N(0,sqrt(3))                                                     #\n",
        "################################## #############################################\n",
        "#                            WRITE YOUR CODE BELOW                             #\n",
        "################################################################################"
      ],
      "execution_count": 0,
      "outputs": []
    },
    {
      "metadata": {
        "id": "ve5AQKGuy6S_",
        "colab_type": "text"
      },
      "cell_type": "markdown",
      "source": [
        "<details>\n",
        "    <summary>SOLUTION HERE!</summary>\n",
        "      <pre>\n",
        "        <code>\n",
        "          a = 2 \n",
        "          b = 5\n",
        "          c = 3\n",
        "          x = np. arange(-10,10,0.1)\n",
        "          noise = mu + sigma*np.random.randn(x.size[0])\n",
        "          y_bar =  a&lowast;(x&lowast;&lowast;2) + b&lowast;x + c\n",
        "          y_noise = a&lowast;(x&lowast;&lowast;2) + b&lowast;x + c + noise\n",
        "          plt.plot(x, y_bar)\n",
        "          plt.plot(x, y_noise)\n",
        "          plt.show()\n",
        "        </code>\n",
        "      </pre>\n",
        "</details>"
      ]
    },
    {
      "metadata": {
        "id": "1_F9UMsByG8l",
        "colab_type": "code",
        "colab": {}
      },
      "cell_type": "code",
      "source": [
        "t = np.arange(-5., 5., 0.2)\n",
        "################################################################################\n",
        "# TODO#5:                                                                     #\n",
        "# plot y=t with red dashes                                                     #\n",
        "# y=t^2 with blue squares and                                                  #\n",
        "# y=t^3 with green triangles                                                   #\n",
        "################################## #############################################\n",
        "#                            WRITE YOUR CODE BELOW                             #\n",
        "################################################################################"
      ],
      "execution_count": 0,
      "outputs": []
    },
    {
      "metadata": {
        "id": "mE8bz7AFy7AP",
        "colab_type": "text"
      },
      "cell_type": "markdown",
      "source": [
        "<details>\n",
        "    <summary>SOLUTION HERE!</summary>\n",
        "       <pre>\n",
        "        <code>\n",
        "          plt.plot(t, t, 'r--', t, t&lowast;&lowast;2, 'bs', t, t&lowast;&lowast;3, 'g^')\n",
        "          plt.show()\n",
        "        </code>\n",
        "      </pre>\n",
        "</details>"
      ]
    },
    {
      "metadata": {
        "id": "iJfueyCACXEb",
        "colab_type": "code",
        "colab": {}
      },
      "cell_type": "code",
      "source": [
        "train_url = \"http://s3.amazonaws.com/assets.datacamp.com/course/Kaggle/train.csv\"\n",
        "################################################################################\n",
        "# TODO#6:                                                                      #\n",
        "# read data from kaggle by using Pandas\n",
        "# Hint : https://chrisalbon.com/python/data_wrangling/pandas_dataframe_importing_csv/\n",
        "################################## #############################################\n",
        "#                            WRITE YOUR CODE BELOW                             #\n",
        "################################################################################"
      ],
      "execution_count": 0,
      "outputs": []
    },
    {
      "metadata": {
        "id": "IIox1XUiCZdI",
        "colab_type": "text"
      },
      "cell_type": "markdown",
      "source": [
        "<details>\n",
        "    <summary>SOLUTION HERE!</summary>\n",
        "    <pre>\n",
        "      <code>\n",
        "        train = pd.read_csv(train_url)\n",
        "      </code>\n",
        "    </pre>\n",
        "</details>"
      ]
    },
    {
      "metadata": {
        "id": "35wj09IYPozx",
        "colab_type": "code",
        "colab": {}
      },
      "cell_type": "code",
      "source": [
        "################################################################################\n",
        "# TODO#7:                                                                      #\n",
        "# print name of all column in this data set and datatypes in training data     #\n",
        "# Hint :https://pandas.pydata.org/pandas-docs/stable/generated/pandas.DataFrame.dtypes.html\n",
        "################################## #############################################\n",
        "#                            WRITE YOUR CODE BELOW                             #\n",
        "################################################################################"
      ],
      "execution_count": 0,
      "outputs": []
    },
    {
      "metadata": {
        "id": "nizzCBjMNn4n",
        "colab_type": "text"
      },
      "cell_type": "markdown",
      "source": [
        "<details>\n",
        "    <summary>SOLUTION HERE!</summary>\n",
        "    <pre>\n",
        "        <code>\n",
        "              print(train.dtypes)\n",
        "        </code>\n",
        "    </pre>\n",
        "</details>"
      ]
    },
    {
      "metadata": {
        "id": "WSPiQh2duhgf",
        "colab_type": "code",
        "colab": {}
      },
      "cell_type": "code",
      "source": [
        "################################################################################\n",
        "# TODO#8:                                                                      #\n",
        "# see information in training data use pd.head()                               #\n",
        "################################## #############################################\n",
        "#                            WRITE YOUR CODE BELOW                             #\n",
        "################################################################################"
      ],
      "execution_count": 0,
      "outputs": []
    },
    {
      "metadata": {
        "id": "Z5L7njnM7rML",
        "colab_type": "text"
      },
      "cell_type": "markdown",
      "source": [
        "<details>\n",
        "    <summary>SOLUTION HERE!</summary>\n",
        "    <pre>\n",
        "        <code>\n",
        "          train.head()\n",
        "        </code>\n",
        "    </pre>\n",
        "</details>"
      ]
    },
    {
      "metadata": {
        "id": "zK36k2OjC4LS",
        "colab_type": "code",
        "colab": {}
      },
      "cell_type": "code",
      "source": [
        "################################################################################\n",
        "# TODO#9:                                                                      #\n",
        "# see information in training data use pd.describe()                           #\n",
        "################################## #############################################\n",
        "#                            WRITE YOUR CODE BELOW                             #\n",
        "################################################################################"
      ],
      "execution_count": 0,
      "outputs": []
    },
    {
      "metadata": {
        "id": "DRrCoP2Q7oVg",
        "colab_type": "text"
      },
      "cell_type": "markdown",
      "source": [
        "<details>\n",
        "    <summary>SOLUTION HERE!</summary>\n",
        "    <pre>\n",
        "       <code>\n",
        "        train.describe()\n",
        "      </code>\n",
        "    </pre>\n",
        "</details>"
      ]
    },
    {
      "metadata": {
        "id": "b8rtcMdabFFV",
        "colab_type": "code",
        "colab": {}
      },
      "cell_type": "code",
      "source": [
        "################################################################################\n",
        "# TODO#10:\n",
        "# Can we use this data already ?\n",
        "# Does it have missing values ?\n",
        "# We should modify data before using in ML algorithm\n",
        "################################## #############################################\n",
        "#                            WRITE YOUR CODE BELOW                             #\n",
        "################################################################################\n"
      ],
      "execution_count": 0,
      "outputs": []
    },
    {
      "metadata": {
        "id": "4CtGMJQ_7upg",
        "colab_type": "text"
      },
      "cell_type": "markdown",
      "source": [
        "\n",
        "\n",
        "<details>\n",
        "    <summary>SOLUTION HERE!</summary>\n",
        "    <pre>\n",
        "       <code>\n",
        "    # check NA\n",
        "    print(train[\"Embarked\"].isnull().values.any())\n",
        "    print(train[\"Sex\"].isnull().values.any())\n",
        "    print(train[\"Age\"].isnull().values.any())\n",
        "    \n",
        "    # drop NA\n",
        "    train = train.dropna(subset=['Embarked' , 'Age'])\n",
        "    \n",
        "    # check shape\n",
        "    print(train.shape)\n",
        "\n",
        "    # fill na data with median\n",
        "    train[\"Age\"] = train[\"Age\"].fillna(train[\"Age\"].median())\n",
        "      </code>\n",
        "    </pre>\n",
        "</details>"
      ]
    },
    {
      "metadata": {
        "id": "xS_f0-Yk7cPj",
        "colab_type": "code",
        "colab": {}
      },
      "cell_type": "code",
      "source": [
        "################################################################################\n",
        "# TODO#11: \n",
        "# Is the data are number ?\n",
        "# We change the data to numbers \n",
        "# Change the data in \"Embarked\" column\n",
        "# \n",
        "# https://pandas.pydata.org/pandas-docs/stable/generated/pandas.DataFrame.loc.html\n",
        "# https://stackoverflow.com/questions/13842088/set-value-for-particular-cell-in-pandas-dataframe-using-index\n",
        "################################## #############################################\n",
        "#                            WRITE YOUR CODE BELOW                             #\n",
        "################################################################################\n"
      ],
      "execution_count": 0,
      "outputs": []
    },
    {
      "metadata": {
        "id": "i4hGPzmp7bUE",
        "colab_type": "text"
      },
      "cell_type": "markdown",
      "source": [
        "<details>\n",
        "    <summary>SOLUTION HERE!</summary>\n",
        "    <pre>\n",
        "       <code>\n",
        "    train.loc[train[\"Embarked\"] == \"S\", \"Embarked\"] = 0\n",
        "    train.loc[train[\"Embarked\"] == \"C\", \"Embarked\"] = 1\n",
        "    train.loc[train[\"Embarked\"] == \"Q\", \"Embarked\"] = 2\n",
        "      </code>\n",
        "    </pre>\n",
        "</details>"
      ]
    },
    {
      "metadata": {
        "id": "ajd6_4Dd7Wo7",
        "colab_type": "code",
        "colab": {}
      },
      "cell_type": "code",
      "source": [
        "################################################################################\n",
        "# TODO#12:                                                                      #\n",
        "# Change the data in \"Sex\" column\n",
        "#\n",
        "################################## #############################################\n",
        "#                            WRITE YOUR CODE BELOW                             #\n",
        "################################################################################"
      ],
      "execution_count": 0,
      "outputs": []
    },
    {
      "metadata": {
        "id": "Qk9RSpZ87UEJ",
        "colab_type": "code",
        "colab": {}
      },
      "cell_type": "code",
      "source": [
        "################################################################################\n",
        "# TODO#13:             \n",
        "# change pandas data to numpy\n",
        "# use only [\"Pclass\",\"Sex\",\"Age\",\"Embarked\"] columns\n",
        "# https://stackoverflow.com/questions/13187778/convert-pandas-dataframe-to-numpy-array-preserving-index\n",
        "################################## #############################################\n",
        "#                            WRITE YOUR CODE BELOW                             #\n",
        "################################################################################\n"
      ],
      "execution_count": 0,
      "outputs": []
    },
    {
      "metadata": {
        "id": "jJYQa10l7WK4",
        "colab_type": "text"
      },
      "cell_type": "markdown",
      "source": [
        "<details>\n",
        "    <summary>SOLUTION HERE!</summary>\n",
        "      <pre>\n",
        "        <code>\n",
        "          data = np.array(train[[\"Pclass\",\"Sex\",\"Age\",\"Embarked\"]].values)\n",
        "          y = np.array(train[\"Survived\"].values, dtype = int)\n",
        "          print(data.shape) # check data shape\n",
        "        </code>\n",
        "      </pre>\n",
        "</details>"
      ]
    },
    {
      "metadata": {
        "id": "GiSewqPY7JSv",
        "colab_type": "code",
        "colab": {}
      },
      "cell_type": "code",
      "source": [
        "################################################################################\n",
        "# TODO#14:                                                                     #\n",
        "# data frame to compute mean,median                                            #\n",
        "################################## #############################################\n",
        "#                            WRITE YOUR CODE BELOW                             #\n",
        "################################################################################\n"
      ],
      "execution_count": 0,
      "outputs": []
    },
    {
      "metadata": {
        "id": "pUj5ikIH7TfL",
        "colab_type": "text"
      },
      "cell_type": "markdown",
      "source": [
        "<details>\n",
        "    <summary>SOLUTION HERE!</summary>\n",
        "      <pre>\n",
        "        <code>\n",
        "          print(np.median(data, axis=0))\n",
        "          print(mode(data))\n",
        "          print(np.mean(data, axis=0))\n",
        "        </code>\n",
        "      </pre>\n",
        "</details>"
      ]
    },
    {
      "metadata": {
        "id": "QCWl9A4l62LC",
        "colab_type": "code",
        "colab": {}
      },
      "cell_type": "code",
      "source": [
        "################################################################################\n",
        "# TODO#15:                                                                     #\n",
        "# which feature is the most important\n",
        "# hint : see correlation with survived\n",
        "################################## #############################################\n",
        "#                            WRITE YOUR CODE BELOW                             #\n",
        "################################################################################\n"
      ],
      "execution_count": 0,
      "outputs": []
    },
    {
      "metadata": {
        "id": "Um3uXuyK64QD",
        "colab_type": "text"
      },
      "cell_type": "markdown",
      "source": [
        "<details>\n",
        "    <summary>SOLUTION HERE!</summary>\n",
        "      <pre>\n",
        "        <code>\n",
        "          # split data\n",
        "          data_Pclass = np.copy(data[:,0])\n",
        "          data_Sex = np.copy(data[:,1])\n",
        "          data_Age = np.copy(data[:,2])\n",
        "          data_Embarked = np.copy(data[:,3])\n",
        "\n",
        "          # example see correlation with Pclass\n",
        "          use_cov = np.vstack((data_Pclass,y))\n",
        "\n",
        "          # see correlation\n",
        "          print(np.corrcoef(use_cov))\n",
        "        </code>\n",
        "      </pre>\n",
        "</details>"
      ]
    },
    {
      "metadata": {
        "id": "raAOp4m66rAz",
        "colab_type": "code",
        "colab": {}
      },
      "cell_type": "code",
      "source": [
        "################################################################################\n",
        "# TODO#16:                                                                     #\n",
        "# Split data : survived, non survived\n",
        "# https://docs.scipy.org/doc/numpy-1.15.0/reference/generated/numpy.where.html\n",
        "################################## #############################################\n",
        "#                            WRITE YOUR CODE BELOW                             #\n",
        "################################################################################\n"
      ],
      "execution_count": 0,
      "outputs": []
    },
    {
      "metadata": {
        "id": "MhJguKyX6qUx",
        "colab_type": "text"
      },
      "cell_type": "markdown",
      "source": [
        "<details>\n",
        "    <summary>SOLUTION HERE!</summary>\n",
        "      <pre>\n",
        "        <code>\n",
        "          # split in numpy\n",
        "          index_service = np.where(y == 1)\n",
        "          data_sex_s = data_Sex[np.where(y == 1)]\n",
        "          data_sex_ns = data_Sex[np.where(y == 0)]\n",
        "          # split in Pandas\n",
        "          train_sur = train.loc[train[\"Survived\"] == 1]\n",
        "          train_non_sur = train.loc[train[\"Survived\"] == 0]\n",
        "        </code>\n",
        "      </pre>\n",
        "</details>"
      ]
    },
    {
      "metadata": {
        "id": "FGgcoxe56e1x",
        "colab_type": "code",
        "colab": {}
      },
      "cell_type": "code",
      "source": [
        "################################################################################\n",
        "# TODO#17:\n",
        "# plot histogram of the most important feature                                 #\n",
        "################################## #############################################\n",
        "#                            WRITE YOUR CODE BELOW                             #\n",
        "################################################################################\n"
      ],
      "execution_count": 0,
      "outputs": []
    },
    {
      "metadata": {
        "id": "XXFN1l1u6bTc",
        "colab_type": "text"
      },
      "cell_type": "markdown",
      "source": [
        "<details>\n",
        "    <summary>SOLUTION HERE!</summary>\n",
        "      <pre>\n",
        "        <code>\n",
        "          plt.hist(data_sex_s, 2, alpha=0.5, label='data_sex_s', facecolor='g')\n",
        "          plt.hist(data_sex_ns, 2, alpha=0.5, label='data_sex_ns', facecolor='r')          \n",
        "          plt.legend(loc='upper right')\n",
        "          plt.show()\n",
        "        </code>\n",
        "      </pre>\n",
        "</details>"
      ]
    },
    {
      "metadata": {
        "id": "xa2SVaBQ6Yjz",
        "colab_type": "code",
        "colab": {}
      },
      "cell_type": "code",
      "source": [
        "################################################################################\n",
        "# TODO#18:                                                                     #\n",
        "# use your rule-base on train set and check your result \n",
        "# \n",
        "################################## #############################################\n",
        "#                            WRITE YOUR CODE BELOW                             #\n",
        "################################################################################\n"
      ],
      "execution_count": 0,
      "outputs": []
    },
    {
      "metadata": {
        "id": "dpNJUJfDudCR",
        "colab_type": "text"
      },
      "cell_type": "markdown",
      "source": [
        "<details>\n",
        "    <summary>SOLUTION HERE!</summary>\n",
        "      <pre>\n",
        "          <code>\n",
        "            sur_train = np.zeros(y.shape[0], dtype=int)\n",
        "\n",
        "            # simple rule base\n",
        "            for i in np.arange(y.shape[0]):\n",
        "              if(data_Sex[i] != 0): # female\n",
        "                sur_train[i] = 1\n",
        "              else: # male\n",
        "                sur_train[i] = 0\n",
        "\n",
        "            # check result \n",
        "            print((np.nonzero(ser_train == y)[0].size / y.size)*100)\n",
        "          </code>\n",
        "      </pre>\n",
        "</details>"
      ]
    },
    {
      "metadata": {
        "id": "Jw1JxqkuvfIX",
        "colab_type": "text"
      },
      "cell_type": "markdown",
      "source": [
        "# Try your rule-base in test data and print screen your score"
      ]
    },
    {
      "metadata": {
        "id": "aw-xbXgX6Wqp",
        "colab_type": "code",
        "colab": {}
      },
      "cell_type": "code",
      "source": [
        "# use this library to downlaod file \n",
        "from google.colab import files\n",
        "\n",
        "# test data \n",
        "test_url = \"http://s3.amazonaws.com/assets.datacamp.com/course/Kaggle/test.csv\"\n",
        "\n",
        "################################################################################\n",
        "# TODO#19:                                                                     #\n",
        "# \n",
        "# https://www.kaggle.com/c/titanic\n",
        "################################## #############################################\n",
        "#                            WRITE YOUR CODE BELOW                             #\n",
        "################################################################################\n"
      ],
      "execution_count": 0,
      "outputs": []
    },
    {
      "metadata": {
        "id": "Ml4_1sEcSiPt",
        "colab_type": "text"
      },
      "cell_type": "markdown",
      "source": [
        "# Example : download result "
      ]
    },
    {
      "metadata": {
        "id": "RC4Icc7K3ZqA",
        "colab_type": "text"
      },
      "cell_type": "markdown",
      "source": [
        "<pre>\n",
        "  <code>\n",
        "    submission = pd.DataFrame({\n",
        "        \"PassengerId\" : test[\"PassengerId\"],\n",
        "        \"Survived\" : &lt;RESULT_TEST&gt;\n",
        "    })  \n",
        "    submission.to_csv( FILE_NAME, index=False ) # FILE_NAME is file .csv\n",
        "    files.download( FILE_NAME )\n",
        "  </code>\n",
        "</pre>\n",
        "\n",
        "\n"
      ]
    }
  ]
}