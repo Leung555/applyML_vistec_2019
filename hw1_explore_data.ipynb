{
  "nbformat": 4,
  "nbformat_minor": 0,
  "metadata": {
    "colab": {
      "name": "hw1_explore_data.ipynb",
      "version": "0.3.2",
      "provenance": [],
      "include_colab_link": true
    },
    "kernelspec": {
      "name": "python3",
      "display_name": "Python 3"
    }
  },
  "cells": [
    {
      "cell_type": "markdown",
      "metadata": {
        "id": "view-in-github",
        "colab_type": "text"
      },
      "source": [
        "<a href=\"https://colab.research.google.com/github/Pataweepr/applyML_vistec_2019/blob/master/hw1_explore_data.ipynb\" target=\"_parent\"><img src=\"https://colab.research.google.com/assets/colab-badge.svg\" alt=\"Open In Colab\"/></a>"
      ]
    },
    {
      "metadata": {
        "id": "CgPi_E1Jxilq",
        "colab_type": "code",
        "colab": {}
      },
      "cell_type": "code",
      "source": [
        "# import library \n",
        "import numpy as np\n",
        "import pandas as pd\n",
        "import matplotlib.pyplot as plt\n",
        "from scipy.stats import norm"
      ],
      "execution_count": 0,
      "outputs": []
    },
    {
      "metadata": {
        "id": "iL1op_xN4IyV",
        "colab_type": "text"
      },
      "cell_type": "markdown",
      "source": [
        "#Example numpy"
      ]
    },
    {
      "metadata": {
        "id": "TxZgekIEvFDv",
        "colab_type": "code",
        "colab": {}
      },
      "cell_type": "code",
      "source": [
        "# example numpy code\n",
        "x = np.array([[1,2],[3,4]], dtype=np.float64)\n",
        "y = np.array([[5,6],[7,8]], dtype=np.float64)\n",
        "\n",
        "print(x * y)\n",
        "print(np.multiply(x, y))\n",
        "\n",
        "\n",
        "x = np.array([[1,2], [3,4]])\n",
        "print(x)\n",
        "print(x.T)\n",
        "\n",
        "v = np.array([9,10])\n",
        "w = np.array([11, 12])\n",
        "print(v.dot(w))\n",
        "print(np.dot(v, w))\n",
        "print(x.dot(v))\n",
        "\n",
        "# X*v\n",
        "print(np.dot(x, v))"
      ],
      "execution_count": 0,
      "outputs": []
    },
    {
      "metadata": {
        "id": "wMDgVcDmvhkV",
        "colab_type": "code",
        "colab": {}
      },
      "cell_type": "code",
      "source": [
        "# write function to compute A^n\n",
        "def power_mat(x,n):\n",
        "################################################################################\n",
        "# TODO#1:                                                                      #\n",
        "# write function to compute a matrix to a power                                #\n",
        "################################## #############################################\n",
        "#                            WRITE YOUR CODE BELOW                             #\n",
        "################################################################################\n",
        "  pow_x = np.eye(x.size[0])\n",
        "  return pow_x;"
      ],
      "execution_count": 0,
      "outputs": []
    },
    {
      "metadata": {
        "id": "0qWi7y-MukjW",
        "colab_type": "text"
      },
      "cell_type": "markdown",
      "source": [
        "<details>\n",
        "    <summary>SOLUTION HERE!</summary>\n",
        "    <pre>\n",
        "      <code>\n",
        "        pow_x = np.eye(x.size[0])\n",
        "        for i in np.arange(n):\n",
        "          pow_x = np.matmul(pow_x,x)\n",
        "        return pow_x;\n",
        "      </code>\n",
        "    </pre>\n",
        "</details>"
      ]
    },
    {
      "metadata": {
        "colab_type": "code",
        "id": "qZB3vUbkvm8u",
        "colab": {}
      },
      "cell_type": "code",
      "source": [
        "# check your program with A^5\n",
        "A = np.array([[1,2], [3,4]])\n",
        "A_5 = power_mat(A,5)\n",
        "print(A)\n",
        "print(A_5)\n"
      ],
      "execution_count": 0,
      "outputs": []
    },
    {
      "metadata": {
        "id": "u9E1C-J4wT2m",
        "colab_type": "text"
      },
      "cell_type": "markdown",
      "source": [
        "if $A=\\begin{bmatrix} 1 & 2 \\\\ 3 & 4\\end{bmatrix} $ then $A^{5} = \\begin{bmatrix} 1069 & 1558 \\\\ 2337 & 3406\\end{bmatrix}$ "
      ]
    },
    {
      "metadata": {
        "id": "iJfueyCACXEb",
        "colab_type": "code",
        "colab": {}
      },
      "cell_type": "code",
      "source": [
        "train_url = \"http://s3.amazonaws.com/assets.datacamp.com/course/Kaggle/train.csv\"\n",
        "################################################################################\n",
        "# TODO#2:                                                                      #\n",
        "# read data from kaggle by using Pandas                                        #\n",
        "################################## #############################################\n",
        "#                            WRITE YOUR CODE BELOW                             #\n",
        "################################################################################"
      ],
      "execution_count": 0,
      "outputs": []
    },
    {
      "metadata": {
        "id": "IIox1XUiCZdI",
        "colab_type": "text"
      },
      "cell_type": "markdown",
      "source": [
        "<details>\n",
        "    <summary>SOLUTION HERE!</summary>\n",
        "    <pre>\n",
        "      <code>\n",
        "        train = pd.read_csv(train_url)\n",
        "      </code>\n",
        "    </pre>\n",
        "</details>"
      ]
    },
    {
      "metadata": {
        "id": "35wj09IYPozx",
        "colab_type": "code",
        "colab": {}
      },
      "cell_type": "code",
      "source": [
        "################################################################################\n",
        "# TODO#3:                                                                      #\n",
        "# print name of all column in this data set and datatypes                      #\n",
        "# in training data                                                             #\n",
        "################################## #############################################\n",
        "#                            WRITE YOUR CODE BELOW                             #\n",
        "################################################################################"
      ],
      "execution_count": 0,
      "outputs": []
    },
    {
      "metadata": {
        "id": "nizzCBjMNn4n",
        "colab_type": "text"
      },
      "cell_type": "markdown",
      "source": [
        "<details>\n",
        "    <summary>SOLUTION HERE!</summary>\n",
        "    <pre>\n",
        "        <code>\n",
        "              print(train.dtypes)\n",
        "        </code>\n",
        "    </pre>\n",
        "</details>"
      ]
    },
    {
      "metadata": {
        "id": "WSPiQh2duhgf",
        "colab_type": "code",
        "colab": {}
      },
      "cell_type": "code",
      "source": [
        "################################################################################\n",
        "# TODO#4:                                                                      #\n",
        "# see information in training data use pd.head()                               #\n",
        "################################## #############################################\n",
        "#                            WRITE YOUR CODE BELOW                             #\n",
        "################################################################################"
      ],
      "execution_count": 0,
      "outputs": []
    },
    {
      "metadata": {
        "id": "Z5L7njnM7rML",
        "colab_type": "text"
      },
      "cell_type": "markdown",
      "source": [
        "<details>\n",
        "    <summary>SOLUTION HERE!</summary>\n",
        "    <pre>\n",
        "        <code>\n",
        "          train.head()\n",
        "        </code>\n",
        "    </pre>\n",
        "</details>"
      ]
    },
    {
      "metadata": {
        "id": "Ylk_ro4H6LXg",
        "colab_type": "code",
        "colab": {}
      },
      "cell_type": "code",
      "source": [
        "################################################################################\n",
        "# TODO#5:                                                                      #\n",
        "# see information in training data use pd.describe()                           #\n",
        "################################## #############################################\n",
        "#                            WRITE YOUR CODE BELOW                             #\n",
        "################################################################################\n"
      ],
      "execution_count": 0,
      "outputs": []
    },
    {
      "metadata": {
        "id": "DRrCoP2Q7oVg",
        "colab_type": "text"
      },
      "cell_type": "markdown",
      "source": [
        "<details>\n",
        "    <summary>SOLUTION HERE!</summary>\n",
        "    <pre>\n",
        "       <code>\n",
        "        train.describe()\n",
        "      </code>\n",
        "    </pre>\n",
        "</details>"
      ]
    },
    {
      "metadata": {
        "id": "2Fm41C626TRl",
        "colab_type": "code",
        "colab": {}
      },
      "cell_type": "code",
      "source": [
        "################################################################################\n",
        "# TODO#6:                                                                      #\n",
        "# dropout nan data in \"Age\" columns                                            #\n",
        "################################## #############################################\n",
        "#                            WRITE YOUR CODE BELOW                             #\n",
        "################################################################################"
      ],
      "execution_count": 0,
      "outputs": []
    },
    {
      "metadata": {
        "id": "dpNJUJfDudCR",
        "colab_type": "text"
      },
      "cell_type": "markdown",
      "source": [
        "<details>\n",
        "    <summary>SOLUTION HERE!</summary>\n",
        "    <pre>\n",
        "        <code>\n",
        "             train = train.dropna(subset=['Age'])\n",
        "        </code>\n",
        "    </pre>\n",
        "</details>"
      ]
    },
    {
      "metadata": {
        "id": "31Scbuvgae7z",
        "colab_type": "code",
        "colab": {}
      },
      "cell_type": "code",
      "source": [
        "################################################################################\n",
        "# TODO#7:                                                                      #\n",
        "# plot guassian mean = 5, var = 2 by using scipy.norm                          #\n",
        "# if x = np.arange(-20,20,0.01)                                                #\n",
        "################################## #############################################\n",
        "#                            WRITE YOUR CODE BELOW                             #\n",
        "################################################################################\n"
      ],
      "execution_count": 0,
      "outputs": []
    },
    {
      "metadata": {
        "id": "K-94Cjlcy4DS",
        "colab_type": "text"
      },
      "cell_type": "markdown",
      "source": [
        "<details>\n",
        "    <summary>SOLUTION HERE!</summary>\n",
        "      <pre>\n",
        "        <code>\n",
        "          x = np.arange(-20,20,0.01)\n",
        "          p_x = norm(5,np.sqrt(2))\n",
        "          plt.plot(x, p_x.pdf(x))\n",
        "          plt.xlabel('x')\n",
        "          plt.ylabel('P(x)')\n",
        "          plt.show()\n",
        "        </code>\n",
        "      </pre>\n",
        "</details>"
      ]
    },
    {
      "metadata": {
        "id": "o1D9SYwWx_d5",
        "colab_type": "code",
        "colab": {}
      },
      "cell_type": "code",
      "source": [
        "# plot output and output+ noise\n",
        "# output + noise \n",
        "mu, sigma = 10, 9\n",
        "noise = mu + sigma*np.random.randn(10000)\n",
        "\n",
        "################################################################################\n",
        "# TODO#8:                                                                      #\n",
        "# see histogram of noise with bin size = 4                                     #\n",
        "################################## #############################################\n",
        "#                            WRITE YOUR CODE BELOW                             #\n",
        "################################################################################"
      ],
      "execution_count": 0,
      "outputs": []
    },
    {
      "metadata": {
        "id": "659vCUoo_z6J",
        "colab_type": "text"
      },
      "cell_type": "markdown",
      "source": [
        "\n",
        "<details>\n",
        "    <summary>SOLUTION HERE!</summary>\n",
        "      <pre>\n",
        "        <code>\n",
        "          hist, bin_edge = np.histogram(noise, 4)\n",
        "          # make sure to import matplotlib.pyplot as plt\n",
        "          # plot the histogram\n",
        "          plt.fill_between(bin_edge.repeat(2)[1:-1],hist.repeat(2),facecolor='steelblue')\n",
        "          plt.show()\n",
        "        </code>\n",
        "      </pre>\n",
        "</details>"
      ]
    },
    {
      "metadata": {
        "id": "ScjpJjD4xuss",
        "colab_type": "code",
        "colab": {}
      },
      "cell_type": "code",
      "source": [
        "a = 2\n",
        "b = 5\n",
        "c = 3\n",
        "mu = 0 \n",
        "var = 3\n",
        "x = np. arange(-10,10,0.1) \n",
        "################################################################################\n",
        "# TODO#9:                                                                      #\n",
        "# plot y=2x^2+5x+3 + noise and y=2x^2+5x+3                                     #\n",
        "# if noise is N(0,sqrt(3))                                                     #\n",
        "################################## #############################################\n",
        "#                            WRITE YOUR CODE BELOW                             #\n",
        "################################################################################"
      ],
      "execution_count": 0,
      "outputs": []
    },
    {
      "metadata": {
        "id": "Immt-yGTIurQ",
        "colab_type": "code",
        "colab": {}
      },
      "cell_type": "code",
      "source": [
        ""
      ],
      "execution_count": 0,
      "outputs": []
    },
    {
      "metadata": {
        "id": "ve5AQKGuy6S_",
        "colab_type": "text"
      },
      "cell_type": "markdown",
      "source": [
        "<details>\n",
        "    <summary>SOLUTION HERE!</summary>\n",
        "      <pre>\n",
        "        <code>\n",
        "          a = 2 \n",
        "          b = 5\n",
        "          c = 3\n",
        "          x = np. arange(-10,10,0.1)\n",
        "          noise = mu + sigma*np.random.randn(x.size[0])\n",
        "          y_bar =  a*(x**2) + b*x + c\n",
        "          y_noise = a*(x**2) + b*x + c + noise\n",
        "          plt.plot(x, y_bar)\n",
        "          plt.plot(x, y_noise)\n",
        "          plt.show()\n",
        "        </code>\n",
        "      </pre>\n",
        "</details>"
      ]
    },
    {
      "metadata": {
        "id": "1_F9UMsByG8l",
        "colab_type": "code",
        "colab": {}
      },
      "cell_type": "code",
      "source": [
        "t = np.arange(-5., 5., 0.2)\n",
        "################################################################################\n",
        "# TODO#10:                                                                     #\n",
        "# plot y=t with red dashes                                                     #\n",
        "# y=t^2 with blue squares and                                                  #\n",
        "# y=t^3 with green triangles                                                   #\n",
        "################################## #############################################\n",
        "#                            WRITE YOUR CODE BELOW                             #\n",
        "################################################################################"
      ],
      "execution_count": 0,
      "outputs": []
    },
    {
      "metadata": {
        "id": "mE8bz7AFy7AP",
        "colab_type": "text"
      },
      "cell_type": "markdown",
      "source": [
        "<details>\n",
        "    <summary>SOLUTION HERE!</summary>\n",
        "       <pre>\n",
        "        <code>\n",
        "          plt.plot(t, t, 'r--', t, t**2, 'bs', t, t**3, 'g^')\n",
        "          plt.show()\n",
        "        </code>\n",
        "      </pre>\n",
        "</details>"
      ]
    }
  ]
}