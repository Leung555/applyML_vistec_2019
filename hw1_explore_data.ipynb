{
  "nbformat": 4,
  "nbformat_minor": 0,
  "metadata": {
    "colab": {
      "name": "hw1_explore_data.ipynb",
      "version": "0.3.2",
      "provenance": [],
      "collapsed_sections": [],
      "toc_visible": true,
      "include_colab_link": true
    },
    "kernelspec": {
      "name": "python3",
      "display_name": "Python 3"
    },
    "accelerator": "GPU"
  },
  "cells": [
    {
      "cell_type": "markdown",
      "metadata": {
        "id": "view-in-github",
        "colab_type": "text"
      },
      "source": [
        "<a href=\"https://colab.research.google.com/github/Pataweepr/applyML_vistec_2019/blob/master/hw1_explore_data.ipynb\" target=\"_parent\"><img src=\"https://colab.research.google.com/assets/colab-badge.svg\" alt=\"Open In Colab\"/></a>"
      ]
    },
    {
      "metadata": {
        "id": "CgPi_E1Jxilq",
        "colab_type": "code",
        "colab": {}
      },
      "cell_type": "code",
      "source": [
        "# import library \n",
        "import numpy as np\n",
        "import pandas as pd\n",
        "import matplotlib.pyplot as plt\n",
        "import seaborn as sns\n",
        "from scipy.stats import norm,mode"
      ],
      "execution_count": 0,
      "outputs": []
    },
    {
      "metadata": {
        "id": "iL1op_xN4IyV",
        "colab_type": "text"
      },
      "cell_type": "markdown",
      "source": [
        "#Example numpy usage\n",
        "Numpy is used for calculation of mathematical functions such as sin, cosine, and matrix operations."
      ]
    },
    {
      "metadata": {
        "id": "KFwwcobzmOZx",
        "colab_type": "code",
        "colab": {}
      },
      "cell_type": "code",
      "source": [
        "x = np.array([[1,2],[3,4]], dtype=np.float64)\n",
        "y = np.array([[5,6],[7,8]], dtype=np.float64)\n",
        "print(x)\n",
        "print(y)"
      ],
      "execution_count": 0,
      "outputs": []
    },
    {
      "metadata": {
        "id": "niWI35oFo99t",
        "colab_type": "code",
        "colab": {}
      },
      "cell_type": "code",
      "source": [
        "# To find the transpose use .T\n",
        "print(x.T)"
      ],
      "execution_count": 0,
      "outputs": []
    },
    {
      "metadata": {
        "id": "zE1FADecpHTj",
        "colab_type": "code",
        "colab": {}
      },
      "cell_type": "code",
      "source": [
        "# To do element-wise operations, use normal python operators\n",
        "print(x * y)\n",
        "print(np.multiply(x, y))"
      ],
      "execution_count": 0,
      "outputs": []
    },
    {
      "metadata": {
        "id": "joNBg6xPmZAr",
        "colab_type": "code",
        "colab": {}
      },
      "cell_type": "code",
      "source": [
        "# To do matrix multiplication use dot.\n",
        "v = np.array([9,10])\n",
        "w = np.array([11, 12])\n",
        "print(v.dot(w))\n",
        "print(np.dot(v, w))\n",
        "print(x.dot(v))\n",
        "\n",
        "# X*v\n",
        "print(np.dot(x, v))"
      ],
      "execution_count": 0,
      "outputs": []
    },
    {
      "metadata": {
        "id": "FRyIdqcYaYqO",
        "colab_type": "text"
      },
      "cell_type": "markdown",
      "source": [
        "#loops and functions in python\n",
        "\n",
        "Functions start with \"def\". Use \"return\" to return the value.\n",
        "\n",
        "For loops, you can use\n",
        "\n",
        "```\n",
        "for <object> in <iterator>:\n",
        "  <statement>\n",
        "```\n",
        "\n",
        "You can read more about loops here\n",
        "\n",
        "https://www.tutorialspoint.com/python/python_for_loop.htm\n",
        "\n",
        "https://www.tutorialspoint.com/python/python_while_loop.htm"
      ]
    },
    {
      "metadata": {
        "id": "wMDgVcDmvhkV",
        "colab_type": "code",
        "colab": {}
      },
      "cell_type": "code",
      "source": [
        "def power_mat(x,n):\n",
        "################################################################################\n",
        "# TODO#1:                                                                      #\n",
        "# write function to compute matrix A^n                                         #\n",
        "#                                                                              #\n",
        "################################################################################\n",
        "#                            WRITE YOUR CODE BELOW                             #\n",
        "################################################################################\n",
        "  pass # the pass command does nothing. We put it here since we need something\n",
        "       # in the function definition\n",
        "  return ;"
      ],
      "execution_count": 0,
      "outputs": []
    },
    {
      "metadata": {
        "id": "3aIvtgjc_mZk",
        "colab_type": "text"
      },
      "cell_type": "markdown",
      "source": [
        "<details>\n",
        "    <summary>SOLUTION HERE!</summary>\n",
        "      <pre>\n",
        "        <code>\n",
        "          x_n = np.eye(x.shape[0])\n",
        "          for i in np.arange(n):\n",
        "            x_n = np.matmul(x_n,x)\n",
        "          return x_n\n",
        "        </code>\n",
        "      </pre>\n",
        "</details>"
      ]
    },
    {
      "metadata": {
        "colab_type": "code",
        "id": "qZB3vUbkvm8u",
        "colab": {}
      },
      "cell_type": "code",
      "source": [
        "# check your program with A^5\n",
        "A = np.array([[1,2], [3,4]])\n",
        "A_5 = power_mat(A,5)\n",
        "print(A)\n",
        "print(A_5)\n"
      ],
      "execution_count": 0,
      "outputs": []
    },
    {
      "metadata": {
        "id": "u9E1C-J4wT2m",
        "colab_type": "text"
      },
      "cell_type": "markdown",
      "source": [
        "if $A=\\begin{bmatrix} 1 & 2 \\\\ 3 & 4\\end{bmatrix} $ then $A^{5} = \\begin{bmatrix} 1069 & 1558 \\\\ 2337 & 3406\\end{bmatrix}$ "
      ]
    },
    {
      "metadata": {
        "id": "tx2hPU_c_Y5Q",
        "colab_type": "text"
      },
      "cell_type": "markdown",
      "source": [
        "# Scipy and MatPlotLib 101\n",
        "The [SciPy](https://www.scipy.org/) library is one of the core packages that make up the SciPy stack. It provides many user-friendly and efficient numerical routines such as routines for numerical integration and optimization.\n",
        "\n"
      ]
    },
    {
      "metadata": {
        "id": "nQ0CRkcw-tPJ",
        "colab_type": "text"
      },
      "cell_type": "markdown",
      "source": [
        "\n",
        "SciPy is a collection of mathematical algorithms and convenience functions built on the Numpy extension of Python. It adds significant power to the interactive Python session by providing the user with high-level commands and classes for manipulating and visualizing data. With SciPy an interactive Python session becomes a data-processing and system-prototyping environment rivaling systems such as MATLAB, IDL, Octave, R-Lab, and SciLab.\n",
        "\n",
        "The additional benefit of basing SciPy on Python is that this also makes a powerful programming language available for use in developing sophisticated programs and specialized applications. Scientific applications using SciPy benefit from the development of additional modules in numerous niches of the software landscape by developers across the world. Everything from parallel programming to web and data-base subroutines and classes have been made available to the Python programmer. All of this power is available in addition to the mathematical libraries in SciPy.\n"
      ]
    },
    {
      "metadata": {
        "id": "25eCrIE0ow36",
        "colab_type": "text"
      },
      "cell_type": "markdown",
      "source": [
        "[Matplotlib](https://matplotlib.org/) is a Python 2D plotting library. Matplotlib can be used in Python scripts, the Python and IPython shells, the Jupyter notebook, web application servers, and four graphical user interface toolkits.\n"
      ]
    },
    {
      "metadata": {
        "id": "4tA6GzqSoa-f",
        "colab_type": "text"
      },
      "cell_type": "markdown",
      "source": [
        "We'll start by plotting a Guassian distribution. Read about [scipy.norm](https://docs.scipy.org/doc/scipy/reference/generated/scipy.stats.norm.html) and simple plotting using [matplotlib](https://matplotlib.org/gallery/lines_bars_and_markers/simple_plot.html#sphx-glr-gallery-lines-bars-and-markers-simple-plot-py) and complete the code below."
      ]
    },
    {
      "metadata": {
        "id": "31Scbuvgae7z",
        "colab_type": "code",
        "colab": {}
      },
      "cell_type": "code",
      "source": [
        "################################################################################\n",
        "# TODO#2:                                                                      #\n",
        "# plot guassian mean = 5, var = 2 by using scipy.norm                          #\n",
        "# if x = np.arange(-20,20,0.01)                                                #\n",
        "################################################################################\n",
        "#                            WRITE YOUR CODE BELOW                             #\n",
        "################################################################################\n"
      ],
      "execution_count": 0,
      "outputs": []
    },
    {
      "metadata": {
        "id": "K-94Cjlcy4DS",
        "colab_type": "text"
      },
      "cell_type": "markdown",
      "source": [
        "<details>\n",
        "    <summary>SOLUTION HERE!</summary>\n",
        "      <pre>\n",
        "        <code>\n",
        "          x = np.arange(-20,20,0.01)\n",
        "          p_x = norm(5,np.sqrt(2))\n",
        "          plt.plot(x, p_x.pdf(x))\n",
        "          plt.xlabel('x')\n",
        "          plt.ylabel('P(x)')\n",
        "          plt.show()\n",
        "        </code>\n",
        "      </pre>\n",
        "</details>"
      ]
    },
    {
      "metadata": {
        "id": "ijcgqNof_TMI",
        "colab_type": "text"
      },
      "cell_type": "markdown",
      "source": [
        "##Random number generation and histograms\n",
        "\n",
        "We will use this library to solve statistical problems. First we need to be able to generate random samples! The command to generate random numbers from a standard normal distribution is np.random.randn.\n",
        "\n",
        "You can see the information of the library on the attached link.\n",
        "[click](https://docs.scipy.org/doc/scipy/reference/tutorial/stats.html)\n",
        "\n",
        "We also want to be able to plot histograms. Matplotlib can plot various kinds of plots, see examples [here](https://matplotlib.org/gallery/index.html). Look for \"Histograms\" and study the examples provided.\n",
        "\n",
        "In the next part we will plot a histogram of the Gaussian distribution with mean 100 and STD 15."
      ]
    },
    {
      "metadata": {
        "id": "o1D9SYwWx_d5",
        "colab_type": "code",
        "colab": {}
      },
      "cell_type": "code",
      "source": [
        "# plot output and output+ noise\n",
        "# output + noise \n",
        "mu, sigma = 100, 15\n",
        "noise = mu + sigma*np.random.randn(10000)\n",
        "################################################################################\n",
        "# TODO#3:                                                                      #\n",
        "# see histogram of noise with a number of bins is 1000                         #\n",
        "################################################################################\n",
        "#                            WRITE YOUR CODE BELOW                             #\n",
        "################################################################################\n"
      ],
      "execution_count": 0,
      "outputs": []
    },
    {
      "metadata": {
        "id": "659vCUoo_z6J",
        "colab_type": "text"
      },
      "cell_type": "markdown",
      "source": [
        "\n",
        "<details>\n",
        "    <summary>SOLUTION HERE!</summary>\n",
        "      <pre>\n",
        "        <code>\n",
        "          hist, bin_edge = np.histogram(noise, 100)\n",
        "          # make sure to import matplotlib.pyplot as plt\n",
        "          # plot the histogram\n",
        "          plt.fill_between(bin_edge.repeat(2)[1:-1],hist.repeat(2),facecolor='steelblue')\n",
        "          plt.show()\n",
        "        </code>\n",
        "        OR\n",
        "        <code>\n",
        "          n, bins, patches = plt.hist(noise, 100, density=True, facecolor='g', alpha=0.75)\n",
        "          plt.show()\n",
        "        </code>\n",
        "      </pre>\n",
        "</details>"
      ]
    },
    {
      "metadata": {
        "id": "0uavWF0KsmFP",
        "colab_type": "text"
      },
      "cell_type": "markdown",
      "source": [
        "Sometimes we want to plot many things on top of each other. We can do so by just repeating plt.plot() for different values before calling plt.show()\n",
        "\n",
        "We want to plot some kind of phenomenon which has the relationship of\n",
        "\n",
        "$y = 2x^2 + 5x + 3$\n",
        "\n",
        "However, we observe this phenomenon through a noisy sensor which has a Guassian noise with mean 0 and variance of 3.\n",
        "\n",
        "Below plot two lines showing the underlying phenomenon and the observed values."
      ]
    },
    {
      "metadata": {
        "id": "ScjpJjD4xuss",
        "colab_type": "code",
        "colab": {}
      },
      "cell_type": "code",
      "source": [
        "a = 2\n",
        "b = 5\n",
        "c = 3\n",
        "mu = 0 \n",
        "var = 3\n",
        "x = np.arange(-10,10,0.1) \n",
        "################################################################################\n",
        "# TODO#4:                                                                      #\n",
        "# plot y=2x^2+5x+3 + noise and y=2x^2+5x+3                                     #\n",
        "# if noise is N(0,sqrt(3))                                                     #\n",
        "################################################################################\n",
        "#                            WRITE YOUR CODE BELOW                             #\n",
        "################################################################################\n"
      ],
      "execution_count": 0,
      "outputs": []
    },
    {
      "metadata": {
        "id": "ve5AQKGuy6S_",
        "colab_type": "text"
      },
      "cell_type": "markdown",
      "source": [
        "<details>\n",
        "    <summary>SOLUTION HERE!</summary>\n",
        "      <pre>\n",
        "        <code>\n",
        "          a = 2 \n",
        "          b = 5\n",
        "          c = 3\n",
        "          x = np. arange(-10,10,0.1)\n",
        "          noise = mu + sigma*np.random.randn(x.size)\n",
        "          y_bar =  a&lowast;(x&lowast;&lowast;2) + b&lowast;x + c\n",
        "          y_noise = a&lowast;(x&lowast;&lowast;2) + b&lowast;x + c + noise\n",
        "          plt.plot(x, y_bar)\n",
        "          plt.plot(x, y_noise)\n",
        "          plt.show()\n",
        "        </code>\n",
        "      </pre>\n",
        "</details>"
      ]
    },
    {
      "metadata": {
        "id": "XzD89vESuAGW",
        "colab_type": "text"
      },
      "cell_type": "markdown",
      "source": [
        "Finally, we can also add colors and shapes to our plots. See [here](https://matplotlib.org/api/_as_gen/matplotlib.pyplot.plot.html) under \"Format Strings.\"\n",
        "\n",
        "Plot 3 lines,\n",
        "\n",
        "$y = t$\n",
        "\n",
        "$y = t^2$\n",
        "\n",
        "$y = t^3$\n",
        "\n",
        "using different colors and shapes"
      ]
    },
    {
      "metadata": {
        "id": "1_F9UMsByG8l",
        "colab_type": "code",
        "colab": {}
      },
      "cell_type": "code",
      "source": [
        "t = np.arange(-5., 5., 0.2)\n",
        "################################################################################\n",
        "# TODO#5:                                                                      #\n",
        "# plot y=t with red dashes                                                     #\n",
        "# y=t^2 with blue squares and                                                  #\n",
        "# y=t^3 with green triangles                                                   #\n",
        "################################################################################\n",
        "#                            WRITE YOUR CODE BELOW                             #\n",
        "################################################################################\n"
      ],
      "execution_count": 0,
      "outputs": []
    },
    {
      "metadata": {
        "id": "mE8bz7AFy7AP",
        "colab_type": "text"
      },
      "cell_type": "markdown",
      "source": [
        "<details>\n",
        "    <summary>SOLUTION HERE!</summary>\n",
        "       <pre>\n",
        "        <code>\n",
        "          plt.plot(t, t, 'r--', t, t&lowast;&lowast;2, 'bs', t, t&lowast;&lowast;3, 'g^')\n",
        "          plt.show()\n",
        "        </code>\n",
        "      </pre>\n",
        "</details>"
      ]
    },
    {
      "metadata": {
        "id": "AlL88k3fAEyW",
        "colab_type": "text"
      },
      "cell_type": "markdown",
      "source": [
        "# Titanic: Machine Learning from Disaster\n",
        "## Predict the survival of passengers on the Titanic and get familiar with ML basics\n",
        "\n",
        "In this part of the excercise we'll explore and create a simple rule-based classifier. We will work on the Titanic dataset provided by Kaggle. The Titanic dataset contains information of the passengers boarding the Titanic on its ﬁnal voyage. We will work on predicting whether a given passenger will survive the trip. \n",
        "\n",
        "\n",
        "**Goal**\n",
        "\n",
        "It is your job to predict if a passenger survived the sinking of the Titanic or not. \n",
        "For each PassengerId in the test set, you must predict a 0 or 1 value for the Survived variable.\n",
        "\n",
        "\n",
        "**Metric**\n",
        "\n",
        "Your score is the percentage of passengers you predict correctly. This is known simply as \"accuracy”.\n",
        "\n",
        "\n",
        "\n",
        "\n",
        "\n",
        "\n"
      ]
    },
    {
      "metadata": {
        "id": "-M2aOtN4AiYh",
        "colab_type": "text"
      },
      "cell_type": "markdown",
      "source": [
        "## Data exploration and cleaning\n",
        "\n",
        "In all machine learning tasks, before you do anything, it's a good idea to perform data exploration and data cleaning. To do so, we'll do it using the [Pandas](https://pandas.pydata.org/) library.\n",
        "\n",
        "You can explore more about pandas using the links provided below:\n",
        "\n",
        "#### [Overview Pandas](http://pandas.pydata.org/pandas-docs/stable/getting_started/overview.html)\n",
        "\n",
        "#### [Intro to Data Structures](https://pandas.pydata.org/pandas-docs/stable/getting_started/dsintro.html) (focusing on Dataframe)\n",
        "\n",
        "#### [Quick start on Pandas](http://pandas.pydata.org/pandas-docs/stable/getting_started/10min.html)."
      ]
    },
    {
      "metadata": {
        "id": "DkBHRU0HDgv9",
        "colab_type": "text"
      },
      "cell_type": "markdown",
      "source": [
        "Read in the .csv data from a URL (or a file).\n",
        "See [here](https://chrisalbon.com/python/data_wrangling/pandas_dataframe_importing_csv/)\n"
      ]
    },
    {
      "metadata": {
        "id": "iJfueyCACXEb",
        "colab_type": "code",
        "colab": {}
      },
      "cell_type": "code",
      "source": [
        "train_url = \"http://s3.amazonaws.com/assets.datacamp.com/course/Kaggle/train.csv\"\n",
        "################################################################################\n",
        "# TODO#6:                                                                      #\n",
        "# read data from kaggle by using Pandas                                        #\n",
        "################################################################################\n",
        "#                            WRITE YOUR CODE BELOW                             #\n",
        "################################################################################\n"
      ],
      "execution_count": 0,
      "outputs": []
    },
    {
      "metadata": {
        "id": "IIox1XUiCZdI",
        "colab_type": "text"
      },
      "cell_type": "markdown",
      "source": [
        "<details>\n",
        "    <summary>SOLUTION HERE!</summary>\n",
        "    <pre>\n",
        "      <code>\n",
        "        train = pd.read_csv(train_url)\n",
        "      </code>\n",
        "    </pre>\n",
        "</details>"
      ]
    },
    {
      "metadata": {
        "id": "FpWbPFdY0Oqp",
        "colab_type": "text"
      },
      "cell_type": "markdown",
      "source": [
        "Let's look at the datatypes in the data. See [here](https://pandas.pydata.org/pandas-docs/stable/generated/pandas.DataFrame.dtypes.html)"
      ]
    },
    {
      "metadata": {
        "id": "35wj09IYPozx",
        "colab_type": "code",
        "colab": {}
      },
      "cell_type": "code",
      "source": [
        "################################################################################\n",
        "# TODO#7:                                                                      #\n",
        "# print name of all column in this data set and datatypes in training data     #\n",
        "################################################################################\n",
        "#                            WRITE YOUR CODE BELOW                             #\n",
        "################################################################################\n"
      ],
      "execution_count": 0,
      "outputs": []
    },
    {
      "metadata": {
        "id": "nizzCBjMNn4n",
        "colab_type": "text"
      },
      "cell_type": "markdown",
      "source": [
        "<details>\n",
        "    <summary>SOLUTION HERE!</summary>\n",
        "    <pre>\n",
        "        <code>\n",
        "              print(train.dtypes)\n",
        "        </code>\n",
        "    </pre>\n",
        "</details>"
      ]
    },
    {
      "metadata": {
        "id": "OUeBjPJxzrMX",
        "colab_type": "text"
      },
      "cell_type": "markdown",
      "source": [
        "The functions **.describe()** and **.head()  **.tail()** are very useful for exploring the data. What do you see? \n",
        "\n",
        "You can read the meaning of the data ﬁelds [here](https://www.kaggle.com/c/titanic/data).\n"
      ]
    },
    {
      "metadata": {
        "id": "WSPiQh2duhgf",
        "colab_type": "code",
        "colab": {}
      },
      "cell_type": "code",
      "source": [
        "################################################################################\n",
        "# TODO#8:                                                                      #\n",
        "# see information in training data use pd.head()                               #\n",
        "################################################################################\n",
        "#                            WRITE YOUR CODE BELOW                             #\n",
        "################################################################################\n"
      ],
      "execution_count": 0,
      "outputs": []
    },
    {
      "metadata": {
        "id": "Z5L7njnM7rML",
        "colab_type": "text"
      },
      "cell_type": "markdown",
      "source": [
        "<details>\n",
        "    <summary>SOLUTION HERE!</summary>\n",
        "    <pre>\n",
        "        <code>\n",
        "          train.head()\n",
        "        </code>\n",
        "    </pre>\n",
        "</details>"
      ]
    },
    {
      "metadata": {
        "id": "zK36k2OjC4LS",
        "colab_type": "code",
        "colab": {}
      },
      "cell_type": "code",
      "source": [
        "################################################################################\n",
        "# TODO#9:                                                                      #\n",
        "# see information in training data use pd.describe()                           #\n",
        "################################################################################\n",
        "#                            WRITE YOUR CODE BELOW                             #\n",
        "################################################################################\n"
      ],
      "execution_count": 0,
      "outputs": []
    },
    {
      "metadata": {
        "id": "DRrCoP2Q7oVg",
        "colab_type": "text"
      },
      "cell_type": "markdown",
      "source": [
        "<details>\n",
        "    <summary>SOLUTION HERE!</summary>\n",
        "    <pre>\n",
        "       <code>\n",
        "        train.describe()\n",
        "      </code>\n",
        "    </pre>\n",
        "</details>"
      ]
    },
    {
      "metadata": {
        "id": "Lpk1DH-TBAlL",
        "colab_type": "text"
      },
      "cell_type": "markdown",
      "source": [
        "## Cleaning the data\n",
        "\n",
        "We usually treat machine learning models as functions, so we need to describe the input as numbers.\n",
        "\n",
        "Can we use this data already? Does it have missing values?\n",
        "\n",
        "We can check for missing values using the command .isnull()\n",
        "\n",
        "When we have missing values, we can either drop the rows containing them (.dropna() or fill it with values .fllna())."
      ]
    },
    {
      "metadata": {
        "id": "b8rtcMdabFFV",
        "colab_type": "code",
        "colab": {}
      },
      "cell_type": "code",
      "source": [
        "################################################################################\n",
        "# TODO#10:                                                                     #\n",
        "# We should modify data before using in ML algorithm                           #\n",
        "################################################################################\n",
        "#                            WRITE YOUR CODE BELOW                             #\n",
        "################################################################################\n"
      ],
      "execution_count": 0,
      "outputs": []
    },
    {
      "metadata": {
        "id": "4CtGMJQ_7upg",
        "colab_type": "text"
      },
      "cell_type": "markdown",
      "source": [
        "\n",
        "\n",
        "<details>\n",
        "    <summary>SOLUTION HERE!</summary>\n",
        "    <pre>\n",
        "       <code>\n",
        "    # check NA\n",
        "    print(train[\"Embarked\"].isnull().values.any())\n",
        "    print(train[\"Sex\"].isnull().values.any())\n",
        "    print(train[\"Age\"].isnull().values.any())\n",
        "    \n",
        "    # drop NA\n",
        "    train = train.dropna(subset=['Embarked'])\n",
        "    \n",
        "    # check shape\n",
        "    print(train.shape)\n",
        "\n",
        "    # fill na data with median\n",
        "    train[\"Age\"] = train[\"Age\"].fillna(train[\"Age\"].median())\n",
        "      </code>\n",
        "    </pre>\n",
        "</details>"
      ]
    },
    {
      "metadata": {
        "id": "vayaLmyGBITe",
        "colab_type": "text"
      },
      "cell_type": "markdown",
      "source": [
        "Since we deal with mathematical models, we need numbers to feed into our model function.\n",
        "\n",
        "Is the data all numbers? Is the data already for the model?\n",
        "\n",
        "Change the values in the \"Embarked\" into numbers {0,1,2} to signify different embark locations. We call this particular type of data reformatting, one-hot encoding.\n"
      ]
    },
    {
      "metadata": {
        "id": "xS_f0-Yk7cPj",
        "colab_type": "code",
        "colab": {}
      },
      "cell_type": "code",
      "source": [
        "################################################################################\n",
        "# TODO#11:                                                                     #\n",
        "# We change the data to numbers                                                #\n",
        "# Change the data in \"Embarked\" column                                         #\n",
        "# https://pandas.pydata.org/pandas-docs/stable/generated/pandas.DataFrame.loc.html\n",
        "# https://stackoverflow.com/questions/13842088/set-value-for-particular-cell-in-pandas-dataframe-using-index\n",
        "################################################################################\n",
        "#                            WRITE YOUR CODE BELOW                             #\n",
        "################################################################################\n"
      ],
      "execution_count": 0,
      "outputs": []
    },
    {
      "metadata": {
        "id": "i4hGPzmp7bUE",
        "colab_type": "text"
      },
      "cell_type": "markdown",
      "source": [
        "<details>\n",
        "    <summary>SOLUTION HERE!</summary>\n",
        "    <pre>\n",
        "       <code>\n",
        "    train.loc[train[\"Embarked\"] == \"S\", \"Embarked\"] = 0\n",
        "    train.loc[train[\"Embarked\"] == \"C\", \"Embarked\"] = 1\n",
        "    train.loc[train[\"Embarked\"] == \"Q\", \"Embarked\"] = 2\n",
        "      </code>\n",
        "    </pre>\n",
        "</details>"
      ]
    },
    {
      "metadata": {
        "id": "ajd6_4Dd7Wo7",
        "colab_type": "code",
        "colab": {}
      },
      "cell_type": "code",
      "source": [
        "################################################################################\n",
        "# TODO#12:                                                                     #\n",
        "# One-hot encode the \"Sex\" column                                              #\n",
        "################################################################################\n",
        "#                            WRITE YOUR CODE BELOW                             #\n",
        "################################################################################\n"
      ],
      "execution_count": 0,
      "outputs": []
    },
    {
      "metadata": {
        "id": "Qk9RSpZ87UEJ",
        "colab_type": "code",
        "colab": {}
      },
      "cell_type": "code",
      "source": [
        "################################################################################\n",
        "# TODO#13:                                                                     #\n",
        "# change pandas data to numpy                                                  #\n",
        "# use only [\"Pclass\",\"Sex\",\"Age\",\"Embarked\"] columns                           #\n",
        "# Also create another numpy data structure containing only \"Survived\".         #\n",
        "# This will serve as our target values.                                        #\n",
        "# https://stackoverflow.com/questions/13187778/convert-pandas-dataframe-to-numpy-array-preserving-index\n",
        "################################################################################\n",
        "#                            WRITE YOUR CODE BELOW                             #\n",
        "################################################################################\n"
      ],
      "execution_count": 0,
      "outputs": []
    },
    {
      "metadata": {
        "id": "jJYQa10l7WK4",
        "colab_type": "text"
      },
      "cell_type": "markdown",
      "source": [
        "<details>\n",
        "    <summary>SOLUTION HERE!</summary>\n",
        "      <pre>\n",
        "        <code>\n",
        "          data = np.array(train[[\"Pclass\",\"Sex\",\"Age\",\"Embarked\"]].values)\n",
        "          y = np.array(train[\"Survived\"].values, dtype = int)\n",
        "          print(data.shape) # check data shape\n",
        "        </code>\n",
        "      </pre>\n",
        "</details>"
      ]
    },
    {
      "metadata": {
        "id": "GiSewqPY7JSv",
        "colab_type": "code",
        "colab": {}
      },
      "cell_type": "code",
      "source": [
        "################################################################################\n",
        "# TODO#14:                                                                     #\n",
        "# Compute the mean and median of your numpy matrix                             #\n",
        "# You can write a loop or use np.mean() and np.median()                        #\n",
        "################################################################################\n",
        "#                            WRITE YOUR CODE BELOW                             #\n",
        "################################################################################\n",
        "# you should check to answer with pd.describe() \n"
      ],
      "execution_count": 0,
      "outputs": []
    },
    {
      "metadata": {
        "id": "pUj5ikIH7TfL",
        "colab_type": "text"
      },
      "cell_type": "markdown",
      "source": [
        "<details>\n",
        "    <summary>SOLUTION HERE!</summary>\n",
        "      <pre>\n",
        "        <code>\n",
        "          print(np.median(data, axis=0))\n",
        "          print(mode(data))\n",
        "          print(np.mean(data, axis=0))\n",
        "          train.describe()\n",
        "        </code>\n",
        "      </pre>\n",
        "</details>"
      ]
    },
    {
      "metadata": {
        "id": "d95cy5ZwBnjX",
        "colab_type": "text"
      },
      "cell_type": "markdown",
      "source": [
        "In the machine learning pipeline, it is useful to know the relationship between different variables, especially the relationship with repsect to the task we're concerned with.\n",
        "\n",
        "In the next segments, we will try to figure out which feature is the most important."
      ]
    },
    {
      "metadata": {
        "id": "QCWl9A4l62LC",
        "colab_type": "code",
        "colab": {}
      },
      "cell_type": "code",
      "source": [
        "################################################################################\n",
        "# TODO#15:                                                                     #\n",
        "# which feature is the most important                                          #\n",
        "# hint : see correlation with survived                                         #\n",
        "# use np.corrcoef                                                              #\n",
        "################################################################################\n",
        "#                            WRITE YOUR CODE BELOW                             #\n",
        "################################################################################\n"
      ],
      "execution_count": 0,
      "outputs": []
    },
    {
      "metadata": {
        "id": "Um3uXuyK64QD",
        "colab_type": "text"
      },
      "cell_type": "markdown",
      "source": [
        "<details>\n",
        "    <summary>SOLUTION HERE!</summary>\n",
        "      <pre>\n",
        "        <code>\n",
        "          # split data\n",
        "          data_Pclass = np.copy(data[:,0])\n",
        "          data_Sex = np.copy(data[:,1])\n",
        "          data_Age = np.copy(data[:,2])\n",
        "          data_Embarked = np.copy(data[:,3])\n",
        "\n",
        "          # example see correlation with Pclass\n",
        "          use_cov = np.vstack((data_Pclass,y))\n",
        "\n",
        "          # see correlation\n",
        "          print(np.corrcoef(use_cov))\n",
        "        </code>\n",
        "      </pre>\n",
        "</details>"
      ]
    },
    {
      "metadata": {
        "id": "jehtpRR3cvlN",
        "colab_type": "text"
      },
      "cell_type": "markdown",
      "source": [
        "Between sex, age, passenger class, and embark location, which one has the highest correlation with survival?\n",
        "\n",
        "**Ans:**"
      ]
    },
    {
      "metadata": {
        "id": "0G7flUX9CQED",
        "colab_type": "text"
      },
      "cell_type": "markdown",
      "source": [
        "### Visualization\n",
        "\n",
        "Visualization can help you understand the data better. \n",
        "\n",
        "Since we are predicting survival, we can partition the data into a survived group and a dead group, then visualize (plot using matplotlib) the feature found most important for each case."
      ]
    },
    {
      "metadata": {
        "id": "raAOp4m66rAz",
        "colab_type": "code",
        "colab": {}
      },
      "cell_type": "code",
      "source": [
        "################################################################################\n",
        "# TODO#16:                                                                     #\n",
        "# Split data : survived, non survived                                          #\n",
        "# https://docs.scipy.org/doc/numpy-1.15.0/reference/generated/numpy.where.html #\n",
        "################################################################################\n",
        "#                            WRITE YOUR CODE BELOW                             #\n",
        "################################################################################\n"
      ],
      "execution_count": 0,
      "outputs": []
    },
    {
      "metadata": {
        "id": "MhJguKyX6qUx",
        "colab_type": "text"
      },
      "cell_type": "markdown",
      "source": [
        "<details>\n",
        "    <summary>SOLUTION HERE!</summary>\n",
        "      <pre>\n",
        "        <code>\n",
        "          # split in numpy\n",
        "          index_service = np.where(y == 1)\n",
        "          data_sex_s = data_Sex[np.where(y == 1)]\n",
        "          data_sex_ns = data_Sex[np.where(y == 0)]\n",
        "          # split in Pandas\n",
        "          train_sur = train.loc[train[\"Survived\"] == 1]\n",
        "          train_non_sur = train.loc[train[\"Survived\"] == 0]\n",
        "        </code>\n",
        "      </pre>\n",
        "</details>"
      ]
    },
    {
      "metadata": {
        "id": "FGgcoxe56e1x",
        "colab_type": "code",
        "colab": {}
      },
      "cell_type": "code",
      "source": [
        "################################################################################\n",
        "# TODO#17:                                                                     #\n",
        "# Plot bar plots of the most important feature comparing the case for survive  #\n",
        "# and death.                                                                   #\n",
        "################################################################################\n",
        "#                            WRITE YOUR CODE BELOW                             #\n",
        "################################################################################\n"
      ],
      "execution_count": 0,
      "outputs": []
    },
    {
      "metadata": {
        "id": "XXFN1l1u6bTc",
        "colab_type": "text"
      },
      "cell_type": "markdown",
      "source": [
        "<details>\n",
        "    <summary>SOLUTION HERE!</summary>\n",
        "      <pre>\n",
        "        <code>\n",
        "          # This code just counts the total amount of people for each category\n",
        "          count_s,t,t = plt.hist(data_sex_s, 2)\n",
        "          count_ns,t,t = plt.hist(data_sex_ns, 2)\n",
        "          plt.clf()\n",
        "\n",
        "          x1 = [0, 1]\n",
        "          x2 = [3, 4]\n",
        "          plt.bar(x1, count_s, facecolor='g')\n",
        "          plt.bar(x2, count_ns, facecolor='r')\n",
        "          plt.xticks([0,1,3,4], ('Male Survived', 'Female Survived', 'Male Dead', 'Female Dead'))\n",
        "          plt.show()\n",
        "        </code>\n",
        "      </pre>\n",
        "</details>"
      ]
    },
    {
      "metadata": {
        "id": "3KK4WHIkg-o6",
        "colab_type": "text"
      },
      "cell_type": "markdown",
      "source": [
        "## Simple rule-based classifier\n",
        "\n",
        "Wow! there seems to be a huge difference according to our plot. Let's create a simple rule-base classifier, using this observation. In other words, predict the survival using just the gender value.\n",
        "\n",
        "After you finish making your prediction on all of your data, see how correct you are by computing the accuracy on the provided data."
      ]
    },
    {
      "metadata": {
        "id": "xa2SVaBQ6Yjz",
        "colab_type": "code",
        "colab": {}
      },
      "cell_type": "code",
      "source": [
        "################################################################################\n",
        "# TODO#18:                                                                     #\n",
        "# use your rule-base on train set and check your result                        #\n",
        "################################################################################\n",
        "#                            WRITE YOUR CODE BELOW                             #\n",
        "################################################################################\n"
      ],
      "execution_count": 0,
      "outputs": []
    },
    {
      "metadata": {
        "id": "dpNJUJfDudCR",
        "colab_type": "text"
      },
      "cell_type": "markdown",
      "source": [
        "<details>\n",
        "    <summary>SOLUTION HERE!</summary>\n",
        "      <pre>\n",
        "          <code>\n",
        "            sur_train = np.zeros(y.shape[0], dtype=int)\n",
        "\n",
        "            # simple rule base\n",
        "            for i in np.arange(y.shape[0]):\n",
        "              if(data_Sex[i] != 0): # female\n",
        "                sur_train[i] = 1\n",
        "              else: # male\n",
        "                sur_train[i] = 0\n",
        "\n",
        "            # check result \n",
        "            print((np.nonzero(sur_train == y)[0].size / y.size)*100)\n",
        "          </code>\n",
        "      </pre>\n",
        "</details>"
      ]
    },
    {
      "metadata": {
        "id": "_rMhYzQJD6WQ",
        "colab_type": "text"
      },
      "cell_type": "markdown",
      "source": [
        "### Precision, recall, and F1\n",
        "\n",
        "Another way to meaure performance of a binary classification problem is via precision and recall.\n",
        "\n",
        "The F1 score can be considered as an average (harmonic mean) of precision and recall. It is a number that summarizes the two numbers (precision and recall) into a single value for easy comparison. However, be mindful that the F1 score carries no real world meaning since it is  an average of two completely different things.\n",
        "\n",
        "We can use the sci-kit learn library to compute them by using the function described [here](https://scikit-learn.org/stable/modules/generated/sklearn.metrics.precision_recall_fscore_support.html)\n",
        "\n"
      ]
    },
    {
      "metadata": {
        "id": "_H4q0hD0NYyX",
        "colab_type": "text"
      },
      "cell_type": "markdown",
      "source": [
        "You can start with the code shown below.\n",
        "\n",
        "<pre>\n",
        "<code>\n",
        "from sklearn.metrics import f1_score,precision_score,recall_score\n",
        "\n",
        "def evaluate(y_pred,y_test):  \n",
        "  f1score = f1_score(y_test,y_pred)\n",
        "  precision = precision_score(y_test,y_pred)\n",
        "  recall = recall_score(y_test,y_pred)\n",
        "  return f1score, precision, recall\n",
        "</code>\n",
        "</pre>\n"
      ]
    },
    {
      "metadata": {
        "id": "-pzKdEn4BaHA",
        "colab_type": "code",
        "colab": {}
      },
      "cell_type": "code",
      "source": [
        "################################################################################\n",
        "# TODO#18:                                                                     #\n",
        "# Use your rule-base on the train set and compute precision, recall and f1 .   #\n",
        "################################################################################\n",
        "#                            WRITE YOUR CODE BELOW                             #\n",
        "################################################################################\n"
      ],
      "execution_count": 0,
      "outputs": []
    },
    {
      "metadata": {
        "id": "Jw1JxqkuvfIX",
        "colab_type": "text"
      },
      "cell_type": "markdown",
      "source": [
        "## Try your rule-based in test data and print screen your score\n",
        "\n",
        "Now we want to try our simple rule-based classifier on test data to measure its ability to generalize to new data. Kaggle also provide testing data which we will use to do so.\n",
        "\n",
        "### Submission File Format\n",
        "To evaluate your results, you need to submit your output to Kaggle. You should submit a csv file with exactly 418 entries plus a header row. Your submission will show an error if you have extra columns (beyond PassengerId and Survived) or rows.\n",
        "\n",
        "The file should have exactly 2 columns:\n",
        "\n",
        "*   PassengerId (sorted in any order)\n",
        "*   Survived (contains your binary predictions: 1 for survived, 0 for deceased)\n",
        "\n",
        "\n",
        "\n"
      ]
    },
    {
      "metadata": {
        "id": "aw-xbXgX6Wqp",
        "colab_type": "code",
        "colab": {}
      },
      "cell_type": "code",
      "source": [
        "# use this library to downlaod file \n",
        "from google.colab import files\n",
        "\n",
        "# test data \n",
        "test_url = \"http://s3.amazonaws.com/assets.datacamp.com/course/Kaggle/test.csv\"\n",
        "\n",
        "################################################################################\n",
        "# TODO#19:                                                                     #\n",
        "# Submit your results at                                                       #\n",
        "# https://www.kaggle.com/c/titanic                                             #\n",
        "################################################################################\n",
        "#                            WRITE YOUR CODE BELOW                             #\n",
        "################################################################################\n"
      ],
      "execution_count": 0,
      "outputs": []
    },
    {
      "metadata": {
        "id": "Ml4_1sEcSiPt",
        "colab_type": "text"
      },
      "cell_type": "markdown",
      "source": [
        "### Example: how to download the results to your computer to submit\n",
        "\n",
        "The following code shows how to create a .csv from Pandas. It first creates a dataframe with desired values, saves it to a file (in the cloud), then downloads it to your machine."
      ]
    },
    {
      "metadata": {
        "id": "RC4Icc7K3ZqA",
        "colab_type": "text"
      },
      "cell_type": "markdown",
      "source": [
        "<pre>\n",
        "  <code>\n",
        "    submission = pd.DataFrame({\n",
        "        \"PassengerId\" : test[\"PassengerId\"],\n",
        "        \"Survived\" : <RESULT_TEST>\n",
        "    })  \n",
        "    # <FILE_NAME> is the name of your .csv file\n",
        "    submission.to_csv( <FILE_NAME>, index=False ) \n",
        "    files.download( <FILE_NAME> ) # This command downloads the file.\n",
        "  </code>\n",
        "</pre>\n",
        "\n",
        "\n"
      ]
    },
    {
      "metadata": {
        "id": "ubisyrfomg5B",
        "colab_type": "text"
      },
      "cell_type": "markdown",
      "source": [
        "\n",
        "** TODO#20 **\n",
        "Write down the accuracy of your submission:\n",
        "\n",
        "** Ans: **"
      ]
    }
  ]
}