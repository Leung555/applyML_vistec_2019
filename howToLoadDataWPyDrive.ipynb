{
  "nbformat": 4,
  "nbformat_minor": 0,
  "metadata": {
    "colab": {
      "name": "howToLoadDataWPyDrive.ipynb",
      "version": "0.3.2",
      "provenance": [],
      "collapsed_sections": [],
      "include_colab_link": true
    },
    "kernelspec": {
      "display_name": "Python 3",
      "language": "python",
      "name": "python3"
    }
  },
  "cells": [
    {
      "cell_type": "markdown",
      "metadata": {
        "id": "view-in-github",
        "colab_type": "text"
      },
      "source": [
        "<a href=\"https://colab.research.google.com/github/Pataweepr/applyML_vistec_2019/blob/master/howToLoadDataWPyDrive.ipynb\" target=\"_parent\"><img src=\"https://colab.research.google.com/assets/colab-badge.svg\" alt=\"Open In Colab\"/></a>"
      ]
    },
    {
      "metadata": {
        "id": "xnC8CcKj-Wyh",
        "colab_type": "text"
      },
      "cell_type": "markdown",
      "source": [
        "## How to load data from  Google drive !!!\n",
        "\n",
        "1.find folder ID\n",
        "2.run this code\n"
      ]
    },
    {
      "metadata": {
        "id": "LyXd3PeVaqIQ",
        "colab_type": "code",
        "cellView": "both",
        "colab": {}
      },
      "cell_type": "code",
      "source": [
        "\n",
        "!pip install -U -q PyDrive\n",
        "\n",
        "from pydrive.auth import GoogleAuth\n",
        "from pydrive.drive import GoogleDrive\n",
        "from google.colab import auth\n",
        "from oauth2client.client import GoogleCredentials\n",
        "\n",
        "# 1. Authenticate and create the PyDrive client.\n",
        "auth.authenticate_user()\n",
        "gauth = GoogleAuth()\n",
        "gauth.credentials = GoogleCredentials.get_application_default()\n",
        "drive = GoogleDrive(gauth)\n",
        "\n",
        "# PyDrive reference:\n",
        "# https://gsuitedevs.github.io/PyDrive/docs/build/html/index.html\n",
        "\n",
        "# 2. Create & upload a file text file.\n",
        "#uploaded = drive.CreateFile({'title': 'Sample upload.txt'})\n",
        "#uploaded.SetContentString('Sample upload file content')\n",
        "#uploaded.Upload()\n",
        "#print('Uploaded file with ID {}'.format(uploaded.get('id')))\n",
        "\n",
        "# 3. Load a file by ID and print its contents.\n",
        "#downloaded = drive.CreateFile({'id': uploaded.get('id')})\n",
        "#print('Downloaded content \"{}\"'.format(downloaded.GetContentString()))"
      ],
      "execution_count": 0,
      "outputs": []
    },
    {
      "metadata": {
        "id": "zfK5jLRd-1Vr",
        "colab_type": "text"
      },
      "cell_type": "markdown",
      "source": [
        "![alt text](https://sv1.picz.in.th/images/2019/01/23/T7R7lW.png)"
      ]
    },
    {
      "metadata": {
        "id": "oBXxDX1fxc6f",
        "colab_type": "text"
      },
      "cell_type": "markdown",
      "source": [
        "# Find file ID from folder ID\n",
        "<pre>\n",
        "<code>\n",
        "file_list = drive.ListFile({'q': \" 'folder_id' in parents and trashed=false\"}).GetList()\n",
        "for file1 in file_list:\n",
        "  print('title: %s, id: %s' % (file1['title'], file1['id']))\n",
        "</code>\n",
        "</pre>\n",
        "\n",
        "##the output of this code is file id in the folder id."
      ]
    },
    {
      "metadata": {
        "id": "bBMelg797vCA",
        "colab_type": "code",
        "outputId": "73f02660-68f6-4ea2-cea4-7df92ef3fc11",
        "colab": {
          "base_uri": "https://localhost:8080/",
          "height": 272
        }
      },
      "cell_type": "code",
      "source": [
        "# if  folder_id = '1k9GJzwR-Eh4l2t-632VSGF5e7PhzwFiw'\n",
        "file_list = drive.ListFile({'q': \"'1k9GJzwR-Eh4l2t-632VSGF5e7PhzwFiw' in parents and trashed=false\"}).GetList()\n",
        "for file1 in file_list:\n",
        "  print('title: %s, id: %s' % (file1['title'], file1['id']))"
      ],
      "execution_count": 2,
      "outputs": [
        {
          "output_type": "stream",
          "text": [
            "title: testing_df_allprj_kaggle.csv, id: 13ZtVjUZJ_qs4fpLqDPSZhKwCc7pSKin_\n",
            "title: knn_submit_file.csv, id: 1QcrlPjw3qiN8U8nmUcAOY_PnKmIThNqs\n",
            "title: For_participants.zip, id: 1X-cacRIF30acXyKotSmDZu5qc8Gs84Wm\n",
            "title: userLog_201801_201802_for_participants.csv, id: 19sNUEOYeqU33EWBMRKq65YydpgLQoppZ\n",
            "title: developer_main.csv, id: 1jjOrl2Dcw7AhsKPr2W4qU4LptkAkVbsV\n",
            "title: LICENSE.txt, id: 1AmTd7XUHyphsZ88dX5CAeqk6Qgn1MNBU\n",
            "title: Hackathon data dictionary.xlsx, id: 1k0-ve6O4TUBOAAG01XWGORtBpIZ7zXcP\n",
            "title: project_description.csv, id: 1y5tTE8nE_0GGclmSzsGZY4mfb1kArD1f\n",
            "title: project_main.csv, id: 1iRz0edC_tjIk0Ge33fKLZYN1ciXxup-0\n",
            "title: unit_type_id.csv, id: 1G-n9Bno_zyFL17ggRoaZIQZ7O9ph0CmR\n",
            "title: district_province_id.csv, id: 1ymd-812YyEyGs5exJnrKdWFnP15D0yFp\n",
            "title: facility_id.csv, id: 1eHh1ewhDPfwVhUQV5mplOkTmshg_ohNG\n",
            "title: developer_brand.csv, id: 1z0diuRz1VVnephPtrHo0kMs6dDqLqdxj\n",
            "title: project_unit.csv, id: 1L0VA6sAY7SiYlIoA8W6fObHZ0uHOi9-J\n",
            "title: project_facility.csv, id: 13jUinwDsk9sYvoMOBaTMfTM11912CvdO\n"
          ],
          "name": "stdout"
        }
      ]
    },
    {
      "metadata": {
        "id": "Jw0AhXwoxoLY",
        "colab_type": "text"
      },
      "cell_type": "markdown",
      "source": [
        "#Example to download your file to colab\n",
        "##make sure you import pandas  (import pandas as pd)\n",
        "<pre>\n",
        "<code>\n",
        "   import pandas as pd\n",
        "   train_downloaded = drive.CreateFile({'id': FILE_ID})\n",
        "   train_downloaded.GetContentFile('CSV_FILE.csv')\n",
        "   raw_dev_br = pd.read_csv('CSV_FILE.csv')\n",
        "</code>\n",
        "</pre>\n",
        "\n"
      ]
    },
    {
      "metadata": {
        "id": "QFufCvqODOfy",
        "colab_type": "code",
        "colab": {
          "base_uri": "https://localhost:8080/",
          "height": 204
        },
        "outputId": "5d478399-f535-4a20-84e2-25691fd48882"
      },
      "cell_type": "code",
      "source": [
        "import pandas as pd\n",
        "\n",
        "developer_brand_downloaded = drive.CreateFile({'id': '1z0diuRz1VVnephPtrHo0kMs6dDqLqdxj'})\n",
        "developer_brand_downloaded.GetContentFile('developer_brand.csv')\n",
        "raw_dev_br = pd.read_csv('developer_brand.csv',delimiter= ';')\n",
        "raw_dev_br.head()"
      ],
      "execution_count": 3,
      "outputs": [
        {
          "output_type": "execute_result",
          "data": {
            "text/html": [
              "<div>\n",
              "<style scoped>\n",
              "    .dataframe tbody tr th:only-of-type {\n",
              "        vertical-align: middle;\n",
              "    }\n",
              "\n",
              "    .dataframe tbody tr th {\n",
              "        vertical-align: top;\n",
              "    }\n",
              "\n",
              "    .dataframe thead th {\n",
              "        text-align: right;\n",
              "    }\n",
              "</style>\n",
              "<table border=\"1\" class=\"dataframe\">\n",
              "  <thead>\n",
              "    <tr style=\"text-align: right;\">\n",
              "      <th></th>\n",
              "      <th>developer_id</th>\n",
              "      <th>brand_id</th>\n",
              "      <th>brand_name_th</th>\n",
              "      <th>brand_name_en</th>\n",
              "    </tr>\n",
              "  </thead>\n",
              "  <tbody>\n",
              "    <tr>\n",
              "      <th>0</th>\n",
              "      <td>128</td>\n",
              "      <td>379</td>\n",
              "      <td>เอสต้า บลิซ</td>\n",
              "      <td>NaN</td>\n",
              "    </tr>\n",
              "    <tr>\n",
              "      <th>1</th>\n",
              "      <td>176</td>\n",
              "      <td>1496</td>\n",
              "      <td>บริษัท ชัยยุทธ เรียล เอสเตท จำกัด</td>\n",
              "      <td>NaN</td>\n",
              "    </tr>\n",
              "    <tr>\n",
              "      <th>2</th>\n",
              "      <td>226</td>\n",
              "      <td>1819</td>\n",
              "      <td>อะพูล คอนโด แอท บางนา</td>\n",
              "      <td>NaN</td>\n",
              "    </tr>\n",
              "    <tr>\n",
              "      <th>3</th>\n",
              "      <td>143</td>\n",
              "      <td>1567</td>\n",
              "      <td>คาซ่า ฟรานซ์ เอแบค-บางนา</td>\n",
              "      <td>NaN</td>\n",
              "    </tr>\n",
              "    <tr>\n",
              "      <th>4</th>\n",
              "      <td>250</td>\n",
              "      <td>436</td>\n",
              "      <td>เลอ นีโอ</td>\n",
              "      <td>NaN</td>\n",
              "    </tr>\n",
              "  </tbody>\n",
              "</table>\n",
              "</div>"
            ],
            "text/plain": [
              "   developer_id  brand_id                      brand_name_th brand_name_en\n",
              "0           128       379                        เอสต้า บลิซ           NaN\n",
              "1           176      1496  บริษัท ชัยยุทธ เรียล เอสเตท จำกัด           NaN\n",
              "2           226      1819             อะพูล คอนโด แอท บางนา            NaN\n",
              "3           143      1567           คาซ่า ฟรานซ์ เอแบค-บางนา           NaN\n",
              "4           250       436                           เลอ นีโอ           NaN"
            ]
          },
          "metadata": {
            "tags": []
          },
          "execution_count": 3
        }
      ]
    }
  ]
}