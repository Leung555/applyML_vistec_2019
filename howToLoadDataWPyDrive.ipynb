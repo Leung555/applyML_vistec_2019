{
  "nbformat": 4,
  "nbformat_minor": 0,
  "metadata": {
    "colab": {
      "name": "howToLoadDataWPyDrive.ipynb",
      "version": "0.3.2",
      "provenance": [],
      "collapsed_sections": [],
      "include_colab_link": true
    },
    "kernelspec": {
      "display_name": "Python 3",
      "language": "python",
      "name": "python3"
    }
  },
  "cells": [
    {
      "cell_type": "markdown",
      "metadata": {
        "id": "view-in-github",
        "colab_type": "text"
      },
      "source": [
        "<a href=\"https://colab.research.google.com/github/Pataweepr/applyML_vistec_2019/blob/master/howToLoadDataWPyDrive.ipynb\" target=\"_parent\"><img src=\"https://colab.research.google.com/assets/colab-badge.svg\" alt=\"Open In Colab\"/></a>"
      ]
    },
    {
      "metadata": {
        "id": "xnC8CcKj-Wyh",
        "colab_type": "text"
      },
      "cell_type": "markdown",
      "source": [
        "## How to load data from  Google drive !!!\n",
        "\n",
        "1.find folder ID\n",
        "2.run this code\n"
      ]
    },
    {
      "metadata": {
        "id": "LyXd3PeVaqIQ",
        "colab_type": "code",
        "cellView": "both",
        "colab": {}
      },
      "cell_type": "code",
      "source": [
        "\n",
        "!pip install -U -q PyDrive\n",
        "\n",
        "from pydrive.auth import GoogleAuth\n",
        "from pydrive.drive import GoogleDrive\n",
        "from google.colab import auth\n",
        "from oauth2client.client import GoogleCredentials\n",
        "\n",
        "# 1. Authenticate and create the PyDrive client.\n",
        "auth.authenticate_user()\n",
        "gauth = GoogleAuth()\n",
        "gauth.credentials = GoogleCredentials.get_application_default()\n",
        "drive = GoogleDrive(gauth)\n",
        "\n",
        "# PyDrive reference:\n",
        "# https://gsuitedevs.github.io/PyDrive/docs/build/html/index.html\n",
        "\n",
        "# 2. Create & upload a file text file.\n",
        "#uploaded = drive.CreateFile({'title': 'Sample upload.txt'})\n",
        "#uploaded.SetContentString('Sample upload file content')\n",
        "#uploaded.Upload()\n",
        "#print('Uploaded file with ID {}'.format(uploaded.get('id')))\n",
        "\n",
        "# 3. Load a file by ID and print its contents.\n",
        "#downloaded = drive.CreateFile({'id': uploaded.get('id')})\n",
        "#print('Downloaded content \"{}\"'.format(downloaded.GetContentString()))"
      ],
      "execution_count": 0,
      "outputs": []
    },
    {
      "metadata": {
        "id": "zfK5jLRd-1Vr",
        "colab_type": "text"
      },
      "cell_type": "markdown",
      "source": [
        "![alt text](https://sv1.picz.in.th/images/2019/01/23/T7R7lW.png)"
      ]
    },
    {
      "metadata": {
        "id": "oBXxDX1fxc6f",
        "colab_type": "text"
      },
      "cell_type": "markdown",
      "source": [
        "# Find file ID from folder ID\n",
        "<pre>\n",
        "<code>\n",
        "file_list = drive.ListFile({'q': \" 'folder_id' in parents and trashed=false\"}).GetList()\n",
        "for file1 in file_list:\n",
        "  print('title: %s, id: %s' % (file1['title'], file1['id']))\n",
        "</code>\n",
        "</pre>\n",
        "\n",
        "##the output of this code is file id in the folder id."
      ]
    },
    {
      "metadata": {
        "id": "bBMelg797vCA",
        "colab_type": "code",
        "colab": {}
      },
      "cell_type": "code",
      "source": [
        "file_list = drive.ListFile({'q': \"'1k9GJzwR-Eh4l2t-632VSGF5e7PhzwFiw' in parents and trashed=false\"}).GetList()\n",
        "for file1 in file_list:\n",
        "  print('title: %s, id: %s' % (file1['title'], file1['id']))"
      ],
      "execution_count": 0,
      "outputs": []
    },
    {
      "metadata": {
        "id": "Go7lnAxN9XZP",
        "colab_type": "text"
      },
      "cell_type": "markdown",
      "source": [
        "<pre>\n",
        "title: userLog_201801_201802_for_participants.csv, id: 19sNUEOYeqU33EWBMRKq65YydpgLQoppZ\n",
        "title: project_facility, id: 1x1YF-rSwDOJo0azLKOHaBbQJLVK2lm5gd5F6VTUO5TA\n",
        "title: HW2_vistec.ipynb, id: 1x6UJEIiHtVpWzx7nJk9QaC9PNHimgHs5\n",
        "title: developer_main.csv, id: 1jjOrl2Dcw7AhsKPr2W4qU4LptkAkVbsV\n",
        "title: .ipynb_checkpoints, id: 1i--lYapijzU_OXizKPAL_7NIj_3aIOGu\n",
        "title: LICENSE.txt, id: 1AmTd7XUHyphsZ88dX5CAeqk6Qgn1MNBU\n",
        "title: Hackathon data dictionary.xlsx, id: 1k0-ve6O4TUBOAAG01XWGORtBpIZ7zXcP\n",
        "title: project_description.csv, id: 1y5tTE8nE_0GGclmSzsGZY4mfb1kArD1f\n",
        "title: project_main.csv, id: 1iRz0edC_tjIk0Ge33fKLZYN1ciXxup-0\n",
        "title: unit_type_id.csv, id: 1G-n9Bno_zyFL17ggRoaZIQZ7O9ph0CmR\n",
        "title: district_province_id.csv, id: 1ymd-812YyEyGs5exJnrKdWFnP15D0yFp\n",
        "title: facility_id.csv, id: 1eHh1ewhDPfwVhUQV5mplOkTmshg_ohNG\n",
        "title: developer_brand.csv, id: 1z0diuRz1VVnephPtrHo0kMs6dDqLqdxj\n",
        "title: project_unit.csv, id: 1L0VA6sAY7SiYlIoA8W6fObHZ0uHOi9-J\n",
        "title: project_facility.csv, id: 13jUinwDsk9sYvoMOBaTMfTM11912CvdO\n",
        "</pre>"
      ]
    },
    {
      "metadata": {
        "id": "Jw0AhXwoxoLY",
        "colab_type": "text"
      },
      "cell_type": "markdown",
      "source": [
        "#Example to download your file to colab\n",
        "##make sure you import pandas  (import pandas as pd)\n",
        "<pre>\n",
        "<code>\n",
        "   import pandas as pd\n",
        "   train_downloaded = drive.CreateFile({'id': FILE_ID})\n",
        "   train_downloaded.GetContentFile('CSV_FILE.csv')\n",
        "   raw_dev_br = pd.read_csv('CSV_FILE.csv')\n",
        "</code>\n",
        "</pre>\n",
        "\n"
      ]
    },
    {
      "metadata": {
        "id": "QFufCvqODOfy",
        "colab_type": "code",
        "colab": {}
      },
      "cell_type": "code",
      "source": [
        "import pandas as pd\n",
        "\n",
        "developer_brand_downloaded = drive.CreateFile({'id': '1z0diuRz1VVnephPtrHo0kMs6dDqLqdxj'})\n",
        "developer_brand_downloaded.GetContentFile('developer_brand.csv')\n",
        "raw_dev_br = pd.read_csv('developer_brand.csv')\n",
        "name_dev_br = raw_dev_br.columns.values[0].split(\";\")\n",
        "print(name_dev_br)\n",
        "print(raw_dev_br.columns.values[0])\n",
        "raw_dev_br = raw_dev_br[raw_dev_br.columns.values[0]].str.split(\";\",expand = True) \n",
        "raw_dev_br.columns = name_dev_br\n",
        "raw_dev_br.head()"
      ],
      "execution_count": 0,
      "outputs": []
    },
    {
      "metadata": {
        "id": "Cfqa8GtkrQfw",
        "colab_type": "code",
        "colab": {}
      },
      "cell_type": "code",
      "source": [
        ""
      ],
      "execution_count": 0,
      "outputs": []
    },
    {
      "metadata": {
        "id": "kP3EKJTjpD2f",
        "colab_type": "code",
        "colab": {}
      },
      "cell_type": "code",
      "source": [
        ""
      ],
      "execution_count": 0,
      "outputs": []
    },
    {
      "metadata": {
        "id": "cK9xm18GCWrc",
        "colab_type": "text"
      },
      "cell_type": "markdown",
      "source": [
        ""
      ]
    },
    {
      "metadata": {
        "id": "ksRpe8e2ajVa",
        "colab_type": "code",
        "colab": {}
      },
      "cell_type": "code",
      "source": [
        ""
      ],
      "execution_count": 0,
      "outputs": []
    },
    {
      "metadata": {
        "id": "aElvwDeBajVh",
        "colab_type": "code",
        "colab": {}
      },
      "cell_type": "code",
      "source": [
        ""
      ],
      "execution_count": 0,
      "outputs": []
    },
    {
      "metadata": {
        "id": "joYwKuuSajVk",
        "colab_type": "code",
        "colab": {}
      },
      "cell_type": "code",
      "source": [
        ""
      ],
      "execution_count": 0,
      "outputs": []
    },
    {
      "metadata": {
        "id": "Rt3NMDvHajVo",
        "colab_type": "code",
        "colab": {}
      },
      "cell_type": "code",
      "source": [
        ""
      ],
      "execution_count": 0,
      "outputs": []
    },
    {
      "metadata": {
        "id": "9KjXjl9kajVs",
        "colab_type": "code",
        "colab": {}
      },
      "cell_type": "code",
      "source": [
        ""
      ],
      "execution_count": 0,
      "outputs": []
    },
    {
      "metadata": {
        "id": "vF-PqbwXajVx",
        "colab_type": "code",
        "colab": {}
      },
      "cell_type": "code",
      "source": [
        ""
      ],
      "execution_count": 0,
      "outputs": []
    },
    {
      "metadata": {
        "id": "jKOVoDURajV1",
        "colab_type": "code",
        "colab": {}
      },
      "cell_type": "code",
      "source": [
        ""
      ],
      "execution_count": 0,
      "outputs": []
    },
    {
      "metadata": {
        "id": "6b5gVXpEajV7",
        "colab_type": "code",
        "colab": {}
      },
      "cell_type": "code",
      "source": [
        ""
      ],
      "execution_count": 0,
      "outputs": []
    },
    {
      "metadata": {
        "id": "GeuFlsqWajV_",
        "colab_type": "code",
        "colab": {}
      },
      "cell_type": "code",
      "source": [
        ""
      ],
      "execution_count": 0,
      "outputs": []
    },
    {
      "metadata": {
        "id": "gKI14GsZajWE",
        "colab_type": "code",
        "colab": {}
      },
      "cell_type": "code",
      "source": [
        ""
      ],
      "execution_count": 0,
      "outputs": []
    },
    {
      "metadata": {
        "id": "qKZCdMrNajWI",
        "colab_type": "code",
        "colab": {}
      },
      "cell_type": "code",
      "source": [
        ""
      ],
      "execution_count": 0,
      "outputs": []
    },
    {
      "metadata": {
        "id": "r3cwUim7ajWN",
        "colab_type": "code",
        "colab": {}
      },
      "cell_type": "code",
      "source": [
        ""
      ],
      "execution_count": 0,
      "outputs": []
    },
    {
      "metadata": {
        "id": "Ub0-HjTJajWR",
        "colab_type": "code",
        "colab": {}
      },
      "cell_type": "code",
      "source": [
        ""
      ],
      "execution_count": 0,
      "outputs": []
    },
    {
      "metadata": {
        "id": "T3k-gozCajWW",
        "colab_type": "code",
        "colab": {}
      },
      "cell_type": "code",
      "source": [
        ""
      ],
      "execution_count": 0,
      "outputs": []
    },
    {
      "metadata": {
        "id": "oSmKZXpHajWe",
        "colab_type": "code",
        "colab": {}
      },
      "cell_type": "code",
      "source": [
        ""
      ],
      "execution_count": 0,
      "outputs": []
    },
    {
      "metadata": {
        "id": "Rj9ZZBPlajWi",
        "colab_type": "code",
        "colab": {}
      },
      "cell_type": "code",
      "source": [
        ""
      ],
      "execution_count": 0,
      "outputs": []
    },
    {
      "metadata": {
        "id": "MsCONO3qajWr",
        "colab_type": "code",
        "colab": {}
      },
      "cell_type": "code",
      "source": [
        ""
      ],
      "execution_count": 0,
      "outputs": []
    },
    {
      "metadata": {
        "id": "KPgOJ1x5ajWw",
        "colab_type": "code",
        "colab": {}
      },
      "cell_type": "code",
      "source": [
        ""
      ],
      "execution_count": 0,
      "outputs": []
    },
    {
      "metadata": {
        "id": "uM4ni1YbajW1",
        "colab_type": "code",
        "colab": {}
      },
      "cell_type": "code",
      "source": [
        ""
      ],
      "execution_count": 0,
      "outputs": []
    }
  ]
}