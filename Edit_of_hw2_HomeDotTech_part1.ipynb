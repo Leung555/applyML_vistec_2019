{
  "nbformat": 4,
  "nbformat_minor": 0,
  "metadata": {
    "colab": {
      "name": "Edit of hw2_HomeDotTech_part1.ipynb",
      "version": "0.3.2",
      "provenance": [],
      "collapsed_sections": [],
      "include_colab_link": true
    },
    "kernelspec": {
      "name": "python3",
      "display_name": "Python 3"
    },
    "accelerator": "GPU"
  },
  "cells": [
    {
      "cell_type": "markdown",
      "metadata": {
        "id": "view-in-github",
        "colab_type": "text"
      },
      "source": [
        "<a href=\"https://colab.research.google.com/github/Pataweepr/applyML_vistec_2019/blob/master/Edit_of_hw2_HomeDotTech_part1.ipynb\" target=\"_parent\"><img src=\"https://colab.research.google.com/assets/colab-badge.svg\" alt=\"Open In Colab\"/></a>"
      ]
    },
    {
      "metadata": {
        "id": "ByDiTugkD3PF",
        "colab_type": "code",
        "colab": {}
      },
      "cell_type": "code",
      "source": [
        "import numpy as np\n",
        "import pandas as pd\n",
        "import matplotlib.pyplot as plt\n",
        "from sklearn.cluster import KMeans\n",
        "from sklearn.neighbors import NearestNeighbors\n",
        "from scipy.stats import mode\n",
        "from sklearn import preprocessing"
      ],
      "execution_count": 0,
      "outputs": []
    },
    {
      "metadata": {
        "id": "OcrnkyvogePf",
        "colab_type": "text"
      },
      "cell_type": "markdown",
      "source": [
        "# HW2: Thailand Real Estate Recommendation using k-NN\n",
        "\n",
        "The data used here is part of the [Home Hackathon 2018](https://www.homedottech.com/homehackathon-2018/) by courtesy of HomeDotTech. \n",
        "\n",
        "[Home.co.th](https://www.home.co.th/) is a website that has the most comprehensive data about real estate in Thailand. It is one of the leading website in Thailand for real estates and has millions of page views per month.\n",
        "\n",
        "The data we will be using are page view logs from the website, and the properties of housings and condominiums around Thailand.\n",
        "\n",
        "We would like to use this data to create simple recommendation systems for real estate.\n",
        "\n",
        "First to get the data go to this [link](https://drive.google.com/file/d/1X-cacRIF30acXyKotSmDZu5qc8Gs84Wm/view?usp=sharing) and click **add to Drive**\n",
        "\n",
        "We will use this data by linking it with our Google Colab notebook, by using the command below, click the link, and follow the steps to let Google Colab link to your Google Drive by copying the authorization code and pasting it into the space provided."
      ]
    },
    {
      "metadata": {
        "id": "cJJwrN7DIZgZ",
        "colab_type": "code",
        "outputId": "94924d4e-e9d8-433a-915c-756ee9c09c77",
        "colab": {
          "base_uri": "https://localhost:8080/",
          "height": 34
        }
      },
      "cell_type": "code",
      "source": [
        "from google.colab import drive\n",
        "drive.mount('/content/gdrive/')"
      ],
      "execution_count": 2,
      "outputs": [
        {
          "output_type": "stream",
          "text": [
            "Drive already mounted at /content/gdrive/; to attempt to forcibly remount, call drive.mount(\"/content/gdrive/\", force_remount=True).\n"
          ],
          "name": "stdout"
        }
      ]
    },
    {
      "metadata": {
        "id": "3TWLuYA2PdSb",
        "colab_type": "text"
      },
      "cell_type": "markdown",
      "source": [
        "Now that we have mounted the drive. We can access it by simple linux commands. To use linux commands in Colab, we can use the prefix \"!\" in front of the command.\n",
        "\n",
        "The command below unzips the *For_participants.zip* file and list the current directory on the machine that host our Colab."
      ]
    },
    {
      "metadata": {
        "id": "3wLO4PJCIaKs",
        "colab_type": "code",
        "outputId": "4e5b4d0c-5101-4041-86d5-f1b144823055",
        "colab": {
          "base_uri": "https://localhost:8080/",
          "height": 172
        }
      },
      "cell_type": "code",
      "source": [
        "!unzip '/content/gdrive/My Drive/For_participants.zip'\n",
        "!ls"
      ],
      "execution_count": 3,
      "outputs": [
        {
          "output_type": "stream",
          "text": [
            "Archive:  /content/gdrive/My Drive/For_participants.zip\n",
            "replace project_facility.csv? [y]es, [n]o, [A]ll, [N]one, [r]ename: A\n",
            "  inflating: project_facility.csv    \n",
            "  inflating: project_main.csv        \n",
            "  inflating: userLog_201801_201802_for_participants.csv  \n",
            "adc.json\t\t\t   project_main.csv\n",
            "clean-phone-data-for-students.csv  readCsvFile.csv\n",
            "gdrive\t\t\t\t   sample_data\n",
            "project_facility.csv\t\t   userLog_201801_201802_for_participants.csv\n"
          ],
          "name": "stdout"
        }
      ]
    },
    {
      "metadata": {
        "id": "tppcYAf4P4tn",
        "colab_type": "text"
      },
      "cell_type": "markdown",
      "source": [
        "You should notice three files\n",
        "\n",
        "\n",
        "1.   **project_main.csv** explains each property. The details such as location (latitude, longtitude), price, housing type, build date, etc. are listed here.\n",
        "2.   **project_facility.csv** explains the facilities in each property. The format for each line is the id of the project follow by the type of the facility (another kind of id). The id for facilities are \n",
        "\n",
        "1: swimming pool\n",
        "\n",
        "2: club house\n",
        "\n",
        "3: park\n",
        "\n",
        "4: fitness\n",
        "\n",
        "5: security\n",
        "\n",
        "6: playground\n",
        "\n",
        "3.   **userLog_201801_201802_for_participants.csv** shows the user page views. Each view entry has a user id, the project visited, time, etc. The data is from January 2018 to February 22nd.\n",
        "\n",
        "You can also read the data dictionary for more information [here](https://drive.google.com/file/d/1uN8lRjoJQ3f-Ui69V5wwWGw13elvvaXq/view?usp=sharing)"
      ]
    },
    {
      "metadata": {
        "id": "MkX72JUarm5h",
        "colab_type": "text"
      },
      "cell_type": "markdown",
      "source": [
        "The files are in a csv format. **However, the delimiter used is a ';' instead of a ','**.  A sample function for reading the provided files are shown below."
      ]
    },
    {
      "metadata": {
        "id": "QFufCvqODOfy",
        "colab_type": "code",
        "colab": {}
      },
      "cell_type": "code",
      "source": [
        "def readDataFromDrive(file_name):\n",
        "  raw_data = pd.read_csv(file_name,delimiter= ';')\n",
        "  return raw_data;"
      ],
      "execution_count": 0,
      "outputs": []
    },
    {
      "metadata": {
        "id": "aBu3QDsfcDMG",
        "colab_type": "text"
      },
      "cell_type": "markdown",
      "source": [
        "# Data exploration and cleaning"
      ]
    },
    {
      "metadata": {
        "id": "roD4K39il3aP",
        "colab_type": "text"
      },
      "cell_type": "markdown",
      "source": [
        "## TODO#1: Explore project_main.csv\n",
        "\n",
        "Read *project_main.csv* and explore the data using pandas.head(), pandas.summary()\n",
        "\n",
        "What columns do you think are redundant?\n",
        "\n",
        "**Ans:**\n",
        "\n",
        "Drop those columns.\n",
        "\n",
        "We will use only the projects in Bangkok (province_id = 10). Remove the projects outside of Bangkok.\n",
        "\n",
        "Also, convert possible numbers and text to numbers using *.infer_objects()*"
      ]
    },
    {
      "metadata": {
        "id": "8Wc1TrjKxahD",
        "colab_type": "code",
        "outputId": "6888976a-d663-4841-bfa9-3bd77cb4308d",
        "colab": {
          "base_uri": "https://localhost:8080/",
          "height": 920
        }
      },
      "cell_type": "code",
      "source": [
        "################################################################################\n",
        "#                            WRITE YOUR CODE BELOW                             #\n",
        "################################################################################\n",
        "project_main = readDataFromDrive('project_main.csv')\n",
        "project_main = project_main.loc[project_main['province_id'] == 10]\n",
        "print(project_main.shape)\n",
        "project_main = project_main.drop(columns=['project_land_size_ngan', 'project_land_size_wa'])\n",
        "project_main.loc[project_main[\"project_status\"] == \"A\", \"project_status\"] = 1\n",
        "project_main.loc[project_main[\"project_status\"] == \"U\", \"project_status\"] = 0\n",
        "project_main = project_main.infer_objects()\n",
        "print(project_main.head())\n",
        "project_main.describe()"
      ],
      "execution_count": 5,
      "outputs": [
        {
          "output_type": "stream",
          "text": [
            "(1775, 18)\n",
            "    project_id  developer_id  brand_id                    project_name_th  \\\n",
            "0           44        140786       0.0                       พาร์ควิลล์ 3   \n",
            "1           24          1032       0.0                  สัมมากร นิมิตใหม่   \n",
            "7          208         13323       NaN    ลิฟวิ่งนารา รามคำแหง-สุวรรณภูมิ   \n",
            "8          228          6772       0.0  เค.ซี.รามอินทรา 5 (พระยาสุเรนทร์)   \n",
            "11         982         12136     979.0                อนาวิลล์ สุวรรณภูมิ   \n",
            "\n",
            "                          project_name_en  district_id  province_id  \\\n",
            "0                             Parkville 3       1046.0           10   \n",
            "1                      Sammakorn Nimitmai       1046.0           10   \n",
            "7   LIVING NARA RAMKHAMHAENG-SUVARNABHUMI       1011.0           10   \n",
            "8                         K.C. RAMINTRA 5       1046.0           10   \n",
            "11                  Anaville Suvarnabhumi       1011.0           10   \n",
            "\n",
            "          lat         lon  project_land_size_rai  total_unit  \\\n",
            "0   13.891719  100.722099                     54         NaN   \n",
            "1   13.876590  100.731927                    154         NaN   \n",
            "7   13.769810  100.722040                     44       201.0   \n",
            "8   13.862623  100.695135                     34         NaN   \n",
            "11  13.763348  100.803434                    131         NaN   \n",
            "\n",
            "    percent_car_parking  starting_price  highest_price project_status  \\\n",
            "0                   NaN       3500000.0      3862000.0              1   \n",
            "1                   NaN       4590000.0            NaN              0   \n",
            "7                   NaN       3500000.0      7600000.0              0   \n",
            "8                   NaN       1810000.0            NaN              0   \n",
            "11                  NaN       4300000.0            NaN              1   \n",
            "\n",
            "                      created_at  \n",
            "0   2011-01-14T18:40:12.117+0700  \n",
            "1   2011-02-24T21:43:59.297+0700  \n",
            "7   2010-07-02T07:00:00.000+0700  \n",
            "8   2010-12-16T18:51:42.173+0700  \n",
            "11  2011-01-17T22:55:47.317+0700  \n"
          ],
          "name": "stdout"
        },
        {
          "output_type": "execute_result",
          "data": {
            "text/html": [
              "<div>\n",
              "<style scoped>\n",
              "    .dataframe tbody tr th:only-of-type {\n",
              "        vertical-align: middle;\n",
              "    }\n",
              "\n",
              "    .dataframe tbody tr th {\n",
              "        vertical-align: top;\n",
              "    }\n",
              "\n",
              "    .dataframe thead th {\n",
              "        text-align: right;\n",
              "    }\n",
              "</style>\n",
              "<table border=\"1\" class=\"dataframe\">\n",
              "  <thead>\n",
              "    <tr style=\"text-align: right;\">\n",
              "      <th></th>\n",
              "      <th>project_id</th>\n",
              "      <th>developer_id</th>\n",
              "      <th>brand_id</th>\n",
              "      <th>district_id</th>\n",
              "      <th>province_id</th>\n",
              "      <th>lat</th>\n",
              "      <th>lon</th>\n",
              "      <th>project_land_size_rai</th>\n",
              "      <th>total_unit</th>\n",
              "      <th>percent_car_parking</th>\n",
              "      <th>starting_price</th>\n",
              "      <th>highest_price</th>\n",
              "    </tr>\n",
              "  </thead>\n",
              "  <tbody>\n",
              "    <tr>\n",
              "      <th>count</th>\n",
              "      <td>1775.000000</td>\n",
              "      <td>1775.000000</td>\n",
              "      <td>1634.000000</td>\n",
              "      <td>1775.000000</td>\n",
              "      <td>1775.0</td>\n",
              "      <td>1775.000000</td>\n",
              "      <td>1775.000000</td>\n",
              "      <td>1775.000000</td>\n",
              "      <td>1410.000000</td>\n",
              "      <td>409.00000</td>\n",
              "      <td>1.747000e+03</td>\n",
              "      <td>3.560000e+02</td>\n",
              "    </tr>\n",
              "    <tr>\n",
              "      <th>mean</th>\n",
              "      <td>5250.101408</td>\n",
              "      <td>30920.017465</td>\n",
              "      <td>549.782130</td>\n",
              "      <td>1027.505352</td>\n",
              "      <td>10.0</td>\n",
              "      <td>13.763191</td>\n",
              "      <td>100.585419</td>\n",
              "      <td>14.002817</td>\n",
              "      <td>333.246099</td>\n",
              "      <td>53.07176</td>\n",
              "      <td>6.218003e+06</td>\n",
              "      <td>2.328965e+07</td>\n",
              "    </tr>\n",
              "    <tr>\n",
              "      <th>std</th>\n",
              "      <td>2430.836876</td>\n",
              "      <td>48471.262302</td>\n",
              "      <td>642.731544</td>\n",
              "      <td>13.689002</td>\n",
              "      <td>0.0</td>\n",
              "      <td>0.071855</td>\n",
              "      <td>0.094610</td>\n",
              "      <td>24.931914</td>\n",
              "      <td>378.833604</td>\n",
              "      <td>37.74896</td>\n",
              "      <td>8.804919e+06</td>\n",
              "      <td>4.808880e+07</td>\n",
              "    </tr>\n",
              "    <tr>\n",
              "      <th>min</th>\n",
              "      <td>24.000000</td>\n",
              "      <td>128.000000</td>\n",
              "      <td>0.000000</td>\n",
              "      <td>1001.000000</td>\n",
              "      <td>10.0</td>\n",
              "      <td>13.549172</td>\n",
              "      <td>100.331359</td>\n",
              "      <td>0.000000</td>\n",
              "      <td>3.000000</td>\n",
              "      <td>0.00000</td>\n",
              "      <td>6.300000e+05</td>\n",
              "      <td>7.800000e+02</td>\n",
              "    </tr>\n",
              "    <tr>\n",
              "      <th>25%</th>\n",
              "      <td>3282.500000</td>\n",
              "      <td>4966.000000</td>\n",
              "      <td>0.000000</td>\n",
              "      <td>1017.000000</td>\n",
              "      <td>10.0</td>\n",
              "      <td>13.714096</td>\n",
              "      <td>100.533427</td>\n",
              "      <td>1.000000</td>\n",
              "      <td>87.250000</td>\n",
              "      <td>38.00000</td>\n",
              "      <td>2.245000e+06</td>\n",
              "      <td>5.197500e+06</td>\n",
              "    </tr>\n",
              "    <tr>\n",
              "      <th>50%</th>\n",
              "      <td>4850.000000</td>\n",
              "      <td>11066.000000</td>\n",
              "      <td>255.000000</td>\n",
              "      <td>1030.000000</td>\n",
              "      <td>10.0</td>\n",
              "      <td>13.749914</td>\n",
              "      <td>100.585228</td>\n",
              "      <td>4.000000</td>\n",
              "      <td>194.500000</td>\n",
              "      <td>48.00000</td>\n",
              "      <td>3.690000e+06</td>\n",
              "      <td>9.000000e+06</td>\n",
              "    </tr>\n",
              "    <tr>\n",
              "      <th>75%</th>\n",
              "      <td>7939.500000</td>\n",
              "      <td>17114.500000</td>\n",
              "      <td>1000.750000</td>\n",
              "      <td>1039.000000</td>\n",
              "      <td>10.0</td>\n",
              "      <td>13.812963</td>\n",
              "      <td>100.647869</td>\n",
              "      <td>16.000000</td>\n",
              "      <td>433.000000</td>\n",
              "      <td>70.00000</td>\n",
              "      <td>6.005000e+06</td>\n",
              "      <td>2.000000e+07</td>\n",
              "    </tr>\n",
              "    <tr>\n",
              "      <th>max</th>\n",
              "      <td>9536.000000</td>\n",
              "      <td>141036.000000</td>\n",
              "      <td>2280.000000</td>\n",
              "      <td>1050.000000</td>\n",
              "      <td>10.0</td>\n",
              "      <td>13.950830</td>\n",
              "      <td>100.888743</td>\n",
              "      <td>279.000000</td>\n",
              "      <td>2700.000000</td>\n",
              "      <td>236.00000</td>\n",
              "      <td>1.240000e+08</td>\n",
              "      <td>3.670000e+08</td>\n",
              "    </tr>\n",
              "  </tbody>\n",
              "</table>\n",
              "</div>"
            ],
            "text/plain": [
              "        project_id   developer_id     brand_id  district_id  province_id  \\\n",
              "count  1775.000000    1775.000000  1634.000000  1775.000000       1775.0   \n",
              "mean   5250.101408   30920.017465   549.782130  1027.505352         10.0   \n",
              "std    2430.836876   48471.262302   642.731544    13.689002          0.0   \n",
              "min      24.000000     128.000000     0.000000  1001.000000         10.0   \n",
              "25%    3282.500000    4966.000000     0.000000  1017.000000         10.0   \n",
              "50%    4850.000000   11066.000000   255.000000  1030.000000         10.0   \n",
              "75%    7939.500000   17114.500000  1000.750000  1039.000000         10.0   \n",
              "max    9536.000000  141036.000000  2280.000000  1050.000000         10.0   \n",
              "\n",
              "               lat          lon  project_land_size_rai   total_unit  \\\n",
              "count  1775.000000  1775.000000            1775.000000  1410.000000   \n",
              "mean     13.763191   100.585419              14.002817   333.246099   \n",
              "std       0.071855     0.094610              24.931914   378.833604   \n",
              "min      13.549172   100.331359               0.000000     3.000000   \n",
              "25%      13.714096   100.533427               1.000000    87.250000   \n",
              "50%      13.749914   100.585228               4.000000   194.500000   \n",
              "75%      13.812963   100.647869              16.000000   433.000000   \n",
              "max      13.950830   100.888743             279.000000  2700.000000   \n",
              "\n",
              "       percent_car_parking  starting_price  highest_price  \n",
              "count            409.00000    1.747000e+03   3.560000e+02  \n",
              "mean              53.07176    6.218003e+06   2.328965e+07  \n",
              "std               37.74896    8.804919e+06   4.808880e+07  \n",
              "min                0.00000    6.300000e+05   7.800000e+02  \n",
              "25%               38.00000    2.245000e+06   5.197500e+06  \n",
              "50%               48.00000    3.690000e+06   9.000000e+06  \n",
              "75%               70.00000    6.005000e+06   2.000000e+07  \n",
              "max              236.00000    1.240000e+08   3.670000e+08  "
            ]
          },
          "metadata": {
            "tags": []
          },
          "execution_count": 5
        }
      ]
    },
    {
      "metadata": {
        "id": "K-94Cjlcy4DS",
        "colab_type": "text"
      },
      "cell_type": "markdown",
      "source": [
        "<details>\n",
        "    <summary>SOLUTION HERE!</summary>\n",
        "      <pre>\n",
        "        <code>\n",
        "project_main = readDataFromDrive('project_main.csv')\n",
        "project_main = project_main.loc[project_main['province_id'] == 10]\n",
        "print(project_main.shape)\n",
        "project_main = project_main.drop(columns=['project_land_size_ngan', 'project_land_size_wa'])\n",
        "project_main.loc[project_main[\"project_status\"] == \"A\", \"project_status\"] = 1\n",
        "project_main.loc[project_main[\"project_status\"] == \"U\", \"project_status\"] = 0\n",
        "project_main = project_main.infer_objects()\n",
        "print(project_main.head())\n",
        "project_main.describe()\n",
        "        </code>\n",
        "      </pre>\n",
        "</details>\n",
        "\n"
      ]
    },
    {
      "metadata": {
        "id": "Eev1SbQYl_Ae",
        "colab_type": "text"
      },
      "cell_type": "markdown",
      "source": [
        "## TODO#2: NaN removal\n",
        "\n",
        "Note how there are many missing values in the data. Remove the projects with no location information (no latitude or longtitude info). Fill the missing starting prices with the mode of the starting price."
      ]
    },
    {
      "metadata": {
        "id": "2N83pVt7xl2x",
        "colab_type": "code",
        "colab": {}
      },
      "cell_type": "code",
      "source": [
        "################################################################################\n",
        "#                            WRITE YOUR CODE BELOW                             #\n",
        "################################################################################\n",
        "project_main = project_main.dropna(subset=['lat','lon'])\n",
        "project_main[\"starting_price\"] = project_main[\"starting_price\"].fillna(project_main[\"starting_price\"].mode().iloc[0])"
      ],
      "execution_count": 0,
      "outputs": []
    },
    {
      "metadata": {
        "colab_type": "text",
        "id": "NXa9VVrr76PH"
      },
      "cell_type": "markdown",
      "source": [
        "<details>\n",
        "    <summary>SOLUTION HERE!</summary>\n",
        "      <pre>\n",
        "        <code>\n",
        "project_main = project_main.dropna(subset=['lat','lon'])\n",
        "project_main[\"starting_price\"] = project_main[\"starting_price\"].fillna(project_main[\"starting_price\"].mode().iloc[0])\n",
        "        </code>\n",
        "      </pre>\n",
        "</details>"
      ]
    },
    {
      "metadata": {
        "id": "AF89hUwyzNDV",
        "colab_type": "text"
      },
      "cell_type": "markdown",
      "source": [
        "## TODO#3: Explore Project_facility.csv\n",
        "\n",
        "Check out the file *project_facility.csv*. If we want to describe each project using these information, do you think it is easy to use the information provided as is? Why?\n",
        "\n",
        "**ans:**\n"
      ]
    },
    {
      "metadata": {
        "id": "Kjw1O2CVxcmi",
        "colab_type": "code",
        "colab": {}
      },
      "cell_type": "code",
      "source": [
        "################################################################################\n",
        "#                            WRITE YOUR CODE BELOW                             #\n",
        "################################################################################\n",
        "project_facility = readDataFromDrive('project_facility.csv')"
      ],
      "execution_count": 0,
      "outputs": []
    },
    {
      "metadata": {
        "id": "hNhYR25VQm-8",
        "colab_type": "text"
      },
      "cell_type": "markdown",
      "source": [
        "## TODO#4: Change the data into a useable format\n",
        "Change the data format of project_facility into a table that describe whether a facility has a certain type of facility in binary format (yes/no). Hint: you can use [pd.crosstab](https://pandas.pydata.org/pandas-docs/version/0.23.4/generated/pandas.crosstab.html) to do this."
      ]
    },
    {
      "metadata": {
        "id": "5p4wfZdGxmco",
        "colab_type": "code",
        "outputId": "3fecb135-d156-4707-877a-25e2eb73677c",
        "colab": {
          "base_uri": "https://localhost:8080/",
          "height": 303
        }
      },
      "cell_type": "code",
      "source": [
        "################################################################################\n",
        "#                            WRITE YOUR CODE BELOW                             #\n",
        "################################################################################\n",
        "project_facility_table = pd.crosstab(project_facility['project_id'], project_facility['facility_id'], rownames=['project_id'], colnames=['facility_id'])\n",
        "print(project_facility_table.index)\n",
        "project_facility_table.head()"
      ],
      "execution_count": 8,
      "outputs": [
        {
          "output_type": "stream",
          "text": [
            "Int64Index([   4,   24,   29,   41,   44,   45,   73,   95,  115,  133,\n",
            "            ...\n",
            "            9522, 9524, 9525, 9526, 9527, 9531, 9532, 9534, 9536, 9541],\n",
            "           dtype='int64', name='project_id', length=5039)\n"
          ],
          "name": "stdout"
        },
        {
          "output_type": "execute_result",
          "data": {
            "text/html": [
              "<div>\n",
              "<style scoped>\n",
              "    .dataframe tbody tr th:only-of-type {\n",
              "        vertical-align: middle;\n",
              "    }\n",
              "\n",
              "    .dataframe tbody tr th {\n",
              "        vertical-align: top;\n",
              "    }\n",
              "\n",
              "    .dataframe thead th {\n",
              "        text-align: right;\n",
              "    }\n",
              "</style>\n",
              "<table border=\"1\" class=\"dataframe\">\n",
              "  <thead>\n",
              "    <tr style=\"text-align: right;\">\n",
              "      <th>facility_id</th>\n",
              "      <th>1</th>\n",
              "      <th>2</th>\n",
              "      <th>3</th>\n",
              "      <th>4</th>\n",
              "      <th>5</th>\n",
              "      <th>6</th>\n",
              "    </tr>\n",
              "    <tr>\n",
              "      <th>project_id</th>\n",
              "      <th></th>\n",
              "      <th></th>\n",
              "      <th></th>\n",
              "      <th></th>\n",
              "      <th></th>\n",
              "      <th></th>\n",
              "    </tr>\n",
              "  </thead>\n",
              "  <tbody>\n",
              "    <tr>\n",
              "      <th>4</th>\n",
              "      <td>1</td>\n",
              "      <td>0</td>\n",
              "      <td>1</td>\n",
              "      <td>1</td>\n",
              "      <td>1</td>\n",
              "      <td>0</td>\n",
              "    </tr>\n",
              "    <tr>\n",
              "      <th>24</th>\n",
              "      <td>0</td>\n",
              "      <td>0</td>\n",
              "      <td>1</td>\n",
              "      <td>1</td>\n",
              "      <td>0</td>\n",
              "      <td>1</td>\n",
              "    </tr>\n",
              "    <tr>\n",
              "      <th>29</th>\n",
              "      <td>0</td>\n",
              "      <td>0</td>\n",
              "      <td>0</td>\n",
              "      <td>0</td>\n",
              "      <td>1</td>\n",
              "      <td>0</td>\n",
              "    </tr>\n",
              "    <tr>\n",
              "      <th>41</th>\n",
              "      <td>1</td>\n",
              "      <td>1</td>\n",
              "      <td>0</td>\n",
              "      <td>1</td>\n",
              "      <td>0</td>\n",
              "      <td>1</td>\n",
              "    </tr>\n",
              "    <tr>\n",
              "      <th>44</th>\n",
              "      <td>1</td>\n",
              "      <td>0</td>\n",
              "      <td>1</td>\n",
              "      <td>0</td>\n",
              "      <td>0</td>\n",
              "      <td>0</td>\n",
              "    </tr>\n",
              "  </tbody>\n",
              "</table>\n",
              "</div>"
            ],
            "text/plain": [
              "facility_id  1  2  3  4  5  6\n",
              "project_id                   \n",
              "4            1  0  1  1  1  0\n",
              "24           0  0  1  1  0  1\n",
              "29           0  0  0  0  1  0\n",
              "41           1  1  0  1  0  1\n",
              "44           1  0  1  0  0  0"
            ]
          },
          "metadata": {
            "tags": []
          },
          "execution_count": 8
        }
      ]
    },
    {
      "metadata": {
        "colab_type": "text",
        "id": "Qf9aFs3k8fwX"
      },
      "cell_type": "markdown",
      "source": [
        "<details>\n",
        "    <summary>SOLUTION HERE!</summary>\n",
        "      <pre>\n",
        "        <code>\n",
        "project_facility_table = pd.crosstab(project_facility['project_id'], project_facility['facility_id'], rownames=['project_id'], colnames=['facility_id'])\n",
        "print(project_facility_table.index)\n",
        "project_facility_table.head()\n",
        "        </code>\n",
        "      </pre>\n",
        "</details>"
      ]
    },
    {
      "metadata": {
        "id": "SuOjAgoWQC93",
        "colab_type": "text"
      },
      "cell_type": "markdown",
      "source": [
        "## TODO#5: Remove missing information that does not exist in both files\n",
        "\n",
        "We want to use only projects that have facility information. Remove the projects that do not exist in both files. You may find [pandas.DataFrame.isin](https://pandas.pydata.org/pandas-docs/stable/reference/api/pandas.DataFrame.isin.html) useful."
      ]
    },
    {
      "metadata": {
        "id": "DH_JZKdcc4ll",
        "colab_type": "code",
        "outputId": "1153c389-5dde-4bed-f82f-7a28ffd4fdc2",
        "colab": {
          "base_uri": "https://localhost:8080/",
          "height": 268
        }
      },
      "cell_type": "code",
      "source": [
        "################################################################################\n",
        "#                            WRITE YOUR CODE BELOW                             #\n",
        "################################################################################\n",
        "project_facility_table = project_facility_table.loc[project_facility_table.index.isin(project_main['project_id'])]\n",
        "project_main = project_main.loc[project_main['project_id'].isin(project_facility_table.index.astype(int))]\n",
        "project_main = project_main.sort_values('project_id')\n",
        "print(project_facility_table.shape)\n",
        "print(project_main.shape)\n",
        "project_facility_table.head()"
      ],
      "execution_count": 9,
      "outputs": [
        {
          "output_type": "stream",
          "text": [
            "(1697, 6)\n",
            "(1697, 16)\n"
          ],
          "name": "stdout"
        },
        {
          "output_type": "execute_result",
          "data": {
            "text/html": [
              "<div>\n",
              "<style scoped>\n",
              "    .dataframe tbody tr th:only-of-type {\n",
              "        vertical-align: middle;\n",
              "    }\n",
              "\n",
              "    .dataframe tbody tr th {\n",
              "        vertical-align: top;\n",
              "    }\n",
              "\n",
              "    .dataframe thead th {\n",
              "        text-align: right;\n",
              "    }\n",
              "</style>\n",
              "<table border=\"1\" class=\"dataframe\">\n",
              "  <thead>\n",
              "    <tr style=\"text-align: right;\">\n",
              "      <th>facility_id</th>\n",
              "      <th>1</th>\n",
              "      <th>2</th>\n",
              "      <th>3</th>\n",
              "      <th>4</th>\n",
              "      <th>5</th>\n",
              "      <th>6</th>\n",
              "    </tr>\n",
              "    <tr>\n",
              "      <th>project_id</th>\n",
              "      <th></th>\n",
              "      <th></th>\n",
              "      <th></th>\n",
              "      <th></th>\n",
              "      <th></th>\n",
              "      <th></th>\n",
              "    </tr>\n",
              "  </thead>\n",
              "  <tbody>\n",
              "    <tr>\n",
              "      <th>24</th>\n",
              "      <td>0</td>\n",
              "      <td>0</td>\n",
              "      <td>1</td>\n",
              "      <td>1</td>\n",
              "      <td>0</td>\n",
              "      <td>1</td>\n",
              "    </tr>\n",
              "    <tr>\n",
              "      <th>44</th>\n",
              "      <td>1</td>\n",
              "      <td>0</td>\n",
              "      <td>1</td>\n",
              "      <td>0</td>\n",
              "      <td>0</td>\n",
              "      <td>0</td>\n",
              "    </tr>\n",
              "    <tr>\n",
              "      <th>45</th>\n",
              "      <td>0</td>\n",
              "      <td>1</td>\n",
              "      <td>1</td>\n",
              "      <td>1</td>\n",
              "      <td>1</td>\n",
              "      <td>0</td>\n",
              "    </tr>\n",
              "    <tr>\n",
              "      <th>95</th>\n",
              "      <td>1</td>\n",
              "      <td>0</td>\n",
              "      <td>0</td>\n",
              "      <td>0</td>\n",
              "      <td>0</td>\n",
              "      <td>0</td>\n",
              "    </tr>\n",
              "    <tr>\n",
              "      <th>133</th>\n",
              "      <td>1</td>\n",
              "      <td>0</td>\n",
              "      <td>1</td>\n",
              "      <td>0</td>\n",
              "      <td>1</td>\n",
              "      <td>0</td>\n",
              "    </tr>\n",
              "  </tbody>\n",
              "</table>\n",
              "</div>"
            ],
            "text/plain": [
              "facility_id  1  2  3  4  5  6\n",
              "project_id                   \n",
              "24           0  0  1  1  0  1\n",
              "44           1  0  1  0  0  0\n",
              "45           0  1  1  1  1  0\n",
              "95           1  0  0  0  0  0\n",
              "133          1  0  1  0  1  0"
            ]
          },
          "metadata": {
            "tags": []
          },
          "execution_count": 9
        }
      ]
    },
    {
      "metadata": {
        "colab_type": "text",
        "id": "sqv5aBkS8r2h"
      },
      "cell_type": "markdown",
      "source": [
        "<details>\n",
        "    <summary>SOLUTION HERE!</summary>\n",
        "      <pre>\n",
        "        <code>\n",
        "project_facility_table = project_facility_table.loc[project_facility_table.index.isin(project_main['project_id'])]\n",
        "project_main = project_main.loc[project_main['project_id'].isin(project_facility_table.index.astype(int))]\n",
        "project_main = project_main.sort_values('project_id')\n",
        "print(project_facility_table.shape)\n",
        "print(project_main.shape)\n",
        "project_facility_table.head()\n",
        "        </code>\n",
        "      </pre>\n",
        "</details>"
      ]
    },
    {
      "metadata": {
        "id": "kXbSDY3lxdZC",
        "colab_type": "code",
        "outputId": "c92d0a70-de5e-4da5-d76e-972ea2796852",
        "colab": {
          "base_uri": "https://localhost:8080/",
          "height": 309
        }
      },
      "cell_type": "code",
      "source": [
        "# Double check whether this looks okay\n",
        "project_main.head()"
      ],
      "execution_count": 10,
      "outputs": [
        {
          "output_type": "execute_result",
          "data": {
            "text/html": [
              "<div>\n",
              "<style scoped>\n",
              "    .dataframe tbody tr th:only-of-type {\n",
              "        vertical-align: middle;\n",
              "    }\n",
              "\n",
              "    .dataframe tbody tr th {\n",
              "        vertical-align: top;\n",
              "    }\n",
              "\n",
              "    .dataframe thead th {\n",
              "        text-align: right;\n",
              "    }\n",
              "</style>\n",
              "<table border=\"1\" class=\"dataframe\">\n",
              "  <thead>\n",
              "    <tr style=\"text-align: right;\">\n",
              "      <th></th>\n",
              "      <th>project_id</th>\n",
              "      <th>developer_id</th>\n",
              "      <th>brand_id</th>\n",
              "      <th>project_name_th</th>\n",
              "      <th>project_name_en</th>\n",
              "      <th>district_id</th>\n",
              "      <th>province_id</th>\n",
              "      <th>lat</th>\n",
              "      <th>lon</th>\n",
              "      <th>project_land_size_rai</th>\n",
              "      <th>total_unit</th>\n",
              "      <th>percent_car_parking</th>\n",
              "      <th>starting_price</th>\n",
              "      <th>highest_price</th>\n",
              "      <th>project_status</th>\n",
              "      <th>created_at</th>\n",
              "    </tr>\n",
              "  </thead>\n",
              "  <tbody>\n",
              "    <tr>\n",
              "      <th>1</th>\n",
              "      <td>24</td>\n",
              "      <td>1032</td>\n",
              "      <td>0.0</td>\n",
              "      <td>สัมมากร นิมิตใหม่</td>\n",
              "      <td>Sammakorn Nimitmai</td>\n",
              "      <td>1046.0</td>\n",
              "      <td>10</td>\n",
              "      <td>13.876590</td>\n",
              "      <td>100.731927</td>\n",
              "      <td>154</td>\n",
              "      <td>NaN</td>\n",
              "      <td>NaN</td>\n",
              "      <td>4590000.0</td>\n",
              "      <td>NaN</td>\n",
              "      <td>0</td>\n",
              "      <td>2011-02-24T21:43:59.297+0700</td>\n",
              "    </tr>\n",
              "    <tr>\n",
              "      <th>0</th>\n",
              "      <td>44</td>\n",
              "      <td>140786</td>\n",
              "      <td>0.0</td>\n",
              "      <td>พาร์ควิลล์ 3</td>\n",
              "      <td>Parkville 3</td>\n",
              "      <td>1046.0</td>\n",
              "      <td>10</td>\n",
              "      <td>13.891719</td>\n",
              "      <td>100.722099</td>\n",
              "      <td>54</td>\n",
              "      <td>NaN</td>\n",
              "      <td>NaN</td>\n",
              "      <td>3500000.0</td>\n",
              "      <td>3862000.0</td>\n",
              "      <td>1</td>\n",
              "      <td>2011-01-14T18:40:12.117+0700</td>\n",
              "    </tr>\n",
              "    <tr>\n",
              "      <th>164</th>\n",
              "      <td>45</td>\n",
              "      <td>2840</td>\n",
              "      <td>0.0</td>\n",
              "      <td>พาร์คเวย์ ชาเล่ต์</td>\n",
              "      <td>parkway chalet</td>\n",
              "      <td>1010.0</td>\n",
              "      <td>10</td>\n",
              "      <td>13.803465</td>\n",
              "      <td>100.727406</td>\n",
              "      <td>87</td>\n",
              "      <td>NaN</td>\n",
              "      <td>NaN</td>\n",
              "      <td>5500000.0</td>\n",
              "      <td>NaN</td>\n",
              "      <td>0</td>\n",
              "      <td>2011-03-28T23:27:08.833+0700</td>\n",
              "    </tr>\n",
              "    <tr>\n",
              "      <th>172</th>\n",
              "      <td>95</td>\n",
              "      <td>2730</td>\n",
              "      <td>NaN</td>\n",
              "      <td>อารีน่า พาร์ค ชวนชื่น ซิตี้</td>\n",
              "      <td>NaN</td>\n",
              "      <td>1005.0</td>\n",
              "      <td>10</td>\n",
              "      <td>13.859276</td>\n",
              "      <td>100.665287</td>\n",
              "      <td>79</td>\n",
              "      <td>NaN</td>\n",
              "      <td>NaN</td>\n",
              "      <td>2000000.0</td>\n",
              "      <td>5000000.0</td>\n",
              "      <td>0</td>\n",
              "      <td>2007-04-18T23:02:22.000+0700</td>\n",
              "    </tr>\n",
              "    <tr>\n",
              "      <th>185</th>\n",
              "      <td>133</td>\n",
              "      <td>6772</td>\n",
              "      <td>538.0</td>\n",
              "      <td>เค.ซี.เลควิว</td>\n",
              "      <td>K.C. LAKEVIEW</td>\n",
              "      <td>1044.0</td>\n",
              "      <td>10</td>\n",
              "      <td>13.759440</td>\n",
              "      <td>100.679230</td>\n",
              "      <td>60</td>\n",
              "      <td>NaN</td>\n",
              "      <td>NaN</td>\n",
              "      <td>11000000.0</td>\n",
              "      <td>NaN</td>\n",
              "      <td>1</td>\n",
              "      <td>2011-01-14T18:42:51.630+0700</td>\n",
              "    </tr>\n",
              "  </tbody>\n",
              "</table>\n",
              "</div>"
            ],
            "text/plain": [
              "     project_id  developer_id  brand_id              project_name_th  \\\n",
              "1            24          1032       0.0            สัมมากร นิมิตใหม่   \n",
              "0            44        140786       0.0                 พาร์ควิลล์ 3   \n",
              "164          45          2840       0.0            พาร์คเวย์ ชาเล่ต์   \n",
              "172          95          2730       NaN  อารีน่า พาร์ค ชวนชื่น ซิตี้   \n",
              "185         133          6772     538.0                 เค.ซี.เลควิว   \n",
              "\n",
              "        project_name_en  district_id  province_id        lat         lon  \\\n",
              "1    Sammakorn Nimitmai       1046.0           10  13.876590  100.731927   \n",
              "0           Parkville 3       1046.0           10  13.891719  100.722099   \n",
              "164      parkway chalet       1010.0           10  13.803465  100.727406   \n",
              "172                 NaN       1005.0           10  13.859276  100.665287   \n",
              "185       K.C. LAKEVIEW       1044.0           10  13.759440  100.679230   \n",
              "\n",
              "     project_land_size_rai  total_unit  percent_car_parking  starting_price  \\\n",
              "1                      154         NaN                  NaN       4590000.0   \n",
              "0                       54         NaN                  NaN       3500000.0   \n",
              "164                     87         NaN                  NaN       5500000.0   \n",
              "172                     79         NaN                  NaN       2000000.0   \n",
              "185                     60         NaN                  NaN      11000000.0   \n",
              "\n",
              "     highest_price project_status                    created_at  \n",
              "1              NaN              0  2011-02-24T21:43:59.297+0700  \n",
              "0        3862000.0              1  2011-01-14T18:40:12.117+0700  \n",
              "164            NaN              0  2011-03-28T23:27:08.833+0700  \n",
              "172      5000000.0              0  2007-04-18T23:02:22.000+0700  \n",
              "185            NaN              1  2011-01-14T18:42:51.630+0700  "
            ]
          },
          "metadata": {
            "tags": []
          },
          "execution_count": 10
        }
      ]
    },
    {
      "metadata": {
        "id": "cSbW8ujnf0ja",
        "colab_type": "code",
        "outputId": "522516a6-aa56-4f60-a2c9-ff9825f6395c",
        "colab": {
          "base_uri": "https://localhost:8080/",
          "height": 310
        }
      },
      "cell_type": "code",
      "source": [
        "# Double check whether this looks okay\n",
        "project_main.iloc[0]"
      ],
      "execution_count": 11,
      "outputs": [
        {
          "output_type": "execute_result",
          "data": {
            "text/plain": [
              "project_id                                         24\n",
              "developer_id                                     1032\n",
              "brand_id                                            0\n",
              "project_name_th                     สัมมากร นิมิตใหม่\n",
              "project_name_en                    Sammakorn Nimitmai\n",
              "district_id                                      1046\n",
              "province_id                                        10\n",
              "lat                                           13.8766\n",
              "lon                                           100.732\n",
              "project_land_size_rai                             154\n",
              "total_unit                                        NaN\n",
              "percent_car_parking                               NaN\n",
              "starting_price                               4.59e+06\n",
              "highest_price                                     NaN\n",
              "project_status                                      0\n",
              "created_at               2011-02-24T21:43:59.297+0700\n",
              "Name: 1, dtype: object"
            ]
          },
          "metadata": {
            "tags": []
          },
          "execution_count": 11
        }
      ]
    },
    {
      "metadata": {
        "id": "SLgCn82OzrQc",
        "colab_type": "text"
      },
      "cell_type": "markdown",
      "source": [
        "## TODO#6: Explore userLog_201801_201802_for_participants.csv\n",
        "\n",
        "Read the userLog file and look at the data.\n",
        "\n",
        "How many entries are there?\n",
        "\n",
        "**Ans:**"
      ]
    },
    {
      "metadata": {
        "id": "ksRpe8e2ajVa",
        "colab_type": "code",
        "colab": {}
      },
      "cell_type": "code",
      "source": [
        "################################################################################\n",
        "#                            WRITE YOUR CODE BELOW                             #\n",
        "################################################################################\n",
        "userLog = readDataFromDrive('userLog_201801_201802_for_participants.csv')"
      ],
      "execution_count": 0,
      "outputs": []
    },
    {
      "metadata": {
        "id": "Nwywh7_uENh0",
        "colab_type": "text"
      },
      "cell_type": "markdown",
      "source": [
        "Remove the entries for the projects that we have already removed."
      ]
    },
    {
      "metadata": {
        "id": "jFlYQc7mnuoM",
        "colab_type": "code",
        "colab": {}
      },
      "cell_type": "code",
      "source": [
        "################################################################################\n",
        "#                            WRITE YOUR CODE BELOW                             #\n",
        "################################################################################\n",
        "userLog = userLog.loc[userLog['project_id'].isin(project_facility_table.index.astype(int))]"
      ],
      "execution_count": 0,
      "outputs": []
    },
    {
      "metadata": {
        "id": "Q2nUl6TwP0c6",
        "colab_type": "text"
      },
      "cell_type": "markdown",
      "source": [
        "<details>\n",
        "    <summary>SOLUTION HERE!</summary>\n",
        "    <code>\n",
        "  userLog = userLog.loc[userLog['project_id'].isin(project_facility_table.index.astype(int))]\n",
        "  </code>\n",
        "</details>\n",
        "\n"
      ]
    },
    {
      "metadata": {
        "id": "U4h3JYoIXFsc",
        "colab_type": "text"
      },
      "cell_type": "markdown",
      "source": [
        "## TODO#7: Let's see how often the users visit Home.co.th\n",
        "\n",
        "To explore the useLog file, we want to see how the users behave.\n",
        "\n",
        "First we will aggregate the number of times each user visit the site.\n",
        "\n",
        "Use [pd.value_counts](https://pandas.pydata.org/pandas-docs/stable/reference/api/pandas.Series.value_counts.html) to help count the amount of times each user visit the site."
      ]
    },
    {
      "metadata": {
        "id": "p8CWwKunxf47",
        "colab_type": "code",
        "outputId": "dcb20921-cc88-4101-b116-ab5bcc48e92c",
        "colab": {
          "base_uri": "https://localhost:8080/",
          "height": 137
        }
      },
      "cell_type": "code",
      "source": [
        "################################################################################\n",
        "#                            WRITE YOUR CODE BELOW                             #\n",
        "################################################################################\n",
        "userLog_freq_user = userLog['userCode'].value_counts()\n",
        "userLog_freq_user_np  = np.array(userLog_freq_user.values)\n",
        "print(userLog_freq_user_np.shape)\n",
        "userLog_freq_user.head()"
      ],
      "execution_count": 14,
      "outputs": [
        {
          "output_type": "stream",
          "text": [
            "(175127,)\n"
          ],
          "name": "stdout"
        },
        {
          "output_type": "execute_result",
          "data": {
            "text/plain": [
              "de89bac5-57c6-ecfb-184d-cc4e973c31ac    7408\n",
              "31bb9bf0-8ad5-3e50-f334-e6c7de89bac5    3465\n",
              "eec0a125-d5ab-f692-c501-4713c35c756d     703\n",
              "e400406a-b73d-3e78-d37d-53fcddebccaf     518\n",
              "1aecd8e5-f02b-ba5c-e865-49da43ad8f22     472\n",
              "Name: userCode, dtype: int64"
            ]
          },
          "metadata": {
            "tags": []
          },
          "execution_count": 14
        }
      ]
    },
    {
      "metadata": {
        "id": "8KtVPpnS97aE",
        "colab_type": "text"
      },
      "cell_type": "markdown",
      "source": [
        "<details>\n",
        "    <summary>SOLUTION HERE!</summary>\n",
        "  <pre>\n",
        "  <code>\n",
        "  userLog_freq_user = userLog['userCode'].value_counts()\n",
        "  userLog_freq_user_np  = np.array(userLog_freq_user.values)\n",
        "  print(userLog_freq_user_np.shape)\n",
        "  userLog_freq_user.head()\n",
        "  </code>\n",
        "  </pre>\n",
        "</details>\n",
        "\n",
        "\n"
      ]
    },
    {
      "metadata": {
        "id": "5ClYwT6z0jQb",
        "colab_type": "text"
      },
      "cell_type": "markdown",
      "source": [
        "Show a histogram of the view counts per user. Also use *pd.head()* to list the top viewers of this site."
      ]
    },
    {
      "metadata": {
        "id": "Bo48mxtHg_Y3",
        "colab_type": "code",
        "colab": {}
      },
      "cell_type": "code",
      "source": [
        "################################################################################\n",
        "#                            WRITE YOUR CODE BELOW                             #\n",
        "################################################################################\n"
      ],
      "execution_count": 0,
      "outputs": []
    },
    {
      "metadata": {
        "id": "owLV1wxP00yX",
        "colab_type": "text"
      },
      "cell_type": "markdown",
      "source": [
        "## TODO#8: View statistics\n",
        "Find the mean, median, and mode of the view counts. Also find the 95th percentile of the view counts. Hint: use [np.percentile](https://docs.scipy.org/doc/numpy-1.15.0/reference/generated/numpy.percentile.html)\n",
        "\n",
        "**Ans:**"
      ]
    },
    {
      "metadata": {
        "id": "zikNtaP2hzpF",
        "colab_type": "code",
        "colab": {}
      },
      "cell_type": "code",
      "source": [
        "################################################################################\n",
        "#                            WRITE YOUR CODE BELOW                             #\n",
        "################################################################################\n"
      ],
      "execution_count": 0,
      "outputs": []
    },
    {
      "metadata": {
        "id": "6Gs-cYCCNW9u",
        "colab_type": "text"
      },
      "cell_type": "markdown",
      "source": [
        "## TODO#9: userLog cleaning\n",
        "\n",
        "From TODO#7-8, and the fact that this is a log from a 50 day peroid, are there any problems with the data contained in *userLog*? Explain your hypothesis.\n",
        "\n",
        "**Ans:**"
      ]
    },
    {
      "metadata": {
        "id": "n9qIvS-GOV4L",
        "colab_type": "text"
      },
      "cell_type": "markdown",
      "source": [
        "## TODO#10: userLog pruning\n",
        "\n",
        "Let's prune out the suspicious users. To be safe, we will only **keep users that have more than 4 views and less than 41 views**. We have a minimum cutoff so that we can have better information about the users to train our recommendation system.\n",
        "\n",
        "You may use [pd.index](https://pandas.pydata.org/pandas-docs/version/0.23.4/generated/pandas.Index.html)  to help do the filtering.\n",
        "\n",
        "Check your answer by plotting a histogram of the views after the pruning."
      ]
    },
    {
      "metadata": {
        "id": "FhAX6jKbz7cB",
        "colab_type": "code",
        "outputId": "1383c083-a7c8-4ba5-f22e-26af99b05446",
        "colab": {
          "base_uri": "https://localhost:8080/",
          "height": 348
        }
      },
      "cell_type": "code",
      "source": [
        "################################################################################\n",
        "#                            WRITE YOUR CODE BELOW                             #\n",
        "################################################################################\n",
        "userLog_freq_user = userLog_freq_user.loc[userLog_freq_user <= 40 ]\n",
        "userLog_freq_user = userLog_freq_user.loc[userLog_freq_user >= 5 ]\n",
        "userLog_freq_user_np = np.array(userLog_freq_user.values)\n",
        "\n",
        "n, bins, patches = plt.hist(userLog_freq_user_np, 100, density=True, facecolor='g', alpha=0.75)\n",
        "plt.show()\n",
        "\n",
        "userLog = userLog.loc[userLog['userCode'].isin(userLog_freq_user.index)]"
      ],
      "execution_count": 15,
      "outputs": [
        {
          "output_type": "display_data",
          "data": {
            "image/png": "[encoded data removed]",
            "text/plain": [
              "<Figure size 576x396 with 1 Axes>"
            ]
          },
          "metadata": {
            "tags": []
          }
        }
      ]
    },
    {
      "metadata": {
        "id": "cIqf3PdvTTZI",
        "colab_type": "text"
      },
      "cell_type": "markdown",
      "source": [
        "<details>\n",
        "    <summary>SOLUTION HERE!</summary>\n",
        "  <pre>\n",
        "  <code>\n",
        "\n",
        "userLog_freq_user = userLog_freq_user.loc[userLog_freq_user <= 40 ]\n",
        "userLog_freq_user = userLog_freq_user.loc[userLog_freq_user >= 5 ]\n",
        "userLog_freq_user_np = np.array(userLog_freq_user.values)\n",
        "\n",
        "n, bins, patches = plt.hist(userLog_freq_user_np, 100, density=True, facecolor='g', alpha=0.75)\n",
        "plt.show()\n",
        "\n",
        "userLog = userLog.loc[userLog['userCode'].isin(userLog_freq_user.index)]\n",
        "  </code>\n",
        "  </pre>\n",
        "</details>\n",
        "\n"
      ]
    },
    {
      "metadata": {
        "id": "Q-6x2k2BEeo2",
        "colab_type": "text"
      },
      "cell_type": "markdown",
      "source": [
        "##Optional \n",
        "\n",
        "Can you do better userLog filtering by based on daily views instead of total views? For example, a user shouldn't view more than 20 pages within a day, etc."
      ]
    },
    {
      "metadata": {
        "id": "mddaS5baEwQa",
        "colab_type": "code",
        "colab": {}
      },
      "cell_type": "code",
      "source": [
        "################################################################################\n",
        "#                            WRITE YOUR CODE BELOW                             #\n",
        "################################################################################"
      ],
      "execution_count": 0,
      "outputs": []
    },
    {
      "metadata": {
        "id": "Rkxdaoaj-4wU",
        "colab_type": "text"
      },
      "cell_type": "markdown",
      "source": [
        "------"
      ]
    },
    {
      "metadata": {
        "id": "JRQ43uf5nySR",
        "colab_type": "text"
      },
      "cell_type": "markdown",
      "source": [
        "#Recommendation system"
      ]
    },
    {
      "metadata": {
        "id": "QTymaWEqAHhI",
        "colab_type": "text"
      },
      "cell_type": "markdown",
      "source": [
        "## TODO#11: Train and test split\n",
        "\n",
        "We will split the log data into training and test set for our recommendation system.\n",
        "\n",
        "For the training set, we will use the days between 15-18 February.\n",
        "For the testing set, we will use the days between 19-22 February.\n",
        "\n",
        "Filter the userLog dataframe using the criterion, and create two dataframes:\n",
        "*userLog_train* and *userLog_test*."
      ]
    },
    {
      "metadata": {
        "id": "i5OpfwXf5aOi",
        "colab_type": "code",
        "outputId": "79f1a1c2-8083-4f3d-fa17-3ff9f3a7671d",
        "colab": {
          "base_uri": "https://localhost:8080/",
          "height": 360
        }
      },
      "cell_type": "code",
      "source": [
        "################################################################################\n",
        "#                            WRITE YOUR CODE BELOW                             #\n",
        "################################################################################\n",
        "userLog_freq_day = pd.crosstab(userLog['userCode'], [userLog['year'], userLog['month'], userLog['day']], rownames =['userCode'], colnames=['year','month','day'])\n",
        "\n",
        "userLog_last_month  = userLog.loc[userLog['month'] == 2]\n",
        "userLog_train = userLog_last_month.loc[ userLog_last_month['day'] >=15]\n",
        "userLog_train = userLog_train.loc[ userLog_train['day'] < 19]\n",
        "userLog_test = userLog_last_month.loc[ userLog_last_month['day'] >= 19]\n",
        "\n",
        "print(userLog_train.shape)\n",
        "print(userLog_test.shape)\n",
        "\n",
        "userLog_freq_day.head()"
      ],
      "execution_count": 17,
      "outputs": [
        {
          "output_type": "stream",
          "text": [
            "(12135, 9)\n",
            "(13295, 9)\n"
          ],
          "name": "stdout"
        },
        {
          "output_type": "execute_result",
          "data": {
            "text/html": [
              "<div>\n",
              "<style scoped>\n",
              "    .dataframe tbody tr th:only-of-type {\n",
              "        vertical-align: middle;\n",
              "    }\n",
              "\n",
              "    .dataframe tbody tr th {\n",
              "        vertical-align: top;\n",
              "    }\n",
              "\n",
              "    .dataframe thead tr th {\n",
              "        text-align: left;\n",
              "    }\n",
              "\n",
              "    .dataframe thead tr:last-of-type th {\n",
              "        text-align: right;\n",
              "    }\n",
              "</style>\n",
              "<table border=\"1\" class=\"dataframe\">\n",
              "  <thead>\n",
              "    <tr>\n",
              "      <th>year</th>\n",
              "      <th colspan=\"21\" halign=\"left\">2018</th>\n",
              "    </tr>\n",
              "    <tr>\n",
              "      <th>month</th>\n",
              "      <th colspan=\"10\" halign=\"left\">1</th>\n",
              "      <th>...</th>\n",
              "      <th colspan=\"10\" halign=\"left\">2</th>\n",
              "    </tr>\n",
              "    <tr>\n",
              "      <th>day</th>\n",
              "      <th>1</th>\n",
              "      <th>2</th>\n",
              "      <th>3</th>\n",
              "      <th>4</th>\n",
              "      <th>5</th>\n",
              "      <th>6</th>\n",
              "      <th>7</th>\n",
              "      <th>8</th>\n",
              "      <th>9</th>\n",
              "      <th>10</th>\n",
              "      <th>...</th>\n",
              "      <th>13</th>\n",
              "      <th>14</th>\n",
              "      <th>15</th>\n",
              "      <th>16</th>\n",
              "      <th>17</th>\n",
              "      <th>18</th>\n",
              "      <th>19</th>\n",
              "      <th>20</th>\n",
              "      <th>21</th>\n",
              "      <th>22</th>\n",
              "    </tr>\n",
              "    <tr>\n",
              "      <th>userCode</th>\n",
              "      <th></th>\n",
              "      <th></th>\n",
              "      <th></th>\n",
              "      <th></th>\n",
              "      <th></th>\n",
              "      <th></th>\n",
              "      <th></th>\n",
              "      <th></th>\n",
              "      <th></th>\n",
              "      <th></th>\n",
              "      <th></th>\n",
              "      <th></th>\n",
              "      <th></th>\n",
              "      <th></th>\n",
              "      <th></th>\n",
              "      <th></th>\n",
              "      <th></th>\n",
              "      <th></th>\n",
              "      <th></th>\n",
              "      <th></th>\n",
              "      <th></th>\n",
              "    </tr>\n",
              "  </thead>\n",
              "  <tbody>\n",
              "    <tr>\n",
              "      <th>0004e7c4-d920-9891-be82-259a684c12cd</th>\n",
              "      <td>0</td>\n",
              "      <td>0</td>\n",
              "      <td>0</td>\n",
              "      <td>0</td>\n",
              "      <td>0</td>\n",
              "      <td>0</td>\n",
              "      <td>0</td>\n",
              "      <td>0</td>\n",
              "      <td>0</td>\n",
              "      <td>0</td>\n",
              "      <td>...</td>\n",
              "      <td>0</td>\n",
              "      <td>0</td>\n",
              "      <td>0</td>\n",
              "      <td>0</td>\n",
              "      <td>0</td>\n",
              "      <td>0</td>\n",
              "      <td>0</td>\n",
              "      <td>0</td>\n",
              "      <td>0</td>\n",
              "      <td>0</td>\n",
              "    </tr>\n",
              "    <tr>\n",
              "      <th>000a0872-72e2-b1b9-bfe3-3b9e173c516b</th>\n",
              "      <td>0</td>\n",
              "      <td>0</td>\n",
              "      <td>0</td>\n",
              "      <td>0</td>\n",
              "      <td>0</td>\n",
              "      <td>0</td>\n",
              "      <td>0</td>\n",
              "      <td>0</td>\n",
              "      <td>0</td>\n",
              "      <td>0</td>\n",
              "      <td>...</td>\n",
              "      <td>0</td>\n",
              "      <td>0</td>\n",
              "      <td>0</td>\n",
              "      <td>0</td>\n",
              "      <td>0</td>\n",
              "      <td>8</td>\n",
              "      <td>0</td>\n",
              "      <td>0</td>\n",
              "      <td>0</td>\n",
              "      <td>0</td>\n",
              "    </tr>\n",
              "    <tr>\n",
              "      <th>0010f747-c339-58fc-5a1a-2d2b142d0ef8</th>\n",
              "      <td>0</td>\n",
              "      <td>0</td>\n",
              "      <td>0</td>\n",
              "      <td>0</td>\n",
              "      <td>0</td>\n",
              "      <td>0</td>\n",
              "      <td>10</td>\n",
              "      <td>0</td>\n",
              "      <td>0</td>\n",
              "      <td>0</td>\n",
              "      <td>...</td>\n",
              "      <td>0</td>\n",
              "      <td>0</td>\n",
              "      <td>0</td>\n",
              "      <td>0</td>\n",
              "      <td>0</td>\n",
              "      <td>0</td>\n",
              "      <td>0</td>\n",
              "      <td>0</td>\n",
              "      <td>0</td>\n",
              "      <td>0</td>\n",
              "    </tr>\n",
              "    <tr>\n",
              "      <th>00111011-ec7f-b5d8-4a2c-ebbe6f939e27</th>\n",
              "      <td>0</td>\n",
              "      <td>0</td>\n",
              "      <td>0</td>\n",
              "      <td>0</td>\n",
              "      <td>0</td>\n",
              "      <td>0</td>\n",
              "      <td>0</td>\n",
              "      <td>0</td>\n",
              "      <td>0</td>\n",
              "      <td>0</td>\n",
              "      <td>...</td>\n",
              "      <td>0</td>\n",
              "      <td>0</td>\n",
              "      <td>0</td>\n",
              "      <td>0</td>\n",
              "      <td>0</td>\n",
              "      <td>0</td>\n",
              "      <td>0</td>\n",
              "      <td>0</td>\n",
              "      <td>0</td>\n",
              "      <td>0</td>\n",
              "    </tr>\n",
              "    <tr>\n",
              "      <th>0014ce7f-5b12-b752-dd02-4cffd1cecaae</th>\n",
              "      <td>0</td>\n",
              "      <td>0</td>\n",
              "      <td>0</td>\n",
              "      <td>0</td>\n",
              "      <td>0</td>\n",
              "      <td>0</td>\n",
              "      <td>0</td>\n",
              "      <td>0</td>\n",
              "      <td>0</td>\n",
              "      <td>0</td>\n",
              "      <td>...</td>\n",
              "      <td>0</td>\n",
              "      <td>0</td>\n",
              "      <td>0</td>\n",
              "      <td>0</td>\n",
              "      <td>0</td>\n",
              "      <td>0</td>\n",
              "      <td>0</td>\n",
              "      <td>0</td>\n",
              "      <td>0</td>\n",
              "      <td>0</td>\n",
              "    </tr>\n",
              "  </tbody>\n",
              "</table>\n",
              "<p>5 rows × 53 columns</p>\n",
              "</div>"
            ],
            "text/plain": [
              "year                                 2018                             ...     \\\n",
              "month                                   1                             ...  2   \n",
              "day                                    1  2  3  4  5  6   7  8  9  10 ... 13   \n",
              "userCode                                                              ...      \n",
              "0004e7c4-d920-9891-be82-259a684c12cd    0  0  0  0  0  0   0  0  0  0 ...  0   \n",
              "000a0872-72e2-b1b9-bfe3-3b9e173c516b    0  0  0  0  0  0   0  0  0  0 ...  0   \n",
              "0010f747-c339-58fc-5a1a-2d2b142d0ef8    0  0  0  0  0  0  10  0  0  0 ...  0   \n",
              "00111011-ec7f-b5d8-4a2c-ebbe6f939e27    0  0  0  0  0  0   0  0  0  0 ...  0   \n",
              "0014ce7f-5b12-b752-dd02-4cffd1cecaae    0  0  0  0  0  0   0  0  0  0 ...  0   \n",
              "\n",
              "year                                                             \n",
              "month                                                            \n",
              "day                                  14 15 16 17 18 19 20 21 22  \n",
              "userCode                                                         \n",
              "0004e7c4-d920-9891-be82-259a684c12cd  0  0  0  0  0  0  0  0  0  \n",
              "000a0872-72e2-b1b9-bfe3-3b9e173c516b  0  0  0  0  8  0  0  0  0  \n",
              "0010f747-c339-58fc-5a1a-2d2b142d0ef8  0  0  0  0  0  0  0  0  0  \n",
              "00111011-ec7f-b5d8-4a2c-ebbe6f939e27  0  0  0  0  0  0  0  0  0  \n",
              "0014ce7f-5b12-b752-dd02-4cffd1cecaae  0  0  0  0  0  0  0  0  0  \n",
              "\n",
              "[5 rows x 53 columns]"
            ]
          },
          "metadata": {
            "tags": []
          },
          "execution_count": 17
        }
      ]
    },
    {
      "metadata": {
        "id": "qUd1gYB_B8HK",
        "colab_type": "text"
      },
      "cell_type": "markdown",
      "source": [
        "<details>\n",
        "    <summary>SOLUTION HERE!</summary>\n",
        "  <pre>\n",
        "<code>\n",
        "userLog_freq_day = pd.crosstab(userLog['userCode'], [userLog['year'], userLog['month'], userLog['day']], rownames =['userCode'], colnames=['year','month','day'])\n",
        "\n",
        "userLog_last_month  = userLog.loc[userLog['month'] == 2]\n",
        "userLog_train = userLog_last_month.loc[ userLog_last_month['day'] >=15]\n",
        "userLog_train = userLog_train.loc[ userLog_train['day'] < 19]\n",
        "userLog_test = userLog_last_month.loc[ userLog_last_month['day'] >= 19]\n",
        "\n",
        "print(userLog_train.shape)\n",
        "print(userLog_test.shape)\n",
        "\n",
        "userLog_freq_day.head()\n",
        "</code>\n",
        "</pre>\n",
        "</details>\n",
        "\n",
        "\n",
        "\n",
        "\n",
        "\n"
      ]
    },
    {
      "metadata": {
        "id": "42QTsyV2BLnw",
        "colab_type": "text"
      },
      "cell_type": "markdown",
      "source": [
        "## TODO#12: Format the train and test data\n",
        "Create a dataframe as specified below. Hint: use pd.crosstab"
      ]
    },
    {
      "metadata": {
        "id": "YDTlvyzl2nka",
        "colab_type": "code",
        "outputId": "516fae9f-60db-41be-9036-d6dd82ea21b1",
        "colab": {
          "base_uri": "https://localhost:8080/",
          "height": 367
        }
      },
      "cell_type": "code",
      "source": [
        "################################################################################\n",
        "#                            WRITE YOUR CODE BELOW                             #\n",
        "################################################################################\n",
        "# Create freq_user_seen_proj_train: a dataframe that has\n",
        "# User id as rows\n",
        "# Project id as columns (the value is the number of visits for that user)\n",
        "# using the training data\n",
        "\n",
        "freq_user_seen_proj_train = pd.crosstab(userLog_train['userCode'], userLog_train['project_id'], rownames=['userCode'], colnames=['project_id'])\n",
        "freq_user_seen_proj_train_np = np.array(freq_user_seen_proj_train.values)\n",
        "print(freq_user_seen_proj_train_np.shape)\n",
        "\n",
        "freq_user_seen_proj_train.head()"
      ],
      "execution_count": 18,
      "outputs": [
        {
          "output_type": "stream",
          "text": [
            "(2338, 1162)\n"
          ],
          "name": "stdout"
        },
        {
          "output_type": "execute_result",
          "data": {
            "text/html": [
              "<div>\n",
              "<style scoped>\n",
              "    .dataframe tbody tr th:only-of-type {\n",
              "        vertical-align: middle;\n",
              "    }\n",
              "\n",
              "    .dataframe tbody tr th {\n",
              "        vertical-align: top;\n",
              "    }\n",
              "\n",
              "    .dataframe thead th {\n",
              "        text-align: right;\n",
              "    }\n",
              "</style>\n",
              "<table border=\"1\" class=\"dataframe\">\n",
              "  <thead>\n",
              "    <tr style=\"text-align: right;\">\n",
              "      <th>project_id</th>\n",
              "      <th>44</th>\n",
              "      <th>45</th>\n",
              "      <th>133</th>\n",
              "      <th>189</th>\n",
              "      <th>208</th>\n",
              "      <th>228</th>\n",
              "      <th>234</th>\n",
              "      <th>235</th>\n",
              "      <th>253</th>\n",
              "      <th>287</th>\n",
              "      <th>...</th>\n",
              "      <th>9403</th>\n",
              "      <th>9418</th>\n",
              "      <th>9419</th>\n",
              "      <th>9420</th>\n",
              "      <th>9422</th>\n",
              "      <th>9424</th>\n",
              "      <th>9446</th>\n",
              "      <th>9468</th>\n",
              "      <th>9471</th>\n",
              "      <th>9478</th>\n",
              "    </tr>\n",
              "    <tr>\n",
              "      <th>userCode</th>\n",
              "      <th></th>\n",
              "      <th></th>\n",
              "      <th></th>\n",
              "      <th></th>\n",
              "      <th></th>\n",
              "      <th></th>\n",
              "      <th></th>\n",
              "      <th></th>\n",
              "      <th></th>\n",
              "      <th></th>\n",
              "      <th></th>\n",
              "      <th></th>\n",
              "      <th></th>\n",
              "      <th></th>\n",
              "      <th></th>\n",
              "      <th></th>\n",
              "      <th></th>\n",
              "      <th></th>\n",
              "      <th></th>\n",
              "      <th></th>\n",
              "      <th></th>\n",
              "    </tr>\n",
              "  </thead>\n",
              "  <tbody>\n",
              "    <tr>\n",
              "      <th>000a0872-72e2-b1b9-bfe3-3b9e173c516b</th>\n",
              "      <td>0</td>\n",
              "      <td>0</td>\n",
              "      <td>0</td>\n",
              "      <td>0</td>\n",
              "      <td>0</td>\n",
              "      <td>0</td>\n",
              "      <td>0</td>\n",
              "      <td>0</td>\n",
              "      <td>0</td>\n",
              "      <td>0</td>\n",
              "      <td>...</td>\n",
              "      <td>0</td>\n",
              "      <td>0</td>\n",
              "      <td>0</td>\n",
              "      <td>0</td>\n",
              "      <td>0</td>\n",
              "      <td>0</td>\n",
              "      <td>0</td>\n",
              "      <td>0</td>\n",
              "      <td>0</td>\n",
              "      <td>0</td>\n",
              "    </tr>\n",
              "    <tr>\n",
              "      <th>0016878a-2b0e-647a-efa1-772fc5873c7d</th>\n",
              "      <td>0</td>\n",
              "      <td>0</td>\n",
              "      <td>0</td>\n",
              "      <td>0</td>\n",
              "      <td>0</td>\n",
              "      <td>0</td>\n",
              "      <td>0</td>\n",
              "      <td>0</td>\n",
              "      <td>0</td>\n",
              "      <td>0</td>\n",
              "      <td>...</td>\n",
              "      <td>0</td>\n",
              "      <td>0</td>\n",
              "      <td>0</td>\n",
              "      <td>0</td>\n",
              "      <td>0</td>\n",
              "      <td>0</td>\n",
              "      <td>0</td>\n",
              "      <td>0</td>\n",
              "      <td>0</td>\n",
              "      <td>0</td>\n",
              "    </tr>\n",
              "    <tr>\n",
              "      <th>001efb31-8833-bb1a-b2b3-8e3af720e7f7</th>\n",
              "      <td>0</td>\n",
              "      <td>0</td>\n",
              "      <td>0</td>\n",
              "      <td>0</td>\n",
              "      <td>0</td>\n",
              "      <td>0</td>\n",
              "      <td>7</td>\n",
              "      <td>0</td>\n",
              "      <td>0</td>\n",
              "      <td>0</td>\n",
              "      <td>...</td>\n",
              "      <td>0</td>\n",
              "      <td>0</td>\n",
              "      <td>0</td>\n",
              "      <td>0</td>\n",
              "      <td>0</td>\n",
              "      <td>0</td>\n",
              "      <td>0</td>\n",
              "      <td>0</td>\n",
              "      <td>0</td>\n",
              "      <td>0</td>\n",
              "    </tr>\n",
              "    <tr>\n",
              "      <th>0035bcd3-d7c5-1362-3c47-638c3567a370</th>\n",
              "      <td>0</td>\n",
              "      <td>0</td>\n",
              "      <td>0</td>\n",
              "      <td>0</td>\n",
              "      <td>0</td>\n",
              "      <td>0</td>\n",
              "      <td>0</td>\n",
              "      <td>0</td>\n",
              "      <td>0</td>\n",
              "      <td>0</td>\n",
              "      <td>...</td>\n",
              "      <td>0</td>\n",
              "      <td>0</td>\n",
              "      <td>0</td>\n",
              "      <td>0</td>\n",
              "      <td>0</td>\n",
              "      <td>0</td>\n",
              "      <td>0</td>\n",
              "      <td>0</td>\n",
              "      <td>0</td>\n",
              "      <td>0</td>\n",
              "    </tr>\n",
              "    <tr>\n",
              "      <th>003e4075-3058-b8db-915c-c2bdefa3d11a</th>\n",
              "      <td>0</td>\n",
              "      <td>0</td>\n",
              "      <td>0</td>\n",
              "      <td>0</td>\n",
              "      <td>0</td>\n",
              "      <td>0</td>\n",
              "      <td>0</td>\n",
              "      <td>0</td>\n",
              "      <td>0</td>\n",
              "      <td>0</td>\n",
              "      <td>...</td>\n",
              "      <td>0</td>\n",
              "      <td>0</td>\n",
              "      <td>0</td>\n",
              "      <td>0</td>\n",
              "      <td>0</td>\n",
              "      <td>0</td>\n",
              "      <td>0</td>\n",
              "      <td>0</td>\n",
              "      <td>0</td>\n",
              "      <td>0</td>\n",
              "    </tr>\n",
              "  </tbody>\n",
              "</table>\n",
              "<p>5 rows × 1162 columns</p>\n",
              "</div>"
            ],
            "text/plain": [
              "project_id                            44    45    133   189   208   228   \\\n",
              "userCode                                                                   \n",
              "000a0872-72e2-b1b9-bfe3-3b9e173c516b     0     0     0     0     0     0   \n",
              "0016878a-2b0e-647a-efa1-772fc5873c7d     0     0     0     0     0     0   \n",
              "001efb31-8833-bb1a-b2b3-8e3af720e7f7     0     0     0     0     0     0   \n",
              "0035bcd3-d7c5-1362-3c47-638c3567a370     0     0     0     0     0     0   \n",
              "003e4075-3058-b8db-915c-c2bdefa3d11a     0     0     0     0     0     0   \n",
              "\n",
              "project_id                            234   235   253   287   ...   9403  \\\n",
              "userCode                                                      ...          \n",
              "000a0872-72e2-b1b9-bfe3-3b9e173c516b     0     0     0     0  ...      0   \n",
              "0016878a-2b0e-647a-efa1-772fc5873c7d     0     0     0     0  ...      0   \n",
              "001efb31-8833-bb1a-b2b3-8e3af720e7f7     7     0     0     0  ...      0   \n",
              "0035bcd3-d7c5-1362-3c47-638c3567a370     0     0     0     0  ...      0   \n",
              "003e4075-3058-b8db-915c-c2bdefa3d11a     0     0     0     0  ...      0   \n",
              "\n",
              "project_id                            9418  9419  9420  9422  9424  9446  \\\n",
              "userCode                                                                   \n",
              "000a0872-72e2-b1b9-bfe3-3b9e173c516b     0     0     0     0     0     0   \n",
              "0016878a-2b0e-647a-efa1-772fc5873c7d     0     0     0     0     0     0   \n",
              "001efb31-8833-bb1a-b2b3-8e3af720e7f7     0     0     0     0     0     0   \n",
              "0035bcd3-d7c5-1362-3c47-638c3567a370     0     0     0     0     0     0   \n",
              "003e4075-3058-b8db-915c-c2bdefa3d11a     0     0     0     0     0     0   \n",
              "\n",
              "project_id                            9468  9471  9478  \n",
              "userCode                                                \n",
              "000a0872-72e2-b1b9-bfe3-3b9e173c516b     0     0     0  \n",
              "0016878a-2b0e-647a-efa1-772fc5873c7d     0     0     0  \n",
              "001efb31-8833-bb1a-b2b3-8e3af720e7f7     0     0     0  \n",
              "0035bcd3-d7c5-1362-3c47-638c3567a370     0     0     0  \n",
              "003e4075-3058-b8db-915c-c2bdefa3d11a     0     0     0  \n",
              "\n",
              "[5 rows x 1162 columns]"
            ]
          },
          "metadata": {
            "tags": []
          },
          "execution_count": 18
        }
      ]
    },
    {
      "metadata": {
        "id": "EpdYFx4bAzQH",
        "colab_type": "text"
      },
      "cell_type": "markdown",
      "source": [
        "<details>\n",
        "    <summary>SOLUTION HERE!</summary>\n",
        "  <pre>\n",
        "<code>\n",
        "freq_user_seen_proj_train = pd.crosstab(userLog_train['userCode'], userLog_train['project_id'], rownames=['userCode'], colnames=['project_id'])\n",
        "freq_user_seen_proj_train_np = np.array(freq_user_seen_proj_train.values)\n",
        "print(freq_user_seen_proj_train_np.shape)\n",
        "\n",
        "freq_user_seen_proj_train.head()\n",
        "</code>\n",
        "</pre>\n",
        "</details>\n",
        "\n"
      ]
    },
    {
      "metadata": {
        "id": "-vNDMW_v3irk",
        "colab_type": "code",
        "outputId": "97e9d9dd-0b2f-4205-f172-3ae971c8fa55",
        "colab": {
          "base_uri": "https://localhost:8080/",
          "height": 367
        }
      },
      "cell_type": "code",
      "source": [
        "################################################################################\n",
        "#                            WRITE YOUR CODE BELOW                             #\n",
        "################################################################################\n",
        "# Create freq_user_seen_proj_test: a dataframe that has\n",
        "# User id as rows\n",
        "# Project id as columns (the value is the number of visits for that user)\n",
        "# using the test data\n",
        "\n",
        "freq_user_seen_proj_test = pd.crosstab(userLog_test['userCode'], userLog_test['project_id'], rownames=['userCode'], colnames=['project_id'])\n",
        "freq_user_seen_proj_test = freq_user_seen_proj_test.iloc[freq_user_seen_proj_test.index.isin(freq_user_seen_proj_train.index)]\n",
        "freq_user_seen_proj_test_np = np.array(freq_user_seen_proj_test.values)\n",
        "print(freq_user_seen_proj_test_np.shape)\n",
        "\n",
        "freq_user_seen_proj_test.head()"
      ],
      "execution_count": 19,
      "outputs": [
        {
          "output_type": "stream",
          "text": [
            "(642, 1190)\n"
          ],
          "name": "stdout"
        },
        {
          "output_type": "execute_result",
          "data": {
            "text/html": [
              "<div>\n",
              "<style scoped>\n",
              "    .dataframe tbody tr th:only-of-type {\n",
              "        vertical-align: middle;\n",
              "    }\n",
              "\n",
              "    .dataframe tbody tr th {\n",
              "        vertical-align: top;\n",
              "    }\n",
              "\n",
              "    .dataframe thead th {\n",
              "        text-align: right;\n",
              "    }\n",
              "</style>\n",
              "<table border=\"1\" class=\"dataframe\">\n",
              "  <thead>\n",
              "    <tr style=\"text-align: right;\">\n",
              "      <th>project_id</th>\n",
              "      <th>44</th>\n",
              "      <th>156</th>\n",
              "      <th>228</th>\n",
              "      <th>234</th>\n",
              "      <th>235</th>\n",
              "      <th>253</th>\n",
              "      <th>287</th>\n",
              "      <th>291</th>\n",
              "      <th>314</th>\n",
              "      <th>459</th>\n",
              "      <th>...</th>\n",
              "      <th>9420</th>\n",
              "      <th>9422</th>\n",
              "      <th>9424</th>\n",
              "      <th>9446</th>\n",
              "      <th>9471</th>\n",
              "      <th>9478</th>\n",
              "      <th>9483</th>\n",
              "      <th>9484</th>\n",
              "      <th>9491</th>\n",
              "      <th>9493</th>\n",
              "    </tr>\n",
              "    <tr>\n",
              "      <th>userCode</th>\n",
              "      <th></th>\n",
              "      <th></th>\n",
              "      <th></th>\n",
              "      <th></th>\n",
              "      <th></th>\n",
              "      <th></th>\n",
              "      <th></th>\n",
              "      <th></th>\n",
              "      <th></th>\n",
              "      <th></th>\n",
              "      <th></th>\n",
              "      <th></th>\n",
              "      <th></th>\n",
              "      <th></th>\n",
              "      <th></th>\n",
              "      <th></th>\n",
              "      <th></th>\n",
              "      <th></th>\n",
              "      <th></th>\n",
              "      <th></th>\n",
              "      <th></th>\n",
              "    </tr>\n",
              "  </thead>\n",
              "  <tbody>\n",
              "    <tr>\n",
              "      <th>0066d2b6-9b4f-db2c-39be-f24251e4ca9f</th>\n",
              "      <td>0</td>\n",
              "      <td>0</td>\n",
              "      <td>0</td>\n",
              "      <td>0</td>\n",
              "      <td>0</td>\n",
              "      <td>0</td>\n",
              "      <td>0</td>\n",
              "      <td>0</td>\n",
              "      <td>0</td>\n",
              "      <td>0</td>\n",
              "      <td>...</td>\n",
              "      <td>0</td>\n",
              "      <td>0</td>\n",
              "      <td>0</td>\n",
              "      <td>0</td>\n",
              "      <td>0</td>\n",
              "      <td>0</td>\n",
              "      <td>0</td>\n",
              "      <td>0</td>\n",
              "      <td>0</td>\n",
              "      <td>0</td>\n",
              "    </tr>\n",
              "    <tr>\n",
              "      <th>008cb7e4-ed2c-9765-20cb-715cbfd3f920</th>\n",
              "      <td>0</td>\n",
              "      <td>0</td>\n",
              "      <td>0</td>\n",
              "      <td>0</td>\n",
              "      <td>0</td>\n",
              "      <td>0</td>\n",
              "      <td>0</td>\n",
              "      <td>0</td>\n",
              "      <td>0</td>\n",
              "      <td>0</td>\n",
              "      <td>...</td>\n",
              "      <td>0</td>\n",
              "      <td>0</td>\n",
              "      <td>0</td>\n",
              "      <td>0</td>\n",
              "      <td>0</td>\n",
              "      <td>0</td>\n",
              "      <td>0</td>\n",
              "      <td>0</td>\n",
              "      <td>0</td>\n",
              "      <td>0</td>\n",
              "    </tr>\n",
              "    <tr>\n",
              "      <th>00d84457-06b6-d1b6-2292-a661e83def6e</th>\n",
              "      <td>0</td>\n",
              "      <td>0</td>\n",
              "      <td>0</td>\n",
              "      <td>0</td>\n",
              "      <td>0</td>\n",
              "      <td>0</td>\n",
              "      <td>0</td>\n",
              "      <td>0</td>\n",
              "      <td>0</td>\n",
              "      <td>0</td>\n",
              "      <td>...</td>\n",
              "      <td>0</td>\n",
              "      <td>0</td>\n",
              "      <td>0</td>\n",
              "      <td>0</td>\n",
              "      <td>0</td>\n",
              "      <td>0</td>\n",
              "      <td>0</td>\n",
              "      <td>0</td>\n",
              "      <td>0</td>\n",
              "      <td>0</td>\n",
              "    </tr>\n",
              "    <tr>\n",
              "      <th>00faf503-f097-fda5-4c2a-02c2cb3be468</th>\n",
              "      <td>0</td>\n",
              "      <td>0</td>\n",
              "      <td>0</td>\n",
              "      <td>0</td>\n",
              "      <td>0</td>\n",
              "      <td>0</td>\n",
              "      <td>0</td>\n",
              "      <td>0</td>\n",
              "      <td>0</td>\n",
              "      <td>0</td>\n",
              "      <td>...</td>\n",
              "      <td>0</td>\n",
              "      <td>0</td>\n",
              "      <td>0</td>\n",
              "      <td>0</td>\n",
              "      <td>0</td>\n",
              "      <td>0</td>\n",
              "      <td>0</td>\n",
              "      <td>0</td>\n",
              "      <td>0</td>\n",
              "      <td>0</td>\n",
              "    </tr>\n",
              "    <tr>\n",
              "      <th>01609e98-4aa1-40a6-cb62-5cfa8478f7e4</th>\n",
              "      <td>0</td>\n",
              "      <td>0</td>\n",
              "      <td>0</td>\n",
              "      <td>0</td>\n",
              "      <td>0</td>\n",
              "      <td>0</td>\n",
              "      <td>0</td>\n",
              "      <td>0</td>\n",
              "      <td>0</td>\n",
              "      <td>0</td>\n",
              "      <td>...</td>\n",
              "      <td>0</td>\n",
              "      <td>0</td>\n",
              "      <td>0</td>\n",
              "      <td>0</td>\n",
              "      <td>0</td>\n",
              "      <td>0</td>\n",
              "      <td>0</td>\n",
              "      <td>0</td>\n",
              "      <td>0</td>\n",
              "      <td>0</td>\n",
              "    </tr>\n",
              "  </tbody>\n",
              "</table>\n",
              "<p>5 rows × 1190 columns</p>\n",
              "</div>"
            ],
            "text/plain": [
              "project_id                            44    156   228   234   235   253   \\\n",
              "userCode                                                                   \n",
              "0066d2b6-9b4f-db2c-39be-f24251e4ca9f     0     0     0     0     0     0   \n",
              "008cb7e4-ed2c-9765-20cb-715cbfd3f920     0     0     0     0     0     0   \n",
              "00d84457-06b6-d1b6-2292-a661e83def6e     0     0     0     0     0     0   \n",
              "00faf503-f097-fda5-4c2a-02c2cb3be468     0     0     0     0     0     0   \n",
              "01609e98-4aa1-40a6-cb62-5cfa8478f7e4     0     0     0     0     0     0   \n",
              "\n",
              "project_id                            287   291   314   459   ...   9420  \\\n",
              "userCode                                                      ...          \n",
              "0066d2b6-9b4f-db2c-39be-f24251e4ca9f     0     0     0     0  ...      0   \n",
              "008cb7e4-ed2c-9765-20cb-715cbfd3f920     0     0     0     0  ...      0   \n",
              "00d84457-06b6-d1b6-2292-a661e83def6e     0     0     0     0  ...      0   \n",
              "00faf503-f097-fda5-4c2a-02c2cb3be468     0     0     0     0  ...      0   \n",
              "01609e98-4aa1-40a6-cb62-5cfa8478f7e4     0     0     0     0  ...      0   \n",
              "\n",
              "project_id                            9422  9424  9446  9471  9478  9483  \\\n",
              "userCode                                                                   \n",
              "0066d2b6-9b4f-db2c-39be-f24251e4ca9f     0     0     0     0     0     0   \n",
              "008cb7e4-ed2c-9765-20cb-715cbfd3f920     0     0     0     0     0     0   \n",
              "00d84457-06b6-d1b6-2292-a661e83def6e     0     0     0     0     0     0   \n",
              "00faf503-f097-fda5-4c2a-02c2cb3be468     0     0     0     0     0     0   \n",
              "01609e98-4aa1-40a6-cb62-5cfa8478f7e4     0     0     0     0     0     0   \n",
              "\n",
              "project_id                            9484  9491  9493  \n",
              "userCode                                                \n",
              "0066d2b6-9b4f-db2c-39be-f24251e4ca9f     0     0     0  \n",
              "008cb7e4-ed2c-9765-20cb-715cbfd3f920     0     0     0  \n",
              "00d84457-06b6-d1b6-2292-a661e83def6e     0     0     0  \n",
              "00faf503-f097-fda5-4c2a-02c2cb3be468     0     0     0  \n",
              "01609e98-4aa1-40a6-cb62-5cfa8478f7e4     0     0     0  \n",
              "\n",
              "[5 rows x 1190 columns]"
            ]
          },
          "metadata": {
            "tags": []
          },
          "execution_count": 19
        }
      ]
    },
    {
      "metadata": {
        "id": "wLWoMR0qBAem",
        "colab_type": "text"
      },
      "cell_type": "markdown",
      "source": [
        "<details>\n",
        "    <summary>SOLUTION HERE!</summary>\n",
        "  <pre>\n",
        "<code>\n",
        "freq_user_seen_proj_test = pd.crosstab(userLog_test['userCode'], userLog_test['project_id'], rownames=['userCode'], colnames=['project_id'])\n",
        "freq_user_seen_proj_test_np = np.array(freq_user_seen_proj_test.values)\n",
        "print(freq_user_seen_proj_test_np.shape)\n",
        "\n",
        "freq_user_seen_proj_test.head()\n",
        "</code>\n",
        "</pre>\n",
        "</details>\n",
        "\n"
      ]
    },
    {
      "metadata": {
        "id": "mnFbvtoizeWT",
        "colab_type": "text"
      },
      "cell_type": "markdown",
      "source": [
        "\n",
        "## TODO#13:  Normalize the data\n",
        "\n",
        "In machine learning, we usually normalize the data before putting it into a machine learning model. If we do not normalize the data, the model usually latches onto the feature with highest variance.\n",
        "\n",
        "For example, consider the following projects:\n",
        "\n",
        "\n",
        "```\n",
        "           lat  lon   price\n",
        "Project A: 13.0 100.2 4000000\n",
        "Project B: 14.0 105.3 4500000\n",
        "Project C: 13.1 100.1 5000000\n",
        "```\n",
        "\n",
        "If we compute the Euclidean distance between each projects. Project A will be closer to project B than project C, even though project A and C lies within the same region.\n",
        "\n",
        "Thus, we usually scale (or in machine learning jargon, normalize) each input feature to be in the same range.\n",
        "\n",
        "We can either do **min-max scaling** (scale the min to 0 and max to 1), **standardization** (scale the input to have 0 mean and std of 1), etc, depending on the type of data. We use min-max scaling for features we believe have a limited range, and vice versa.\n",
        "\n",
        "Create a function *normalize(x)* that takes in a numpy array *x* and normalize it to 0 and 1. You may find [Preprocessing data](https://scikit-learn.org/stable/modules/preprocessing.html?fbclid=IwAR3jCj2F4T1qZqgqwM-rYSlLC_WymKPa4tF4DYk5AfcwlIL0cyiIdi4VMpA#preprocessing-scaler) helpful.\n",
        "\n",
        "Note that when we have training and test data, we have to normalize by the statistics in the training data, and then apply those statistics to the test data as well. However, for this particular lab we do not have to scale the features from the test data."
      ]
    },
    {
      "metadata": {
        "id": "gqsJzM8UpYnH",
        "colab_type": "code",
        "colab": {}
      },
      "cell_type": "code",
      "source": [
        "def normalize(x):\n",
        "  ################################################################################\n",
        "  #                            WRITE YOUR CODE BELOW                             #\n",
        "  ################################################################################\n",
        "  norm_lizer = preprocessing.MinMaxScaler().fit(x)\n",
        "  return norm_lizer\n"
      ],
      "execution_count": 0,
      "outputs": []
    },
    {
      "metadata": {
        "id": "qYwDLpOQsSpo",
        "colab_type": "code",
        "outputId": "aae8c269-83eb-41ec-bfe5-2d625ba982a5",
        "colab": {
          "base_uri": "https://localhost:8080/",
          "height": 68
        }
      },
      "cell_type": "code",
      "source": [
        "# Test the function here.\n",
        "# where each row is one data entry\n",
        "# each column represents each feature value\n",
        "x = np.array([[1.0,2.0,3.0,5.0],[4.0,5.0,6.0,5.0],[3.0,1.0,9.0,5.0]])\n",
        "norm_lizer = normalize(x)\n",
        "print(norm_lizer.transform(x))\n",
        "# You should get the following\n",
        "#[[0.         0.25       0.         0.        ]\n",
        "# [1.         1.         0.5        0.        ]\n",
        "# [0.66666667 0.         1.         0.        ]]"
      ],
      "execution_count": 21,
      "outputs": [
        {
          "output_type": "stream",
          "text": [
            "[[0.         0.25       0.         0.        ]\n",
            " [1.         1.         0.5        0.        ]\n",
            " [0.66666667 0.         1.         0.        ]]\n"
          ],
          "name": "stdout"
        }
      ]
    },
    {
      "metadata": {
        "id": "2gtI7xfM1joC",
        "colab_type": "text"
      },
      "cell_type": "markdown",
      "source": [
        "## Recommendation system using k-Nearest Neighbors\n",
        "\n",
        "We will use k-NN to create a recommendation systems. Given a new user, find the most similar user, and recommend that new user with the projects the most similar user visted.\n",
        "\n",
        "To do this, we have to answer the two questions, **how do we define a user, and how do we quantify similarity between users**.\n",
        "\n",
        "We can answer the first question by defining features that represents each user, and we can answer the second question by defining distance metrics to be used with k-NN.\n",
        "\n",
        "For the following part of this lab, we will define a user using the average of properties of the project he/she visted.\n",
        "\n",
        "\n",
        "\n"
      ]
    },
    {
      "metadata": {
        "id": "IZ7WsEehtKa-",
        "colab_type": "text"
      },
      "cell_type": "markdown",
      "source": [
        "## Recommendation using user features\n",
        "\n",
        "### TODO#14:  user feature creation\n",
        "\n",
        "Write a function that takes\n",
        "\n",
        "1) UserLog_data_frame: the dataFrame containing the userLog from the training set\n",
        "\n",
        "2) user_code: the user ids to create the feature for ( e.g. freq_user_seen_proj_train.index )\n",
        "\n",
        "and returns\n",
        "\n",
        "np_data: a np array that each row corresponds to each user_code, with the columns containing the average of the features calculated from the project visted\n",
        "\n",
        "The features include\n",
        "\n",
        "\n",
        "*   Latitude\n",
        "*   Longtitude\n",
        "*   Starting Price\n",
        "*   Facilities"
      ]
    },
    {
      "metadata": {
        "id": "Hm2cLZ9gxoR3",
        "colab_type": "code",
        "colab": {}
      },
      "cell_type": "code",
      "source": [
        "def feature_sel(userLog_data_frame,user_code):\n",
        "  np_data = np.zeros((user_code.shape[0], 3 + project_facility_table.shape[1]))\n",
        "\n",
        "  for i in np.arange(user_code.shape[0]):\n",
        "    user_sel = user_code[i]\n",
        "    if np.sum(userLog_data_frame['userCode'].isin([user_sel])) == 0:\n",
        "      print(i,' : ', user_sel)\n",
        "    userLog_dataF_sel = userLog_data_frame.loc[userLog_data_frame['userCode'] == user_sel]\n",
        "    proj_id_sel = userLog_dataF_sel['project_id'].values\n",
        "    input_np_data = np.zeros((proj_id_sel.shape[0],3 + project_facility_table.shape[1]))\n",
        "    for j in np.arange(proj_id_sel.shape[0]):\n",
        "      user_proj_far = project_facility_table.loc[project_facility_table.index == proj_id_sel[j]]\n",
        "      user_proj_main = project_main.loc[project_main['project_id'] == proj_id_sel[j]]\n",
        "      input_np_data[j,:] = np.hstack(( np.array(user_proj_main[[\"lat\",\"lon\",\"starting_price\"]].values) ,  np.array(user_proj_far.values) ))\n",
        "  ################################################################################\n",
        "  #                            WRITE YOUR CODE BELOW                             #\n",
        "  ################################################################################\n",
        "    # Compute the mean in input_np_data and put it in np_data, be careful with the axis\n",
        "    np_data[i,:] = np.mean(input_np_data,axis=0)\n",
        "  return np_data;"
      ],
      "execution_count": 0,
      "outputs": []
    },
    {
      "metadata": {
        "id": "KZBqT8Qm07mf",
        "colab_type": "code",
        "outputId": "1c88764a-7217-4d00-f4f6-f619f890adbc",
        "colab": {
          "base_uri": "https://localhost:8080/",
          "height": 535
        }
      },
      "cell_type": "code",
      "source": [
        "# Test the function on a small subset of user_code first\n",
        "project_main_np_data_tmp = feature_sel(userLog_train,freq_user_seen_proj_train.index[:10])\n",
        "print(project_main_np_data_tmp)"
      ],
      "execution_count": 23,
      "outputs": [
        {
          "output_type": "stream",
          "text": [
            "[[1.37550369e+01 1.00566334e+02 3.93500000e+06 1.00000000e+00\n",
            "  3.75000000e-01 3.75000000e-01 1.00000000e+00 1.00000000e+00\n",
            "  2.50000000e-01]\n",
            " [1.36507804e+01 1.00640633e+02 3.41500000e+06 1.00000000e+00\n",
            "  0.00000000e+00 1.00000000e+00 5.00000000e-01 1.00000000e+00\n",
            "  0.00000000e+00]\n",
            " [1.37862810e+01 1.00746338e+02 3.94700000e+06 7.00000000e-01\n",
            "  1.00000000e+00 1.00000000e+00 1.00000000e+00 1.00000000e+00\n",
            "  0.00000000e+00]\n",
            " [1.37158766e+01 1.00472114e+02 1.75000000e+06 1.00000000e+00\n",
            "  0.00000000e+00 1.00000000e+00 1.00000000e+00 1.00000000e+00\n",
            "  0.00000000e+00]\n",
            " [1.37690403e+01 1.00716885e+02 4.99600000e+06 6.00000000e-01\n",
            "  1.00000000e+00 1.00000000e+00 1.00000000e+00 1.00000000e+00\n",
            "  0.00000000e+00]\n",
            " [1.38682246e+01 1.00853397e+02 2.56333333e+06 0.00000000e+00\n",
            "  3.33333333e-01 6.66666667e-01 6.66666667e-01 1.00000000e+00\n",
            "  0.00000000e+00]\n",
            " [1.38518590e+01 1.00656169e+02 9.00000000e+06 1.00000000e+00\n",
            "  1.00000000e+00 1.00000000e+00 1.00000000e+00 1.00000000e+00\n",
            "  0.00000000e+00]\n",
            " [1.37690228e+01 1.00716918e+02 5.00000000e+06 1.00000000e+00\n",
            "  1.00000000e+00 1.00000000e+00 1.00000000e+00 1.00000000e+00\n",
            "  0.00000000e+00]\n",
            " [1.38970560e+01 1.00660815e+02 8.30000000e+06 1.00000000e+00\n",
            "  1.00000000e+00 1.00000000e+00 1.00000000e+00 1.00000000e+00\n",
            "  0.00000000e+00]\n",
            " [1.37704314e+01 1.00791599e+02 4.04333333e+06 8.33333333e-01\n",
            "  5.00000000e-01 1.00000000e+00 5.00000000e-01 1.00000000e+00\n",
            "  6.66666667e-01]]\n"
          ],
          "name": "stdout"
        }
      ]
    },
    {
      "metadata": {
        "id": "NYduVdTzNQwB",
        "colab_type": "text"
      },
      "cell_type": "markdown",
      "source": [
        "<details>\n",
        "    <summary>SOLUTION HERE!</summary>\n",
        "  <pre>\n",
        "<code>\n",
        "def feature_sel(userLog_data_frame,user_code):\n",
        "  np_data = np.zeros((user_code.shape[0], 3 + project_facility_table.shape[1]))\n",
        "  \n",
        "  for i in np.arange(user_code.shape[0]):\n",
        "    user_sel = user_code[i]\n",
        "    #print(user_sel)\n",
        "    userLog_dataF_sel = userLog_data_frame.loc[userLog_data_frame['userCode'] == user_sel]\n",
        "    proj_id_sel = userLog_dataF_sel['project_id'].values\n",
        "    input_np_data = np.zeros((proj_id_sel.shape[0],3 + project_facility_table.shape[1]))\n",
        "    # print(proj_id_sel)\n",
        "    for j in np.arange(proj_id_sel.shape[0]):\n",
        "      user_proj_far = project_facility_table.loc[project_facility_table.index == proj_id_sel[j]]\n",
        "      user_proj_main = project_main.loc[project_main['project_id'] == proj_id_sel[j]]\n",
        "      input_np_data[j,:] = np.hstack(( np.array(user_proj_main[[\"lat\",\"lon\",\"starting_price\"]].values) ,  np.array(user_proj_far.values) ))\n",
        "    np_data[i,:] = np.mean(input_np_data,axis=0)\n",
        "  return np_data;\n",
        "</code>\n",
        "</pre>\n",
        "</details>\n",
        "\n"
      ]
    },
    {
      "metadata": {
        "id": "j6kIcvT6q960",
        "colab_type": "text"
      },
      "cell_type": "markdown",
      "source": [
        "### TODO#15: create the training features\n",
        "\n",
        "Use *feature_sel()* and *normalize()* from above to create training features. This does take a while to run."
      ]
    },
    {
      "metadata": {
        "id": "6xJZ6wOTw56N",
        "colab_type": "code",
        "outputId": "5db015f9-bebe-45f2-eccc-a11f63dd7e23",
        "colab": {
          "base_uri": "https://localhost:8080/",
          "height": 34
        }
      },
      "cell_type": "code",
      "source": [
        "################################################################################\n",
        "#                            WRITE YOUR CODE BELOW                             #\n",
        "################################################################################\n",
        "project_main_np_data_train =feature_sel(userLog_train,freq_user_seen_proj_train.index)\n",
        "norm_er_proj_main = normalize(project_main_np_data_train)\n",
        "project_main_np_data_nor = norm_er_proj_main.transform(project_main_np_data_train)\n",
        "print(project_main_np_data_nor.shape)"
      ],
      "execution_count": 24,
      "outputs": [
        {
          "output_type": "stream",
          "text": [
            "(2338, 9)\n"
          ],
          "name": "stdout"
        }
      ]
    },
    {
      "metadata": {
        "id": "Mvgs8b2kFKH7",
        "colab_type": "text"
      },
      "cell_type": "markdown",
      "source": [
        "<details>\n",
        "    <summary>SOLUTION HERE!</summary>\n",
        "  <pre>\n",
        "<code>\n",
        "project_main_np_data_nor = feature_sel(userLog_train,freq_user_seen_proj_train.index)\n",
        "project_main_np_data_nor = normalize(project_main_np_data_nor)\n",
        "print(project_main_np_data_nor.shape)\n",
        "</code>\n",
        "</pre>\n",
        "</details>\n",
        "\n"
      ]
    },
    {
      "metadata": {
        "id": "uAVmaQsQ8UFi",
        "colab_type": "text"
      },
      "cell_type": "markdown",
      "source": [
        "###TODO#16: perform nearest neighbors\n",
        "Create a k-nn model using sk-learn. See [Nearest Neighbors example](https://scikit-learn.org/stable/modules/neighbors.html) for how to use it.\n",
        "\n",
        "Use *n_neighbors = 5* and *algorithm = 'ball_tree'* for the k-nn setting. Ball tree is one of the methods to make k-NN faster.\n",
        "\n",
        "Calculate the nearest neighbors of the data in the training set."
      ]
    },
    {
      "metadata": {
        "id": "23sj6QnT22aF",
        "colab_type": "code",
        "colab": {}
      },
      "cell_type": "code",
      "source": [
        "################################################################################\n",
        "#                            WRITE YOUR CODE BELOW                             #\n",
        "################################################################################\n",
        "nbrs_proj = NearestNeighbors(n_neighbors=5, algorithm='ball_tree').fit(project_main_np_data_nor)\n",
        "distances, indices = nbrs_proj.kneighbors(project_main_np_data_nor)"
      ],
      "execution_count": 0,
      "outputs": []
    },
    {
      "metadata": {
        "id": "FCVkPdw6-EU8",
        "colab_type": "text"
      },
      "cell_type": "markdown",
      "source": [
        "<details>\n",
        "    <summary>SOLUTION HERE!</summary>\n",
        "  <pre>\n",
        "<code>\n",
        "nbrs_proj = NearestNeighbors(n_neighbors=5, algorithm='ball_tree').fit(project_main_np_data_nor)\n",
        "distances, indices = nbrs_proj.kneighbors(project_main_np_data_nor)\n",
        "</code>\n",
        "</pre>\n",
        "</details>"
      ]
    },
    {
      "metadata": {
        "id": "Cq6USarFgu85",
        "colab_type": "text"
      },
      "cell_type": "markdown",
      "source": [
        "## Evaluation \n",
        "\n",
        "We will be using [Mean Average Precision](http://sdsawtelle.github.io/blog/output/mean-average-precision-MAP-for-recommender-systems.html?fbclid=IwAR2UOfz0a_2Ig60aQ2HszgZq63nch96Hbzod2q54kDZRZT_mPzdsxJXyPj0) to evaluate our performance. \n",
        "\n",
        "The task is to recommend **projects that the user have not seen before.** Thus, we need to prune out the projects that the users had already seen in the training set.\n",
        "\n",
        "To do so, we need to create a recommendation list from our k-NN results. We will use the following functions:\n",
        "\n",
        "1.   proj_seen: create a dictionary of projects viewed by user\n",
        "    *   data_freq_seen (input): df of frequence of views by user in our case freq_user_seen_proj_train or freq_user_seen_proj_test\n",
        "    *   output: dictionary of projects viewed by user. {userid: list of project ids}\n",
        "2.   index_to_usercode: create a dictionary of usercode from nearest neighbor indices\n",
        "    *   nn_index (input): output from k-NN (indices)\n",
        "    *   user_code_list (input): list of user id, i.e. freq_user_seen_proj_train.index\n",
        "    *   output :  dict of user id to nearest user ids. {userid: list of userids}\n",
        "3.   proj_recommend: create the recommendation list\n",
        "    *   nn_dict (input): output of index_to_usercode\n",
        "    *   dict_seen_train (input): output of proj_seen from freq_user_seen_proj_train (training set)\n",
        "    *   output: dict of recommended list for each user (contains old entries)\n",
        "4.   proj_repeat: prune out the projects that the users had already seen\n",
        "    *   dict_train (input): dict from training (output from proj_seen) \n",
        "    *   dict_test (input): dict from testing (output from proj_seen or proj_recommend)\n",
        "    *   output: dict_test that has the projects in dict_train removed\n",
        "5.   mean_average_precision: find MAP@k\n",
        "    *   dict_recommend (input): dict of recommendations (only new items)\n",
        "    *   dict_test (input): dict of ground truths (only new items)\n",
        "    *   k (input): parameter for MAP@k\n",
        "    *   output: MAP@k value\n"
      ]
    },
    {
      "metadata": {
        "id": "j7owX01XfTYW",
        "colab_type": "code",
        "colab": {}
      },
      "cell_type": "code",
      "source": [
        "def proj_recommend(nn_dict,dict_seen_train):\n",
        "  nn_proj = {}\n",
        "  for user_code_nn in nn_dict:\n",
        "    list_proj = []\n",
        "    for user_in_list in nn_dict[user_code_nn]:\n",
        "      list_proj = list_proj + list(dict_seen_train[user_in_list])\n",
        "    nn_proj[user_code_nn] = list_proj\n",
        "  return nn_proj\n",
        "\n",
        "####################################################################\n",
        "\n",
        "def index_to_usercode(nn_index,user_code_list,user_rec):\n",
        "  nn_dict = {}\n",
        "  for i in np.arange(nn_index.shape[0]):\n",
        "    nn_list = []\n",
        "    nn_name = user_rec[i]\n",
        "    for j in np.arange(nn_index.shape[1]):\n",
        "      ind = nn_index[i][j]\n",
        "      nn_list.append(user_code_list[ind])\n",
        "    nn_dict[nn_name] = nn_list\n",
        "  return nn_dict\n",
        "\n",
        "####################################################################\n",
        "\n",
        "def proj_repeat_out(dict_train,dict_test):\n",
        "  dict_out = {} \n",
        "  for user_code in dict_test:\n",
        "    list_proj_train = np.array(dict_train[user_code])\n",
        "    list_proj_test = np.array(dict_test[user_code])\n",
        "    bool_list = np.isin(list_proj_test ,list_proj_train)\n",
        "    dict_out[user_code] = list(list_proj_test[~bool_list])\n",
        "  return dict_out\n",
        "\n",
        "####################################################################\n",
        "\n",
        "def proj_seen(data_freq_seen):\n",
        "  all_colums = data_freq_seen.columns\n",
        "  all_index = data_freq_seen.index\n",
        "  output_list = {}\n",
        "  for index in np.arange(len(all_index)):\n",
        "    np_array = np.array(data_freq_seen.iloc[index])\n",
        "    output_list[all_index[index]] = all_colums[np_array > 0].values\n",
        "  return output_list\n",
        "\n",
        "####################################################################\n",
        "\n",
        "def mean_average_precision(dict_recomment,dict_test,k):\n",
        "  list_map_at_k = []\n",
        "  for user_code in dict_test:\n",
        "    if user_code in dict_recomment:\n",
        "      list_map_at_k_user_i = []\n",
        "      list_proj_rec = np.array(dict_recomment[user_code])\n",
        "      list_proj_test = np.array(dict_test[user_code])\n",
        "\n",
        "      ##########\n",
        "\n",
        "      for i in np.arange(k):\n",
        "        if(i == len(list_proj_rec) or len(list_proj_test) == 0 or len(list_proj_rec) == 0):\n",
        "          break\n",
        "        bool_list = np.isin(list_proj_rec[0:i+1],list_proj_test)\n",
        "        list_map_at_k_user_i.append(np.sum(bool_list)/(i+1))\n",
        "\n",
        "      ##########\n",
        "      # if fail   \n",
        "      if len(list_map_at_k_user_i) == 0:\n",
        "        if len(list_proj_test) != 0:\n",
        "          list_map_at_k_user_i.append(0)\n",
        "\n",
        "\n",
        "      if len(list_map_at_k_user_i) != 0:\n",
        "        number = np.mean(np.array(list_map_at_k_user_i))\n",
        "        list_map_at_k.append(number)\n",
        "\n",
        "  return np.mean(np.array(list_map_at_k))"
      ],
      "execution_count": 0,
      "outputs": []
    },
    {
      "metadata": {
        "id": "F946y6f-dYw1",
        "colab_type": "code",
        "outputId": "791d7dad-6eda-474e-892e-8efbbf4ce243",
        "colab": {
          "base_uri": "https://localhost:8080/",
          "height": 34
        }
      },
      "cell_type": "code",
      "source": [
        "# Create the groundtruth and the recommendation list\n",
        "\n",
        "dict_user_test = proj_seen(freq_user_seen_proj_test)\n",
        "dict_user_train = proj_seen(freq_user_seen_proj_train)\n",
        "dict_user_test = proj_repeat_out(dict_user_train,dict_user_test)\n",
        "\n",
        "nn_dict_rec = index_to_usercode(indices,freq_user_seen_proj_train.index,freq_user_seen_proj_train.index)\n",
        "\n",
        "dict_user_rec = proj_recommend(nn_dict_rec,dict_user_train)\n",
        "dict_user_rec = proj_repeat_out(dict_user_train,dict_user_rec)\n",
        "\n",
        "#################################################################\n",
        "\n",
        "k = 3\n",
        "map_k = mean_average_precision(dict_user_rec,dict_user_test,k)\n",
        "print('Your MAP@k result : ', map_k)"
      ],
      "execution_count": 27,
      "outputs": [
        {
          "output_type": "stream",
          "text": [
            "Your MAP@k result :  0.0177522349936143\n"
          ],
          "name": "stdout"
        }
      ]
    },
    {
      "metadata": {
        "id": "dHaf9eC3IatW",
        "colab_type": "text"
      },
      "cell_type": "markdown",
      "source": [
        "You should get 0.027203065134099615."
      ]
    },
    {
      "metadata": {
        "id": "X9387YRrAwBX",
        "colab_type": "text"
      },
      "cell_type": "markdown",
      "source": [
        "## Recommendation using views (collaborative filtering)\n",
        "\n",
        "### TODO#14:  number of views matrix creation\n",
        "\n",
        "Create a np matrix that contains the view for each user-project pair, normalize,a nd then create a k-nn recommender"
      ]
    },
    {
      "metadata": {
        "id": "Bfv4ulti29zQ",
        "colab_type": "code",
        "outputId": "4d1174ec-ffe0-4f3e-8b4e-9fd37696b5fb",
        "colab": {
          "base_uri": "https://localhost:8080/",
          "height": 71
        }
      },
      "cell_type": "code",
      "source": [
        "################################################################################\n",
        "#                            WRITE YOUR CODE BELOW                             #\n",
        "################################################################################\n",
        "norm_er_freq = normalize(freq_user_seen_proj_train_np)\n",
        "freq_user_seen_proj_train_nor = norm_er_freq.transform(freq_user_seen_proj_train_np)\n",
        "nbrs_user_numberical = NearestNeighbors(n_neighbors=5, algorithm='ball_tree').fit(freq_user_seen_proj_train_nor) \n",
        "distances, indices = nbrs_user_numberical.kneighbors(freq_user_seen_proj_train_nor)"
      ],
      "execution_count": 28,
      "outputs": [
        {
          "output_type": "stream",
          "text": [
            "/usr/local/lib/python3.6/dist-packages/sklearn/utils/validation.py:595: DataConversionWarning: Data with input dtype int64 was converted to float64 by MinMaxScaler.\n",
            "  warnings.warn(msg, DataConversionWarning)\n"
          ],
          "name": "stderr"
        }
      ]
    },
    {
      "metadata": {
        "id": "DWaDNwNgH3jh",
        "colab_type": "text"
      },
      "cell_type": "markdown",
      "source": [
        "<details>\n",
        "    <summary>SOLUTION HERE!</summary>\n",
        "  <pre>\n",
        "  <code>\n",
        "  freq_user_seen_proj_train_nor = normalize(freq_user_seen_proj_train_np) \n",
        "  nbrs_user_numberical = NearestNeighbors(n_neighbors=5, algorithm='ball_tree').fit(freq_user_seen_proj_train_nor) \n",
        "  distances, indices = nbrs_user_numberical.kneighbors(freq_user_seen_proj_train_nor)\n",
        "  </code>\n",
        "  </pre>\n",
        "</details>\n",
        "\n",
        "\n"
      ]
    },
    {
      "metadata": {
        "id": "KsTCpH4qBhQN",
        "colab_type": "text"
      },
      "cell_type": "markdown",
      "source": [
        "Evaluate the recommendation just like the case for user feature."
      ]
    },
    {
      "metadata": {
        "id": "XKQrIi5R_Rsv",
        "colab_type": "code",
        "outputId": "77b38765-c286-43a9-cf94-5bcdabd6cb77",
        "colab": {
          "base_uri": "https://localhost:8080/",
          "height": 34
        }
      },
      "cell_type": "code",
      "source": [
        "################################################################################\n",
        "#                            WRITE YOUR CODE BELOW                             #\n",
        "################################################################################\n",
        "dict_user_test = proj_seen(freq_user_seen_proj_test)\n",
        "dict_user_train = proj_seen(freq_user_seen_proj_train)\n",
        "dict_user_test = proj_repeat_out(dict_user_train,dict_user_test)\n",
        "\n",
        "nn_dict_rec = index_to_usercode(indices,freq_user_seen_proj_train.index,freq_user_seen_proj_train.index)\n",
        "\n",
        "dict_user_rec = proj_recommend(nn_dict_rec,dict_user_train)\n",
        "dict_user_rec = proj_repeat_out(dict_user_train,dict_user_rec)\n",
        "\n",
        "#################################################################\n",
        "\n",
        "k = 3\n",
        "map_k = mean_average_precision(dict_user_rec,dict_user_test,k)\n",
        "print('Your MAP@k result : ', map_k)"
      ],
      "execution_count": 29,
      "outputs": [
        {
          "output_type": "stream",
          "text": [
            "Your MAP@k result :  0.028544061302681997\n"
          ],
          "name": "stdout"
        }
      ]
    },
    {
      "metadata": {
        "id": "JSW_j7sIzD_c",
        "colab_type": "text"
      },
      "cell_type": "markdown",
      "source": [
        "### TODO#15:  binary view matrix creation\n",
        "\n",
        "There are many ways to create user-project view matrix. Previously, we use the amount of views. However, we can also use a binary representation that signifies whether a user had view a project or not.\n",
        "\n",
        "Repeat the previous steps to create a k-NN recommender. Be sure to use **Jaccard** distance which is better suited for binary features. For more information about Jaccard distance see [distance function](https://scikit-learn.org/stable/modules/generated/sklearn.neighbors.DistanceMetric.html#sklearn.neighbors.DistanceMetric)."
      ]
    },
    {
      "metadata": {
        "id": "TTg0OMUMtNoH",
        "colab_type": "code",
        "colab": {}
      },
      "cell_type": "code",
      "source": [
        "################################################################################\n",
        "#                            WRITE YOUR CODE BELOW                             #\n",
        "################################################################################\n",
        "nbrs_user = NearestNeighbors(n_neighbors= 5, algorithm='auto',metric='jaccard' ).fit(freq_user_seen_proj_train_np > 0 )\n",
        "distances, indices = nbrs_user.kneighbors(freq_user_seen_proj_train_np > 0)"
      ],
      "execution_count": 0,
      "outputs": []
    },
    {
      "metadata": {
        "id": "iynWysLLOpMc",
        "colab_type": "text"
      },
      "cell_type": "markdown",
      "source": [
        "<details>\n",
        "    <summary>SOLUTION HERE!</summary>\n",
        "  <pre>\n",
        "<code>\n",
        "nbrs_user = NearestNeighbors(n_neighbors= 5, algorithm='auto',metric='jaccard' ).fit(freq_user_seen_proj_train_np >= 1)\n",
        "distances, indices = nbrs_user.kneighbors(freq_user_seen_proj_train_np >= 1)\n",
        "</code>\n",
        "</pre>\n",
        "</details>\n",
        "\n",
        "\n"
      ]
    },
    {
      "metadata": {
        "id": "C_WaA-8d7RRs",
        "colab_type": "text"
      },
      "cell_type": "markdown",
      "source": [
        "Evaluate the recommendation just like the case for user feature."
      ]
    },
    {
      "metadata": {
        "id": "0seLsUCGID5z",
        "colab_type": "code",
        "outputId": "bc072a9f-7ada-4866-c941-3c6a7da8969f",
        "colab": {
          "base_uri": "https://localhost:8080/",
          "height": 34
        }
      },
      "cell_type": "code",
      "source": [
        "################################################################################\n",
        "#                            WRITE YOUR CODE BELOW                             #\n",
        "################################################################################\n",
        "dict_user_test = proj_seen(freq_user_seen_proj_test)\n",
        "dict_user_train = proj_seen(freq_user_seen_proj_train)\n",
        "dict_user_test = proj_repeat_out(dict_user_train,dict_user_test)\n",
        "\n",
        "nn_dict_rec = index_to_usercode(indices,freq_user_seen_proj_train.index,freq_user_seen_proj_train.index)\n",
        "\n",
        "dict_user_rec = proj_recommend(nn_dict_rec,dict_user_train)\n",
        "dict_user_rec = proj_repeat_out(dict_user_train,dict_user_rec)\n",
        "\n",
        "#################################################################\n",
        "\n",
        "k = 3\n",
        "map_k = mean_average_precision(dict_user_rec,dict_user_test,k)\n",
        "print('Your MAP@k result : ', map_k)"
      ],
      "execution_count": 31,
      "outputs": [
        {
          "output_type": "stream",
          "text": [
            "Your MAP@k result :  0.027203065134099615\n"
          ],
          "name": "stdout"
        }
      ]
    },
    {
      "metadata": {
        "id": "P1iOJeNhhc4L",
        "colab_type": "text"
      },
      "cell_type": "markdown",
      "source": [
        "You should get the following numbers for MAP@3\n",
        "\n",
        "**user-profile feature**                          0.0177522349936143\n",
        "\n",
        "**number of views matrix feature**    0.028544061302681997\n",
        "\n",
        "**binary view matrix feature**              0.027203065134099615\n",
        "\n"
      ]
    },
    {
      "metadata": {
        "id": "8V3rzUB0h5lD",
        "colab_type": "text"
      },
      "cell_type": "markdown",
      "source": [
        "---"
      ]
    },
    {
      "metadata": {
        "id": "-0HT42t2h7zK",
        "colab_type": "code",
        "colab": {}
      },
      "cell_type": "code",
      "source": [
        ""
      ],
      "execution_count": 0,
      "outputs": []
    },
    {
      "metadata": {
        "colab_type": "code",
        "id": "O1kSVn4jh8I0",
        "colab": {}
      },
      "cell_type": "code",
      "source": [
        "################################################################################\n",
        "#                            WRITE YOUR CODE BELOW                             #\n",
        "################################################################################\n",
        "project_main_np_data_train = feature_sel(userLog_train,freq_user_seen_proj_train.index)"
      ],
      "execution_count": 0,
      "outputs": []
    },
    {
      "metadata": {
        "colab_type": "text",
        "id": "OITRp_r_h8I4"
      },
      "cell_type": "markdown",
      "source": [
        "<details>\n",
        "    <summary>SOLUTION HERE!</summary>\n",
        "  <pre>\n",
        "<code>\n",
        "project_main_np_data_nor = feature_sel(userLog_train,freq_user_seen_proj_train.index)\n",
        "project_main_np_data_nor = normalize(project_main_np_data_nor)\n",
        "print(project_main_np_data_nor.shape)\n",
        "</code>\n",
        "</pre>\n",
        "</details>\n",
        "\n"
      ]
    },
    {
      "metadata": {
        "colab_type": "text",
        "id": "q90yY1Poh8I5"
      },
      "cell_type": "markdown",
      "source": [
        "###TODO#16: perform nearest neighbors\n",
        "Create a k-nn model using sk-learn. See [Nearest Neighbors example](https://scikit-learn.org/stable/modules/neighbors.html) for how to use it.\n",
        "\n",
        "Use *n_neighbors = 5* and *algorithm = 'ball_tree'* for the k-nn setting. Ball tree is one of the methods to make k-NN faster.\n",
        "\n",
        "Calculate the nearest neighbors of the data in the training set."
      ]
    },
    {
      "metadata": {
        "colab_type": "code",
        "id": "9SxdOkPqh8I5",
        "colab": {}
      },
      "cell_type": "code",
      "source": [
        "################################################################################\n",
        "#                            WRITE YOUR CODE BELOW                             #\n",
        "################################################################################\n",
        "nbrs_proj = NearestNeighbors(n_neighbors=5, algorithm='ball_tree').fit(project_main_np_data_train)\n",
        "distances, indices = nbrs_proj.kneighbors(project_main_np_data_train)"
      ],
      "execution_count": 0,
      "outputs": []
    },
    {
      "metadata": {
        "id": "Us7IuWutiUN5",
        "colab_type": "code",
        "outputId": "903d2655-6049-437e-cf1d-206d8e51f665",
        "colab": {
          "base_uri": "https://localhost:8080/",
          "height": 34
        }
      },
      "cell_type": "code",
      "source": [
        "dict_user_test = proj_seen(freq_user_seen_proj_test)\n",
        "dict_user_train = proj_seen(freq_user_seen_proj_train)\n",
        "dict_user_test = proj_repeat_out(dict_user_train,dict_user_test)\n",
        "\n",
        "nn_dict_rec = index_to_usercode(indices,freq_user_seen_proj_train.index,freq_user_seen_proj_train.index)\n",
        "\n",
        "dict_user_rec = proj_recommend(nn_dict_rec,dict_user_train)\n",
        "dict_user_rec = proj_repeat_out(dict_user_train,dict_user_rec)\n",
        "\n",
        "#################################################################\n",
        "\n",
        "k = 3\n",
        "map_k = mean_average_precision(dict_user_rec,dict_user_test,k)\n",
        "print('Your MAP@k result : ', map_k)"
      ],
      "execution_count": 34,
      "outputs": [
        {
          "output_type": "stream",
          "text": [
            "Your MAP@k result :  0.010089399744572158\n"
          ],
          "name": "stdout"
        }
      ]
    },
    {
      "metadata": {
        "id": "nWDXTFP8h9km",
        "colab_type": "text"
      },
      "cell_type": "markdown",
      "source": [
        "----\n",
        "#train test val split"
      ]
    },
    {
      "metadata": {
        "id": "rzPWTrcSjffC",
        "colab_type": "text"
      },
      "cell_type": "markdown",
      "source": [
        "เราจะเป็นว่า มี hyper parameter k ที่ในแต่ละโจทย์ตั้งออกมา เป็น 5 แต่ว่าเราไม่รู้ว่ามันเป็น hyper parameter ที่ดีที่สุดหรือไม่ แยก val และ test set เพื่อ หา"
      ]
    },
    {
      "metadata": {
        "id": "tdedQt6cZFKw",
        "colab_type": "code",
        "colab": {}
      },
      "cell_type": "code",
      "source": [
        "# from sklearn.model_selection import train_test_split"
      ],
      "execution_count": 0,
      "outputs": []
    },
    {
      "metadata": {
        "id": "9mPQxCsa_8I9",
        "colab_type": "code",
        "outputId": "569aa96d-dd69-4338-ad83-1d44b4d4011e",
        "colab": {
          "base_uri": "https://localhost:8080/",
          "height": 68
        }
      },
      "cell_type": "code",
      "source": [
        "from IPython.display import display\n",
        "\n",
        "userLog_freq_day = pd.crosstab(userLog['userCode'], [userLog['year'], userLog['month'], userLog['day']], rownames =['userCode'], colnames=['year','month','day'])\n",
        "\n",
        "#display(userLog_freq_day.head())\n",
        "\n",
        "userLog_last_month  = userLog.loc[userLog['month'] == 2]\n",
        "userLog_train = userLog_last_month.loc[ userLog_last_month['day'] < 15]\n",
        "userLog_val = userLog_last_month.loc[ userLog_last_month['day'] >=15]\n",
        "userLog_val = userLog_val.loc[ userLog_val['day'] < 19]\n",
        "userLog_test = userLog_last_month.loc[ userLog_last_month['day'] >= 19]\n",
        "\n",
        "display(userLog_train.shape)\n",
        "display(userLog_val.shape)\n",
        "display(userLog_test.shape)\n"
      ],
      "execution_count": 36,
      "outputs": [
        {
          "output_type": "display_data",
          "data": {
            "text/plain": [
              "(44382, 9)"
            ]
          },
          "metadata": {
            "tags": []
          }
        },
        {
          "output_type": "display_data",
          "data": {
            "text/plain": [
              "(12135, 9)"
            ]
          },
          "metadata": {
            "tags": []
          }
        },
        {
          "output_type": "display_data",
          "data": {
            "text/plain": [
              "(13295, 9)"
            ]
          },
          "metadata": {
            "tags": []
          }
        }
      ]
    },
    {
      "metadata": {
        "id": "Fi9jv28QBSk4",
        "colab_type": "code",
        "outputId": "af989a58-4d04-4929-9127-01d505162753",
        "colab": {
          "base_uri": "https://localhost:8080/",
          "height": 68
        }
      },
      "cell_type": "code",
      "source": [
        "\n",
        "freq_user_seen_proj_train = pd.crosstab(userLog_train['userCode'], userLog_train['project_id'], rownames=['userCode'], colnames=['project_id'])\n",
        "freq_user_seen_proj_train_np = np.array(freq_user_seen_proj_train.values)\n",
        "display(freq_user_seen_proj_train_np.shape)\n",
        "#display(freq_user_seen_proj_train.head())\n",
        "\n",
        "freq_user_seen_proj_val = pd.crosstab(userLog_val['userCode'], userLog_val['project_id'], rownames=['userCode'], colnames=['project_id'])\n",
        "freq_user_seen_proj_val = freq_user_seen_proj_val.iloc[freq_user_seen_proj_val.index.isin(freq_user_seen_proj_train.index)]\n",
        "freq_user_seen_proj_val_np = np.array(freq_user_seen_proj_val.values)\n",
        "display(freq_user_seen_proj_val_np.shape)\n",
        "#display(freq_user_seen_proj_val.head())\n",
        "\n",
        "freq_user_seen_proj_test = pd.crosstab(userLog_test['userCode'], userLog_test['project_id'], rownames=['userCode'], colnames=['project_id'])\n",
        "freq_user_seen_proj_test = freq_user_seen_proj_test.iloc[freq_user_seen_proj_test.index.isin(freq_user_seen_proj_train.index)]\n",
        "freq_user_seen_proj_test_np = np.array(freq_user_seen_proj_test.values)\n",
        "display(freq_user_seen_proj_test_np.shape)\n",
        "#display(freq_user_seen_proj_test.head())"
      ],
      "execution_count": 37,
      "outputs": [
        {
          "output_type": "display_data",
          "data": {
            "text/plain": [
              "(6614, 1438)"
            ]
          },
          "metadata": {
            "tags": []
          }
        },
        {
          "output_type": "display_data",
          "data": {
            "text/plain": [
              "(1110, 1162)"
            ]
          },
          "metadata": {
            "tags": []
          }
        },
        {
          "output_type": "display_data",
          "data": {
            "text/plain": [
              "(845, 1190)"
            ]
          },
          "metadata": {
            "tags": []
          }
        }
      ]
    },
    {
      "metadata": {
        "id": "eaas0paxZ2wZ",
        "colab_type": "text"
      },
      "cell_type": "markdown",
      "source": [
        "### ใช้ feature ตามของแต่ละสถานที่"
      ]
    },
    {
      "metadata": {
        "id": "1bKZwrBJkYkg",
        "colab_type": "code",
        "outputId": "81a3c35b-6c2b-4d4c-dd16-0fe7d655e9b4",
        "colab": {
          "base_uri": "https://localhost:8080/",
          "height": 621
        }
      },
      "cell_type": "code",
      "source": [
        "project_main_np_data_train =feature_sel(userLog_train,freq_user_seen_proj_train.index)\n",
        "norm_er_proj_main = normalize(project_main_np_data_train)\n",
        "project_main_np_data_train_nor = norm_er_proj_main.transform(project_main_np_data_train)\n",
        "print('#####################################################################################')\n",
        "project_main_np_data_val =feature_sel(userLog_train,freq_user_seen_proj_val.index)\n",
        "project_main_np_data_val_nor = norm_er_proj_main.transform(project_main_np_data_val)\n",
        "print('#####################################################################################')\n",
        "project_main_np_data_test =feature_sel(userLog_train,freq_user_seen_proj_test.index)\n",
        "project_main_np_data_test_nor = norm_er_proj_main.transform(project_main_np_data_test)\n",
        "print('#####################################################################################')\n",
        "num_total_neighbor = 10 \n",
        "\n",
        "nbrs_proj = {}\n",
        "dict_rec_proj_main_val = {}\n",
        "dict_rec_proj_main_test = {}\n",
        "\n",
        "map_k_proj_val =[]\n",
        "map_k_proj_test = []\n",
        "\n",
        "\n",
        "for num_nb in np.arange(2,num_total_neighbor):\n",
        "  \n",
        "  nbrs_proj[num_nb] = NearestNeighbors(n_neighbors = num_nb , algorithm='ball_tree').fit(project_main_np_data_train_nor)\n",
        "  distances_val, indices_val = nbrs_proj[num_nb].kneighbors(project_main_np_data_val_nor)\n",
        "  distances_test, indices_test = nbrs_proj[num_nb].kneighbors(project_main_np_data_test_nor)\n",
        "  \n",
        "  print('----------------------------------- val set -----------------------------------')\n",
        "\n",
        "  dict_user_val = proj_seen(freq_user_seen_proj_val)\n",
        "  dict_user_train = proj_seen(freq_user_seen_proj_train)\n",
        "  dict_user_val = proj_repeat_out(dict_user_train,dict_user_val)\n",
        "\n",
        "  nn_dict_rec_val = index_to_usercode(indices_val,freq_user_seen_proj_train.index,freq_user_seen_proj_val.index)\n",
        "\n",
        "  dict_user_rec_val = proj_recommend(nn_dict_rec_val,dict_user_train)\n",
        "  dict_user_rec_val = proj_repeat_out(dict_user_train,dict_user_rec_val)\n",
        "  \n",
        "  dict_rec_proj_main_val[num_nb] = dict_user_rec_val\n",
        "  #################################################################\n",
        "\n",
        "  k = 10\n",
        "  map_k = mean_average_precision(dict_user_rec_val,dict_user_val,k)\n",
        "  print('Your MAP@k result : ', map_k)\n",
        "  map_k_proj_val.append(map_k)\n",
        "  \n",
        "  print('----------------------------------- test set -----------------------------------')\n",
        "  \n",
        "  dict_user_test = proj_seen(freq_user_seen_proj_test)\n",
        "  dict_user_train = proj_seen(freq_user_seen_proj_train)\n",
        "  dict_user_test = proj_repeat_out(dict_user_train,dict_user_test)\n",
        "\n",
        "  nn_dict_rec_test = index_to_usercode(indices_test,freq_user_seen_proj_train.index,freq_user_seen_proj_test.index)\n",
        "\n",
        "  dict_user_rec_test = proj_recommend(nn_dict_rec_test,dict_user_train)\n",
        "  dict_user_rec_test = proj_repeat_out(dict_user_train,dict_user_rec_test)\n",
        "  \n",
        "  dict_rec_proj_main_test[num_nb] = dict_user_rec_test\n",
        "  #################################################################\n",
        "\n",
        "  k = 10\n",
        "  map_k = mean_average_precision(dict_user_rec_test,dict_user_val,k)\n",
        "  print('Your MAP@k result : ', map_k)\n",
        "  map_k_proj_test.append(map_k)\n",
        "  "
      ],
      "execution_count": 38,
      "outputs": [
        {
          "output_type": "stream",
          "text": [
            "#####################################################################################\n",
            "#####################################################################################\n",
            "#####################################################################################\n",
            "----------------------------------- val set -----------------------------------\n",
            "Your MAP@k result :  0.012549235680209655\n",
            "----------------------------------- test set -----------------------------------\n",
            "Your MAP@k result :  0.007295123177476119\n",
            "----------------------------------- val set -----------------------------------\n",
            "Your MAP@k result :  0.015595031498648992\n",
            "----------------------------------- test set -----------------------------------\n",
            "Your MAP@k result :  0.008861000240552062\n",
            "----------------------------------- val set -----------------------------------\n",
            "Your MAP@k result :  0.019590991878411988\n",
            "----------------------------------- test set -----------------------------------\n",
            "Your MAP@k result :  0.015102231775901245\n",
            "----------------------------------- val set -----------------------------------\n",
            "Your MAP@k result :  0.020474759723406583\n",
            "----------------------------------- test set -----------------------------------\n",
            "Your MAP@k result :  0.01645011850894204\n",
            "----------------------------------- val set -----------------------------------\n",
            "Your MAP@k result :  0.021327952796506663\n",
            "----------------------------------- test set -----------------------------------\n",
            "Your MAP@k result :  0.01687882845445871\n",
            "----------------------------------- val set -----------------------------------\n",
            "Your MAP@k result :  0.021072387674672177\n",
            "----------------------------------- test set -----------------------------------\n",
            "Your MAP@k result :  0.017853709147476658\n",
            "----------------------------------- val set -----------------------------------\n",
            "Your MAP@k result :  0.023228824592222124\n",
            "----------------------------------- test set -----------------------------------\n",
            "Your MAP@k result :  0.022508628807648416\n",
            "----------------------------------- val set -----------------------------------\n",
            "Your MAP@k result :  0.023357229037434316\n",
            "----------------------------------- test set -----------------------------------\n",
            "Your MAP@k result :  0.023688441188441187\n"
          ],
          "name": "stdout"
        }
      ]
    },
    {
      "metadata": {
        "id": "JS3fNs1i4JCE",
        "colab_type": "code",
        "colab": {
          "base_uri": "https://localhost:8080/",
          "height": 71
        },
        "outputId": "c872cdeb-0c60-4d4c-c16d-b875737f3b64"
      },
      "cell_type": "code",
      "source": [
        "map_k_proj_val = np.array(map_k_proj_val)\n",
        "map_k_proj_test = np.array(map_k_proj_test)\n",
        "\n",
        "print('val set : k = ',np.argmax(map_k_proj_val)+2)\n",
        "print('test set : k = ',np.argmax(map_k_proj_test)+2)"
      ],
      "execution_count": 39,
      "outputs": [
        {
          "output_type": "stream",
          "text": [
            "[0.012549235680209655, 0.015595031498648992, 0.019590991878411988, 0.020474759723406583, 0.021327952796506663, 0.021072387674672177, 0.023228824592222124, 0.023357229037434316]\n",
            "[0.007295123177476119, 0.008861000240552062, 0.015102231775901245, 0.01645011850894204, 0.01687882845445871, 0.017853709147476658, 0.022508628807648416, 0.023688441188441187]\n"
          ],
          "name": "stdout"
        }
      ]
    },
    {
      "metadata": {
        "id": "2uoY21MfI2It",
        "colab_type": "code",
        "colab": {
          "base_uri": "https://localhost:8080/",
          "height": 569
        },
        "outputId": "0fc64f42-8a28-4e23-fbb6-9c8c48bddf1d"
      },
      "cell_type": "code",
      "source": [
        "project_main_np_data_train =feature_sel(userLog_train,freq_user_seen_proj_train.index)\n",
        "norm_er_proj_main = normalize(project_main_np_data_test_nor)\n",
        "project_main_np_data_train_nor = norm_er_proj_main.transform(project_main_np_data_train)\n",
        "\n",
        "project_main_np_data_val =feature_sel(userLog_train,freq_user_seen_proj_val.index)\n",
        "project_main_np_data_val_nor = norm_er_proj_main.transform(project_main_np_data_val)\n",
        "\n",
        "project_main_np_data_test =feature_sel(userLog_train,freq_user_seen_proj_test.index)\n",
        "project_main_np_data_test_nor = norm_er_proj_main.transform(project_main_np_data_test)\n",
        "\n",
        "num_total_neighbor = 10 \n",
        "\n",
        "nbrs_freq = {}\n",
        "dict_rec_freq_val = {}\n",
        "dict_rec_freq_test = {}\n",
        "\n",
        "map_k_freq_val =[]\n",
        "map_k_freq_test = []\n",
        "\n",
        "for num_nb in np.arange(2,num_total_neighbor):\n",
        "  \n",
        "  nbrs_freq[num_nb] = NearestNeighbors(n_neighbors = num_nb , algorithm='ball_tree').fit(project_main_np_data_nor)\n",
        "  distances_val, indices_val = nbrs_freq[num_nb].kneighbors(project_main_np_data_val)\n",
        "  distances_test, indices_test = nbrs_freq[num_nb].kneighbors(project_main_np_data_test)\n",
        "  \n",
        "  print('----------------------------------- val set -----------------------------------')\n",
        "\n",
        "  dict_user_val = proj_seen(freq_user_seen_proj_val)\n",
        "  dict_user_train = proj_seen(freq_user_seen_proj_train)\n",
        "  dict_user_val = proj_repeat_out(dict_user_train,dict_user_val)\n",
        "\n",
        "  nn_dict_rec_val = index_to_usercode(indices_val,freq_user_seen_proj_train.index,freq_user_seen_proj_val.index)\n",
        "\n",
        "  dict_user_rec_val = proj_recommend(nn_dict_rec_val,dict_user_train)\n",
        "  dict_user_rec_val = proj_repeat_out(dict_user_train,dict_user_rec_val)\n",
        "  \n",
        "  dict_rec_freq_val[num_nb] = dict_user_rec_val\n",
        "  #################################################################\n",
        "\n",
        "  k = 10\n",
        "  map_k = mean_average_precision(dict_user_rec_val,dict_user_val,k)\n",
        "  print('Your MAP@k result : ', map_k)\n",
        "  map_k_freq_val.append(map_k)\n",
        "  \n",
        "  print('----------------------------------- test set -----------------------------------')\n",
        "  \n",
        "  dict_user_test = proj_seen(freq_user_seen_proj_test)\n",
        "  dict_user_train = proj_seen(freq_user_seen_proj_train)\n",
        "  dict_user_test = proj_repeat_out(dict_user_train,dict_user_test)\n",
        "\n",
        "  nn_dict_rec_val = index_to_usercode(indices_val,freq_user_seen_proj_train.index,freq_user_seen_proj_val.index)\n",
        "\n",
        "  dict_user_rec_test = proj_recommend(nn_dict_rec_test,dict_user_train)\n",
        "  dict_user_rec_test = proj_repeat_out(dict_user_train,dict_user_rec_test)\n",
        "  \n",
        "  dict_rec_freq_test[num_nb] = dict_user_rec_test\n",
        "  #################################################################\n",
        "\n",
        "  k = 10\n",
        "  map_k = mean_average_precision(dict_user_rec_test,dict_user_val,k)\n",
        "  print('Your MAP@k result : ', map_k)\n",
        "  map_k_freq_test.append(map_k)"
      ],
      "execution_count": 40,
      "outputs": [
        {
          "output_type": "stream",
          "text": [
            "----------------------------------- val set -----------------------------------\n",
            "Your MAP@k result :  0.006751309955663039\n",
            "----------------------------------- test set -----------------------------------\n",
            "Your MAP@k result :  0.023688441188441187\n",
            "----------------------------------- val set -----------------------------------\n",
            "Your MAP@k result :  0.0026157793942961213\n",
            "----------------------------------- test set -----------------------------------\n",
            "Your MAP@k result :  0.023688441188441187\n",
            "----------------------------------- val set -----------------------------------\n",
            "Your MAP@k result :  0.007576630007101591\n",
            "----------------------------------- test set -----------------------------------\n",
            "Your MAP@k result :  0.023688441188441187\n",
            "----------------------------------- val set -----------------------------------\n",
            "Your MAP@k result :  0.007576630007101591\n",
            "----------------------------------- test set -----------------------------------\n",
            "Your MAP@k result :  0.023688441188441187\n",
            "----------------------------------- val set -----------------------------------\n",
            "Your MAP@k result :  0.007576630007101591\n",
            "----------------------------------- test set -----------------------------------\n",
            "Your MAP@k result :  0.023688441188441187\n",
            "----------------------------------- val set -----------------------------------\n",
            "Your MAP@k result :  0.007501247576821942\n",
            "----------------------------------- test set -----------------------------------\n",
            "Your MAP@k result :  0.023688441188441187\n",
            "----------------------------------- val set -----------------------------------\n",
            "Your MAP@k result :  0.002356144795685304\n",
            "----------------------------------- test set -----------------------------------\n",
            "Your MAP@k result :  0.023688441188441187\n",
            "----------------------------------- val set -----------------------------------\n",
            "Your MAP@k result :  0.005425471680006142\n",
            "----------------------------------- test set -----------------------------------\n",
            "Your MAP@k result :  0.023688441188441187\n"
          ],
          "name": "stdout"
        }
      ]
    },
    {
      "metadata": {
        "id": "xR8v_NTU4bVQ",
        "colab_type": "code",
        "colab": {
          "base_uri": "https://localhost:8080/",
          "height": 51
        },
        "outputId": "08dc5056-034e-471b-9ceb-211f99e80738"
      },
      "cell_type": "code",
      "source": [
        "map_k_freq_val = np.array(map_k_freq_val)\n",
        "map_k_freq_test = np.array(map_k_freq_test)\n",
        "\n",
        "print('val set : k = ',np.argmax(map_k_freq_val)+2)\n",
        "print('test set : k = ',np.argmax(map_k_freq_test)+2)"
      ],
      "execution_count": 44,
      "outputs": [
        {
          "output_type": "stream",
          "text": [
            "val set : k =  4\n",
            "test set : k =  2\n"
          ],
          "name": "stdout"
        }
      ]
    },
    {
      "metadata": {
        "id": "xGdYVahFJMPn",
        "colab_type": "code",
        "colab": {
          "base_uri": "https://localhost:8080/",
          "height": 569
        },
        "outputId": "eb2c7ec6-de54-4c62-eeff-e37e438feb66"
      },
      "cell_type": "code",
      "source": [
        "\n",
        "project_main_np_data_train =feature_sel(userLog_train,freq_user_seen_proj_train.index)\n",
        "norm_er_proj_main = normalize(project_main_np_data_train)\n",
        "project_main_np_data_train_nor = norm_er_proj_main.transform(project_main_np_data_train)\n",
        "\n",
        "project_main_np_data_val =feature_sel(userLog_train,freq_user_seen_proj_val.index)\n",
        "project_main_np_data_val_nor = norm_er_proj_main.transform(project_main_np_data_val)\n",
        "\n",
        "project_main_np_data_test =feature_sel(userLog_train,freq_user_seen_proj_test.index)\n",
        "project_main_np_data_test_nor = norm_er_proj_main.transform(project_main_np_data_test)\n",
        "\n",
        "num_total_neighbor = 10 \n",
        "\n",
        "nbrs_seen = {}\n",
        "dict_rec_seen_val = {}\n",
        "dict_rec_seen_test = {}\n",
        "\n",
        "map_k_seen_val =[]\n",
        "map_k_seen_test = []\n",
        "\n",
        "for num_nb in np.arange(2,num_total_neighbor):\n",
        "  \n",
        "  nbrs_seen[num_nb] = NearestNeighbors(n_neighbors = num_nb , algorithm='ball_tree').fit(project_main_np_data_nor)\n",
        "  distances_val, indices_val = nbrs_seen[num_nb].kneighbors(project_main_np_data_val)\n",
        "  distances_test, indices_test = nbrs_seen[num_nb].kneighbors(project_main_np_data_test)\n",
        "  \n",
        "  print('----------------------------------- val set -----------------------------------')\n",
        "\n",
        "  dict_user_val = proj_seen(freq_user_seen_proj_val)\n",
        "  dict_user_train = proj_seen(freq_user_seen_proj_train)\n",
        "  dict_user_val = proj_repeat_out(dict_user_train,dict_user_val)\n",
        "\n",
        "  nn_dict_rec_val = index_to_usercode(indices_val,freq_user_seen_proj_train.index,freq_user_seen_proj_val.index)\n",
        "\n",
        "  dict_user_rec_val = proj_recommend(nn_dict_rec_val,dict_user_train)\n",
        "  dict_user_rec_val = proj_repeat_out(dict_user_train,dict_user_rec_val)\n",
        "  \n",
        "  dict_rec_seen_val[num_nb] = dict_user_rec_val\n",
        "  #################################################################\n",
        "\n",
        "  k = 10\n",
        "  map_k = mean_average_precision(dict_user_rec_val,dict_user_val,k)\n",
        "  print('Your MAP@k result : ', map_k)\n",
        "  map_k_seen_val.append(map_k)\n",
        "  \n",
        "  print('----------------------------------- test set -----------------------------------')\n",
        "  \n",
        "  dict_user_test = proj_seen(freq_user_seen_proj_test)\n",
        "  dict_user_train = proj_seen(freq_user_seen_proj_train)\n",
        "  dict_user_test = proj_repeat_out(dict_user_train,dict_user_test)\n",
        "\n",
        "  nn_dict_rec_val = index_to_usercode(indices_val,freq_user_seen_proj_train.index,freq_user_seen_proj_val.index)\n",
        "  \n",
        "  dict_user_rec_test = proj_recommend(nn_dict_rec_test,dict_user_train)\n",
        "  dict_user_rec_test = proj_repeat_out(dict_user_train,dict_user_rec_test)\n",
        "  \n",
        "  dict_rec_seen_test[num_nb] = dict_user_rec_test\n",
        "  #################################################################\n",
        "\n",
        "  k = 10\n",
        "  map_k = mean_average_precision(dict_user_rec_test,dict_user_val,k)\n",
        "  print('Your MAP@k result : ', map_k)\n",
        "  map_k_seen_test.append(map_k)"
      ],
      "execution_count": 42,
      "outputs": [
        {
          "output_type": "stream",
          "text": [
            "----------------------------------- val set -----------------------------------\n",
            "Your MAP@k result :  0.006751309955663039\n",
            "----------------------------------- test set -----------------------------------\n",
            "Your MAP@k result :  0.023688441188441187\n",
            "----------------------------------- val set -----------------------------------\n",
            "Your MAP@k result :  0.0026157793942961213\n",
            "----------------------------------- test set -----------------------------------\n",
            "Your MAP@k result :  0.023688441188441187\n",
            "----------------------------------- val set -----------------------------------\n",
            "Your MAP@k result :  0.007576630007101591\n",
            "----------------------------------- test set -----------------------------------\n",
            "Your MAP@k result :  0.023688441188441187\n",
            "----------------------------------- val set -----------------------------------\n",
            "Your MAP@k result :  0.007576630007101591\n",
            "----------------------------------- test set -----------------------------------\n",
            "Your MAP@k result :  0.023688441188441187\n",
            "----------------------------------- val set -----------------------------------\n",
            "Your MAP@k result :  0.007576630007101591\n",
            "----------------------------------- test set -----------------------------------\n",
            "Your MAP@k result :  0.023688441188441187\n",
            "----------------------------------- val set -----------------------------------\n",
            "Your MAP@k result :  0.007501247576821942\n",
            "----------------------------------- test set -----------------------------------\n",
            "Your MAP@k result :  0.023688441188441187\n",
            "----------------------------------- val set -----------------------------------\n",
            "Your MAP@k result :  0.002356144795685304\n",
            "----------------------------------- test set -----------------------------------\n",
            "Your MAP@k result :  0.023688441188441187\n",
            "----------------------------------- val set -----------------------------------\n",
            "Your MAP@k result :  0.005425471680006142\n",
            "----------------------------------- test set -----------------------------------\n",
            "Your MAP@k result :  0.023688441188441187\n"
          ],
          "name": "stdout"
        }
      ]
    },
    {
      "metadata": {
        "id": "DCah7t7Gak5S",
        "colab_type": "text"
      },
      "cell_type": "markdown",
      "source": [
        ""
      ]
    },
    {
      "metadata": {
        "id": "Tn9Jlwxmalcu",
        "colab_type": "code",
        "colab": {
          "base_uri": "https://localhost:8080/",
          "height": 51
        },
        "outputId": "b11b7f0a-4f8f-4ced-f323-4fe555d3a44a"
      },
      "cell_type": "code",
      "source": [
        "map_k_seen_val = np.array(map_k_seen_val)\n",
        "map_k_seen_test = np.array(map_k_seen_test)\n",
        "\n",
        "print('val set : k = ',np.argmax(map_k_seen_val)+2)\n",
        "print('test set : k = ',np.argmax(map_k_seen_test)+2)"
      ],
      "execution_count": 46,
      "outputs": [
        {
          "output_type": "stream",
          "text": [
            "val set : k =  4\n",
            "test set : k =  2\n"
          ],
          "name": "stdout"
        }
      ]
    }
  ]
}