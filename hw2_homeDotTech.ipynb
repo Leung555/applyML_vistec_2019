{
  "nbformat": 4,
  "nbformat_minor": 0,
  "metadata": {
    "colab": {
      "name": "hw2_homeDotTech.ipynb",
      "version": "0.3.2",
      "provenance": [],
      "collapsed_sections": [],
      "include_colab_link": true
    },
    "kernelspec": {
      "display_name": "Python 3",
      "language": "python",
      "name": "python3"
    }
  },
  "cells": [
    {
      "cell_type": "markdown",
      "metadata": {
        "id": "view-in-github",
        "colab_type": "text"
      },
      "source": [
        "<a href=\"https://colab.research.google.com/github/Pataweepr/applyML_vistec_2019/blob/master/hw2_homeDotTech.ipynb\" target=\"_parent\"><img src=\"https://colab.research.google.com/assets/colab-badge.svg\" alt=\"Open In Colab\"/></a>"
      ]
    },
    {
      "metadata": {
        "id": "LyXd3PeVaqIQ",
        "colab_type": "code",
        "cellView": "both",
        "colab": {}
      },
      "cell_type": "code",
      "source": [
        "!pip install -U -q PyDrive\n",
        "\n",
        "from pydrive.auth import GoogleAuth\n",
        "from pydrive.drive import GoogleDrive\n",
        "from google.colab import auth\n",
        "from oauth2client.client import GoogleCredentials\n",
        "\n",
        "# 1. Authenticate and create the PyDrive client.\n",
        "auth.authenticate_user()\n",
        "gauth = GoogleAuth()\n",
        "gauth.credentials = GoogleCredentials.get_application_default()\n",
        "drive = GoogleDrive(gauth)\n",
        "\n",
        "# PyDrive reference:\n",
        "# https://gsuitedevs.github.io/PyDrive/docs/build/html/index.html\n",
        "\n",
        "# 2. Create & upload a file text file.\n",
        "#uploaded = drive.CreateFile({'title': 'Sample upload.txt'})\n",
        "#uploaded.SetContentString('Sample upload file content')\n",
        "#uploaded.Upload()\n",
        "#print('Uploaded file with ID {}'.format(uploaded.get('id')))\n",
        "\n",
        "# 3. Load a file by ID and print its contents.\n",
        "#downloaded = drive.CreateFile({'id': uploaded.get('id')})\n",
        "#print('Downloaded content \"{}\"'.format(downloaded.GetContentString()))\n",
        "\n",
        "\n",
        "\n",
        "# check freq table\n",
        "# https://pandas.pydata.org/pandas-docs/version/0.17.0/generated/pandas.crosstab.html"
      ],
      "execution_count": 0,
      "outputs": []
    },
    {
      "metadata": {
        "id": "ByDiTugkD3PF",
        "colab_type": "code",
        "colab": {}
      },
      "cell_type": "code",
      "source": [
        "## name : HW2_4.py\n",
        "import numpy as np\n",
        "import pandas as pd\n",
        "import matplotlib.pyplot as plt\n",
        "from sklearn.cluster import KMeans\n",
        "from scipy.stats import mode\n",
        "# using Naive Bayes\n"
      ],
      "execution_count": 0,
      "outputs": []
    },
    {
      "metadata": {
        "id": "Go7lnAxN9XZP",
        "colab_type": "text"
      },
      "cell_type": "markdown",
      "source": [
        "<details>\n",
        "    <summary>**FILE_ID!!!** </summary>\n",
        "    <pre>\n",
        "title: userLog_201801_201802_for_participants.csv, id: 19sNUEOYeqU33EWBMRKq65YydpgLQoppZ\n",
        "title: developer_main.csv, id: 1jjOrl2Dcw7AhsKPr2W4qU4LptkAkVbsV\n",
        "title: project_description.csv, id: 1y5tTE8nE_0GGclmSzsGZY4mfb1kArD1f\n",
        "title: project_main.csv, id: 1iRz0edC_tjIk0Ge33fKLZYN1ciXxup-0\n",
        "title: unit_type_id.csv, id: 1G-n9Bno_zyFL17ggRoaZIQZ7O9ph0CmR\n",
        "title: district_province_id.csv, id: 1ymd-812YyEyGs5exJnrKdWFnP15D0yFp\n",
        "title: facility_id.csv, id: 1eHh1ewhDPfwVhUQV5mplOkTmshg_ohNG\n",
        "title: developer_brand.csv, id: 1z0diuRz1VVnephPtrHo0kMs6dDqLqdxj\n",
        "title: project_unit.csv, id: 1L0VA6sAY7SiYlIoA8W6fObHZ0uHOi9-J\n",
        "title: project_facility.csv, id: 13jUinwDsk9sYvoMOBaTMfTM11912CvdO\n",
        "    </pre>\n",
        "</details>\n",
        "    <pre>\n",
        "title: userLog_201801_201802_for_participants.csv, id: 19sNUEOYeqU33EWBMRKq65YydpgLQoppZ\n",
        "title: developer_main.csv, id: 1jjOrl2Dcw7AhsKPr2W4qU4LptkAkVbsV\n",
        "title: project_description.csv, id: 1y5tTE8nE_0GGclmSzsGZY4mfb1kArD1f\n",
        "title: project_main.csv, id: 1iRz0edC_tjIk0Ge33fKLZYN1ciXxup-0\n",
        "title: unit_type_id.csv, id: 1G-n9Bno_zyFL17ggRoaZIQZ7O9ph0CmR\n",
        "title: district_province_id.csv, id: 1ymd-812YyEyGs5exJnrKdWFnP15D0yFp\n",
        "title: facility_id.csv, id: 1eHh1ewhDPfwVhUQV5mplOkTmshg_ohNG\n",
        "title: developer_brand.csv, id: 1z0diuRz1VVnephPtrHo0kMs6dDqLqdxj\n",
        "title: project_unit.csv, id: 1L0VA6sAY7SiYlIoA8W6fObHZ0uHOi9-J\n",
        "title: project_facility.csv, id: 13jUinwDsk9sYvoMOBaTMfTM11912CvdO\n",
        "    </pre>"
      ]
    },
    {
      "metadata": {
        "id": "QFufCvqODOfy",
        "colab_type": "code",
        "colab": {}
      },
      "cell_type": "code",
      "source": [
        "def readDataFromDrive_HDT_single_col(file_id):\n",
        "  # file_id is str\n",
        "  data_downloaded = drive.CreateFile({'id': file_id })\n",
        "  data_downloaded.GetContentFile('readCsvFile.csv')\n",
        "  raw_data = pd.read_csv('readCsvFile.csv')\n",
        "  name_dev_br = raw_data.columns.values[0].split(\";\")\n",
        "  raw_data = raw_data[raw_data.columns.values[0]].str.split(\";\",expand = True) \n",
        "  raw_data.columns = name_dev_br\n",
        "  raw_data = raw_data.convert_objects(convert_numeric=True)\n",
        "  print(raw_data.dtypes)\n",
        "  for name_col in name_dev_br :\n",
        "    print(name_col , 'null :',raw_data[name_col].isnull().values.any())\n",
        "  print('#########################################################################################################################')\n",
        "  return raw_data;\n",
        "  \n",
        "def readDataFromDrive_HDT(file_id):\n",
        "  # file_id is str\n",
        "  data_downloaded = drive.CreateFile({'id': file_id })\n",
        "  data_downloaded.GetContentFile('readCsvFile.csv')\n",
        "  raw_data = pd.read_csv('readCsvFile.csv')\n",
        "  print(raw_data.dtypes)\n",
        "  print('-------------- NA DATA ------------------')\n",
        "  for name_col in raw_data.columns:\n",
        "    print(name_col,'null :',raw_data[name_col].isnull().values.any())\n",
        "  print('#########################################################################################################################')\n",
        "  return raw_data;"
      ],
      "execution_count": 0,
      "outputs": []
    },
    {
      "metadata": {
        "id": "ksRpe8e2ajVa",
        "colab_type": "code",
        "outputId": "ca71ce6a-cb56-4600-8ded-f584993a0221",
        "colab": {
          "base_uri": "https://localhost:8080/",
          "height": 632
        }
      },
      "cell_type": "code",
      "source": [
        "# care values province_id\n",
        "# we use only chiang mai  province_id = 43 \n",
        "### load data ###############################################################################\n",
        "print('userLog')\n",
        "userLog = readDataFromDrive_HDT_single_col('19sNUEOYeqU33EWBMRKq65YydpgLQoppZ') \n",
        "userLog.head()\n",
        "# project_description = readDataFromDrive_HDT_single_col('1y5tTE8nE_0GGclmSzsGZY4mfb1kArD1f') "
      ],
      "execution_count": 5,
      "outputs": [
        {
          "output_type": "stream",
          "text": [
            "userLog\n"
          ],
          "name": "stdout"
        },
        {
          "output_type": "stream",
          "text": [
            "/usr/local/lib/python3.6/dist-packages/ipykernel_launcher.py:9: FutureWarning: convert_objects is deprecated.  To re-infer data dtypes for object columns, use DataFrame.infer_objects()\n",
            "For all other conversions use the data-type specific converters pd.to_datetime, pd.to_timedelta and pd.to_numeric.\n",
            "  if __name__ == '__main__':\n"
          ],
          "name": "stderr"
        },
        {
          "output_type": "stream",
          "text": [
            "userCode           object\n",
            "project_id          int64\n",
            "requestedDevice    object\n",
            "userAgent          object\n",
            "pageReferrer       object\n",
            "year                int64\n",
            "month               int64\n",
            "day                 int64\n",
            "hour                int64\n",
            "dtype: object\n",
            "userCode null : False\n",
            "project_id null : False\n",
            "requestedDevice null : False\n",
            "userAgent null : False\n",
            "pageReferrer null : False\n",
            "year null : False\n",
            "month null : False\n",
            "day null : False\n",
            "hour null : False\n",
            "#########################################################################################################################\n"
          ],
          "name": "stdout"
        },
        {
          "output_type": "execute_result",
          "data": {
            "text/html": [
              "<div>\n",
              "<style scoped>\n",
              "    .dataframe tbody tr th:only-of-type {\n",
              "        vertical-align: middle;\n",
              "    }\n",
              "\n",
              "    .dataframe tbody tr th {\n",
              "        vertical-align: top;\n",
              "    }\n",
              "\n",
              "    .dataframe thead th {\n",
              "        text-align: right;\n",
              "    }\n",
              "</style>\n",
              "<table border=\"1\" class=\"dataframe\">\n",
              "  <thead>\n",
              "    <tr style=\"text-align: right;\">\n",
              "      <th></th>\n",
              "      <th>userCode</th>\n",
              "      <th>project_id</th>\n",
              "      <th>requestedDevice</th>\n",
              "      <th>userAgent</th>\n",
              "      <th>pageReferrer</th>\n",
              "      <th>year</th>\n",
              "      <th>month</th>\n",
              "      <th>day</th>\n",
              "      <th>hour</th>\n",
              "    </tr>\n",
              "  </thead>\n",
              "  <tbody>\n",
              "    <tr>\n",
              "      <th>0</th>\n",
              "      <td>7717bdc2-ea3e-e8ad-5d6b-178bd71c38b2</td>\n",
              "      <td>7956</td>\n",
              "      <td>Mobile</td>\n",
              "      <td>Android</td>\n",
              "      <td>HomeWebsite</td>\n",
              "      <td>2018</td>\n",
              "      <td>1</td>\n",
              "      <td>1</td>\n",
              "      <td>0</td>\n",
              "    </tr>\n",
              "    <tr>\n",
              "      <th>1</th>\n",
              "      <td>7717bdc2-ea3e-e8ad-5d6b-178bd71c38b2</td>\n",
              "      <td>7956</td>\n",
              "      <td>Mobile</td>\n",
              "      <td>Android</td>\n",
              "      <td>HomeWebsite</td>\n",
              "      <td>2018</td>\n",
              "      <td>1</td>\n",
              "      <td>1</td>\n",
              "      <td>0</td>\n",
              "    </tr>\n",
              "    <tr>\n",
              "      <th>2</th>\n",
              "      <td>cb5b4b68-cc01-6db6-f54b-4a0f881301c5</td>\n",
              "      <td>5067</td>\n",
              "      <td>Mobile</td>\n",
              "      <td>iPhone</td>\n",
              "      <td>HomeWebsite</td>\n",
              "      <td>2018</td>\n",
              "      <td>1</td>\n",
              "      <td>1</td>\n",
              "      <td>0</td>\n",
              "    </tr>\n",
              "    <tr>\n",
              "      <th>3</th>\n",
              "      <td>5f74cef2-0d1e-b619-3564-0955a14e0985</td>\n",
              "      <td>6654</td>\n",
              "      <td>Mobile</td>\n",
              "      <td>iPhone</td>\n",
              "      <td>Google</td>\n",
              "      <td>2018</td>\n",
              "      <td>1</td>\n",
              "      <td>1</td>\n",
              "      <td>0</td>\n",
              "    </tr>\n",
              "    <tr>\n",
              "      <th>4</th>\n",
              "      <td>dba8f279-844e-eef6-73ac-22bd7d1353cc</td>\n",
              "      <td>6474</td>\n",
              "      <td>Mobile</td>\n",
              "      <td>iPad</td>\n",
              "      <td>Google</td>\n",
              "      <td>2018</td>\n",
              "      <td>1</td>\n",
              "      <td>1</td>\n",
              "      <td>0</td>\n",
              "    </tr>\n",
              "  </tbody>\n",
              "</table>\n",
              "</div>"
            ],
            "text/plain": [
              "                               userCode  project_id requestedDevice userAgent  \\\n",
              "0  7717bdc2-ea3e-e8ad-5d6b-178bd71c38b2        7956          Mobile   Android   \n",
              "1  7717bdc2-ea3e-e8ad-5d6b-178bd71c38b2        7956          Mobile   Android   \n",
              "2  cb5b4b68-cc01-6db6-f54b-4a0f881301c5        5067          Mobile    iPhone   \n",
              "3  5f74cef2-0d1e-b619-3564-0955a14e0985        6654          Mobile    iPhone   \n",
              "4  dba8f279-844e-eef6-73ac-22bd7d1353cc        6474          Mobile      iPad   \n",
              "\n",
              "  pageReferrer  year  month  day  hour  \n",
              "0  HomeWebsite  2018      1    1     0  \n",
              "1  HomeWebsite  2018      1    1     0  \n",
              "2  HomeWebsite  2018      1    1     0  \n",
              "3       Google  2018      1    1     0  \n",
              "4       Google  2018      1    1     0  "
            ]
          },
          "metadata": {
            "tags": []
          },
          "execution_count": 5
        }
      ]
    },
    {
      "metadata": {
        "id": "ubceu87IofUj",
        "colab_type": "code",
        "outputId": "300e0791-34c4-4295-b56a-3baa66e11f2e",
        "colab": {
          "base_uri": "https://localhost:8080/",
          "height": 297
        }
      },
      "cell_type": "code",
      "source": [
        "userLog.describe()"
      ],
      "execution_count": 6,
      "outputs": [
        {
          "output_type": "execute_result",
          "data": {
            "text/html": [
              "<div>\n",
              "<style scoped>\n",
              "    .dataframe tbody tr th:only-of-type {\n",
              "        vertical-align: middle;\n",
              "    }\n",
              "\n",
              "    .dataframe tbody tr th {\n",
              "        vertical-align: top;\n",
              "    }\n",
              "\n",
              "    .dataframe thead th {\n",
              "        text-align: right;\n",
              "    }\n",
              "</style>\n",
              "<table border=\"1\" class=\"dataframe\">\n",
              "  <thead>\n",
              "    <tr style=\"text-align: right;\">\n",
              "      <th></th>\n",
              "      <th>project_id</th>\n",
              "      <th>year</th>\n",
              "      <th>month</th>\n",
              "      <th>day</th>\n",
              "      <th>hour</th>\n",
              "    </tr>\n",
              "  </thead>\n",
              "  <tbody>\n",
              "    <tr>\n",
              "      <th>count</th>\n",
              "      <td>1.234579e+06</td>\n",
              "      <td>1234579.0</td>\n",
              "      <td>1.234579e+06</td>\n",
              "      <td>1.234579e+06</td>\n",
              "      <td>1.234579e+06</td>\n",
              "    </tr>\n",
              "    <tr>\n",
              "      <th>mean</th>\n",
              "      <td>6.401208e+03</td>\n",
              "      <td>2018.0</td>\n",
              "      <td>1.427945e+00</td>\n",
              "      <td>1.476546e+01</td>\n",
              "      <td>1.424961e+01</td>\n",
              "    </tr>\n",
              "    <tr>\n",
              "      <th>std</th>\n",
              "      <td>2.197497e+03</td>\n",
              "      <td>0.0</td>\n",
              "      <td>4.947810e-01</td>\n",
              "      <td>8.233066e+00</td>\n",
              "      <td>5.774527e+00</td>\n",
              "    </tr>\n",
              "    <tr>\n",
              "      <th>min</th>\n",
              "      <td>4.000000e+00</td>\n",
              "      <td>2018.0</td>\n",
              "      <td>1.000000e+00</td>\n",
              "      <td>1.000000e+00</td>\n",
              "      <td>0.000000e+00</td>\n",
              "    </tr>\n",
              "    <tr>\n",
              "      <th>25%</th>\n",
              "      <td>4.928000e+03</td>\n",
              "      <td>2018.0</td>\n",
              "      <td>1.000000e+00</td>\n",
              "      <td>8.000000e+00</td>\n",
              "      <td>1.100000e+01</td>\n",
              "    </tr>\n",
              "    <tr>\n",
              "      <th>50%</th>\n",
              "      <td>6.446000e+03</td>\n",
              "      <td>2018.0</td>\n",
              "      <td>1.000000e+00</td>\n",
              "      <td>1.500000e+01</td>\n",
              "      <td>1.500000e+01</td>\n",
              "    </tr>\n",
              "    <tr>\n",
              "      <th>75%</th>\n",
              "      <td>8.428000e+03</td>\n",
              "      <td>2018.0</td>\n",
              "      <td>2.000000e+00</td>\n",
              "      <td>2.100000e+01</td>\n",
              "      <td>1.900000e+01</td>\n",
              "    </tr>\n",
              "    <tr>\n",
              "      <th>max</th>\n",
              "      <td>9.504000e+03</td>\n",
              "      <td>2018.0</td>\n",
              "      <td>2.000000e+00</td>\n",
              "      <td>3.100000e+01</td>\n",
              "      <td>2.300000e+01</td>\n",
              "    </tr>\n",
              "  </tbody>\n",
              "</table>\n",
              "</div>"
            ],
            "text/plain": [
              "         project_id       year         month           day          hour\n",
              "count  1.234579e+06  1234579.0  1.234579e+06  1.234579e+06  1.234579e+06\n",
              "mean   6.401208e+03     2018.0  1.427945e+00  1.476546e+01  1.424961e+01\n",
              "std    2.197497e+03        0.0  4.947810e-01  8.233066e+00  5.774527e+00\n",
              "min    4.000000e+00     2018.0  1.000000e+00  1.000000e+00  0.000000e+00\n",
              "25%    4.928000e+03     2018.0  1.000000e+00  8.000000e+00  1.100000e+01\n",
              "50%    6.446000e+03     2018.0  1.000000e+00  1.500000e+01  1.500000e+01\n",
              "75%    8.428000e+03     2018.0  2.000000e+00  2.100000e+01  1.900000e+01\n",
              "max    9.504000e+03     2018.0  2.000000e+00  3.100000e+01  2.300000e+01"
            ]
          },
          "metadata": {
            "tags": []
          },
          "execution_count": 6
        }
      ]
    },
    {
      "metadata": {
        "id": "V0sgK-tvxYN1",
        "colab_type": "code",
        "outputId": "d616872e-2521-4b63-d2f6-82d6b545d649",
        "colab": {
          "base_uri": "https://localhost:8080/",
          "height": 340
        }
      },
      "cell_type": "code",
      "source": [
        "print('developer_main')\n",
        "developer_main = readDataFromDrive_HDT('1jjOrl2Dcw7AhsKPr2W4qU4LptkAkVbsV')   ### readDataFromDrive_HDT(file_id) \n",
        "developer_main = developer_main.dropna(subset=['province_id'])\n",
        "developer_main['province_id'] = developer_main['province_id'].astype('int')\n",
        "developer_main = developer_main.loc[developer_main['province_id'] == 10]\n",
        "developer_main.head()\n",
        "#print(developer_main['province_id'].isnull().sum())\n",
        "print(developer_main.shape)"
      ],
      "execution_count": 7,
      "outputs": [
        {
          "output_type": "stream",
          "text": [
            "developer_main\n",
            "developer_id           int64\n",
            "developer_name_th     object\n",
            "developer_name_en     object\n",
            "description_th        object\n",
            "district_id          float64\n",
            "province_id          float64\n",
            "developer_status      object\n",
            "dtype: object\n",
            "-------------- NA DATA ------------------\n",
            "developer_id null : False\n",
            "developer_name_th null : False\n",
            "developer_name_en null : True\n",
            "description_th null : True\n",
            "district_id null : True\n",
            "province_id null : True\n",
            "developer_status null : False\n",
            "#########################################################################################################################\n",
            "(709, 7)\n"
          ],
          "name": "stdout"
        }
      ]
    },
    {
      "metadata": {
        "id": "8Wc1TrjKxahD",
        "colab_type": "code",
        "outputId": "32a3cf31-39b4-4382-c826-200728baa5d6",
        "colab": {
          "base_uri": "https://localhost:8080/",
          "height": 1108
        }
      },
      "cell_type": "code",
      "source": [
        "print('project_main')\n",
        "project_main = readDataFromDrive_HDT_single_col('1iRz0edC_tjIk0Ge33fKLZYN1ciXxup-0')  \n",
        "project_main = project_main.loc[project_main['province_id'] == 10]\n",
        "print(project_main.shape)\n",
        "project_main = project_main.drop(columns=['project_land_size_ngan', 'project_land_size_wa'])\n",
        "project_main.loc[project_main[\"project_status\"] == \"A\", \"project_status\"] = 1\n",
        "project_main.loc[project_main[\"project_status\"] == \"U\", \"project_status\"] = 0\n",
        "project_main = project_main.convert_objects(convert_numeric=True)\n",
        "project_main.head()"
      ],
      "execution_count": 8,
      "outputs": [
        {
          "output_type": "stream",
          "text": [
            "project_main\n",
            "project_id                  int64\n",
            "developer_id                int64\n",
            "brand_id                  float64\n",
            "project_name_th            object\n",
            "project_name_en            object\n",
            "district_id               float64\n",
            "province_id                 int64\n",
            "lat                       float64\n",
            "lon                       float64\n",
            "project_land_size_rai       int64\n",
            "project_land_size_ngan      int64\n",
            "project_land_size_wa        int64\n",
            "total_unit                float64\n",
            "percent_car_parking       float64\n",
            "starting_price            float64\n",
            "highest_price             float64\n",
            "project_status             object\n",
            "created_at                 object\n",
            "dtype: object\n",
            "project_id null : False\n",
            "developer_id null : False\n",
            "brand_id null : True\n",
            "project_name_th null : False\n",
            "project_name_en null : False\n",
            "district_id null : True\n",
            "province_id null : False\n",
            "lat null : True\n",
            "lon null : False\n",
            "project_land_size_rai null : False\n",
            "project_land_size_ngan null : False\n",
            "project_land_size_wa null : False\n",
            "total_unit null : True\n",
            "percent_car_parking null : True\n",
            "starting_price null : True\n",
            "highest_price null : True\n",
            "project_status null : False\n",
            "created_at null : False\n",
            "#########################################################################################################################\n",
            "(1775, 18)\n"
          ],
          "name": "stdout"
        },
        {
          "output_type": "stream",
          "text": [
            "/usr/local/lib/python3.6/dist-packages/ipykernel_launcher.py:9: FutureWarning: convert_objects is deprecated.  To re-infer data dtypes for object columns, use DataFrame.infer_objects()\n",
            "For all other conversions use the data-type specific converters pd.to_datetime, pd.to_timedelta and pd.to_numeric.\n",
            "  if __name__ == '__main__':\n",
            "/usr/local/lib/python3.6/dist-packages/ipykernel_launcher.py:8: FutureWarning: convert_objects is deprecated.  To re-infer data dtypes for object columns, use DataFrame.infer_objects()\n",
            "For all other conversions use the data-type specific converters pd.to_datetime, pd.to_timedelta and pd.to_numeric.\n",
            "  \n"
          ],
          "name": "stderr"
        },
        {
          "output_type": "execute_result",
          "data": {
            "text/html": [
              "<div>\n",
              "<style scoped>\n",
              "    .dataframe tbody tr th:only-of-type {\n",
              "        vertical-align: middle;\n",
              "    }\n",
              "\n",
              "    .dataframe tbody tr th {\n",
              "        vertical-align: top;\n",
              "    }\n",
              "\n",
              "    .dataframe thead th {\n",
              "        text-align: right;\n",
              "    }\n",
              "</style>\n",
              "<table border=\"1\" class=\"dataframe\">\n",
              "  <thead>\n",
              "    <tr style=\"text-align: right;\">\n",
              "      <th></th>\n",
              "      <th>project_id</th>\n",
              "      <th>developer_id</th>\n",
              "      <th>brand_id</th>\n",
              "      <th>project_name_th</th>\n",
              "      <th>project_name_en</th>\n",
              "      <th>district_id</th>\n",
              "      <th>province_id</th>\n",
              "      <th>lat</th>\n",
              "      <th>lon</th>\n",
              "      <th>project_land_size_rai</th>\n",
              "      <th>total_unit</th>\n",
              "      <th>percent_car_parking</th>\n",
              "      <th>starting_price</th>\n",
              "      <th>highest_price</th>\n",
              "      <th>project_status</th>\n",
              "      <th>created_at</th>\n",
              "    </tr>\n",
              "  </thead>\n",
              "  <tbody>\n",
              "    <tr>\n",
              "      <th>0</th>\n",
              "      <td>44</td>\n",
              "      <td>140786</td>\n",
              "      <td>0.0</td>\n",
              "      <td>พาร์ควิลล์ 3</td>\n",
              "      <td>Parkville 3</td>\n",
              "      <td>1046.0</td>\n",
              "      <td>10</td>\n",
              "      <td>13.891719</td>\n",
              "      <td>100.722099</td>\n",
              "      <td>54</td>\n",
              "      <td>NaN</td>\n",
              "      <td>NaN</td>\n",
              "      <td>3500000.0</td>\n",
              "      <td>3862000.0</td>\n",
              "      <td>1.0</td>\n",
              "      <td>2011-01-14T18:40:12.117+0700</td>\n",
              "    </tr>\n",
              "    <tr>\n",
              "      <th>1</th>\n",
              "      <td>24</td>\n",
              "      <td>1032</td>\n",
              "      <td>0.0</td>\n",
              "      <td>สัมมากร นิมิตใหม่</td>\n",
              "      <td>Sammakorn Nimitmai</td>\n",
              "      <td>1046.0</td>\n",
              "      <td>10</td>\n",
              "      <td>13.876590</td>\n",
              "      <td>100.731927</td>\n",
              "      <td>154</td>\n",
              "      <td>NaN</td>\n",
              "      <td>NaN</td>\n",
              "      <td>4590000.0</td>\n",
              "      <td>NaN</td>\n",
              "      <td>0.0</td>\n",
              "      <td>2011-02-24T21:43:59.297+0700</td>\n",
              "    </tr>\n",
              "    <tr>\n",
              "      <th>7</th>\n",
              "      <td>208</td>\n",
              "      <td>13323</td>\n",
              "      <td>NaN</td>\n",
              "      <td>ลิฟวิ่งนารา รามคำแหง-สุวรรณภูมิ</td>\n",
              "      <td>LIVING NARA RAMKHAMHAENG-SUVARNABHUMI</td>\n",
              "      <td>1011.0</td>\n",
              "      <td>10</td>\n",
              "      <td>13.769810</td>\n",
              "      <td>100.722040</td>\n",
              "      <td>44</td>\n",
              "      <td>201.0</td>\n",
              "      <td>NaN</td>\n",
              "      <td>3500000.0</td>\n",
              "      <td>7600000.0</td>\n",
              "      <td>0.0</td>\n",
              "      <td>2010-07-02T07:00:00.000+0700</td>\n",
              "    </tr>\n",
              "    <tr>\n",
              "      <th>8</th>\n",
              "      <td>228</td>\n",
              "      <td>6772</td>\n",
              "      <td>0.0</td>\n",
              "      <td>เค.ซี.รามอินทรา 5 (พระยาสุเรนทร์)</td>\n",
              "      <td>K.C. RAMINTRA 5</td>\n",
              "      <td>1046.0</td>\n",
              "      <td>10</td>\n",
              "      <td>13.862623</td>\n",
              "      <td>100.695135</td>\n",
              "      <td>34</td>\n",
              "      <td>NaN</td>\n",
              "      <td>NaN</td>\n",
              "      <td>1810000.0</td>\n",
              "      <td>NaN</td>\n",
              "      <td>0.0</td>\n",
              "      <td>2010-12-16T18:51:42.173+0700</td>\n",
              "    </tr>\n",
              "    <tr>\n",
              "      <th>11</th>\n",
              "      <td>982</td>\n",
              "      <td>12136</td>\n",
              "      <td>979.0</td>\n",
              "      <td>อนาวิลล์ สุวรรณภูมิ</td>\n",
              "      <td>Anaville Suvarnabhumi</td>\n",
              "      <td>1011.0</td>\n",
              "      <td>10</td>\n",
              "      <td>13.763348</td>\n",
              "      <td>100.803434</td>\n",
              "      <td>131</td>\n",
              "      <td>NaN</td>\n",
              "      <td>NaN</td>\n",
              "      <td>4300000.0</td>\n",
              "      <td>NaN</td>\n",
              "      <td>1.0</td>\n",
              "      <td>2011-01-17T22:55:47.317+0700</td>\n",
              "    </tr>\n",
              "  </tbody>\n",
              "</table>\n",
              "</div>"
            ],
            "text/plain": [
              "    project_id  developer_id  brand_id                    project_name_th  \\\n",
              "0           44        140786       0.0                       พาร์ควิลล์ 3   \n",
              "1           24          1032       0.0                  สัมมากร นิมิตใหม่   \n",
              "7          208         13323       NaN    ลิฟวิ่งนารา รามคำแหง-สุวรรณภูมิ   \n",
              "8          228          6772       0.0  เค.ซี.รามอินทรา 5 (พระยาสุเรนทร์)   \n",
              "11         982         12136     979.0                อนาวิลล์ สุวรรณภูมิ   \n",
              "\n",
              "                          project_name_en  district_id  province_id  \\\n",
              "0                             Parkville 3       1046.0           10   \n",
              "1                      Sammakorn Nimitmai       1046.0           10   \n",
              "7   LIVING NARA RAMKHAMHAENG-SUVARNABHUMI       1011.0           10   \n",
              "8                         K.C. RAMINTRA 5       1046.0           10   \n",
              "11                  Anaville Suvarnabhumi       1011.0           10   \n",
              "\n",
              "          lat         lon  project_land_size_rai  total_unit  \\\n",
              "0   13.891719  100.722099                     54         NaN   \n",
              "1   13.876590  100.731927                    154         NaN   \n",
              "7   13.769810  100.722040                     44       201.0   \n",
              "8   13.862623  100.695135                     34         NaN   \n",
              "11  13.763348  100.803434                    131         NaN   \n",
              "\n",
              "    percent_car_parking  starting_price  highest_price  project_status  \\\n",
              "0                   NaN       3500000.0      3862000.0             1.0   \n",
              "1                   NaN       4590000.0            NaN             0.0   \n",
              "7                   NaN       3500000.0      7600000.0             0.0   \n",
              "8                   NaN       1810000.0            NaN             0.0   \n",
              "11                  NaN       4300000.0            NaN             1.0   \n",
              "\n",
              "                      created_at  \n",
              "0   2011-01-14T18:40:12.117+0700  \n",
              "1   2011-02-24T21:43:59.297+0700  \n",
              "7   2010-07-02T07:00:00.000+0700  \n",
              "8   2010-12-16T18:51:42.173+0700  \n",
              "11  2011-01-17T22:55:47.317+0700  "
            ]
          },
          "metadata": {
            "tags": []
          },
          "execution_count": 8
        }
      ]
    },
    {
      "metadata": {
        "id": "D3rtLJS-lJ0g",
        "colab_type": "text"
      },
      "cell_type": "markdown",
      "source": [
        ""
      ]
    },
    {
      "metadata": {
        "id": "2N83pVt7xl2x",
        "colab_type": "code",
        "colab": {}
      },
      "cell_type": "code",
      "source": [
        "#project_main = project_main.drop(columns=['project_land_size_ngan', 'project_land_size_wa', 'project_name_th', 'project_name_en'])\n",
        "project_main = project_main.dropna(subset=['lat'])\n",
        "#project_main[\"starting_price\"] = project_main[\"starting_price\"].fillna(project_main[\"starting_price\"].median().iloc[0])\n",
        "project_main[\"starting_price\"] = project_main[\"starting_price\"].fillna(project_main[\"starting_price\"].mode().iloc[0])\n",
        "# df.fillna(df.mode().iloc[0])"
      ],
      "execution_count": 0,
      "outputs": []
    },
    {
      "metadata": {
        "id": "gqsJzM8UpYnH",
        "colab_type": "code",
        "colab": {}
      },
      "cell_type": "code",
      "source": [
        "def normalize_quassion(x):\n",
        "  x_min = np.min(x,axis = 0)\n",
        "  x_max = np.max(x,axis = 0)\n",
        "  x_nor = (x - x_min)/ (x_max - x_min)\n",
        "  return x_nor,x_min,x_max;"
      ],
      "execution_count": 0,
      "outputs": []
    },
    {
      "metadata": {
        "id": "Kjw1O2CVxcmi",
        "colab_type": "code",
        "outputId": "dc719471-bba1-4007-ed8d-b161e76ae481",
        "colab": {
          "base_uri": "https://localhost:8080/",
          "height": 377
        }
      },
      "cell_type": "code",
      "source": [
        "# project_facility  \n",
        "project_facility = readDataFromDrive_HDT_single_col('13jUinwDsk9sYvoMOBaTMfTM11912CvdO')\n",
        "project_facility.head()"
      ],
      "execution_count": 11,
      "outputs": [
        {
          "output_type": "stream",
          "text": [
            "project_id     int64\n",
            "facility_id    int64\n",
            "dtype: object\n",
            "project_id null : False\n",
            "facility_id null : False\n",
            "#########################################################################################################################\n"
          ],
          "name": "stdout"
        },
        {
          "output_type": "stream",
          "text": [
            "/usr/local/lib/python3.6/dist-packages/ipykernel_launcher.py:9: FutureWarning: convert_objects is deprecated.  To re-infer data dtypes for object columns, use DataFrame.infer_objects()\n",
            "For all other conversions use the data-type specific converters pd.to_datetime, pd.to_timedelta and pd.to_numeric.\n",
            "  if __name__ == '__main__':\n"
          ],
          "name": "stderr"
        },
        {
          "output_type": "execute_result",
          "data": {
            "text/html": [
              "<div>\n",
              "<style scoped>\n",
              "    .dataframe tbody tr th:only-of-type {\n",
              "        vertical-align: middle;\n",
              "    }\n",
              "\n",
              "    .dataframe tbody tr th {\n",
              "        vertical-align: top;\n",
              "    }\n",
              "\n",
              "    .dataframe thead th {\n",
              "        text-align: right;\n",
              "    }\n",
              "</style>\n",
              "<table border=\"1\" class=\"dataframe\">\n",
              "  <thead>\n",
              "    <tr style=\"text-align: right;\">\n",
              "      <th></th>\n",
              "      <th>project_id</th>\n",
              "      <th>facility_id</th>\n",
              "    </tr>\n",
              "  </thead>\n",
              "  <tbody>\n",
              "    <tr>\n",
              "      <th>0</th>\n",
              "      <td>4</td>\n",
              "      <td>1</td>\n",
              "    </tr>\n",
              "    <tr>\n",
              "      <th>1</th>\n",
              "      <td>4</td>\n",
              "      <td>3</td>\n",
              "    </tr>\n",
              "    <tr>\n",
              "      <th>2</th>\n",
              "      <td>4</td>\n",
              "      <td>4</td>\n",
              "    </tr>\n",
              "    <tr>\n",
              "      <th>3</th>\n",
              "      <td>4</td>\n",
              "      <td>5</td>\n",
              "    </tr>\n",
              "    <tr>\n",
              "      <th>4</th>\n",
              "      <td>45</td>\n",
              "      <td>2</td>\n",
              "    </tr>\n",
              "  </tbody>\n",
              "</table>\n",
              "</div>"
            ],
            "text/plain": [
              "   project_id  facility_id\n",
              "0           4            1\n",
              "1           4            3\n",
              "2           4            4\n",
              "3           4            5\n",
              "4          45            2"
            ]
          },
          "metadata": {
            "tags": []
          },
          "execution_count": 11
        }
      ]
    },
    {
      "metadata": {
        "id": "5p4wfZdGxmco",
        "colab_type": "code",
        "outputId": "ae5e4187-955a-49f8-cc15-4d842d364ccc",
        "colab": {
          "base_uri": "https://localhost:8080/",
          "height": 303
        }
      },
      "cell_type": "code",
      "source": [
        "project_facility_table = pd.crosstab(project_facility['project_id'], project_facility['facility_id'], rownames=['project_id'], colnames=['facility_id'])\n",
        "print(project_facility_table.index)\n",
        "project_facility_table.head()"
      ],
      "execution_count": 12,
      "outputs": [
        {
          "output_type": "stream",
          "text": [
            "Int64Index([   4,   24,   29,   41,   44,   45,   73,   95,  115,  133,\n",
            "            ...\n",
            "            9522, 9524, 9525, 9526, 9527, 9531, 9532, 9534, 9536, 9541],\n",
            "           dtype='int64', name='project_id', length=5039)\n"
          ],
          "name": "stdout"
        },
        {
          "output_type": "execute_result",
          "data": {
            "text/html": [
              "<div>\n",
              "<style scoped>\n",
              "    .dataframe tbody tr th:only-of-type {\n",
              "        vertical-align: middle;\n",
              "    }\n",
              "\n",
              "    .dataframe tbody tr th {\n",
              "        vertical-align: top;\n",
              "    }\n",
              "\n",
              "    .dataframe thead th {\n",
              "        text-align: right;\n",
              "    }\n",
              "</style>\n",
              "<table border=\"1\" class=\"dataframe\">\n",
              "  <thead>\n",
              "    <tr style=\"text-align: right;\">\n",
              "      <th>facility_id</th>\n",
              "      <th>1</th>\n",
              "      <th>2</th>\n",
              "      <th>3</th>\n",
              "      <th>4</th>\n",
              "      <th>5</th>\n",
              "      <th>6</th>\n",
              "    </tr>\n",
              "    <tr>\n",
              "      <th>project_id</th>\n",
              "      <th></th>\n",
              "      <th></th>\n",
              "      <th></th>\n",
              "      <th></th>\n",
              "      <th></th>\n",
              "      <th></th>\n",
              "    </tr>\n",
              "  </thead>\n",
              "  <tbody>\n",
              "    <tr>\n",
              "      <th>4</th>\n",
              "      <td>1</td>\n",
              "      <td>0</td>\n",
              "      <td>1</td>\n",
              "      <td>1</td>\n",
              "      <td>1</td>\n",
              "      <td>0</td>\n",
              "    </tr>\n",
              "    <tr>\n",
              "      <th>24</th>\n",
              "      <td>0</td>\n",
              "      <td>0</td>\n",
              "      <td>1</td>\n",
              "      <td>1</td>\n",
              "      <td>0</td>\n",
              "      <td>1</td>\n",
              "    </tr>\n",
              "    <tr>\n",
              "      <th>29</th>\n",
              "      <td>0</td>\n",
              "      <td>0</td>\n",
              "      <td>0</td>\n",
              "      <td>0</td>\n",
              "      <td>1</td>\n",
              "      <td>0</td>\n",
              "    </tr>\n",
              "    <tr>\n",
              "      <th>41</th>\n",
              "      <td>1</td>\n",
              "      <td>1</td>\n",
              "      <td>0</td>\n",
              "      <td>1</td>\n",
              "      <td>0</td>\n",
              "      <td>1</td>\n",
              "    </tr>\n",
              "    <tr>\n",
              "      <th>44</th>\n",
              "      <td>1</td>\n",
              "      <td>0</td>\n",
              "      <td>1</td>\n",
              "      <td>0</td>\n",
              "      <td>0</td>\n",
              "      <td>0</td>\n",
              "    </tr>\n",
              "  </tbody>\n",
              "</table>\n",
              "</div>"
            ],
            "text/plain": [
              "facility_id  1  2  3  4  5  6\n",
              "project_id                   \n",
              "4            1  0  1  1  1  0\n",
              "24           0  0  1  1  0  1\n",
              "29           0  0  0  0  1  0\n",
              "41           1  1  0  1  0  1\n",
              "44           1  0  1  0  0  0"
            ]
          },
          "metadata": {
            "tags": []
          },
          "execution_count": 12
        }
      ]
    },
    {
      "metadata": {
        "id": "DH_JZKdcc4ll",
        "colab_type": "code",
        "outputId": "137c594e-a22b-4df3-a2af-92ad3c0dced6",
        "colab": {
          "base_uri": "https://localhost:8080/",
          "height": 269
        }
      },
      "cell_type": "code",
      "source": [
        "project_facility_table = project_facility_table.loc[project_facility_table.index.isin(project_main['project_id'])]\n",
        "project_main = project_main.loc[project_main['project_id'].isin(project_facility_table.index.astype(int))]\n",
        "project_main = project_main.sort_values('project_id')\n",
        "print(project_facility_table.shape)\n",
        "print(project_main.shape)\n",
        "project_facility_table.head()"
      ],
      "execution_count": 13,
      "outputs": [
        {
          "output_type": "stream",
          "text": [
            "(1696, 6)\n",
            "(1696, 16)\n"
          ],
          "name": "stdout"
        },
        {
          "output_type": "execute_result",
          "data": {
            "text/html": [
              "<div>\n",
              "<style scoped>\n",
              "    .dataframe tbody tr th:only-of-type {\n",
              "        vertical-align: middle;\n",
              "    }\n",
              "\n",
              "    .dataframe tbody tr th {\n",
              "        vertical-align: top;\n",
              "    }\n",
              "\n",
              "    .dataframe thead th {\n",
              "        text-align: right;\n",
              "    }\n",
              "</style>\n",
              "<table border=\"1\" class=\"dataframe\">\n",
              "  <thead>\n",
              "    <tr style=\"text-align: right;\">\n",
              "      <th>facility_id</th>\n",
              "      <th>1</th>\n",
              "      <th>2</th>\n",
              "      <th>3</th>\n",
              "      <th>4</th>\n",
              "      <th>5</th>\n",
              "      <th>6</th>\n",
              "    </tr>\n",
              "    <tr>\n",
              "      <th>project_id</th>\n",
              "      <th></th>\n",
              "      <th></th>\n",
              "      <th></th>\n",
              "      <th></th>\n",
              "      <th></th>\n",
              "      <th></th>\n",
              "    </tr>\n",
              "  </thead>\n",
              "  <tbody>\n",
              "    <tr>\n",
              "      <th>24</th>\n",
              "      <td>0</td>\n",
              "      <td>0</td>\n",
              "      <td>1</td>\n",
              "      <td>1</td>\n",
              "      <td>0</td>\n",
              "      <td>1</td>\n",
              "    </tr>\n",
              "    <tr>\n",
              "      <th>44</th>\n",
              "      <td>1</td>\n",
              "      <td>0</td>\n",
              "      <td>1</td>\n",
              "      <td>0</td>\n",
              "      <td>0</td>\n",
              "      <td>0</td>\n",
              "    </tr>\n",
              "    <tr>\n",
              "      <th>45</th>\n",
              "      <td>0</td>\n",
              "      <td>1</td>\n",
              "      <td>1</td>\n",
              "      <td>1</td>\n",
              "      <td>1</td>\n",
              "      <td>0</td>\n",
              "    </tr>\n",
              "    <tr>\n",
              "      <th>95</th>\n",
              "      <td>1</td>\n",
              "      <td>0</td>\n",
              "      <td>0</td>\n",
              "      <td>0</td>\n",
              "      <td>0</td>\n",
              "      <td>0</td>\n",
              "    </tr>\n",
              "    <tr>\n",
              "      <th>133</th>\n",
              "      <td>1</td>\n",
              "      <td>0</td>\n",
              "      <td>1</td>\n",
              "      <td>0</td>\n",
              "      <td>1</td>\n",
              "      <td>0</td>\n",
              "    </tr>\n",
              "  </tbody>\n",
              "</table>\n",
              "</div>"
            ],
            "text/plain": [
              "facility_id  1  2  3  4  5  6\n",
              "project_id                   \n",
              "24           0  0  1  1  0  1\n",
              "44           1  0  1  0  0  0\n",
              "45           0  1  1  1  1  0\n",
              "95           1  0  0  0  0  0\n",
              "133          1  0  1  0  1  0"
            ]
          },
          "metadata": {
            "tags": []
          },
          "execution_count": 13
        }
      ]
    },
    {
      "metadata": {
        "id": "kXbSDY3lxdZC",
        "colab_type": "code",
        "outputId": "803923fa-fd3a-4bb9-c269-00d867a48cb6",
        "colab": {
          "base_uri": "https://localhost:8080/",
          "height": 309
        }
      },
      "cell_type": "code",
      "source": [
        "project_main.head()"
      ],
      "execution_count": 14,
      "outputs": [
        {
          "output_type": "execute_result",
          "data": {
            "text/html": [
              "<div>\n",
              "<style scoped>\n",
              "    .dataframe tbody tr th:only-of-type {\n",
              "        vertical-align: middle;\n",
              "    }\n",
              "\n",
              "    .dataframe tbody tr th {\n",
              "        vertical-align: top;\n",
              "    }\n",
              "\n",
              "    .dataframe thead th {\n",
              "        text-align: right;\n",
              "    }\n",
              "</style>\n",
              "<table border=\"1\" class=\"dataframe\">\n",
              "  <thead>\n",
              "    <tr style=\"text-align: right;\">\n",
              "      <th></th>\n",
              "      <th>project_id</th>\n",
              "      <th>developer_id</th>\n",
              "      <th>brand_id</th>\n",
              "      <th>project_name_th</th>\n",
              "      <th>project_name_en</th>\n",
              "      <th>district_id</th>\n",
              "      <th>province_id</th>\n",
              "      <th>lat</th>\n",
              "      <th>lon</th>\n",
              "      <th>project_land_size_rai</th>\n",
              "      <th>total_unit</th>\n",
              "      <th>percent_car_parking</th>\n",
              "      <th>starting_price</th>\n",
              "      <th>highest_price</th>\n",
              "      <th>project_status</th>\n",
              "      <th>created_at</th>\n",
              "    </tr>\n",
              "  </thead>\n",
              "  <tbody>\n",
              "    <tr>\n",
              "      <th>1</th>\n",
              "      <td>24</td>\n",
              "      <td>1032</td>\n",
              "      <td>0.0</td>\n",
              "      <td>สัมมากร นิมิตใหม่</td>\n",
              "      <td>Sammakorn Nimitmai</td>\n",
              "      <td>1046.0</td>\n",
              "      <td>10</td>\n",
              "      <td>13.876590</td>\n",
              "      <td>100.731927</td>\n",
              "      <td>154</td>\n",
              "      <td>NaN</td>\n",
              "      <td>NaN</td>\n",
              "      <td>4590000.0</td>\n",
              "      <td>NaN</td>\n",
              "      <td>0.0</td>\n",
              "      <td>2011-02-24T21:43:59.297+0700</td>\n",
              "    </tr>\n",
              "    <tr>\n",
              "      <th>0</th>\n",
              "      <td>44</td>\n",
              "      <td>140786</td>\n",
              "      <td>0.0</td>\n",
              "      <td>พาร์ควิลล์ 3</td>\n",
              "      <td>Parkville 3</td>\n",
              "      <td>1046.0</td>\n",
              "      <td>10</td>\n",
              "      <td>13.891719</td>\n",
              "      <td>100.722099</td>\n",
              "      <td>54</td>\n",
              "      <td>NaN</td>\n",
              "      <td>NaN</td>\n",
              "      <td>3500000.0</td>\n",
              "      <td>3862000.0</td>\n",
              "      <td>1.0</td>\n",
              "      <td>2011-01-14T18:40:12.117+0700</td>\n",
              "    </tr>\n",
              "    <tr>\n",
              "      <th>164</th>\n",
              "      <td>45</td>\n",
              "      <td>2840</td>\n",
              "      <td>0.0</td>\n",
              "      <td>พาร์คเวย์ ชาเล่ต์</td>\n",
              "      <td>parkway chalet</td>\n",
              "      <td>1010.0</td>\n",
              "      <td>10</td>\n",
              "      <td>13.803465</td>\n",
              "      <td>100.727406</td>\n",
              "      <td>87</td>\n",
              "      <td>NaN</td>\n",
              "      <td>NaN</td>\n",
              "      <td>5500000.0</td>\n",
              "      <td>NaN</td>\n",
              "      <td>0.0</td>\n",
              "      <td>2011-03-28T23:27:08.833+0700</td>\n",
              "    </tr>\n",
              "    <tr>\n",
              "      <th>172</th>\n",
              "      <td>95</td>\n",
              "      <td>2730</td>\n",
              "      <td>NaN</td>\n",
              "      <td>อารีน่า พาร์ค ชวนชื่น ซิตี้</td>\n",
              "      <td></td>\n",
              "      <td>1005.0</td>\n",
              "      <td>10</td>\n",
              "      <td>13.859276</td>\n",
              "      <td>100.665287</td>\n",
              "      <td>79</td>\n",
              "      <td>NaN</td>\n",
              "      <td>NaN</td>\n",
              "      <td>2000000.0</td>\n",
              "      <td>5000000.0</td>\n",
              "      <td>0.0</td>\n",
              "      <td>2007-04-18T23:02:22.000+0700</td>\n",
              "    </tr>\n",
              "    <tr>\n",
              "      <th>185</th>\n",
              "      <td>133</td>\n",
              "      <td>6772</td>\n",
              "      <td>538.0</td>\n",
              "      <td>เค.ซี.เลควิว</td>\n",
              "      <td>K.C. LAKEVIEW</td>\n",
              "      <td>1044.0</td>\n",
              "      <td>10</td>\n",
              "      <td>13.759440</td>\n",
              "      <td>100.679230</td>\n",
              "      <td>60</td>\n",
              "      <td>NaN</td>\n",
              "      <td>NaN</td>\n",
              "      <td>11000000.0</td>\n",
              "      <td>NaN</td>\n",
              "      <td>1.0</td>\n",
              "      <td>2011-01-14T18:42:51.630+0700</td>\n",
              "    </tr>\n",
              "  </tbody>\n",
              "</table>\n",
              "</div>"
            ],
            "text/plain": [
              "     project_id  developer_id  brand_id              project_name_th  \\\n",
              "1            24          1032       0.0            สัมมากร นิมิตใหม่   \n",
              "0            44        140786       0.0                 พาร์ควิลล์ 3   \n",
              "164          45          2840       0.0            พาร์คเวย์ ชาเล่ต์   \n",
              "172          95          2730       NaN  อารีน่า พาร์ค ชวนชื่น ซิตี้   \n",
              "185         133          6772     538.0                 เค.ซี.เลควิว   \n",
              "\n",
              "        project_name_en  district_id  province_id        lat         lon  \\\n",
              "1    Sammakorn Nimitmai       1046.0           10  13.876590  100.731927   \n",
              "0           Parkville 3       1046.0           10  13.891719  100.722099   \n",
              "164      parkway chalet       1010.0           10  13.803465  100.727406   \n",
              "172                           1005.0           10  13.859276  100.665287   \n",
              "185       K.C. LAKEVIEW       1044.0           10  13.759440  100.679230   \n",
              "\n",
              "     project_land_size_rai  total_unit  percent_car_parking  starting_price  \\\n",
              "1                      154         NaN                  NaN       4590000.0   \n",
              "0                       54         NaN                  NaN       3500000.0   \n",
              "164                     87         NaN                  NaN       5500000.0   \n",
              "172                     79         NaN                  NaN       2000000.0   \n",
              "185                     60         NaN                  NaN      11000000.0   \n",
              "\n",
              "     highest_price  project_status                    created_at  \n",
              "1              NaN             0.0  2011-02-24T21:43:59.297+0700  \n",
              "0        3862000.0             1.0  2011-01-14T18:40:12.117+0700  \n",
              "164            NaN             0.0  2011-03-28T23:27:08.833+0700  \n",
              "172      5000000.0             0.0  2007-04-18T23:02:22.000+0700  \n",
              "185            NaN             1.0  2011-01-14T18:42:51.630+0700  "
            ]
          },
          "metadata": {
            "tags": []
          },
          "execution_count": 14
        }
      ]
    },
    {
      "metadata": {
        "id": "w8H0tzGfxnnq",
        "colab_type": "code",
        "outputId": "c9bc69a6-d07f-4862-ecf4-152b816d8d7f",
        "colab": {
          "base_uri": "https://localhost:8080/",
          "height": 221
        }
      },
      "cell_type": "code",
      "source": [
        "print(userLog.shape)\n",
        "userLog.head()"
      ],
      "execution_count": 15,
      "outputs": [
        {
          "output_type": "stream",
          "text": [
            "(1234579, 9)\n"
          ],
          "name": "stdout"
        },
        {
          "output_type": "execute_result",
          "data": {
            "text/html": [
              "<div>\n",
              "<style scoped>\n",
              "    .dataframe tbody tr th:only-of-type {\n",
              "        vertical-align: middle;\n",
              "    }\n",
              "\n",
              "    .dataframe tbody tr th {\n",
              "        vertical-align: top;\n",
              "    }\n",
              "\n",
              "    .dataframe thead th {\n",
              "        text-align: right;\n",
              "    }\n",
              "</style>\n",
              "<table border=\"1\" class=\"dataframe\">\n",
              "  <thead>\n",
              "    <tr style=\"text-align: right;\">\n",
              "      <th></th>\n",
              "      <th>userCode</th>\n",
              "      <th>project_id</th>\n",
              "      <th>requestedDevice</th>\n",
              "      <th>userAgent</th>\n",
              "      <th>pageReferrer</th>\n",
              "      <th>year</th>\n",
              "      <th>month</th>\n",
              "      <th>day</th>\n",
              "      <th>hour</th>\n",
              "    </tr>\n",
              "  </thead>\n",
              "  <tbody>\n",
              "    <tr>\n",
              "      <th>0</th>\n",
              "      <td>7717bdc2-ea3e-e8ad-5d6b-178bd71c38b2</td>\n",
              "      <td>7956</td>\n",
              "      <td>Mobile</td>\n",
              "      <td>Android</td>\n",
              "      <td>HomeWebsite</td>\n",
              "      <td>2018</td>\n",
              "      <td>1</td>\n",
              "      <td>1</td>\n",
              "      <td>0</td>\n",
              "    </tr>\n",
              "    <tr>\n",
              "      <th>1</th>\n",
              "      <td>7717bdc2-ea3e-e8ad-5d6b-178bd71c38b2</td>\n",
              "      <td>7956</td>\n",
              "      <td>Mobile</td>\n",
              "      <td>Android</td>\n",
              "      <td>HomeWebsite</td>\n",
              "      <td>2018</td>\n",
              "      <td>1</td>\n",
              "      <td>1</td>\n",
              "      <td>0</td>\n",
              "    </tr>\n",
              "    <tr>\n",
              "      <th>2</th>\n",
              "      <td>cb5b4b68-cc01-6db6-f54b-4a0f881301c5</td>\n",
              "      <td>5067</td>\n",
              "      <td>Mobile</td>\n",
              "      <td>iPhone</td>\n",
              "      <td>HomeWebsite</td>\n",
              "      <td>2018</td>\n",
              "      <td>1</td>\n",
              "      <td>1</td>\n",
              "      <td>0</td>\n",
              "    </tr>\n",
              "    <tr>\n",
              "      <th>3</th>\n",
              "      <td>5f74cef2-0d1e-b619-3564-0955a14e0985</td>\n",
              "      <td>6654</td>\n",
              "      <td>Mobile</td>\n",
              "      <td>iPhone</td>\n",
              "      <td>Google</td>\n",
              "      <td>2018</td>\n",
              "      <td>1</td>\n",
              "      <td>1</td>\n",
              "      <td>0</td>\n",
              "    </tr>\n",
              "    <tr>\n",
              "      <th>4</th>\n",
              "      <td>dba8f279-844e-eef6-73ac-22bd7d1353cc</td>\n",
              "      <td>6474</td>\n",
              "      <td>Mobile</td>\n",
              "      <td>iPad</td>\n",
              "      <td>Google</td>\n",
              "      <td>2018</td>\n",
              "      <td>1</td>\n",
              "      <td>1</td>\n",
              "      <td>0</td>\n",
              "    </tr>\n",
              "  </tbody>\n",
              "</table>\n",
              "</div>"
            ],
            "text/plain": [
              "                               userCode  project_id requestedDevice userAgent  \\\n",
              "0  7717bdc2-ea3e-e8ad-5d6b-178bd71c38b2        7956          Mobile   Android   \n",
              "1  7717bdc2-ea3e-e8ad-5d6b-178bd71c38b2        7956          Mobile   Android   \n",
              "2  cb5b4b68-cc01-6db6-f54b-4a0f881301c5        5067          Mobile    iPhone   \n",
              "3  5f74cef2-0d1e-b619-3564-0955a14e0985        6654          Mobile    iPhone   \n",
              "4  dba8f279-844e-eef6-73ac-22bd7d1353cc        6474          Mobile      iPad   \n",
              "\n",
              "  pageReferrer  year  month  day  hour  \n",
              "0  HomeWebsite  2018      1    1     0  \n",
              "1  HomeWebsite  2018      1    1     0  \n",
              "2  HomeWebsite  2018      1    1     0  \n",
              "3       Google  2018      1    1     0  \n",
              "4       Google  2018      1    1     0  "
            ]
          },
          "metadata": {
            "tags": []
          },
          "execution_count": 15
        }
      ]
    },
    {
      "metadata": {
        "id": "jFlYQc7mnuoM",
        "colab_type": "code",
        "outputId": "18f7b123-2154-4169-c217-9974a984a0d6",
        "colab": {
          "base_uri": "https://localhost:8080/",
          "height": 34
        }
      },
      "cell_type": "code",
      "source": [
        "print(userLog.loc[userLog['project_id'].isin(project_facility_table.index.astype(int))].shape)\n",
        "userLog = userLog.loc[userLog['project_id'].isin(project_facility_table.index.astype(int))]"
      ],
      "execution_count": 16,
      "outputs": [
        {
          "output_type": "stream",
          "text": [
            "(405423, 9)\n"
          ],
          "name": "stdout"
        }
      ]
    },
    {
      "metadata": {
        "id": "p8CWwKunxf47",
        "colab_type": "code",
        "outputId": "a2b6be27-a38d-4199-be17-8162a92270b7",
        "colab": {
          "base_uri": "https://localhost:8080/",
          "height": 136
        }
      },
      "cell_type": "code",
      "source": [
        "userLog_freq_user = userLog['userCode'].value_counts()\n",
        "userLog_freq_user_np  = np.array(userLog_freq_user.values)\n",
        "userLog_freq_proj = userLog['project_id'].value_counts()\n",
        "userLog_freq_proj_np = np.array(userLog_freq_proj.values)\n",
        "print(userLog_freq_user_np.shape)\n",
        "userLog_freq_user.head()\n",
        "\n",
        "\n"
      ],
      "execution_count": 17,
      "outputs": [
        {
          "output_type": "stream",
          "text": [
            "(175113,)\n"
          ],
          "name": "stdout"
        },
        {
          "output_type": "execute_result",
          "data": {
            "text/plain": [
              "de89bac5-57c6-ecfb-184d-cc4e973c31ac    7406\n",
              "31bb9bf0-8ad5-3e50-f334-e6c7de89bac5    3462\n",
              "eec0a125-d5ab-f692-c501-4713c35c756d     703\n",
              "e400406a-b73d-3e78-d37d-53fcddebccaf     518\n",
              "1aecd8e5-f02b-ba5c-e865-49da43ad8f22     471\n",
              "Name: userCode, dtype: int64"
            ]
          },
          "metadata": {
            "tags": []
          },
          "execution_count": 17
        }
      ]
    },
    {
      "metadata": {
        "id": "Bo48mxtHg_Y3",
        "colab_type": "code",
        "outputId": "17c1d317-36fb-4a4c-a99a-d76fe01fe0d0",
        "colab": {
          "base_uri": "https://localhost:8080/",
          "height": 71
        }
      },
      "cell_type": "code",
      "source": [
        "print(userLog_freq_proj.shape)\n",
        "userLog_freq_proj.head()\n",
        "\n",
        "'''\n",
        "hist, bin_edge = np.histogram(userLog_freq_proj_np, 1000)\n",
        "# make sure to import matplotlib.pyplot as plt\n",
        "# plot the histogram\n",
        "plt.fill_between(bin_edge.repeat(2)[1:-1],hist.repeat(2),facecolor='steelblue')\n",
        "plt.show()\n",
        "'''\n",
        "\n"
      ],
      "execution_count": 18,
      "outputs": [
        {
          "output_type": "stream",
          "text": [
            "(1684,)\n"
          ],
          "name": "stdout"
        },
        {
          "output_type": "execute_result",
          "data": {
            "text/plain": [
              "\"\\nhist, bin_edge = np.histogram(userLog_freq_proj_np, 1000)\\n# make sure to import matplotlib.pyplot as plt\\n# plot the histogram\\nplt.fill_between(bin_edge.repeat(2)[1:-1],hist.repeat(2),facecolor='steelblue')\\nplt.show()\\n\""
            ]
          },
          "metadata": {
            "tags": []
          },
          "execution_count": 18
        }
      ]
    },
    {
      "metadata": {
        "id": "zikNtaP2hzpF",
        "colab_type": "code",
        "outputId": "b0c14db4-0d04-4756-e43c-588eb6bc3e12",
        "colab": {
          "base_uri": "https://localhost:8080/",
          "height": 102
        }
      },
      "cell_type": "code",
      "source": [
        "print(mode(userLog_freq_user_np))\n",
        "print(np.percentile(userLog_freq_user_np, 90))\n",
        "print('++++++++++++++++++++++++++++++++++++++++++')\n",
        "print(mode(userLog_freq_proj_np))\n",
        "print(np.percentile(userLog_freq_proj_np, 90))"
      ],
      "execution_count": 19,
      "outputs": [
        {
          "output_type": "stream",
          "text": [
            "ModeResult(mode=array([1]), count=array([110643]))\n",
            "4.0\n",
            "++++++++++++++++++++++++++++++++++++++++++\n",
            "ModeResult(mode=array([1]), count=array([49]))\n",
            "580.4000000000001\n"
          ],
          "name": "stdout"
        }
      ]
    },
    {
      "metadata": {
        "id": "FhAX6jKbz7cB",
        "colab_type": "code",
        "outputId": "3c8cee1a-eb75-42b3-edea-479eef14c67e",
        "colab": {
          "base_uri": "https://localhost:8080/",
          "height": 68
        }
      },
      "cell_type": "code",
      "source": [
        "print(np.percentile(userLog_freq_user_np, 90))\n",
        "normal_user = userLog_freq_user.loc[userLog_freq_user <= np.percentile(userLog_freq_user_np, 90) ].index\n",
        "print(normal_user.shape)\n",
        "# print(normal_user)\n",
        "# print(normal_user.index)\n",
        "userLog = userLog.loc[userLog['userCode'].isin(normal_user)]\n",
        "userLog.shape"
      ],
      "execution_count": 20,
      "outputs": [
        {
          "output_type": "stream",
          "text": [
            "4.0\n",
            "(159646,)\n"
          ],
          "name": "stdout"
        },
        {
          "output_type": "execute_result",
          "data": {
            "text/plain": [
              "(234865, 9)"
            ]
          },
          "metadata": {
            "tags": []
          },
          "execution_count": 20
        }
      ]
    },
    {
      "metadata": {
        "id": "VCGqFk3V09GG",
        "colab_type": "code",
        "outputId": "ef2c93ac-5c94-4979-f303-aeebe4f3ec76",
        "colab": {
          "base_uri": "https://localhost:8080/",
          "height": 272
        }
      },
      "cell_type": "code",
      "source": [
        "# we use only 600 project to compute fast\n",
        "top_600_percentile = 100 - (600*100/userLog_freq_proj.shape[0])\n",
        "print(top_600_percentile)\n",
        "print(np.percentile(userLog_freq_proj_np, top_600_percentile))\n",
        "proj_top_600 = userLog_freq_proj.loc[ userLog_freq_proj >= np.percentile(userLog_freq_proj_np, top_600_percentile) ].index\n",
        "print(proj_top_600.shape)\n",
        "\n",
        "# print(proj_top_600)\n",
        "userLog = userLog.loc[userLog['project_id'].isin(proj_top_600)]\n",
        "print(userLog.shape)\n",
        "userLog.head()\n"
      ],
      "execution_count": 21,
      "outputs": [
        {
          "output_type": "stream",
          "text": [
            "64.37054631828978\n",
            "196.3562945368169\n",
            "(600,)\n",
            "(192626, 9)\n"
          ],
          "name": "stdout"
        },
        {
          "output_type": "execute_result",
          "data": {
            "text/html": [
              "<div>\n",
              "<style scoped>\n",
              "    .dataframe tbody tr th:only-of-type {\n",
              "        vertical-align: middle;\n",
              "    }\n",
              "\n",
              "    .dataframe tbody tr th {\n",
              "        vertical-align: top;\n",
              "    }\n",
              "\n",
              "    .dataframe thead th {\n",
              "        text-align: right;\n",
              "    }\n",
              "</style>\n",
              "<table border=\"1\" class=\"dataframe\">\n",
              "  <thead>\n",
              "    <tr style=\"text-align: right;\">\n",
              "      <th></th>\n",
              "      <th>userCode</th>\n",
              "      <th>project_id</th>\n",
              "      <th>requestedDevice</th>\n",
              "      <th>userAgent</th>\n",
              "      <th>pageReferrer</th>\n",
              "      <th>year</th>\n",
              "      <th>month</th>\n",
              "      <th>day</th>\n",
              "      <th>hour</th>\n",
              "    </tr>\n",
              "  </thead>\n",
              "  <tbody>\n",
              "    <tr>\n",
              "      <th>8</th>\n",
              "      <td>9794fe34-fb0f-4242-8a35-7610cb1e0ee8</td>\n",
              "      <td>9323</td>\n",
              "      <td>Mobile</td>\n",
              "      <td>iPad</td>\n",
              "      <td>Facebook</td>\n",
              "      <td>2018</td>\n",
              "      <td>1</td>\n",
              "      <td>1</td>\n",
              "      <td>0</td>\n",
              "    </tr>\n",
              "    <tr>\n",
              "      <th>10</th>\n",
              "      <td>9794fe34-fb0f-4242-8a35-7610cb1e0ee8</td>\n",
              "      <td>9323</td>\n",
              "      <td>Mobile</td>\n",
              "      <td>iPad</td>\n",
              "      <td>HomeWebsite</td>\n",
              "      <td>2018</td>\n",
              "      <td>1</td>\n",
              "      <td>1</td>\n",
              "      <td>0</td>\n",
              "    </tr>\n",
              "    <tr>\n",
              "      <th>12</th>\n",
              "      <td>5badf2de-4bc2-c66b-64fd-13184832dfa0</td>\n",
              "      <td>2560</td>\n",
              "      <td>Desktop</td>\n",
              "      <td>Windows</td>\n",
              "      <td>Google</td>\n",
              "      <td>2018</td>\n",
              "      <td>1</td>\n",
              "      <td>1</td>\n",
              "      <td>0</td>\n",
              "    </tr>\n",
              "    <tr>\n",
              "      <th>14</th>\n",
              "      <td>67134749-f09c-747e-777c-59d7cba5e179</td>\n",
              "      <td>4201</td>\n",
              "      <td>Mobile</td>\n",
              "      <td>iPhone</td>\n",
              "      <td>Other_PageReferer</td>\n",
              "      <td>2018</td>\n",
              "      <td>1</td>\n",
              "      <td>1</td>\n",
              "      <td>0</td>\n",
              "    </tr>\n",
              "    <tr>\n",
              "      <th>15</th>\n",
              "      <td>a9edf492-d59f-874b-88ab-a729bacef361</td>\n",
              "      <td>3860</td>\n",
              "      <td>Mobile</td>\n",
              "      <td>iPhone</td>\n",
              "      <td>Google</td>\n",
              "      <td>2018</td>\n",
              "      <td>1</td>\n",
              "      <td>1</td>\n",
              "      <td>0</td>\n",
              "    </tr>\n",
              "  </tbody>\n",
              "</table>\n",
              "</div>"
            ],
            "text/plain": [
              "                                userCode  project_id requestedDevice  \\\n",
              "8   9794fe34-fb0f-4242-8a35-7610cb1e0ee8        9323          Mobile   \n",
              "10  9794fe34-fb0f-4242-8a35-7610cb1e0ee8        9323          Mobile   \n",
              "12  5badf2de-4bc2-c66b-64fd-13184832dfa0        2560         Desktop   \n",
              "14  67134749-f09c-747e-777c-59d7cba5e179        4201          Mobile   \n",
              "15  a9edf492-d59f-874b-88ab-a729bacef361        3860          Mobile   \n",
              "\n",
              "   userAgent       pageReferrer  year  month  day  hour  \n",
              "8       iPad           Facebook  2018      1    1     0  \n",
              "10      iPad        HomeWebsite  2018      1    1     0  \n",
              "12   Windows             Google  2018      1    1     0  \n",
              "14    iPhone  Other_PageReferer  2018      1    1     0  \n",
              "15    iPhone             Google  2018      1    1     0  "
            ]
          },
          "metadata": {
            "tags": []
          },
          "execution_count": 21
        }
      ]
    },
    {
      "metadata": {
        "id": "JLNjbno6kSch",
        "colab_type": "code",
        "outputId": "98f07c52-3010-42d4-a61d-fdb1cb58d8fe",
        "colab": {
          "base_uri": "https://localhost:8080/",
          "height": 51
        }
      },
      "cell_type": "code",
      "source": [
        "## clear to top 600\n",
        "\n",
        "project_facility_table = project_facility_table.loc[project_facility_table.index.isin(proj_top_600)]\n",
        "project_main = project_main.loc[project_main['project_id'].isin(proj_top_600)]\n",
        "\n",
        "print(project_facility_table.shape)\n",
        "print(project_main.shape)"
      ],
      "execution_count": 22,
      "outputs": [
        {
          "output_type": "stream",
          "text": [
            "(600, 6)\n",
            "(600, 16)\n"
          ],
          "name": "stdout"
        }
      ]
    },
    {
      "metadata": {
        "id": "dB8O8mef-IOm",
        "colab_type": "code",
        "outputId": "0e926eee-bb1d-48ba-82ce-c5d33f087d98",
        "colab": {
          "base_uri": "https://localhost:8080/",
          "height": 34
        }
      },
      "cell_type": "code",
      "source": [
        "project_main_np_data  = np.hstack((np.array(project_main[[\"lat\",\"lon\",\"starting_price\"]].values) , np.array(project_facility_table.values)))    \n",
        "project_main_np_data_nor,project_main_np_data_min,project_main_np_data_max  = normalize_quassion(project_main_np_data)\n",
        "#### back to data ##################################\n",
        "# project_main_np_data == project_main_np_data_std * project_main_np_data_nor + project_main_np_data_mean\n",
        "####################################################\n",
        "# print(project_main_np_data_nor)\n",
        "\n",
        "#project_main_np_data  = np.array(project_main[[\"lat\",\"lon\"]].values\n",
        "print(np.count_nonzero(np.isnan(project_main_np_data_nor)))\n",
        "# project_main_proj_id = np.array(project_main[\"project_id\"].values)\n",
        "\n",
        "#print(a)\n",
        "#print(b)\n",
        "\n"
      ],
      "execution_count": 23,
      "outputs": [
        {
          "output_type": "stream",
          "text": [
            "0\n"
          ],
          "name": "stdout"
        }
      ]
    },
    {
      "metadata": {
        "id": "db8fEuk4fhTe",
        "colab_type": "text"
      },
      "cell_type": "markdown",
      "source": [
        "# K-mean"
      ]
    },
    {
      "metadata": {
        "id": "RukG4mI7do-I",
        "colab_type": "code",
        "outputId": "d8539e7c-0781-422a-a116-0ca1d5cd32e7",
        "colab": {
          "base_uri": "https://localhost:8080/",
          "height": 677
        }
      },
      "cell_type": "code",
      "source": [
        "plt.plot(project_main_np_data[:,0], project_main_np_data[:,1], 'r^')\n",
        "plt.show()\n",
        "##\n",
        "from sklearn.cluster import KMeans\n",
        "kmean_result =  KMeans(n_clusters=8).fit(project_main_np_data_nor)\n",
        "kmean_result.fit(project_main_np_data)\n",
        "# print(kmean_result.labels_)\n",
        "### k-mean \n",
        "colors = ['bo', 'go', 'ro', 'co', 'mo', 'yo', 'ko', 'wo']\n",
        "for i in np.arange(project_main_np_data.shape[0]):\n",
        "  plt.plot(project_main_np_data[i,0], project_main_np_data[i,1], colors[kmean_result.labels_[i]])\n",
        "plt.show()\n",
        "\n",
        "##\n"
      ],
      "execution_count": 26,
      "outputs": [
        {
          "output_type": "display_data",
          "data": {
            "image/png": "[encoded data removed]",
            "text/plain": [
              "<Figure size 576x396 with 1 Axes>"
            ]
          },
          "metadata": {
            "tags": []
          }
        },
        {
          "output_type": "display_data",
          "data": {
            "image/png": "[encoded data removed]",
            "text/plain": [
              "<Figure size 576x396 with 1 Axes>"
            ]
          },
          "metadata": {
            "tags": []
          }
        }
      ]
    },
    {
      "metadata": {
        "id": "Hm2cLZ9gxoR3",
        "colab_type": "code",
        "colab": {}
      },
      "cell_type": "code",
      "source": [
        "# recommentdation system\n",
        "def feature_sel(userCode,np_proj_fea_min,np_proj_fea_max):\n",
        "  user_Log_data = userLog.loc[userLog['userCode'].isin(userCode)]\n",
        "  #print(user_Log_data)\n",
        "  user_seen_proj = user_Log_data['project_id'].values\n",
        "  #print(user_seen_proj)\n",
        "  user_proj_far = project_facility_table.loc[project_facility_table.index.isin(user_seen_proj)]\n",
        "  #print(user_proj_far.values)\n",
        "  user_proj_main = project_main.loc[project_main['project_id'].isin(user_seen_proj)]\n",
        "  #print(user_proj_main.values)\n",
        "  np_data = np.hstack(( np.array(user_proj_main[[\"lat\",\"lon\",\"starting_price\"]].values) ,  np.array(user_proj_far.values) ))\n",
        "  np_data_nor = (np_data - np_proj_fea_min)/(np_proj_fea_max-np_proj_fea_min)\n",
        "  np_data_nor = np.mean(np_data_nor,axis = 0)\n",
        "  print(np_data_nor.shape)\n",
        "  return np_data_nor,user_seen_proj;\n",
        "  #return ;\n",
        "  \n",
        "  \n",
        "  \n",
        "  \n",
        "  # project_main_np_data_mean,project_main_np_data_std\n",
        "  # project_main_np_data  = np.hstack((np.array(project_main[[\"lat\",\"lon\",\"starting_price\"]].values) , np.array(project_facility_table.values)))  "
      ],
      "execution_count": 0,
      "outputs": []
    },
    {
      "metadata": {
        "id": "JjQHroAsxo6A",
        "colab_type": "code",
        "outputId": "9bdb3440-4d27-4abd-9334-869404653857",
        "colab": {
          "base_uri": "https://localhost:8080/",
          "height": 289
        }
      },
      "cell_type": "code",
      "source": [
        "from sklearn.neighbors import NearestNeighbors\n",
        "import numpy as np\n",
        "X = np.array([[-1, -1], [-2, -1], [-3, -2], [1, 1], [2, 1], [3, 2]])\n",
        "nbrs = NearestNeighbors(n_neighbors=5, algorithm='ball_tree').fit(X)\n",
        "distances, indices = nbrs.kneighbors(X)\n",
        "print(indices)\n",
        "print(distances)\n",
        "# print(nbrs.predict(np.array([1,2])))\n",
        "print('+++++++++++++++++++++++++++++++++++++')\n",
        "Y = np.random.randn(1,2)+1\n",
        "print(Y)\n",
        "distances, indices = nbrs.kneighbors(Y)\n",
        "print(indices)\n",
        "print(distances)"
      ],
      "execution_count": 28,
      "outputs": [
        {
          "output_type": "stream",
          "text": [
            "[[0 1 2 3 4]\n",
            " [1 0 2 3 4]\n",
            " [2 1 0 3 4]\n",
            " [3 4 5 0 1]\n",
            " [4 3 5 0 1]\n",
            " [5 4 3 0 1]]\n",
            "[[0.         1.         2.23606798 2.82842712 3.60555128]\n",
            " [0.         1.         1.41421356 3.60555128 4.47213595]\n",
            " [0.         1.41421356 2.23606798 5.         5.83095189]\n",
            " [0.         1.         2.23606798 2.82842712 3.60555128]\n",
            " [0.         1.         1.41421356 3.60555128 4.47213595]\n",
            " [0.         1.41421356 2.23606798 5.         5.83095189]]\n",
            "+++++++++++++++++++++++++++++++++++++\n",
            "[[1.49494898 2.72436843]]\n",
            "[[5 3 4 0 1]]\n",
            "[[1.67029584 1.79399581 1.79680912 4.48282172 5.10740527]]\n"
          ],
          "name": "stdout"
        }
      ]
    },
    {
      "metadata": {
        "id": "fefnFvw5xhYI",
        "colab_type": "code",
        "outputId": "aacb87f6-66a4-4268-8491-19243df43955",
        "colab": {
          "base_uri": "https://localhost:8080/",
          "height": 1003
        }
      },
      "cell_type": "code",
      "source": [
        "from sklearn.neighbors import NearestNeighbors\n",
        "import numpy as np\n",
        "nbrs_proj = NearestNeighbors(n_neighbors=5, algorithm='ball_tree').fit(project_main_np_data_nor)\n",
        "# print(project_main_np_data_nor)\n",
        "sample_usercode = np.random.randint(userLog.shape[0],size = 1)\n",
        "print(sample_usercode)\n",
        "user_sample_code = userLog['userCode'].iloc[sample_usercode].values\n",
        "print(user_sample_code)\n",
        "user_sample_feature,user_sample_seen_proj = feature_sel(user_sample_code,project_main_np_data_min,project_main_np_data_max) # project_main_np_data_min,project_main_np_data_max\n",
        "print(user_sample_feature)\n",
        "distances, indices = nbrs_proj.kneighbors([user_sample_feature])\n",
        "print('index')\n",
        "print(indices)\n",
        "print('dis')\n",
        "print(distances)\n",
        "print('----------------------------------------------------')\n",
        "\n",
        "\n",
        "\n",
        "print(project_main.iloc[indices[0]])\n",
        "print('ooooooooooooooooooooooooooooooooooooooooooooooooooooooooooooooooooooo')\n",
        "print(user_sample_seen_proj)\n",
        "print(project_main.loc[project_main['project_id'].isin(user_sample_seen_proj)])\n",
        "# print(nbrs.predict(np.array([1,2])))\n",
        "print('+++++++++++++++++++++++++++++++++++++')\n",
        "#Y = np.random.randn(1,2)+1\n",
        "#print(Y)\n",
        "#distances, indices = nbrs.kneighbors(Y)\n",
        "#print(indices)\n",
        "#print(distances)\n",
        "\n",
        "# project_main.iloc[[2]]\n",
        "\n",
        "\n"
      ],
      "execution_count": 43,
      "outputs": [
        {
          "output_type": "stream",
          "text": [
            "[126968]\n",
            "['3569f707-e2ef-170a-271e-42a3c82b47d8']\n",
            "(9,)\n",
            "[0.36754273 0.49693644 0.04430491 1.         0.         1.\n",
            " 1.         1.         0.        ]\n",
            "index\n",
            "[[587 298 308 373 518]]\n",
            "dis\n",
            "[[0.         0.03095162 0.03097958 0.03524799 0.03823846]]\n",
            "----------------------------------------------------\n",
            "      project_id  developer_id  brand_id                project_name_th  \\\n",
            "5110        9347          4861     274.0               ไลฟ์ สุขุมวิท 62   \n",
            "2814        6273        138900    1497.0              โมนีค สุขุมวิท 64   \n",
            "2700        6345          3588    1282.0  ชาโตว์ อินทาวน์ สุขุมวิท 64/1   \n",
            "3363        7379           779    1803.0           นิช โมโน สุขุมวิท 50   \n",
            "4883        8860         17155       0.0         เดอะ เนสท์ สุขุมวิท 64   \n",
            "\n",
            "                     project_name_en  district_id  province_id        lat  \\\n",
            "5110               Life Sukhumvit 62       1009.0           10  13.695676   \n",
            "2814             Moniiq Sukhumvit 64       1009.0           10  13.688779   \n",
            "2700  Chateau in Town Sukhumvit 64/1       1009.0           10  13.686312   \n",
            "3363         Niche Mono Sukhumvit 50       1033.0           10  13.704680   \n",
            "4883           The Nest Sukhumvit 64       1009.0           10  13.684262   \n",
            "\n",
            "             lon  project_land_size_rai  total_unit  percent_car_parking  \\\n",
            "5110  100.605078                      2       438.0                 40.0   \n",
            "2814  100.600191                      3       366.0                 40.0   \n",
            "2700  100.608791                      3       222.0                 50.0   \n",
            "3363  100.592722                      3       434.0                  NaN   \n",
            "4883  100.605188                      3       439.0                  NaN   \n",
            "\n",
            "      starting_price  highest_price  project_status  \\\n",
            "5110       4200000.0            NaN             1.0   \n",
            "2814       2290000.0            NaN             1.0   \n",
            "2700       2690000.0            NaN             1.0   \n",
            "3363       3000000.0            NaN             1.0   \n",
            "4883       2190000.0            NaN             1.0   \n",
            "\n",
            "                        created_at  \n",
            "5110  2018-01-10T18:47:48.620+0700  \n",
            "2814  2016-01-25T15:52:59.750+0700  \n",
            "2700  2016-03-22T18:33:31.503+0700  \n",
            "3363  2016-10-19T23:10:44.873+0700  \n",
            "4883  2017-08-09T20:26:14.213+0700  \n",
            "ooooooooooooooooooooooooooooooooooooooooooooooooooooooooooooooooooooo\n",
            "[9347]\n",
            "      project_id  developer_id  brand_id   project_name_th    project_name_en  \\\n",
            "5110        9347          4861     274.0  ไลฟ์ สุขุมวิท 62  Life Sukhumvit 62   \n",
            "\n",
            "      district_id  province_id        lat         lon  project_land_size_rai  \\\n",
            "5110       1009.0           10  13.695676  100.605078                      2   \n",
            "\n",
            "      total_unit  percent_car_parking  starting_price  highest_price  \\\n",
            "5110       438.0                 40.0       4200000.0            NaN   \n",
            "\n",
            "      project_status                    created_at  \n",
            "5110             1.0  2018-01-10T18:47:48.620+0700  \n",
            "+++++++++++++++++++++++++++++++++++++\n"
          ],
          "name": "stdout"
        }
      ]
    },
    {
      "metadata": {
        "id": "k5tRE49vWW10",
        "colab_type": "code",
        "colab": {
          "base_uri": "https://localhost:8080/",
          "height": 68
        },
        "outputId": "254dcf7f-3e8e-457f-eee0-f8bab1343c1b"
      },
      "cell_type": "code",
      "source": [
        "# use top 10000 user\n",
        "userLog_freq_user = userLog['userCode'].value_counts()\n",
        "top_10000 = 100 - (10000*100)/userLog_freq_user.shape[0]\n",
        "user_top_10000 = userLog_freq_user.loc[userLog_freq_user >= np.percentile(userLog_freq_user_np, top_10000) ].index\n",
        "print(user_top_10000)\n",
        "#\n",
        "\n",
        "freq_user_seen_proj = pd.crosstab(userLog['userCode'], userLog['project_id'], rownames=['userCode'], colnames=['project_id'])\n",
        "freq_user_seen_proj = freq_user_seen_proj.loc[freq_user_seen_proj.index.isin(user_top_10000)]\n",
        "freq_user_seen_proj_np = np.array(freq_user_seen_proj.values)\n",
        "print(freq_user_seen_proj_np)\n",
        "print(freq_user_seen_proj_np.shape)\n"
      ],
      "execution_count": 37,
      "outputs": [
        {
          "output_type": "stream",
          "text": [
            "Index([], dtype='object')\n",
            "[]\n",
            "(0, 600)\n"
          ],
          "name": "stdout"
        }
      ]
    },
    {
      "metadata": {
        "id": "TTg0OMUMtNoH",
        "colab_type": "code",
        "outputId": "291f8546-1d1e-461c-8efc-bba994d50cf4",
        "colab": {
          "base_uri": "https://localhost:8080/",
          "height": 1323
        }
      },
      "cell_type": "code",
      "source": [
        "nbrs_user = NearestNeighbors(n_neighbors= 3 , algorithm='ball_tree').fit(freq_user_seen_proj_np)\n",
        "# print(freq_user_seen_proj)\n",
        "# print(sample_usercode)\n",
        "# user_sample_code = userLog['userCode'].iloc[sample_usercode].values\n",
        "# print(user_sample_code)\n",
        "# user_sample_feature,user_sample_seen_proj = feature_sel(user_sample_code,project_main_np_data_min,project_main_np_data_max) # project_main_np_data_min,project_main_np_data_max\n",
        "distances, indices = nbrs_user.kneighbors(freq_user_seen_proj_np)\n",
        "print('index')\n",
        "print(indices[0:20])\n",
        "print('dis')\n",
        "print(distances[0:20])\n",
        "print('----------------------------------------------------')\n",
        "\n",
        "\n",
        "'''\n",
        "print(project_main.iloc[indices[0]])\n",
        "print('ooooooooooooooooooooooooooooooooooooooooooooooooooooooooooooooooooooo')\n",
        "print(user_sample_seen_proj)\n",
        "print(project_main.loc[project_main['project_id'].isin(user_sample_seen_proj)])\n",
        "# print(nbrs.predict(np.array([1,2])))\n",
        "print('+++++++++++++++++++++++++++++++++++++')\n",
        "\n",
        "'''"
      ],
      "execution_count": 30,
      "outputs": [
        {
          "output_type": "error",
          "ename": "KeyboardInterrupt",
          "evalue": "ignored",
          "traceback": [
            "\u001b[0;31m---------------------------------------------------------------------------\u001b[0m",
            "\u001b[0;31mKeyboardInterrupt\u001b[0m                         Traceback (most recent call last)",
            "\u001b[0;32m<ipython-input-30-3027bbf55323>\u001b[0m in \u001b[0;36m<module>\u001b[0;34m()\u001b[0m\n\u001b[0;32m----> 1\u001b[0;31m \u001b[0mfreq_user_seen_proj\u001b[0m \u001b[0;34m=\u001b[0m \u001b[0mpd\u001b[0m\u001b[0;34m.\u001b[0m\u001b[0mcrosstab\u001b[0m\u001b[0;34m(\u001b[0m\u001b[0muserLog\u001b[0m\u001b[0;34m[\u001b[0m\u001b[0;34m'userCode'\u001b[0m\u001b[0;34m]\u001b[0m\u001b[0;34m,\u001b[0m \u001b[0muserLog\u001b[0m\u001b[0;34m[\u001b[0m\u001b[0;34m'project_id'\u001b[0m\u001b[0;34m]\u001b[0m\u001b[0;34m,\u001b[0m \u001b[0mrownames\u001b[0m\u001b[0;34m=\u001b[0m\u001b[0;34m[\u001b[0m\u001b[0;34m'userCode'\u001b[0m\u001b[0;34m]\u001b[0m\u001b[0;34m,\u001b[0m \u001b[0mcolnames\u001b[0m\u001b[0;34m=\u001b[0m\u001b[0;34m[\u001b[0m\u001b[0;34m'project_id'\u001b[0m\u001b[0;34m]\u001b[0m\u001b[0;34m)\u001b[0m\u001b[0;34m\u001b[0m\u001b[0;34m\u001b[0m\u001b[0m\n\u001b[0m\u001b[1;32m      2\u001b[0m \u001b[0mfreq_user_seen_proj_np\u001b[0m \u001b[0;34m=\u001b[0m \u001b[0mnp\u001b[0m\u001b[0;34m.\u001b[0m\u001b[0marray\u001b[0m\u001b[0;34m(\u001b[0m\u001b[0mfreq_user_seen_proj\u001b[0m\u001b[0;34m.\u001b[0m\u001b[0mvalues\u001b[0m\u001b[0;34m)\u001b[0m\u001b[0;34m\u001b[0m\u001b[0;34m\u001b[0m\u001b[0m\n\u001b[1;32m      3\u001b[0m \u001b[0mprint\u001b[0m\u001b[0;34m(\u001b[0m\u001b[0mfreq_user_seen_proj_np\u001b[0m\u001b[0;34m)\u001b[0m\u001b[0;34m\u001b[0m\u001b[0;34m\u001b[0m\u001b[0m\n\u001b[1;32m      4\u001b[0m \u001b[0;34m\u001b[0m\u001b[0m\n\u001b[1;32m      5\u001b[0m \u001b[0mnbrs_user\u001b[0m \u001b[0;34m=\u001b[0m \u001b[0mNearestNeighbors\u001b[0m\u001b[0;34m(\u001b[0m\u001b[0mn_neighbors\u001b[0m\u001b[0;34m=\u001b[0m \u001b[0;36m3\u001b[0m \u001b[0;34m,\u001b[0m \u001b[0malgorithm\u001b[0m\u001b[0;34m=\u001b[0m\u001b[0;34m'ball_tree'\u001b[0m\u001b[0;34m)\u001b[0m\u001b[0;34m.\u001b[0m\u001b[0mfit\u001b[0m\u001b[0;34m(\u001b[0m\u001b[0mfreq_user_seen_proj_np\u001b[0m\u001b[0;34m)\u001b[0m\u001b[0;34m\u001b[0m\u001b[0;34m\u001b[0m\u001b[0m\n",
            "\u001b[0;32m/usr/local/lib/python3.6/dist-packages/pandas/core/reshape/pivot.py\u001b[0m in \u001b[0;36mcrosstab\u001b[0;34m(index, columns, values, rownames, colnames, aggfunc, margins, margins_name, dropna, normalize)\u001b[0m\n\u001b[1;32m    464\u001b[0m     table = df.pivot_table('__dummy__', index=rownames, columns=colnames,\n\u001b[1;32m    465\u001b[0m                            \u001b[0mmargins\u001b[0m\u001b[0;34m=\u001b[0m\u001b[0mmargins\u001b[0m\u001b[0;34m,\u001b[0m \u001b[0mmargins_name\u001b[0m\u001b[0;34m=\u001b[0m\u001b[0mmargins_name\u001b[0m\u001b[0;34m,\u001b[0m\u001b[0;34m\u001b[0m\u001b[0;34m\u001b[0m\u001b[0m\n\u001b[0;32m--> 466\u001b[0;31m                            dropna=dropna, **kwargs)\n\u001b[0m\u001b[1;32m    467\u001b[0m \u001b[0;34m\u001b[0m\u001b[0m\n\u001b[1;32m    468\u001b[0m     \u001b[0;31m# Post-process\u001b[0m\u001b[0;34m\u001b[0m\u001b[0;34m\u001b[0m\u001b[0;34m\u001b[0m\u001b[0m\n",
            "\u001b[0;32m/usr/local/lib/python3.6/dist-packages/pandas/core/frame.py\u001b[0m in \u001b[0;36mpivot_table\u001b[0;34m(self, values, index, columns, aggfunc, fill_value, margins, dropna, margins_name)\u001b[0m\n\u001b[1;32m   4466\u001b[0m                            \u001b[0maggfunc\u001b[0m\u001b[0;34m=\u001b[0m\u001b[0maggfunc\u001b[0m\u001b[0;34m,\u001b[0m \u001b[0mfill_value\u001b[0m\u001b[0;34m=\u001b[0m\u001b[0mfill_value\u001b[0m\u001b[0;34m,\u001b[0m\u001b[0;34m\u001b[0m\u001b[0;34m\u001b[0m\u001b[0m\n\u001b[1;32m   4467\u001b[0m                            \u001b[0mmargins\u001b[0m\u001b[0;34m=\u001b[0m\u001b[0mmargins\u001b[0m\u001b[0;34m,\u001b[0m \u001b[0mdropna\u001b[0m\u001b[0;34m=\u001b[0m\u001b[0mdropna\u001b[0m\u001b[0;34m,\u001b[0m\u001b[0;34m\u001b[0m\u001b[0;34m\u001b[0m\u001b[0m\n\u001b[0;32m-> 4468\u001b[0;31m                            margins_name=margins_name)\n\u001b[0m\u001b[1;32m   4469\u001b[0m \u001b[0;34m\u001b[0m\u001b[0m\n\u001b[1;32m   4470\u001b[0m     \u001b[0;32mdef\u001b[0m \u001b[0mstack\u001b[0m\u001b[0;34m(\u001b[0m\u001b[0mself\u001b[0m\u001b[0;34m,\u001b[0m \u001b[0mlevel\u001b[0m\u001b[0;34m=\u001b[0m\u001b[0;34m-\u001b[0m\u001b[0;36m1\u001b[0m\u001b[0;34m,\u001b[0m \u001b[0mdropna\u001b[0m\u001b[0;34m=\u001b[0m\u001b[0;32mTrue\u001b[0m\u001b[0;34m)\u001b[0m\u001b[0;34m:\u001b[0m\u001b[0;34m\u001b[0m\u001b[0;34m\u001b[0m\u001b[0m\n",
            "\u001b[0;32m/usr/local/lib/python3.6/dist-packages/pandas/core/reshape/pivot.py\u001b[0m in \u001b[0;36mpivot_table\u001b[0;34m(data, values, index, columns, aggfunc, fill_value, margins, dropna, margins_name)\u001b[0m\n\u001b[1;32m    136\u001b[0m     \u001b[0;31m# GH 15193 Make sure empty columns are removed if dropna=True\u001b[0m\u001b[0;34m\u001b[0m\u001b[0;34m\u001b[0m\u001b[0;34m\u001b[0m\u001b[0m\n\u001b[1;32m    137\u001b[0m     \u001b[0;32mif\u001b[0m \u001b[0misinstance\u001b[0m\u001b[0;34m(\u001b[0m\u001b[0mtable\u001b[0m\u001b[0;34m,\u001b[0m \u001b[0mABCDataFrame\u001b[0m\u001b[0;34m)\u001b[0m \u001b[0;32mand\u001b[0m \u001b[0mdropna\u001b[0m\u001b[0;34m:\u001b[0m\u001b[0;34m\u001b[0m\u001b[0;34m\u001b[0m\u001b[0m\n\u001b[0;32m--> 138\u001b[0;31m         \u001b[0mtable\u001b[0m \u001b[0;34m=\u001b[0m \u001b[0mtable\u001b[0m\u001b[0;34m.\u001b[0m\u001b[0mdropna\u001b[0m\u001b[0;34m(\u001b[0m\u001b[0mhow\u001b[0m\u001b[0;34m=\u001b[0m\u001b[0;34m'all'\u001b[0m\u001b[0;34m,\u001b[0m \u001b[0maxis\u001b[0m\u001b[0;34m=\u001b[0m\u001b[0;36m1\u001b[0m\u001b[0;34m)\u001b[0m\u001b[0;34m\u001b[0m\u001b[0;34m\u001b[0m\u001b[0m\n\u001b[0m\u001b[1;32m    139\u001b[0m \u001b[0;34m\u001b[0m\u001b[0m\n\u001b[1;32m    140\u001b[0m     \u001b[0;32mreturn\u001b[0m \u001b[0mtable\u001b[0m\u001b[0;34m\u001b[0m\u001b[0;34m\u001b[0m\u001b[0m\n",
            "\u001b[0;32m/usr/local/lib/python3.6/dist-packages/pandas/core/frame.py\u001b[0m in \u001b[0;36mdropna\u001b[0;34m(self, axis, how, thresh, subset, inplace)\u001b[0m\n\u001b[1;32m   3490\u001b[0m                 \u001b[0magg_obj\u001b[0m \u001b[0;34m=\u001b[0m \u001b[0mself\u001b[0m\u001b[0;34m.\u001b[0m\u001b[0mtake\u001b[0m\u001b[0;34m(\u001b[0m\u001b[0mindices\u001b[0m\u001b[0;34m,\u001b[0m \u001b[0maxis\u001b[0m\u001b[0;34m=\u001b[0m\u001b[0magg_axis\u001b[0m\u001b[0;34m)\u001b[0m\u001b[0;34m\u001b[0m\u001b[0;34m\u001b[0m\u001b[0m\n\u001b[1;32m   3491\u001b[0m \u001b[0;34m\u001b[0m\u001b[0m\n\u001b[0;32m-> 3492\u001b[0;31m             \u001b[0mcount\u001b[0m \u001b[0;34m=\u001b[0m \u001b[0magg_obj\u001b[0m\u001b[0;34m.\u001b[0m\u001b[0mcount\u001b[0m\u001b[0;34m(\u001b[0m\u001b[0maxis\u001b[0m\u001b[0;34m=\u001b[0m\u001b[0magg_axis\u001b[0m\u001b[0;34m)\u001b[0m\u001b[0;34m\u001b[0m\u001b[0;34m\u001b[0m\u001b[0m\n\u001b[0m\u001b[1;32m   3493\u001b[0m \u001b[0;34m\u001b[0m\u001b[0m\n\u001b[1;32m   3494\u001b[0m             \u001b[0;32mif\u001b[0m \u001b[0mthresh\u001b[0m \u001b[0;32mis\u001b[0m \u001b[0;32mnot\u001b[0m \u001b[0;32mNone\u001b[0m\u001b[0;34m:\u001b[0m\u001b[0;34m\u001b[0m\u001b[0;34m\u001b[0m\u001b[0m\n",
            "\u001b[0;32m/usr/local/lib/python3.6/dist-packages/pandas/core/frame.py\u001b[0m in \u001b[0;36mcount\u001b[0;34m(self, axis, level, numeric_only)\u001b[0m\n\u001b[1;32m   5645\u001b[0m                 \u001b[0mresult\u001b[0m \u001b[0;34m=\u001b[0m \u001b[0mnotna\u001b[0m\u001b[0;34m(\u001b[0m\u001b[0mframe\u001b[0m\u001b[0;34m)\u001b[0m\u001b[0;34m.\u001b[0m\u001b[0msum\u001b[0m\u001b[0;34m(\u001b[0m\u001b[0maxis\u001b[0m\u001b[0;34m=\u001b[0m\u001b[0maxis\u001b[0m\u001b[0;34m)\u001b[0m\u001b[0;34m\u001b[0m\u001b[0;34m\u001b[0m\u001b[0m\n\u001b[1;32m   5646\u001b[0m             \u001b[0;32melse\u001b[0m\u001b[0;34m:\u001b[0m\u001b[0;34m\u001b[0m\u001b[0;34m\u001b[0m\u001b[0m\n\u001b[0;32m-> 5647\u001b[0;31m                 \u001b[0mcounts\u001b[0m \u001b[0;34m=\u001b[0m \u001b[0mnotna\u001b[0m\u001b[0;34m(\u001b[0m\u001b[0mframe\u001b[0m\u001b[0;34m.\u001b[0m\u001b[0mvalues\u001b[0m\u001b[0;34m)\u001b[0m\u001b[0;34m.\u001b[0m\u001b[0msum\u001b[0m\u001b[0;34m(\u001b[0m\u001b[0maxis\u001b[0m\u001b[0;34m=\u001b[0m\u001b[0maxis\u001b[0m\u001b[0;34m)\u001b[0m\u001b[0;34m\u001b[0m\u001b[0;34m\u001b[0m\u001b[0m\n\u001b[0m\u001b[1;32m   5648\u001b[0m                 \u001b[0mresult\u001b[0m \u001b[0;34m=\u001b[0m \u001b[0mSeries\u001b[0m\u001b[0;34m(\u001b[0m\u001b[0mcounts\u001b[0m\u001b[0;34m,\u001b[0m \u001b[0mindex\u001b[0m\u001b[0;34m=\u001b[0m\u001b[0mframe\u001b[0m\u001b[0;34m.\u001b[0m\u001b[0m_get_agg_axis\u001b[0m\u001b[0;34m(\u001b[0m\u001b[0maxis\u001b[0m\u001b[0;34m)\u001b[0m\u001b[0;34m)\u001b[0m\u001b[0;34m\u001b[0m\u001b[0;34m\u001b[0m\u001b[0m\n\u001b[1;32m   5649\u001b[0m \u001b[0;34m\u001b[0m\u001b[0m\n",
            "\u001b[0;32m/usr/local/lib/python3.6/dist-packages/pandas/core/dtypes/missing.py\u001b[0m in \u001b[0;36mnotna\u001b[0;34m(obj)\u001b[0m\n\u001b[1;32m    210\u001b[0m     \u001b[0mpandas\u001b[0m\u001b[0;34m.\u001b[0m\u001b[0mnotnull\u001b[0m \u001b[0;34m:\u001b[0m \u001b[0malias\u001b[0m \u001b[0mof\u001b[0m \u001b[0mnotna\u001b[0m\u001b[0;34m\u001b[0m\u001b[0;34m\u001b[0m\u001b[0m\n\u001b[1;32m    211\u001b[0m     \"\"\"\n\u001b[0;32m--> 212\u001b[0;31m     \u001b[0mres\u001b[0m \u001b[0;34m=\u001b[0m \u001b[0misna\u001b[0m\u001b[0;34m(\u001b[0m\u001b[0mobj\u001b[0m\u001b[0;34m)\u001b[0m\u001b[0;34m\u001b[0m\u001b[0;34m\u001b[0m\u001b[0m\n\u001b[0m\u001b[1;32m    213\u001b[0m     \u001b[0;32mif\u001b[0m \u001b[0mis_scalar\u001b[0m\u001b[0;34m(\u001b[0m\u001b[0mres\u001b[0m\u001b[0;34m)\u001b[0m\u001b[0;34m:\u001b[0m\u001b[0;34m\u001b[0m\u001b[0;34m\u001b[0m\u001b[0m\n\u001b[1;32m    214\u001b[0m         \u001b[0;32mreturn\u001b[0m \u001b[0;32mnot\u001b[0m \u001b[0mres\u001b[0m\u001b[0;34m\u001b[0m\u001b[0;34m\u001b[0m\u001b[0m\n",
            "\u001b[0;32m/usr/local/lib/python3.6/dist-packages/pandas/core/dtypes/missing.py\u001b[0m in \u001b[0;36misna\u001b[0;34m(obj)\u001b[0m\n\u001b[1;32m     43\u001b[0m     \u001b[0mpandas\u001b[0m\u001b[0;34m.\u001b[0m\u001b[0misnull\u001b[0m\u001b[0;34m:\u001b[0m \u001b[0malias\u001b[0m \u001b[0mof\u001b[0m \u001b[0misna\u001b[0m\u001b[0;34m\u001b[0m\u001b[0;34m\u001b[0m\u001b[0m\n\u001b[1;32m     44\u001b[0m     \"\"\"\n\u001b[0;32m---> 45\u001b[0;31m     \u001b[0;32mreturn\u001b[0m \u001b[0m_isna\u001b[0m\u001b[0;34m(\u001b[0m\u001b[0mobj\u001b[0m\u001b[0;34m)\u001b[0m\u001b[0;34m\u001b[0m\u001b[0;34m\u001b[0m\u001b[0m\n\u001b[0m\u001b[1;32m     46\u001b[0m \u001b[0;34m\u001b[0m\u001b[0m\n\u001b[1;32m     47\u001b[0m \u001b[0;34m\u001b[0m\u001b[0m\n",
            "\u001b[0;32m/usr/local/lib/python3.6/dist-packages/pandas/core/dtypes/missing.py\u001b[0m in \u001b[0;36m_isna_new\u001b[0;34m(obj)\u001b[0m\n\u001b[1;32m     56\u001b[0m         \u001b[0;32mraise\u001b[0m \u001b[0mNotImplementedError\u001b[0m\u001b[0;34m(\u001b[0m\u001b[0;34m\"isna is not defined for MultiIndex\"\u001b[0m\u001b[0;34m)\u001b[0m\u001b[0;34m\u001b[0m\u001b[0;34m\u001b[0m\u001b[0m\n\u001b[1;32m     57\u001b[0m     \u001b[0;32melif\u001b[0m \u001b[0misinstance\u001b[0m\u001b[0;34m(\u001b[0m\u001b[0mobj\u001b[0m\u001b[0;34m,\u001b[0m \u001b[0;34m(\u001b[0m\u001b[0mABCSeries\u001b[0m\u001b[0;34m,\u001b[0m \u001b[0mnp\u001b[0m\u001b[0;34m.\u001b[0m\u001b[0mndarray\u001b[0m\u001b[0;34m,\u001b[0m \u001b[0mABCIndexClass\u001b[0m\u001b[0;34m)\u001b[0m\u001b[0;34m)\u001b[0m\u001b[0;34m:\u001b[0m\u001b[0;34m\u001b[0m\u001b[0;34m\u001b[0m\u001b[0m\n\u001b[0;32m---> 58\u001b[0;31m         \u001b[0;32mreturn\u001b[0m \u001b[0m_isna_ndarraylike\u001b[0m\u001b[0;34m(\u001b[0m\u001b[0mobj\u001b[0m\u001b[0;34m)\u001b[0m\u001b[0;34m\u001b[0m\u001b[0;34m\u001b[0m\u001b[0m\n\u001b[0m\u001b[1;32m     59\u001b[0m     \u001b[0;32melif\u001b[0m \u001b[0misinstance\u001b[0m\u001b[0;34m(\u001b[0m\u001b[0mobj\u001b[0m\u001b[0;34m,\u001b[0m \u001b[0mABCGeneric\u001b[0m\u001b[0;34m)\u001b[0m\u001b[0;34m:\u001b[0m\u001b[0;34m\u001b[0m\u001b[0;34m\u001b[0m\u001b[0m\n\u001b[1;32m     60\u001b[0m         \u001b[0;32mreturn\u001b[0m \u001b[0mobj\u001b[0m\u001b[0;34m.\u001b[0m\u001b[0m_constructor\u001b[0m\u001b[0;34m(\u001b[0m\u001b[0mobj\u001b[0m\u001b[0;34m.\u001b[0m\u001b[0m_data\u001b[0m\u001b[0;34m.\u001b[0m\u001b[0misna\u001b[0m\u001b[0;34m(\u001b[0m\u001b[0mfunc\u001b[0m\u001b[0;34m=\u001b[0m\u001b[0misna\u001b[0m\u001b[0;34m)\u001b[0m\u001b[0;34m)\u001b[0m\u001b[0;34m\u001b[0m\u001b[0;34m\u001b[0m\u001b[0m\n",
            "\u001b[0;32m/usr/local/lib/python3.6/dist-packages/pandas/core/dtypes/missing.py\u001b[0m in \u001b[0;36m_isna_ndarraylike\u001b[0;34m(obj)\u001b[0m\n\u001b[1;32m    151\u001b[0m         \u001b[0mresult\u001b[0m \u001b[0;34m=\u001b[0m \u001b[0mvalues\u001b[0m\u001b[0;34m.\u001b[0m\u001b[0mview\u001b[0m\u001b[0;34m(\u001b[0m\u001b[0;34m'i8'\u001b[0m\u001b[0;34m)\u001b[0m \u001b[0;34m==\u001b[0m \u001b[0miNaT\u001b[0m\u001b[0;34m\u001b[0m\u001b[0;34m\u001b[0m\u001b[0m\n\u001b[1;32m    152\u001b[0m     \u001b[0;32melse\u001b[0m\u001b[0;34m:\u001b[0m\u001b[0;34m\u001b[0m\u001b[0;34m\u001b[0m\u001b[0m\n\u001b[0;32m--> 153\u001b[0;31m         \u001b[0mresult\u001b[0m \u001b[0;34m=\u001b[0m \u001b[0mnp\u001b[0m\u001b[0;34m.\u001b[0m\u001b[0misnan\u001b[0m\u001b[0;34m(\u001b[0m\u001b[0mvalues\u001b[0m\u001b[0;34m)\u001b[0m\u001b[0;34m\u001b[0m\u001b[0;34m\u001b[0m\u001b[0m\n\u001b[0m\u001b[1;32m    154\u001b[0m \u001b[0;34m\u001b[0m\u001b[0m\n\u001b[1;32m    155\u001b[0m     \u001b[0;31m# box\u001b[0m\u001b[0;34m\u001b[0m\u001b[0;34m\u001b[0m\u001b[0;34m\u001b[0m\u001b[0m\n",
            "\u001b[0;31mKeyboardInterrupt\u001b[0m: "
          ]
        }
      ]
    },
    {
      "metadata": {
        "id": "uidMBNYkxk_z",
        "colab_type": "code",
        "colab": {}
      },
      "cell_type": "code",
      "source": [
        "print('index')\n",
        "print(indices[0:20])\n",
        "print('dis')\n",
        "print(distances[0:20])"
      ],
      "execution_count": 0,
      "outputs": []
    },
    {
      "metadata": {
        "id": "tUQi1borxp0i",
        "colab_type": "code",
        "colab": {}
      },
      "cell_type": "code",
      "source": [
        ""
      ],
      "execution_count": 0,
      "outputs": []
    },
    {
      "metadata": {
        "id": "CGi40V8J-Dvf",
        "colab_type": "code",
        "colab": {}
      },
      "cell_type": "code",
      "source": [
        ""
      ],
      "execution_count": 0,
      "outputs": []
    },
    {
      "metadata": {
        "id": "joYwKuuSajVk",
        "colab_type": "code",
        "colab": {}
      },
      "cell_type": "code",
      "source": [
        ""
      ],
      "execution_count": 0,
      "outputs": []
    },
    {
      "metadata": {
        "id": "Rt3NMDvHajVo",
        "colab_type": "code",
        "colab": {}
      },
      "cell_type": "code",
      "source": [
        ""
      ],
      "execution_count": 0,
      "outputs": []
    },
    {
      "metadata": {
        "id": "9KjXjl9kajVs",
        "colab_type": "code",
        "colab": {}
      },
      "cell_type": "code",
      "source": [
        ""
      ],
      "execution_count": 0,
      "outputs": []
    },
    {
      "metadata": {
        "id": "vF-PqbwXajVx",
        "colab_type": "code",
        "colab": {}
      },
      "cell_type": "code",
      "source": [
        "raw_dev_main.describe()"
      ],
      "execution_count": 0,
      "outputs": []
    },
    {
      "metadata": {
        "id": "jKOVoDURajV1",
        "colab_type": "code",
        "colab": {}
      },
      "cell_type": "code",
      "source": [
        "print(raw_dis_pro_id.dtypes)\n",
        "raw_dis_pro_id = raw_dis_pro_id.loc[raw_dis_pro_id['province_name_en'] == 'Bangkok']\n",
        "raw_dis_pro_id['district_id'] = raw_dis_pro_id['district_id'].astype('int')\n",
        "raw_dis_pro_id['province_id'] = raw_dis_pro_id['province_id'].astype('int')\n",
        "raw_dis_pro_id.head()"
      ],
      "execution_count": 0,
      "outputs": []
    },
    {
      "metadata": {
        "id": "6b5gVXpEajV7",
        "colab_type": "code",
        "colab": {}
      },
      "cell_type": "code",
      "source": [
        "print(raw_fac_id.dtypes)\n",
        "raw_fac_id.head()"
      ],
      "execution_count": 0,
      "outputs": []
    },
    {
      "metadata": {
        "id": "GeuFlsqWajV_",
        "colab_type": "code",
        "colab": {}
      },
      "cell_type": "code",
      "source": [
        "raw_fac_id.describe()"
      ],
      "execution_count": 0,
      "outputs": []
    },
    {
      "metadata": {
        "id": "gKI14GsZajWE",
        "colab_type": "code",
        "colab": {}
      },
      "cell_type": "code",
      "source": [
        "#### don't know ###\n",
        "# project_description = \"project_description.csv\"\n",
        "# raw_proj_des = pd.read_csv(project_description)\n",
        "# name_proj_des = raw_proj_des.columns.values[0] #.split(\";\")\n",
        "# raw_fac_id = raw_fac_id[raw_fac_id.columns.values[0]].str.split(\";\",expand = True) \n",
        "# print('raw_proj_des')\n",
        "# print(name_dev_br)\n",
        "# print('#######################################')\n",
        "# raw_proj_des.head()\n",
        "# raw_proj_des.describe()\n",
        "###################"
      ],
      "execution_count": 0,
      "outputs": []
    },
    {
      "metadata": {
        "id": "qKZCdMrNajWI",
        "colab_type": "code",
        "colab": {}
      },
      "cell_type": "code",
      "source": [
        "print(raw_proj_fac.dtypes)\n",
        "raw_proj_fac.head()"
      ],
      "execution_count": 0,
      "outputs": []
    },
    {
      "metadata": {
        "id": "r3cwUim7ajWN",
        "colab_type": "code",
        "colab": {}
      },
      "cell_type": "code",
      "source": [
        "raw_proj_fac.describe()"
      ],
      "execution_count": 0,
      "outputs": []
    },
    {
      "metadata": {
        "id": "Ub0-HjTJajWR",
        "colab_type": "code",
        "colab": {}
      },
      "cell_type": "code",
      "source": [
        "print(raw_proj_main.dtypes)\n",
        "print(raw_proj_main['province_id'].isnull().sum())\n",
        "raw_proj_main['province_id'] = raw_proj_main['province_id'].astype('int')\n",
        "# proj_id\n",
        "raw_proj_main['project_id'] = raw_proj_main['project_id'].astype('int')\n",
        "# dev_id\n",
        "raw_proj_main['developer_id'] = raw_proj_main['developer_id'].astype('int')\n",
        "# district_id\n",
        "raw_proj_main = raw_proj_main.loc[raw_proj_main['province_id'] == 10]\n",
        "raw_proj_main.head()"
      ],
      "execution_count": 0,
      "outputs": []
    },
    {
      "metadata": {
        "id": "T3k-gozCajWW",
        "colab_type": "code",
        "colab": {}
      },
      "cell_type": "code",
      "source": [
        "raw_proj_main.describe()"
      ],
      "execution_count": 0,
      "outputs": []
    },
    {
      "metadata": {
        "id": "oSmKZXpHajWe",
        "colab_type": "code",
        "colab": {}
      },
      "cell_type": "code",
      "source": [
        "raw_proj_unit.describe()"
      ],
      "execution_count": 0,
      "outputs": []
    },
    {
      "metadata": {
        "id": "Rj9ZZBPlajWi",
        "colab_type": "code",
        "colab": {}
      },
      "cell_type": "code",
      "source": [
        "print(raw_unit_type_id.dtypes)\n",
        "raw_unit_type_id.head()"
      ],
      "execution_count": 0,
      "outputs": []
    },
    {
      "metadata": {
        "id": "MsCONO3qajWr",
        "colab_type": "code",
        "colab": {}
      },
      "cell_type": "code",
      "source": [
        "print(raw_userLog.dtypes)\n",
        "raw_userLog.head()"
      ],
      "execution_count": 0,
      "outputs": []
    },
    {
      "metadata": {
        "id": "KPgOJ1x5ajWw",
        "colab_type": "code",
        "colab": {}
      },
      "cell_type": "code",
      "source": [
        "raw_userLog.describe()"
      ],
      "execution_count": 0,
      "outputs": []
    },
    {
      "metadata": {
        "id": "uM4ni1YbajW1",
        "colab_type": "code",
        "colab": {}
      },
      "cell_type": "code",
      "source": [
        ""
      ],
      "execution_count": 0,
      "outputs": []
    },
    {
      "metadata": {
        "id": "aElvwDeBajVh",
        "colab_type": "code",
        "colab": {}
      },
      "cell_type": "code",
      "source": [
        "#############################################################################################\n",
        "#############################################################################################\n",
        "#### don't know ###\n",
        "# data_downloaded = drive.CreateFile({'id': '1y5tTE8nE_0GGclmSzsGZY4mfb1kArD1f' })\n",
        "# data_downloaded.GetContentFile('readCsvFile.csv', engine='python')\n",
        "# raw_data = pd.read_csv('readCsvFile.csv')\n",
        "# name_col = raw_data.columns[0].split(\";\")\n",
        "# print(name_col)\n",
        "\n",
        "# raw_data = raw_data[raw_data.columns[0].values].atype('str')\n",
        "# print(raw_data.head(10))\n",
        "# print('999999999999999999999999999999999999999999999999999')\n",
        "## checking\n",
        "#for i in np.arange(2):\n",
        "#  sample_k = raw_data.loc[i]\n",
        "#  sample_k_test = sample_k.str.split(\";\",expand = True) \n",
        "#  print('-----------------------------')\n",
        "#  print('shape is', sample_k.shape)\n",
        "#  print(sample_k_test)\n",
        "  \n",
        "# project_descrip = \"project_description.csv\"\n",
        "# raw_proj_des = pd.read_csv(project_descrip, error_bad_lines=False)\n",
        "# name_proj_des = raw_proj_des.columns.values.split(\";\")\n",
        "# raw_fac_id = raw_fac_id[raw_fac_id.columns.values].str.split(\";\",expand = True) \n",
        "# raw_fac_id.columns = name_proj_des\n",
        "# print('raw_proj_des')\n",
        "# print(name_proj_des)\n",
        "# print('#######################################')\n",
        "###################"
      ],
      "execution_count": 0,
      "outputs": []
    }
  ]
}