{
  "nbformat": 4,
  "nbformat_minor": 0,
  "metadata": {
    "colab": {
      "name": "hw2_homeDotTech.ipynb",
      "version": "0.3.2",
      "provenance": [],
      "collapsed_sections": [],
      "include_colab_link": true
    },
    "kernelspec": {
      "name": "python3",
      "display_name": "Python 3"
    },
    "accelerator": "GPU"
  },
  "cells": [
    {
      "cell_type": "markdown",
      "metadata": {
        "id": "view-in-github",
        "colab_type": "text"
      },
      "source": [
        "<a href=\"https://colab.research.google.com/github/Pataweepr/applyML_vistec_2019/blob/master/hw2_homeDotTech.ipynb\" target=\"_parent\"><img src=\"https://colab.research.google.com/assets/colab-badge.svg\" alt=\"Open In Colab\"/></a>"
      ]
    },
    {
      "metadata": {
        "id": "OcrnkyvogePf",
        "colab_type": "text"
      },
      "cell_type": "markdown",
      "source": [
        "#Home dot tech \n",
        "\n",
        "ข้อมูลนี้เป็นข้อมูลเกี่ยวกับ ที่อยู่ในประเทศไทย \n",
        "\n",
        "พวกเราจะใช้ file จาก google drive ซึ่งต้องใช้ pyDrive\n",
        "\n",
        "\n",
        "สามารถ อ่านการใช้งาน pydrive เบื้องต้นได้ตามนี้ \n",
        "\n",
        "[example pyDrive](https://colab.research.google.com/drive/1pIl9zCObPc_8BLivb7FRsjYBhKGWK9eL)\n",
        "\n",
        "[link download file](https://drive.google.com/file/d/1X-cacRIF30acXyKotSmDZu5qc8Gs84Wm/view?usp=sharing)"
      ]
    },
    {
      "metadata": {
        "id": "LyXd3PeVaqIQ",
        "colab_type": "code",
        "cellView": "both",
        "outputId": "1744097b-be60-4ac3-ed1e-3b9284d0b710",
        "colab": {
          "base_uri": "https://localhost:8080/",
          "height": 51
        }
      },
      "cell_type": "code",
      "source": [
        "!pip install -U -q PyDrive\n",
        "\n",
        "from pydrive.auth import GoogleAuth\n",
        "from pydrive.drive import GoogleDrive\n",
        "from google.colab import auth\n",
        "from oauth2client.client import GoogleCredentials\n",
        "\n",
        "# 1. Authenticate and create the PyDrive client.\n",
        "auth.authenticate_user()\n",
        "gauth = GoogleAuth()\n",
        "gauth.credentials = GoogleCredentials.get_application_default()\n",
        "drive = GoogleDrive(gauth)\n",
        "\n"
      ],
      "execution_count": 0,
      "outputs": [
        {
          "output_type": "stream",
          "text": [
            "\u001b[?25l\r\u001b[K    1% |▎                               | 10kB 21.0MB/s eta 0:00:01\r\u001b[K    2% |▋                               | 20kB 1.8MB/s eta 0:00:01\r\u001b[K    3% |█                               | 30kB 2.6MB/s eta 0:00:01\r\u001b[K    4% |█▎                              | 40kB 1.7MB/s eta 0:00:01\r\u001b[K    5% |█▋                              | 51kB 2.1MB/s eta 0:00:01\r\u001b[K    6% |██                              | 61kB 2.5MB/s eta 0:00:01\r\u001b[K    7% |██▎                             | 71kB 2.9MB/s eta 0:00:01\r\u001b[K    8% |██▋                             | 81kB 3.3MB/s eta 0:00:01\r\u001b[K    9% |███                             | 92kB 3.7MB/s eta 0:00:01\r\u001b[K    10% |███▎                            | 102kB 2.8MB/s eta 0:00:01\r\u001b[K    11% |███▋                            | 112kB 2.9MB/s eta 0:00:01\r\u001b[K    12% |████                            | 122kB 4.1MB/s eta 0:00:01\r\u001b[K    13% |████▎                           | 133kB 4.1MB/s eta 0:00:01\r\u001b[K    14% |████▋                           | 143kB 7.7MB/s eta 0:00:01\r\u001b[K    15% |█████                           | 153kB 7.7MB/s eta 0:00:01\r\u001b[K    16% |█████▎                          | 163kB 7.7MB/s eta 0:00:01\r\u001b[K    17% |█████▋                          | 174kB 7.6MB/s eta 0:00:01\r\u001b[K    18% |██████                          | 184kB 7.6MB/s eta 0:00:01\r\u001b[K    19% |██████▎                         | 194kB 7.6MB/s eta 0:00:01\r\u001b[K    20% |██████▋                         | 204kB 37.9MB/s eta 0:00:01\r\u001b[K    21% |███████                         | 215kB 8.6MB/s eta 0:00:01\r\u001b[K    22% |███████▎                        | 225kB 8.6MB/s eta 0:00:01\r\u001b[K    23% |███████▋                        | 235kB 8.5MB/s eta 0:00:01\r\u001b[K    24% |████████                        | 245kB 8.5MB/s eta 0:00:01\r\u001b[K    25% |████████▎                       | 256kB 8.5MB/s eta 0:00:01\r\u001b[K    26% |████████▋                       | 266kB 8.2MB/s eta 0:00:01\r\u001b[K    27% |█████████                       | 276kB 8.3MB/s eta 0:00:01\r\u001b[K    29% |█████████▎                      | 286kB 8.3MB/s eta 0:00:01\r\u001b[K    30% |█████████▋                      | 296kB 8.3MB/s eta 0:00:01\r\u001b[K    31% |██████████                      | 307kB 8.5MB/s eta 0:00:01\r\u001b[K    32% |██████████▎                     | 317kB 38.0MB/s eta 0:00:01\r\u001b[K    33% |██████████▋                     | 327kB 38.5MB/s eta 0:00:01\r\u001b[K    34% |███████████                     | 337kB 41.0MB/s eta 0:00:01\r\u001b[K    35% |███████████▎                    | 348kB 36.6MB/s eta 0:00:01\r\u001b[K    36% |███████████▋                    | 358kB 37.6MB/s eta 0:00:01\r\u001b[K    37% |████████████                    | 368kB 44.3MB/s eta 0:00:01\r\u001b[K    38% |████████████▎                   | 378kB 42.3MB/s eta 0:00:01\r\u001b[K    39% |████████████▋                   | 389kB 43.2MB/s eta 0:00:01\r\u001b[K    40% |█████████████                   | 399kB 10.2MB/s eta 0:00:01\r\u001b[K    41% |█████████████▎                  | 409kB 10.2MB/s eta 0:00:01\r\u001b[K    42% |█████████████▋                  | 419kB 10.2MB/s eta 0:00:01\r\u001b[K    43% |██████████████                  | 430kB 10.2MB/s eta 0:00:01\r\u001b[K    44% |██████████████▎                 | 440kB 10.3MB/s eta 0:00:01\r\u001b[K    45% |██████████████▋                 | 450kB 10.5MB/s eta 0:00:01\r\u001b[K    46% |███████████████                 | 460kB 10.4MB/s eta 0:00:01\r\u001b[K    47% |███████████████▎                | 471kB 10.4MB/s eta 0:00:01\r\u001b[K    48% |███████████████▋                | 481kB 10.5MB/s eta 0:00:01\r\u001b[K    49% |████████████████                | 491kB 10.4MB/s eta 0:00:01\r\u001b[K    50% |████████████████▎               | 501kB 47.3MB/s eta 0:00:01\r\u001b[K    51% |████████████████▋               | 512kB 44.3MB/s eta 0:00:01\r\u001b[K    52% |█████████████████               | 522kB 46.2MB/s eta 0:00:01\r\u001b[K    53% |█████████████████▎              | 532kB 46.2MB/s eta 0:00:01\r\u001b[K    54% |█████████████████▋              | 542kB 47.3MB/s eta 0:00:01\r\u001b[K    55% |██████████████████              | 552kB 51.9MB/s eta 0:00:01\r\u001b[K    57% |██████████████████▎             | 563kB 52.9MB/s eta 0:00:01\r\u001b[K    58% |██████████████████▋             | 573kB 52.0MB/s eta 0:00:01\r\u001b[K    59% |███████████████████             | 583kB 51.1MB/s eta 0:00:01\r\u001b[K    60% |███████████████████▎            | 593kB 51.1MB/s eta 0:00:01\r\u001b[K    61% |███████████████████▋            | 604kB 50.3MB/s eta 0:00:01\r\u001b[K    62% |████████████████████            | 614kB 52.8MB/s eta 0:00:01\r\u001b[K    63% |████████████████████▎           | 624kB 10.7MB/s eta 0:00:01\r\u001b[K    64% |████████████████████▋           | 634kB 10.6MB/s eta 0:00:01\r\u001b[K    65% |█████████████████████           | 645kB 10.6MB/s eta 0:00:01\r\u001b[K    66% |█████████████████████▎          | 655kB 10.4MB/s eta 0:00:01\r\u001b[K    67% |█████████████████████▋          | 665kB 9.8MB/s eta 0:00:01\r\u001b[K    68% |██████████████████████          | 675kB 9.8MB/s eta 0:00:01\r\u001b[K    69% |██████████████████████▎         | 686kB 9.8MB/s eta 0:00:01\r\u001b[K    70% |██████████████████████▋         | 696kB 9.9MB/s eta 0:00:01\r\u001b[K    71% |███████████████████████         | 706kB 9.9MB/s eta 0:00:01\r\u001b[K    72% |███████████████████████▎        | 716kB 9.9MB/s eta 0:00:01\r\u001b[K    73% |███████████████████████▋        | 727kB 37.8MB/s eta 0:00:01\r\u001b[K    74% |████████████████████████        | 737kB 37.4MB/s eta 0:00:01\r\u001b[K    75% |████████████████████████▎       | 747kB 37.4MB/s eta 0:00:01\r\u001b[K    76% |████████████████████████▋       | 757kB 37.8MB/s eta 0:00:01\r\u001b[K    77% |████████████████████████▉       | 768kB 47.0MB/s eta 0:00:01\r\u001b[K    78% |█████████████████████████▏      | 778kB 46.8MB/s eta 0:00:01\r\u001b[K    79% |█████████████████████████▌      | 788kB 44.5MB/s eta 0:00:01\r\u001b[K    80% |█████████████████████████▉      | 798kB 43.5MB/s eta 0:00:01\r\u001b[K    81% |██████████████████████████▏     | 808kB 41.5MB/s eta 0:00:01\r\u001b[K    82% |██████████████████████████▌     | 819kB 40.2MB/s eta 0:00:01\r\u001b[K    83% |██████████████████████████▉     | 829kB 38.8MB/s eta 0:00:01\r\u001b[K    85% |███████████████████████████▏    | 839kB 37.6MB/s eta 0:00:01\r\u001b[K    86% |███████████████████████████▌    | 849kB 37.2MB/s eta 0:00:01\r\u001b[K    87% |███████████████████████████▉    | 860kB 34.2MB/s eta 0:00:01\r\u001b[K    88% |████████████████████████████▏   | 870kB 32.5MB/s eta 0:00:01\r\u001b[K    89% |████████████████████████████▌   | 880kB 32.0MB/s eta 0:00:01\r\u001b[K    90% |████████████████████████████▉   | 890kB 32.3MB/s eta 0:00:01\r\u001b[K    91% |█████████████████████████████▏  | 901kB 32.7MB/s eta 0:00:01\r\u001b[K    92% |█████████████████████████████▌  | 911kB 33.9MB/s eta 0:00:01\r\u001b[K    93% |█████████████████████████████▉  | 921kB 35.1MB/s eta 0:00:01\r\u001b[K    94% |██████████████████████████████▏ | 931kB 36.6MB/s eta 0:00:01\r\u001b[K    95% |██████████████████████████████▌ | 942kB 38.4MB/s eta 0:00:01\r\u001b[K    96% |██████████████████████████████▉ | 952kB 38.8MB/s eta 0:00:01\r\u001b[K    97% |███████████████████████████████▏| 962kB 44.7MB/s eta 0:00:01\r\u001b[K    98% |███████████████████████████████▌| 972kB 49.0MB/s eta 0:00:01\r\u001b[K    99% |███████████████████████████████▉| 983kB 51.0MB/s eta 0:00:01\r\u001b[K    100% |████████████████████████████████| 993kB 19.6MB/s \n",
            "\u001b[?25h  Building wheel for PyDrive (setup.py) ... \u001b[?25ldone\n",
            "\u001b[?25h"
          ],
          "name": "stdout"
        }
      ]
    },
    {
      "metadata": {
        "id": "ByDiTugkD3PF",
        "colab_type": "code",
        "colab": {}
      },
      "cell_type": "code",
      "source": [
        "import numpy as np\n",
        "import pandas as pd\n",
        "import matplotlib.pyplot as plt\n",
        "from sklearn.cluster import KMeans\n",
        "from sklearn.neighbors import NearestNeighbors\n",
        "from scipy.stats import mode"
      ],
      "execution_count": 0,
      "outputs": []
    },
    {
      "metadata": {
        "id": "Go7lnAxN9XZP",
        "colab_type": "text"
      },
      "cell_type": "markdown",
      "source": [
        "คุณควร run code ตัวของ example เพื่อทราบถึง file id เพราะว่า file id ของแต่ละคนนั้นไม่เหมือนกันน่ะครับ  [example pyDrive](https://colab.research.google.com/drive/1pIl9zCObPc_8BLivb7FRsjYBhKGWK9eL)\n",
        "\n",
        "\n",
        "###FILE_ID!!!\n",
        "\n",
        "<pre>   \n",
        "title: userLog_201801_201802_for_participants.csv, id: 19sNUEOYeqU33EWBMRKq65YydpgLQoppZ\n",
        "title: project_main.csv, id: 1iRz0edC_tjIk0Ge33fKLZYN1ciXxup-0\n",
        "title: project_facility.csv, id: 13jUinwDsk9sYvoMOBaTMfTM11912CvdO\n",
        "</pre>\n"
      ]
    },
    {
      "metadata": {
        "id": "rUSLT2jjvVQG",
        "colab_type": "text"
      },
      "cell_type": "markdown",
      "source": [
        "เนื่องจากข้อมูลใน file เป็น รูปแบบการแยกข้อมูล ใน column แยกด้วย ';' แต่ว่ามันยากที่จัดการ เลยเขียน function เพื่ออ่าน file ดังนี้"
      ]
    },
    {
      "metadata": {
        "id": "QFufCvqODOfy",
        "colab_type": "code",
        "colab": {}
      },
      "cell_type": "code",
      "source": [
        "def readDataFromDrive_HDT_single_col(file_id):\n",
        "  # file_id is str\n",
        "  data_downloaded = drive.CreateFile({'id': file_id })\n",
        "  data_downloaded.GetContentFile('readCsvFile.csv')\n",
        "  # raw_data = pd.read_csv('readCsvFile.csv')\n",
        "  raw_data = pd.read_csv('readCsvFile.csv',delimiter= ';')\n",
        "\n",
        "  print('#########################################################################################################################')\n",
        "  return raw_data;\n",
        "  \n",
        "def readDataFromDrive_HDT(file_id):\n",
        "  # file_id is str\n",
        "  data_downloaded = drive.CreateFile({'id': file_id })\n",
        "  data_downloaded.GetContentFile('readCsvFile.csv')\n",
        "  raw_data = pd.read_csv('readCsvFile.csv')\n",
        "  print(raw_data.dtypes)\n",
        "  print('-------------- NA DATA ------------------')\n",
        "  for name_col in raw_data.columns:\n",
        "    print(name_col,'null :',raw_data[name_col].isnull().values.any())\n",
        "  print('#########################################################################################################################')\n",
        "  return raw_data;"
      ],
      "execution_count": 0,
      "outputs": []
    },
    {
      "metadata": {
        "id": "y0PAA0zGwcij",
        "colab_type": "text"
      },
      "cell_type": "markdown",
      "source": [
        "file ที่เราจะเลือกใช้\n",
        "\n",
        "* userLog\n",
        "* project_main\n",
        "* project_facility\n",
        "\n",
        "\n",
        "userLog  มันการเป็นเก็บ log ของ user ทั้งหมดที่เข้ามาในระบบ ว่า user เข้าผ่านอุปกรณื อะไรบ้างแล้วเข้าไปดูโปรเจคไหน\n",
        "\n",
        "project_main เป็นการบอกรายละเอียดแต่ละ project ว่ามีข้อมูลอะไรบ้าง เกี่ยวกับตำแหน่ง หรือ ตัวของ ราคา\n",
        "\n",
        "project_facility บอก facility ของแต่ละโปรคเจคว่าเป็นอย่างไร\n",
        "\n",
        "\n",
        "\n"
      ]
    },
    {
      "metadata": {
        "id": "roD4K39il3aP",
        "colab_type": "text"
      },
      "cell_type": "markdown",
      "source": [
        "# TODO#1: เปลี่ยนข้อมูลเป็นตัวเลข\n",
        "\n",
        "ข้อมูบบที่เราจะพิจารณาต่อไปนี้เป็นข้อมูล"
      ]
    },
    {
      "metadata": {
        "id": "8Wc1TrjKxahD",
        "colab_type": "code",
        "outputId": "009e762b-7274-417c-ced4-a7938a1a57ad",
        "colab": {
          "base_uri": "https://localhost:8080/",
          "height": 428
        }
      },
      "cell_type": "code",
      "source": [
        "print('project_main')\n",
        "project_main = readDataFromDrive_HDT_single_col('1iRz0edC_tjIk0Ge33fKLZYN1ciXxup-0')  \n",
        "project_main = project_main.loc[project_main['province_id'] == 10]\n",
        "print(project_main.shape)\n",
        "project_main = project_main.drop(columns=['project_land_size_ngan', 'project_land_size_wa'])\n",
        "project_main.loc[project_main[\"project_status\"] == \"A\", \"project_status\"] = 1\n",
        "project_main.loc[project_main[\"project_status\"] == \"U\", \"project_status\"] = 0\n",
        "project_main = project_main.convert_objects(convert_numeric=True)\n",
        "project_main.head()"
      ],
      "execution_count": 0,
      "outputs": [
        {
          "output_type": "stream",
          "text": [
            "project_main\n",
            "#########################################################################################################################\n",
            "(1775, 18)\n"
          ],
          "name": "stdout"
        },
        {
          "output_type": "stream",
          "text": [
            "/usr/local/lib/python3.6/dist-packages/ipykernel_launcher.py:8: FutureWarning: convert_objects is deprecated.  To re-infer data dtypes for object columns, use DataFrame.infer_objects()\n",
            "For all other conversions use the data-type specific converters pd.to_datetime, pd.to_timedelta and pd.to_numeric.\n",
            "  \n"
          ],
          "name": "stderr"
        },
        {
          "output_type": "execute_result",
          "data": {
            "text/html": [
              "<div>\n",
              "<style scoped>\n",
              "    .dataframe tbody tr th:only-of-type {\n",
              "        vertical-align: middle;\n",
              "    }\n",
              "\n",
              "    .dataframe tbody tr th {\n",
              "        vertical-align: top;\n",
              "    }\n",
              "\n",
              "    .dataframe thead th {\n",
              "        text-align: right;\n",
              "    }\n",
              "</style>\n",
              "<table border=\"1\" class=\"dataframe\">\n",
              "  <thead>\n",
              "    <tr style=\"text-align: right;\">\n",
              "      <th></th>\n",
              "      <th>project_id</th>\n",
              "      <th>developer_id</th>\n",
              "      <th>brand_id</th>\n",
              "      <th>project_name_th</th>\n",
              "      <th>project_name_en</th>\n",
              "      <th>district_id</th>\n",
              "      <th>province_id</th>\n",
              "      <th>lat</th>\n",
              "      <th>lon</th>\n",
              "      <th>project_land_size_rai</th>\n",
              "      <th>total_unit</th>\n",
              "      <th>percent_car_parking</th>\n",
              "      <th>starting_price</th>\n",
              "      <th>highest_price</th>\n",
              "      <th>project_status</th>\n",
              "      <th>created_at</th>\n",
              "    </tr>\n",
              "  </thead>\n",
              "  <tbody>\n",
              "    <tr>\n",
              "      <th>0</th>\n",
              "      <td>44</td>\n",
              "      <td>140786</td>\n",
              "      <td>0.0</td>\n",
              "      <td>พาร์ควิลล์ 3</td>\n",
              "      <td>Parkville 3</td>\n",
              "      <td>1046.0</td>\n",
              "      <td>10</td>\n",
              "      <td>13.891719</td>\n",
              "      <td>100.722099</td>\n",
              "      <td>54</td>\n",
              "      <td>NaN</td>\n",
              "      <td>NaN</td>\n",
              "      <td>3500000.0</td>\n",
              "      <td>3862000.0</td>\n",
              "      <td>1.0</td>\n",
              "      <td>2011-01-14T18:40:12.117+0700</td>\n",
              "    </tr>\n",
              "    <tr>\n",
              "      <th>1</th>\n",
              "      <td>24</td>\n",
              "      <td>1032</td>\n",
              "      <td>0.0</td>\n",
              "      <td>สัมมากร นิมิตใหม่</td>\n",
              "      <td>Sammakorn Nimitmai</td>\n",
              "      <td>1046.0</td>\n",
              "      <td>10</td>\n",
              "      <td>13.876590</td>\n",
              "      <td>100.731927</td>\n",
              "      <td>154</td>\n",
              "      <td>NaN</td>\n",
              "      <td>NaN</td>\n",
              "      <td>4590000.0</td>\n",
              "      <td>NaN</td>\n",
              "      <td>0.0</td>\n",
              "      <td>2011-02-24T21:43:59.297+0700</td>\n",
              "    </tr>\n",
              "    <tr>\n",
              "      <th>7</th>\n",
              "      <td>208</td>\n",
              "      <td>13323</td>\n",
              "      <td>NaN</td>\n",
              "      <td>ลิฟวิ่งนารา รามคำแหง-สุวรรณภูมิ</td>\n",
              "      <td>LIVING NARA RAMKHAMHAENG-SUVARNABHUMI</td>\n",
              "      <td>1011.0</td>\n",
              "      <td>10</td>\n",
              "      <td>13.769810</td>\n",
              "      <td>100.722040</td>\n",
              "      <td>44</td>\n",
              "      <td>201.0</td>\n",
              "      <td>NaN</td>\n",
              "      <td>3500000.0</td>\n",
              "      <td>7600000.0</td>\n",
              "      <td>0.0</td>\n",
              "      <td>2010-07-02T07:00:00.000+0700</td>\n",
              "    </tr>\n",
              "    <tr>\n",
              "      <th>8</th>\n",
              "      <td>228</td>\n",
              "      <td>6772</td>\n",
              "      <td>0.0</td>\n",
              "      <td>เค.ซี.รามอินทรา 5 (พระยาสุเรนทร์)</td>\n",
              "      <td>K.C. RAMINTRA 5</td>\n",
              "      <td>1046.0</td>\n",
              "      <td>10</td>\n",
              "      <td>13.862623</td>\n",
              "      <td>100.695135</td>\n",
              "      <td>34</td>\n",
              "      <td>NaN</td>\n",
              "      <td>NaN</td>\n",
              "      <td>1810000.0</td>\n",
              "      <td>NaN</td>\n",
              "      <td>0.0</td>\n",
              "      <td>2010-12-16T18:51:42.173+0700</td>\n",
              "    </tr>\n",
              "    <tr>\n",
              "      <th>11</th>\n",
              "      <td>982</td>\n",
              "      <td>12136</td>\n",
              "      <td>979.0</td>\n",
              "      <td>อนาวิลล์ สุวรรณภูมิ</td>\n",
              "      <td>Anaville Suvarnabhumi</td>\n",
              "      <td>1011.0</td>\n",
              "      <td>10</td>\n",
              "      <td>13.763348</td>\n",
              "      <td>100.803434</td>\n",
              "      <td>131</td>\n",
              "      <td>NaN</td>\n",
              "      <td>NaN</td>\n",
              "      <td>4300000.0</td>\n",
              "      <td>NaN</td>\n",
              "      <td>1.0</td>\n",
              "      <td>2011-01-17T22:55:47.317+0700</td>\n",
              "    </tr>\n",
              "  </tbody>\n",
              "</table>\n",
              "</div>"
            ],
            "text/plain": [
              "    project_id  developer_id  brand_id                    project_name_th  \\\n",
              "0           44        140786       0.0                       พาร์ควิลล์ 3   \n",
              "1           24          1032       0.0                  สัมมากร นิมิตใหม่   \n",
              "7          208         13323       NaN    ลิฟวิ่งนารา รามคำแหง-สุวรรณภูมิ   \n",
              "8          228          6772       0.0  เค.ซี.รามอินทรา 5 (พระยาสุเรนทร์)   \n",
              "11         982         12136     979.0                อนาวิลล์ สุวรรณภูมิ   \n",
              "\n",
              "                          project_name_en  district_id  province_id  \\\n",
              "0                             Parkville 3       1046.0           10   \n",
              "1                      Sammakorn Nimitmai       1046.0           10   \n",
              "7   LIVING NARA RAMKHAMHAENG-SUVARNABHUMI       1011.0           10   \n",
              "8                         K.C. RAMINTRA 5       1046.0           10   \n",
              "11                  Anaville Suvarnabhumi       1011.0           10   \n",
              "\n",
              "          lat         lon  project_land_size_rai  total_unit  \\\n",
              "0   13.891719  100.722099                     54         NaN   \n",
              "1   13.876590  100.731927                    154         NaN   \n",
              "7   13.769810  100.722040                     44       201.0   \n",
              "8   13.862623  100.695135                     34         NaN   \n",
              "11  13.763348  100.803434                    131         NaN   \n",
              "\n",
              "    percent_car_parking  starting_price  highest_price  project_status  \\\n",
              "0                   NaN       3500000.0      3862000.0             1.0   \n",
              "1                   NaN       4590000.0            NaN             0.0   \n",
              "7                   NaN       3500000.0      7600000.0             0.0   \n",
              "8                   NaN       1810000.0            NaN             0.0   \n",
              "11                  NaN       4300000.0            NaN             1.0   \n",
              "\n",
              "                      created_at  \n",
              "0   2011-01-14T18:40:12.117+0700  \n",
              "1   2011-02-24T21:43:59.297+0700  \n",
              "7   2010-07-02T07:00:00.000+0700  \n",
              "8   2010-12-16T18:51:42.173+0700  \n",
              "11  2011-01-17T22:55:47.317+0700  "
            ]
          },
          "metadata": {
            "tags": []
          },
          "execution_count": 4
        }
      ]
    },
    {
      "metadata": {
        "id": "Eev1SbQYl_Ae",
        "colab_type": "text"
      },
      "cell_type": "markdown",
      "source": [
        "# TODO#2: แก้ไขข้อมูล data frame ของ projet_main ให้ไม่มี NAN"
      ]
    },
    {
      "metadata": {
        "id": "2N83pVt7xl2x",
        "colab_type": "code",
        "colab": {}
      },
      "cell_type": "code",
      "source": [
        "\n",
        "project_main = project_main.dropna(subset=['lat'])\n",
        "\n",
        "project_main[\"starting_price\"] = project_main[\"starting_price\"].fillna(project_main[\"starting_price\"].mode().iloc[0])\n"
      ],
      "execution_count": 0,
      "outputs": []
    },
    {
      "metadata": {
        "id": "AF89hUwyzNDV",
        "colab_type": "text"
      },
      "cell_type": "markdown",
      "source": [
        "## TODO#3: load ข้อมูล facility\n",
        "ลอง print ข้อมูลดูเราจะเห็นว่าข้อมูล และอธิบายว่าเหมาะสมกับการใช้หรือไม่\n"
      ]
    },
    {
      "metadata": {
        "id": "Kjw1O2CVxcmi",
        "colab_type": "code",
        "outputId": "8b067f19-11bf-4b50-8981-b5f2b9e950c5",
        "colab": {
          "base_uri": "https://localhost:8080/",
          "height": 221
        }
      },
      "cell_type": "code",
      "source": [
        "# project_facility  \n",
        "project_facility = readDataFromDrive_HDT_single_col('13jUinwDsk9sYvoMOBaTMfTM11912CvdO')\n",
        "project_facility.head()"
      ],
      "execution_count": 0,
      "outputs": [
        {
          "output_type": "stream",
          "text": [
            "#########################################################################################################################\n"
          ],
          "name": "stdout"
        },
        {
          "output_type": "execute_result",
          "data": {
            "text/html": [
              "<div>\n",
              "<style scoped>\n",
              "    .dataframe tbody tr th:only-of-type {\n",
              "        vertical-align: middle;\n",
              "    }\n",
              "\n",
              "    .dataframe tbody tr th {\n",
              "        vertical-align: top;\n",
              "    }\n",
              "\n",
              "    .dataframe thead th {\n",
              "        text-align: right;\n",
              "    }\n",
              "</style>\n",
              "<table border=\"1\" class=\"dataframe\">\n",
              "  <thead>\n",
              "    <tr style=\"text-align: right;\">\n",
              "      <th></th>\n",
              "      <th>project_id</th>\n",
              "      <th>facility_id</th>\n",
              "    </tr>\n",
              "  </thead>\n",
              "  <tbody>\n",
              "    <tr>\n",
              "      <th>0</th>\n",
              "      <td>4</td>\n",
              "      <td>1</td>\n",
              "    </tr>\n",
              "    <tr>\n",
              "      <th>1</th>\n",
              "      <td>4</td>\n",
              "      <td>3</td>\n",
              "    </tr>\n",
              "    <tr>\n",
              "      <th>2</th>\n",
              "      <td>4</td>\n",
              "      <td>4</td>\n",
              "    </tr>\n",
              "    <tr>\n",
              "      <th>3</th>\n",
              "      <td>4</td>\n",
              "      <td>5</td>\n",
              "    </tr>\n",
              "    <tr>\n",
              "      <th>4</th>\n",
              "      <td>45</td>\n",
              "      <td>2</td>\n",
              "    </tr>\n",
              "  </tbody>\n",
              "</table>\n",
              "</div>"
            ],
            "text/plain": [
              "   project_id  facility_id\n",
              "0           4            1\n",
              "1           4            3\n",
              "2           4            4\n",
              "3           4            5\n",
              "4          45            2"
            ]
          },
          "metadata": {
            "tags": []
          },
          "execution_count": 6
        }
      ]
    },
    {
      "metadata": {
        "id": "hNhYR25VQm-8",
        "colab_type": "text"
      },
      "cell_type": "markdown",
      "source": [
        "\n",
        "## TODO#4: แปลงข้อมูล fac ให้เหมาะแก้การใช้งาน \n",
        "เนื่องจากข้อมูลไม่ได้เป็นรูปแบบของตารางที่ใช้ได้ง่าย [pd.crosstab](https://pandas.pydata.org/pandas-docs/version/0.23.4/generated/pandas.crosstab.html) เพราะ เราต้องการตารางที่บอกถึง facility ว่ามีหรือไม่ในทุกแบบของ facility"
      ]
    },
    {
      "metadata": {
        "id": "5p4wfZdGxmco",
        "colab_type": "code",
        "outputId": "543ac45d-0d2c-4c1d-96ba-f52c099576d0",
        "colab": {
          "base_uri": "https://localhost:8080/",
          "height": 303
        }
      },
      "cell_type": "code",
      "source": [
        "project_facility_table = pd.crosstab(project_facility['project_id'], project_facility['facility_id'], rownames=['project_id'], colnames=['facility_id'])\n",
        "print(project_facility_table.index)\n",
        "project_facility_table.head()"
      ],
      "execution_count": 0,
      "outputs": [
        {
          "output_type": "stream",
          "text": [
            "Int64Index([   4,   24,   29,   41,   44,   45,   73,   95,  115,  133,\n",
            "            ...\n",
            "            9522, 9524, 9525, 9526, 9527, 9531, 9532, 9534, 9536, 9541],\n",
            "           dtype='int64', name='project_id', length=5039)\n"
          ],
          "name": "stdout"
        },
        {
          "output_type": "execute_result",
          "data": {
            "text/html": [
              "<div>\n",
              "<style scoped>\n",
              "    .dataframe tbody tr th:only-of-type {\n",
              "        vertical-align: middle;\n",
              "    }\n",
              "\n",
              "    .dataframe tbody tr th {\n",
              "        vertical-align: top;\n",
              "    }\n",
              "\n",
              "    .dataframe thead th {\n",
              "        text-align: right;\n",
              "    }\n",
              "</style>\n",
              "<table border=\"1\" class=\"dataframe\">\n",
              "  <thead>\n",
              "    <tr style=\"text-align: right;\">\n",
              "      <th>facility_id</th>\n",
              "      <th>1</th>\n",
              "      <th>2</th>\n",
              "      <th>3</th>\n",
              "      <th>4</th>\n",
              "      <th>5</th>\n",
              "      <th>6</th>\n",
              "    </tr>\n",
              "    <tr>\n",
              "      <th>project_id</th>\n",
              "      <th></th>\n",
              "      <th></th>\n",
              "      <th></th>\n",
              "      <th></th>\n",
              "      <th></th>\n",
              "      <th></th>\n",
              "    </tr>\n",
              "  </thead>\n",
              "  <tbody>\n",
              "    <tr>\n",
              "      <th>4</th>\n",
              "      <td>1</td>\n",
              "      <td>0</td>\n",
              "      <td>1</td>\n",
              "      <td>1</td>\n",
              "      <td>1</td>\n",
              "      <td>0</td>\n",
              "    </tr>\n",
              "    <tr>\n",
              "      <th>24</th>\n",
              "      <td>0</td>\n",
              "      <td>0</td>\n",
              "      <td>1</td>\n",
              "      <td>1</td>\n",
              "      <td>0</td>\n",
              "      <td>1</td>\n",
              "    </tr>\n",
              "    <tr>\n",
              "      <th>29</th>\n",
              "      <td>0</td>\n",
              "      <td>0</td>\n",
              "      <td>0</td>\n",
              "      <td>0</td>\n",
              "      <td>1</td>\n",
              "      <td>0</td>\n",
              "    </tr>\n",
              "    <tr>\n",
              "      <th>41</th>\n",
              "      <td>1</td>\n",
              "      <td>1</td>\n",
              "      <td>0</td>\n",
              "      <td>1</td>\n",
              "      <td>0</td>\n",
              "      <td>1</td>\n",
              "    </tr>\n",
              "    <tr>\n",
              "      <th>44</th>\n",
              "      <td>1</td>\n",
              "      <td>0</td>\n",
              "      <td>1</td>\n",
              "      <td>0</td>\n",
              "      <td>0</td>\n",
              "      <td>0</td>\n",
              "    </tr>\n",
              "  </tbody>\n",
              "</table>\n",
              "</div>"
            ],
            "text/plain": [
              "facility_id  1  2  3  4  5  6\n",
              "project_id                   \n",
              "4            1  0  1  1  1  0\n",
              "24           0  0  1  1  0  1\n",
              "29           0  0  0  0  1  0\n",
              "41           1  1  0  1  0  1\n",
              "44           1  0  1  0  0  0"
            ]
          },
          "metadata": {
            "tags": []
          },
          "execution_count": 7
        }
      ]
    },
    {
      "metadata": {
        "id": "SuOjAgoWQC93",
        "colab_type": "text"
      },
      "cell_type": "markdown",
      "source": [
        "## TODO#5: กำจัดข้อมูลที่ใช้ไม่ได้ ออกไป เลือกใช้แต่ข้อมูลที่ครบ\n",
        "\n",
        "เราจำเป็นต้องแยกข้อมูลให้เหลือ project ที่มีข้อมูลครบ เท่านั้น  เราสามารถใช้ [pandas.DataFrame.isin](https://pandas.pydata.org/pandas-docs/stable/reference/api/pandas.DataFrame.isin.html) เพื่อช่วยในการหา วา่มีข้อมูลร่วมกันได้ในการแยกข้แมูลออกมา"
      ]
    },
    {
      "metadata": {
        "id": "DH_JZKdcc4ll",
        "colab_type": "code",
        "outputId": "0147ab98-c2ba-4c7a-e9b9-7e6d9a021776",
        "colab": {
          "base_uri": "https://localhost:8080/",
          "height": 269
        }
      },
      "cell_type": "code",
      "source": [
        "project_facility_table = project_facility_table.loc[project_facility_table.index.isin(project_main['project_id'])]\n",
        "project_main = project_main.loc[project_main['project_id'].isin(project_facility_table.index.astype(int))]\n",
        "project_main = project_main.sort_values('project_id')\n",
        "print(project_facility_table.shape)\n",
        "print(project_main.shape)\n",
        "project_facility_table.head()"
      ],
      "execution_count": 0,
      "outputs": [
        {
          "output_type": "stream",
          "text": [
            "(1697, 6)\n",
            "(1697, 16)\n"
          ],
          "name": "stdout"
        },
        {
          "output_type": "execute_result",
          "data": {
            "text/html": [
              "<div>\n",
              "<style scoped>\n",
              "    .dataframe tbody tr th:only-of-type {\n",
              "        vertical-align: middle;\n",
              "    }\n",
              "\n",
              "    .dataframe tbody tr th {\n",
              "        vertical-align: top;\n",
              "    }\n",
              "\n",
              "    .dataframe thead th {\n",
              "        text-align: right;\n",
              "    }\n",
              "</style>\n",
              "<table border=\"1\" class=\"dataframe\">\n",
              "  <thead>\n",
              "    <tr style=\"text-align: right;\">\n",
              "      <th>facility_id</th>\n",
              "      <th>1</th>\n",
              "      <th>2</th>\n",
              "      <th>3</th>\n",
              "      <th>4</th>\n",
              "      <th>5</th>\n",
              "      <th>6</th>\n",
              "    </tr>\n",
              "    <tr>\n",
              "      <th>project_id</th>\n",
              "      <th></th>\n",
              "      <th></th>\n",
              "      <th></th>\n",
              "      <th></th>\n",
              "      <th></th>\n",
              "      <th></th>\n",
              "    </tr>\n",
              "  </thead>\n",
              "  <tbody>\n",
              "    <tr>\n",
              "      <th>24</th>\n",
              "      <td>0</td>\n",
              "      <td>0</td>\n",
              "      <td>1</td>\n",
              "      <td>1</td>\n",
              "      <td>0</td>\n",
              "      <td>1</td>\n",
              "    </tr>\n",
              "    <tr>\n",
              "      <th>44</th>\n",
              "      <td>1</td>\n",
              "      <td>0</td>\n",
              "      <td>1</td>\n",
              "      <td>0</td>\n",
              "      <td>0</td>\n",
              "      <td>0</td>\n",
              "    </tr>\n",
              "    <tr>\n",
              "      <th>45</th>\n",
              "      <td>0</td>\n",
              "      <td>1</td>\n",
              "      <td>1</td>\n",
              "      <td>1</td>\n",
              "      <td>1</td>\n",
              "      <td>0</td>\n",
              "    </tr>\n",
              "    <tr>\n",
              "      <th>95</th>\n",
              "      <td>1</td>\n",
              "      <td>0</td>\n",
              "      <td>0</td>\n",
              "      <td>0</td>\n",
              "      <td>0</td>\n",
              "      <td>0</td>\n",
              "    </tr>\n",
              "    <tr>\n",
              "      <th>133</th>\n",
              "      <td>1</td>\n",
              "      <td>0</td>\n",
              "      <td>1</td>\n",
              "      <td>0</td>\n",
              "      <td>1</td>\n",
              "      <td>0</td>\n",
              "    </tr>\n",
              "  </tbody>\n",
              "</table>\n",
              "</div>"
            ],
            "text/plain": [
              "facility_id  1  2  3  4  5  6\n",
              "project_id                   \n",
              "24           0  0  1  1  0  1\n",
              "44           1  0  1  0  0  0\n",
              "45           0  1  1  1  1  0\n",
              "95           1  0  0  0  0  0\n",
              "133          1  0  1  0  1  0"
            ]
          },
          "metadata": {
            "tags": []
          },
          "execution_count": 8
        }
      ]
    },
    {
      "metadata": {
        "id": "kXbSDY3lxdZC",
        "colab_type": "code",
        "outputId": "ff250c41-1704-4ec5-a653-7f8fb22f734b",
        "colab": {
          "base_uri": "https://localhost:8080/",
          "height": 309
        }
      },
      "cell_type": "code",
      "source": [
        "project_main.head()"
      ],
      "execution_count": 0,
      "outputs": [
        {
          "output_type": "execute_result",
          "data": {
            "text/html": [
              "<div>\n",
              "<style scoped>\n",
              "    .dataframe tbody tr th:only-of-type {\n",
              "        vertical-align: middle;\n",
              "    }\n",
              "\n",
              "    .dataframe tbody tr th {\n",
              "        vertical-align: top;\n",
              "    }\n",
              "\n",
              "    .dataframe thead th {\n",
              "        text-align: right;\n",
              "    }\n",
              "</style>\n",
              "<table border=\"1\" class=\"dataframe\">\n",
              "  <thead>\n",
              "    <tr style=\"text-align: right;\">\n",
              "      <th></th>\n",
              "      <th>project_id</th>\n",
              "      <th>developer_id</th>\n",
              "      <th>brand_id</th>\n",
              "      <th>project_name_th</th>\n",
              "      <th>project_name_en</th>\n",
              "      <th>district_id</th>\n",
              "      <th>province_id</th>\n",
              "      <th>lat</th>\n",
              "      <th>lon</th>\n",
              "      <th>project_land_size_rai</th>\n",
              "      <th>total_unit</th>\n",
              "      <th>percent_car_parking</th>\n",
              "      <th>starting_price</th>\n",
              "      <th>highest_price</th>\n",
              "      <th>project_status</th>\n",
              "      <th>created_at</th>\n",
              "    </tr>\n",
              "  </thead>\n",
              "  <tbody>\n",
              "    <tr>\n",
              "      <th>1</th>\n",
              "      <td>24</td>\n",
              "      <td>1032</td>\n",
              "      <td>0.0</td>\n",
              "      <td>สัมมากร นิมิตใหม่</td>\n",
              "      <td>Sammakorn Nimitmai</td>\n",
              "      <td>1046.0</td>\n",
              "      <td>10</td>\n",
              "      <td>13.876590</td>\n",
              "      <td>100.731927</td>\n",
              "      <td>154</td>\n",
              "      <td>NaN</td>\n",
              "      <td>NaN</td>\n",
              "      <td>4590000.0</td>\n",
              "      <td>NaN</td>\n",
              "      <td>0.0</td>\n",
              "      <td>2011-02-24T21:43:59.297+0700</td>\n",
              "    </tr>\n",
              "    <tr>\n",
              "      <th>0</th>\n",
              "      <td>44</td>\n",
              "      <td>140786</td>\n",
              "      <td>0.0</td>\n",
              "      <td>พาร์ควิลล์ 3</td>\n",
              "      <td>Parkville 3</td>\n",
              "      <td>1046.0</td>\n",
              "      <td>10</td>\n",
              "      <td>13.891719</td>\n",
              "      <td>100.722099</td>\n",
              "      <td>54</td>\n",
              "      <td>NaN</td>\n",
              "      <td>NaN</td>\n",
              "      <td>3500000.0</td>\n",
              "      <td>3862000.0</td>\n",
              "      <td>1.0</td>\n",
              "      <td>2011-01-14T18:40:12.117+0700</td>\n",
              "    </tr>\n",
              "    <tr>\n",
              "      <th>164</th>\n",
              "      <td>45</td>\n",
              "      <td>2840</td>\n",
              "      <td>0.0</td>\n",
              "      <td>พาร์คเวย์ ชาเล่ต์</td>\n",
              "      <td>parkway chalet</td>\n",
              "      <td>1010.0</td>\n",
              "      <td>10</td>\n",
              "      <td>13.803465</td>\n",
              "      <td>100.727406</td>\n",
              "      <td>87</td>\n",
              "      <td>NaN</td>\n",
              "      <td>NaN</td>\n",
              "      <td>5500000.0</td>\n",
              "      <td>NaN</td>\n",
              "      <td>0.0</td>\n",
              "      <td>2011-03-28T23:27:08.833+0700</td>\n",
              "    </tr>\n",
              "    <tr>\n",
              "      <th>172</th>\n",
              "      <td>95</td>\n",
              "      <td>2730</td>\n",
              "      <td>NaN</td>\n",
              "      <td>อารีน่า พาร์ค ชวนชื่น ซิตี้</td>\n",
              "      <td>NaN</td>\n",
              "      <td>1005.0</td>\n",
              "      <td>10</td>\n",
              "      <td>13.859276</td>\n",
              "      <td>100.665287</td>\n",
              "      <td>79</td>\n",
              "      <td>NaN</td>\n",
              "      <td>NaN</td>\n",
              "      <td>2000000.0</td>\n",
              "      <td>5000000.0</td>\n",
              "      <td>0.0</td>\n",
              "      <td>2007-04-18T23:02:22.000+0700</td>\n",
              "    </tr>\n",
              "    <tr>\n",
              "      <th>185</th>\n",
              "      <td>133</td>\n",
              "      <td>6772</td>\n",
              "      <td>538.0</td>\n",
              "      <td>เค.ซี.เลควิว</td>\n",
              "      <td>K.C. LAKEVIEW</td>\n",
              "      <td>1044.0</td>\n",
              "      <td>10</td>\n",
              "      <td>13.759440</td>\n",
              "      <td>100.679230</td>\n",
              "      <td>60</td>\n",
              "      <td>NaN</td>\n",
              "      <td>NaN</td>\n",
              "      <td>11000000.0</td>\n",
              "      <td>NaN</td>\n",
              "      <td>1.0</td>\n",
              "      <td>2011-01-14T18:42:51.630+0700</td>\n",
              "    </tr>\n",
              "  </tbody>\n",
              "</table>\n",
              "</div>"
            ],
            "text/plain": [
              "     project_id  developer_id  brand_id              project_name_th  \\\n",
              "1            24          1032       0.0            สัมมากร นิมิตใหม่   \n",
              "0            44        140786       0.0                 พาร์ควิลล์ 3   \n",
              "164          45          2840       0.0            พาร์คเวย์ ชาเล่ต์   \n",
              "172          95          2730       NaN  อารีน่า พาร์ค ชวนชื่น ซิตี้   \n",
              "185         133          6772     538.0                 เค.ซี.เลควิว   \n",
              "\n",
              "        project_name_en  district_id  province_id        lat         lon  \\\n",
              "1    Sammakorn Nimitmai       1046.0           10  13.876590  100.731927   \n",
              "0           Parkville 3       1046.0           10  13.891719  100.722099   \n",
              "164      parkway chalet       1010.0           10  13.803465  100.727406   \n",
              "172                 NaN       1005.0           10  13.859276  100.665287   \n",
              "185       K.C. LAKEVIEW       1044.0           10  13.759440  100.679230   \n",
              "\n",
              "     project_land_size_rai  total_unit  percent_car_parking  starting_price  \\\n",
              "1                      154         NaN                  NaN       4590000.0   \n",
              "0                       54         NaN                  NaN       3500000.0   \n",
              "164                     87         NaN                  NaN       5500000.0   \n",
              "172                     79         NaN                  NaN       2000000.0   \n",
              "185                     60         NaN                  NaN      11000000.0   \n",
              "\n",
              "     highest_price  project_status                    created_at  \n",
              "1              NaN             0.0  2011-02-24T21:43:59.297+0700  \n",
              "0        3862000.0             1.0  2011-01-14T18:40:12.117+0700  \n",
              "164            NaN             0.0  2011-03-28T23:27:08.833+0700  \n",
              "172      5000000.0             0.0  2007-04-18T23:02:22.000+0700  \n",
              "185            NaN             1.0  2011-01-14T18:42:51.630+0700  "
            ]
          },
          "metadata": {
            "tags": []
          },
          "execution_count": 9
        }
      ]
    },
    {
      "metadata": {
        "id": "SLgCn82OzrQc",
        "colab_type": "text"
      },
      "cell_type": "markdown",
      "source": [
        "## TODO#6: ลองดูข้อมูล จาก user log \n",
        "\n",
        "\n",
        "\n",
        "ลอง check ข้อมูลของ log data "
      ]
    },
    {
      "metadata": {
        "id": "ksRpe8e2ajVa",
        "colab_type": "code",
        "outputId": "2596d075-404b-4d4a-f3d3-eca5281d0d87",
        "colab": {
          "base_uri": "https://localhost:8080/",
          "height": 238
        }
      },
      "cell_type": "code",
      "source": [
        "# care values province_id\n",
        "# we use only bangkok  province_id = 10 \n",
        "### load data ###############################################################################\n",
        "print('userLog')\n",
        "userLog = readDataFromDrive_HDT_single_col('19sNUEOYeqU33EWBMRKq65YydpgLQoppZ') \n",
        "userLog.head()\n"
      ],
      "execution_count": 0,
      "outputs": [
        {
          "output_type": "stream",
          "text": [
            "userLog\n",
            "#########################################################################################################################\n"
          ],
          "name": "stdout"
        },
        {
          "output_type": "execute_result",
          "data": {
            "text/html": [
              "<div>\n",
              "<style scoped>\n",
              "    .dataframe tbody tr th:only-of-type {\n",
              "        vertical-align: middle;\n",
              "    }\n",
              "\n",
              "    .dataframe tbody tr th {\n",
              "        vertical-align: top;\n",
              "    }\n",
              "\n",
              "    .dataframe thead th {\n",
              "        text-align: right;\n",
              "    }\n",
              "</style>\n",
              "<table border=\"1\" class=\"dataframe\">\n",
              "  <thead>\n",
              "    <tr style=\"text-align: right;\">\n",
              "      <th></th>\n",
              "      <th>userCode</th>\n",
              "      <th>project_id</th>\n",
              "      <th>requestedDevice</th>\n",
              "      <th>userAgent</th>\n",
              "      <th>pageReferrer</th>\n",
              "      <th>year</th>\n",
              "      <th>month</th>\n",
              "      <th>day</th>\n",
              "      <th>hour</th>\n",
              "    </tr>\n",
              "  </thead>\n",
              "  <tbody>\n",
              "    <tr>\n",
              "      <th>0</th>\n",
              "      <td>7717bdc2-ea3e-e8ad-5d6b-178bd71c38b2</td>\n",
              "      <td>7956</td>\n",
              "      <td>Mobile</td>\n",
              "      <td>Android</td>\n",
              "      <td>HomeWebsite</td>\n",
              "      <td>2018</td>\n",
              "      <td>1</td>\n",
              "      <td>1</td>\n",
              "      <td>0</td>\n",
              "    </tr>\n",
              "    <tr>\n",
              "      <th>1</th>\n",
              "      <td>7717bdc2-ea3e-e8ad-5d6b-178bd71c38b2</td>\n",
              "      <td>7956</td>\n",
              "      <td>Mobile</td>\n",
              "      <td>Android</td>\n",
              "      <td>HomeWebsite</td>\n",
              "      <td>2018</td>\n",
              "      <td>1</td>\n",
              "      <td>1</td>\n",
              "      <td>0</td>\n",
              "    </tr>\n",
              "    <tr>\n",
              "      <th>2</th>\n",
              "      <td>cb5b4b68-cc01-6db6-f54b-4a0f881301c5</td>\n",
              "      <td>5067</td>\n",
              "      <td>Mobile</td>\n",
              "      <td>iPhone</td>\n",
              "      <td>HomeWebsite</td>\n",
              "      <td>2018</td>\n",
              "      <td>1</td>\n",
              "      <td>1</td>\n",
              "      <td>0</td>\n",
              "    </tr>\n",
              "    <tr>\n",
              "      <th>3</th>\n",
              "      <td>5f74cef2-0d1e-b619-3564-0955a14e0985</td>\n",
              "      <td>6654</td>\n",
              "      <td>Mobile</td>\n",
              "      <td>iPhone</td>\n",
              "      <td>Google</td>\n",
              "      <td>2018</td>\n",
              "      <td>1</td>\n",
              "      <td>1</td>\n",
              "      <td>0</td>\n",
              "    </tr>\n",
              "    <tr>\n",
              "      <th>4</th>\n",
              "      <td>dba8f279-844e-eef6-73ac-22bd7d1353cc</td>\n",
              "      <td>6474</td>\n",
              "      <td>Mobile</td>\n",
              "      <td>iPad</td>\n",
              "      <td>Google</td>\n",
              "      <td>2018</td>\n",
              "      <td>1</td>\n",
              "      <td>1</td>\n",
              "      <td>0</td>\n",
              "    </tr>\n",
              "  </tbody>\n",
              "</table>\n",
              "</div>"
            ],
            "text/plain": [
              "                               userCode  project_id requestedDevice userAgent  \\\n",
              "0  7717bdc2-ea3e-e8ad-5d6b-178bd71c38b2        7956          Mobile   Android   \n",
              "1  7717bdc2-ea3e-e8ad-5d6b-178bd71c38b2        7956          Mobile   Android   \n",
              "2  cb5b4b68-cc01-6db6-f54b-4a0f881301c5        5067          Mobile    iPhone   \n",
              "3  5f74cef2-0d1e-b619-3564-0955a14e0985        6654          Mobile    iPhone   \n",
              "4  dba8f279-844e-eef6-73ac-22bd7d1353cc        6474          Mobile      iPad   \n",
              "\n",
              "  pageReferrer  year  month  day  hour  \n",
              "0  HomeWebsite  2018      1    1     0  \n",
              "1  HomeWebsite  2018      1    1     0  \n",
              "2  HomeWebsite  2018      1    1     0  \n",
              "3       Google  2018      1    1     0  \n",
              "4       Google  2018      1    1     0  "
            ]
          },
          "metadata": {
            "tags": []
          },
          "execution_count": 10
        }
      ]
    },
    {
      "metadata": {
        "id": "w8H0tzGfxnnq",
        "colab_type": "code",
        "outputId": "c01dd0d0-caab-497e-8cc9-467fe8c38863",
        "colab": {
          "base_uri": "https://localhost:8080/",
          "height": 34
        }
      },
      "cell_type": "code",
      "source": [
        "print(userLog.shape)\n"
      ],
      "execution_count": 0,
      "outputs": [
        {
          "output_type": "stream",
          "text": [
            "(1234579, 9)\n"
          ],
          "name": "stdout"
        }
      ]
    },
    {
      "metadata": {
        "id": "jFlYQc7mnuoM",
        "colab_type": "code",
        "outputId": "14bc1c17-d799-495f-eddd-f7d62a65fc75",
        "colab": {
          "base_uri": "https://localhost:8080/",
          "height": 34
        }
      },
      "cell_type": "code",
      "source": [
        "print(userLog.loc[userLog['project_id'].isin(project_facility_table.index.astype(int))].shape)\n",
        "userLog = userLog.loc[userLog['project_id'].isin(project_facility_table.index.astype(int))]"
      ],
      "execution_count": 0,
      "outputs": [
        {
          "output_type": "stream",
          "text": [
            "(405448, 9)\n"
          ],
          "name": "stdout"
        }
      ]
    },
    {
      "metadata": {
        "id": "U4h3JYoIXFsc",
        "colab_type": "text"
      },
      "cell_type": "markdown",
      "source": [
        "## TODO#7: ข้อมูล histrogram ของตัว user และ project ที่ user ดู\n",
        "\n",
        "จง check ดูความบ่อยของการใช้ user และ plot histogram ออกมา"
      ]
    },
    {
      "metadata": {
        "id": "p8CWwKunxf47",
        "colab_type": "code",
        "outputId": "85343bc3-6638-4316-93d8-e292d66ca214",
        "colab": {
          "base_uri": "https://localhost:8080/",
          "height": 136
        }
      },
      "cell_type": "code",
      "source": [
        "userLog_freq_user = userLog['userCode'].value_counts()\n",
        "userLog_freq_user_np  = np.array(userLog_freq_user.values)\n",
        "userLog_freq_proj = userLog['project_id'].value_counts()\n",
        "userLog_freq_proj_np = np.array(userLog_freq_proj.values)\n",
        "print(userLog_freq_user_np.shape)\n",
        "userLog_freq_user.head()"
      ],
      "execution_count": 0,
      "outputs": [
        {
          "output_type": "stream",
          "text": [
            "(175127,)\n"
          ],
          "name": "stdout"
        },
        {
          "output_type": "execute_result",
          "data": {
            "text/plain": [
              "de89bac5-57c6-ecfb-184d-cc4e973c31ac    7408\n",
              "31bb9bf0-8ad5-3e50-f334-e6c7de89bac5    3465\n",
              "eec0a125-d5ab-f692-c501-4713c35c756d     703\n",
              "e400406a-b73d-3e78-d37d-53fcddebccaf     518\n",
              "1aecd8e5-f02b-ba5c-e865-49da43ad8f22     472\n",
              "Name: userCode, dtype: int64"
            ]
          },
          "metadata": {
            "tags": []
          },
          "execution_count": 24
        }
      ]
    },
    {
      "metadata": {
        "id": "5ClYwT6z0jQb",
        "colab_type": "text"
      },
      "cell_type": "markdown",
      "source": [
        "จงแสดง histogram ของความถี่ของ user และ ใช้ pd.head() เพื่อดูค่าช่วงต้นๆ ของ histogram"
      ]
    },
    {
      "metadata": {
        "id": "Bo48mxtHg_Y3",
        "colab_type": "code",
        "outputId": "f94c10c5-3be6-44d3-e7c7-fc203f9a7839",
        "colab": {
          "base_uri": "https://localhost:8080/",
          "height": 34
        }
      },
      "cell_type": "code",
      "source": [
        "print(userLog_freq_proj.shape)"
      ],
      "execution_count": 0,
      "outputs": [
        {
          "output_type": "stream",
          "text": [
            "(1685,)\n"
          ],
          "name": "stdout"
        }
      ]
    },
    {
      "metadata": {
        "id": "SpLLzClQDXEC",
        "colab_type": "code",
        "outputId": "b2e25f42-5b9a-42b7-cef3-fc358d166039",
        "colab": {
          "base_uri": "https://localhost:8080/",
          "height": 347
        }
      },
      "cell_type": "code",
      "source": [
        "n, bins, patches = plt.hist(userLog_freq_user_np, 50, density=True, facecolor='g', alpha=0.75)\n",
        "plt.show()"
      ],
      "execution_count": 0,
      "outputs": [
        {
          "output_type": "display_data",
          "data": {
            "image/png": "[encoded data removed]",
            "text/plain": [
              "<Figure size 576x396 with 1 Axes>"
            ]
          },
          "metadata": {
            "tags": []
          }
        }
      ]
    },
    {
      "metadata": {
        "id": "owLV1wxP00yX",
        "colab_type": "text"
      },
      "cell_type": "markdown",
      "source": [
        "## TODO#8: จงหาค่า medium และ mode ของ ความถี่ในการเข้าใช้ ของ user\n",
        "จากค่าที่พิจารณา  จงหา mode "
      ]
    },
    {
      "metadata": {
        "id": "zikNtaP2hzpF",
        "colab_type": "code",
        "outputId": "861c7e8d-e02f-419b-904e-31dcaaf49594",
        "colab": {
          "base_uri": "https://localhost:8080/",
          "height": 51
        }
      },
      "cell_type": "code",
      "source": [
        "print(mode(userLog_freq_user_np))\n",
        "print(np.percentile(userLog_freq_user_np, 99.99))\n",
        "#print('++++++++++++++++++++++++++++++++++++++++++')"
      ],
      "execution_count": 0,
      "outputs": [
        {
          "output_type": "stream",
          "text": [
            "ModeResult(mode=array([1]), count=array([110653]))\n",
            "50.87400000001071\n"
          ],
          "name": "stdout"
        }
      ]
    },
    {
      "metadata": {
        "id": "6Gs-cYCCNW9u",
        "colab_type": "text"
      },
      "cell_type": "markdown",
      "source": [
        "## TODO#9: \n",
        "\n",
        "จากกราฟ histogram ที่ได้ละ ค่า mode medium และ ค่าสูงสุดที่ user ใช้ จงบอกปัญหาของข้อมูล ของ userlog ว่าเกิดอะไรขึ้น\n",
        "\n",
        "เขียนคำตอบ :"
      ]
    },
    {
      "metadata": {
        "id": "sID5iCeEEbvg",
        "colab_type": "text"
      },
      "cell_type": "markdown",
      "source": [
        ""
      ]
    },
    {
      "metadata": {
        "id": "n9qIvS-GOV4L",
        "colab_type": "text"
      },
      "cell_type": "markdown",
      "source": [
        "## TODO#10: \n",
        "\n",
        "จะสังเกตว่าค่า ของ histogram user นั้นมี user ประหลาดอยู่ดังนั้น เราจะกำลังข้อมูลที่ไม่ดีออกไป โดยการตัด เปอร์เซ็นไทน์ 90 ของการใช้ของ user\n",
        "\n",
        "สามารถใช้  [numpy.percentile](https://docs.scipy.org/doc/numpy-1.15.0/reference/generated/numpy.percentile.html) ช่วยได้\n",
        "\n",
        "ดึงค่า pd.index ออกมา\n",
        "\n"
      ]
    },
    {
      "metadata": {
        "id": "FhAX6jKbz7cB",
        "colab_type": "code",
        "outputId": "9ae324b3-98ee-441c-aa37-93fe69d54049",
        "colab": {
          "base_uri": "https://localhost:8080/",
          "height": 51
        }
      },
      "cell_type": "code",
      "source": [
        "#print(np.percentile(userLog_freq_user_np, 95))\n",
        "normal_user = userLog_freq_user.loc[userLog_freq_user <= 3000 ].index\n",
        "print(normal_user.shape)\n",
        "userLog = userLog.loc[userLog['userCode'].isin(normal_user)]\n",
        "userLog.shape"
      ],
      "execution_count": 0,
      "outputs": [
        {
          "output_type": "stream",
          "text": [
            "(175125,)\n"
          ],
          "name": "stdout"
        },
        {
          "output_type": "execute_result",
          "data": {
            "text/plain": [
              "(394575, 9)"
            ]
          },
          "metadata": {
            "tags": []
          },
          "execution_count": 25
        }
      ]
    },
    {
      "metadata": {
        "id": "AoYlXdjgB5cX",
        "colab_type": "text"
      },
      "cell_type": "markdown",
      "source": [
        "clear to top project"
      ]
    },
    {
      "metadata": {
        "id": "VCGqFk3V09GG",
        "colab_type": "code",
        "outputId": "4a0a2852-ef1d-43c7-e80b-f64a243743bc",
        "colab": {
          "base_uri": "https://localhost:8080/",
          "height": 272
        }
      },
      "cell_type": "code",
      "source": [
        "# we use only 1000 project to compute fast\n",
        "top_percentile = 100 - (1000*100/userLog_freq_proj.shape[0])\n",
        "print(top_percentile)\n",
        "print(np.percentile(userLog_freq_proj_np, top_percentile))\n",
        "proj_top = userLog_freq_proj.loc[ userLog_freq_proj >= np.percentile(userLog_freq_proj_np, top_percentile) ].index\n",
        "print(proj_top.shape)\n",
        "\n",
        "# print(proj_top)\n",
        "userLog = userLog.loc[userLog['project_id'].isin(proj_top)]\n",
        "print(userLog.shape)\n",
        "userLog.head()\n"
      ],
      "execution_count": 0,
      "outputs": [
        {
          "output_type": "stream",
          "text": [
            "40.652818991097924\n",
            "86.593471810089\n",
            "(1000,)\n",
            "(267675, 9)\n"
          ],
          "name": "stdout"
        },
        {
          "output_type": "execute_result",
          "data": {
            "text/html": [
              "<div>\n",
              "<style scoped>\n",
              "    .dataframe tbody tr th:only-of-type {\n",
              "        vertical-align: middle;\n",
              "    }\n",
              "\n",
              "    .dataframe tbody tr th {\n",
              "        vertical-align: top;\n",
              "    }\n",
              "\n",
              "    .dataframe thead th {\n",
              "        text-align: right;\n",
              "    }\n",
              "</style>\n",
              "<table border=\"1\" class=\"dataframe\">\n",
              "  <thead>\n",
              "    <tr style=\"text-align: right;\">\n",
              "      <th></th>\n",
              "      <th>userCode</th>\n",
              "      <th>project_id</th>\n",
              "      <th>requestedDevice</th>\n",
              "      <th>userAgent</th>\n",
              "      <th>pageReferrer</th>\n",
              "      <th>year</th>\n",
              "      <th>month</th>\n",
              "      <th>day</th>\n",
              "      <th>hour</th>\n",
              "    </tr>\n",
              "  </thead>\n",
              "  <tbody>\n",
              "    <tr>\n",
              "      <th>8</th>\n",
              "      <td>9794fe34-fb0f-4242-8a35-7610cb1e0ee8</td>\n",
              "      <td>9323</td>\n",
              "      <td>Mobile</td>\n",
              "      <td>iPad</td>\n",
              "      <td>Facebook</td>\n",
              "      <td>2018</td>\n",
              "      <td>1</td>\n",
              "      <td>1</td>\n",
              "      <td>0</td>\n",
              "    </tr>\n",
              "    <tr>\n",
              "      <th>10</th>\n",
              "      <td>9794fe34-fb0f-4242-8a35-7610cb1e0ee8</td>\n",
              "      <td>9323</td>\n",
              "      <td>Mobile</td>\n",
              "      <td>iPad</td>\n",
              "      <td>HomeWebsite</td>\n",
              "      <td>2018</td>\n",
              "      <td>1</td>\n",
              "      <td>1</td>\n",
              "      <td>0</td>\n",
              "    </tr>\n",
              "    <tr>\n",
              "      <th>12</th>\n",
              "      <td>5badf2de-4bc2-c66b-64fd-13184832dfa0</td>\n",
              "      <td>2560</td>\n",
              "      <td>Desktop</td>\n",
              "      <td>Windows</td>\n",
              "      <td>Google</td>\n",
              "      <td>2018</td>\n",
              "      <td>1</td>\n",
              "      <td>1</td>\n",
              "      <td>0</td>\n",
              "    </tr>\n",
              "    <tr>\n",
              "      <th>14</th>\n",
              "      <td>67134749-f09c-747e-777c-59d7cba5e179</td>\n",
              "      <td>4201</td>\n",
              "      <td>Mobile</td>\n",
              "      <td>iPhone</td>\n",
              "      <td>Other_PageReferer</td>\n",
              "      <td>2018</td>\n",
              "      <td>1</td>\n",
              "      <td>1</td>\n",
              "      <td>0</td>\n",
              "    </tr>\n",
              "    <tr>\n",
              "      <th>15</th>\n",
              "      <td>a9edf492-d59f-874b-88ab-a729bacef361</td>\n",
              "      <td>3860</td>\n",
              "      <td>Mobile</td>\n",
              "      <td>iPhone</td>\n",
              "      <td>Google</td>\n",
              "      <td>2018</td>\n",
              "      <td>1</td>\n",
              "      <td>1</td>\n",
              "      <td>0</td>\n",
              "    </tr>\n",
              "  </tbody>\n",
              "</table>\n",
              "</div>"
            ],
            "text/plain": [
              "                                userCode  project_id requestedDevice  \\\n",
              "8   9794fe34-fb0f-4242-8a35-7610cb1e0ee8        9323          Mobile   \n",
              "10  9794fe34-fb0f-4242-8a35-7610cb1e0ee8        9323          Mobile   \n",
              "12  5badf2de-4bc2-c66b-64fd-13184832dfa0        2560         Desktop   \n",
              "14  67134749-f09c-747e-777c-59d7cba5e179        4201          Mobile   \n",
              "15  a9edf492-d59f-874b-88ab-a729bacef361        3860          Mobile   \n",
              "\n",
              "   userAgent       pageReferrer  year  month  day  hour  \n",
              "8       iPad           Facebook  2018      1    1     0  \n",
              "10      iPad        HomeWebsite  2018      1    1     0  \n",
              "12   Windows             Google  2018      1    1     0  \n",
              "14    iPhone  Other_PageReferer  2018      1    1     0  \n",
              "15    iPhone             Google  2018      1    1     0  "
            ]
          },
          "metadata": {
            "tags": []
          },
          "execution_count": 47
        }
      ]
    },
    {
      "metadata": {
        "id": "JLNjbno6kSch",
        "colab_type": "code",
        "outputId": "0b9033a9-5b73-4bdf-e7e5-93e02591fd30",
        "colab": {
          "base_uri": "https://localhost:8080/",
          "height": 51
        }
      },
      "cell_type": "code",
      "source": [
        "## clear data \n",
        "\n",
        "project_facility_table = project_facility_table.loc[project_facility_table.index.isin(proj_top)]\n",
        "project_main = project_main.loc[project_main['project_id'].isin(proj_top)]\n",
        "\n",
        "print(project_facility_table.shape)\n",
        "print(project_main.shape)"
      ],
      "execution_count": 0,
      "outputs": [
        {
          "output_type": "stream",
          "text": [
            "(1000, 6)\n",
            "(1000, 16)\n"
          ],
          "name": "stdout"
        }
      ]
    },
    {
      "metadata": {
        "id": "VAtuG-VkPhad",
        "colab_type": "text"
      },
      "cell_type": "markdown",
      "source": [
        "เนื่องจาก ข้อมูล มีจำนวนมาก เราจะเลือกแค่ project ที่คนเข้ามาดูมากที่สุด top 1000 project มาคิดเท่านั้น"
      ]
    },
    {
      "metadata": {
        "id": "Q-6x2k2BEeo2",
        "colab_type": "text"
      },
      "cell_type": "markdown",
      "source": [
        "#optional \n",
        "\n",
        "พวกเราสามารถ filter ข้อมูลด้วยตำนวนครั้งที่เปิดขึ้นมาดูได้หรือไม่"
      ]
    },
    {
      "metadata": {
        "id": "mddaS5baEwQa",
        "colab_type": "code",
        "colab": {}
      },
      "cell_type": "code",
      "source": [
        ""
      ],
      "execution_count": 0,
      "outputs": []
    },
    {
      "metadata": {
        "id": "Rkxdaoaj-4wU",
        "colab_type": "text"
      },
      "cell_type": "markdown",
      "source": [
        "------"
      ]
    },
    {
      "metadata": {
        "id": "QTymaWEqAHhI",
        "colab_type": "text"
      },
      "cell_type": "markdown",
      "source": [
        "## TODO#11:\n",
        "\n",
        "เราจะสร้าง recommendation system ที่มี"
      ]
    },
    {
      "metadata": {
        "id": "aH99XORL_BH4",
        "colab_type": "code",
        "outputId": "d4ef560e-0a71-4842-afcc-ee2019687fb5",
        "colab": {
          "base_uri": "https://localhost:8080/",
          "height": 238
        }
      },
      "cell_type": "code",
      "source": [
        "#userLog.head()\n",
        "userLog_freq_day = pd.crosstab(userLog['userCode'], [userLog['year'], userLog['month'], userLog['day']], rownames =['userCode'], colnames=['year','month','day'])\n",
        "userLog_last_week  = userLog.loc[userLog['month'] == 2]\n",
        "userLog_last_week = userLog_last_week.loc[ userLog_last_week['day'] >=16]\n",
        "print(userLog_last_week.shape)\n",
        "print(userLog.shape)\n",
        "\n",
        "userLog_last_week.head()\n"
      ],
      "execution_count": 0,
      "outputs": [
        {
          "output_type": "stream",
          "text": [
            "(58567, 9)\n",
            "(394575, 9)\n"
          ],
          "name": "stdout"
        },
        {
          "output_type": "execute_result",
          "data": {
            "text/html": [
              "<div>\n",
              "<style scoped>\n",
              "    .dataframe tbody tr th:only-of-type {\n",
              "        vertical-align: middle;\n",
              "    }\n",
              "\n",
              "    .dataframe tbody tr th {\n",
              "        vertical-align: top;\n",
              "    }\n",
              "\n",
              "    .dataframe thead th {\n",
              "        text-align: right;\n",
              "    }\n",
              "</style>\n",
              "<table border=\"1\" class=\"dataframe\">\n",
              "  <thead>\n",
              "    <tr style=\"text-align: right;\">\n",
              "      <th></th>\n",
              "      <th>userCode</th>\n",
              "      <th>project_id</th>\n",
              "      <th>requestedDevice</th>\n",
              "      <th>userAgent</th>\n",
              "      <th>pageReferrer</th>\n",
              "      <th>year</th>\n",
              "      <th>month</th>\n",
              "      <th>day</th>\n",
              "      <th>hour</th>\n",
              "    </tr>\n",
              "  </thead>\n",
              "  <tbody>\n",
              "    <tr>\n",
              "      <th>1054428</th>\n",
              "      <td>ce988fbb-ab11-6ec3-03bc-35c99476ff83</td>\n",
              "      <td>5590</td>\n",
              "      <td>Mobile</td>\n",
              "      <td>iPhone</td>\n",
              "      <td>HomeWebsite</td>\n",
              "      <td>2018</td>\n",
              "      <td>2</td>\n",
              "      <td>16</td>\n",
              "      <td>0</td>\n",
              "    </tr>\n",
              "    <tr>\n",
              "      <th>1054441</th>\n",
              "      <td>6c5318e0-9acb-68e9-ffe5-2be46d42bdf6</td>\n",
              "      <td>5500</td>\n",
              "      <td>Mobile</td>\n",
              "      <td>Android</td>\n",
              "      <td>HomeWebsite</td>\n",
              "      <td>2018</td>\n",
              "      <td>2</td>\n",
              "      <td>16</td>\n",
              "      <td>0</td>\n",
              "    </tr>\n",
              "    <tr>\n",
              "      <th>1054444</th>\n",
              "      <td>e65e2e86-e2f3-cf8e-ee0d-95a868914ecf</td>\n",
              "      <td>2526</td>\n",
              "      <td>Mobile</td>\n",
              "      <td>Android</td>\n",
              "      <td>HomeWebsite</td>\n",
              "      <td>2018</td>\n",
              "      <td>2</td>\n",
              "      <td>16</td>\n",
              "      <td>0</td>\n",
              "    </tr>\n",
              "    <tr>\n",
              "      <th>1054445</th>\n",
              "      <td>69dffbf7-06c6-20e8-4332-204ceb19101f</td>\n",
              "      <td>5323</td>\n",
              "      <td>Mobile</td>\n",
              "      <td>iPhone</td>\n",
              "      <td>Facebook</td>\n",
              "      <td>2018</td>\n",
              "      <td>2</td>\n",
              "      <td>16</td>\n",
              "      <td>0</td>\n",
              "    </tr>\n",
              "    <tr>\n",
              "      <th>1054447</th>\n",
              "      <td>75692f29-a8ac-ca5b-ffc8-27e67bd1a5b0</td>\n",
              "      <td>1905</td>\n",
              "      <td>Mobile</td>\n",
              "      <td>Android</td>\n",
              "      <td>Google</td>\n",
              "      <td>2018</td>\n",
              "      <td>2</td>\n",
              "      <td>16</td>\n",
              "      <td>0</td>\n",
              "    </tr>\n",
              "  </tbody>\n",
              "</table>\n",
              "</div>"
            ],
            "text/plain": [
              "                                     userCode  project_id requestedDevice  \\\n",
              "1054428  ce988fbb-ab11-6ec3-03bc-35c99476ff83        5590          Mobile   \n",
              "1054441  6c5318e0-9acb-68e9-ffe5-2be46d42bdf6        5500          Mobile   \n",
              "1054444  e65e2e86-e2f3-cf8e-ee0d-95a868914ecf        2526          Mobile   \n",
              "1054445  69dffbf7-06c6-20e8-4332-204ceb19101f        5323          Mobile   \n",
              "1054447  75692f29-a8ac-ca5b-ffc8-27e67bd1a5b0        1905          Mobile   \n",
              "\n",
              "        userAgent pageReferrer  year  month  day  hour  \n",
              "1054428    iPhone  HomeWebsite  2018      2   16     0  \n",
              "1054441   Android  HomeWebsite  2018      2   16     0  \n",
              "1054444   Android  HomeWebsite  2018      2   16     0  \n",
              "1054445    iPhone     Facebook  2018      2   16     0  \n",
              "1054447   Android       Google  2018      2   16     0  "
            ]
          },
          "metadata": {
            "tags": []
          },
          "execution_count": 26
        }
      ]
    },
    {
      "metadata": {
        "id": "i5OpfwXf5aOi",
        "colab_type": "code",
        "outputId": "96a30b62-b3df-4a50-af4c-1fa3166af1f8",
        "colab": {
          "base_uri": "https://localhost:8080/",
          "height": 326
        }
      },
      "cell_type": "code",
      "source": [
        "userLog_freq_day.head()"
      ],
      "execution_count": 0,
      "outputs": [
        {
          "output_type": "execute_result",
          "data": {
            "text/html": [
              "<div>\n",
              "<style scoped>\n",
              "    .dataframe tbody tr th:only-of-type {\n",
              "        vertical-align: middle;\n",
              "    }\n",
              "\n",
              "    .dataframe tbody tr th {\n",
              "        vertical-align: top;\n",
              "    }\n",
              "\n",
              "    .dataframe thead tr th {\n",
              "        text-align: left;\n",
              "    }\n",
              "\n",
              "    .dataframe thead tr:last-of-type th {\n",
              "        text-align: right;\n",
              "    }\n",
              "</style>\n",
              "<table border=\"1\" class=\"dataframe\">\n",
              "  <thead>\n",
              "    <tr>\n",
              "      <th>year</th>\n",
              "      <th colspan=\"21\" halign=\"left\">2018</th>\n",
              "    </tr>\n",
              "    <tr>\n",
              "      <th>month</th>\n",
              "      <th colspan=\"10\" halign=\"left\">1</th>\n",
              "      <th>...</th>\n",
              "      <th colspan=\"10\" halign=\"left\">2</th>\n",
              "    </tr>\n",
              "    <tr>\n",
              "      <th>day</th>\n",
              "      <th>1</th>\n",
              "      <th>2</th>\n",
              "      <th>3</th>\n",
              "      <th>4</th>\n",
              "      <th>5</th>\n",
              "      <th>6</th>\n",
              "      <th>7</th>\n",
              "      <th>8</th>\n",
              "      <th>9</th>\n",
              "      <th>10</th>\n",
              "      <th>...</th>\n",
              "      <th>13</th>\n",
              "      <th>14</th>\n",
              "      <th>15</th>\n",
              "      <th>16</th>\n",
              "      <th>17</th>\n",
              "      <th>18</th>\n",
              "      <th>19</th>\n",
              "      <th>20</th>\n",
              "      <th>21</th>\n",
              "      <th>22</th>\n",
              "    </tr>\n",
              "    <tr>\n",
              "      <th>userCode</th>\n",
              "      <th></th>\n",
              "      <th></th>\n",
              "      <th></th>\n",
              "      <th></th>\n",
              "      <th></th>\n",
              "      <th></th>\n",
              "      <th></th>\n",
              "      <th></th>\n",
              "      <th></th>\n",
              "      <th></th>\n",
              "      <th></th>\n",
              "      <th></th>\n",
              "      <th></th>\n",
              "      <th></th>\n",
              "      <th></th>\n",
              "      <th></th>\n",
              "      <th></th>\n",
              "      <th></th>\n",
              "      <th></th>\n",
              "      <th></th>\n",
              "      <th></th>\n",
              "    </tr>\n",
              "  </thead>\n",
              "  <tbody>\n",
              "    <tr>\n",
              "      <th>00005aba-5ebc-0821-f5a9-bacca40be125</th>\n",
              "      <td>0</td>\n",
              "      <td>0</td>\n",
              "      <td>0</td>\n",
              "      <td>0</td>\n",
              "      <td>0</td>\n",
              "      <td>0</td>\n",
              "      <td>0</td>\n",
              "      <td>0</td>\n",
              "      <td>0</td>\n",
              "      <td>0</td>\n",
              "      <td>...</td>\n",
              "      <td>0</td>\n",
              "      <td>0</td>\n",
              "      <td>0</td>\n",
              "      <td>0</td>\n",
              "      <td>0</td>\n",
              "      <td>0</td>\n",
              "      <td>0</td>\n",
              "      <td>0</td>\n",
              "      <td>0</td>\n",
              "      <td>0</td>\n",
              "    </tr>\n",
              "    <tr>\n",
              "      <th>0000c576-e929-19eb-615a-349ec3b4709b</th>\n",
              "      <td>0</td>\n",
              "      <td>0</td>\n",
              "      <td>0</td>\n",
              "      <td>0</td>\n",
              "      <td>0</td>\n",
              "      <td>0</td>\n",
              "      <td>0</td>\n",
              "      <td>0</td>\n",
              "      <td>0</td>\n",
              "      <td>0</td>\n",
              "      <td>...</td>\n",
              "      <td>0</td>\n",
              "      <td>0</td>\n",
              "      <td>0</td>\n",
              "      <td>0</td>\n",
              "      <td>0</td>\n",
              "      <td>0</td>\n",
              "      <td>0</td>\n",
              "      <td>0</td>\n",
              "      <td>0</td>\n",
              "      <td>0</td>\n",
              "    </tr>\n",
              "    <tr>\n",
              "      <th>0001f7ea-92b8-f7e6-6f03-f99ff799637b</th>\n",
              "      <td>0</td>\n",
              "      <td>0</td>\n",
              "      <td>0</td>\n",
              "      <td>0</td>\n",
              "      <td>0</td>\n",
              "      <td>0</td>\n",
              "      <td>0</td>\n",
              "      <td>0</td>\n",
              "      <td>0</td>\n",
              "      <td>0</td>\n",
              "      <td>...</td>\n",
              "      <td>0</td>\n",
              "      <td>0</td>\n",
              "      <td>0</td>\n",
              "      <td>0</td>\n",
              "      <td>0</td>\n",
              "      <td>0</td>\n",
              "      <td>0</td>\n",
              "      <td>0</td>\n",
              "      <td>0</td>\n",
              "      <td>0</td>\n",
              "    </tr>\n",
              "    <tr>\n",
              "      <th>0002d107-28fe-ffb0-2ebf-a7fb1fdb8a3f</th>\n",
              "      <td>0</td>\n",
              "      <td>0</td>\n",
              "      <td>0</td>\n",
              "      <td>0</td>\n",
              "      <td>0</td>\n",
              "      <td>0</td>\n",
              "      <td>0</td>\n",
              "      <td>0</td>\n",
              "      <td>0</td>\n",
              "      <td>0</td>\n",
              "      <td>...</td>\n",
              "      <td>0</td>\n",
              "      <td>0</td>\n",
              "      <td>0</td>\n",
              "      <td>0</td>\n",
              "      <td>0</td>\n",
              "      <td>0</td>\n",
              "      <td>0</td>\n",
              "      <td>0</td>\n",
              "      <td>0</td>\n",
              "      <td>0</td>\n",
              "    </tr>\n",
              "    <tr>\n",
              "      <th>00031c31-5c7b-563b-4298-f1b320bfea6f</th>\n",
              "      <td>0</td>\n",
              "      <td>0</td>\n",
              "      <td>0</td>\n",
              "      <td>2</td>\n",
              "      <td>0</td>\n",
              "      <td>0</td>\n",
              "      <td>0</td>\n",
              "      <td>0</td>\n",
              "      <td>0</td>\n",
              "      <td>0</td>\n",
              "      <td>...</td>\n",
              "      <td>0</td>\n",
              "      <td>0</td>\n",
              "      <td>0</td>\n",
              "      <td>0</td>\n",
              "      <td>0</td>\n",
              "      <td>0</td>\n",
              "      <td>0</td>\n",
              "      <td>0</td>\n",
              "      <td>0</td>\n",
              "      <td>0</td>\n",
              "    </tr>\n",
              "  </tbody>\n",
              "</table>\n",
              "<p>5 rows × 53 columns</p>\n",
              "</div>"
            ],
            "text/plain": [
              "year                                 2018                            ...     \\\n",
              "month                                   1                            ...  2   \n",
              "day                                    1  2  3  4  5  6  7  8  9  10 ... 13   \n",
              "userCode                                                             ...      \n",
              "00005aba-5ebc-0821-f5a9-bacca40be125    0  0  0  0  0  0  0  0  0  0 ...  0   \n",
              "0000c576-e929-19eb-615a-349ec3b4709b    0  0  0  0  0  0  0  0  0  0 ...  0   \n",
              "0001f7ea-92b8-f7e6-6f03-f99ff799637b    0  0  0  0  0  0  0  0  0  0 ...  0   \n",
              "0002d107-28fe-ffb0-2ebf-a7fb1fdb8a3f    0  0  0  0  0  0  0  0  0  0 ...  0   \n",
              "00031c31-5c7b-563b-4298-f1b320bfea6f    0  0  0  2  0  0  0  0  0  0 ...  0   \n",
              "\n",
              "year                                                             \n",
              "month                                                            \n",
              "day                                  14 15 16 17 18 19 20 21 22  \n",
              "userCode                                                         \n",
              "00005aba-5ebc-0821-f5a9-bacca40be125  0  0  0  0  0  0  0  0  0  \n",
              "0000c576-e929-19eb-615a-349ec3b4709b  0  0  0  0  0  0  0  0  0  \n",
              "0001f7ea-92b8-f7e6-6f03-f99ff799637b  0  0  0  0  0  0  0  0  0  \n",
              "0002d107-28fe-ffb0-2ebf-a7fb1fdb8a3f  0  0  0  0  0  0  0  0  0  \n",
              "00031c31-5c7b-563b-4298-f1b320bfea6f  0  0  0  0  0  0  0  0  0  \n",
              "\n",
              "[5 rows x 53 columns]"
            ]
          },
          "metadata": {
            "tags": []
          },
          "execution_count": 27
        }
      ]
    },
    {
      "metadata": {
        "id": "sdFV-XU-NpKx",
        "colab_type": "code",
        "outputId": "cbc67269-ad91-4a60-a4bd-2ff6203d7b80",
        "colab": {
          "base_uri": "https://localhost:8080/",
          "height": 738
        }
      },
      "cell_type": "code",
      "source": [
        "user_freq_last_week = userLog_last_week['userCode'].value_counts()\n",
        "user_freq_last_week_np = np.array(user_freq_last_week.values)\n",
        "\n",
        "n, bins, patches = plt.hist(user_freq_last_week_np, 100, density=True, facecolor='g', alpha=0.75)\n",
        "plt.show()\n",
        "\n",
        "print(user_freq_last_week.shape)\n",
        "print(user_freq_last_week.index)"
      ],
      "execution_count": 0,
      "outputs": [
        {
          "output_type": "display_data",
          "data": {
            "image/png": "[encoded data removed]",
            "text/plain": [
              "<Figure size 576x396 with 1 Axes>"
            ]
          },
          "metadata": {
            "tags": []
          }
        },
        {
          "output_type": "stream",
          "text": [
            "(25231,)\n",
            "Index(['3d3b8010-60e7-f02b-2ba7-b3e96814cd43',\n",
            "       '2f3f0973-0fad-4d83-39b6-d55662c9dcbc',\n",
            "       '1aecd8e5-f02b-ba5c-e865-49da43ad8f22',\n",
            "       '93670c65-272c-9b3f-61f1-f7a8958cd2c2',\n",
            "       '29ae92f6-4dd0-6490-343f-682386f41332',\n",
            "       'fe317a99-7f5d-8ad9-0abc-ebf3259c84fc',\n",
            "       'b55b5441-8ff5-511c-4587-fb28da38c5a8',\n",
            "       'bef05607-6730-a597-ca83-89c4ae684a90',\n",
            "       'e69f429a-cc6a-12d6-4cf2-7cb31f44e43b',\n",
            "       'cc66964c-4225-f746-d9c3-dd3460ca0a8f',\n",
            "       ...\n",
            "       'f6f5ab6d-cb57-eb59-a48e-0563ad6701dc',\n",
            "       'a158c650-b4d8-ba30-6c8d-b990af6ac5ed',\n",
            "       '325a3694-2b2f-52c7-19be-1e398c9ea944',\n",
            "       '72093522-e488-037d-080d-9b4936537613',\n",
            "       '4b7d6667-d09a-710b-5157-6bec998886d1',\n",
            "       '7d652692-2b3c-e5a4-f33c-3bd2022ffccd',\n",
            "       'b1e13bcf-20a8-f325-5846-beab71ed2e29',\n",
            "       'bedac357-c757-bfe7-65b1-e6068aed96ab',\n",
            "       'ca0f3379-db4d-81fe-1b29-b245ae12db0a',\n",
            "       'b29977b5-5889-cd08-0f95-8691d3266bbd'],\n",
            "      dtype='object', length=25231)\n"
          ],
          "name": "stdout"
        }
      ]
    },
    {
      "metadata": {
        "id": "ed80utZ-OBhC",
        "colab_type": "code",
        "outputId": "9b33c2cc-a8b9-4c68-83c4-da1cf31a1531",
        "colab": {
          "base_uri": "https://localhost:8080/",
          "height": 34
        }
      },
      "cell_type": "code",
      "source": [
        "print(user_freq_last_week.index.shape)\n"
      ],
      "execution_count": 0,
      "outputs": [
        {
          "output_type": "stream",
          "text": [
            "(25231,)\n"
          ],
          "name": "stdout"
        }
      ]
    },
    {
      "metadata": {
        "id": "5kJmcnVaP1Ol",
        "colab_type": "text"
      },
      "cell_type": "markdown",
      "source": [
        "# clear data user log"
      ]
    },
    {
      "metadata": {
        "id": "z0hlPBZ9P0mk",
        "colab_type": "code",
        "outputId": "80e80b97-eb2f-4197-fdcb-bffcb302de3b",
        "colab": {
          "base_uri": "https://localhost:8080/",
          "height": 51
        }
      },
      "cell_type": "code",
      "source": [
        "userLog = userLog.loc[userLog['userCode'].isin(userLog_last_week['userCode'])]\n",
        "userLog = userLog.loc[userLog['project_id'].isin(userLog_last_week['project_id'])]\n",
        "print(userLog.shape)\n",
        "print(userLog['userCode'].value_counts().shape)\n",
        "#freq_user_seen_proj = pd.crosstab(userLog['project_id'], userLog['userCode'], rownames=['project_id'], colnames=['userCode'])\n",
        "#freq_user_seen_proj_np = np.array(freq_user_seen_proj.values)\n",
        "\n",
        "#print(freq_user_seen_proj_np.shape)\n",
        "#print(freq_user_seen_proj.shape)\n",
        "#print(np.sum(freq_user_seen_proj_np >= 2 ))\n",
        "#freq_user_seen_proj.head()"
      ],
      "execution_count": 0,
      "outputs": [
        {
          "output_type": "stream",
          "text": [
            "(77005, 9)\n",
            "(25231,)\n"
          ],
          "name": "stdout"
        }
      ]
    },
    {
      "metadata": {
        "id": "U3jbXRDT3Vp0",
        "colab_type": "code",
        "colab": {}
      },
      "cell_type": "code",
      "source": [
        ""
      ],
      "execution_count": 0,
      "outputs": []
    },
    {
      "metadata": {
        "id": "706HQn4E-5Em",
        "colab_type": "text"
      },
      "cell_type": "markdown",
      "source": [
        "------"
      ]
    },
    {
      "metadata": {
        "id": "eUvg9_n-Luxj",
        "colab_type": "text"
      },
      "cell_type": "markdown",
      "source": [
        "# split train and test set\n",
        "\n",
        "พวก เราจะใช้ user ที่มาใช้ในสัปดาห์สุดท้ายเป็น test set\n",
        "\n",
        "ที่เหลือ เป็น train set"
      ]
    },
    {
      "metadata": {
        "id": "kR5x2AvELtpK",
        "colab_type": "code",
        "outputId": "bea0d4ab-d168-4804-bb49-ff892f1a3e21",
        "colab": {
          "base_uri": "https://localhost:8080/",
          "height": 170
        }
      },
      "cell_type": "code",
      "source": [
        "userLog_train = userLog.loc[~userLog.index.isin(userLog_last_week.index)]\n",
        "userLog_test = userLog.loc[userLog.index.isin(userLog_last_week.index)]\n",
        "\n",
        "print(userLog_last_week.index)\n",
        "print(userLog_train.shape)\n",
        "print(userLog_test.shape)\n",
        "print(userLog.shape)"
      ],
      "execution_count": 0,
      "outputs": [
        {
          "output_type": "stream",
          "text": [
            "Int64Index([1054428, 1054441, 1054444, 1054445, 1054447, 1054448, 1054450,\n",
            "            1054452, 1054453, 1054454,\n",
            "            ...\n",
            "            1234545, 1234548, 1234551, 1234554, 1234555, 1234556, 1234559,\n",
            "            1234562, 1234576, 1234577],\n",
            "           dtype='int64', length=58567)\n",
            "(18438, 9)\n",
            "(58567, 9)\n",
            "(77005, 9)\n"
          ],
          "name": "stdout"
        }
      ]
    },
    {
      "metadata": {
        "id": "eMluvgfIB6xM",
        "colab_type": "code",
        "outputId": "ab296b52-7a41-4c94-d33a-cd31a524a591",
        "colab": {
          "base_uri": "https://localhost:8080/",
          "height": 51
        }
      },
      "cell_type": "code",
      "source": [
        "userLog_train = userLog_train.loc[userLog_train['userCode'].isin(userLog_test['userCode'])]\n",
        "userLog_train = userLog_train.loc[userLog_train['project_id'].isin(userLog_test['project_id'])]\n",
        "userLog_test = userLog_test.loc[userLog_test['userCode'].isin(userLog_train['userCode'])]\n",
        "userLog_test = userLog_test.loc[userLog_test['project_id'].isin(userLog_train['project_id'])]\n",
        "userLog_train = userLog_train.loc[userLog_train['userCode'].isin(userLog_test['userCode'])]\n",
        "userLog_train = userLog_train.loc[userLog_train['project_id'].isin(userLog_test['project_id'])]\n",
        "userLog_test = userLog_test.loc[userLog_test['userCode'].isin(userLog_train['userCode'])]\n",
        "userLog_test = userLog_test.loc[userLog_test['project_id'].isin(userLog_train['project_id'])]\n",
        "\n",
        "print(userLog_train.shape)\n",
        "print(userLog_test.shape)\n"
      ],
      "execution_count": 0,
      "outputs": [
        {
          "output_type": "stream",
          "text": [
            "(17462, 9)\n",
            "(10816, 9)\n"
          ],
          "name": "stdout"
        }
      ]
    },
    {
      "metadata": {
        "id": "YDTlvyzl2nka",
        "colab_type": "code",
        "outputId": "f0df6caa-1ad8-4bff-c241-f71495ce8345",
        "colab": {
          "base_uri": "https://localhost:8080/",
          "height": 383
        }
      },
      "cell_type": "code",
      "source": [
        "freq_user_seen_proj_train = pd.crosstab(userLog_train['userCode'], userLog_train['project_id'], rownames=['userCode'], colnames=['project_id'])\n",
        "freq_user_seen_proj_train_np = np.array(freq_user_seen_proj_train.values)\n",
        "#print(freq_user_seen_proj_train_np)\n",
        "print(freq_user_seen_proj_train_np.shape)\n",
        "\n",
        "freq_user_seen_proj_train.head()"
      ],
      "execution_count": 0,
      "outputs": [
        {
          "output_type": "stream",
          "text": [
            "(3548, 1105)\n"
          ],
          "name": "stdout"
        },
        {
          "output_type": "execute_result",
          "data": {
            "text/html": [
              "<div>\n",
              "<style scoped>\n",
              "    .dataframe tbody tr th:only-of-type {\n",
              "        vertical-align: middle;\n",
              "    }\n",
              "\n",
              "    .dataframe tbody tr th {\n",
              "        vertical-align: top;\n",
              "    }\n",
              "\n",
              "    .dataframe thead th {\n",
              "        text-align: right;\n",
              "    }\n",
              "</style>\n",
              "<table border=\"1\" class=\"dataframe\">\n",
              "  <thead>\n",
              "    <tr style=\"text-align: right;\">\n",
              "      <th>project_id</th>\n",
              "      <th>44</th>\n",
              "      <th>156</th>\n",
              "      <th>189</th>\n",
              "      <th>228</th>\n",
              "      <th>234</th>\n",
              "      <th>235</th>\n",
              "      <th>253</th>\n",
              "      <th>287</th>\n",
              "      <th>291</th>\n",
              "      <th>314</th>\n",
              "      <th>...</th>\n",
              "      <th>9386</th>\n",
              "      <th>9388</th>\n",
              "      <th>9389</th>\n",
              "      <th>9414</th>\n",
              "      <th>9418</th>\n",
              "      <th>9419</th>\n",
              "      <th>9420</th>\n",
              "      <th>9422</th>\n",
              "      <th>9424</th>\n",
              "      <th>9446</th>\n",
              "    </tr>\n",
              "    <tr>\n",
              "      <th>userCode</th>\n",
              "      <th></th>\n",
              "      <th></th>\n",
              "      <th></th>\n",
              "      <th></th>\n",
              "      <th></th>\n",
              "      <th></th>\n",
              "      <th></th>\n",
              "      <th></th>\n",
              "      <th></th>\n",
              "      <th></th>\n",
              "      <th></th>\n",
              "      <th></th>\n",
              "      <th></th>\n",
              "      <th></th>\n",
              "      <th></th>\n",
              "      <th></th>\n",
              "      <th></th>\n",
              "      <th></th>\n",
              "      <th></th>\n",
              "      <th></th>\n",
              "      <th></th>\n",
              "    </tr>\n",
              "  </thead>\n",
              "  <tbody>\n",
              "    <tr>\n",
              "      <th>0016878a-2b0e-647a-efa1-772fc5873c7d</th>\n",
              "      <td>0</td>\n",
              "      <td>0</td>\n",
              "      <td>0</td>\n",
              "      <td>0</td>\n",
              "      <td>0</td>\n",
              "      <td>0</td>\n",
              "      <td>0</td>\n",
              "      <td>0</td>\n",
              "      <td>0</td>\n",
              "      <td>0</td>\n",
              "      <td>...</td>\n",
              "      <td>0</td>\n",
              "      <td>0</td>\n",
              "      <td>0</td>\n",
              "      <td>0</td>\n",
              "      <td>0</td>\n",
              "      <td>0</td>\n",
              "      <td>0</td>\n",
              "      <td>0</td>\n",
              "      <td>0</td>\n",
              "      <td>0</td>\n",
              "    </tr>\n",
              "    <tr>\n",
              "      <th>0018fd5f-213f-c9ab-ebf4-0dcfb63be43b</th>\n",
              "      <td>0</td>\n",
              "      <td>0</td>\n",
              "      <td>0</td>\n",
              "      <td>0</td>\n",
              "      <td>0</td>\n",
              "      <td>0</td>\n",
              "      <td>0</td>\n",
              "      <td>0</td>\n",
              "      <td>0</td>\n",
              "      <td>0</td>\n",
              "      <td>...</td>\n",
              "      <td>0</td>\n",
              "      <td>0</td>\n",
              "      <td>0</td>\n",
              "      <td>0</td>\n",
              "      <td>0</td>\n",
              "      <td>0</td>\n",
              "      <td>0</td>\n",
              "      <td>0</td>\n",
              "      <td>0</td>\n",
              "      <td>0</td>\n",
              "    </tr>\n",
              "    <tr>\n",
              "      <th>0054ebaa-c2c3-590f-4f97-d2df57e64770</th>\n",
              "      <td>0</td>\n",
              "      <td>0</td>\n",
              "      <td>0</td>\n",
              "      <td>0</td>\n",
              "      <td>0</td>\n",
              "      <td>0</td>\n",
              "      <td>0</td>\n",
              "      <td>0</td>\n",
              "      <td>0</td>\n",
              "      <td>0</td>\n",
              "      <td>...</td>\n",
              "      <td>0</td>\n",
              "      <td>0</td>\n",
              "      <td>0</td>\n",
              "      <td>0</td>\n",
              "      <td>0</td>\n",
              "      <td>0</td>\n",
              "      <td>0</td>\n",
              "      <td>0</td>\n",
              "      <td>0</td>\n",
              "      <td>0</td>\n",
              "    </tr>\n",
              "    <tr>\n",
              "      <th>0086cb61-9a96-dd75-c746-5b63171fef55</th>\n",
              "      <td>0</td>\n",
              "      <td>0</td>\n",
              "      <td>0</td>\n",
              "      <td>0</td>\n",
              "      <td>0</td>\n",
              "      <td>0</td>\n",
              "      <td>0</td>\n",
              "      <td>0</td>\n",
              "      <td>0</td>\n",
              "      <td>0</td>\n",
              "      <td>...</td>\n",
              "      <td>0</td>\n",
              "      <td>0</td>\n",
              "      <td>0</td>\n",
              "      <td>0</td>\n",
              "      <td>0</td>\n",
              "      <td>0</td>\n",
              "      <td>0</td>\n",
              "      <td>0</td>\n",
              "      <td>0</td>\n",
              "      <td>0</td>\n",
              "    </tr>\n",
              "    <tr>\n",
              "      <th>008cb7e4-ed2c-9765-20cb-715cbfd3f920</th>\n",
              "      <td>0</td>\n",
              "      <td>0</td>\n",
              "      <td>0</td>\n",
              "      <td>0</td>\n",
              "      <td>0</td>\n",
              "      <td>0</td>\n",
              "      <td>0</td>\n",
              "      <td>0</td>\n",
              "      <td>0</td>\n",
              "      <td>0</td>\n",
              "      <td>...</td>\n",
              "      <td>0</td>\n",
              "      <td>0</td>\n",
              "      <td>0</td>\n",
              "      <td>0</td>\n",
              "      <td>0</td>\n",
              "      <td>0</td>\n",
              "      <td>0</td>\n",
              "      <td>0</td>\n",
              "      <td>0</td>\n",
              "      <td>0</td>\n",
              "    </tr>\n",
              "  </tbody>\n",
              "</table>\n",
              "<p>5 rows × 1105 columns</p>\n",
              "</div>"
            ],
            "text/plain": [
              "project_id                            44    156   189   228   234   235   \\\n",
              "userCode                                                                   \n",
              "0016878a-2b0e-647a-efa1-772fc5873c7d     0     0     0     0     0     0   \n",
              "0018fd5f-213f-c9ab-ebf4-0dcfb63be43b     0     0     0     0     0     0   \n",
              "0054ebaa-c2c3-590f-4f97-d2df57e64770     0     0     0     0     0     0   \n",
              "0086cb61-9a96-dd75-c746-5b63171fef55     0     0     0     0     0     0   \n",
              "008cb7e4-ed2c-9765-20cb-715cbfd3f920     0     0     0     0     0     0   \n",
              "\n",
              "project_id                            253   287   291   314   ...   9386  \\\n",
              "userCode                                                      ...          \n",
              "0016878a-2b0e-647a-efa1-772fc5873c7d     0     0     0     0  ...      0   \n",
              "0018fd5f-213f-c9ab-ebf4-0dcfb63be43b     0     0     0     0  ...      0   \n",
              "0054ebaa-c2c3-590f-4f97-d2df57e64770     0     0     0     0  ...      0   \n",
              "0086cb61-9a96-dd75-c746-5b63171fef55     0     0     0     0  ...      0   \n",
              "008cb7e4-ed2c-9765-20cb-715cbfd3f920     0     0     0     0  ...      0   \n",
              "\n",
              "project_id                            9388  9389  9414  9418  9419  9420  \\\n",
              "userCode                                                                   \n",
              "0016878a-2b0e-647a-efa1-772fc5873c7d     0     0     0     0     0     0   \n",
              "0018fd5f-213f-c9ab-ebf4-0dcfb63be43b     0     0     0     0     0     0   \n",
              "0054ebaa-c2c3-590f-4f97-d2df57e64770     0     0     0     0     0     0   \n",
              "0086cb61-9a96-dd75-c746-5b63171fef55     0     0     0     0     0     0   \n",
              "008cb7e4-ed2c-9765-20cb-715cbfd3f920     0     0     0     0     0     0   \n",
              "\n",
              "project_id                            9422  9424  9446  \n",
              "userCode                                                \n",
              "0016878a-2b0e-647a-efa1-772fc5873c7d     0     0     0  \n",
              "0018fd5f-213f-c9ab-ebf4-0dcfb63be43b     0     0     0  \n",
              "0054ebaa-c2c3-590f-4f97-d2df57e64770     0     0     0  \n",
              "0086cb61-9a96-dd75-c746-5b63171fef55     0     0     0  \n",
              "008cb7e4-ed2c-9765-20cb-715cbfd3f920     0     0     0  \n",
              "\n",
              "[5 rows x 1105 columns]"
            ]
          },
          "metadata": {
            "tags": []
          },
          "execution_count": 50
        }
      ]
    },
    {
      "metadata": {
        "id": "-vNDMW_v3irk",
        "colab_type": "code",
        "outputId": "5c05e192-c8c3-469b-ee6a-cd190d78422b",
        "colab": {
          "base_uri": "https://localhost:8080/",
          "height": 383
        }
      },
      "cell_type": "code",
      "source": [
        "freq_user_seen_proj_test = pd.crosstab(userLog_test['userCode'], userLog_test['project_id'], rownames=['userCode'], colnames=['project_id'])\n",
        "freq_user_seen_proj_test_np = np.array(freq_user_seen_proj_test.values)\n",
        "#print(freq_user_seen_proj_test_np)\n",
        "print(freq_user_seen_proj_test_np.shape)\n",
        "\n",
        "freq_user_seen_proj_test.head()"
      ],
      "execution_count": 0,
      "outputs": [
        {
          "output_type": "stream",
          "text": [
            "(3548, 1105)\n"
          ],
          "name": "stdout"
        },
        {
          "output_type": "execute_result",
          "data": {
            "text/html": [
              "<div>\n",
              "<style scoped>\n",
              "    .dataframe tbody tr th:only-of-type {\n",
              "        vertical-align: middle;\n",
              "    }\n",
              "\n",
              "    .dataframe tbody tr th {\n",
              "        vertical-align: top;\n",
              "    }\n",
              "\n",
              "    .dataframe thead th {\n",
              "        text-align: right;\n",
              "    }\n",
              "</style>\n",
              "<table border=\"1\" class=\"dataframe\">\n",
              "  <thead>\n",
              "    <tr style=\"text-align: right;\">\n",
              "      <th>project_id</th>\n",
              "      <th>44</th>\n",
              "      <th>156</th>\n",
              "      <th>189</th>\n",
              "      <th>228</th>\n",
              "      <th>234</th>\n",
              "      <th>235</th>\n",
              "      <th>253</th>\n",
              "      <th>287</th>\n",
              "      <th>291</th>\n",
              "      <th>314</th>\n",
              "      <th>...</th>\n",
              "      <th>9386</th>\n",
              "      <th>9388</th>\n",
              "      <th>9389</th>\n",
              "      <th>9414</th>\n",
              "      <th>9418</th>\n",
              "      <th>9419</th>\n",
              "      <th>9420</th>\n",
              "      <th>9422</th>\n",
              "      <th>9424</th>\n",
              "      <th>9446</th>\n",
              "    </tr>\n",
              "    <tr>\n",
              "      <th>userCode</th>\n",
              "      <th></th>\n",
              "      <th></th>\n",
              "      <th></th>\n",
              "      <th></th>\n",
              "      <th></th>\n",
              "      <th></th>\n",
              "      <th></th>\n",
              "      <th></th>\n",
              "      <th></th>\n",
              "      <th></th>\n",
              "      <th></th>\n",
              "      <th></th>\n",
              "      <th></th>\n",
              "      <th></th>\n",
              "      <th></th>\n",
              "      <th></th>\n",
              "      <th></th>\n",
              "      <th></th>\n",
              "      <th></th>\n",
              "      <th></th>\n",
              "      <th></th>\n",
              "    </tr>\n",
              "  </thead>\n",
              "  <tbody>\n",
              "    <tr>\n",
              "      <th>0016878a-2b0e-647a-efa1-772fc5873c7d</th>\n",
              "      <td>0</td>\n",
              "      <td>0</td>\n",
              "      <td>0</td>\n",
              "      <td>0</td>\n",
              "      <td>0</td>\n",
              "      <td>0</td>\n",
              "      <td>0</td>\n",
              "      <td>0</td>\n",
              "      <td>0</td>\n",
              "      <td>0</td>\n",
              "      <td>...</td>\n",
              "      <td>0</td>\n",
              "      <td>0</td>\n",
              "      <td>0</td>\n",
              "      <td>0</td>\n",
              "      <td>0</td>\n",
              "      <td>0</td>\n",
              "      <td>0</td>\n",
              "      <td>0</td>\n",
              "      <td>0</td>\n",
              "      <td>0</td>\n",
              "    </tr>\n",
              "    <tr>\n",
              "      <th>0018fd5f-213f-c9ab-ebf4-0dcfb63be43b</th>\n",
              "      <td>0</td>\n",
              "      <td>0</td>\n",
              "      <td>0</td>\n",
              "      <td>0</td>\n",
              "      <td>0</td>\n",
              "      <td>0</td>\n",
              "      <td>0</td>\n",
              "      <td>0</td>\n",
              "      <td>0</td>\n",
              "      <td>0</td>\n",
              "      <td>...</td>\n",
              "      <td>0</td>\n",
              "      <td>0</td>\n",
              "      <td>0</td>\n",
              "      <td>0</td>\n",
              "      <td>0</td>\n",
              "      <td>0</td>\n",
              "      <td>0</td>\n",
              "      <td>0</td>\n",
              "      <td>0</td>\n",
              "      <td>0</td>\n",
              "    </tr>\n",
              "    <tr>\n",
              "      <th>0054ebaa-c2c3-590f-4f97-d2df57e64770</th>\n",
              "      <td>0</td>\n",
              "      <td>0</td>\n",
              "      <td>0</td>\n",
              "      <td>0</td>\n",
              "      <td>0</td>\n",
              "      <td>0</td>\n",
              "      <td>0</td>\n",
              "      <td>0</td>\n",
              "      <td>0</td>\n",
              "      <td>0</td>\n",
              "      <td>...</td>\n",
              "      <td>0</td>\n",
              "      <td>0</td>\n",
              "      <td>0</td>\n",
              "      <td>0</td>\n",
              "      <td>0</td>\n",
              "      <td>0</td>\n",
              "      <td>0</td>\n",
              "      <td>0</td>\n",
              "      <td>0</td>\n",
              "      <td>0</td>\n",
              "    </tr>\n",
              "    <tr>\n",
              "      <th>0086cb61-9a96-dd75-c746-5b63171fef55</th>\n",
              "      <td>0</td>\n",
              "      <td>0</td>\n",
              "      <td>0</td>\n",
              "      <td>0</td>\n",
              "      <td>0</td>\n",
              "      <td>0</td>\n",
              "      <td>0</td>\n",
              "      <td>0</td>\n",
              "      <td>0</td>\n",
              "      <td>0</td>\n",
              "      <td>...</td>\n",
              "      <td>0</td>\n",
              "      <td>0</td>\n",
              "      <td>0</td>\n",
              "      <td>0</td>\n",
              "      <td>0</td>\n",
              "      <td>0</td>\n",
              "      <td>0</td>\n",
              "      <td>0</td>\n",
              "      <td>0</td>\n",
              "      <td>0</td>\n",
              "    </tr>\n",
              "    <tr>\n",
              "      <th>008cb7e4-ed2c-9765-20cb-715cbfd3f920</th>\n",
              "      <td>0</td>\n",
              "      <td>0</td>\n",
              "      <td>0</td>\n",
              "      <td>0</td>\n",
              "      <td>0</td>\n",
              "      <td>0</td>\n",
              "      <td>0</td>\n",
              "      <td>0</td>\n",
              "      <td>0</td>\n",
              "      <td>0</td>\n",
              "      <td>...</td>\n",
              "      <td>0</td>\n",
              "      <td>0</td>\n",
              "      <td>0</td>\n",
              "      <td>0</td>\n",
              "      <td>0</td>\n",
              "      <td>0</td>\n",
              "      <td>0</td>\n",
              "      <td>0</td>\n",
              "      <td>0</td>\n",
              "      <td>0</td>\n",
              "    </tr>\n",
              "  </tbody>\n",
              "</table>\n",
              "<p>5 rows × 1105 columns</p>\n",
              "</div>"
            ],
            "text/plain": [
              "project_id                            44    156   189   228   234   235   \\\n",
              "userCode                                                                   \n",
              "0016878a-2b0e-647a-efa1-772fc5873c7d     0     0     0     0     0     0   \n",
              "0018fd5f-213f-c9ab-ebf4-0dcfb63be43b     0     0     0     0     0     0   \n",
              "0054ebaa-c2c3-590f-4f97-d2df57e64770     0     0     0     0     0     0   \n",
              "0086cb61-9a96-dd75-c746-5b63171fef55     0     0     0     0     0     0   \n",
              "008cb7e4-ed2c-9765-20cb-715cbfd3f920     0     0     0     0     0     0   \n",
              "\n",
              "project_id                            253   287   291   314   ...   9386  \\\n",
              "userCode                                                      ...          \n",
              "0016878a-2b0e-647a-efa1-772fc5873c7d     0     0     0     0  ...      0   \n",
              "0018fd5f-213f-c9ab-ebf4-0dcfb63be43b     0     0     0     0  ...      0   \n",
              "0054ebaa-c2c3-590f-4f97-d2df57e64770     0     0     0     0  ...      0   \n",
              "0086cb61-9a96-dd75-c746-5b63171fef55     0     0     0     0  ...      0   \n",
              "008cb7e4-ed2c-9765-20cb-715cbfd3f920     0     0     0     0  ...      0   \n",
              "\n",
              "project_id                            9388  9389  9414  9418  9419  9420  \\\n",
              "userCode                                                                   \n",
              "0016878a-2b0e-647a-efa1-772fc5873c7d     0     0     0     0     0     0   \n",
              "0018fd5f-213f-c9ab-ebf4-0dcfb63be43b     0     0     0     0     0     0   \n",
              "0054ebaa-c2c3-590f-4f97-d2df57e64770     0     0     0     0     0     0   \n",
              "0086cb61-9a96-dd75-c746-5b63171fef55     0     0     0     0     0     0   \n",
              "008cb7e4-ed2c-9765-20cb-715cbfd3f920     0     0     0     0     0     0   \n",
              "\n",
              "project_id                            9422  9424  9446  \n",
              "userCode                                                \n",
              "0016878a-2b0e-647a-efa1-772fc5873c7d     0     0     0  \n",
              "0018fd5f-213f-c9ab-ebf4-0dcfb63be43b     0     0     0  \n",
              "0054ebaa-c2c3-590f-4f97-d2df57e64770     0     0     0  \n",
              "0086cb61-9a96-dd75-c746-5b63171fef55     0     0     0  \n",
              "008cb7e4-ed2c-9765-20cb-715cbfd3f920     0     0     0  \n",
              "\n",
              "[5 rows x 1105 columns]"
            ]
          },
          "metadata": {
            "tags": []
          },
          "execution_count": 51
        }
      ]
    },
    {
      "metadata": {
        "id": "4fmJBpKkLrGk",
        "colab_type": "text"
      },
      "cell_type": "markdown",
      "source": [
        "----"
      ]
    },
    {
      "metadata": {
        "id": "mnFbvtoizeWT",
        "colab_type": "text"
      },
      "cell_type": "markdown",
      "source": [
        "\n",
        "# TODO#11:  function to normalize data\n"
      ]
    },
    {
      "metadata": {
        "id": "gqsJzM8UpYnH",
        "colab_type": "code",
        "colab": {}
      },
      "cell_type": "code",
      "source": [
        "def normalize(x):\n",
        "  x_min = np.min(x,axis = 0)\n",
        "  x_max = np.max(x,axis = 0)\n",
        "  x_nor = (x - x_min)/ (x_max - x_min)\n",
        "  return x_nor,x_min,x_max;"
      ],
      "execution_count": 0,
      "outputs": []
    },
    {
      "metadata": {
        "id": "2gtI7xfM1joC",
        "colab_type": "text"
      },
      "cell_type": "markdown",
      "source": [
        "# recommendation system\n",
        "พวกเราจะสร้าง recomentation sys โดยเราจะใช้ NNในการสร้างขึ้นมา\n",
        "\n",
        "[Nearest Neighbors example](https://scikit-learn.org/stable/modules/neighbors.html)\n",
        "\n",
        "\n",
        "[distance function](https://scikit-learn.org/stable/modules/generated/sklearn.neighbors.DistanceMetric.html#sklearn.neighbors.DistanceMetric)"
      ]
    },
    {
      "metadata": {
        "id": "Hm2cLZ9gxoR3",
        "colab_type": "code",
        "colab": {}
      },
      "cell_type": "code",
      "source": [
        "# recommentdation system\n",
        "def feature_sel(userCode,np_proj_fea_min,np_proj_fea_max):\n",
        "  user_Log_data = userLog.loc[userLog['userCode'].isin(userCode)]\n",
        "\n",
        "  user_seen_proj = user_Log_data['project_id'].values\n",
        "\n",
        "  user_proj_far = project_facility_table.loc[project_facility_table.index.isin(user_seen_proj)]\n",
        "\n",
        "  user_proj_main = project_main.loc[project_main['project_id'].isin(user_seen_proj)]\n",
        "\n",
        "  np_data = np.hstack(( np.array(user_proj_main[[\"lat\",\"lon\",\"starting_price\"]].values) ,  np.array(user_proj_far.values) ))\n",
        "  np_data_nor = (np_data - np_proj_fea_min)/(np_proj_fea_max-np_proj_fea_min)\n",
        "  np_data_nor = np.mean(np_data_nor,axis = 0)\n",
        "  print(np_data_nor.shape)\n",
        "  return np_data_nor,user_seen_proj;"
      ],
      "execution_count": 0,
      "outputs": []
    },
    {
      "metadata": {
        "id": "j6kIcvT6q960",
        "colab_type": "text"
      },
      "cell_type": "markdown",
      "source": [
        "\n",
        "# TODO#11: \n",
        "\n",
        "run example จาก feature ที่เรากำหนด ขึ้นจากหัวข้อด้านบน\n",
        "\n"
      ]
    },
    {
      "metadata": {
        "id": "fefnFvw5xhYI",
        "colab_type": "code",
        "colab": {}
      },
      "cell_type": "code",
      "source": [
        "nbrs_proj = NearestNeighbors(n_neighbors=5, algorithm='ball_tree').fit(project_main_np_data_nor) # metric=’minkowski’ , “jaccard”  ## jaccard use boolean\n",
        "# print(project_main_np_data_nor)\n",
        "sample_usercode = np.random.randint(userLog.shape[0],size = 1)\n",
        "print(sample_usercode)\n",
        "user_sample_code = userLog['userCode'].iloc[sample_usercode].values\n",
        "print(user_sample_code)\n",
        "user_sample_feature,user_sample_seen_proj = feature_sel(user_sample_code,project_main_np_data_min,project_main_np_data_max) # project_main_np_data_min,project_main_np_data_max\n",
        "print(user_sample_feature)\n",
        "distances, indices = nbrs_proj.kneighbors([user_sample_feature])\n",
        "\n",
        "print(indices)\n",
        "\n",
        "print(distances)\n",
        "print('----------------------------------------------------')\n"
      ],
      "execution_count": 0,
      "outputs": []
    },
    {
      "metadata": {
        "id": "EwpG4eYw6W8c",
        "colab_type": "text"
      },
      "cell_type": "markdown",
      "source": [
        "ลองสรา้ง  recommendation system จาก การดูของ user ว่า ใกล้เคียง กับ user คนไหนบ้าง และ recommend ตาม porj ที่ไม่ได้ดู\n",
        "\n",
        "แต่การสร้าง user ขึ้นมา ข้อมูลที่มีนั้นใหญ่เกินไปที่เราจะประมวลผลได้ ดังนั้น เราต้องเลือก user มา top 1000 มาเป็น exaple ที่เลือก recommend"
      ]
    },
    {
      "metadata": {
        "id": "k5tRE49vWW10",
        "colab_type": "code",
        "outputId": "a40e10d3-99d4-43f6-f804-79b0804ad978",
        "colab": {
          "base_uri": "https://localhost:8080/",
          "height": 383
        }
      },
      "cell_type": "code",
      "source": [
        "freq_user_seen_proj_train = pd.crosstab(userLog_train['userCode'], userLog_train['project_id'], rownames=['userCode'], colnames=['project_id'])\n",
        "freq_user_seen_proj_train_np = np.array(freq_user_seen_proj_train.values)\n",
        "#print(freq_user_seen_proj_train_np)\n",
        "print(freq_user_seen_proj_train_np.shape)\n",
        "\n",
        "freq_user_seen_proj_train.head()"
      ],
      "execution_count": 0,
      "outputs": [
        {
          "output_type": "stream",
          "text": [
            "(3548, 1105)\n"
          ],
          "name": "stdout"
        },
        {
          "output_type": "execute_result",
          "data": {
            "text/html": [
              "<div>\n",
              "<style scoped>\n",
              "    .dataframe tbody tr th:only-of-type {\n",
              "        vertical-align: middle;\n",
              "    }\n",
              "\n",
              "    .dataframe tbody tr th {\n",
              "        vertical-align: top;\n",
              "    }\n",
              "\n",
              "    .dataframe thead th {\n",
              "        text-align: right;\n",
              "    }\n",
              "</style>\n",
              "<table border=\"1\" class=\"dataframe\">\n",
              "  <thead>\n",
              "    <tr style=\"text-align: right;\">\n",
              "      <th>project_id</th>\n",
              "      <th>44</th>\n",
              "      <th>156</th>\n",
              "      <th>189</th>\n",
              "      <th>228</th>\n",
              "      <th>234</th>\n",
              "      <th>235</th>\n",
              "      <th>253</th>\n",
              "      <th>287</th>\n",
              "      <th>291</th>\n",
              "      <th>314</th>\n",
              "      <th>...</th>\n",
              "      <th>9386</th>\n",
              "      <th>9388</th>\n",
              "      <th>9389</th>\n",
              "      <th>9414</th>\n",
              "      <th>9418</th>\n",
              "      <th>9419</th>\n",
              "      <th>9420</th>\n",
              "      <th>9422</th>\n",
              "      <th>9424</th>\n",
              "      <th>9446</th>\n",
              "    </tr>\n",
              "    <tr>\n",
              "      <th>userCode</th>\n",
              "      <th></th>\n",
              "      <th></th>\n",
              "      <th></th>\n",
              "      <th></th>\n",
              "      <th></th>\n",
              "      <th></th>\n",
              "      <th></th>\n",
              "      <th></th>\n",
              "      <th></th>\n",
              "      <th></th>\n",
              "      <th></th>\n",
              "      <th></th>\n",
              "      <th></th>\n",
              "      <th></th>\n",
              "      <th></th>\n",
              "      <th></th>\n",
              "      <th></th>\n",
              "      <th></th>\n",
              "      <th></th>\n",
              "      <th></th>\n",
              "      <th></th>\n",
              "    </tr>\n",
              "  </thead>\n",
              "  <tbody>\n",
              "    <tr>\n",
              "      <th>0016878a-2b0e-647a-efa1-772fc5873c7d</th>\n",
              "      <td>0</td>\n",
              "      <td>0</td>\n",
              "      <td>0</td>\n",
              "      <td>0</td>\n",
              "      <td>0</td>\n",
              "      <td>0</td>\n",
              "      <td>0</td>\n",
              "      <td>0</td>\n",
              "      <td>0</td>\n",
              "      <td>0</td>\n",
              "      <td>...</td>\n",
              "      <td>0</td>\n",
              "      <td>0</td>\n",
              "      <td>0</td>\n",
              "      <td>0</td>\n",
              "      <td>0</td>\n",
              "      <td>0</td>\n",
              "      <td>0</td>\n",
              "      <td>0</td>\n",
              "      <td>0</td>\n",
              "      <td>0</td>\n",
              "    </tr>\n",
              "    <tr>\n",
              "      <th>0018fd5f-213f-c9ab-ebf4-0dcfb63be43b</th>\n",
              "      <td>0</td>\n",
              "      <td>0</td>\n",
              "      <td>0</td>\n",
              "      <td>0</td>\n",
              "      <td>0</td>\n",
              "      <td>0</td>\n",
              "      <td>0</td>\n",
              "      <td>0</td>\n",
              "      <td>0</td>\n",
              "      <td>0</td>\n",
              "      <td>...</td>\n",
              "      <td>0</td>\n",
              "      <td>0</td>\n",
              "      <td>0</td>\n",
              "      <td>0</td>\n",
              "      <td>0</td>\n",
              "      <td>0</td>\n",
              "      <td>0</td>\n",
              "      <td>0</td>\n",
              "      <td>0</td>\n",
              "      <td>0</td>\n",
              "    </tr>\n",
              "    <tr>\n",
              "      <th>0054ebaa-c2c3-590f-4f97-d2df57e64770</th>\n",
              "      <td>0</td>\n",
              "      <td>0</td>\n",
              "      <td>0</td>\n",
              "      <td>0</td>\n",
              "      <td>0</td>\n",
              "      <td>0</td>\n",
              "      <td>0</td>\n",
              "      <td>0</td>\n",
              "      <td>0</td>\n",
              "      <td>0</td>\n",
              "      <td>...</td>\n",
              "      <td>0</td>\n",
              "      <td>0</td>\n",
              "      <td>0</td>\n",
              "      <td>0</td>\n",
              "      <td>0</td>\n",
              "      <td>0</td>\n",
              "      <td>0</td>\n",
              "      <td>0</td>\n",
              "      <td>0</td>\n",
              "      <td>0</td>\n",
              "    </tr>\n",
              "    <tr>\n",
              "      <th>0086cb61-9a96-dd75-c746-5b63171fef55</th>\n",
              "      <td>0</td>\n",
              "      <td>0</td>\n",
              "      <td>0</td>\n",
              "      <td>0</td>\n",
              "      <td>0</td>\n",
              "      <td>0</td>\n",
              "      <td>0</td>\n",
              "      <td>0</td>\n",
              "      <td>0</td>\n",
              "      <td>0</td>\n",
              "      <td>...</td>\n",
              "      <td>0</td>\n",
              "      <td>0</td>\n",
              "      <td>0</td>\n",
              "      <td>0</td>\n",
              "      <td>0</td>\n",
              "      <td>0</td>\n",
              "      <td>0</td>\n",
              "      <td>0</td>\n",
              "      <td>0</td>\n",
              "      <td>0</td>\n",
              "    </tr>\n",
              "    <tr>\n",
              "      <th>008cb7e4-ed2c-9765-20cb-715cbfd3f920</th>\n",
              "      <td>0</td>\n",
              "      <td>0</td>\n",
              "      <td>0</td>\n",
              "      <td>0</td>\n",
              "      <td>0</td>\n",
              "      <td>0</td>\n",
              "      <td>0</td>\n",
              "      <td>0</td>\n",
              "      <td>0</td>\n",
              "      <td>0</td>\n",
              "      <td>...</td>\n",
              "      <td>0</td>\n",
              "      <td>0</td>\n",
              "      <td>0</td>\n",
              "      <td>0</td>\n",
              "      <td>0</td>\n",
              "      <td>0</td>\n",
              "      <td>0</td>\n",
              "      <td>0</td>\n",
              "      <td>0</td>\n",
              "      <td>0</td>\n",
              "    </tr>\n",
              "  </tbody>\n",
              "</table>\n",
              "<p>5 rows × 1105 columns</p>\n",
              "</div>"
            ],
            "text/plain": [
              "project_id                            44    156   189   228   234   235   \\\n",
              "userCode                                                                   \n",
              "0016878a-2b0e-647a-efa1-772fc5873c7d     0     0     0     0     0     0   \n",
              "0018fd5f-213f-c9ab-ebf4-0dcfb63be43b     0     0     0     0     0     0   \n",
              "0054ebaa-c2c3-590f-4f97-d2df57e64770     0     0     0     0     0     0   \n",
              "0086cb61-9a96-dd75-c746-5b63171fef55     0     0     0     0     0     0   \n",
              "008cb7e4-ed2c-9765-20cb-715cbfd3f920     0     0     0     0     0     0   \n",
              "\n",
              "project_id                            253   287   291   314   ...   9386  \\\n",
              "userCode                                                      ...          \n",
              "0016878a-2b0e-647a-efa1-772fc5873c7d     0     0     0     0  ...      0   \n",
              "0018fd5f-213f-c9ab-ebf4-0dcfb63be43b     0     0     0     0  ...      0   \n",
              "0054ebaa-c2c3-590f-4f97-d2df57e64770     0     0     0     0  ...      0   \n",
              "0086cb61-9a96-dd75-c746-5b63171fef55     0     0     0     0  ...      0   \n",
              "008cb7e4-ed2c-9765-20cb-715cbfd3f920     0     0     0     0  ...      0   \n",
              "\n",
              "project_id                            9388  9389  9414  9418  9419  9420  \\\n",
              "userCode                                                                   \n",
              "0016878a-2b0e-647a-efa1-772fc5873c7d     0     0     0     0     0     0   \n",
              "0018fd5f-213f-c9ab-ebf4-0dcfb63be43b     0     0     0     0     0     0   \n",
              "0054ebaa-c2c3-590f-4f97-d2df57e64770     0     0     0     0     0     0   \n",
              "0086cb61-9a96-dd75-c746-5b63171fef55     0     0     0     0     0     0   \n",
              "008cb7e4-ed2c-9765-20cb-715cbfd3f920     0     0     0     0     0     0   \n",
              "\n",
              "project_id                            9422  9424  9446  \n",
              "userCode                                                \n",
              "0016878a-2b0e-647a-efa1-772fc5873c7d     0     0     0  \n",
              "0018fd5f-213f-c9ab-ebf4-0dcfb63be43b     0     0     0  \n",
              "0054ebaa-c2c3-590f-4f97-d2df57e64770     0     0     0  \n",
              "0086cb61-9a96-dd75-c746-5b63171fef55     0     0     0  \n",
              "008cb7e4-ed2c-9765-20cb-715cbfd3f920     0     0     0  \n",
              "\n",
              "[5 rows x 1105 columns]"
            ]
          },
          "metadata": {
            "tags": []
          },
          "execution_count": 38
        }
      ]
    },
    {
      "metadata": {
        "id": "uidMBNYkxk_z",
        "colab_type": "code",
        "outputId": "4b63469f-0dd3-4a31-979e-ac04ec5d0aee",
        "colab": {
          "base_uri": "https://localhost:8080/",
          "height": 383
        }
      },
      "cell_type": "code",
      "source": [
        "freq_user_seen_proj_test = pd.crosstab(userLog_test['userCode'], userLog_test['project_id'], rownames=['userCode'], colnames=['project_id'])\n",
        "freq_user_seen_proj_test_np = np.array(freq_user_seen_proj_test.values)\n",
        "#print(freq_user_seen_proj_test_np)\n",
        "print(freq_user_seen_proj_test_np.shape)\n",
        "\n",
        "freq_user_seen_proj_test.head()"
      ],
      "execution_count": 0,
      "outputs": [
        {
          "output_type": "stream",
          "text": [
            "(3551, 1105)\n"
          ],
          "name": "stdout"
        },
        {
          "output_type": "execute_result",
          "data": {
            "text/html": [
              "<div>\n",
              "<style scoped>\n",
              "    .dataframe tbody tr th:only-of-type {\n",
              "        vertical-align: middle;\n",
              "    }\n",
              "\n",
              "    .dataframe tbody tr th {\n",
              "        vertical-align: top;\n",
              "    }\n",
              "\n",
              "    .dataframe thead th {\n",
              "        text-align: right;\n",
              "    }\n",
              "</style>\n",
              "<table border=\"1\" class=\"dataframe\">\n",
              "  <thead>\n",
              "    <tr style=\"text-align: right;\">\n",
              "      <th>project_id</th>\n",
              "      <th>44</th>\n",
              "      <th>156</th>\n",
              "      <th>189</th>\n",
              "      <th>228</th>\n",
              "      <th>234</th>\n",
              "      <th>235</th>\n",
              "      <th>253</th>\n",
              "      <th>287</th>\n",
              "      <th>291</th>\n",
              "      <th>314</th>\n",
              "      <th>...</th>\n",
              "      <th>9386</th>\n",
              "      <th>9388</th>\n",
              "      <th>9389</th>\n",
              "      <th>9414</th>\n",
              "      <th>9418</th>\n",
              "      <th>9419</th>\n",
              "      <th>9420</th>\n",
              "      <th>9422</th>\n",
              "      <th>9424</th>\n",
              "      <th>9446</th>\n",
              "    </tr>\n",
              "    <tr>\n",
              "      <th>userCode</th>\n",
              "      <th></th>\n",
              "      <th></th>\n",
              "      <th></th>\n",
              "      <th></th>\n",
              "      <th></th>\n",
              "      <th></th>\n",
              "      <th></th>\n",
              "      <th></th>\n",
              "      <th></th>\n",
              "      <th></th>\n",
              "      <th></th>\n",
              "      <th></th>\n",
              "      <th></th>\n",
              "      <th></th>\n",
              "      <th></th>\n",
              "      <th></th>\n",
              "      <th></th>\n",
              "      <th></th>\n",
              "      <th></th>\n",
              "      <th></th>\n",
              "      <th></th>\n",
              "    </tr>\n",
              "  </thead>\n",
              "  <tbody>\n",
              "    <tr>\n",
              "      <th>0016878a-2b0e-647a-efa1-772fc5873c7d</th>\n",
              "      <td>0</td>\n",
              "      <td>0</td>\n",
              "      <td>0</td>\n",
              "      <td>0</td>\n",
              "      <td>0</td>\n",
              "      <td>0</td>\n",
              "      <td>0</td>\n",
              "      <td>0</td>\n",
              "      <td>0</td>\n",
              "      <td>0</td>\n",
              "      <td>...</td>\n",
              "      <td>0</td>\n",
              "      <td>0</td>\n",
              "      <td>0</td>\n",
              "      <td>0</td>\n",
              "      <td>0</td>\n",
              "      <td>0</td>\n",
              "      <td>0</td>\n",
              "      <td>0</td>\n",
              "      <td>0</td>\n",
              "      <td>0</td>\n",
              "    </tr>\n",
              "    <tr>\n",
              "      <th>0018fd5f-213f-c9ab-ebf4-0dcfb63be43b</th>\n",
              "      <td>0</td>\n",
              "      <td>0</td>\n",
              "      <td>0</td>\n",
              "      <td>0</td>\n",
              "      <td>0</td>\n",
              "      <td>0</td>\n",
              "      <td>0</td>\n",
              "      <td>0</td>\n",
              "      <td>0</td>\n",
              "      <td>0</td>\n",
              "      <td>...</td>\n",
              "      <td>0</td>\n",
              "      <td>0</td>\n",
              "      <td>0</td>\n",
              "      <td>0</td>\n",
              "      <td>0</td>\n",
              "      <td>0</td>\n",
              "      <td>0</td>\n",
              "      <td>0</td>\n",
              "      <td>0</td>\n",
              "      <td>0</td>\n",
              "    </tr>\n",
              "    <tr>\n",
              "      <th>0054ebaa-c2c3-590f-4f97-d2df57e64770</th>\n",
              "      <td>0</td>\n",
              "      <td>0</td>\n",
              "      <td>0</td>\n",
              "      <td>0</td>\n",
              "      <td>0</td>\n",
              "      <td>0</td>\n",
              "      <td>0</td>\n",
              "      <td>0</td>\n",
              "      <td>0</td>\n",
              "      <td>0</td>\n",
              "      <td>...</td>\n",
              "      <td>0</td>\n",
              "      <td>0</td>\n",
              "      <td>0</td>\n",
              "      <td>0</td>\n",
              "      <td>0</td>\n",
              "      <td>0</td>\n",
              "      <td>0</td>\n",
              "      <td>0</td>\n",
              "      <td>0</td>\n",
              "      <td>0</td>\n",
              "    </tr>\n",
              "    <tr>\n",
              "      <th>0086cb61-9a96-dd75-c746-5b63171fef55</th>\n",
              "      <td>0</td>\n",
              "      <td>0</td>\n",
              "      <td>0</td>\n",
              "      <td>0</td>\n",
              "      <td>0</td>\n",
              "      <td>0</td>\n",
              "      <td>0</td>\n",
              "      <td>0</td>\n",
              "      <td>0</td>\n",
              "      <td>0</td>\n",
              "      <td>...</td>\n",
              "      <td>0</td>\n",
              "      <td>0</td>\n",
              "      <td>0</td>\n",
              "      <td>0</td>\n",
              "      <td>0</td>\n",
              "      <td>0</td>\n",
              "      <td>0</td>\n",
              "      <td>0</td>\n",
              "      <td>0</td>\n",
              "      <td>0</td>\n",
              "    </tr>\n",
              "    <tr>\n",
              "      <th>008cb7e4-ed2c-9765-20cb-715cbfd3f920</th>\n",
              "      <td>0</td>\n",
              "      <td>0</td>\n",
              "      <td>0</td>\n",
              "      <td>0</td>\n",
              "      <td>0</td>\n",
              "      <td>0</td>\n",
              "      <td>0</td>\n",
              "      <td>0</td>\n",
              "      <td>0</td>\n",
              "      <td>0</td>\n",
              "      <td>...</td>\n",
              "      <td>0</td>\n",
              "      <td>0</td>\n",
              "      <td>0</td>\n",
              "      <td>0</td>\n",
              "      <td>0</td>\n",
              "      <td>0</td>\n",
              "      <td>0</td>\n",
              "      <td>0</td>\n",
              "      <td>0</td>\n",
              "      <td>0</td>\n",
              "    </tr>\n",
              "  </tbody>\n",
              "</table>\n",
              "<p>5 rows × 1105 columns</p>\n",
              "</div>"
            ],
            "text/plain": [
              "project_id                            44    156   189   228   234   235   \\\n",
              "userCode                                                                   \n",
              "0016878a-2b0e-647a-efa1-772fc5873c7d     0     0     0     0     0     0   \n",
              "0018fd5f-213f-c9ab-ebf4-0dcfb63be43b     0     0     0     0     0     0   \n",
              "0054ebaa-c2c3-590f-4f97-d2df57e64770     0     0     0     0     0     0   \n",
              "0086cb61-9a96-dd75-c746-5b63171fef55     0     0     0     0     0     0   \n",
              "008cb7e4-ed2c-9765-20cb-715cbfd3f920     0     0     0     0     0     0   \n",
              "\n",
              "project_id                            253   287   291   314   ...   9386  \\\n",
              "userCode                                                      ...          \n",
              "0016878a-2b0e-647a-efa1-772fc5873c7d     0     0     0     0  ...      0   \n",
              "0018fd5f-213f-c9ab-ebf4-0dcfb63be43b     0     0     0     0  ...      0   \n",
              "0054ebaa-c2c3-590f-4f97-d2df57e64770     0     0     0     0  ...      0   \n",
              "0086cb61-9a96-dd75-c746-5b63171fef55     0     0     0     0  ...      0   \n",
              "008cb7e4-ed2c-9765-20cb-715cbfd3f920     0     0     0     0  ...      0   \n",
              "\n",
              "project_id                            9388  9389  9414  9418  9419  9420  \\\n",
              "userCode                                                                   \n",
              "0016878a-2b0e-647a-efa1-772fc5873c7d     0     0     0     0     0     0   \n",
              "0018fd5f-213f-c9ab-ebf4-0dcfb63be43b     0     0     0     0     0     0   \n",
              "0054ebaa-c2c3-590f-4f97-d2df57e64770     0     0     0     0     0     0   \n",
              "0086cb61-9a96-dd75-c746-5b63171fef55     0     0     0     0     0     0   \n",
              "008cb7e4-ed2c-9765-20cb-715cbfd3f920     0     0     0     0     0     0   \n",
              "\n",
              "project_id                            9422  9424  9446  \n",
              "userCode                                                \n",
              "0016878a-2b0e-647a-efa1-772fc5873c7d     0     0     0  \n",
              "0018fd5f-213f-c9ab-ebf4-0dcfb63be43b     0     0     0  \n",
              "0054ebaa-c2c3-590f-4f97-d2df57e64770     0     0     0  \n",
              "0086cb61-9a96-dd75-c746-5b63171fef55     0     0     0  \n",
              "008cb7e4-ed2c-9765-20cb-715cbfd3f920     0     0     0  \n",
              "\n",
              "[5 rows x 1105 columns]"
            ]
          },
          "metadata": {
            "tags": []
          },
          "execution_count": 39
        }
      ]
    },
    {
      "metadata": {
        "id": "iynWysLLOpMc",
        "colab_type": "text"
      },
      "cell_type": "markdown",
      "source": [
        ""
      ]
    },
    {
      "metadata": {
        "id": "JSW_j7sIzD_c",
        "colab_type": "text"
      },
      "cell_type": "markdown",
      "source": [
        "ลองสุ่มตัวอย่างเพื่อทดสอบผลลัพธ์"
      ]
    },
    {
      "metadata": {
        "id": "TTg0OMUMtNoH",
        "colab_type": "code",
        "outputId": "0724c65d-4654-4f91-e52f-88052007d416",
        "colab": {
          "base_uri": "https://localhost:8080/",
          "height": 34
        }
      },
      "cell_type": "code",
      "source": [
        "nbrs_user = NearestNeighbors(n_neighbors= 6 , algorithm='auto',metric='jaccard' ).fit(freq_user_seen_proj_train_np >= 1)\n",
        "print(freq_user_seen_proj_train_np.shape)"
      ],
      "execution_count": 0,
      "outputs": [
        {
          "output_type": "stream",
          "text": [
            "(3548, 1105)\n"
          ],
          "name": "stdout"
        }
      ]
    },
    {
      "metadata": {
        "id": "pZangTSgQKmx",
        "colab_type": "code",
        "outputId": "cecf8315-e31d-40cf-cd06-16bcd06e169a",
        "colab": {
          "base_uri": "https://localhost:8080/",
          "height": 51
        }
      },
      "cell_type": "code",
      "source": [
        "distances, indices = nbrs_user.kneighbors(freq_user_seen_proj_train_np >= 1)\n",
        "print('index')\n",
        "#print(indices[0:20])\n",
        "print(indices.shape)\n",
        "#print(distances[0:20])\n",
        "#print('----------------------------------------------------')"
      ],
      "execution_count": 0,
      "outputs": [
        {
          "output_type": "stream",
          "text": [
            "index\n",
            "(3548, 6)\n"
          ],
          "name": "stdout"
        }
      ]
    },
    {
      "metadata": {
        "id": "TbAWxsTyEyaw",
        "colab_type": "code",
        "colab": {}
      },
      "cell_type": "code",
      "source": [
        ""
      ],
      "execution_count": 0,
      "outputs": []
    },
    {
      "metadata": {
        "id": "z7WvHiQghBo8",
        "colab_type": "text"
      },
      "cell_type": "markdown",
      "source": [
        ""
      ]
    },
    {
      "metadata": {
        "id": "C_WaA-8d7RRs",
        "colab_type": "text"
      },
      "cell_type": "markdown",
      "source": [
        "แสดงผลการ recommendation โดยดูจากผลลัพธ์ว่าใกล้เคียงอย่างไรบ้าง"
      ]
    },
    {
      "metadata": {
        "id": "tUQi1borxp0i",
        "colab_type": "code",
        "outputId": "5cd93357-9990-49ca-8f2e-1f5547329a92",
        "colab": {
          "base_uri": "https://localhost:8080/",
          "height": 85
        }
      },
      "cell_type": "code",
      "source": [
        "freq_user_seen_proj_all = pd.crosstab(userLog['userCode'], userLog['project_id'], rownames=['userCode'], colnames=['project_id'])\n",
        "print(freq_user_seen_proj_all.shape)\n",
        "num_rand =np.random.randint(22185,  size=1)\n",
        "#print(num_rand)\n",
        "user_0_seen = freq_user_seen_proj_all.iloc[10000].values\n",
        "\n",
        "# print(user_0_seen > 0)\n",
        "print('difgkdpfgodfkgdfjgoidjfgoidfgjo')\n",
        "print(freq_user_seen_proj_all.columns[user_0_seen > 0].values)\n",
        "\n",
        "# print(freq_user_seen_proj_all[1905].head(1))\n",
        "\n",
        "print('------------------------------------------------------')\n",
        "#print(freq_user_seen_proj_all.loc['0009ecb5-23d3-d9d5-16fd-6d9b39465d87'])"
      ],
      "execution_count": 0,
      "outputs": [
        {
          "output_type": "stream",
          "text": [
            "(25231, 1590)\n",
            "difgkdpfgodfkgdfjgoidjfgoidfgjo\n",
            "[4346 9099 9272]\n",
            "------------------------------------------------------\n"
          ],
          "name": "stdout"
        }
      ]
    },
    {
      "metadata": {
        "id": "Hxdoaj6q1Cu9",
        "colab_type": "code",
        "colab": {}
      },
      "cell_type": "code",
      "source": [
        "output = proj_seen(freq_user_seen_proj_all)\n",
        "output_train = proj_seen(freq_user_seen_proj_train)\n",
        "output_test = proj_seen(freq_user_seen_proj_test)"
      ],
      "execution_count": 0,
      "outputs": []
    },
    {
      "metadata": {
        "id": "6X70NsRLRW8p",
        "colab_type": "code",
        "colab": {}
      },
      "cell_type": "code",
      "source": [
        ""
      ],
      "execution_count": 0,
      "outputs": []
    },
    {
      "metadata": {
        "id": "vtKnYTfg1Qsu",
        "colab_type": "code",
        "colab": {}
      },
      "cell_type": "code",
      "source": [
        "print(indices.shape)\n",
        "print(freq_user_seen_proj_all.shape)\n",
        "indices[5,5]"
      ],
      "execution_count": 0,
      "outputs": []
    },
    {
      "metadata": {
        "id": "kmAt5Q-G9gjZ",
        "colab_type": "code",
        "colab": {}
      },
      "cell_type": "code",
      "source": [
        "a = [1,2]\n",
        "b = [3,4,5]\n",
        "print(a)\n",
        "print(b)\n",
        "print(a+b)"
      ],
      "execution_count": 0,
      "outputs": []
    },
    {
      "metadata": {
        "id": "kJsy77-JLY52",
        "colab_type": "code",
        "colab": {}
      },
      "cell_type": "code",
      "source": [
        "\n"
      ],
      "execution_count": 0,
      "outputs": []
    },
    {
      "metadata": {
        "id": "5SId49MdmyrL",
        "colab_type": "code",
        "colab": {}
      },
      "cell_type": "code",
      "source": [
        "\n"
      ],
      "execution_count": 0,
      "outputs": []
    },
    {
      "metadata": {
        "id": "msmKzKGhZYnp",
        "colab_type": "code",
        "colab": {}
      },
      "cell_type": "code",
      "source": [
        ""
      ],
      "execution_count": 0,
      "outputs": []
    },
    {
      "metadata": {
        "id": "KcidvARs1jnK",
        "colab_type": "code",
        "colab": {}
      },
      "cell_type": "code",
      "source": [
        ""
      ],
      "execution_count": 0,
      "outputs": []
    },
    {
      "metadata": {
        "id": "eVbTigLM-336",
        "colab_type": "code",
        "colab": {}
      },
      "cell_type": "code",
      "source": [
        "output_rec = proj_recommend(freq_user_seen_proj_all,indices)"
      ],
      "execution_count": 0,
      "outputs": []
    },
    {
      "metadata": {
        "id": "LzNTjyJIVLMb",
        "colab_type": "code",
        "colab": {
          "base_uri": "https://localhost:8080/",
          "height": 34
        },
        "outputId": "a1e002ea-ce23-446f-9530-a2d3dbff7a7f"
      },
      "cell_type": "code",
      "source": [
        ""
      ],
      "execution_count": 58,
      "outputs": [
        {
          "output_type": "execute_result",
          "data": {
            "text/plain": [
              "1"
            ]
          },
          "metadata": {
            "tags": []
          },
          "execution_count": 58
        }
      ]
    },
    {
      "metadata": {
        "id": "BK-BfQMh7khs",
        "colab_type": "text"
      },
      "cell_type": "markdown",
      "source": [
        "ในการ recommendation จริงๆนั้นมีการ วัดผลการ recommend โดยใช้รูปแบบนี้เป็นหลักลองแสดงการวัดผลโดยใช้ matrix นี่ดู [Mean Average Precision](http://sdsawtelle.github.io/blog/output/mean-average-precision-MAP-for-recommender-systems.html?fbclid=IwAR2UOfz0a_2Ig60aQ2HszgZq63nch96Hbzod2q54kDZRZT_mPzdsxJXyPj0)"
      ]
    },
    {
      "metadata": {
        "id": "6b5gVXpEajV7",
        "colab_type": "code",
        "colab": {}
      },
      "cell_type": "code",
      "source": [
        "def proj_recommend(nn_dict,dict_seen_train):\n",
        "  nn_proj = {}\n",
        "  for user_code_nn in nn_dict:\n",
        "    list_proj = []\n",
        "    for user_in_list in nn_dict[user_code_nn]:\n",
        "      list_proj = list_proj + dict_seen_train[user_in_list]\n",
        "    nn_proj[user_code_nn] = list_proj\n",
        "  return nn_proj\n",
        "\n",
        "####################################################################\n",
        "\n",
        "def index_to_usercode(nn_index,user_code_list):\n",
        "  nn_dict = {}\n",
        "  for i in np.arange(nn_index.shape[0]):\n",
        "    nn_list = []\n",
        "    nn_name = user_code_list[i]\n",
        "    for j in np.arange(nn_index.shape[1]):\n",
        "      nn_list.append(user_code_list[j])\n",
        "    nn_dict[nn_name] = nn_list\n",
        "  return nn_dict\n",
        "\n",
        "####################################################################\n",
        "\n",
        "def proj_repeat(dict_train,dict_test):\n",
        "  dict_out = {} \n",
        "  for user_code in dict_train:\n",
        "    list_proj_train = np.array(dict_train[user_code])\n",
        "    list_proj_test = np.array(dict_test[user_code])\n",
        "    bool_list = np.isin(list_proj_test ,list_proj_train)\n",
        "    dict_out[user_code] = list(list_proj_test[bool_list])\n",
        "  return dict_out\n",
        "\n",
        "####################################################################\n",
        "\n",
        "def proj_seen(data_freq_seen):\n",
        "  all_colums = data_freq_seen.columns\n",
        "  all_index = data_freq_seen.index\n",
        "  output_list = {}\n",
        "  for index in np.arange(len(all_index)):\n",
        "    np_array = np.array(data_freq_seen.iloc[index])\n",
        "    output_list[all_index[index]] = all_colums[np_array > 0].values\n",
        "  return output_list\n",
        "\n",
        "####################################################################\n",
        "\n",
        "def mean_average_precision(dict_recomment,dict_test,k):\n",
        "  list_map_at_k = []\n",
        "  for user_code in dict_test:\n",
        "    list_map_at_k_user_i = []\n",
        "    list_proj_rec = np.array(dict_recomment[user_code])\n",
        "    list_proj_test = np.array(dict_test[user_code])\n",
        "    for i in np.arange(k):\n",
        "      if(i == len(list_proj_rec) or len(list_proj_test) == 0):\n",
        "        break\n",
        "      bool_list = np.isin(list_proj_rec[0:i+1],list_proj_test)\n",
        "      list_map_at_k_user_i.append(np.sum(bool_list)/(i+1))\n",
        "    list_map_at_k.append(np.mean(np.array(list_map_at_k_user_i)))\n",
        "  return np.mean(np.array(list_map_at_k))"
      ],
      "execution_count": 0,
      "outputs": []
    },
    {
      "metadata": {
        "id": "F946y6f-dYw1",
        "colab_type": "code",
        "colab": {}
      },
      "cell_type": "code",
      "source": [
        "dist_user_test = proj_seen(freq_user_seen_proj_test)\n",
        "dist_user_train = proj_seen(freq_user_seen_proj_train)\n",
        "dist_user_test = proj_repeat(dist_user_train,dist_user_test)\n",
        "nn_dict_rec = index_to_usercode(nn_index_rec,freq_user_seen_proj_train.index)\n",
        "dist_user_rec = proj_recommend(nn_dict_rec,dist_user_train):\n",
        "dist_user_rec = proj_repeat(dist_user_train,dist_user_rec)"
      ],
      "execution_count": 0,
      "outputs": []
    },
    {
      "metadata": {
        "id": "wyVzfeYPfNN1",
        "colab_type": "code",
        "colab": {}
      },
      "cell_type": "code",
      "source": [
        "k = 6\n",
        "map_k = mean_average_precision(dist_user_rec,dist_user_test,k)\n",
        "print('Your result : ', map_k)"
      ],
      "execution_count": 0,
      "outputs": []
    },
    {
      "metadata": {
        "id": "UZeUDOowFdB1",
        "colab_type": "text"
      },
      "cell_type": "markdown",
      "source": [
        "------\n",
        "------\n",
        "-----------\n",
        "-----------"
      ]
    },
    {
      "metadata": {
        "id": "db8fEuk4fhTe",
        "colab_type": "text"
      },
      "cell_type": "markdown",
      "source": [
        "# K-mean\n",
        "\n"
      ]
    },
    {
      "metadata": {
        "id": "KT8J0BYr1Vc8",
        "colab_type": "text"
      },
      "cell_type": "markdown",
      "source": [
        "การ ที่เราทำ k-mean นั้น จะขึ้นกับระยะห่างที่เราตั้งขึ้นมา ดังนั้น feature ที่มาค่า conv ที่สูงนั้นจะส่งผลต่อการคำนวนมากเพราะ ค่าของ feature มากกว่า feature อื่นๆมากเกินไป ดังนั้น ก่อนที่เราจะ ใช้ k mean เราจพเป็นต้อง normalize  feature ของเราทั้งหมดก่อน"
      ]
    },
    {
      "metadata": {
        "id": "jakfsr5K3Hdq",
        "colab_type": "text"
      },
      "cell_type": "markdown",
      "source": [
        "ทดลองทำ k-mean โดยใช้ข้อมูล ของ ทำแหน่งที่ตั้ง ราคา และ facility ต่างเป็น feature"
      ]
    },
    {
      "metadata": {
        "id": "dB8O8mef-IOm",
        "colab_type": "code",
        "colab": {}
      },
      "cell_type": "code",
      "source": [
        "project_main_np_data  = np.hstack((np.array(project_main[[\"lat\",\"lon\",\"starting_price\"]].values) , np.array(project_facility_table.values)))    \n",
        "project_main_np_data_nor,project_main_np_data_min,project_main_np_data_max  = normalize(project_main_np_data)\n",
        "print(np.count_nonzero(np.isnan(project_main_np_data_nor)))\n"
      ],
      "execution_count": 0,
      "outputs": []
    },
    {
      "metadata": {
        "id": "PowXN3WC3wm4",
        "colab_type": "text"
      },
      "cell_type": "markdown",
      "source": [
        "แสดงผลลัพธ์การ รัน k mean ออกมา\n",
        "\n",
        "[K-mean example](https://scikit-learn.org/stable/auto_examples/cluster/plot_cluster_iris.html)"
      ]
    },
    {
      "metadata": {
        "id": "RukG4mI7do-I",
        "colab_type": "code",
        "colab": {}
      },
      "cell_type": "code",
      "source": [
        "plt.plot(project_main_np_data[:,0], project_main_np_data[:,1], 'r^')\n",
        "plt.show()\n",
        "##\n",
        "from sklearn.cluster import KMeans\n",
        "kmean_result =  KMeans(n_clusters=8).fit(project_main_np_data_nor)\n",
        "kmean_result.fit(project_main_np_data)\n",
        "# print(kmean_result.labels_)\n",
        "### k-mean \n",
        "colors = ['bo', 'go', 'ro', 'co', 'mo', 'yo', 'ko', 'wo']\n",
        "for i in np.arange(project_main_np_data.shape[0]):\n",
        "  plt.plot(project_main_np_data[i,0], project_main_np_data[i,1], colors[kmean_result.labels_[i]])\n",
        "plt.show()\n",
        "\n",
        "##\n"
      ],
      "execution_count": 0,
      "outputs": []
    },
    {
      "metadata": {
        "id": "LCiCLdDd1S30",
        "colab_type": "text"
      },
      "cell_type": "markdown",
      "source": [
        "แสดงความคิดเห็นกับข้อมูลที่ visual ออกมา\n"
      ]
    },
    {
      "metadata": {
        "id": "dfAFzgXx3ihs",
        "colab_type": "code",
        "colab": {}
      },
      "cell_type": "code",
      "source": [
        "freq_user_seen_proj = pd.crosstab(userLog['project_id'], userLog['userCode'], rownames=['project_id'], colnames=['userCode'])\n",
        "freq_user_seen_proj_np = np.array(freq_user_seen_proj.values)\n",
        "\n",
        "#print(freq_user_seen_proj_np.shape)\n",
        "print(freq_user_seen_proj.shape)\n",
        "freq_user_seen_proj.head()\n"
      ],
      "execution_count": 0,
      "outputs": []
    },
    {
      "metadata": {
        "id": "FzoPsAwN6ddE",
        "colab_type": "code",
        "colab": {}
      },
      "cell_type": "code",
      "source": [
        ""
      ],
      "execution_count": 0,
      "outputs": []
    },
    {
      "metadata": {
        "id": "LoDSQAgG3ugE",
        "colab_type": "code",
        "colab": {}
      },
      "cell_type": "code",
      "source": [
        "kmean_result =  KMeans(n_clusters=8).fit(freq_user_seen_proj_np)\n",
        "# kmean_result.fit(project_main_np_data)\n",
        "# print(kmean_result.labels_)\n",
        "### k-mean \n",
        "colors = ['bo', 'go', 'ro', 'co', 'mo', 'yo', 'ko', 'wo']\n",
        "for i in np.arange(project_main_np_data.shape[0]):\n",
        "  plt.plot(project_main_np_data[i,0], project_main_np_data[i,1], colors[kmean_result.labels_[i]])\n",
        "plt.show()"
      ],
      "execution_count": 0,
      "outputs": []
    }
  ]
}