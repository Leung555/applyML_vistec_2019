{
  "nbformat": 4,
  "nbformat_minor": 0,
  "metadata": {
    "colab": {
      "name": "hw2_homeDotTech.ipynb",
      "version": "0.3.2",
      "provenance": [],
      "collapsed_sections": [],
      "include_colab_link": true
    },
    "kernelspec": {
      "display_name": "Python 3",
      "language": "python",
      "name": "python3"
    }
  },
  "cells": [
    {
      "cell_type": "markdown",
      "metadata": {
        "id": "view-in-github",
        "colab_type": "text"
      },
      "source": [
        "<a href=\"https://colab.research.google.com/github/Pataweepr/applyML_vistec_2019/blob/master/hw2_homeDotTech.ipynb\" target=\"_parent\"><img src=\"https://colab.research.google.com/assets/colab-badge.svg\" alt=\"Open In Colab\"/></a>"
      ]
    },
    {
      "metadata": {
        "id": "OcrnkyvogePf",
        "colab_type": "text"
      },
      "cell_type": "markdown",
      "source": [
        "#Home dot tech \n",
        "\n",
        "ข้อมูลนี้เป็นข้อมูลเกี่ยวกับ ที่อยู่ในประเทศไทย \n",
        "\n",
        "พวกเราจะใช้ file จาก google drive ซึ่งต้องใช้ pyDrive\n",
        "\n",
        "\n",
        "สามารถ อ่านการใช้งาน pydrive เบื้องต้นได้ตามนี้ \n",
        "\n",
        "[example pyDrive](https://colab.research.google.com/drive/1pIl9zCObPc_8BLivb7FRsjYBhKGWK9eL)\n",
        "\n",
        "[link download file](https://drive.google.com/file/d/1X-cacRIF30acXyKotSmDZu5qc8Gs84Wm/view?usp=sharing)"
      ]
    },
    {
      "metadata": {
        "id": "LyXd3PeVaqIQ",
        "colab_type": "code",
        "cellView": "both",
        "outputId": "ab5bbff2-9d05-4cfc-bbb2-a79a6c4b649a",
        "colab": {
          "base_uri": "https://localhost:8080/",
          "height": 51
        }
      },
      "cell_type": "code",
      "source": [
        "!pip install -U -q PyDrive\n",
        "\n",
        "from pydrive.auth import GoogleAuth\n",
        "from pydrive.drive import GoogleDrive\n",
        "from google.colab import auth\n",
        "from oauth2client.client import GoogleCredentials\n",
        "\n",
        "# 1. Authenticate and create the PyDrive client.\n",
        "auth.authenticate_user()\n",
        "gauth = GoogleAuth()\n",
        "gauth.credentials = GoogleCredentials.get_application_default()\n",
        "drive = GoogleDrive(gauth)\n",
        "\n"
      ],
      "execution_count": 1,
      "outputs": [
        {
          "output_type": "stream",
          "text": [
            "\u001b[?25l\r\u001b[K    1% |▎                               | 10kB 19.8MB/s eta 0:00:01\r\u001b[K    2% |▋                               | 20kB 1.8MB/s eta 0:00:01\r\u001b[K    3% |█                               | 30kB 2.7MB/s eta 0:00:01\r\u001b[K    4% |█▎                              | 40kB 1.8MB/s eta 0:00:01\r\u001b[K    5% |█▋                              | 51kB 2.2MB/s eta 0:00:01\r\u001b[K    6% |██                              | 61kB 2.6MB/s eta 0:00:01\r\u001b[K    7% |██▎                             | 71kB 3.0MB/s eta 0:00:01\r\u001b[K    8% |██▋                             | 81kB 3.4MB/s eta 0:00:01\r\u001b[K    9% |███                             | 92kB 3.8MB/s eta 0:00:01\r\u001b[K    10% |███▎                            | 102kB 2.9MB/s eta 0:00:01\r\u001b[K    11% |███▋                            | 112kB 2.9MB/s eta 0:00:01\r\u001b[K    12% |████                            | 122kB 4.1MB/s eta 0:00:01\r\u001b[K    13% |████▎                           | 133kB 4.1MB/s eta 0:00:01\r\u001b[K    14% |████▋                           | 143kB 7.7MB/s eta 0:00:01\r\u001b[K    15% |█████                           | 153kB 7.7MB/s eta 0:00:01\r\u001b[K    16% |█████▎                          | 163kB 7.7MB/s eta 0:00:01\r\u001b[K    17% |█████▋                          | 174kB 7.6MB/s eta 0:00:01\r\u001b[K    18% |██████                          | 184kB 7.6MB/s eta 0:00:01\r\u001b[K    19% |██████▎                         | 194kB 7.6MB/s eta 0:00:01\r\u001b[K    20% |██████▋                         | 204kB 47.1MB/s eta 0:00:01\r\u001b[K    21% |███████                         | 215kB 8.6MB/s eta 0:00:01\r\u001b[K    22% |███████▎                        | 225kB 8.6MB/s eta 0:00:01\r\u001b[K    23% |███████▋                        | 235kB 8.7MB/s eta 0:00:01\r\u001b[K    24% |████████                        | 245kB 8.7MB/s eta 0:00:01\r\u001b[K    25% |████████▎                       | 256kB 8.7MB/s eta 0:00:01\r\u001b[K    26% |████████▋                       | 266kB 8.4MB/s eta 0:00:01\r\u001b[K    27% |█████████                       | 276kB 8.6MB/s eta 0:00:01\r\u001b[K    29% |█████████▎                      | 286kB 8.7MB/s eta 0:00:01\r\u001b[K    30% |█████████▋                      | 296kB 8.6MB/s eta 0:00:01\r\u001b[K    31% |██████████                      | 307kB 8.7MB/s eta 0:00:01\r\u001b[K    32% |██████████▎                     | 317kB 53.2MB/s eta 0:00:01\r\u001b[K    33% |██████████▋                     | 327kB 53.4MB/s eta 0:00:01\r\u001b[K    34% |███████████                     | 337kB 53.6MB/s eta 0:00:01\r\u001b[K    35% |███████████▎                    | 348kB 48.1MB/s eta 0:00:01\r\u001b[K    36% |███████████▋                    | 358kB 48.1MB/s eta 0:00:01\r\u001b[K    37% |████████████                    | 368kB 56.2MB/s eta 0:00:01\r\u001b[K    38% |████████████▎                   | 378kB 56.3MB/s eta 0:00:01\r\u001b[K    39% |████████████▋                   | 389kB 56.9MB/s eta 0:00:01\r\u001b[K    40% |█████████████                   | 399kB 9.7MB/s eta 0:00:01\r\u001b[K    41% |█████████████▎                  | 409kB 9.7MB/s eta 0:00:01\r\u001b[K    42% |█████████████▋                  | 419kB 9.7MB/s eta 0:00:01\r\u001b[K    43% |██████████████                  | 430kB 9.7MB/s eta 0:00:01\r\u001b[K    44% |██████████████▎                 | 440kB 9.7MB/s eta 0:00:01\r\u001b[K    45% |██████████████▋                 | 450kB 9.9MB/s eta 0:00:01\r\u001b[K    46% |███████████████                 | 460kB 9.8MB/s eta 0:00:01\r\u001b[K    47% |███████████████▎                | 471kB 9.9MB/s eta 0:00:01\r\u001b[K    48% |███████████████▋                | 481kB 9.8MB/s eta 0:00:01\r\u001b[K    49% |████████████████                | 491kB 9.8MB/s eta 0:00:01\r\u001b[K    50% |████████████████▎               | 501kB 59.8MB/s eta 0:00:01\r\u001b[K    51% |████████████████▋               | 512kB 57.0MB/s eta 0:00:01\r\u001b[K    52% |█████████████████               | 522kB 57.6MB/s eta 0:00:01\r\u001b[K    53% |█████████████████▎              | 532kB 58.6MB/s eta 0:00:01\r\u001b[K    54% |█████████████████▋              | 542kB 9.0MB/s eta 0:00:01\r\u001b[K    55% |██████████████████              | 552kB 9.0MB/s eta 0:00:01\r\u001b[K    57% |██████████████████▎             | 563kB 9.0MB/s eta 0:00:01\r\u001b[K    58% |██████████████████▋             | 573kB 9.0MB/s eta 0:00:01\r\u001b[K    59% |███████████████████             | 583kB 9.0MB/s eta 0:00:01\r\u001b[K    60% |███████████████████▎            | 593kB 9.0MB/s eta 0:00:01\r\u001b[K    61% |███████████████████▋            | 604kB 9.0MB/s eta 0:00:01\r\u001b[K    62% |████████████████████            | 614kB 9.0MB/s eta 0:00:01\r\u001b[K    63% |████████████████████▎           | 624kB 9.0MB/s eta 0:00:01\r\u001b[K    64% |████████████████████▋           | 634kB 9.0MB/s eta 0:00:01\r\u001b[K    65% |█████████████████████           | 645kB 59.3MB/s eta 0:00:01\r\u001b[K    66% |█████████████████████▎          | 655kB 59.0MB/s eta 0:00:01\r\u001b[K    67% |█████████████████████▋          | 665kB 45.9MB/s eta 0:00:01\r\u001b[K    68% |██████████████████████          | 675kB 45.7MB/s eta 0:00:01\r\u001b[K    69% |██████████████████████▎         | 686kB 45.6MB/s eta 0:00:01\r\u001b[K    70% |██████████████████████▋         | 696kB 46.7MB/s eta 0:00:01\r\u001b[K    71% |███████████████████████         | 706kB 46.1MB/s eta 0:00:01\r\u001b[K    72% |███████████████████████▎        | 716kB 47.7MB/s eta 0:00:01\r\u001b[K    73% |███████████████████████▋        | 727kB 47.5MB/s eta 0:00:01\r\u001b[K    74% |████████████████████████        | 737kB 46.7MB/s eta 0:00:01\r\u001b[K    75% |████████████████████████▎       | 747kB 47.2MB/s eta 0:00:01\r\u001b[K    76% |████████████████████████▋       | 757kB 47.7MB/s eta 0:00:01\r\u001b[K    77% |████████████████████████▉       | 768kB 63.5MB/s eta 0:00:01\r\u001b[K    78% |█████████████████████████▏      | 778kB 63.6MB/s eta 0:00:01\r\u001b[K    79% |█████████████████████████▌      | 788kB 62.7MB/s eta 0:00:01\r\u001b[K    80% |█████████████████████████▉      | 798kB 61.7MB/s eta 0:00:01\r\u001b[K    81% |██████████████████████████▏     | 808kB 62.4MB/s eta 0:00:01\r\u001b[K    82% |██████████████████████████▌     | 819kB 62.0MB/s eta 0:00:01\r\u001b[K    83% |██████████████████████████▉     | 829kB 62.3MB/s eta 0:00:01\r\u001b[K    85% |███████████████████████████▏    | 839kB 60.8MB/s eta 0:00:01\r\u001b[K    86% |███████████████████████████▌    | 849kB 60.0MB/s eta 0:00:01\r\u001b[K    87% |███████████████████████████▉    | 860kB 54.5MB/s eta 0:00:01\r\u001b[K    88% |████████████████████████████▏   | 870kB 55.5MB/s eta 0:00:01\r\u001b[K    89% |████████████████████████████▌   | 880kB 56.5MB/s eta 0:00:01\r\u001b[K    90% |████████████████████████████▉   | 890kB 56.7MB/s eta 0:00:01\r\u001b[K    91% |█████████████████████████████▏  | 901kB 56.9MB/s eta 0:00:01\r\u001b[K    92% |█████████████████████████████▌  | 911kB 57.5MB/s eta 0:00:01\r\u001b[K    93% |█████████████████████████████▉  | 921kB 57.9MB/s eta 0:00:01\r\u001b[K    94% |██████████████████████████████▏ | 931kB 57.5MB/s eta 0:00:01\r\u001b[K    95% |██████████████████████████████▌ | 942kB 59.8MB/s eta 0:00:01\r\u001b[K    96% |██████████████████████████████▉ | 952kB 59.1MB/s eta 0:00:01\r\u001b[K    97% |███████████████████████████████▏| 962kB 66.1MB/s eta 0:00:01\r\u001b[K    98% |███████████████████████████████▌| 972kB 65.9MB/s eta 0:00:01\r\u001b[K    99% |███████████████████████████████▉| 983kB 64.2MB/s eta 0:00:01\r\u001b[K    100% |████████████████████████████████| 993kB 21.8MB/s \n",
            "\u001b[?25h  Building wheel for PyDrive (setup.py) ... \u001b[?25ldone\n",
            "\u001b[?25h"
          ],
          "name": "stdout"
        }
      ]
    },
    {
      "metadata": {
        "id": "ByDiTugkD3PF",
        "colab_type": "code",
        "colab": {}
      },
      "cell_type": "code",
      "source": [
        "import numpy as np\n",
        "import pandas as pd\n",
        "import matplotlib.pyplot as plt\n",
        "from sklearn.cluster import KMeans\n",
        "from scipy.stats import mode"
      ],
      "execution_count": 0,
      "outputs": []
    },
    {
      "metadata": {
        "id": "Go7lnAxN9XZP",
        "colab_type": "text"
      },
      "cell_type": "markdown",
      "source": [
        "คุณควร run code ตัวของ example เพื่อทราบถึง file id เพราะว่า file id ของแต่ละคนนั้นไม่เหมือนกันน่ะครับ  [example pyDrive](https://colab.research.google.com/drive/1pIl9zCObPc_8BLivb7FRsjYBhKGWK9eL)\n",
        "\n",
        "\n",
        "###FILE_ID!!!\n",
        "\n",
        "<pre>   \n",
        "title: userLog_201801_201802_for_participants.csv, id: 19sNUEOYeqU33EWBMRKq65YydpgLQoppZ\n",
        "title: project_main.csv, id: 1iRz0edC_tjIk0Ge33fKLZYN1ciXxup-0\n",
        "title: project_facility.csv, id: 13jUinwDsk9sYvoMOBaTMfTM11912CvdO\n",
        "</pre>\n"
      ]
    },
    {
      "metadata": {
        "id": "rUSLT2jjvVQG",
        "colab_type": "text"
      },
      "cell_type": "markdown",
      "source": [
        "เนื่องจากข้อมูลใน file เป็น รูปแบบการแยกข้อมูล ใน column แยกด้วย ';' แต่ว่ามันยากที่จัดการ เลยเขียน function เพื่ออ่าน file ดังนี้"
      ]
    },
    {
      "metadata": {
        "id": "QFufCvqODOfy",
        "colab_type": "code",
        "colab": {}
      },
      "cell_type": "code",
      "source": [
        "def readDataFromDrive_HDT_single_col(file_id):\n",
        "  # file_id is str\n",
        "  data_downloaded = drive.CreateFile({'id': file_id })\n",
        "  data_downloaded.GetContentFile('readCsvFile.csv')\n",
        "  # raw_data = pd.read_csv('readCsvFile.csv')\n",
        "  raw_data = pd.read_csv('readCsvFile.csv',delimiter= ';')\n",
        "\n",
        "  print('#########################################################################################################################')\n",
        "  return raw_data;\n",
        "  \n",
        "def readDataFromDrive_HDT(file_id):\n",
        "  # file_id is str\n",
        "  data_downloaded = drive.CreateFile({'id': file_id })\n",
        "  data_downloaded.GetContentFile('readCsvFile.csv')\n",
        "  raw_data = pd.read_csv('readCsvFile.csv')\n",
        "  print(raw_data.dtypes)\n",
        "  print('-------------- NA DATA ------------------')\n",
        "  for name_col in raw_data.columns:\n",
        "    print(name_col,'null :',raw_data[name_col].isnull().values.any())\n",
        "  print('#########################################################################################################################')\n",
        "  return raw_data;"
      ],
      "execution_count": 0,
      "outputs": []
    },
    {
      "metadata": {
        "id": "y0PAA0zGwcij",
        "colab_type": "text"
      },
      "cell_type": "markdown",
      "source": [
        "file ที่เราจะเลือกใช้\n",
        "\n",
        "* userLog\n",
        "* project_main\n",
        "* project_facility\n",
        "\n",
        "\n",
        "userLog  มันการเป็นเก็บ log ของ user ทั้งหมดที่เข้ามาในระบบ ว่า user เข้าผ่านอุปกรณื อะไรบ้างแล้วเข้าไปดูโปรเจคไหน\n",
        "\n",
        "project_main เป็นการบอกรายละเอียดแต่ละ project ว่ามีข้อมูลอะไรบ้าง เกี่ยวกับตำแหน่ง หรือ ตัวของ ราคา\n",
        "\n",
        "project_facility บอก facility ของแต่ละโปรคเจคว่าเป็นอย่างไร\n",
        "\n",
        "\n",
        "\n"
      ]
    },
    {
      "metadata": {
        "id": "roD4K39il3aP",
        "colab_type": "text"
      },
      "cell_type": "markdown",
      "source": [
        "# TODO#1: เปลี่ยนข้อมูลเป็นตัวเลข\n",
        "\n",
        "ข้อมูบบที่เราจะพิจารณาต่อไปนี้เป็นข้อมูล"
      ]
    },
    {
      "metadata": {
        "id": "8Wc1TrjKxahD",
        "colab_type": "code",
        "outputId": "860dab24-22cd-4bf0-db93-166651dd837d",
        "colab": {
          "base_uri": "https://localhost:8080/",
          "height": 428
        }
      },
      "cell_type": "code",
      "source": [
        "print('project_main')\n",
        "project_main = readDataFromDrive_HDT_single_col('1iRz0edC_tjIk0Ge33fKLZYN1ciXxup-0')  \n",
        "project_main = project_main.loc[project_main['province_id'] == 10]\n",
        "print(project_main.shape)\n",
        "project_main = project_main.drop(columns=['project_land_size_ngan', 'project_land_size_wa'])\n",
        "project_main.loc[project_main[\"project_status\"] == \"A\", \"project_status\"] = 1\n",
        "project_main.loc[project_main[\"project_status\"] == \"U\", \"project_status\"] = 0\n",
        "project_main = project_main.convert_objects(convert_numeric=True)\n",
        "project_main.head()"
      ],
      "execution_count": 4,
      "outputs": [
        {
          "output_type": "stream",
          "text": [
            "project_main\n",
            "#########################################################################################################################\n",
            "(1775, 18)\n"
          ],
          "name": "stdout"
        },
        {
          "output_type": "stream",
          "text": [
            "/usr/local/lib/python3.6/dist-packages/ipykernel_launcher.py:8: FutureWarning: convert_objects is deprecated.  To re-infer data dtypes for object columns, use DataFrame.infer_objects()\n",
            "For all other conversions use the data-type specific converters pd.to_datetime, pd.to_timedelta and pd.to_numeric.\n",
            "  \n"
          ],
          "name": "stderr"
        },
        {
          "output_type": "execute_result",
          "data": {
            "text/html": [
              "<div>\n",
              "<style scoped>\n",
              "    .dataframe tbody tr th:only-of-type {\n",
              "        vertical-align: middle;\n",
              "    }\n",
              "\n",
              "    .dataframe tbody tr th {\n",
              "        vertical-align: top;\n",
              "    }\n",
              "\n",
              "    .dataframe thead th {\n",
              "        text-align: right;\n",
              "    }\n",
              "</style>\n",
              "<table border=\"1\" class=\"dataframe\">\n",
              "  <thead>\n",
              "    <tr style=\"text-align: right;\">\n",
              "      <th></th>\n",
              "      <th>project_id</th>\n",
              "      <th>developer_id</th>\n",
              "      <th>brand_id</th>\n",
              "      <th>project_name_th</th>\n",
              "      <th>project_name_en</th>\n",
              "      <th>district_id</th>\n",
              "      <th>province_id</th>\n",
              "      <th>lat</th>\n",
              "      <th>lon</th>\n",
              "      <th>project_land_size_rai</th>\n",
              "      <th>total_unit</th>\n",
              "      <th>percent_car_parking</th>\n",
              "      <th>starting_price</th>\n",
              "      <th>highest_price</th>\n",
              "      <th>project_status</th>\n",
              "      <th>created_at</th>\n",
              "    </tr>\n",
              "  </thead>\n",
              "  <tbody>\n",
              "    <tr>\n",
              "      <th>0</th>\n",
              "      <td>44</td>\n",
              "      <td>140786</td>\n",
              "      <td>0.0</td>\n",
              "      <td>พาร์ควิลล์ 3</td>\n",
              "      <td>Parkville 3</td>\n",
              "      <td>1046.0</td>\n",
              "      <td>10</td>\n",
              "      <td>13.891719</td>\n",
              "      <td>100.722099</td>\n",
              "      <td>54</td>\n",
              "      <td>NaN</td>\n",
              "      <td>NaN</td>\n",
              "      <td>3500000.0</td>\n",
              "      <td>3862000.0</td>\n",
              "      <td>1.0</td>\n",
              "      <td>2011-01-14T18:40:12.117+0700</td>\n",
              "    </tr>\n",
              "    <tr>\n",
              "      <th>1</th>\n",
              "      <td>24</td>\n",
              "      <td>1032</td>\n",
              "      <td>0.0</td>\n",
              "      <td>สัมมากร นิมิตใหม่</td>\n",
              "      <td>Sammakorn Nimitmai</td>\n",
              "      <td>1046.0</td>\n",
              "      <td>10</td>\n",
              "      <td>13.876590</td>\n",
              "      <td>100.731927</td>\n",
              "      <td>154</td>\n",
              "      <td>NaN</td>\n",
              "      <td>NaN</td>\n",
              "      <td>4590000.0</td>\n",
              "      <td>NaN</td>\n",
              "      <td>0.0</td>\n",
              "      <td>2011-02-24T21:43:59.297+0700</td>\n",
              "    </tr>\n",
              "    <tr>\n",
              "      <th>7</th>\n",
              "      <td>208</td>\n",
              "      <td>13323</td>\n",
              "      <td>NaN</td>\n",
              "      <td>ลิฟวิ่งนารา รามคำแหง-สุวรรณภูมิ</td>\n",
              "      <td>LIVING NARA RAMKHAMHAENG-SUVARNABHUMI</td>\n",
              "      <td>1011.0</td>\n",
              "      <td>10</td>\n",
              "      <td>13.769810</td>\n",
              "      <td>100.722040</td>\n",
              "      <td>44</td>\n",
              "      <td>201.0</td>\n",
              "      <td>NaN</td>\n",
              "      <td>3500000.0</td>\n",
              "      <td>7600000.0</td>\n",
              "      <td>0.0</td>\n",
              "      <td>2010-07-02T07:00:00.000+0700</td>\n",
              "    </tr>\n",
              "    <tr>\n",
              "      <th>8</th>\n",
              "      <td>228</td>\n",
              "      <td>6772</td>\n",
              "      <td>0.0</td>\n",
              "      <td>เค.ซี.รามอินทรา 5 (พระยาสุเรนทร์)</td>\n",
              "      <td>K.C. RAMINTRA 5</td>\n",
              "      <td>1046.0</td>\n",
              "      <td>10</td>\n",
              "      <td>13.862623</td>\n",
              "      <td>100.695135</td>\n",
              "      <td>34</td>\n",
              "      <td>NaN</td>\n",
              "      <td>NaN</td>\n",
              "      <td>1810000.0</td>\n",
              "      <td>NaN</td>\n",
              "      <td>0.0</td>\n",
              "      <td>2010-12-16T18:51:42.173+0700</td>\n",
              "    </tr>\n",
              "    <tr>\n",
              "      <th>11</th>\n",
              "      <td>982</td>\n",
              "      <td>12136</td>\n",
              "      <td>979.0</td>\n",
              "      <td>อนาวิลล์ สุวรรณภูมิ</td>\n",
              "      <td>Anaville Suvarnabhumi</td>\n",
              "      <td>1011.0</td>\n",
              "      <td>10</td>\n",
              "      <td>13.763348</td>\n",
              "      <td>100.803434</td>\n",
              "      <td>131</td>\n",
              "      <td>NaN</td>\n",
              "      <td>NaN</td>\n",
              "      <td>4300000.0</td>\n",
              "      <td>NaN</td>\n",
              "      <td>1.0</td>\n",
              "      <td>2011-01-17T22:55:47.317+0700</td>\n",
              "    </tr>\n",
              "  </tbody>\n",
              "</table>\n",
              "</div>"
            ],
            "text/plain": [
              "    project_id  developer_id  brand_id                    project_name_th  \\\n",
              "0           44        140786       0.0                       พาร์ควิลล์ 3   \n",
              "1           24          1032       0.0                  สัมมากร นิมิตใหม่   \n",
              "7          208         13323       NaN    ลิฟวิ่งนารา รามคำแหง-สุวรรณภูมิ   \n",
              "8          228          6772       0.0  เค.ซี.รามอินทรา 5 (พระยาสุเรนทร์)   \n",
              "11         982         12136     979.0                อนาวิลล์ สุวรรณภูมิ   \n",
              "\n",
              "                          project_name_en  district_id  province_id  \\\n",
              "0                             Parkville 3       1046.0           10   \n",
              "1                      Sammakorn Nimitmai       1046.0           10   \n",
              "7   LIVING NARA RAMKHAMHAENG-SUVARNABHUMI       1011.0           10   \n",
              "8                         K.C. RAMINTRA 5       1046.0           10   \n",
              "11                  Anaville Suvarnabhumi       1011.0           10   \n",
              "\n",
              "          lat         lon  project_land_size_rai  total_unit  \\\n",
              "0   13.891719  100.722099                     54         NaN   \n",
              "1   13.876590  100.731927                    154         NaN   \n",
              "7   13.769810  100.722040                     44       201.0   \n",
              "8   13.862623  100.695135                     34         NaN   \n",
              "11  13.763348  100.803434                    131         NaN   \n",
              "\n",
              "    percent_car_parking  starting_price  highest_price  project_status  \\\n",
              "0                   NaN       3500000.0      3862000.0             1.0   \n",
              "1                   NaN       4590000.0            NaN             0.0   \n",
              "7                   NaN       3500000.0      7600000.0             0.0   \n",
              "8                   NaN       1810000.0            NaN             0.0   \n",
              "11                  NaN       4300000.0            NaN             1.0   \n",
              "\n",
              "                      created_at  \n",
              "0   2011-01-14T18:40:12.117+0700  \n",
              "1   2011-02-24T21:43:59.297+0700  \n",
              "7   2010-07-02T07:00:00.000+0700  \n",
              "8   2010-12-16T18:51:42.173+0700  \n",
              "11  2011-01-17T22:55:47.317+0700  "
            ]
          },
          "metadata": {
            "tags": []
          },
          "execution_count": 4
        }
      ]
    },
    {
      "metadata": {
        "id": "Eev1SbQYl_Ae",
        "colab_type": "text"
      },
      "cell_type": "markdown",
      "source": [
        "# TODO#2: แก้ไขข้อมูล data frame ของ projet_main ให้ไม่มี NAN"
      ]
    },
    {
      "metadata": {
        "id": "2N83pVt7xl2x",
        "colab_type": "code",
        "colab": {}
      },
      "cell_type": "code",
      "source": [
        "\n",
        "project_main = project_main.dropna(subset=['lat'])\n",
        "\n",
        "project_main[\"starting_price\"] = project_main[\"starting_price\"].fillna(project_main[\"starting_price\"].mode().iloc[0])\n"
      ],
      "execution_count": 0,
      "outputs": []
    },
    {
      "metadata": {
        "id": "AF89hUwyzNDV",
        "colab_type": "text"
      },
      "cell_type": "markdown",
      "source": [
        "## TODO#3: load ข้อมูล facility\n",
        "ลอง print ข้อมูลดูเราจะเห็นว่าข้อมูล และอธิบายว่าเหมาะสมกับการใช้หรือไม่\n"
      ]
    },
    {
      "metadata": {
        "id": "Kjw1O2CVxcmi",
        "colab_type": "code",
        "outputId": "69718821-e51b-4d33-8bb4-95af93b171ae",
        "colab": {
          "base_uri": "https://localhost:8080/",
          "height": 221
        }
      },
      "cell_type": "code",
      "source": [
        "# project_facility  \n",
        "project_facility = readDataFromDrive_HDT_single_col('13jUinwDsk9sYvoMOBaTMfTM11912CvdO')\n",
        "project_facility.head()"
      ],
      "execution_count": 6,
      "outputs": [
        {
          "output_type": "stream",
          "text": [
            "#########################################################################################################################\n"
          ],
          "name": "stdout"
        },
        {
          "output_type": "execute_result",
          "data": {
            "text/html": [
              "<div>\n",
              "<style scoped>\n",
              "    .dataframe tbody tr th:only-of-type {\n",
              "        vertical-align: middle;\n",
              "    }\n",
              "\n",
              "    .dataframe tbody tr th {\n",
              "        vertical-align: top;\n",
              "    }\n",
              "\n",
              "    .dataframe thead th {\n",
              "        text-align: right;\n",
              "    }\n",
              "</style>\n",
              "<table border=\"1\" class=\"dataframe\">\n",
              "  <thead>\n",
              "    <tr style=\"text-align: right;\">\n",
              "      <th></th>\n",
              "      <th>project_id</th>\n",
              "      <th>facility_id</th>\n",
              "    </tr>\n",
              "  </thead>\n",
              "  <tbody>\n",
              "    <tr>\n",
              "      <th>0</th>\n",
              "      <td>4</td>\n",
              "      <td>1</td>\n",
              "    </tr>\n",
              "    <tr>\n",
              "      <th>1</th>\n",
              "      <td>4</td>\n",
              "      <td>3</td>\n",
              "    </tr>\n",
              "    <tr>\n",
              "      <th>2</th>\n",
              "      <td>4</td>\n",
              "      <td>4</td>\n",
              "    </tr>\n",
              "    <tr>\n",
              "      <th>3</th>\n",
              "      <td>4</td>\n",
              "      <td>5</td>\n",
              "    </tr>\n",
              "    <tr>\n",
              "      <th>4</th>\n",
              "      <td>45</td>\n",
              "      <td>2</td>\n",
              "    </tr>\n",
              "  </tbody>\n",
              "</table>\n",
              "</div>"
            ],
            "text/plain": [
              "   project_id  facility_id\n",
              "0           4            1\n",
              "1           4            3\n",
              "2           4            4\n",
              "3           4            5\n",
              "4          45            2"
            ]
          },
          "metadata": {
            "tags": []
          },
          "execution_count": 6
        }
      ]
    },
    {
      "metadata": {
        "id": "hNhYR25VQm-8",
        "colab_type": "text"
      },
      "cell_type": "markdown",
      "source": [
        "\n",
        "## TODO#4: แปลงข้อมูล fac ให้เหมาะแก้การใช้งาน \n",
        "เนื่องจากข้อมูลไม่ได้เป็นรูปแบบของตารางที่ใช้ได้ง่าย [pd.crosstab](https://pandas.pydata.org/pandas-docs/version/0.23.4/generated/pandas.crosstab.html) เพราะ เราต้องการตารางที่บอกถึง facility ว่ามีหรือไม่ในทุกแบบของ facility"
      ]
    },
    {
      "metadata": {
        "id": "5p4wfZdGxmco",
        "colab_type": "code",
        "outputId": "df899129-b8e1-43d2-eb3f-5aca5d8d4acb",
        "colab": {
          "base_uri": "https://localhost:8080/",
          "height": 303
        }
      },
      "cell_type": "code",
      "source": [
        "project_facility_table = pd.crosstab(project_facility['project_id'], project_facility['facility_id'], rownames=['project_id'], colnames=['facility_id'])\n",
        "print(project_facility_table.index)\n",
        "project_facility_table.head()"
      ],
      "execution_count": 7,
      "outputs": [
        {
          "output_type": "stream",
          "text": [
            "Int64Index([   4,   24,   29,   41,   44,   45,   73,   95,  115,  133,\n",
            "            ...\n",
            "            9522, 9524, 9525, 9526, 9527, 9531, 9532, 9534, 9536, 9541],\n",
            "           dtype='int64', name='project_id', length=5039)\n"
          ],
          "name": "stdout"
        },
        {
          "output_type": "execute_result",
          "data": {
            "text/html": [
              "<div>\n",
              "<style scoped>\n",
              "    .dataframe tbody tr th:only-of-type {\n",
              "        vertical-align: middle;\n",
              "    }\n",
              "\n",
              "    .dataframe tbody tr th {\n",
              "        vertical-align: top;\n",
              "    }\n",
              "\n",
              "    .dataframe thead th {\n",
              "        text-align: right;\n",
              "    }\n",
              "</style>\n",
              "<table border=\"1\" class=\"dataframe\">\n",
              "  <thead>\n",
              "    <tr style=\"text-align: right;\">\n",
              "      <th>facility_id</th>\n",
              "      <th>1</th>\n",
              "      <th>2</th>\n",
              "      <th>3</th>\n",
              "      <th>4</th>\n",
              "      <th>5</th>\n",
              "      <th>6</th>\n",
              "    </tr>\n",
              "    <tr>\n",
              "      <th>project_id</th>\n",
              "      <th></th>\n",
              "      <th></th>\n",
              "      <th></th>\n",
              "      <th></th>\n",
              "      <th></th>\n",
              "      <th></th>\n",
              "    </tr>\n",
              "  </thead>\n",
              "  <tbody>\n",
              "    <tr>\n",
              "      <th>4</th>\n",
              "      <td>1</td>\n",
              "      <td>0</td>\n",
              "      <td>1</td>\n",
              "      <td>1</td>\n",
              "      <td>1</td>\n",
              "      <td>0</td>\n",
              "    </tr>\n",
              "    <tr>\n",
              "      <th>24</th>\n",
              "      <td>0</td>\n",
              "      <td>0</td>\n",
              "      <td>1</td>\n",
              "      <td>1</td>\n",
              "      <td>0</td>\n",
              "      <td>1</td>\n",
              "    </tr>\n",
              "    <tr>\n",
              "      <th>29</th>\n",
              "      <td>0</td>\n",
              "      <td>0</td>\n",
              "      <td>0</td>\n",
              "      <td>0</td>\n",
              "      <td>1</td>\n",
              "      <td>0</td>\n",
              "    </tr>\n",
              "    <tr>\n",
              "      <th>41</th>\n",
              "      <td>1</td>\n",
              "      <td>1</td>\n",
              "      <td>0</td>\n",
              "      <td>1</td>\n",
              "      <td>0</td>\n",
              "      <td>1</td>\n",
              "    </tr>\n",
              "    <tr>\n",
              "      <th>44</th>\n",
              "      <td>1</td>\n",
              "      <td>0</td>\n",
              "      <td>1</td>\n",
              "      <td>0</td>\n",
              "      <td>0</td>\n",
              "      <td>0</td>\n",
              "    </tr>\n",
              "  </tbody>\n",
              "</table>\n",
              "</div>"
            ],
            "text/plain": [
              "facility_id  1  2  3  4  5  6\n",
              "project_id                   \n",
              "4            1  0  1  1  1  0\n",
              "24           0  0  1  1  0  1\n",
              "29           0  0  0  0  1  0\n",
              "41           1  1  0  1  0  1\n",
              "44           1  0  1  0  0  0"
            ]
          },
          "metadata": {
            "tags": []
          },
          "execution_count": 7
        }
      ]
    },
    {
      "metadata": {
        "id": "SuOjAgoWQC93",
        "colab_type": "text"
      },
      "cell_type": "markdown",
      "source": [
        "## TODO#5: กำจัดข้อมูลที่ใช้ไม่ได้ ออกไป เลือกใช้แต่ข้อมูลที่ครบ\n",
        "\n",
        "เราจำเป็นต้องแยกข้อมูลให้เหลือ project ที่มีข้อมูลครบ เท่านั้น  เราสามารถใช้ [pandas.DataFrame.isin](https://pandas.pydata.org/pandas-docs/stable/reference/api/pandas.DataFrame.isin.html) เพื่อช่วยในการหา วา่มีข้อมูลร่วมกันได้ในการแยกข้แมูลออกมา"
      ]
    },
    {
      "metadata": {
        "id": "DH_JZKdcc4ll",
        "colab_type": "code",
        "outputId": "16f1c5e6-8111-4904-8f63-6fcb9a339e77",
        "colab": {
          "base_uri": "https://localhost:8080/",
          "height": 269
        }
      },
      "cell_type": "code",
      "source": [
        "\n",
        "\n",
        "project_facility_table = project_facility_table.loc[project_facility_table.index.isin(project_main['project_id'])]\n",
        "project_main = project_main.loc[project_main['project_id'].isin(project_facility_table.index.astype(int))]\n",
        "project_main = project_main.sort_values('project_id')\n",
        "print(project_facility_table.shape)\n",
        "print(project_main.shape)\n",
        "project_facility_table.head()"
      ],
      "execution_count": 8,
      "outputs": [
        {
          "output_type": "stream",
          "text": [
            "(1697, 6)\n",
            "(1697, 16)\n"
          ],
          "name": "stdout"
        },
        {
          "output_type": "execute_result",
          "data": {
            "text/html": [
              "<div>\n",
              "<style scoped>\n",
              "    .dataframe tbody tr th:only-of-type {\n",
              "        vertical-align: middle;\n",
              "    }\n",
              "\n",
              "    .dataframe tbody tr th {\n",
              "        vertical-align: top;\n",
              "    }\n",
              "\n",
              "    .dataframe thead th {\n",
              "        text-align: right;\n",
              "    }\n",
              "</style>\n",
              "<table border=\"1\" class=\"dataframe\">\n",
              "  <thead>\n",
              "    <tr style=\"text-align: right;\">\n",
              "      <th>facility_id</th>\n",
              "      <th>1</th>\n",
              "      <th>2</th>\n",
              "      <th>3</th>\n",
              "      <th>4</th>\n",
              "      <th>5</th>\n",
              "      <th>6</th>\n",
              "    </tr>\n",
              "    <tr>\n",
              "      <th>project_id</th>\n",
              "      <th></th>\n",
              "      <th></th>\n",
              "      <th></th>\n",
              "      <th></th>\n",
              "      <th></th>\n",
              "      <th></th>\n",
              "    </tr>\n",
              "  </thead>\n",
              "  <tbody>\n",
              "    <tr>\n",
              "      <th>24</th>\n",
              "      <td>0</td>\n",
              "      <td>0</td>\n",
              "      <td>1</td>\n",
              "      <td>1</td>\n",
              "      <td>0</td>\n",
              "      <td>1</td>\n",
              "    </tr>\n",
              "    <tr>\n",
              "      <th>44</th>\n",
              "      <td>1</td>\n",
              "      <td>0</td>\n",
              "      <td>1</td>\n",
              "      <td>0</td>\n",
              "      <td>0</td>\n",
              "      <td>0</td>\n",
              "    </tr>\n",
              "    <tr>\n",
              "      <th>45</th>\n",
              "      <td>0</td>\n",
              "      <td>1</td>\n",
              "      <td>1</td>\n",
              "      <td>1</td>\n",
              "      <td>1</td>\n",
              "      <td>0</td>\n",
              "    </tr>\n",
              "    <tr>\n",
              "      <th>95</th>\n",
              "      <td>1</td>\n",
              "      <td>0</td>\n",
              "      <td>0</td>\n",
              "      <td>0</td>\n",
              "      <td>0</td>\n",
              "      <td>0</td>\n",
              "    </tr>\n",
              "    <tr>\n",
              "      <th>133</th>\n",
              "      <td>1</td>\n",
              "      <td>0</td>\n",
              "      <td>1</td>\n",
              "      <td>0</td>\n",
              "      <td>1</td>\n",
              "      <td>0</td>\n",
              "    </tr>\n",
              "  </tbody>\n",
              "</table>\n",
              "</div>"
            ],
            "text/plain": [
              "facility_id  1  2  3  4  5  6\n",
              "project_id                   \n",
              "24           0  0  1  1  0  1\n",
              "44           1  0  1  0  0  0\n",
              "45           0  1  1  1  1  0\n",
              "95           1  0  0  0  0  0\n",
              "133          1  0  1  0  1  0"
            ]
          },
          "metadata": {
            "tags": []
          },
          "execution_count": 8
        }
      ]
    },
    {
      "metadata": {
        "id": "kXbSDY3lxdZC",
        "colab_type": "code",
        "outputId": "5e85c020-bc2c-43be-e40e-09c5861bb13d",
        "colab": {
          "base_uri": "https://localhost:8080/",
          "height": 309
        }
      },
      "cell_type": "code",
      "source": [
        "project_main.head()"
      ],
      "execution_count": 9,
      "outputs": [
        {
          "output_type": "execute_result",
          "data": {
            "text/html": [
              "<div>\n",
              "<style scoped>\n",
              "    .dataframe tbody tr th:only-of-type {\n",
              "        vertical-align: middle;\n",
              "    }\n",
              "\n",
              "    .dataframe tbody tr th {\n",
              "        vertical-align: top;\n",
              "    }\n",
              "\n",
              "    .dataframe thead th {\n",
              "        text-align: right;\n",
              "    }\n",
              "</style>\n",
              "<table border=\"1\" class=\"dataframe\">\n",
              "  <thead>\n",
              "    <tr style=\"text-align: right;\">\n",
              "      <th></th>\n",
              "      <th>project_id</th>\n",
              "      <th>developer_id</th>\n",
              "      <th>brand_id</th>\n",
              "      <th>project_name_th</th>\n",
              "      <th>project_name_en</th>\n",
              "      <th>district_id</th>\n",
              "      <th>province_id</th>\n",
              "      <th>lat</th>\n",
              "      <th>lon</th>\n",
              "      <th>project_land_size_rai</th>\n",
              "      <th>total_unit</th>\n",
              "      <th>percent_car_parking</th>\n",
              "      <th>starting_price</th>\n",
              "      <th>highest_price</th>\n",
              "      <th>project_status</th>\n",
              "      <th>created_at</th>\n",
              "    </tr>\n",
              "  </thead>\n",
              "  <tbody>\n",
              "    <tr>\n",
              "      <th>1</th>\n",
              "      <td>24</td>\n",
              "      <td>1032</td>\n",
              "      <td>0.0</td>\n",
              "      <td>สัมมากร นิมิตใหม่</td>\n",
              "      <td>Sammakorn Nimitmai</td>\n",
              "      <td>1046.0</td>\n",
              "      <td>10</td>\n",
              "      <td>13.876590</td>\n",
              "      <td>100.731927</td>\n",
              "      <td>154</td>\n",
              "      <td>NaN</td>\n",
              "      <td>NaN</td>\n",
              "      <td>4590000.0</td>\n",
              "      <td>NaN</td>\n",
              "      <td>0.0</td>\n",
              "      <td>2011-02-24T21:43:59.297+0700</td>\n",
              "    </tr>\n",
              "    <tr>\n",
              "      <th>0</th>\n",
              "      <td>44</td>\n",
              "      <td>140786</td>\n",
              "      <td>0.0</td>\n",
              "      <td>พาร์ควิลล์ 3</td>\n",
              "      <td>Parkville 3</td>\n",
              "      <td>1046.0</td>\n",
              "      <td>10</td>\n",
              "      <td>13.891719</td>\n",
              "      <td>100.722099</td>\n",
              "      <td>54</td>\n",
              "      <td>NaN</td>\n",
              "      <td>NaN</td>\n",
              "      <td>3500000.0</td>\n",
              "      <td>3862000.0</td>\n",
              "      <td>1.0</td>\n",
              "      <td>2011-01-14T18:40:12.117+0700</td>\n",
              "    </tr>\n",
              "    <tr>\n",
              "      <th>164</th>\n",
              "      <td>45</td>\n",
              "      <td>2840</td>\n",
              "      <td>0.0</td>\n",
              "      <td>พาร์คเวย์ ชาเล่ต์</td>\n",
              "      <td>parkway chalet</td>\n",
              "      <td>1010.0</td>\n",
              "      <td>10</td>\n",
              "      <td>13.803465</td>\n",
              "      <td>100.727406</td>\n",
              "      <td>87</td>\n",
              "      <td>NaN</td>\n",
              "      <td>NaN</td>\n",
              "      <td>5500000.0</td>\n",
              "      <td>NaN</td>\n",
              "      <td>0.0</td>\n",
              "      <td>2011-03-28T23:27:08.833+0700</td>\n",
              "    </tr>\n",
              "    <tr>\n",
              "      <th>172</th>\n",
              "      <td>95</td>\n",
              "      <td>2730</td>\n",
              "      <td>NaN</td>\n",
              "      <td>อารีน่า พาร์ค ชวนชื่น ซิตี้</td>\n",
              "      <td>NaN</td>\n",
              "      <td>1005.0</td>\n",
              "      <td>10</td>\n",
              "      <td>13.859276</td>\n",
              "      <td>100.665287</td>\n",
              "      <td>79</td>\n",
              "      <td>NaN</td>\n",
              "      <td>NaN</td>\n",
              "      <td>2000000.0</td>\n",
              "      <td>5000000.0</td>\n",
              "      <td>0.0</td>\n",
              "      <td>2007-04-18T23:02:22.000+0700</td>\n",
              "    </tr>\n",
              "    <tr>\n",
              "      <th>185</th>\n",
              "      <td>133</td>\n",
              "      <td>6772</td>\n",
              "      <td>538.0</td>\n",
              "      <td>เค.ซี.เลควิว</td>\n",
              "      <td>K.C. LAKEVIEW</td>\n",
              "      <td>1044.0</td>\n",
              "      <td>10</td>\n",
              "      <td>13.759440</td>\n",
              "      <td>100.679230</td>\n",
              "      <td>60</td>\n",
              "      <td>NaN</td>\n",
              "      <td>NaN</td>\n",
              "      <td>11000000.0</td>\n",
              "      <td>NaN</td>\n",
              "      <td>1.0</td>\n",
              "      <td>2011-01-14T18:42:51.630+0700</td>\n",
              "    </tr>\n",
              "  </tbody>\n",
              "</table>\n",
              "</div>"
            ],
            "text/plain": [
              "     project_id  developer_id  brand_id              project_name_th  \\\n",
              "1            24          1032       0.0            สัมมากร นิมิตใหม่   \n",
              "0            44        140786       0.0                 พาร์ควิลล์ 3   \n",
              "164          45          2840       0.0            พาร์คเวย์ ชาเล่ต์   \n",
              "172          95          2730       NaN  อารีน่า พาร์ค ชวนชื่น ซิตี้   \n",
              "185         133          6772     538.0                 เค.ซี.เลควิว   \n",
              "\n",
              "        project_name_en  district_id  province_id        lat         lon  \\\n",
              "1    Sammakorn Nimitmai       1046.0           10  13.876590  100.731927   \n",
              "0           Parkville 3       1046.0           10  13.891719  100.722099   \n",
              "164      parkway chalet       1010.0           10  13.803465  100.727406   \n",
              "172                 NaN       1005.0           10  13.859276  100.665287   \n",
              "185       K.C. LAKEVIEW       1044.0           10  13.759440  100.679230   \n",
              "\n",
              "     project_land_size_rai  total_unit  percent_car_parking  starting_price  \\\n",
              "1                      154         NaN                  NaN       4590000.0   \n",
              "0                       54         NaN                  NaN       3500000.0   \n",
              "164                     87         NaN                  NaN       5500000.0   \n",
              "172                     79         NaN                  NaN       2000000.0   \n",
              "185                     60         NaN                  NaN      11000000.0   \n",
              "\n",
              "     highest_price  project_status                    created_at  \n",
              "1              NaN             0.0  2011-02-24T21:43:59.297+0700  \n",
              "0        3862000.0             1.0  2011-01-14T18:40:12.117+0700  \n",
              "164            NaN             0.0  2011-03-28T23:27:08.833+0700  \n",
              "172      5000000.0             0.0  2007-04-18T23:02:22.000+0700  \n",
              "185            NaN             1.0  2011-01-14T18:42:51.630+0700  "
            ]
          },
          "metadata": {
            "tags": []
          },
          "execution_count": 9
        }
      ]
    },
    {
      "metadata": {
        "id": "SLgCn82OzrQc",
        "colab_type": "text"
      },
      "cell_type": "markdown",
      "source": [
        "## TODO#6: ลองดูข้อมูล จาก user log \n",
        "\n",
        "\n",
        "\n",
        "ลอง check ข้อมูลของ log data "
      ]
    },
    {
      "metadata": {
        "id": "ksRpe8e2ajVa",
        "colab_type": "code",
        "outputId": "7cc94fd9-0738-4d02-89fd-4fa35dba935f",
        "colab": {
          "base_uri": "https://localhost:8080/",
          "height": 238
        }
      },
      "cell_type": "code",
      "source": [
        "# care values province_id\n",
        "# we use only bangkok  province_id = 10 \n",
        "### load data ###############################################################################\n",
        "print('userLog')\n",
        "userLog = readDataFromDrive_HDT_single_col('19sNUEOYeqU33EWBMRKq65YydpgLQoppZ') \n",
        "userLog.head()\n"
      ],
      "execution_count": 10,
      "outputs": [
        {
          "output_type": "stream",
          "text": [
            "userLog\n",
            "#########################################################################################################################\n"
          ],
          "name": "stdout"
        },
        {
          "output_type": "execute_result",
          "data": {
            "text/html": [
              "<div>\n",
              "<style scoped>\n",
              "    .dataframe tbody tr th:only-of-type {\n",
              "        vertical-align: middle;\n",
              "    }\n",
              "\n",
              "    .dataframe tbody tr th {\n",
              "        vertical-align: top;\n",
              "    }\n",
              "\n",
              "    .dataframe thead th {\n",
              "        text-align: right;\n",
              "    }\n",
              "</style>\n",
              "<table border=\"1\" class=\"dataframe\">\n",
              "  <thead>\n",
              "    <tr style=\"text-align: right;\">\n",
              "      <th></th>\n",
              "      <th>userCode</th>\n",
              "      <th>project_id</th>\n",
              "      <th>requestedDevice</th>\n",
              "      <th>userAgent</th>\n",
              "      <th>pageReferrer</th>\n",
              "      <th>year</th>\n",
              "      <th>month</th>\n",
              "      <th>day</th>\n",
              "      <th>hour</th>\n",
              "    </tr>\n",
              "  </thead>\n",
              "  <tbody>\n",
              "    <tr>\n",
              "      <th>0</th>\n",
              "      <td>7717bdc2-ea3e-e8ad-5d6b-178bd71c38b2</td>\n",
              "      <td>7956</td>\n",
              "      <td>Mobile</td>\n",
              "      <td>Android</td>\n",
              "      <td>HomeWebsite</td>\n",
              "      <td>2018</td>\n",
              "      <td>1</td>\n",
              "      <td>1</td>\n",
              "      <td>0</td>\n",
              "    </tr>\n",
              "    <tr>\n",
              "      <th>1</th>\n",
              "      <td>7717bdc2-ea3e-e8ad-5d6b-178bd71c38b2</td>\n",
              "      <td>7956</td>\n",
              "      <td>Mobile</td>\n",
              "      <td>Android</td>\n",
              "      <td>HomeWebsite</td>\n",
              "      <td>2018</td>\n",
              "      <td>1</td>\n",
              "      <td>1</td>\n",
              "      <td>0</td>\n",
              "    </tr>\n",
              "    <tr>\n",
              "      <th>2</th>\n",
              "      <td>cb5b4b68-cc01-6db6-f54b-4a0f881301c5</td>\n",
              "      <td>5067</td>\n",
              "      <td>Mobile</td>\n",
              "      <td>iPhone</td>\n",
              "      <td>HomeWebsite</td>\n",
              "      <td>2018</td>\n",
              "      <td>1</td>\n",
              "      <td>1</td>\n",
              "      <td>0</td>\n",
              "    </tr>\n",
              "    <tr>\n",
              "      <th>3</th>\n",
              "      <td>5f74cef2-0d1e-b619-3564-0955a14e0985</td>\n",
              "      <td>6654</td>\n",
              "      <td>Mobile</td>\n",
              "      <td>iPhone</td>\n",
              "      <td>Google</td>\n",
              "      <td>2018</td>\n",
              "      <td>1</td>\n",
              "      <td>1</td>\n",
              "      <td>0</td>\n",
              "    </tr>\n",
              "    <tr>\n",
              "      <th>4</th>\n",
              "      <td>dba8f279-844e-eef6-73ac-22bd7d1353cc</td>\n",
              "      <td>6474</td>\n",
              "      <td>Mobile</td>\n",
              "      <td>iPad</td>\n",
              "      <td>Google</td>\n",
              "      <td>2018</td>\n",
              "      <td>1</td>\n",
              "      <td>1</td>\n",
              "      <td>0</td>\n",
              "    </tr>\n",
              "  </tbody>\n",
              "</table>\n",
              "</div>"
            ],
            "text/plain": [
              "                               userCode  project_id requestedDevice userAgent  \\\n",
              "0  7717bdc2-ea3e-e8ad-5d6b-178bd71c38b2        7956          Mobile   Android   \n",
              "1  7717bdc2-ea3e-e8ad-5d6b-178bd71c38b2        7956          Mobile   Android   \n",
              "2  cb5b4b68-cc01-6db6-f54b-4a0f881301c5        5067          Mobile    iPhone   \n",
              "3  5f74cef2-0d1e-b619-3564-0955a14e0985        6654          Mobile    iPhone   \n",
              "4  dba8f279-844e-eef6-73ac-22bd7d1353cc        6474          Mobile      iPad   \n",
              "\n",
              "  pageReferrer  year  month  day  hour  \n",
              "0  HomeWebsite  2018      1    1     0  \n",
              "1  HomeWebsite  2018      1    1     0  \n",
              "2  HomeWebsite  2018      1    1     0  \n",
              "3       Google  2018      1    1     0  \n",
              "4       Google  2018      1    1     0  "
            ]
          },
          "metadata": {
            "tags": []
          },
          "execution_count": 10
        }
      ]
    },
    {
      "metadata": {
        "id": "w8H0tzGfxnnq",
        "colab_type": "code",
        "outputId": "b63362af-be50-4759-9131-a9a00b728fdf",
        "colab": {
          "base_uri": "https://localhost:8080/",
          "height": 34
        }
      },
      "cell_type": "code",
      "source": [
        "print(userLog.shape)\n"
      ],
      "execution_count": 11,
      "outputs": [
        {
          "output_type": "stream",
          "text": [
            "(1234579, 9)\n"
          ],
          "name": "stdout"
        }
      ]
    },
    {
      "metadata": {
        "id": "jFlYQc7mnuoM",
        "colab_type": "code",
        "outputId": "08081df1-a774-47f5-902a-432cc0b2545b",
        "colab": {
          "base_uri": "https://localhost:8080/",
          "height": 34
        }
      },
      "cell_type": "code",
      "source": [
        "print(userLog.loc[userLog['project_id'].isin(project_facility_table.index.astype(int))].shape)\n",
        "userLog = userLog.loc[userLog['project_id'].isin(project_facility_table.index.astype(int))]"
      ],
      "execution_count": 12,
      "outputs": [
        {
          "output_type": "stream",
          "text": [
            "(405448, 9)\n"
          ],
          "name": "stdout"
        }
      ]
    },
    {
      "metadata": {
        "id": "U4h3JYoIXFsc",
        "colab_type": "text"
      },
      "cell_type": "markdown",
      "source": [
        "## TODO#7: ข้อมูล histrogram ของตัว user และ project ที่ user ดู\n",
        "\n",
        "จง check ดูความบ่อยของการใช้ user และ plot histogram ออกมา"
      ]
    },
    {
      "metadata": {
        "id": "p8CWwKunxf47",
        "colab_type": "code",
        "outputId": "6c209b49-8f75-4071-8157-7ab9393edbbc",
        "colab": {
          "base_uri": "https://localhost:8080/",
          "height": 34
        }
      },
      "cell_type": "code",
      "source": [
        "userLog_freq_user = userLog['userCode'].value_counts()\n",
        "userLog_freq_user_np  = np.array(userLog_freq_user.values)\n",
        "userLog_freq_proj = userLog['project_id'].value_counts()\n",
        "userLog_freq_proj_np = np.array(userLog_freq_proj.values)\n",
        "print(userLog_freq_user_np.shape)"
      ],
      "execution_count": 13,
      "outputs": [
        {
          "output_type": "stream",
          "text": [
            "(175127,)\n"
          ],
          "name": "stdout"
        }
      ]
    },
    {
      "metadata": {
        "id": "5ClYwT6z0jQb",
        "colab_type": "text"
      },
      "cell_type": "markdown",
      "source": [
        "จงแสดง histogram ของความถี่ของ user และ ใช้ pd.head() เพื่อดูค่าช่วงต้นๆ ของ histogram"
      ]
    },
    {
      "metadata": {
        "id": "Bo48mxtHg_Y3",
        "colab_type": "code",
        "outputId": "19ce7211-d6bf-4282-e66e-40d8b84c644d",
        "colab": {
          "base_uri": "https://localhost:8080/",
          "height": 34
        }
      },
      "cell_type": "code",
      "source": [
        "print(userLog_freq_proj.shape)"
      ],
      "execution_count": 15,
      "outputs": [
        {
          "output_type": "stream",
          "text": [
            "(1685,)\n"
          ],
          "name": "stdout"
        }
      ]
    },
    {
      "metadata": {
        "id": "SpLLzClQDXEC",
        "colab_type": "code",
        "colab": {
          "base_uri": "https://localhost:8080/",
          "height": 347
        },
        "outputId": "83509435-e006-4e8b-f02b-d77d31087989"
      },
      "cell_type": "code",
      "source": [
        "n, bins, patches = plt.hist(userLog_freq_user_np, 50, density=True, facecolor='g', alpha=0.75)\n",
        "plt.show()"
      ],
      "execution_count": 18,
      "outputs": [
        {
          "output_type": "display_data",
          "data": {
            "image/png": "[encoded data removed]",
            "text/plain": [
              "<Figure size 576x396 with 1 Axes>"
            ]
          },
          "metadata": {
            "tags": []
          }
        }
      ]
    },
    {
      "metadata": {
        "id": "owLV1wxP00yX",
        "colab_type": "text"
      },
      "cell_type": "markdown",
      "source": [
        "## TODO#8: จงหาค่า medium และ mode ของ ความถี่ในการเข้าใช้ ของ user\n",
        "จากค่าที่พิจารณา  จงหา mode "
      ]
    },
    {
      "metadata": {
        "id": "zikNtaP2hzpF",
        "colab_type": "code",
        "outputId": "edf7b997-7d04-4fa5-a611-6de04f32325f",
        "colab": {
          "base_uri": "https://localhost:8080/",
          "height": 51
        }
      },
      "cell_type": "code",
      "source": [
        "print(mode(userLog_freq_user_np))\n",
        "print(np.percentile(userLog_freq_user_np, 95))\n",
        "#print('++++++++++++++++++++++++++++++++++++++++++')\n",
        "#print(mode(userLog_freq_proj_np))\n",
        "#print(np.percentile(userLog_freq_proj_np, 95))"
      ],
      "execution_count": 17,
      "outputs": [
        {
          "output_type": "stream",
          "text": [
            "ModeResult(mode=array([1]), count=array([110653]))\n",
            "7.0\n"
          ],
          "name": "stdout"
        }
      ]
    },
    {
      "metadata": {
        "id": "6Gs-cYCCNW9u",
        "colab_type": "text"
      },
      "cell_type": "markdown",
      "source": [
        "## TODO#9: \n",
        "\n",
        "จากกราฟ histogram ที่ได้ละ ค่า mode medium และ ค่าสูงสุดที่ user ใช้ จงบอกปัญหาของข้อมูล ของ userlog ว่าเกิดอะไรขึ้น\n",
        "\n",
        "เขียนคำตอบ :"
      ]
    },
    {
      "metadata": {
        "id": "sID5iCeEEbvg",
        "colab_type": "text"
      },
      "cell_type": "markdown",
      "source": [
        ""
      ]
    },
    {
      "metadata": {
        "id": "n9qIvS-GOV4L",
        "colab_type": "text"
      },
      "cell_type": "markdown",
      "source": [
        "## TODO#10: \n",
        "\n",
        "จะสังเกตว่าค่า ของ histogram user นั้นมี user ประหลาดอยู่ดังนั้น เราจะกำลังข้อมูลที่ไม่ดีออกไป โดยการตัด เปอร์เซ็นไทน์ 90 ของการใช้ของ user\n",
        "\n",
        "สามารถใช้  [numpy.percentile](https://docs.scipy.org/doc/numpy-1.15.0/reference/generated/numpy.percentile.html) ช่วยได้\n",
        "\n",
        "ดึงค่า pd.index ออกมา\n",
        "\n"
      ]
    },
    {
      "metadata": {
        "id": "FhAX6jKbz7cB",
        "colab_type": "code",
        "outputId": "866bfd0c-29fb-4db9-ab2f-b0c6b9a207c2",
        "colab": {
          "base_uri": "https://localhost:8080/",
          "height": 68
        }
      },
      "cell_type": "code",
      "source": [
        "print(np.percentile(userLog_freq_user_np, 90))\n",
        "normal_user = userLog_freq_user.loc[userLog_freq_user <= np.percentile(userLog_freq_user_np, 90) ].index\n",
        "print(normal_user.shape)\n",
        "userLog = userLog.loc[userLog['userCode'].isin(normal_user)]\n",
        "userLog.shape"
      ],
      "execution_count": 19,
      "outputs": [
        {
          "output_type": "stream",
          "text": [
            "4.0\n",
            "(159660,)\n"
          ],
          "name": "stdout"
        },
        {
          "output_type": "execute_result",
          "data": {
            "text/plain": [
              "(234883, 9)"
            ]
          },
          "metadata": {
            "tags": []
          },
          "execution_count": 19
        }
      ]
    },
    {
      "metadata": {
        "id": "AoYlXdjgB5cX",
        "colab_type": "text"
      },
      "cell_type": "markdown",
      "source": [
        "clear to top project"
      ]
    },
    {
      "metadata": {
        "id": "VCGqFk3V09GG",
        "colab_type": "code",
        "outputId": "97dcbc2d-2d20-4a56-ffeb-f27174d21250",
        "colab": {
          "base_uri": "https://localhost:8080/",
          "height": 272
        }
      },
      "cell_type": "code",
      "source": [
        "# we use only 1000 project to compute fast\n",
        "top_percentile = 100 - (1000*100/userLog_freq_proj.shape[0])\n",
        "print(top_percentile)\n",
        "print(np.percentile(userLog_freq_proj_np, top_percentile))\n",
        "proj_top = userLog_freq_proj.loc[ userLog_freq_proj >= np.percentile(userLog_freq_proj_np, top_percentile) ].index\n",
        "print(proj_top.shape)\n",
        "\n",
        "# print(proj_top)\n",
        "userLog = userLog.loc[userLog['project_id'].isin(proj_top)]\n",
        "print(userLog.shape)\n",
        "userLog.head()\n"
      ],
      "execution_count": 20,
      "outputs": [
        {
          "output_type": "stream",
          "text": [
            "40.652818991097924\n",
            "86.593471810089\n",
            "(1000,)\n",
            "(221193, 9)\n"
          ],
          "name": "stdout"
        },
        {
          "output_type": "execute_result",
          "data": {
            "text/html": [
              "<div>\n",
              "<style scoped>\n",
              "    .dataframe tbody tr th:only-of-type {\n",
              "        vertical-align: middle;\n",
              "    }\n",
              "\n",
              "    .dataframe tbody tr th {\n",
              "        vertical-align: top;\n",
              "    }\n",
              "\n",
              "    .dataframe thead th {\n",
              "        text-align: right;\n",
              "    }\n",
              "</style>\n",
              "<table border=\"1\" class=\"dataframe\">\n",
              "  <thead>\n",
              "    <tr style=\"text-align: right;\">\n",
              "      <th></th>\n",
              "      <th>userCode</th>\n",
              "      <th>project_id</th>\n",
              "      <th>requestedDevice</th>\n",
              "      <th>userAgent</th>\n",
              "      <th>pageReferrer</th>\n",
              "      <th>year</th>\n",
              "      <th>month</th>\n",
              "      <th>day</th>\n",
              "      <th>hour</th>\n",
              "    </tr>\n",
              "  </thead>\n",
              "  <tbody>\n",
              "    <tr>\n",
              "      <th>8</th>\n",
              "      <td>9794fe34-fb0f-4242-8a35-7610cb1e0ee8</td>\n",
              "      <td>9323</td>\n",
              "      <td>Mobile</td>\n",
              "      <td>iPad</td>\n",
              "      <td>Facebook</td>\n",
              "      <td>2018</td>\n",
              "      <td>1</td>\n",
              "      <td>1</td>\n",
              "      <td>0</td>\n",
              "    </tr>\n",
              "    <tr>\n",
              "      <th>10</th>\n",
              "      <td>9794fe34-fb0f-4242-8a35-7610cb1e0ee8</td>\n",
              "      <td>9323</td>\n",
              "      <td>Mobile</td>\n",
              "      <td>iPad</td>\n",
              "      <td>HomeWebsite</td>\n",
              "      <td>2018</td>\n",
              "      <td>1</td>\n",
              "      <td>1</td>\n",
              "      <td>0</td>\n",
              "    </tr>\n",
              "    <tr>\n",
              "      <th>12</th>\n",
              "      <td>5badf2de-4bc2-c66b-64fd-13184832dfa0</td>\n",
              "      <td>2560</td>\n",
              "      <td>Desktop</td>\n",
              "      <td>Windows</td>\n",
              "      <td>Google</td>\n",
              "      <td>2018</td>\n",
              "      <td>1</td>\n",
              "      <td>1</td>\n",
              "      <td>0</td>\n",
              "    </tr>\n",
              "    <tr>\n",
              "      <th>14</th>\n",
              "      <td>67134749-f09c-747e-777c-59d7cba5e179</td>\n",
              "      <td>4201</td>\n",
              "      <td>Mobile</td>\n",
              "      <td>iPhone</td>\n",
              "      <td>Other_PageReferer</td>\n",
              "      <td>2018</td>\n",
              "      <td>1</td>\n",
              "      <td>1</td>\n",
              "      <td>0</td>\n",
              "    </tr>\n",
              "    <tr>\n",
              "      <th>15</th>\n",
              "      <td>a9edf492-d59f-874b-88ab-a729bacef361</td>\n",
              "      <td>3860</td>\n",
              "      <td>Mobile</td>\n",
              "      <td>iPhone</td>\n",
              "      <td>Google</td>\n",
              "      <td>2018</td>\n",
              "      <td>1</td>\n",
              "      <td>1</td>\n",
              "      <td>0</td>\n",
              "    </tr>\n",
              "  </tbody>\n",
              "</table>\n",
              "</div>"
            ],
            "text/plain": [
              "                                userCode  project_id requestedDevice  \\\n",
              "8   9794fe34-fb0f-4242-8a35-7610cb1e0ee8        9323          Mobile   \n",
              "10  9794fe34-fb0f-4242-8a35-7610cb1e0ee8        9323          Mobile   \n",
              "12  5badf2de-4bc2-c66b-64fd-13184832dfa0        2560         Desktop   \n",
              "14  67134749-f09c-747e-777c-59d7cba5e179        4201          Mobile   \n",
              "15  a9edf492-d59f-874b-88ab-a729bacef361        3860          Mobile   \n",
              "\n",
              "   userAgent       pageReferrer  year  month  day  hour  \n",
              "8       iPad           Facebook  2018      1    1     0  \n",
              "10      iPad        HomeWebsite  2018      1    1     0  \n",
              "12   Windows             Google  2018      1    1     0  \n",
              "14    iPhone  Other_PageReferer  2018      1    1     0  \n",
              "15    iPhone             Google  2018      1    1     0  "
            ]
          },
          "metadata": {
            "tags": []
          },
          "execution_count": 20
        }
      ]
    },
    {
      "metadata": {
        "id": "JLNjbno6kSch",
        "colab_type": "code",
        "outputId": "9967c229-987a-4d85-ad24-323975a92061",
        "colab": {
          "base_uri": "https://localhost:8080/",
          "height": 51
        }
      },
      "cell_type": "code",
      "source": [
        "## clear data \n",
        "\n",
        "project_facility_table = project_facility_table.loc[project_facility_table.index.isin(proj_top)]\n",
        "project_main = project_main.loc[project_main['project_id'].isin(proj_top)]\n",
        "\n",
        "print(project_facility_table.shape)\n",
        "print(project_main.shape)"
      ],
      "execution_count": 22,
      "outputs": [
        {
          "output_type": "stream",
          "text": [
            "(1000, 6)\n",
            "(1000, 16)\n"
          ],
          "name": "stdout"
        }
      ]
    },
    {
      "metadata": {
        "id": "VAtuG-VkPhad",
        "colab_type": "text"
      },
      "cell_type": "markdown",
      "source": [
        "เนื่องจาก ข้อมูล มีจำนวนมาก เราจะเลือกแค่ project ที่คนเข้ามาดูมากที่สุด top 1000 project มาคิดเท่านั้น"
      ]
    },
    {
      "metadata": {
        "id": "Q-6x2k2BEeo2",
        "colab_type": "text"
      },
      "cell_type": "markdown",
      "source": [
        "#optional \n",
        "\n",
        "พวกเราสามารถ filter ข้อมูลด้วยตำนวนครั้งที่เปิดขึ้นมาดูได้หรือไม่"
      ]
    },
    {
      "metadata": {
        "id": "mddaS5baEwQa",
        "colab_type": "code",
        "colab": {}
      },
      "cell_type": "code",
      "source": [
        ""
      ],
      "execution_count": 0,
      "outputs": []
    },
    {
      "metadata": {
        "id": "Rkxdaoaj-4wU",
        "colab_type": "text"
      },
      "cell_type": "markdown",
      "source": [
        "------"
      ]
    },
    {
      "metadata": {
        "id": "QTymaWEqAHhI",
        "colab_type": "text"
      },
      "cell_type": "markdown",
      "source": [
        "## TODO#11:\n",
        "\n",
        "เราจะสร้าง recommendation system ที่มี"
      ]
    },
    {
      "metadata": {
        "id": "aH99XORL_BH4",
        "colab_type": "code",
        "outputId": "e682e17f-c502-4836-de73-a0d620fdfe07",
        "colab": {
          "base_uri": "https://localhost:8080/",
          "height": 221
        }
      },
      "cell_type": "code",
      "source": [
        "#userLog.head()\n",
        "userLog_freq_day = pd.crosstab(userLog['userCode'], [userLog['year'], userLog['month'], userLog['day']], rownames =['userCode'], colnames=['year','month','day'])\n",
        "userLog_last_week  = userLog.loc[userLog['month'] == 2]\n",
        "userLog_last_week = userLog_last_week.loc[ userLog_last_week['day'] >=16]\n",
        "print(userLog_last_week.shape)\n",
        "\n",
        "userLog_last_week.head()\n"
      ],
      "execution_count": 24,
      "outputs": [
        {
          "output_type": "stream",
          "text": [
            "(30506, 9)\n"
          ],
          "name": "stdout"
        },
        {
          "output_type": "execute_result",
          "data": {
            "text/html": [
              "<div>\n",
              "<style scoped>\n",
              "    .dataframe tbody tr th:only-of-type {\n",
              "        vertical-align: middle;\n",
              "    }\n",
              "\n",
              "    .dataframe tbody tr th {\n",
              "        vertical-align: top;\n",
              "    }\n",
              "\n",
              "    .dataframe thead th {\n",
              "        text-align: right;\n",
              "    }\n",
              "</style>\n",
              "<table border=\"1\" class=\"dataframe\">\n",
              "  <thead>\n",
              "    <tr style=\"text-align: right;\">\n",
              "      <th></th>\n",
              "      <th>userCode</th>\n",
              "      <th>project_id</th>\n",
              "      <th>requestedDevice</th>\n",
              "      <th>userAgent</th>\n",
              "      <th>pageReferrer</th>\n",
              "      <th>year</th>\n",
              "      <th>month</th>\n",
              "      <th>day</th>\n",
              "      <th>hour</th>\n",
              "    </tr>\n",
              "  </thead>\n",
              "  <tbody>\n",
              "    <tr>\n",
              "      <th>1054445</th>\n",
              "      <td>69dffbf7-06c6-20e8-4332-204ceb19101f</td>\n",
              "      <td>5323</td>\n",
              "      <td>Mobile</td>\n",
              "      <td>iPhone</td>\n",
              "      <td>Facebook</td>\n",
              "      <td>2018</td>\n",
              "      <td>2</td>\n",
              "      <td>16</td>\n",
              "      <td>0</td>\n",
              "    </tr>\n",
              "    <tr>\n",
              "      <th>1054448</th>\n",
              "      <td>028f5656-3e7d-7fc0-f2c8-03e14edaaff1</td>\n",
              "      <td>8056</td>\n",
              "      <td>Mobile</td>\n",
              "      <td>iPhone</td>\n",
              "      <td>Google</td>\n",
              "      <td>2018</td>\n",
              "      <td>2</td>\n",
              "      <td>16</td>\n",
              "      <td>0</td>\n",
              "    </tr>\n",
              "    <tr>\n",
              "      <th>1054459</th>\n",
              "      <td>5756d901-f97f-fd2c-da78-1175550887ce</td>\n",
              "      <td>5176</td>\n",
              "      <td>Mobile</td>\n",
              "      <td>Android</td>\n",
              "      <td>Google</td>\n",
              "      <td>2018</td>\n",
              "      <td>2</td>\n",
              "      <td>16</td>\n",
              "      <td>0</td>\n",
              "    </tr>\n",
              "    <tr>\n",
              "      <th>1054461</th>\n",
              "      <td>21d892ae-2f92-3aa5-7614-ad071a9fd670</td>\n",
              "      <td>5202</td>\n",
              "      <td>Mobile</td>\n",
              "      <td>iPhone</td>\n",
              "      <td>Google</td>\n",
              "      <td>2018</td>\n",
              "      <td>2</td>\n",
              "      <td>16</td>\n",
              "      <td>0</td>\n",
              "    </tr>\n",
              "    <tr>\n",
              "      <th>1054464</th>\n",
              "      <td>e4f980da-c8dc-faa6-c1a1-68adce2abbd5</td>\n",
              "      <td>8935</td>\n",
              "      <td>Mobile</td>\n",
              "      <td>iPhone</td>\n",
              "      <td>Other_PageReferer</td>\n",
              "      <td>2018</td>\n",
              "      <td>2</td>\n",
              "      <td>16</td>\n",
              "      <td>0</td>\n",
              "    </tr>\n",
              "  </tbody>\n",
              "</table>\n",
              "</div>"
            ],
            "text/plain": [
              "                                     userCode  project_id requestedDevice  \\\n",
              "1054445  69dffbf7-06c6-20e8-4332-204ceb19101f        5323          Mobile   \n",
              "1054448  028f5656-3e7d-7fc0-f2c8-03e14edaaff1        8056          Mobile   \n",
              "1054459  5756d901-f97f-fd2c-da78-1175550887ce        5176          Mobile   \n",
              "1054461  21d892ae-2f92-3aa5-7614-ad071a9fd670        5202          Mobile   \n",
              "1054464  e4f980da-c8dc-faa6-c1a1-68adce2abbd5        8935          Mobile   \n",
              "\n",
              "        userAgent       pageReferrer  year  month  day  hour  \n",
              "1054445    iPhone           Facebook  2018      2   16     0  \n",
              "1054448    iPhone             Google  2018      2   16     0  \n",
              "1054459   Android             Google  2018      2   16     0  \n",
              "1054461    iPhone             Google  2018      2   16     0  \n",
              "1054464    iPhone  Other_PageReferer  2018      2   16     0  "
            ]
          },
          "metadata": {
            "tags": []
          },
          "execution_count": 24
        }
      ]
    },
    {
      "metadata": {
        "id": "sdFV-XU-NpKx",
        "colab_type": "code",
        "outputId": "32625e26-809c-4a06-803a-be8ee69e7999",
        "colab": {
          "base_uri": "https://localhost:8080/",
          "height": 364
        }
      },
      "cell_type": "code",
      "source": [
        "user_freq_last_week = userLog_last_week['userCode'].value_counts()\n",
        "user_freq_last_week_np = np.array(user_freq_last_week.values)\n",
        "\n",
        "n, bins, patches = plt.hist(user_freq_last_week_np, 100, density=True, facecolor='g', alpha=0.75)\n",
        "plt.show()\n",
        "\n",
        "print(user_freq_last_week.shape)"
      ],
      "execution_count": 25,
      "outputs": [
        {
          "output_type": "display_data",
          "data": {
            "image/png": "[encoded data removed]",
            "text/plain": [
              "<Figure size 576x396 with 1 Axes>"
            ]
          },
          "metadata": {
            "tags": []
          }
        },
        {
          "output_type": "stream",
          "text": [
            "(20384,)\n"
          ],
          "name": "stdout"
        }
      ]
    },
    {
      "metadata": {
        "id": "ed80utZ-OBhC",
        "colab_type": "code",
        "outputId": "d8574a0d-0fe1-4ec5-f4d7-8a9af78bd6f5",
        "colab": {
          "base_uri": "https://localhost:8080/",
          "height": 34
        }
      },
      "cell_type": "code",
      "source": [
        "print(user_freq_last_week.index.shape)\n"
      ],
      "execution_count": 26,
      "outputs": [
        {
          "output_type": "stream",
          "text": [
            "(20384,)\n"
          ],
          "name": "stdout"
        }
      ]
    },
    {
      "metadata": {
        "id": "5kJmcnVaP1Ol",
        "colab_type": "text"
      },
      "cell_type": "markdown",
      "source": [
        "# clear data user log"
      ]
    },
    {
      "metadata": {
        "id": "z0hlPBZ9P0mk",
        "colab_type": "code",
        "outputId": "0275a908-2aaf-4bd8-df3d-af34c52bd6fd",
        "colab": {
          "base_uri": "https://localhost:8080/",
          "height": 369
        }
      },
      "cell_type": "code",
      "source": [
        "userLog = userLog.loc[userLog['userCode'].isin(user_freq_last_week.index)]\n",
        "\n",
        "\n",
        "#freq_user_seen_proj = pd.crosstab(userLog['project_id'], userLog['userCode'], rownames=['project_id'], colnames=['userCode'])\n",
        "#freq_user_seen_proj_np = np.array(freq_user_seen_proj.values)\n",
        "\n",
        "#print(freq_user_seen_proj_np.shape)\n",
        "#print(freq_user_seen_proj.shape)\n",
        "#print(np.sum(freq_user_seen_proj_np >= 2 ))\n",
        "#freq_user_seen_proj.head()"
      ],
      "execution_count": 27,
      "outputs": [
        {
          "output_type": "stream",
          "text": [
            "(995, 20384)\n",
            "5920\n"
          ],
          "name": "stdout"
        },
        {
          "output_type": "execute_result",
          "data": {
            "text/html": [
              "<div>\n",
              "<style scoped>\n",
              "    .dataframe tbody tr th:only-of-type {\n",
              "        vertical-align: middle;\n",
              "    }\n",
              "\n",
              "    .dataframe tbody tr th {\n",
              "        vertical-align: top;\n",
              "    }\n",
              "\n",
              "    .dataframe thead th {\n",
              "        text-align: right;\n",
              "    }\n",
              "</style>\n",
              "<table border=\"1\" class=\"dataframe\">\n",
              "  <thead>\n",
              "    <tr style=\"text-align: right;\">\n",
              "      <th>userCode</th>\n",
              "      <th>0009ecb5-23d3-d9d5-16fd-6d9b39465d87</th>\n",
              "      <th>000b00a0-8fc3-1677-c405-a8389b484979</th>\n",
              "      <th>00173c21-1f39-3a33-8ceb-2cb27f83c7b7</th>\n",
              "      <th>00178175-cc2f-c739-4015-e4efc580c351</th>\n",
              "      <th>001b3ba6-b457-badf-8862-4993adfd6636</th>\n",
              "      <th>0021104b-4dd3-e74d-f553-c7e60f34a101</th>\n",
              "      <th>00276da5-0ec3-b621-60fd-03a06dabbc58</th>\n",
              "      <th>00295a38-f2c4-158c-0634-4a23ac7e5815</th>\n",
              "      <th>003409f0-6ae2-0c39-d80d-83202702736b</th>\n",
              "      <th>0039fae4-7a0c-6732-d9e3-4f430d61fb0d</th>\n",
              "      <th>...</th>\n",
              "      <th>fff21fef-89a3-815c-3b33-f0d7258f6e42</th>\n",
              "      <th>fff3a5d9-7729-662b-fcc4-4e8174143662</th>\n",
              "      <th>fff4b092-7698-c407-ce28-25cf54b6bee6</th>\n",
              "      <th>fff7d5a1-7fb2-7956-b065-51e5df8856dc</th>\n",
              "      <th>fffa3052-b2db-46e8-fc7b-d6a1a2089f4f</th>\n",
              "      <th>fffae7e0-ec5c-c757-8534-d3323fe1ecb2</th>\n",
              "      <th>fffb5c01-2c2f-5d5e-0b69-fe6369388747</th>\n",
              "      <th>fffbf8c2-f358-1baa-f668-48033dc3617a</th>\n",
              "      <th>fffbf8cb-5059-2a96-e62e-8a9953d70b7f</th>\n",
              "      <th>fffdbbd3-e949-552d-2878-faf9d7f0c463</th>\n",
              "    </tr>\n",
              "    <tr>\n",
              "      <th>project_id</th>\n",
              "      <th></th>\n",
              "      <th></th>\n",
              "      <th></th>\n",
              "      <th></th>\n",
              "      <th></th>\n",
              "      <th></th>\n",
              "      <th></th>\n",
              "      <th></th>\n",
              "      <th></th>\n",
              "      <th></th>\n",
              "      <th></th>\n",
              "      <th></th>\n",
              "      <th></th>\n",
              "      <th></th>\n",
              "      <th></th>\n",
              "      <th></th>\n",
              "      <th></th>\n",
              "      <th></th>\n",
              "      <th></th>\n",
              "      <th></th>\n",
              "      <th></th>\n",
              "    </tr>\n",
              "  </thead>\n",
              "  <tbody>\n",
              "    <tr>\n",
              "      <th>44</th>\n",
              "      <td>0</td>\n",
              "      <td>0</td>\n",
              "      <td>0</td>\n",
              "      <td>0</td>\n",
              "      <td>0</td>\n",
              "      <td>0</td>\n",
              "      <td>0</td>\n",
              "      <td>0</td>\n",
              "      <td>0</td>\n",
              "      <td>0</td>\n",
              "      <td>...</td>\n",
              "      <td>0</td>\n",
              "      <td>0</td>\n",
              "      <td>0</td>\n",
              "      <td>0</td>\n",
              "      <td>0</td>\n",
              "      <td>0</td>\n",
              "      <td>0</td>\n",
              "      <td>0</td>\n",
              "      <td>0</td>\n",
              "      <td>0</td>\n",
              "    </tr>\n",
              "    <tr>\n",
              "      <th>133</th>\n",
              "      <td>0</td>\n",
              "      <td>0</td>\n",
              "      <td>0</td>\n",
              "      <td>0</td>\n",
              "      <td>0</td>\n",
              "      <td>0</td>\n",
              "      <td>0</td>\n",
              "      <td>0</td>\n",
              "      <td>0</td>\n",
              "      <td>0</td>\n",
              "      <td>...</td>\n",
              "      <td>0</td>\n",
              "      <td>0</td>\n",
              "      <td>0</td>\n",
              "      <td>0</td>\n",
              "      <td>0</td>\n",
              "      <td>0</td>\n",
              "      <td>0</td>\n",
              "      <td>0</td>\n",
              "      <td>0</td>\n",
              "      <td>0</td>\n",
              "    </tr>\n",
              "    <tr>\n",
              "      <th>228</th>\n",
              "      <td>0</td>\n",
              "      <td>0</td>\n",
              "      <td>0</td>\n",
              "      <td>0</td>\n",
              "      <td>0</td>\n",
              "      <td>0</td>\n",
              "      <td>0</td>\n",
              "      <td>0</td>\n",
              "      <td>0</td>\n",
              "      <td>0</td>\n",
              "      <td>...</td>\n",
              "      <td>0</td>\n",
              "      <td>0</td>\n",
              "      <td>0</td>\n",
              "      <td>0</td>\n",
              "      <td>0</td>\n",
              "      <td>0</td>\n",
              "      <td>0</td>\n",
              "      <td>0</td>\n",
              "      <td>0</td>\n",
              "      <td>0</td>\n",
              "    </tr>\n",
              "    <tr>\n",
              "      <th>234</th>\n",
              "      <td>0</td>\n",
              "      <td>0</td>\n",
              "      <td>0</td>\n",
              "      <td>0</td>\n",
              "      <td>0</td>\n",
              "      <td>0</td>\n",
              "      <td>0</td>\n",
              "      <td>0</td>\n",
              "      <td>0</td>\n",
              "      <td>0</td>\n",
              "      <td>...</td>\n",
              "      <td>0</td>\n",
              "      <td>0</td>\n",
              "      <td>0</td>\n",
              "      <td>0</td>\n",
              "      <td>0</td>\n",
              "      <td>0</td>\n",
              "      <td>0</td>\n",
              "      <td>0</td>\n",
              "      <td>0</td>\n",
              "      <td>0</td>\n",
              "    </tr>\n",
              "    <tr>\n",
              "      <th>235</th>\n",
              "      <td>0</td>\n",
              "      <td>0</td>\n",
              "      <td>0</td>\n",
              "      <td>0</td>\n",
              "      <td>0</td>\n",
              "      <td>0</td>\n",
              "      <td>0</td>\n",
              "      <td>0</td>\n",
              "      <td>0</td>\n",
              "      <td>0</td>\n",
              "      <td>...</td>\n",
              "      <td>0</td>\n",
              "      <td>0</td>\n",
              "      <td>0</td>\n",
              "      <td>0</td>\n",
              "      <td>0</td>\n",
              "      <td>0</td>\n",
              "      <td>0</td>\n",
              "      <td>0</td>\n",
              "      <td>0</td>\n",
              "      <td>0</td>\n",
              "    </tr>\n",
              "  </tbody>\n",
              "</table>\n",
              "<p>5 rows × 20384 columns</p>\n",
              "</div>"
            ],
            "text/plain": [
              "userCode    0009ecb5-23d3-d9d5-16fd-6d9b39465d87  \\\n",
              "project_id                                         \n",
              "44                                             0   \n",
              "133                                            0   \n",
              "228                                            0   \n",
              "234                                            0   \n",
              "235                                            0   \n",
              "\n",
              "userCode    000b00a0-8fc3-1677-c405-a8389b484979  \\\n",
              "project_id                                         \n",
              "44                                             0   \n",
              "133                                            0   \n",
              "228                                            0   \n",
              "234                                            0   \n",
              "235                                            0   \n",
              "\n",
              "userCode    00173c21-1f39-3a33-8ceb-2cb27f83c7b7  \\\n",
              "project_id                                         \n",
              "44                                             0   \n",
              "133                                            0   \n",
              "228                                            0   \n",
              "234                                            0   \n",
              "235                                            0   \n",
              "\n",
              "userCode    00178175-cc2f-c739-4015-e4efc580c351  \\\n",
              "project_id                                         \n",
              "44                                             0   \n",
              "133                                            0   \n",
              "228                                            0   \n",
              "234                                            0   \n",
              "235                                            0   \n",
              "\n",
              "userCode    001b3ba6-b457-badf-8862-4993adfd6636  \\\n",
              "project_id                                         \n",
              "44                                             0   \n",
              "133                                            0   \n",
              "228                                            0   \n",
              "234                                            0   \n",
              "235                                            0   \n",
              "\n",
              "userCode    0021104b-4dd3-e74d-f553-c7e60f34a101  \\\n",
              "project_id                                         \n",
              "44                                             0   \n",
              "133                                            0   \n",
              "228                                            0   \n",
              "234                                            0   \n",
              "235                                            0   \n",
              "\n",
              "userCode    00276da5-0ec3-b621-60fd-03a06dabbc58  \\\n",
              "project_id                                         \n",
              "44                                             0   \n",
              "133                                            0   \n",
              "228                                            0   \n",
              "234                                            0   \n",
              "235                                            0   \n",
              "\n",
              "userCode    00295a38-f2c4-158c-0634-4a23ac7e5815  \\\n",
              "project_id                                         \n",
              "44                                             0   \n",
              "133                                            0   \n",
              "228                                            0   \n",
              "234                                            0   \n",
              "235                                            0   \n",
              "\n",
              "userCode    003409f0-6ae2-0c39-d80d-83202702736b  \\\n",
              "project_id                                         \n",
              "44                                             0   \n",
              "133                                            0   \n",
              "228                                            0   \n",
              "234                                            0   \n",
              "235                                            0   \n",
              "\n",
              "userCode    0039fae4-7a0c-6732-d9e3-4f430d61fb0d  \\\n",
              "project_id                                         \n",
              "44                                             0   \n",
              "133                                            0   \n",
              "228                                            0   \n",
              "234                                            0   \n",
              "235                                            0   \n",
              "\n",
              "userCode                    ...                   \\\n",
              "project_id                  ...                    \n",
              "44                          ...                    \n",
              "133                         ...                    \n",
              "228                         ...                    \n",
              "234                         ...                    \n",
              "235                         ...                    \n",
              "\n",
              "userCode    fff21fef-89a3-815c-3b33-f0d7258f6e42  \\\n",
              "project_id                                         \n",
              "44                                             0   \n",
              "133                                            0   \n",
              "228                                            0   \n",
              "234                                            0   \n",
              "235                                            0   \n",
              "\n",
              "userCode    fff3a5d9-7729-662b-fcc4-4e8174143662  \\\n",
              "project_id                                         \n",
              "44                                             0   \n",
              "133                                            0   \n",
              "228                                            0   \n",
              "234                                            0   \n",
              "235                                            0   \n",
              "\n",
              "userCode    fff4b092-7698-c407-ce28-25cf54b6bee6  \\\n",
              "project_id                                         \n",
              "44                                             0   \n",
              "133                                            0   \n",
              "228                                            0   \n",
              "234                                            0   \n",
              "235                                            0   \n",
              "\n",
              "userCode    fff7d5a1-7fb2-7956-b065-51e5df8856dc  \\\n",
              "project_id                                         \n",
              "44                                             0   \n",
              "133                                            0   \n",
              "228                                            0   \n",
              "234                                            0   \n",
              "235                                            0   \n",
              "\n",
              "userCode    fffa3052-b2db-46e8-fc7b-d6a1a2089f4f  \\\n",
              "project_id                                         \n",
              "44                                             0   \n",
              "133                                            0   \n",
              "228                                            0   \n",
              "234                                            0   \n",
              "235                                            0   \n",
              "\n",
              "userCode    fffae7e0-ec5c-c757-8534-d3323fe1ecb2  \\\n",
              "project_id                                         \n",
              "44                                             0   \n",
              "133                                            0   \n",
              "228                                            0   \n",
              "234                                            0   \n",
              "235                                            0   \n",
              "\n",
              "userCode    fffb5c01-2c2f-5d5e-0b69-fe6369388747  \\\n",
              "project_id                                         \n",
              "44                                             0   \n",
              "133                                            0   \n",
              "228                                            0   \n",
              "234                                            0   \n",
              "235                                            0   \n",
              "\n",
              "userCode    fffbf8c2-f358-1baa-f668-48033dc3617a  \\\n",
              "project_id                                         \n",
              "44                                             0   \n",
              "133                                            0   \n",
              "228                                            0   \n",
              "234                                            0   \n",
              "235                                            0   \n",
              "\n",
              "userCode    fffbf8cb-5059-2a96-e62e-8a9953d70b7f  \\\n",
              "project_id                                         \n",
              "44                                             0   \n",
              "133                                            0   \n",
              "228                                            0   \n",
              "234                                            0   \n",
              "235                                            0   \n",
              "\n",
              "userCode    fffdbbd3-e949-552d-2878-faf9d7f0c463  \n",
              "project_id                                        \n",
              "44                                             0  \n",
              "133                                            0  \n",
              "228                                            0  \n",
              "234                                            0  \n",
              "235                                            0  \n",
              "\n",
              "[5 rows x 20384 columns]"
            ]
          },
          "metadata": {
            "tags": []
          },
          "execution_count": 27
        }
      ]
    },
    {
      "metadata": {
        "id": "706HQn4E-5Em",
        "colab_type": "text"
      },
      "cell_type": "markdown",
      "source": [
        "------"
      ]
    },
    {
      "metadata": {
        "id": "eUvg9_n-Luxj",
        "colab_type": "text"
      },
      "cell_type": "markdown",
      "source": [
        "# split train and test set\n",
        "\n",
        "พวก เราจะใช้ user ที่มาใช้ในสัปดาห์สุดท้ายเป็น test set\n",
        "\n",
        "ที่เหลือ เป็น train set"
      ]
    },
    {
      "metadata": {
        "id": "kR5x2AvELtpK",
        "colab_type": "code",
        "colab": {
          "base_uri": "https://localhost:8080/",
          "height": 68
        },
        "outputId": "109ab285-0375-46c9-d1da-cab08580108d"
      },
      "cell_type": "code",
      "source": [
        "userLog_test = userLog.loc[userLog.index.isin(userLog_last_week.index)]\n",
        "userLog_train = userLog.loc[~userLog.index.isin(userLog_last_week.index)]\n",
        "\n",
        "print(userLog_train.shape)\n",
        "print(userLog_test.shape)"
      ],
      "execution_count": 31,
      "outputs": [
        {
          "output_type": "stream",
          "text": [
            "[False False False ...  True  True  True]\n",
            "(2428, 9)\n",
            "(30506, 9)\n"
          ],
          "name": "stdout"
        }
      ]
    },
    {
      "metadata": {
        "id": "4fmJBpKkLrGk",
        "colab_type": "text"
      },
      "cell_type": "markdown",
      "source": [
        "----"
      ]
    },
    {
      "metadata": {
        "id": "mnFbvtoizeWT",
        "colab_type": "text"
      },
      "cell_type": "markdown",
      "source": [
        "\n",
        "# TODO#11:  function to normalize data\n"
      ]
    },
    {
      "metadata": {
        "id": "gqsJzM8UpYnH",
        "colab_type": "code",
        "colab": {}
      },
      "cell_type": "code",
      "source": [
        "def normalize(x):\n",
        "  x_min = np.min(x,axis = 0)\n",
        "  x_max = np.max(x,axis = 0)\n",
        "  x_nor = (x - x_min)/ (x_max - x_min)\n",
        "  return x_nor,x_min,x_max;"
      ],
      "execution_count": 0,
      "outputs": []
    },
    {
      "metadata": {
        "id": "2gtI7xfM1joC",
        "colab_type": "text"
      },
      "cell_type": "markdown",
      "source": [
        "# recommendation system\n",
        "พวกเราจะสร้าง recomentation sys โดยเราจะใช้ NNในการสร้างขึ้นมา\n",
        "\n",
        "[Nearest Neighbors example](https://scikit-learn.org/stable/modules/neighbors.html)\n",
        "\n",
        "\n",
        "[distance function](https://scikit-learn.org/stable/modules/generated/sklearn.neighbors.DistanceMetric.html#sklearn.neighbors.DistanceMetric)"
      ]
    },
    {
      "metadata": {
        "id": "Hm2cLZ9gxoR3",
        "colab_type": "code",
        "colab": {}
      },
      "cell_type": "code",
      "source": [
        "# recommentdation system\n",
        "def feature_sel(userCode,np_proj_fea_min,np_proj_fea_max):\n",
        "  user_Log_data = userLog.loc[userLog['userCode'].isin(userCode)]\n",
        "\n",
        "  user_seen_proj = user_Log_data['project_id'].values\n",
        "\n",
        "  user_proj_far = project_facility_table.loc[project_facility_table.index.isin(user_seen_proj)]\n",
        "\n",
        "  user_proj_main = project_main.loc[project_main['project_id'].isin(user_seen_proj)]\n",
        "\n",
        "  np_data = np.hstack(( np.array(user_proj_main[[\"lat\",\"lon\",\"starting_price\"]].values) ,  np.array(user_proj_far.values) ))\n",
        "  np_data_nor = (np_data - np_proj_fea_min)/(np_proj_fea_max-np_proj_fea_min)\n",
        "  np_data_nor = np.mean(np_data_nor,axis = 0)\n",
        "  print(np_data_nor.shape)\n",
        "  return np_data_nor,user_seen_proj;"
      ],
      "execution_count": 0,
      "outputs": []
    },
    {
      "metadata": {
        "id": "j6kIcvT6q960",
        "colab_type": "text"
      },
      "cell_type": "markdown",
      "source": [
        "\n",
        "# TODO#11: \n",
        "\n",
        "run example จาก feature ที่เรากำหนด ขึ้นจากหัวข้อด้านบน\n",
        "\n"
      ]
    },
    {
      "metadata": {
        "id": "fefnFvw5xhYI",
        "colab_type": "code",
        "colab": {}
      },
      "cell_type": "code",
      "source": [
        "from sklearn.neighbors import NearestNeighbors\n",
        "import numpy as np\n",
        "nbrs_proj = NearestNeighbors(n_neighbors=5, algorithm='ball_tree').fit(project_main_np_data_nor) # metric=’minkowski’ , “jaccard”  ## jaccard use boolean\n",
        "# print(project_main_np_data_nor)\n",
        "sample_usercode = np.random.randint(userLog.shape[0],size = 1)\n",
        "print(sample_usercode)\n",
        "user_sample_code = userLog['userCode'].iloc[sample_usercode].values\n",
        "print(user_sample_code)\n",
        "user_sample_feature,user_sample_seen_proj = feature_sel(user_sample_code,project_main_np_data_min,project_main_np_data_max) # project_main_np_data_min,project_main_np_data_max\n",
        "print(user_sample_feature)\n",
        "distances, indices = nbrs_proj.kneighbors([user_sample_feature])\n",
        "\n",
        "print(indices)\n",
        "\n",
        "print(distances)\n",
        "print('----------------------------------------------------')\n"
      ],
      "execution_count": 0,
      "outputs": []
    },
    {
      "metadata": {
        "id": "EwpG4eYw6W8c",
        "colab_type": "text"
      },
      "cell_type": "markdown",
      "source": [
        "ลองสรา้ง  recommendation system จาก การดูของ user ว่า ใกล้เคียง กับ user คนไหนบ้าง และ recommend ตาม porj ที่ไม่ได้ดู\n",
        "\n",
        "แต่การสร้าง user ขึ้นมา ข้อมูลที่มีนั้นใหญ่เกินไปที่เราจะประมวลผลได้ ดังนั้น เราต้องเลือก user มา top 1000 มาเป็น exaple ที่เลือก recommend"
      ]
    },
    {
      "metadata": {
        "id": "k5tRE49vWW10",
        "colab_type": "code",
        "colab": {}
      },
      "cell_type": "code",
      "source": [
        "# use top 10000 user\n",
        "#userLog_freq_user = userLog['userCode'].value_counts()\n",
        "#top_10000 = 100 - (10000*100)/userLog_freq_user.shape[0]\n",
        "#user_top_10000 = userLog_freq_user.loc[userLog_freq_user >= np.percentile(userLog_freq_user_np, top_10000) ].index\n",
        "#print(user_top_10000)\n",
        "#\n",
        "\n",
        "freq_user_seen_proj_train = pd.crosstab(userLog_train['userCode'], userLog_train['project_id'], rownames=['userCode'], colnames=['project_id'])\n",
        "freq_user_seen_proj_train_np = np.array(freq_user_seen_proj_train.values)\n",
        "print(freq_user_seen_proj_train_np)\n",
        "print(freq_user_seen_proj_train_np.shape)\n",
        "\n",
        "freq_user_seen_proj_train.head()"
      ],
      "execution_count": 0,
      "outputs": []
    },
    {
      "metadata": {
        "id": "uidMBNYkxk_z",
        "colab_type": "code",
        "colab": {}
      },
      "cell_type": "code",
      "source": [
        "freq_user_seen_proj_test = pd.crosstab(userLog_train['userCode'], userLog_train['project_id'], rownames=['userCode'], colnames=['project_id'])\n",
        "freq_user_seen_proj_test_np = np.array(freq_user_seen_proj_test.values)\n",
        "#print(freq_user_seen_proj_test_np)\n",
        "print(freq_user_seen_proj_test_np.shape)\n",
        "\n",
        "freq_user_seen_proj_test.head()"
      ],
      "execution_count": 0,
      "outputs": []
    },
    {
      "metadata": {
        "id": "iynWysLLOpMc",
        "colab_type": "text"
      },
      "cell_type": "markdown",
      "source": [
        ""
      ]
    },
    {
      "metadata": {
        "id": "JSW_j7sIzD_c",
        "colab_type": "text"
      },
      "cell_type": "markdown",
      "source": [
        "ลองสุ่มตัวอย่างเพื่อทดสอบผลลัพธ์"
      ]
    },
    {
      "metadata": {
        "id": "TTg0OMUMtNoH",
        "colab_type": "code",
        "colab": {}
      },
      "cell_type": "code",
      "source": [
        "# normalize(x):\n",
        "\n",
        "nbrs_user = NearestNeighbors(n_neighbors= 6 , algorithm='auto',metric='jaccard' ).fit(freq_user_seen_proj_train_np >= 1)\n"
      ],
      "execution_count": 0,
      "outputs": []
    },
    {
      "metadata": {
        "id": "pZangTSgQKmx",
        "colab_type": "code",
        "colab": {}
      },
      "cell_type": "code",
      "source": [
        "distances, indices = nbrs_user.kneighbors(freq_user_seen_proj_np)\n",
        "print('index')\n",
        "print(indices[0:20])\n",
        "print('dis')\n",
        "print(distances[0:20])\n",
        "print('----------------------------------------------------')"
      ],
      "execution_count": 0,
      "outputs": []
    },
    {
      "metadata": {
        "id": "C_WaA-8d7RRs",
        "colab_type": "text"
      },
      "cell_type": "markdown",
      "source": [
        "แสดงผลการ recommendation โดยดูจากผลลัพธ์ว่าใกล้เคียงอย่างไรบ้าง"
      ]
    },
    {
      "metadata": {
        "id": "tUQi1borxp0i",
        "colab_type": "code",
        "colab": {}
      },
      "cell_type": "code",
      "source": [
        ""
      ],
      "execution_count": 0,
      "outputs": []
    },
    {
      "metadata": {
        "id": "BK-BfQMh7khs",
        "colab_type": "text"
      },
      "cell_type": "markdown",
      "source": [
        "ในการ recommendation จริงๆนั้นมีการ วัดผลการ recommend โดยใช้รูปแบบนี้เป็นหลักลองแสดงการวัดผลโดยใช้ matrix นี่ดู [Mean Average Precision](http://sdsawtelle.github.io/blog/output/mean-average-precision-MAP-for-recommender-systems.html?fbclid=IwAR2UOfz0a_2Ig60aQ2HszgZq63nch96Hbzod2q54kDZRZT_mPzdsxJXyPj0)"
      ]
    },
    {
      "metadata": {
        "id": "6b5gVXpEajV7",
        "colab_type": "code",
        "colab": {}
      },
      "cell_type": "code",
      "source": [
        "def mean_average_precision(y_test,y_pred,k):\n",
        "  if(k < y_pred.shape[1]):\n",
        "    print('error k')\n",
        "    return\n",
        "  if(  y_test.shape[1] != y_pred.shape[1]):\n",
        "    print('error number of data')\n",
        "    return\n",
        "  \n",
        "  preci_k = np.zeros((y_pred.shape[0],k))\n",
        "  for i in np.arange(y_pred.shape[0]):\n",
        "    for j in np.arange(k):\n",
        "      num_precision = j + 1\n",
        "      count_at_k = np.sum(y_pred[i,0:num_precision].isin(y_test[i,:]))\n",
        "      preci_k[i,j] = count_at_k/num_precision\n",
        "  \n",
        "  return np.mean(preci_k, axis=1)\n",
        "      "
      ],
      "execution_count": 0,
      "outputs": []
    },
    {
      "metadata": {
        "id": "UZeUDOowFdB1",
        "colab_type": "text"
      },
      "cell_type": "markdown",
      "source": [
        "------\n",
        "------\n",
        "-----------\n",
        "-----------"
      ]
    },
    {
      "metadata": {
        "id": "db8fEuk4fhTe",
        "colab_type": "text"
      },
      "cell_type": "markdown",
      "source": [
        "# K-mean\n",
        "\n"
      ]
    },
    {
      "metadata": {
        "id": "KT8J0BYr1Vc8",
        "colab_type": "text"
      },
      "cell_type": "markdown",
      "source": [
        "การ ที่เราทำ k-mean นั้น จะขึ้นกับระยะห่างที่เราตั้งขึ้นมา ดังนั้น feature ที่มาค่า conv ที่สูงนั้นจะส่งผลต่อการคำนวนมากเพราะ ค่าของ feature มากกว่า feature อื่นๆมากเกินไป ดังนั้น ก่อนที่เราจะ ใช้ k mean เราจพเป็นต้อง normalize  feature ของเราทั้งหมดก่อน"
      ]
    },
    {
      "metadata": {
        "id": "jakfsr5K3Hdq",
        "colab_type": "text"
      },
      "cell_type": "markdown",
      "source": [
        "ทดลองทำ k-mean โดยใช้ข้อมูล ของ ทำแหน่งที่ตั้ง ราคา และ facility ต่างเป็น feature"
      ]
    },
    {
      "metadata": {
        "id": "dB8O8mef-IOm",
        "colab_type": "code",
        "outputId": "0ca11465-0a63-48ac-83a8-0fbdc01f096f",
        "colab": {
          "base_uri": "https://localhost:8080/",
          "height": 34
        }
      },
      "cell_type": "code",
      "source": [
        "project_main_np_data  = np.hstack((np.array(project_main[[\"lat\",\"lon\",\"starting_price\"]].values) , np.array(project_facility_table.values)))    \n",
        "project_main_np_data_nor,project_main_np_data_min,project_main_np_data_max  = normalize(project_main_np_data)\n",
        "print(np.count_nonzero(np.isnan(project_main_np_data_nor)))\n"
      ],
      "execution_count": 0,
      "outputs": [
        {
          "output_type": "stream",
          "text": [
            "0\n"
          ],
          "name": "stdout"
        }
      ]
    },
    {
      "metadata": {
        "id": "PowXN3WC3wm4",
        "colab_type": "text"
      },
      "cell_type": "markdown",
      "source": [
        "แสดงผลลัพธ์การ รัน k mean ออกมา\n",
        "\n",
        "[K-mean example](https://scikit-learn.org/stable/auto_examples/cluster/plot_cluster_iris.html)"
      ]
    },
    {
      "metadata": {
        "id": "RukG4mI7do-I",
        "colab_type": "code",
        "outputId": "6a323dc0-478b-46f2-d6c2-f150af3b76e9",
        "colab": {
          "base_uri": "https://localhost:8080/",
          "height": 677
        }
      },
      "cell_type": "code",
      "source": [
        "plt.plot(project_main_np_data[:,0], project_main_np_data[:,1], 'r^')\n",
        "plt.show()\n",
        "##\n",
        "from sklearn.cluster import KMeans\n",
        "kmean_result =  KMeans(n_clusters=8).fit(project_main_np_data_nor)\n",
        "kmean_result.fit(project_main_np_data)\n",
        "# print(kmean_result.labels_)\n",
        "### k-mean \n",
        "colors = ['bo', 'go', 'ro', 'co', 'mo', 'yo', 'ko', 'wo']\n",
        "for i in np.arange(project_main_np_data.shape[0]):\n",
        "  plt.plot(project_main_np_data[i,0], project_main_np_data[i,1], colors[kmean_result.labels_[i]])\n",
        "plt.show()\n",
        "\n",
        "##\n"
      ],
      "execution_count": 0,
      "outputs": [
        {
          "output_type": "display_data",
          "data": {
            "image/png": "[encoded data removed]",
            "text/plain": [
              "<Figure size 576x396 with 1 Axes>"
            ]
          },
          "metadata": {
            "tags": []
          }
        },
        {
          "output_type": "display_data",
          "data": {
            "image/png": "[encoded data removed]",
            "text/plain": [
              "<Figure size 576x396 with 1 Axes>"
            ]
          },
          "metadata": {
            "tags": []
          }
        }
      ]
    },
    {
      "metadata": {
        "id": "LCiCLdDd1S30",
        "colab_type": "text"
      },
      "cell_type": "markdown",
      "source": [
        "แสดงความคิดเห็นกับข้อมูลที่ visual ออกมา\n"
      ]
    },
    {
      "metadata": {
        "id": "dfAFzgXx3ihs",
        "colab_type": "code",
        "outputId": "aaa131d1-559b-4965-f960-77cd72789999",
        "colab": {
          "base_uri": "https://localhost:8080/",
          "height": 386
        }
      },
      "cell_type": "code",
      "source": [
        "freq_user_seen_proj = pd.crosstab(userLog['project_id'], userLog['userCode'], rownames=['project_id'], colnames=['userCode'])\n",
        "freq_user_seen_proj_np = np.array(freq_user_seen_proj.values)\n",
        "\n",
        "#print(freq_user_seen_proj_np.shape)\n",
        "print(freq_user_seen_proj.shape)\n",
        "freq_user_seen_proj.head()\n"
      ],
      "execution_count": 0,
      "outputs": [
        {
          "output_type": "stream",
          "text": [
            "92.44027819776232\n",
            "3.0\n",
            "(600, 15182)\n"
          ],
          "name": "stdout"
        },
        {
          "output_type": "execute_result",
          "data": {
            "text/html": [
              "<div>\n",
              "<style scoped>\n",
              "    .dataframe tbody tr th:only-of-type {\n",
              "        vertical-align: middle;\n",
              "    }\n",
              "\n",
              "    .dataframe tbody tr th {\n",
              "        vertical-align: top;\n",
              "    }\n",
              "\n",
              "    .dataframe thead th {\n",
              "        text-align: right;\n",
              "    }\n",
              "</style>\n",
              "<table border=\"1\" class=\"dataframe\">\n",
              "  <thead>\n",
              "    <tr style=\"text-align: right;\">\n",
              "      <th>userCode</th>\n",
              "      <th>a20cfd3f-597b-94ce-0d58-8ca59fda4820</th>\n",
              "      <th>2085d83d-d733-fb68-92f3-b36786d3e99a</th>\n",
              "      <th>1b1deef3-7bc2-2141-0866-32addfab4d2b</th>\n",
              "      <th>b4e17949-0764-53b9-f5af-5cbfb2b48483</th>\n",
              "      <th>be2aa782-0c8a-6bdb-420d-5fd4b15e44f8</th>\n",
              "      <th>dbce43b6-7e06-0213-0e5d-9f1b710265bd</th>\n",
              "      <th>f29e12d1-6a8a-88b0-8b77-d027f12818a3</th>\n",
              "      <th>91f242ef-08ee-d236-22fc-d269ea3af75e</th>\n",
              "      <th>74c1608b-bb39-85c4-f762-3d59ace9cedc</th>\n",
              "      <th>a7cdadc7-6669-dab1-8041-8d9321210011</th>\n",
              "      <th>...</th>\n",
              "      <th>6e32b62b-06b9-dbf8-d852-b5801dc93168</th>\n",
              "      <th>eb0317ce-ecc1-7676-f16f-3deb15325a22</th>\n",
              "      <th>427d8237-3945-35e3-0cb5-092ea1da71e4</th>\n",
              "      <th>958cbd5f-f7ce-02ec-7b53-604d5daf686c</th>\n",
              "      <th>e10c2953-f971-2318-4f8c-f5981cbe7f75</th>\n",
              "      <th>c2aa2d2c-a6e3-560a-0d72-21386e0b3787</th>\n",
              "      <th>cf3669c1-b0d6-2523-78e4-bb4b162e7b61</th>\n",
              "      <th>cd4abc94-a80f-3516-35a5-42f2937a6601</th>\n",
              "      <th>68f2077e-c838-8494-0013-7a7ceadce56a</th>\n",
              "      <th>86836864-4288-48f6-5d79-7934972f2b11</th>\n",
              "    </tr>\n",
              "    <tr>\n",
              "      <th>project_id</th>\n",
              "      <th></th>\n",
              "      <th></th>\n",
              "      <th></th>\n",
              "      <th></th>\n",
              "      <th></th>\n",
              "      <th></th>\n",
              "      <th></th>\n",
              "      <th></th>\n",
              "      <th></th>\n",
              "      <th></th>\n",
              "      <th></th>\n",
              "      <th></th>\n",
              "      <th></th>\n",
              "      <th></th>\n",
              "      <th></th>\n",
              "      <th></th>\n",
              "      <th></th>\n",
              "      <th></th>\n",
              "      <th></th>\n",
              "      <th></th>\n",
              "      <th></th>\n",
              "    </tr>\n",
              "  </thead>\n",
              "  <tbody>\n",
              "    <tr>\n",
              "      <th>44</th>\n",
              "      <td>0</td>\n",
              "      <td>0</td>\n",
              "      <td>0</td>\n",
              "      <td>0</td>\n",
              "      <td>0</td>\n",
              "      <td>0</td>\n",
              "      <td>0</td>\n",
              "      <td>0</td>\n",
              "      <td>0</td>\n",
              "      <td>0</td>\n",
              "      <td>...</td>\n",
              "      <td>0</td>\n",
              "      <td>0</td>\n",
              "      <td>0</td>\n",
              "      <td>0</td>\n",
              "      <td>0</td>\n",
              "      <td>0</td>\n",
              "      <td>0</td>\n",
              "      <td>0</td>\n",
              "      <td>0</td>\n",
              "      <td>0</td>\n",
              "    </tr>\n",
              "    <tr>\n",
              "      <th>228</th>\n",
              "      <td>0</td>\n",
              "      <td>0</td>\n",
              "      <td>0</td>\n",
              "      <td>0</td>\n",
              "      <td>0</td>\n",
              "      <td>0</td>\n",
              "      <td>0</td>\n",
              "      <td>0</td>\n",
              "      <td>0</td>\n",
              "      <td>0</td>\n",
              "      <td>...</td>\n",
              "      <td>0</td>\n",
              "      <td>0</td>\n",
              "      <td>0</td>\n",
              "      <td>0</td>\n",
              "      <td>0</td>\n",
              "      <td>0</td>\n",
              "      <td>0</td>\n",
              "      <td>0</td>\n",
              "      <td>0</td>\n",
              "      <td>0</td>\n",
              "    </tr>\n",
              "    <tr>\n",
              "      <th>234</th>\n",
              "      <td>0</td>\n",
              "      <td>0</td>\n",
              "      <td>0</td>\n",
              "      <td>0</td>\n",
              "      <td>0</td>\n",
              "      <td>0</td>\n",
              "      <td>0</td>\n",
              "      <td>0</td>\n",
              "      <td>0</td>\n",
              "      <td>0</td>\n",
              "      <td>...</td>\n",
              "      <td>0</td>\n",
              "      <td>0</td>\n",
              "      <td>0</td>\n",
              "      <td>0</td>\n",
              "      <td>0</td>\n",
              "      <td>0</td>\n",
              "      <td>0</td>\n",
              "      <td>0</td>\n",
              "      <td>0</td>\n",
              "      <td>0</td>\n",
              "    </tr>\n",
              "    <tr>\n",
              "      <th>235</th>\n",
              "      <td>0</td>\n",
              "      <td>0</td>\n",
              "      <td>0</td>\n",
              "      <td>0</td>\n",
              "      <td>0</td>\n",
              "      <td>0</td>\n",
              "      <td>0</td>\n",
              "      <td>0</td>\n",
              "      <td>0</td>\n",
              "      <td>0</td>\n",
              "      <td>...</td>\n",
              "      <td>0</td>\n",
              "      <td>0</td>\n",
              "      <td>0</td>\n",
              "      <td>0</td>\n",
              "      <td>0</td>\n",
              "      <td>0</td>\n",
              "      <td>0</td>\n",
              "      <td>0</td>\n",
              "      <td>0</td>\n",
              "      <td>0</td>\n",
              "    </tr>\n",
              "    <tr>\n",
              "      <th>253</th>\n",
              "      <td>0</td>\n",
              "      <td>0</td>\n",
              "      <td>0</td>\n",
              "      <td>0</td>\n",
              "      <td>0</td>\n",
              "      <td>0</td>\n",
              "      <td>0</td>\n",
              "      <td>0</td>\n",
              "      <td>0</td>\n",
              "      <td>0</td>\n",
              "      <td>...</td>\n",
              "      <td>0</td>\n",
              "      <td>0</td>\n",
              "      <td>0</td>\n",
              "      <td>0</td>\n",
              "      <td>0</td>\n",
              "      <td>0</td>\n",
              "      <td>0</td>\n",
              "      <td>0</td>\n",
              "      <td>0</td>\n",
              "      <td>0</td>\n",
              "    </tr>\n",
              "  </tbody>\n",
              "</table>\n",
              "<p>5 rows × 15182 columns</p>\n",
              "</div>"
            ],
            "text/plain": [
              "userCode    a20cfd3f-597b-94ce-0d58-8ca59fda4820  \\\n",
              "project_id                                         \n",
              "44                                             0   \n",
              "228                                            0   \n",
              "234                                            0   \n",
              "235                                            0   \n",
              "253                                            0   \n",
              "\n",
              "userCode    2085d83d-d733-fb68-92f3-b36786d3e99a  \\\n",
              "project_id                                         \n",
              "44                                             0   \n",
              "228                                            0   \n",
              "234                                            0   \n",
              "235                                            0   \n",
              "253                                            0   \n",
              "\n",
              "userCode    1b1deef3-7bc2-2141-0866-32addfab4d2b  \\\n",
              "project_id                                         \n",
              "44                                             0   \n",
              "228                                            0   \n",
              "234                                            0   \n",
              "235                                            0   \n",
              "253                                            0   \n",
              "\n",
              "userCode    b4e17949-0764-53b9-f5af-5cbfb2b48483  \\\n",
              "project_id                                         \n",
              "44                                             0   \n",
              "228                                            0   \n",
              "234                                            0   \n",
              "235                                            0   \n",
              "253                                            0   \n",
              "\n",
              "userCode    be2aa782-0c8a-6bdb-420d-5fd4b15e44f8  \\\n",
              "project_id                                         \n",
              "44                                             0   \n",
              "228                                            0   \n",
              "234                                            0   \n",
              "235                                            0   \n",
              "253                                            0   \n",
              "\n",
              "userCode    dbce43b6-7e06-0213-0e5d-9f1b710265bd  \\\n",
              "project_id                                         \n",
              "44                                             0   \n",
              "228                                            0   \n",
              "234                                            0   \n",
              "235                                            0   \n",
              "253                                            0   \n",
              "\n",
              "userCode    f29e12d1-6a8a-88b0-8b77-d027f12818a3  \\\n",
              "project_id                                         \n",
              "44                                             0   \n",
              "228                                            0   \n",
              "234                                            0   \n",
              "235                                            0   \n",
              "253                                            0   \n",
              "\n",
              "userCode    91f242ef-08ee-d236-22fc-d269ea3af75e  \\\n",
              "project_id                                         \n",
              "44                                             0   \n",
              "228                                            0   \n",
              "234                                            0   \n",
              "235                                            0   \n",
              "253                                            0   \n",
              "\n",
              "userCode    74c1608b-bb39-85c4-f762-3d59ace9cedc  \\\n",
              "project_id                                         \n",
              "44                                             0   \n",
              "228                                            0   \n",
              "234                                            0   \n",
              "235                                            0   \n",
              "253                                            0   \n",
              "\n",
              "userCode    a7cdadc7-6669-dab1-8041-8d9321210011  \\\n",
              "project_id                                         \n",
              "44                                             0   \n",
              "228                                            0   \n",
              "234                                            0   \n",
              "235                                            0   \n",
              "253                                            0   \n",
              "\n",
              "userCode                    ...                   \\\n",
              "project_id                  ...                    \n",
              "44                          ...                    \n",
              "228                         ...                    \n",
              "234                         ...                    \n",
              "235                         ...                    \n",
              "253                         ...                    \n",
              "\n",
              "userCode    6e32b62b-06b9-dbf8-d852-b5801dc93168  \\\n",
              "project_id                                         \n",
              "44                                             0   \n",
              "228                                            0   \n",
              "234                                            0   \n",
              "235                                            0   \n",
              "253                                            0   \n",
              "\n",
              "userCode    eb0317ce-ecc1-7676-f16f-3deb15325a22  \\\n",
              "project_id                                         \n",
              "44                                             0   \n",
              "228                                            0   \n",
              "234                                            0   \n",
              "235                                            0   \n",
              "253                                            0   \n",
              "\n",
              "userCode    427d8237-3945-35e3-0cb5-092ea1da71e4  \\\n",
              "project_id                                         \n",
              "44                                             0   \n",
              "228                                            0   \n",
              "234                                            0   \n",
              "235                                            0   \n",
              "253                                            0   \n",
              "\n",
              "userCode    958cbd5f-f7ce-02ec-7b53-604d5daf686c  \\\n",
              "project_id                                         \n",
              "44                                             0   \n",
              "228                                            0   \n",
              "234                                            0   \n",
              "235                                            0   \n",
              "253                                            0   \n",
              "\n",
              "userCode    e10c2953-f971-2318-4f8c-f5981cbe7f75  \\\n",
              "project_id                                         \n",
              "44                                             0   \n",
              "228                                            0   \n",
              "234                                            0   \n",
              "235                                            0   \n",
              "253                                            0   \n",
              "\n",
              "userCode    c2aa2d2c-a6e3-560a-0d72-21386e0b3787  \\\n",
              "project_id                                         \n",
              "44                                             0   \n",
              "228                                            0   \n",
              "234                                            0   \n",
              "235                                            0   \n",
              "253                                            0   \n",
              "\n",
              "userCode    cf3669c1-b0d6-2523-78e4-bb4b162e7b61  \\\n",
              "project_id                                         \n",
              "44                                             0   \n",
              "228                                            0   \n",
              "234                                            0   \n",
              "235                                            0   \n",
              "253                                            0   \n",
              "\n",
              "userCode    cd4abc94-a80f-3516-35a5-42f2937a6601  \\\n",
              "project_id                                         \n",
              "44                                             0   \n",
              "228                                            0   \n",
              "234                                            0   \n",
              "235                                            0   \n",
              "253                                            0   \n",
              "\n",
              "userCode    68f2077e-c838-8494-0013-7a7ceadce56a  \\\n",
              "project_id                                         \n",
              "44                                             0   \n",
              "228                                            0   \n",
              "234                                            0   \n",
              "235                                            0   \n",
              "253                                            0   \n",
              "\n",
              "userCode    86836864-4288-48f6-5d79-7934972f2b11  \n",
              "project_id                                        \n",
              "44                                             0  \n",
              "228                                            0  \n",
              "234                                            0  \n",
              "235                                            0  \n",
              "253                                            0  \n",
              "\n",
              "[5 rows x 15182 columns]"
            ]
          },
          "metadata": {
            "tags": []
          },
          "execution_count": 32
        }
      ]
    },
    {
      "metadata": {
        "id": "FzoPsAwN6ddE",
        "colab_type": "code",
        "outputId": "cce895f9-f58c-4bc6-da85-61a533afc291",
        "colab": {
          "base_uri": "https://localhost:8080/",
          "height": 34
        }
      },
      "cell_type": "code",
      "source": [
        ""
      ],
      "execution_count": 0,
      "outputs": [
        {
          "output_type": "stream",
          "text": [
            "Index([], dtype='object')\n"
          ],
          "name": "stdout"
        }
      ]
    },
    {
      "metadata": {
        "id": "LoDSQAgG3ugE",
        "colab_type": "code",
        "outputId": "ac7095dd-e586-4845-c0dc-789d0cd666b2",
        "colab": {
          "base_uri": "https://localhost:8080/",
          "height": 347
        }
      },
      "cell_type": "code",
      "source": [
        "kmean_result =  KMeans(n_clusters=8).fit(freq_user_seen_proj_np)\n",
        "# kmean_result.fit(project_main_np_data)\n",
        "# print(kmean_result.labels_)\n",
        "### k-mean \n",
        "colors = ['bo', 'go', 'ro', 'co', 'mo', 'yo', 'ko', 'wo']\n",
        "for i in np.arange(project_main_np_data.shape[0]):\n",
        "  plt.plot(project_main_np_data[i,0], project_main_np_data[i,1], colors[kmean_result.labels_[i]])\n",
        "plt.show()"
      ],
      "execution_count": 0,
      "outputs": [
        {
          "output_type": "display_data",
          "data": {
            "image/png": "[encoded data removed]",
            "text/plain": [
              "<Figure size 576x396 with 1 Axes>"
            ]
          },
          "metadata": {
            "tags": []
          }
        }
      ]
    }
  ]
}